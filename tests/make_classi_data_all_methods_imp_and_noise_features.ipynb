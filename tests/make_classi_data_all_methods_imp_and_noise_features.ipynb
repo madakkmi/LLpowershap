{
 "cells": [
  {
   "cell_type": "markdown",
   "id": "98f05279-b40b-49bd-b31e-bfecfd08ee41",
   "metadata": {},
   "source": [
    "# Benchmarking on simulated binary classification data generated using sklearn's make_classification\n",
    "\n",
    "## Overview\n",
    "This notebook displays the percentage of informative features captured as well as noise output by each of the six feature selection methods tested (LLpowershap, powershap, BorutaShap, shapicant, Chi² squared and F test).\n",
    "\n",
    "Adapted from the notebook by the authors of the Powershap python package available at https://github.com/predict-idlab/powershap\n",
    "\n",
    "Orignal Notebook: https://github.com/predict-idlab/powershap/blob/main/examples/Benchmark_datasets.ipynb\n",
    "\n",
    "\n",
    "\n",
    "## Dataset Information\n",
    "- Simulated datasets of sample sizes 5000 and 10000\n",
    "\n",
    "\n",
    "## Notes\n",
    "- None\n"
   ]
  },
  {
   "cell_type": "code",
   "execution_count": 10,
   "id": "1b9330e8-406c-49bc-832e-5ded627e1673",
   "metadata": {},
   "outputs": [
    {
     "name": "stdout",
     "output_type": "stream",
     "text": [
      "The autoreload extension is already loaded. To reload it, use:\n",
      "  %reload_ext autoreload\n"
     ]
    }
   ],
   "source": [
    "%load_ext autoreload\n",
    "%autoreload 2\n",
    "\n",
    "import warnings\n",
    "warnings.filterwarnings('ignore')\n",
    "\n",
    "import pandas as pd\n",
    "import numpy as np\n",
    "import shap\n",
    "from sklearn.datasets import make_classification\n",
    "from sklearn.model_selection import train_test_split\n",
    "import sys\n",
    "import time\n",
    "\n",
    "from powershap import PowerShap\n",
    "from xgboost import XGBClassifier\n",
    "from catboost import CatBoostClassifier\n",
    "\n",
    "\n",
    "def benchmark_dict_print(output_dict):\n",
    "    for key in output_dict:\n",
    "        #samples\n",
    "        print(key+\": \")\n",
    "        for key_inner in output_dict[key]:\n",
    "            #features\n",
    "            print(key_inner+\": \")\n",
    "            \n",
    "            #per informative\n",
    "            time_str = \"\"\n",
    "            \n",
    "            i = 0\n",
    "            for avg_time in output_dict[key][key_inner][\"Average time\"]:\n",
    "                \n",
    "                i = i+1\n",
    "                \n",
    "                if i ==len(output_dict[key][key_inner][\"Average time\"]):\n",
    "                    time_str = time_str + str(avg_time)+\"s | \"\n",
    "                else:\n",
    "                    time_str = time_str + str(avg_time)+\"s - \"\n",
    "                  \n",
    "            key_strs = \"\"\n",
    "            for key_inner_inner in output_dict[key][key_inner]: \n",
    "                if key_inner_inner != 'Average time':\n",
    "                    key_strs = key_strs + str(output_dict[key][key_inner][key_inner_inner][\"found_informative_features\"]) + \" (\"+str(output_dict[key][key_inner][key_inner_inner][\"outputted_noise_features\"])+\") / \"+str(output_dict[key][key_inner][key_inner_inner][\"informative_features\"]) + \" | \"\n",
    "                \n",
    "            print(time_str+key_strs)\n",
    "                 \n",
    "\n",
    "def output_dict_to_df(output_dict):\n",
    "    df = pd.DataFrame(columns=[\"n_samples\",\"total_features\",\"informative_features\",\"time\",\"seed\",\"found_informative_features\",\"outputted_noise_features\"])\n",
    "    for samples in output_dict.keys():\n",
    "        for features in output_dict[samples].keys():\n",
    "            i = 0\n",
    "            for informative in output_dict[samples][features].keys():\n",
    "                if informative != 'Average time':\n",
    "                    temp = pd.DataFrame.from_dict(output_dict[samples][features][informative])\n",
    "                    temp[\"n_samples\"]=int(samples)\n",
    "                    temp[\"total_features\"]=int(features)\n",
    "                    temp = temp.reset_index()\n",
    "                    temp = temp.rename(columns={\"index\":\"seed\"})\n",
    "                    temp[\"time\"]=output_dict[samples][features]['Average time'][i]\n",
    "                    i = i+1\n",
    "                    df = pd.concat([df,temp]) \n",
    "\n",
    "    return df"
   ]
  },
  {
   "cell_type": "markdown",
   "id": "087d005e-4121-4854-8345-0ef2398d3ffb",
   "metadata": {},
   "source": [
    "# Benchmarking"
   ]
  },
  {
   "cell_type": "code",
   "execution_count": 12,
   "id": "f42e0eea-6c90-442d-9e0c-5313c5ea6e56",
   "metadata": {},
   "outputs": [],
   "source": [
    "sub = 'xgb_250_git' # folder"
   ]
  },
  {
   "cell_type": "markdown",
   "id": "2683ddf7-b832-420b-b862-d643d9a81c1b",
   "metadata": {},
   "source": [
    "## LLpowershap"
   ]
  },
  {
   "cell_type": "code",
   "execution_count": 13,
   "id": "15b25be9-856d-4060-a088-08b24ff82155",
   "metadata": {},
   "outputs": [
    {
     "name": "stdout",
     "output_type": "stream",
     "text": [
      "Amount of samples = 5000\n",
      "Total used features = 20\n",
      "Informative features: 1 (3%)\n",
      "\n",
      "Seed 0\n"
     ]
    },
    {
     "data": {
      "application/vnd.jupyter.widget-view+json": {
       "model_id": "7f39ead108c24af29628b37642d36ad3",
       "version_major": 2,
       "version_minor": 0
      },
      "text/plain": [
       "  0%|          | 0/20 [00:00<?, ?it/s]"
      ]
     },
     "metadata": {},
     "output_type": "display_data"
    },
    {
     "name": "stdout",
     "output_type": "stream",
     "text": [
      "--------------------------------------------------\n",
      "Seed 1\n"
     ]
    },
    {
     "data": {
      "application/vnd.jupyter.widget-view+json": {
       "model_id": "e63d27e525b2488b8ee5959f267bbc5d",
       "version_major": 2,
       "version_minor": 0
      },
      "text/plain": [
       "  0%|          | 0/20 [00:00<?, ?it/s]"
      ]
     },
     "metadata": {},
     "output_type": "display_data"
    },
    {
     "name": "stdout",
     "output_type": "stream",
     "text": [
      "--------------------------------------------------\n",
      "Seed 2\n"
     ]
    },
    {
     "data": {
      "application/vnd.jupyter.widget-view+json": {
       "model_id": "d2dc3ae6dad04b96ab0292e4d38c8528",
       "version_major": 2,
       "version_minor": 0
      },
      "text/plain": [
       "  0%|          | 0/20 [00:00<?, ?it/s]"
      ]
     },
     "metadata": {},
     "output_type": "display_data"
    },
    {
     "name": "stdout",
     "output_type": "stream",
     "text": [
      "--------------------------------------------------\n",
      "Seed 3\n"
     ]
    },
    {
     "data": {
      "application/vnd.jupyter.widget-view+json": {
       "model_id": "e065b962e34640cc8fce90d50c39008c",
       "version_major": 2,
       "version_minor": 0
      },
      "text/plain": [
       "  0%|          | 0/20 [00:00<?, ?it/s]"
      ]
     },
     "metadata": {},
     "output_type": "display_data"
    },
    {
     "name": "stdout",
     "output_type": "stream",
     "text": [
      "--------------------------------------------------\n",
      "Seed 4\n"
     ]
    },
    {
     "data": {
      "application/vnd.jupyter.widget-view+json": {
       "model_id": "9feb53a6aa1d4375ab5091d07a14f4e2",
       "version_major": 2,
       "version_minor": 0
      },
      "text/plain": [
       "  0%|          | 0/20 [00:00<?, ?it/s]"
      ]
     },
     "metadata": {},
     "output_type": "display_data"
    },
    {
     "name": "stdout",
     "output_type": "stream",
     "text": [
      "--------------------------------------------------\n",
      "Average time: 10.12 seconds\n",
      "Found features: [1, 1, 1, 1, 1]\n",
      "Found 1.0 of 1 informative features\n",
      "0.0 of 1.0 outputted powershap features are noise features\n",
      "====================================================================================================\n",
      "Amount of samples = 5000\n",
      "Total used features = 20\n",
      "Informative features: 2 (10%)\n",
      "\n",
      "Seed 0\n"
     ]
    },
    {
     "data": {
      "application/vnd.jupyter.widget-view+json": {
       "model_id": "a2fd3ded1f584fa79eab0d3635faefc9",
       "version_major": 2,
       "version_minor": 0
      },
      "text/plain": [
       "  0%|          | 0/20 [00:00<?, ?it/s]"
      ]
     },
     "metadata": {},
     "output_type": "display_data"
    },
    {
     "name": "stdout",
     "output_type": "stream",
     "text": [
      "--------------------------------------------------\n",
      "Seed 1\n"
     ]
    },
    {
     "data": {
      "application/vnd.jupyter.widget-view+json": {
       "model_id": "fac5cdad0c684303a30138e18fce919a",
       "version_major": 2,
       "version_minor": 0
      },
      "text/plain": [
       "  0%|          | 0/20 [00:00<?, ?it/s]"
      ]
     },
     "metadata": {},
     "output_type": "display_data"
    },
    {
     "name": "stdout",
     "output_type": "stream",
     "text": [
      "--------------------------------------------------\n",
      "Seed 2\n"
     ]
    },
    {
     "data": {
      "application/vnd.jupyter.widget-view+json": {
       "model_id": "1700e16d4628450f9fb61eeb05a1efe9",
       "version_major": 2,
       "version_minor": 0
      },
      "text/plain": [
       "  0%|          | 0/20 [00:00<?, ?it/s]"
      ]
     },
     "metadata": {},
     "output_type": "display_data"
    },
    {
     "name": "stdout",
     "output_type": "stream",
     "text": [
      "--------------------------------------------------\n",
      "Seed 3\n"
     ]
    },
    {
     "data": {
      "application/vnd.jupyter.widget-view+json": {
       "model_id": "39bb4737c0e54c8688a56d1fb5918838",
       "version_major": 2,
       "version_minor": 0
      },
      "text/plain": [
       "  0%|          | 0/20 [00:00<?, ?it/s]"
      ]
     },
     "metadata": {},
     "output_type": "display_data"
    },
    {
     "name": "stdout",
     "output_type": "stream",
     "text": [
      "--------------------------------------------------\n",
      "Seed 4\n"
     ]
    },
    {
     "data": {
      "application/vnd.jupyter.widget-view+json": {
       "model_id": "d5b6e0ca85a04dbcb1f49fa0c0c9228d",
       "version_major": 2,
       "version_minor": 0
      },
      "text/plain": [
       "  0%|          | 0/20 [00:00<?, ?it/s]"
      ]
     },
     "metadata": {},
     "output_type": "display_data"
    },
    {
     "name": "stdout",
     "output_type": "stream",
     "text": [
      "--------------------------------------------------\n",
      "Average time: 12.27 seconds\n",
      "Found features: [2, 2, 2, 2, 2]\n",
      "Found 2.0 of 2 informative features\n",
      "0.0 of 2.0 outputted powershap features are noise features\n",
      "====================================================================================================\n",
      "Amount of samples = 5000\n",
      "Total used features = 20\n",
      "Informative features: 6 (33%)\n",
      "\n",
      "Seed 0\n"
     ]
    },
    {
     "data": {
      "application/vnd.jupyter.widget-view+json": {
       "model_id": "5f1b045a8c7e4aa58b10058a9fb93da5",
       "version_major": 2,
       "version_minor": 0
      },
      "text/plain": [
       "  0%|          | 0/20 [00:00<?, ?it/s]"
      ]
     },
     "metadata": {},
     "output_type": "display_data"
    },
    {
     "name": "stdout",
     "output_type": "stream",
     "text": [
      "--------------------------------------------------\n",
      "Seed 1\n"
     ]
    },
    {
     "data": {
      "application/vnd.jupyter.widget-view+json": {
       "model_id": "fe3187506d2249f1a5066dd10cfb5304",
       "version_major": 2,
       "version_minor": 0
      },
      "text/plain": [
       "  0%|          | 0/20 [00:00<?, ?it/s]"
      ]
     },
     "metadata": {},
     "output_type": "display_data"
    },
    {
     "name": "stdout",
     "output_type": "stream",
     "text": [
      "--------------------------------------------------\n",
      "Seed 2\n"
     ]
    },
    {
     "data": {
      "application/vnd.jupyter.widget-view+json": {
       "model_id": "0f69faa387db49319731d4bf4ad2c9ae",
       "version_major": 2,
       "version_minor": 0
      },
      "text/plain": [
       "  0%|          | 0/20 [00:00<?, ?it/s]"
      ]
     },
     "metadata": {},
     "output_type": "display_data"
    },
    {
     "name": "stdout",
     "output_type": "stream",
     "text": [
      "--------------------------------------------------\n",
      "Seed 3\n"
     ]
    },
    {
     "data": {
      "application/vnd.jupyter.widget-view+json": {
       "model_id": "5c3b49ccd0a147c68ca273e1f68abc25",
       "version_major": 2,
       "version_minor": 0
      },
      "text/plain": [
       "  0%|          | 0/20 [00:00<?, ?it/s]"
      ]
     },
     "metadata": {},
     "output_type": "display_data"
    },
    {
     "name": "stdout",
     "output_type": "stream",
     "text": [
      "--------------------------------------------------\n",
      "Seed 4\n"
     ]
    },
    {
     "data": {
      "application/vnd.jupyter.widget-view+json": {
       "model_id": "e20cf7551a43480fbb3d9e8a6d32ff86",
       "version_major": 2,
       "version_minor": 0
      },
      "text/plain": [
       "  0%|          | 0/20 [00:00<?, ?it/s]"
      ]
     },
     "metadata": {},
     "output_type": "display_data"
    },
    {
     "name": "stdout",
     "output_type": "stream",
     "text": [
      "--------------------------------------------------\n",
      "Average time: 32.37 seconds\n",
      "Found features: [6, 6, 6, 6, 6]\n",
      "Found 6.0 of 6 informative features\n",
      "0.0 of 6.0 outputted powershap features are noise features\n",
      "====================================================================================================\n",
      "Amount of samples = 5000\n",
      "Total used features = 20\n",
      "Informative features: 10 (50%)\n",
      "\n",
      "Seed 0\n"
     ]
    },
    {
     "data": {
      "application/vnd.jupyter.widget-view+json": {
       "model_id": "7ae13dfea5c64f93b98549431cc1ead0",
       "version_major": 2,
       "version_minor": 0
      },
      "text/plain": [
       "  0%|          | 0/20 [00:00<?, ?it/s]"
      ]
     },
     "metadata": {},
     "output_type": "display_data"
    },
    {
     "name": "stdout",
     "output_type": "stream",
     "text": [
      "--------------------------------------------------\n",
      "Seed 1\n"
     ]
    },
    {
     "data": {
      "application/vnd.jupyter.widget-view+json": {
       "model_id": "8170ae279c714732afa0992944494f4a",
       "version_major": 2,
       "version_minor": 0
      },
      "text/plain": [
       "  0%|          | 0/20 [00:00<?, ?it/s]"
      ]
     },
     "metadata": {},
     "output_type": "display_data"
    },
    {
     "name": "stdout",
     "output_type": "stream",
     "text": [
      "--------------------------------------------------\n",
      "Seed 2\n"
     ]
    },
    {
     "data": {
      "application/vnd.jupyter.widget-view+json": {
       "model_id": "017327bb4e1345f28ebcf37d8f7af55f",
       "version_major": 2,
       "version_minor": 0
      },
      "text/plain": [
       "  0%|          | 0/20 [00:00<?, ?it/s]"
      ]
     },
     "metadata": {},
     "output_type": "display_data"
    },
    {
     "name": "stdout",
     "output_type": "stream",
     "text": [
      "--------------------------------------------------\n",
      "Seed 3\n"
     ]
    },
    {
     "data": {
      "application/vnd.jupyter.widget-view+json": {
       "model_id": "c38103ed696e47dabb893f0776754d70",
       "version_major": 2,
       "version_minor": 0
      },
      "text/plain": [
       "  0%|          | 0/20 [00:00<?, ?it/s]"
      ]
     },
     "metadata": {},
     "output_type": "display_data"
    },
    {
     "name": "stdout",
     "output_type": "stream",
     "text": [
      "--------------------------------------------------\n",
      "Seed 4\n"
     ]
    },
    {
     "data": {
      "application/vnd.jupyter.widget-view+json": {
       "model_id": "83e003d7041f4ecc94e5db1665c942bc",
       "version_major": 2,
       "version_minor": 0
      },
      "text/plain": [
       "  0%|          | 0/20 [00:00<?, ?it/s]"
      ]
     },
     "metadata": {},
     "output_type": "display_data"
    },
    {
     "name": "stdout",
     "output_type": "stream",
     "text": [
      "--------------------------------------------------\n",
      "Average time: 55.02 seconds\n",
      "Found features: [10, 10, 10, 10, 10]\n",
      "Found 10.0 of 10 informative features\n",
      "0.0 of 10.0 outputted powershap features are noise features\n",
      "====================================================================================================\n",
      "Amount of samples = 5000\n",
      "Total used features = 20\n",
      "Informative features: 18 (90%)\n",
      "\n",
      "Seed 0\n"
     ]
    },
    {
     "data": {
      "application/vnd.jupyter.widget-view+json": {
       "model_id": "68c9918a7423450da509a7d06447c9b3",
       "version_major": 2,
       "version_minor": 0
      },
      "text/plain": [
       "  0%|          | 0/20 [00:00<?, ?it/s]"
      ]
     },
     "metadata": {},
     "output_type": "display_data"
    },
    {
     "name": "stdout",
     "output_type": "stream",
     "text": [
      "--------------------------------------------------\n",
      "Seed 1\n"
     ]
    },
    {
     "data": {
      "application/vnd.jupyter.widget-view+json": {
       "model_id": "b56b92d1cd904180b261c0430ce191c3",
       "version_major": 2,
       "version_minor": 0
      },
      "text/plain": [
       "  0%|          | 0/20 [00:00<?, ?it/s]"
      ]
     },
     "metadata": {},
     "output_type": "display_data"
    },
    {
     "name": "stdout",
     "output_type": "stream",
     "text": [
      "--------------------------------------------------\n",
      "Seed 2\n"
     ]
    },
    {
     "data": {
      "application/vnd.jupyter.widget-view+json": {
       "model_id": "9cd6c920045043f4a47f60cdc1afcaef",
       "version_major": 2,
       "version_minor": 0
      },
      "text/plain": [
       "  0%|          | 0/20 [00:00<?, ?it/s]"
      ]
     },
     "metadata": {},
     "output_type": "display_data"
    },
    {
     "name": "stdout",
     "output_type": "stream",
     "text": [
      "--------------------------------------------------\n",
      "Seed 3\n"
     ]
    },
    {
     "data": {
      "application/vnd.jupyter.widget-view+json": {
       "model_id": "4110262df3c44097a8ed29e3fb180031",
       "version_major": 2,
       "version_minor": 0
      },
      "text/plain": [
       "  0%|          | 0/20 [00:00<?, ?it/s]"
      ]
     },
     "metadata": {},
     "output_type": "display_data"
    },
    {
     "name": "stdout",
     "output_type": "stream",
     "text": [
      "--------------------------------------------------\n",
      "Seed 4\n"
     ]
    },
    {
     "data": {
      "application/vnd.jupyter.widget-view+json": {
       "model_id": "a79b954624444c9495fad56d210f9d9b",
       "version_major": 2,
       "version_minor": 0
      },
      "text/plain": [
       "  0%|          | 0/20 [00:00<?, ?it/s]"
      ]
     },
     "metadata": {},
     "output_type": "display_data"
    },
    {
     "name": "stdout",
     "output_type": "stream",
     "text": [
      "--------------------------------------------------\n",
      "Average time: 80.44 seconds\n",
      "Found features: [18, 18, 18, 18, 18]\n",
      "Found 18.0 of 18 informative features\n",
      "0.0 of 18.0 outputted powershap features are noise features\n",
      "====================================================================================================\n",
      "5000: \n",
      "20: \n",
      "[10.52  9.55  8.5  12.78  9.23]s - [11.38 13.05 12.34 10.93 13.63]s - [28.58 29.18 40.91 34.34 28.85]s - [59.07 55.66 41.43 48.52 70.42]s - [89.58 82.32 77.96 72.24 80.08]s | [1, 1, 1, 1, 1] ([0, 0, 0, 0, 0]) / 1 | [2, 2, 2, 2, 2] ([0, 0, 0, 0, 0]) / 2 | [6, 6, 6, 6, 6] ([0, 0, 0, 0, 0]) / 6 | [10, 10, 10, 10, 10] ([0, 0, 0, 0, 0]) / 10 | [18, 18, 18, 18, 18] ([0, 0, 0, 0, 0]) / 18 | \n",
      "====================================================================================================\n",
      "Amount of samples = 5000\n",
      "Total used features = 100\n",
      "Informative features: 3 (3%)\n",
      "\n",
      "Seed 0\n"
     ]
    },
    {
     "data": {
      "application/vnd.jupyter.widget-view+json": {
       "model_id": "d71d426e36054e5fa0eb7b18ca9fe517",
       "version_major": 2,
       "version_minor": 0
      },
      "text/plain": [
       "  0%|          | 0/20 [00:00<?, ?it/s]"
      ]
     },
     "metadata": {},
     "output_type": "display_data"
    },
    {
     "name": "stdout",
     "output_type": "stream",
     "text": [
      "--------------------------------------------------\n",
      "Seed 1\n"
     ]
    },
    {
     "data": {
      "application/vnd.jupyter.widget-view+json": {
       "model_id": "1202d7dd8c4c408b854068f91fe982ed",
       "version_major": 2,
       "version_minor": 0
      },
      "text/plain": [
       "  0%|          | 0/20 [00:00<?, ?it/s]"
      ]
     },
     "metadata": {},
     "output_type": "display_data"
    },
    {
     "name": "stdout",
     "output_type": "stream",
     "text": [
      "--------------------------------------------------\n",
      "Seed 2\n"
     ]
    },
    {
     "data": {
      "application/vnd.jupyter.widget-view+json": {
       "model_id": "e2b28c8a5852497482ee38bba8423ecb",
       "version_major": 2,
       "version_minor": 0
      },
      "text/plain": [
       "  0%|          | 0/20 [00:00<?, ?it/s]"
      ]
     },
     "metadata": {},
     "output_type": "display_data"
    },
    {
     "name": "stdout",
     "output_type": "stream",
     "text": [
      "--------------------------------------------------\n",
      "Seed 3\n"
     ]
    },
    {
     "data": {
      "application/vnd.jupyter.widget-view+json": {
       "model_id": "f79d2f202e1140c09b93fadc01da9813",
       "version_major": 2,
       "version_minor": 0
      },
      "text/plain": [
       "  0%|          | 0/20 [00:00<?, ?it/s]"
      ]
     },
     "metadata": {},
     "output_type": "display_data"
    },
    {
     "name": "stdout",
     "output_type": "stream",
     "text": [
      "--------------------------------------------------\n",
      "Seed 4\n"
     ]
    },
    {
     "data": {
      "application/vnd.jupyter.widget-view+json": {
       "model_id": "b50fc0c1d4644e73a77180d29a871890",
       "version_major": 2,
       "version_minor": 0
      },
      "text/plain": [
       "  0%|          | 0/20 [00:00<?, ?it/s]"
      ]
     },
     "metadata": {},
     "output_type": "display_data"
    },
    {
     "name": "stdout",
     "output_type": "stream",
     "text": [
      "--------------------------------------------------\n",
      "Average time: 25.07 seconds\n",
      "Found features: [3, 3, 3, 3, 3]\n",
      "Found 3.0 of 3 informative features\n",
      "0.0 of 3.0 outputted powershap features are noise features\n",
      "====================================================================================================\n",
      "Amount of samples = 5000\n",
      "Total used features = 100\n",
      "Informative features: 10 (10%)\n",
      "\n",
      "Seed 0\n"
     ]
    },
    {
     "data": {
      "application/vnd.jupyter.widget-view+json": {
       "model_id": "543093e557ac4cda92c97b0c8c9bc05c",
       "version_major": 2,
       "version_minor": 0
      },
      "text/plain": [
       "  0%|          | 0/20 [00:00<?, ?it/s]"
      ]
     },
     "metadata": {},
     "output_type": "display_data"
    },
    {
     "name": "stdout",
     "output_type": "stream",
     "text": [
      "--------------------------------------------------\n",
      "Seed 1\n"
     ]
    },
    {
     "data": {
      "application/vnd.jupyter.widget-view+json": {
       "model_id": "297d419ca3f4465f906bf8ceb5d21668",
       "version_major": 2,
       "version_minor": 0
      },
      "text/plain": [
       "  0%|          | 0/20 [00:00<?, ?it/s]"
      ]
     },
     "metadata": {},
     "output_type": "display_data"
    },
    {
     "name": "stdout",
     "output_type": "stream",
     "text": [
      "--------------------------------------------------\n",
      "Seed 2\n"
     ]
    },
    {
     "data": {
      "application/vnd.jupyter.widget-view+json": {
       "model_id": "0557fdaa14b8404c8d14801b7840f09e",
       "version_major": 2,
       "version_minor": 0
      },
      "text/plain": [
       "  0%|          | 0/20 [00:00<?, ?it/s]"
      ]
     },
     "metadata": {},
     "output_type": "display_data"
    },
    {
     "name": "stdout",
     "output_type": "stream",
     "text": [
      "--------------------------------------------------\n",
      "Seed 3\n"
     ]
    },
    {
     "data": {
      "application/vnd.jupyter.widget-view+json": {
       "model_id": "97722d6121284c3abf59511ede02ac1d",
       "version_major": 2,
       "version_minor": 0
      },
      "text/plain": [
       "  0%|          | 0/20 [00:00<?, ?it/s]"
      ]
     },
     "metadata": {},
     "output_type": "display_data"
    },
    {
     "name": "stdout",
     "output_type": "stream",
     "text": [
      "--------------------------------------------------\n",
      "Seed 4\n"
     ]
    },
    {
     "data": {
      "application/vnd.jupyter.widget-view+json": {
       "model_id": "6bbf25c256aa42a9a08d2898ddb764c4",
       "version_major": 2,
       "version_minor": 0
      },
      "text/plain": [
       "  0%|          | 0/20 [00:00<?, ?it/s]"
      ]
     },
     "metadata": {},
     "output_type": "display_data"
    },
    {
     "name": "stdout",
     "output_type": "stream",
     "text": [
      "--------------------------------------------------\n",
      "Average time: 52.36 seconds\n",
      "Found features: [10, 10, 10, 10, 10]\n",
      "Found 10.0 of 10 informative features\n",
      "0.0 of 10.0 outputted powershap features are noise features\n",
      "====================================================================================================\n",
      "Amount of samples = 5000\n",
      "Total used features = 100\n",
      "Informative features: 33 (33%)\n",
      "\n",
      "Seed 0\n"
     ]
    },
    {
     "data": {
      "application/vnd.jupyter.widget-view+json": {
       "model_id": "da2e584099cc4ab7bbc0749ee26209d2",
       "version_major": 2,
       "version_minor": 0
      },
      "text/plain": [
       "  0%|          | 0/20 [00:00<?, ?it/s]"
      ]
     },
     "metadata": {},
     "output_type": "display_data"
    },
    {
     "name": "stdout",
     "output_type": "stream",
     "text": [
      "--------------------------------------------------\n",
      "Seed 1\n"
     ]
    },
    {
     "data": {
      "application/vnd.jupyter.widget-view+json": {
       "model_id": "fbe35d61c3e449ef89d660dfcf6a8f2f",
       "version_major": 2,
       "version_minor": 0
      },
      "text/plain": [
       "  0%|          | 0/20 [00:00<?, ?it/s]"
      ]
     },
     "metadata": {},
     "output_type": "display_data"
    },
    {
     "name": "stdout",
     "output_type": "stream",
     "text": [
      "--------------------------------------------------\n",
      "Seed 2\n"
     ]
    },
    {
     "data": {
      "application/vnd.jupyter.widget-view+json": {
       "model_id": "5bce0253d52641edb830a27a0574fc04",
       "version_major": 2,
       "version_minor": 0
      },
      "text/plain": [
       "  0%|          | 0/20 [00:00<?, ?it/s]"
      ]
     },
     "metadata": {},
     "output_type": "display_data"
    },
    {
     "name": "stdout",
     "output_type": "stream",
     "text": [
      "--------------------------------------------------\n",
      "Seed 3\n"
     ]
    },
    {
     "data": {
      "application/vnd.jupyter.widget-view+json": {
       "model_id": "99e92c20685240bea91b615973b300b3",
       "version_major": 2,
       "version_minor": 0
      },
      "text/plain": [
       "  0%|          | 0/20 [00:00<?, ?it/s]"
      ]
     },
     "metadata": {},
     "output_type": "display_data"
    },
    {
     "name": "stdout",
     "output_type": "stream",
     "text": [
      "--------------------------------------------------\n",
      "Seed 4\n"
     ]
    },
    {
     "data": {
      "application/vnd.jupyter.widget-view+json": {
       "model_id": "1ccf7b4a3f2a4f0c87793dd5fdcc2285",
       "version_major": 2,
       "version_minor": 0
      },
      "text/plain": [
       "  0%|          | 0/20 [00:00<?, ?it/s]"
      ]
     },
     "metadata": {},
     "output_type": "display_data"
    },
    {
     "name": "stdout",
     "output_type": "stream",
     "text": [
      "--------------------------------------------------\n",
      "Average time: 90.46 seconds\n",
      "Found features: [33, 33, 33, 33, 33]\n",
      "Found 33.0 of 33 informative features\n",
      "0.0 of 33.0 outputted powershap features are noise features\n",
      "====================================================================================================\n",
      "Amount of samples = 5000\n",
      "Total used features = 100\n",
      "Informative features: 50 (50%)\n",
      "\n",
      "Seed 0\n"
     ]
    },
    {
     "data": {
      "application/vnd.jupyter.widget-view+json": {
       "model_id": "83cd5f454bb74957bdf76659e7dfadd1",
       "version_major": 2,
       "version_minor": 0
      },
      "text/plain": [
       "  0%|          | 0/20 [00:00<?, ?it/s]"
      ]
     },
     "metadata": {},
     "output_type": "display_data"
    },
    {
     "name": "stdout",
     "output_type": "stream",
     "text": [
      "--------------------------------------------------\n",
      "Seed 1\n"
     ]
    },
    {
     "data": {
      "application/vnd.jupyter.widget-view+json": {
       "model_id": "c180b68c7e53436697361db692944c5b",
       "version_major": 2,
       "version_minor": 0
      },
      "text/plain": [
       "  0%|          | 0/20 [00:00<?, ?it/s]"
      ]
     },
     "metadata": {},
     "output_type": "display_data"
    },
    {
     "name": "stdout",
     "output_type": "stream",
     "text": [
      "--------------------------------------------------\n",
      "Seed 2\n"
     ]
    },
    {
     "data": {
      "application/vnd.jupyter.widget-view+json": {
       "model_id": "585065bb84ab4979915d95a001f068cc",
       "version_major": 2,
       "version_minor": 0
      },
      "text/plain": [
       "  0%|          | 0/20 [00:00<?, ?it/s]"
      ]
     },
     "metadata": {},
     "output_type": "display_data"
    },
    {
     "data": {
      "application/vnd.jupyter.widget-view+json": {
       "model_id": "b8360a38cf044970a1a674dce5827ce0",
       "version_major": 2,
       "version_minor": 0
      },
      "text/plain": [
       "  0%|          | 0/4 [00:00<?, ?it/s]"
      ]
     },
     "metadata": {},
     "output_type": "display_data"
    },
    {
     "data": {
      "application/vnd.jupyter.widget-view+json": {
       "model_id": "9050f76084334299b6b07eaf6689ea86",
       "version_major": 2,
       "version_minor": 0
      },
      "text/plain": [
       "  0%|          | 0/10 [00:00<?, ?it/s]"
      ]
     },
     "metadata": {},
     "output_type": "display_data"
    },
    {
     "name": "stdout",
     "output_type": "stream",
     "text": [
      "--------------------------------------------------\n",
      "Seed 3\n"
     ]
    },
    {
     "data": {
      "application/vnd.jupyter.widget-view+json": {
       "model_id": "ecca78239a1346a89fda7151873e8baf",
       "version_major": 2,
       "version_minor": 0
      },
      "text/plain": [
       "  0%|          | 0/20 [00:00<?, ?it/s]"
      ]
     },
     "metadata": {},
     "output_type": "display_data"
    },
    {
     "name": "stdout",
     "output_type": "stream",
     "text": [
      "--------------------------------------------------\n",
      "Seed 4\n"
     ]
    },
    {
     "data": {
      "application/vnd.jupyter.widget-view+json": {
       "model_id": "6c5fdb92978a4748a4d9e75edd49a8ff",
       "version_major": 2,
       "version_minor": 0
      },
      "text/plain": [
       "  0%|          | 0/20 [00:00<?, ?it/s]"
      ]
     },
     "metadata": {},
     "output_type": "display_data"
    },
    {
     "name": "stdout",
     "output_type": "stream",
     "text": [
      "--------------------------------------------------\n",
      "Average time: 130.12 seconds\n",
      "Found features: [50, 50, 51, 50, 50]\n",
      "Found 50.0 of 50 informative features\n",
      "0.2 of 50.2 outputted powershap features are noise features\n",
      "====================================================================================================\n",
      "Amount of samples = 5000\n",
      "Total used features = 100\n",
      "Informative features: 90 (90%)\n",
      "\n",
      "Seed 0\n"
     ]
    },
    {
     "data": {
      "application/vnd.jupyter.widget-view+json": {
       "model_id": "288a46331cab4ee5bf8c62f17877a062",
       "version_major": 2,
       "version_minor": 0
      },
      "text/plain": [
       "  0%|          | 0/20 [00:00<?, ?it/s]"
      ]
     },
     "metadata": {},
     "output_type": "display_data"
    },
    {
     "data": {
      "application/vnd.jupyter.widget-view+json": {
       "model_id": "b499a540f3e448589cdf957b89340b36",
       "version_major": 2,
       "version_minor": 0
      },
      "text/plain": [
       "  0%|          | 0/10 [00:00<?, ?it/s]"
      ]
     },
     "metadata": {},
     "output_type": "display_data"
    },
    {
     "name": "stdout",
     "output_type": "stream",
     "text": [
      "--------------------------------------------------\n",
      "Seed 1\n"
     ]
    },
    {
     "data": {
      "application/vnd.jupyter.widget-view+json": {
       "model_id": "472f9394cc954439b5fe8f9b336befd7",
       "version_major": 2,
       "version_minor": 0
      },
      "text/plain": [
       "  0%|          | 0/20 [00:00<?, ?it/s]"
      ]
     },
     "metadata": {},
     "output_type": "display_data"
    },
    {
     "data": {
      "application/vnd.jupyter.widget-view+json": {
       "model_id": "9d3c137b7e0d44eb8ffa754a99d5a0e4",
       "version_major": 2,
       "version_minor": 0
      },
      "text/plain": [
       "  0%|          | 0/2 [00:00<?, ?it/s]"
      ]
     },
     "metadata": {},
     "output_type": "display_data"
    },
    {
     "data": {
      "application/vnd.jupyter.widget-view+json": {
       "model_id": "ca319e0c70064531b4b26f301f8f2587",
       "version_major": 2,
       "version_minor": 0
      },
      "text/plain": [
       "  0%|          | 0/3 [00:00<?, ?it/s]"
      ]
     },
     "metadata": {},
     "output_type": "display_data"
    },
    {
     "data": {
      "application/vnd.jupyter.widget-view+json": {
       "model_id": "c197d3aec2fe4c5f9267ff3d48ed4b6f",
       "version_major": 2,
       "version_minor": 0
      },
      "text/plain": [
       "  0%|          | 0/3 [00:00<?, ?it/s]"
      ]
     },
     "metadata": {},
     "output_type": "display_data"
    },
    {
     "name": "stdout",
     "output_type": "stream",
     "text": [
      "--------------------------------------------------\n",
      "Seed 2\n"
     ]
    },
    {
     "data": {
      "application/vnd.jupyter.widget-view+json": {
       "model_id": "e9423a90b0594895867a2d300fe309d1",
       "version_major": 2,
       "version_minor": 0
      },
      "text/plain": [
       "  0%|          | 0/20 [00:00<?, ?it/s]"
      ]
     },
     "metadata": {},
     "output_type": "display_data"
    },
    {
     "data": {
      "application/vnd.jupyter.widget-view+json": {
       "model_id": "8a5789b549314286b8f902650f01ef60",
       "version_major": 2,
       "version_minor": 0
      },
      "text/plain": [
       "  0%|          | 0/10 [00:00<?, ?it/s]"
      ]
     },
     "metadata": {},
     "output_type": "display_data"
    },
    {
     "name": "stdout",
     "output_type": "stream",
     "text": [
      "--------------------------------------------------\n",
      "Seed 3\n"
     ]
    },
    {
     "data": {
      "application/vnd.jupyter.widget-view+json": {
       "model_id": "c9cb510514e44fd2b9c8cdae01871ab8",
       "version_major": 2,
       "version_minor": 0
      },
      "text/plain": [
       "  0%|          | 0/20 [00:00<?, ?it/s]"
      ]
     },
     "metadata": {},
     "output_type": "display_data"
    },
    {
     "data": {
      "application/vnd.jupyter.widget-view+json": {
       "model_id": "518d272627634692a892892eae85aec1",
       "version_major": 2,
       "version_minor": 0
      },
      "text/plain": [
       "  0%|          | 0/1 [00:00<?, ?it/s]"
      ]
     },
     "metadata": {},
     "output_type": "display_data"
    },
    {
     "name": "stdout",
     "output_type": "stream",
     "text": [
      "--------------------------------------------------\n",
      "Seed 4\n"
     ]
    },
    {
     "data": {
      "application/vnd.jupyter.widget-view+json": {
       "model_id": "2b1c61f6d7884323a0065ee9201e8a18",
       "version_major": 2,
       "version_minor": 0
      },
      "text/plain": [
       "  0%|          | 0/20 [00:00<?, ?it/s]"
      ]
     },
     "metadata": {},
     "output_type": "display_data"
    },
    {
     "name": "stdout",
     "output_type": "stream",
     "text": [
      "--------------------------------------------------\n",
      "Average time: 170.17 seconds\n",
      "Found features: [89, 89, 90, 90, 90]\n",
      "Found 89.6 of 90 informative features\n",
      "0.0 of 89.6 outputted powershap features are noise features\n",
      "====================================================================================================\n",
      "5000: \n",
      "20: \n",
      "[10.52  9.55  8.5  12.78  9.23]s - [11.38 13.05 12.34 10.93 13.63]s - [28.58 29.18 40.91 34.34 28.85]s - [59.07 55.66 41.43 48.52 70.42]s - [89.58 82.32 77.96 72.24 80.08]s | [1, 1, 1, 1, 1] ([0, 0, 0, 0, 0]) / 1 | [2, 2, 2, 2, 2] ([0, 0, 0, 0, 0]) / 2 | [6, 6, 6, 6, 6] ([0, 0, 0, 0, 0]) / 6 | [10, 10, 10, 10, 10] ([0, 0, 0, 0, 0]) / 10 | [18, 18, 18, 18, 18] ([0, 0, 0, 0, 0]) / 18 | \n",
      "100: \n",
      "[19.56 16.49 17.97 17.12 54.21]s - [59.15 50.65 44.92 42.14 64.94]s - [100.98  86.17  95.23  83.01  86.94]s - [107.73 112.12 219.48 100.38 110.9 ]s - [187.78 190.99 212.34 127.26 132.46]s | [3, 3, 3, 3, 3] ([0, 0, 0, 0, 0]) / 3 | [10, 10, 10, 10, 10] ([0, 0, 0, 0, 0]) / 10 | [33, 33, 33, 33, 33] ([0, 0, 0, 0, 0]) / 33 | [50, 50, 50, 50, 50] ([0, 0, 1, 0, 0]) / 50 | [89, 89, 90, 90, 90] ([0, 0, 0, 0, 0]) / 90 | \n",
      "====================================================================================================\n",
      "Amount of samples = 5000\n",
      "Total used features = 250\n",
      "Informative features: 7 (3%)\n",
      "\n",
      "Seed 0\n"
     ]
    },
    {
     "data": {
      "application/vnd.jupyter.widget-view+json": {
       "model_id": "4ce8c649440c48219fe2bf27e0cb58ea",
       "version_major": 2,
       "version_minor": 0
      },
      "text/plain": [
       "  0%|          | 0/20 [00:00<?, ?it/s]"
      ]
     },
     "metadata": {},
     "output_type": "display_data"
    },
    {
     "name": "stdout",
     "output_type": "stream",
     "text": [
      "--------------------------------------------------\n",
      "Seed 1\n"
     ]
    },
    {
     "data": {
      "application/vnd.jupyter.widget-view+json": {
       "model_id": "d758d053fc0b4c6aa9caef67f8148f1c",
       "version_major": 2,
       "version_minor": 0
      },
      "text/plain": [
       "  0%|          | 0/20 [00:00<?, ?it/s]"
      ]
     },
     "metadata": {},
     "output_type": "display_data"
    },
    {
     "name": "stdout",
     "output_type": "stream",
     "text": [
      "--------------------------------------------------\n",
      "Seed 2\n"
     ]
    },
    {
     "data": {
      "application/vnd.jupyter.widget-view+json": {
       "model_id": "fba34cdb8b73494482ff0464a4d59c92",
       "version_major": 2,
       "version_minor": 0
      },
      "text/plain": [
       "  0%|          | 0/20 [00:00<?, ?it/s]"
      ]
     },
     "metadata": {},
     "output_type": "display_data"
    },
    {
     "name": "stdout",
     "output_type": "stream",
     "text": [
      "--------------------------------------------------\n",
      "Seed 3\n"
     ]
    },
    {
     "data": {
      "application/vnd.jupyter.widget-view+json": {
       "model_id": "2121c9ec3d2049a1a38b6c93a109b755",
       "version_major": 2,
       "version_minor": 0
      },
      "text/plain": [
       "  0%|          | 0/20 [00:00<?, ?it/s]"
      ]
     },
     "metadata": {},
     "output_type": "display_data"
    },
    {
     "name": "stdout",
     "output_type": "stream",
     "text": [
      "--------------------------------------------------\n",
      "Seed 4\n"
     ]
    },
    {
     "data": {
      "application/vnd.jupyter.widget-view+json": {
       "model_id": "4124f7f52ff24303a4aff94e9138b3ec",
       "version_major": 2,
       "version_minor": 0
      },
      "text/plain": [
       "  0%|          | 0/20 [00:00<?, ?it/s]"
      ]
     },
     "metadata": {},
     "output_type": "display_data"
    },
    {
     "name": "stdout",
     "output_type": "stream",
     "text": [
      "--------------------------------------------------\n",
      "Average time: 43.58 seconds\n",
      "Found features: [7, 7, 7, 7, 7]\n",
      "Found 7.0 of 7 informative features\n",
      "0.0 of 7.0 outputted powershap features are noise features\n",
      "====================================================================================================\n",
      "Amount of samples = 5000\n",
      "Total used features = 250\n",
      "Informative features: 25 (10%)\n",
      "\n",
      "Seed 0\n"
     ]
    },
    {
     "data": {
      "application/vnd.jupyter.widget-view+json": {
       "model_id": "32efbacc65d84727b43c417c99034975",
       "version_major": 2,
       "version_minor": 0
      },
      "text/plain": [
       "  0%|          | 0/20 [00:00<?, ?it/s]"
      ]
     },
     "metadata": {},
     "output_type": "display_data"
    },
    {
     "name": "stdout",
     "output_type": "stream",
     "text": [
      "--------------------------------------------------\n",
      "Seed 1\n"
     ]
    },
    {
     "data": {
      "application/vnd.jupyter.widget-view+json": {
       "model_id": "d998b33191844633b64313d0385592df",
       "version_major": 2,
       "version_minor": 0
      },
      "text/plain": [
       "  0%|          | 0/20 [00:00<?, ?it/s]"
      ]
     },
     "metadata": {},
     "output_type": "display_data"
    },
    {
     "name": "stdout",
     "output_type": "stream",
     "text": [
      "--------------------------------------------------\n",
      "Seed 2\n"
     ]
    },
    {
     "data": {
      "application/vnd.jupyter.widget-view+json": {
       "model_id": "b33a62c8ab4f4f7696c795ff2dbe9af7",
       "version_major": 2,
       "version_minor": 0
      },
      "text/plain": [
       "  0%|          | 0/20 [00:00<?, ?it/s]"
      ]
     },
     "metadata": {},
     "output_type": "display_data"
    },
    {
     "name": "stdout",
     "output_type": "stream",
     "text": [
      "--------------------------------------------------\n",
      "Seed 3\n"
     ]
    },
    {
     "data": {
      "application/vnd.jupyter.widget-view+json": {
       "model_id": "1f8e703980cc4a21af85e8726d8590c7",
       "version_major": 2,
       "version_minor": 0
      },
      "text/plain": [
       "  0%|          | 0/20 [00:00<?, ?it/s]"
      ]
     },
     "metadata": {},
     "output_type": "display_data"
    },
    {
     "name": "stdout",
     "output_type": "stream",
     "text": [
      "--------------------------------------------------\n",
      "Seed 4\n"
     ]
    },
    {
     "data": {
      "application/vnd.jupyter.widget-view+json": {
       "model_id": "a2aac2501deb4e0fa0b85e3b90b1ccf1",
       "version_major": 2,
       "version_minor": 0
      },
      "text/plain": [
       "  0%|          | 0/20 [00:00<?, ?it/s]"
      ]
     },
     "metadata": {},
     "output_type": "display_data"
    },
    {
     "data": {
      "application/vnd.jupyter.widget-view+json": {
       "model_id": "3cd65ed8f3e54c8c84953cf2b2d51ef0",
       "version_major": 2,
       "version_minor": 0
      },
      "text/plain": [
       "  0%|          | 0/8 [00:00<?, ?it/s]"
      ]
     },
     "metadata": {},
     "output_type": "display_data"
    },
    {
     "data": {
      "application/vnd.jupyter.widget-view+json": {
       "model_id": "e04fec7c3d3e4436b4d3c09432eb130f",
       "version_major": 2,
       "version_minor": 0
      },
      "text/plain": [
       "  0%|          | 0/10 [00:00<?, ?it/s]"
      ]
     },
     "metadata": {},
     "output_type": "display_data"
    },
    {
     "name": "stdout",
     "output_type": "stream",
     "text": [
      "--------------------------------------------------\n",
      "Average time: 112.59 seconds\n",
      "Found features: [25, 25, 25, 25, 26]\n",
      "Found 25.0 of 25 informative features\n",
      "0.2 of 25.2 outputted powershap features are noise features\n",
      "====================================================================================================\n",
      "Amount of samples = 5000\n",
      "Total used features = 250\n",
      "Informative features: 82 (33%)\n",
      "\n",
      "Seed 0\n"
     ]
    },
    {
     "data": {
      "application/vnd.jupyter.widget-view+json": {
       "model_id": "4af12dc6328e41d58ca9bd74e743fea0",
       "version_major": 2,
       "version_minor": 0
      },
      "text/plain": [
       "  0%|          | 0/20 [00:00<?, ?it/s]"
      ]
     },
     "metadata": {},
     "output_type": "display_data"
    },
    {
     "data": {
      "application/vnd.jupyter.widget-view+json": {
       "model_id": "c3f2c56110db485aaf18baaed797f073",
       "version_major": 2,
       "version_minor": 0
      },
      "text/plain": [
       "  0%|          | 0/10 [00:00<?, ?it/s]"
      ]
     },
     "metadata": {},
     "output_type": "display_data"
    },
    {
     "data": {
      "application/vnd.jupyter.widget-view+json": {
       "model_id": "762e93344d844971bb8922ad764cdba3",
       "version_major": 2,
       "version_minor": 0
      },
      "text/plain": [
       "  0%|          | 0/10 [00:00<?, ?it/s]"
      ]
     },
     "metadata": {},
     "output_type": "display_data"
    },
    {
     "data": {
      "application/vnd.jupyter.widget-view+json": {
       "model_id": "8c16d8e3ad0f4ac9a3616b4ddad804be",
       "version_major": 2,
       "version_minor": 0
      },
      "text/plain": [
       "  0%|          | 0/10 [00:00<?, ?it/s]"
      ]
     },
     "metadata": {},
     "output_type": "display_data"
    },
    {
     "name": "stdout",
     "output_type": "stream",
     "text": [
      "--------------------------------------------------\n",
      "Seed 1\n"
     ]
    },
    {
     "data": {
      "application/vnd.jupyter.widget-view+json": {
       "model_id": "629bc4a094a14bb292a64ee6655e7862",
       "version_major": 2,
       "version_minor": 0
      },
      "text/plain": [
       "  0%|          | 0/20 [00:00<?, ?it/s]"
      ]
     },
     "metadata": {},
     "output_type": "display_data"
    },
    {
     "data": {
      "application/vnd.jupyter.widget-view+json": {
       "model_id": "588e23a6eab247c68b96e1e520f4599e",
       "version_major": 2,
       "version_minor": 0
      },
      "text/plain": [
       "  0%|          | 0/3 [00:00<?, ?it/s]"
      ]
     },
     "metadata": {},
     "output_type": "display_data"
    },
    {
     "data": {
      "application/vnd.jupyter.widget-view+json": {
       "model_id": "fd15f20351f84917bfcc6bb329cc7be2",
       "version_major": 2,
       "version_minor": 0
      },
      "text/plain": [
       "  0%|          | 0/10 [00:00<?, ?it/s]"
      ]
     },
     "metadata": {},
     "output_type": "display_data"
    },
    {
     "data": {
      "application/vnd.jupyter.widget-view+json": {
       "model_id": "f36bae72a9e14b67b04ec594737bde99",
       "version_major": 2,
       "version_minor": 0
      },
      "text/plain": [
       "  0%|          | 0/10 [00:00<?, ?it/s]"
      ]
     },
     "metadata": {},
     "output_type": "display_data"
    },
    {
     "name": "stdout",
     "output_type": "stream",
     "text": [
      "--------------------------------------------------\n",
      "Seed 2\n"
     ]
    },
    {
     "data": {
      "application/vnd.jupyter.widget-view+json": {
       "model_id": "093ed910fe664b5ba677913834ea55ed",
       "version_major": 2,
       "version_minor": 0
      },
      "text/plain": [
       "  0%|          | 0/20 [00:00<?, ?it/s]"
      ]
     },
     "metadata": {},
     "output_type": "display_data"
    },
    {
     "data": {
      "application/vnd.jupyter.widget-view+json": {
       "model_id": "b554de04c4244ba8a6bdf37a66961e89",
       "version_major": 2,
       "version_minor": 0
      },
      "text/plain": [
       "  0%|          | 0/10 [00:00<?, ?it/s]"
      ]
     },
     "metadata": {},
     "output_type": "display_data"
    },
    {
     "data": {
      "application/vnd.jupyter.widget-view+json": {
       "model_id": "b0ebd0347f4f4631a0480b512724bde6",
       "version_major": 2,
       "version_minor": 0
      },
      "text/plain": [
       "  0%|          | 0/10 [00:00<?, ?it/s]"
      ]
     },
     "metadata": {},
     "output_type": "display_data"
    },
    {
     "data": {
      "application/vnd.jupyter.widget-view+json": {
       "model_id": "177516e76e1a49d8bce98b0843dfef3c",
       "version_major": 2,
       "version_minor": 0
      },
      "text/plain": [
       "  0%|          | 0/10 [00:00<?, ?it/s]"
      ]
     },
     "metadata": {},
     "output_type": "display_data"
    },
    {
     "name": "stdout",
     "output_type": "stream",
     "text": [
      "--------------------------------------------------\n",
      "Seed 3\n"
     ]
    },
    {
     "data": {
      "application/vnd.jupyter.widget-view+json": {
       "model_id": "4c63278dca474e51bbeeef0ff034c192",
       "version_major": 2,
       "version_minor": 0
      },
      "text/plain": [
       "  0%|          | 0/20 [00:00<?, ?it/s]"
      ]
     },
     "metadata": {},
     "output_type": "display_data"
    },
    {
     "data": {
      "application/vnd.jupyter.widget-view+json": {
       "model_id": "b861b15d572846099d19788e893b0ca1",
       "version_major": 2,
       "version_minor": 0
      },
      "text/plain": [
       "  0%|          | 0/10 [00:00<?, ?it/s]"
      ]
     },
     "metadata": {},
     "output_type": "display_data"
    },
    {
     "data": {
      "application/vnd.jupyter.widget-view+json": {
       "model_id": "1095c912747443a2ac375eb05d348235",
       "version_major": 2,
       "version_minor": 0
      },
      "text/plain": [
       "  0%|          | 0/1 [00:00<?, ?it/s]"
      ]
     },
     "metadata": {},
     "output_type": "display_data"
    },
    {
     "data": {
      "application/vnd.jupyter.widget-view+json": {
       "model_id": "04869bc59f47471287338350a359f395",
       "version_major": 2,
       "version_minor": 0
      },
      "text/plain": [
       "  0%|          | 0/1 [00:00<?, ?it/s]"
      ]
     },
     "metadata": {},
     "output_type": "display_data"
    },
    {
     "name": "stdout",
     "output_type": "stream",
     "text": [
      "--------------------------------------------------\n",
      "Seed 4\n"
     ]
    },
    {
     "data": {
      "application/vnd.jupyter.widget-view+json": {
       "model_id": "7fdc43537d994b1ba0dc8b9d0bef4c95",
       "version_major": 2,
       "version_minor": 0
      },
      "text/plain": [
       "  0%|          | 0/20 [00:00<?, ?it/s]"
      ]
     },
     "metadata": {},
     "output_type": "display_data"
    },
    {
     "data": {
      "application/vnd.jupyter.widget-view+json": {
       "model_id": "0eda8cc23bd44c878d999df419d8253d",
       "version_major": 2,
       "version_minor": 0
      },
      "text/plain": [
       "  0%|          | 0/10 [00:00<?, ?it/s]"
      ]
     },
     "metadata": {},
     "output_type": "display_data"
    },
    {
     "data": {
      "application/vnd.jupyter.widget-view+json": {
       "model_id": "c846262dd1b548dcb5f57c0df810c72f",
       "version_major": 2,
       "version_minor": 0
      },
      "text/plain": [
       "  0%|          | 0/5 [00:00<?, ?it/s]"
      ]
     },
     "metadata": {},
     "output_type": "display_data"
    },
    {
     "data": {
      "application/vnd.jupyter.widget-view+json": {
       "model_id": "08adccb9b2b6444f879b268ee388a559",
       "version_major": 2,
       "version_minor": 0
      },
      "text/plain": [
       "  0%|          | 0/4 [00:00<?, ?it/s]"
      ]
     },
     "metadata": {},
     "output_type": "display_data"
    },
    {
     "name": "stdout",
     "output_type": "stream",
     "text": [
      "--------------------------------------------------\n",
      "Average time: 276.47 seconds\n",
      "Found features: [82, 82, 83, 83, 83]\n",
      "Found 82.0 of 82 informative features\n",
      "0.6 of 82.6 outputted powershap features are noise features\n",
      "====================================================================================================\n",
      "Amount of samples = 5000\n",
      "Total used features = 250\n",
      "Informative features: 125 (50%)\n",
      "\n",
      "Seed 0\n"
     ]
    },
    {
     "data": {
      "application/vnd.jupyter.widget-view+json": {
       "model_id": "7ca26a2ee6c84278b9c1828916442b9d",
       "version_major": 2,
       "version_minor": 0
      },
      "text/plain": [
       "  0%|          | 0/20 [00:00<?, ?it/s]"
      ]
     },
     "metadata": {},
     "output_type": "display_data"
    },
    {
     "data": {
      "application/vnd.jupyter.widget-view+json": {
       "model_id": "4c3802a90413479ba7c581f6f62d9fee",
       "version_major": 2,
       "version_minor": 0
      },
      "text/plain": [
       "  0%|          | 0/10 [00:00<?, ?it/s]"
      ]
     },
     "metadata": {},
     "output_type": "display_data"
    },
    {
     "data": {
      "application/vnd.jupyter.widget-view+json": {
       "model_id": "435d883a157c47a68063624a9ae0a250",
       "version_major": 2,
       "version_minor": 0
      },
      "text/plain": [
       "  0%|          | 0/10 [00:00<?, ?it/s]"
      ]
     },
     "metadata": {},
     "output_type": "display_data"
    },
    {
     "data": {
      "application/vnd.jupyter.widget-view+json": {
       "model_id": "dfcdf32429a245d3a0834d360de14bc3",
       "version_major": 2,
       "version_minor": 0
      },
      "text/plain": [
       "  0%|          | 0/10 [00:00<?, ?it/s]"
      ]
     },
     "metadata": {},
     "output_type": "display_data"
    },
    {
     "name": "stdout",
     "output_type": "stream",
     "text": [
      "--------------------------------------------------\n",
      "Seed 1\n"
     ]
    },
    {
     "data": {
      "application/vnd.jupyter.widget-view+json": {
       "model_id": "e66517e5167e42629eab9e89d5b2204e",
       "version_major": 2,
       "version_minor": 0
      },
      "text/plain": [
       "  0%|          | 0/20 [00:00<?, ?it/s]"
      ]
     },
     "metadata": {},
     "output_type": "display_data"
    },
    {
     "data": {
      "application/vnd.jupyter.widget-view+json": {
       "model_id": "f8df5234719545c58a0c2505040308b1",
       "version_major": 2,
       "version_minor": 0
      },
      "text/plain": [
       "  0%|          | 0/10 [00:00<?, ?it/s]"
      ]
     },
     "metadata": {},
     "output_type": "display_data"
    },
    {
     "data": {
      "application/vnd.jupyter.widget-view+json": {
       "model_id": "71c8f83020b74397b9f6a2fdbf72559b",
       "version_major": 2,
       "version_minor": 0
      },
      "text/plain": [
       "  0%|          | 0/10 [00:00<?, ?it/s]"
      ]
     },
     "metadata": {},
     "output_type": "display_data"
    },
    {
     "data": {
      "application/vnd.jupyter.widget-view+json": {
       "model_id": "74a8892189f84a788f068cf2ee038815",
       "version_major": 2,
       "version_minor": 0
      },
      "text/plain": [
       "  0%|          | 0/10 [00:00<?, ?it/s]"
      ]
     },
     "metadata": {},
     "output_type": "display_data"
    },
    {
     "name": "stdout",
     "output_type": "stream",
     "text": [
      "--------------------------------------------------\n",
      "Seed 2\n"
     ]
    },
    {
     "data": {
      "application/vnd.jupyter.widget-view+json": {
       "model_id": "96d99d44b2534a408611313869eb2521",
       "version_major": 2,
       "version_minor": 0
      },
      "text/plain": [
       "  0%|          | 0/20 [00:00<?, ?it/s]"
      ]
     },
     "metadata": {},
     "output_type": "display_data"
    },
    {
     "data": {
      "application/vnd.jupyter.widget-view+json": {
       "model_id": "bb3426c7ea69480ebd018693de840a5a",
       "version_major": 2,
       "version_minor": 0
      },
      "text/plain": [
       "  0%|          | 0/10 [00:00<?, ?it/s]"
      ]
     },
     "metadata": {},
     "output_type": "display_data"
    },
    {
     "data": {
      "application/vnd.jupyter.widget-view+json": {
       "model_id": "f40da30b0c004e07beb3eddfd68f6198",
       "version_major": 2,
       "version_minor": 0
      },
      "text/plain": [
       "  0%|          | 0/10 [00:00<?, ?it/s]"
      ]
     },
     "metadata": {},
     "output_type": "display_data"
    },
    {
     "data": {
      "application/vnd.jupyter.widget-view+json": {
       "model_id": "c6d200f3cb5e46c68dc0647f589710b4",
       "version_major": 2,
       "version_minor": 0
      },
      "text/plain": [
       "  0%|          | 0/3 [00:00<?, ?it/s]"
      ]
     },
     "metadata": {},
     "output_type": "display_data"
    },
    {
     "name": "stdout",
     "output_type": "stream",
     "text": [
      "--------------------------------------------------\n",
      "Seed 3\n"
     ]
    },
    {
     "data": {
      "application/vnd.jupyter.widget-view+json": {
       "model_id": "df2b76883002421ba1da64eb27d4c7cc",
       "version_major": 2,
       "version_minor": 0
      },
      "text/plain": [
       "  0%|          | 0/20 [00:00<?, ?it/s]"
      ]
     },
     "metadata": {},
     "output_type": "display_data"
    },
    {
     "data": {
      "application/vnd.jupyter.widget-view+json": {
       "model_id": "d151b4f3ae234c72a36d85aad0528671",
       "version_major": 2,
       "version_minor": 0
      },
      "text/plain": [
       "  0%|          | 0/10 [00:00<?, ?it/s]"
      ]
     },
     "metadata": {},
     "output_type": "display_data"
    },
    {
     "data": {
      "application/vnd.jupyter.widget-view+json": {
       "model_id": "6e61edde4f374d83a5b22e4508c4bf92",
       "version_major": 2,
       "version_minor": 0
      },
      "text/plain": [
       "  0%|          | 0/10 [00:00<?, ?it/s]"
      ]
     },
     "metadata": {},
     "output_type": "display_data"
    },
    {
     "data": {
      "application/vnd.jupyter.widget-view+json": {
       "model_id": "e4721c7b658843a5a4a5b041d7c4d7b3",
       "version_major": 2,
       "version_minor": 0
      },
      "text/plain": [
       "  0%|          | 0/10 [00:00<?, ?it/s]"
      ]
     },
     "metadata": {},
     "output_type": "display_data"
    },
    {
     "name": "stdout",
     "output_type": "stream",
     "text": [
      "--------------------------------------------------\n",
      "Seed 4\n"
     ]
    },
    {
     "data": {
      "application/vnd.jupyter.widget-view+json": {
       "model_id": "effb3776b39f449b84b4c96c5651efca",
       "version_major": 2,
       "version_minor": 0
      },
      "text/plain": [
       "  0%|          | 0/20 [00:00<?, ?it/s]"
      ]
     },
     "metadata": {},
     "output_type": "display_data"
    },
    {
     "data": {
      "application/vnd.jupyter.widget-view+json": {
       "model_id": "3ca1ded3213a41a1aa691fd48a1c6897",
       "version_major": 2,
       "version_minor": 0
      },
      "text/plain": [
       "  0%|          | 0/10 [00:00<?, ?it/s]"
      ]
     },
     "metadata": {},
     "output_type": "display_data"
    },
    {
     "data": {
      "application/vnd.jupyter.widget-view+json": {
       "model_id": "d4a8da73f8354cedac77e1f9feeb3643",
       "version_major": 2,
       "version_minor": 0
      },
      "text/plain": [
       "  0%|          | 0/10 [00:00<?, ?it/s]"
      ]
     },
     "metadata": {},
     "output_type": "display_data"
    },
    {
     "data": {
      "application/vnd.jupyter.widget-view+json": {
       "model_id": "ac7a0376ae4f47fd849f352340554db0",
       "version_major": 2,
       "version_minor": 0
      },
      "text/plain": [
       "  0%|          | 0/10 [00:00<?, ?it/s]"
      ]
     },
     "metadata": {},
     "output_type": "display_data"
    },
    {
     "name": "stdout",
     "output_type": "stream",
     "text": [
      "--------------------------------------------------\n",
      "Average time: 368.42 seconds\n",
      "Found features: [124, 127, 125, 126, 124]\n",
      "Found 124.4 of 125 informative features\n",
      "0.8 of 125.2 outputted powershap features are noise features\n",
      "====================================================================================================\n",
      "Amount of samples = 5000\n",
      "Total used features = 250\n",
      "Informative features: 225 (90%)\n",
      "\n",
      "Seed 0\n"
     ]
    },
    {
     "data": {
      "application/vnd.jupyter.widget-view+json": {
       "model_id": "482380aa2ae4405cbb0052fa358a9401",
       "version_major": 2,
       "version_minor": 0
      },
      "text/plain": [
       "  0%|          | 0/20 [00:00<?, ?it/s]"
      ]
     },
     "metadata": {},
     "output_type": "display_data"
    },
    {
     "data": {
      "application/vnd.jupyter.widget-view+json": {
       "model_id": "bd43d059f6b94d0e877b6853e9ae40b8",
       "version_major": 2,
       "version_minor": 0
      },
      "text/plain": [
       "  0%|          | 0/10 [00:00<?, ?it/s]"
      ]
     },
     "metadata": {},
     "output_type": "display_data"
    },
    {
     "data": {
      "application/vnd.jupyter.widget-view+json": {
       "model_id": "28117e6ccac8459c96429a2d3447fa43",
       "version_major": 2,
       "version_minor": 0
      },
      "text/plain": [
       "  0%|          | 0/10 [00:00<?, ?it/s]"
      ]
     },
     "metadata": {},
     "output_type": "display_data"
    },
    {
     "data": {
      "application/vnd.jupyter.widget-view+json": {
       "model_id": "b0bbfba8b5ae4224bbc4234d931aeb3c",
       "version_major": 2,
       "version_minor": 0
      },
      "text/plain": [
       "  0%|          | 0/10 [00:00<?, ?it/s]"
      ]
     },
     "metadata": {},
     "output_type": "display_data"
    },
    {
     "name": "stdout",
     "output_type": "stream",
     "text": [
      "--------------------------------------------------\n",
      "Seed 1\n"
     ]
    },
    {
     "data": {
      "application/vnd.jupyter.widget-view+json": {
       "model_id": "bc2982c384bd46cd9e9ca8b7dc28f007",
       "version_major": 2,
       "version_minor": 0
      },
      "text/plain": [
       "  0%|          | 0/20 [00:00<?, ?it/s]"
      ]
     },
     "metadata": {},
     "output_type": "display_data"
    },
    {
     "data": {
      "application/vnd.jupyter.widget-view+json": {
       "model_id": "c4104847af084aeabd0a3414a91aa116",
       "version_major": 2,
       "version_minor": 0
      },
      "text/plain": [
       "  0%|          | 0/10 [00:00<?, ?it/s]"
      ]
     },
     "metadata": {},
     "output_type": "display_data"
    },
    {
     "data": {
      "application/vnd.jupyter.widget-view+json": {
       "model_id": "5035c7c0ffc34d18bc7532e5e96e00e7",
       "version_major": 2,
       "version_minor": 0
      },
      "text/plain": [
       "  0%|          | 0/10 [00:00<?, ?it/s]"
      ]
     },
     "metadata": {},
     "output_type": "display_data"
    },
    {
     "data": {
      "application/vnd.jupyter.widget-view+json": {
       "model_id": "b4b0f4d76b3e494d97869305de5e925e",
       "version_major": 2,
       "version_minor": 0
      },
      "text/plain": [
       "  0%|          | 0/10 [00:00<?, ?it/s]"
      ]
     },
     "metadata": {},
     "output_type": "display_data"
    },
    {
     "name": "stdout",
     "output_type": "stream",
     "text": [
      "--------------------------------------------------\n",
      "Seed 2\n"
     ]
    },
    {
     "data": {
      "application/vnd.jupyter.widget-view+json": {
       "model_id": "e53922a226b349669fc6ad429d4dedb2",
       "version_major": 2,
       "version_minor": 0
      },
      "text/plain": [
       "  0%|          | 0/20 [00:00<?, ?it/s]"
      ]
     },
     "metadata": {},
     "output_type": "display_data"
    },
    {
     "data": {
      "application/vnd.jupyter.widget-view+json": {
       "model_id": "0c8bf8833ed748359795b860b151da27",
       "version_major": 2,
       "version_minor": 0
      },
      "text/plain": [
       "  0%|          | 0/10 [00:00<?, ?it/s]"
      ]
     },
     "metadata": {},
     "output_type": "display_data"
    },
    {
     "data": {
      "application/vnd.jupyter.widget-view+json": {
       "model_id": "e6543cdad0a245fc94a8fd23a27dabfe",
       "version_major": 2,
       "version_minor": 0
      },
      "text/plain": [
       "  0%|          | 0/10 [00:00<?, ?it/s]"
      ]
     },
     "metadata": {},
     "output_type": "display_data"
    },
    {
     "data": {
      "application/vnd.jupyter.widget-view+json": {
       "model_id": "bf2c6d28dd6a44cda6da331dd5b8cbf5",
       "version_major": 2,
       "version_minor": 0
      },
      "text/plain": [
       "  0%|          | 0/10 [00:00<?, ?it/s]"
      ]
     },
     "metadata": {},
     "output_type": "display_data"
    },
    {
     "name": "stdout",
     "output_type": "stream",
     "text": [
      "--------------------------------------------------\n",
      "Seed 3\n"
     ]
    },
    {
     "data": {
      "application/vnd.jupyter.widget-view+json": {
       "model_id": "f42a1da35f83446b862a5a9f8a5ac30f",
       "version_major": 2,
       "version_minor": 0
      },
      "text/plain": [
       "  0%|          | 0/20 [00:00<?, ?it/s]"
      ]
     },
     "metadata": {},
     "output_type": "display_data"
    },
    {
     "data": {
      "application/vnd.jupyter.widget-view+json": {
       "model_id": "7bc8069dc99b4ec487509492531aad0c",
       "version_major": 2,
       "version_minor": 0
      },
      "text/plain": [
       "  0%|          | 0/10 [00:00<?, ?it/s]"
      ]
     },
     "metadata": {},
     "output_type": "display_data"
    },
    {
     "data": {
      "application/vnd.jupyter.widget-view+json": {
       "model_id": "20b7bbf184f149f3ab2a358dccb1c73e",
       "version_major": 2,
       "version_minor": 0
      },
      "text/plain": [
       "  0%|          | 0/10 [00:00<?, ?it/s]"
      ]
     },
     "metadata": {},
     "output_type": "display_data"
    },
    {
     "data": {
      "application/vnd.jupyter.widget-view+json": {
       "model_id": "943e01d48ca449a085756bb918fc38c3",
       "version_major": 2,
       "version_minor": 0
      },
      "text/plain": [
       "  0%|          | 0/10 [00:00<?, ?it/s]"
      ]
     },
     "metadata": {},
     "output_type": "display_data"
    },
    {
     "name": "stdout",
     "output_type": "stream",
     "text": [
      "--------------------------------------------------\n",
      "Seed 4\n"
     ]
    },
    {
     "data": {
      "application/vnd.jupyter.widget-view+json": {
       "model_id": "181cae5ef0534af7a125989b874097a0",
       "version_major": 2,
       "version_minor": 0
      },
      "text/plain": [
       "  0%|          | 0/20 [00:00<?, ?it/s]"
      ]
     },
     "metadata": {},
     "output_type": "display_data"
    },
    {
     "data": {
      "application/vnd.jupyter.widget-view+json": {
       "model_id": "f61441e4ff134a068c0d315a91744cfb",
       "version_major": 2,
       "version_minor": 0
      },
      "text/plain": [
       "  0%|          | 0/10 [00:00<?, ?it/s]"
      ]
     },
     "metadata": {},
     "output_type": "display_data"
    },
    {
     "data": {
      "application/vnd.jupyter.widget-view+json": {
       "model_id": "ea4544e57b4c4a589e8c75e01608b106",
       "version_major": 2,
       "version_minor": 0
      },
      "text/plain": [
       "  0%|          | 0/10 [00:00<?, ?it/s]"
      ]
     },
     "metadata": {},
     "output_type": "display_data"
    },
    {
     "data": {
      "application/vnd.jupyter.widget-view+json": {
       "model_id": "cdc01a768be746a8bb792a25b065ee5b",
       "version_major": 2,
       "version_minor": 0
      },
      "text/plain": [
       "  0%|          | 0/10 [00:00<?, ?it/s]"
      ]
     },
     "metadata": {},
     "output_type": "display_data"
    },
    {
     "name": "stdout",
     "output_type": "stream",
     "text": [
      "--------------------------------------------------\n",
      "Average time: 439.03 seconds\n",
      "Found features: [197, 212, 201, 202, 193]\n",
      "Found 200.8 of 225 informative features\n",
      "0.2 of 201.0 outputted powershap features are noise features\n",
      "====================================================================================================\n",
      "5000: \n",
      "20: \n",
      "[10.52  9.55  8.5  12.78  9.23]s - [11.38 13.05 12.34 10.93 13.63]s - [28.58 29.18 40.91 34.34 28.85]s - [59.07 55.66 41.43 48.52 70.42]s - [89.58 82.32 77.96 72.24 80.08]s | [1, 1, 1, 1, 1] ([0, 0, 0, 0, 0]) / 1 | [2, 2, 2, 2, 2] ([0, 0, 0, 0, 0]) / 2 | [6, 6, 6, 6, 6] ([0, 0, 0, 0, 0]) / 6 | [10, 10, 10, 10, 10] ([0, 0, 0, 0, 0]) / 10 | [18, 18, 18, 18, 18] ([0, 0, 0, 0, 0]) / 18 | \n",
      "100: \n",
      "[19.56 16.49 17.97 17.12 54.21]s - [59.15 50.65 44.92 42.14 64.94]s - [100.98  86.17  95.23  83.01  86.94]s - [107.73 112.12 219.48 100.38 110.9 ]s - [187.78 190.99 212.34 127.26 132.46]s | [3, 3, 3, 3, 3] ([0, 0, 0, 0, 0]) / 3 | [10, 10, 10, 10, 10] ([0, 0, 0, 0, 0]) / 10 | [33, 33, 33, 33, 33] ([0, 0, 0, 0, 0]) / 33 | [50, 50, 50, 50, 50] ([0, 0, 1, 0, 0]) / 50 | [89, 89, 90, 90, 90] ([0, 0, 0, 0, 0]) / 90 | \n",
      "250: \n",
      "[54.41 38.   41.36 34.89 49.24]s - [104.44  92.89  85.33  95.66 184.64]s - [313.25 294.28 328.11 208.77 237.93]s - [361.33 388.75 331.69 377.94 382.38]s - [427.78 433.31 438.66 447.37 448.02]s | [7, 7, 7, 7, 7] ([0, 0, 0, 0, 0]) / 7 | [25, 25, 25, 25, 25] ([0, 0, 0, 0, 1]) / 25 | [82, 82, 82, 82, 82] ([0, 0, 1, 1, 1]) / 82 | [124, 125, 125, 124, 124] ([0, 2, 0, 2, 0]) / 125 | [197, 212, 200, 202, 193] ([0, 0, 1, 0, 0]) / 225 | \n",
      "====================================================================================================\n",
      "Amount of samples = 5000\n",
      "Total used features = 500\n",
      "Informative features: 15 (3%)\n",
      "\n",
      "Seed 0\n"
     ]
    },
    {
     "data": {
      "application/vnd.jupyter.widget-view+json": {
       "model_id": "879ec4c5f7084e83ac8ad6f3a54a9a13",
       "version_major": 2,
       "version_minor": 0
      },
      "text/plain": [
       "  0%|          | 0/20 [00:00<?, ?it/s]"
      ]
     },
     "metadata": {},
     "output_type": "display_data"
    },
    {
     "data": {
      "application/vnd.jupyter.widget-view+json": {
       "model_id": "936b211d3a1d4f50a567d9298c02760f",
       "version_major": 2,
       "version_minor": 0
      },
      "text/plain": [
       "  0%|          | 0/10 [00:00<?, ?it/s]"
      ]
     },
     "metadata": {},
     "output_type": "display_data"
    },
    {
     "data": {
      "application/vnd.jupyter.widget-view+json": {
       "model_id": "3579f588be314aa797c2d3c303d51c04",
       "version_major": 2,
       "version_minor": 0
      },
      "text/plain": [
       "  0%|          | 0/5 [00:00<?, ?it/s]"
      ]
     },
     "metadata": {},
     "output_type": "display_data"
    },
    {
     "data": {
      "application/vnd.jupyter.widget-view+json": {
       "model_id": "7137528a1e92432cba5a25b62948d496",
       "version_major": 2,
       "version_minor": 0
      },
      "text/plain": [
       "  0%|          | 0/10 [00:00<?, ?it/s]"
      ]
     },
     "metadata": {},
     "output_type": "display_data"
    },
    {
     "name": "stdout",
     "output_type": "stream",
     "text": [
      "--------------------------------------------------\n",
      "Seed 1\n"
     ]
    },
    {
     "data": {
      "application/vnd.jupyter.widget-view+json": {
       "model_id": "d36747d319d842e09d622c271c4df190",
       "version_major": 2,
       "version_minor": 0
      },
      "text/plain": [
       "  0%|          | 0/20 [00:00<?, ?it/s]"
      ]
     },
     "metadata": {},
     "output_type": "display_data"
    },
    {
     "data": {
      "application/vnd.jupyter.widget-view+json": {
       "model_id": "9eaf6a36a0994d5d8b1164e99c68cfae",
       "version_major": 2,
       "version_minor": 0
      },
      "text/plain": [
       "  0%|          | 0/10 [00:00<?, ?it/s]"
      ]
     },
     "metadata": {},
     "output_type": "display_data"
    },
    {
     "data": {
      "application/vnd.jupyter.widget-view+json": {
       "model_id": "823870a5439b4eb1b290bca766907c51",
       "version_major": 2,
       "version_minor": 0
      },
      "text/plain": [
       "  0%|          | 0/10 [00:00<?, ?it/s]"
      ]
     },
     "metadata": {},
     "output_type": "display_data"
    },
    {
     "data": {
      "application/vnd.jupyter.widget-view+json": {
       "model_id": "0e001db086b04743b0b470406599a3c9",
       "version_major": 2,
       "version_minor": 0
      },
      "text/plain": [
       "  0%|          | 0/10 [00:00<?, ?it/s]"
      ]
     },
     "metadata": {},
     "output_type": "display_data"
    },
    {
     "name": "stdout",
     "output_type": "stream",
     "text": [
      "--------------------------------------------------\n",
      "Seed 2\n"
     ]
    },
    {
     "data": {
      "application/vnd.jupyter.widget-view+json": {
       "model_id": "1c406ccbef4a4fe2b5bbb6a2eb24c700",
       "version_major": 2,
       "version_minor": 0
      },
      "text/plain": [
       "  0%|          | 0/20 [00:00<?, ?it/s]"
      ]
     },
     "metadata": {},
     "output_type": "display_data"
    },
    {
     "name": "stdout",
     "output_type": "stream",
     "text": [
      "--------------------------------------------------\n",
      "Seed 3\n"
     ]
    },
    {
     "data": {
      "application/vnd.jupyter.widget-view+json": {
       "model_id": "8b89bf4d260d48a58808239cecf134cd",
       "version_major": 2,
       "version_minor": 0
      },
      "text/plain": [
       "  0%|          | 0/20 [00:00<?, ?it/s]"
      ]
     },
     "metadata": {},
     "output_type": "display_data"
    },
    {
     "name": "stdout",
     "output_type": "stream",
     "text": [
      "--------------------------------------------------\n",
      "Seed 4\n"
     ]
    },
    {
     "data": {
      "application/vnd.jupyter.widget-view+json": {
       "model_id": "8ab6bc2a04b949efbe943a959f84aa77",
       "version_major": 2,
       "version_minor": 0
      },
      "text/plain": [
       "  0%|          | 0/20 [00:00<?, ?it/s]"
      ]
     },
     "metadata": {},
     "output_type": "display_data"
    },
    {
     "name": "stdout",
     "output_type": "stream",
     "text": [
      "--------------------------------------------------\n",
      "Average time: 147.45 seconds\n",
      "Found features: [19, 16, 15, 15, 15]\n",
      "Found 15.0 of 15 informative features\n",
      "1.0 of 16.0 outputted powershap features are noise features\n",
      "====================================================================================================\n",
      "Amount of samples = 5000\n",
      "Total used features = 500\n",
      "Informative features: 50 (10%)\n",
      "\n",
      "Seed 0\n"
     ]
    },
    {
     "data": {
      "application/vnd.jupyter.widget-view+json": {
       "model_id": "c57ef93cc4454d97959430e0641ceeff",
       "version_major": 2,
       "version_minor": 0
      },
      "text/plain": [
       "  0%|          | 0/20 [00:00<?, ?it/s]"
      ]
     },
     "metadata": {},
     "output_type": "display_data"
    },
    {
     "name": "stdout",
     "output_type": "stream",
     "text": [
      "--------------------------------------------------\n",
      "Seed 1\n"
     ]
    },
    {
     "data": {
      "application/vnd.jupyter.widget-view+json": {
       "model_id": "b93c96b7211f4778af09f434902834ed",
       "version_major": 2,
       "version_minor": 0
      },
      "text/plain": [
       "  0%|          | 0/20 [00:00<?, ?it/s]"
      ]
     },
     "metadata": {},
     "output_type": "display_data"
    },
    {
     "name": "stdout",
     "output_type": "stream",
     "text": [
      "--------------------------------------------------\n",
      "Seed 2\n"
     ]
    },
    {
     "data": {
      "application/vnd.jupyter.widget-view+json": {
       "model_id": "63dce5071c374174a4d5332772cee2b0",
       "version_major": 2,
       "version_minor": 0
      },
      "text/plain": [
       "  0%|          | 0/20 [00:00<?, ?it/s]"
      ]
     },
     "metadata": {},
     "output_type": "display_data"
    },
    {
     "data": {
      "application/vnd.jupyter.widget-view+json": {
       "model_id": "c3d7b8b391e04edc9515b0d871462cd7",
       "version_major": 2,
       "version_minor": 0
      },
      "text/plain": [
       "  0%|          | 0/10 [00:00<?, ?it/s]"
      ]
     },
     "metadata": {},
     "output_type": "display_data"
    },
    {
     "data": {
      "application/vnd.jupyter.widget-view+json": {
       "model_id": "8a8830e05fc2476984706331fe6b03d2",
       "version_major": 2,
       "version_minor": 0
      },
      "text/plain": [
       "  0%|          | 0/10 [00:00<?, ?it/s]"
      ]
     },
     "metadata": {},
     "output_type": "display_data"
    },
    {
     "data": {
      "application/vnd.jupyter.widget-view+json": {
       "model_id": "7f1f14020a4f4313bf10ee5baae35753",
       "version_major": 2,
       "version_minor": 0
      },
      "text/plain": [
       "  0%|          | 0/10 [00:00<?, ?it/s]"
      ]
     },
     "metadata": {},
     "output_type": "display_data"
    },
    {
     "name": "stdout",
     "output_type": "stream",
     "text": [
      "--------------------------------------------------\n",
      "Seed 3\n"
     ]
    },
    {
     "data": {
      "application/vnd.jupyter.widget-view+json": {
       "model_id": "d6de7c53ada8421aaa31812126c07040",
       "version_major": 2,
       "version_minor": 0
      },
      "text/plain": [
       "  0%|          | 0/20 [00:00<?, ?it/s]"
      ]
     },
     "metadata": {},
     "output_type": "display_data"
    },
    {
     "data": {
      "application/vnd.jupyter.widget-view+json": {
       "model_id": "beddd060ed7b4c85b221137bc141f844",
       "version_major": 2,
       "version_minor": 0
      },
      "text/plain": [
       "  0%|          | 0/8 [00:00<?, ?it/s]"
      ]
     },
     "metadata": {},
     "output_type": "display_data"
    },
    {
     "data": {
      "application/vnd.jupyter.widget-view+json": {
       "model_id": "73b1ebfbd88d44f3a49fa86d8c89f029",
       "version_major": 2,
       "version_minor": 0
      },
      "text/plain": [
       "  0%|          | 0/10 [00:00<?, ?it/s]"
      ]
     },
     "metadata": {},
     "output_type": "display_data"
    },
    {
     "data": {
      "application/vnd.jupyter.widget-view+json": {
       "model_id": "98f8f984d843412f941ed87b8a9e2aec",
       "version_major": 2,
       "version_minor": 0
      },
      "text/plain": [
       "  0%|          | 0/3 [00:00<?, ?it/s]"
      ]
     },
     "metadata": {},
     "output_type": "display_data"
    },
    {
     "name": "stdout",
     "output_type": "stream",
     "text": [
      "--------------------------------------------------\n",
      "Seed 4\n"
     ]
    },
    {
     "data": {
      "application/vnd.jupyter.widget-view+json": {
       "model_id": "ea189e60d34f40d19b88710e842bdb21",
       "version_major": 2,
       "version_minor": 0
      },
      "text/plain": [
       "  0%|          | 0/20 [00:00<?, ?it/s]"
      ]
     },
     "metadata": {},
     "output_type": "display_data"
    },
    {
     "name": "stdout",
     "output_type": "stream",
     "text": [
      "--------------------------------------------------\n",
      "Average time: 222.86 seconds\n",
      "Found features: [50, 50, 51, 51, 50]\n",
      "Found 50.0 of 50 informative features\n",
      "0.4 of 50.4 outputted powershap features are noise features\n",
      "====================================================================================================\n",
      "Amount of samples = 5000\n",
      "Total used features = 500\n",
      "Informative features: 165 (33%)\n",
      "\n",
      "Seed 0\n"
     ]
    },
    {
     "data": {
      "application/vnd.jupyter.widget-view+json": {
       "model_id": "fc616df4ae7b4dddb6af5d2c3f3c75a9",
       "version_major": 2,
       "version_minor": 0
      },
      "text/plain": [
       "  0%|          | 0/20 [00:00<?, ?it/s]"
      ]
     },
     "metadata": {},
     "output_type": "display_data"
    },
    {
     "data": {
      "application/vnd.jupyter.widget-view+json": {
       "model_id": "49fee3fe7f664c5f8cebc4a47c91a3a9",
       "version_major": 2,
       "version_minor": 0
      },
      "text/plain": [
       "  0%|          | 0/10 [00:00<?, ?it/s]"
      ]
     },
     "metadata": {},
     "output_type": "display_data"
    },
    {
     "data": {
      "application/vnd.jupyter.widget-view+json": {
       "model_id": "7479110799754a7da32596a1afcbad26",
       "version_major": 2,
       "version_minor": 0
      },
      "text/plain": [
       "  0%|          | 0/10 [00:00<?, ?it/s]"
      ]
     },
     "metadata": {},
     "output_type": "display_data"
    },
    {
     "data": {
      "application/vnd.jupyter.widget-view+json": {
       "model_id": "fc639af963ea44099cd7053184588438",
       "version_major": 2,
       "version_minor": 0
      },
      "text/plain": [
       "  0%|          | 0/10 [00:00<?, ?it/s]"
      ]
     },
     "metadata": {},
     "output_type": "display_data"
    },
    {
     "name": "stdout",
     "output_type": "stream",
     "text": [
      "--------------------------------------------------\n",
      "Seed 1\n"
     ]
    },
    {
     "data": {
      "application/vnd.jupyter.widget-view+json": {
       "model_id": "f4fde14ac6764cac84072b939d1c6e1d",
       "version_major": 2,
       "version_minor": 0
      },
      "text/plain": [
       "  0%|          | 0/20 [00:00<?, ?it/s]"
      ]
     },
     "metadata": {},
     "output_type": "display_data"
    },
    {
     "data": {
      "application/vnd.jupyter.widget-view+json": {
       "model_id": "79b17da11ce549ce9fbafacd231a6527",
       "version_major": 2,
       "version_minor": 0
      },
      "text/plain": [
       "  0%|          | 0/10 [00:00<?, ?it/s]"
      ]
     },
     "metadata": {},
     "output_type": "display_data"
    },
    {
     "data": {
      "application/vnd.jupyter.widget-view+json": {
       "model_id": "1717970e9b2d4d749f3ef49b3c59635b",
       "version_major": 2,
       "version_minor": 0
      },
      "text/plain": [
       "  0%|          | 0/10 [00:00<?, ?it/s]"
      ]
     },
     "metadata": {},
     "output_type": "display_data"
    },
    {
     "data": {
      "application/vnd.jupyter.widget-view+json": {
       "model_id": "84be7aba5c9f4da6a284a1319c183da3",
       "version_major": 2,
       "version_minor": 0
      },
      "text/plain": [
       "  0%|          | 0/10 [00:00<?, ?it/s]"
      ]
     },
     "metadata": {},
     "output_type": "display_data"
    },
    {
     "name": "stdout",
     "output_type": "stream",
     "text": [
      "--------------------------------------------------\n",
      "Seed 2\n"
     ]
    },
    {
     "data": {
      "application/vnd.jupyter.widget-view+json": {
       "model_id": "0a40fb86f46044f2b7f2f3f82f1bf810",
       "version_major": 2,
       "version_minor": 0
      },
      "text/plain": [
       "  0%|          | 0/20 [00:00<?, ?it/s]"
      ]
     },
     "metadata": {},
     "output_type": "display_data"
    },
    {
     "data": {
      "application/vnd.jupyter.widget-view+json": {
       "model_id": "03d8ab3466504875a620bddedf8cbffd",
       "version_major": 2,
       "version_minor": 0
      },
      "text/plain": [
       "  0%|          | 0/10 [00:00<?, ?it/s]"
      ]
     },
     "metadata": {},
     "output_type": "display_data"
    },
    {
     "data": {
      "application/vnd.jupyter.widget-view+json": {
       "model_id": "cd0fbda9e77c4c9581070173e1d5b81c",
       "version_major": 2,
       "version_minor": 0
      },
      "text/plain": [
       "  0%|          | 0/10 [00:00<?, ?it/s]"
      ]
     },
     "metadata": {},
     "output_type": "display_data"
    },
    {
     "data": {
      "application/vnd.jupyter.widget-view+json": {
       "model_id": "276e519616dd4524aaa471d3180c9863",
       "version_major": 2,
       "version_minor": 0
      },
      "text/plain": [
       "  0%|          | 0/10 [00:00<?, ?it/s]"
      ]
     },
     "metadata": {},
     "output_type": "display_data"
    },
    {
     "name": "stdout",
     "output_type": "stream",
     "text": [
      "--------------------------------------------------\n",
      "Seed 3\n"
     ]
    },
    {
     "data": {
      "application/vnd.jupyter.widget-view+json": {
       "model_id": "7c5cef578fc449b0a646fb21db5f4516",
       "version_major": 2,
       "version_minor": 0
      },
      "text/plain": [
       "  0%|          | 0/20 [00:00<?, ?it/s]"
      ]
     },
     "metadata": {},
     "output_type": "display_data"
    },
    {
     "data": {
      "application/vnd.jupyter.widget-view+json": {
       "model_id": "55169fd3532448118a511a517aa122b7",
       "version_major": 2,
       "version_minor": 0
      },
      "text/plain": [
       "  0%|          | 0/10 [00:00<?, ?it/s]"
      ]
     },
     "metadata": {},
     "output_type": "display_data"
    },
    {
     "data": {
      "application/vnd.jupyter.widget-view+json": {
       "model_id": "8c59488f047946c792b6bf14c7b99db3",
       "version_major": 2,
       "version_minor": 0
      },
      "text/plain": [
       "  0%|          | 0/10 [00:00<?, ?it/s]"
      ]
     },
     "metadata": {},
     "output_type": "display_data"
    },
    {
     "data": {
      "application/vnd.jupyter.widget-view+json": {
       "model_id": "d1d3a697bbc549f58c158ba5cebf1fc9",
       "version_major": 2,
       "version_minor": 0
      },
      "text/plain": [
       "  0%|          | 0/10 [00:00<?, ?it/s]"
      ]
     },
     "metadata": {},
     "output_type": "display_data"
    },
    {
     "name": "stdout",
     "output_type": "stream",
     "text": [
      "--------------------------------------------------\n",
      "Seed 4\n"
     ]
    },
    {
     "data": {
      "application/vnd.jupyter.widget-view+json": {
       "model_id": "e44c8bfefefe40c79fc9484ad9443aef",
       "version_major": 2,
       "version_minor": 0
      },
      "text/plain": [
       "  0%|          | 0/20 [00:00<?, ?it/s]"
      ]
     },
     "metadata": {},
     "output_type": "display_data"
    },
    {
     "data": {
      "application/vnd.jupyter.widget-view+json": {
       "model_id": "e39cf6343afc4e908bf6511b7db1e788",
       "version_major": 2,
       "version_minor": 0
      },
      "text/plain": [
       "  0%|          | 0/10 [00:00<?, ?it/s]"
      ]
     },
     "metadata": {},
     "output_type": "display_data"
    },
    {
     "data": {
      "application/vnd.jupyter.widget-view+json": {
       "model_id": "adbfd86d66944557884e916383fa58e7",
       "version_major": 2,
       "version_minor": 0
      },
      "text/plain": [
       "  0%|          | 0/10 [00:00<?, ?it/s]"
      ]
     },
     "metadata": {},
     "output_type": "display_data"
    },
    {
     "data": {
      "application/vnd.jupyter.widget-view+json": {
       "model_id": "6496785b0ce44162828ffac22488bdf1",
       "version_major": 2,
       "version_minor": 0
      },
      "text/plain": [
       "  0%|          | 0/10 [00:00<?, ?it/s]"
      ]
     },
     "metadata": {},
     "output_type": "display_data"
    },
    {
     "name": "stdout",
     "output_type": "stream",
     "text": [
      "--------------------------------------------------\n",
      "Average time: 488.12 seconds\n",
      "Found features: [156, 153, 165, 153, 163]\n",
      "Found 156.6 of 165 informative features\n",
      "1.4 of 158.0 outputted powershap features are noise features\n",
      "====================================================================================================\n",
      "Amount of samples = 5000\n",
      "Total used features = 500\n",
      "Informative features: 250 (50%)\n",
      "\n",
      "Seed 0\n"
     ]
    },
    {
     "data": {
      "application/vnd.jupyter.widget-view+json": {
       "model_id": "78bf468abbc84804a68eb8db77a0f6d0",
       "version_major": 2,
       "version_minor": 0
      },
      "text/plain": [
       "  0%|          | 0/20 [00:00<?, ?it/s]"
      ]
     },
     "metadata": {},
     "output_type": "display_data"
    },
    {
     "data": {
      "application/vnd.jupyter.widget-view+json": {
       "model_id": "17527e4dd0b24976a22342e41186f4da",
       "version_major": 2,
       "version_minor": 0
      },
      "text/plain": [
       "  0%|          | 0/10 [00:00<?, ?it/s]"
      ]
     },
     "metadata": {},
     "output_type": "display_data"
    },
    {
     "data": {
      "application/vnd.jupyter.widget-view+json": {
       "model_id": "958f988ad7fb46d2b620aba52a8ac138",
       "version_major": 2,
       "version_minor": 0
      },
      "text/plain": [
       "  0%|          | 0/10 [00:00<?, ?it/s]"
      ]
     },
     "metadata": {},
     "output_type": "display_data"
    },
    {
     "data": {
      "application/vnd.jupyter.widget-view+json": {
       "model_id": "badd6e4798e44442a9d9f3aa6b9d86f0",
       "version_major": 2,
       "version_minor": 0
      },
      "text/plain": [
       "  0%|          | 0/10 [00:00<?, ?it/s]"
      ]
     },
     "metadata": {},
     "output_type": "display_data"
    },
    {
     "name": "stdout",
     "output_type": "stream",
     "text": [
      "--------------------------------------------------\n",
      "Seed 1\n"
     ]
    },
    {
     "data": {
      "application/vnd.jupyter.widget-view+json": {
       "model_id": "b27244e9f5ce40d5ba7a185fa95eb3df",
       "version_major": 2,
       "version_minor": 0
      },
      "text/plain": [
       "  0%|          | 0/20 [00:00<?, ?it/s]"
      ]
     },
     "metadata": {},
     "output_type": "display_data"
    },
    {
     "data": {
      "application/vnd.jupyter.widget-view+json": {
       "model_id": "ba4634f4be2945ca9886d6ff220bfbf0",
       "version_major": 2,
       "version_minor": 0
      },
      "text/plain": [
       "  0%|          | 0/10 [00:00<?, ?it/s]"
      ]
     },
     "metadata": {},
     "output_type": "display_data"
    },
    {
     "data": {
      "application/vnd.jupyter.widget-view+json": {
       "model_id": "dee9ad3485b845b08702168db191a956",
       "version_major": 2,
       "version_minor": 0
      },
      "text/plain": [
       "  0%|          | 0/10 [00:00<?, ?it/s]"
      ]
     },
     "metadata": {},
     "output_type": "display_data"
    },
    {
     "data": {
      "application/vnd.jupyter.widget-view+json": {
       "model_id": "91975566b509464fb39901d0fbe250e2",
       "version_major": 2,
       "version_minor": 0
      },
      "text/plain": [
       "  0%|          | 0/10 [00:00<?, ?it/s]"
      ]
     },
     "metadata": {},
     "output_type": "display_data"
    },
    {
     "name": "stdout",
     "output_type": "stream",
     "text": [
      "--------------------------------------------------\n",
      "Seed 2\n"
     ]
    },
    {
     "data": {
      "application/vnd.jupyter.widget-view+json": {
       "model_id": "89b64e924d884d30bf269a68931a28ef",
       "version_major": 2,
       "version_minor": 0
      },
      "text/plain": [
       "  0%|          | 0/20 [00:00<?, ?it/s]"
      ]
     },
     "metadata": {},
     "output_type": "display_data"
    },
    {
     "data": {
      "application/vnd.jupyter.widget-view+json": {
       "model_id": "1c8ec3899c144a98bfaf9b589b605a08",
       "version_major": 2,
       "version_minor": 0
      },
      "text/plain": [
       "  0%|          | 0/10 [00:00<?, ?it/s]"
      ]
     },
     "metadata": {},
     "output_type": "display_data"
    },
    {
     "data": {
      "application/vnd.jupyter.widget-view+json": {
       "model_id": "f3da33d6e4b04d43b85eae6903f71c30",
       "version_major": 2,
       "version_minor": 0
      },
      "text/plain": [
       "  0%|          | 0/10 [00:00<?, ?it/s]"
      ]
     },
     "metadata": {},
     "output_type": "display_data"
    },
    {
     "data": {
      "application/vnd.jupyter.widget-view+json": {
       "model_id": "1620e9fe5c8f4baa9a3841be88e3d7a7",
       "version_major": 2,
       "version_minor": 0
      },
      "text/plain": [
       "  0%|          | 0/10 [00:00<?, ?it/s]"
      ]
     },
     "metadata": {},
     "output_type": "display_data"
    },
    {
     "name": "stdout",
     "output_type": "stream",
     "text": [
      "--------------------------------------------------\n",
      "Seed 3\n"
     ]
    },
    {
     "data": {
      "application/vnd.jupyter.widget-view+json": {
       "model_id": "de48252471004807b3eacd5b0311f5bb",
       "version_major": 2,
       "version_minor": 0
      },
      "text/plain": [
       "  0%|          | 0/20 [00:00<?, ?it/s]"
      ]
     },
     "metadata": {},
     "output_type": "display_data"
    },
    {
     "data": {
      "application/vnd.jupyter.widget-view+json": {
       "model_id": "702779d8a50d4a4a9c61abbbf0374a01",
       "version_major": 2,
       "version_minor": 0
      },
      "text/plain": [
       "  0%|          | 0/10 [00:00<?, ?it/s]"
      ]
     },
     "metadata": {},
     "output_type": "display_data"
    },
    {
     "data": {
      "application/vnd.jupyter.widget-view+json": {
       "model_id": "5067ed53937a4fc2b6c7540bdb983ef1",
       "version_major": 2,
       "version_minor": 0
      },
      "text/plain": [
       "  0%|          | 0/10 [00:00<?, ?it/s]"
      ]
     },
     "metadata": {},
     "output_type": "display_data"
    },
    {
     "data": {
      "application/vnd.jupyter.widget-view+json": {
       "model_id": "1f6856eed3a4420b82032aa4b158d62e",
       "version_major": 2,
       "version_minor": 0
      },
      "text/plain": [
       "  0%|          | 0/10 [00:00<?, ?it/s]"
      ]
     },
     "metadata": {},
     "output_type": "display_data"
    },
    {
     "name": "stdout",
     "output_type": "stream",
     "text": [
      "--------------------------------------------------\n",
      "Seed 4\n"
     ]
    },
    {
     "data": {
      "application/vnd.jupyter.widget-view+json": {
       "model_id": "15bf8c92881048d0a045930885768226",
       "version_major": 2,
       "version_minor": 0
      },
      "text/plain": [
       "  0%|          | 0/20 [00:00<?, ?it/s]"
      ]
     },
     "metadata": {},
     "output_type": "display_data"
    },
    {
     "data": {
      "application/vnd.jupyter.widget-view+json": {
       "model_id": "43e61cee18f049a9a21b4e70c41789d5",
       "version_major": 2,
       "version_minor": 0
      },
      "text/plain": [
       "  0%|          | 0/10 [00:00<?, ?it/s]"
      ]
     },
     "metadata": {},
     "output_type": "display_data"
    },
    {
     "data": {
      "application/vnd.jupyter.widget-view+json": {
       "model_id": "f392e250b6f24ee481d6a98d51aae0a0",
       "version_major": 2,
       "version_minor": 0
      },
      "text/plain": [
       "  0%|          | 0/10 [00:00<?, ?it/s]"
      ]
     },
     "metadata": {},
     "output_type": "display_data"
    },
    {
     "data": {
      "application/vnd.jupyter.widget-view+json": {
       "model_id": "bede6fce5d5f4371970979d77727b97d",
       "version_major": 2,
       "version_minor": 0
      },
      "text/plain": [
       "  0%|          | 0/10 [00:00<?, ?it/s]"
      ]
     },
     "metadata": {},
     "output_type": "display_data"
    },
    {
     "name": "stdout",
     "output_type": "stream",
     "text": [
      "--------------------------------------------------\n",
      "Average time: 537.63 seconds\n",
      "Found features: [198, 208, 203, 195, 209]\n",
      "Found 201.4 of 250 informative features\n",
      "1.2 of 202.6 outputted powershap features are noise features\n",
      "====================================================================================================\n",
      "Amount of samples = 5000\n",
      "Total used features = 500\n",
      "Informative features: 450 (90%)\n",
      "\n",
      "Seed 0\n"
     ]
    },
    {
     "data": {
      "application/vnd.jupyter.widget-view+json": {
       "model_id": "d5b3bbd9d03049439ee9d094c6f29bf7",
       "version_major": 2,
       "version_minor": 0
      },
      "text/plain": [
       "  0%|          | 0/20 [00:00<?, ?it/s]"
      ]
     },
     "metadata": {},
     "output_type": "display_data"
    },
    {
     "data": {
      "application/vnd.jupyter.widget-view+json": {
       "model_id": "0979c2cce9764d0da7f49d87ff0044c6",
       "version_major": 2,
       "version_minor": 0
      },
      "text/plain": [
       "  0%|          | 0/10 [00:00<?, ?it/s]"
      ]
     },
     "metadata": {},
     "output_type": "display_data"
    },
    {
     "data": {
      "application/vnd.jupyter.widget-view+json": {
       "model_id": "c3b8eadcf10c46a0973a1d504d03da6e",
       "version_major": 2,
       "version_minor": 0
      },
      "text/plain": [
       "  0%|          | 0/10 [00:00<?, ?it/s]"
      ]
     },
     "metadata": {},
     "output_type": "display_data"
    },
    {
     "data": {
      "application/vnd.jupyter.widget-view+json": {
       "model_id": "b4031d61e86947bdbd680b0dd20d7e1b",
       "version_major": 2,
       "version_minor": 0
      },
      "text/plain": [
       "  0%|          | 0/10 [00:00<?, ?it/s]"
      ]
     },
     "metadata": {},
     "output_type": "display_data"
    },
    {
     "name": "stdout",
     "output_type": "stream",
     "text": [
      "--------------------------------------------------\n",
      "Seed 1\n"
     ]
    },
    {
     "data": {
      "application/vnd.jupyter.widget-view+json": {
       "model_id": "2fd6b5b463944c6e954e9b1da08c82cc",
       "version_major": 2,
       "version_minor": 0
      },
      "text/plain": [
       "  0%|          | 0/20 [00:00<?, ?it/s]"
      ]
     },
     "metadata": {},
     "output_type": "display_data"
    },
    {
     "data": {
      "application/vnd.jupyter.widget-view+json": {
       "model_id": "b54c5b99f06046c3b1be7a025cbf3cf0",
       "version_major": 2,
       "version_minor": 0
      },
      "text/plain": [
       "  0%|          | 0/10 [00:00<?, ?it/s]"
      ]
     },
     "metadata": {},
     "output_type": "display_data"
    },
    {
     "data": {
      "application/vnd.jupyter.widget-view+json": {
       "model_id": "a7f91f77179a4fb1aacf66e531a2f429",
       "version_major": 2,
       "version_minor": 0
      },
      "text/plain": [
       "  0%|          | 0/10 [00:00<?, ?it/s]"
      ]
     },
     "metadata": {},
     "output_type": "display_data"
    },
    {
     "data": {
      "application/vnd.jupyter.widget-view+json": {
       "model_id": "0706d545a4c545dfa6d0b532dfad1486",
       "version_major": 2,
       "version_minor": 0
      },
      "text/plain": [
       "  0%|          | 0/10 [00:00<?, ?it/s]"
      ]
     },
     "metadata": {},
     "output_type": "display_data"
    },
    {
     "name": "stdout",
     "output_type": "stream",
     "text": [
      "--------------------------------------------------\n",
      "Seed 2\n"
     ]
    },
    {
     "data": {
      "application/vnd.jupyter.widget-view+json": {
       "model_id": "a1ff3f3e5d3e445581e126b5e4020143",
       "version_major": 2,
       "version_minor": 0
      },
      "text/plain": [
       "  0%|          | 0/20 [00:00<?, ?it/s]"
      ]
     },
     "metadata": {},
     "output_type": "display_data"
    },
    {
     "data": {
      "application/vnd.jupyter.widget-view+json": {
       "model_id": "5625d60cded3489fa72c327eb076f408",
       "version_major": 2,
       "version_minor": 0
      },
      "text/plain": [
       "  0%|          | 0/10 [00:00<?, ?it/s]"
      ]
     },
     "metadata": {},
     "output_type": "display_data"
    },
    {
     "data": {
      "application/vnd.jupyter.widget-view+json": {
       "model_id": "a48fd62625f24fd49e371769febcd5fb",
       "version_major": 2,
       "version_minor": 0
      },
      "text/plain": [
       "  0%|          | 0/10 [00:00<?, ?it/s]"
      ]
     },
     "metadata": {},
     "output_type": "display_data"
    },
    {
     "data": {
      "application/vnd.jupyter.widget-view+json": {
       "model_id": "a9ff7656e08f473a846cc516ff5f90ae",
       "version_major": 2,
       "version_minor": 0
      },
      "text/plain": [
       "  0%|          | 0/10 [00:00<?, ?it/s]"
      ]
     },
     "metadata": {},
     "output_type": "display_data"
    },
    {
     "name": "stdout",
     "output_type": "stream",
     "text": [
      "--------------------------------------------------\n",
      "Seed 3\n"
     ]
    },
    {
     "data": {
      "application/vnd.jupyter.widget-view+json": {
       "model_id": "1ff4793bebb84171a5a513dcc62d4143",
       "version_major": 2,
       "version_minor": 0
      },
      "text/plain": [
       "  0%|          | 0/20 [00:00<?, ?it/s]"
      ]
     },
     "metadata": {},
     "output_type": "display_data"
    },
    {
     "data": {
      "application/vnd.jupyter.widget-view+json": {
       "model_id": "aecbc7231efb4d8fb43f9ace216dde44",
       "version_major": 2,
       "version_minor": 0
      },
      "text/plain": [
       "  0%|          | 0/10 [00:00<?, ?it/s]"
      ]
     },
     "metadata": {},
     "output_type": "display_data"
    },
    {
     "data": {
      "application/vnd.jupyter.widget-view+json": {
       "model_id": "8aebabd981354a8db0be32a54d779f94",
       "version_major": 2,
       "version_minor": 0
      },
      "text/plain": [
       "  0%|          | 0/10 [00:00<?, ?it/s]"
      ]
     },
     "metadata": {},
     "output_type": "display_data"
    },
    {
     "data": {
      "application/vnd.jupyter.widget-view+json": {
       "model_id": "e806d5d330c84faa9dacdcc508d8ea8f",
       "version_major": 2,
       "version_minor": 0
      },
      "text/plain": [
       "  0%|          | 0/10 [00:00<?, ?it/s]"
      ]
     },
     "metadata": {},
     "output_type": "display_data"
    },
    {
     "name": "stdout",
     "output_type": "stream",
     "text": [
      "--------------------------------------------------\n",
      "Seed 4\n"
     ]
    },
    {
     "data": {
      "application/vnd.jupyter.widget-view+json": {
       "model_id": "0ff3d44c6d434d45a1e841bbf3d87b33",
       "version_major": 2,
       "version_minor": 0
      },
      "text/plain": [
       "  0%|          | 0/20 [00:00<?, ?it/s]"
      ]
     },
     "metadata": {},
     "output_type": "display_data"
    },
    {
     "data": {
      "application/vnd.jupyter.widget-view+json": {
       "model_id": "fff378730d094a468335e3494051d8b0",
       "version_major": 2,
       "version_minor": 0
      },
      "text/plain": [
       "  0%|          | 0/10 [00:00<?, ?it/s]"
      ]
     },
     "metadata": {},
     "output_type": "display_data"
    },
    {
     "data": {
      "application/vnd.jupyter.widget-view+json": {
       "model_id": "826dd3ce75d54ac7b25e42ad15c6c844",
       "version_major": 2,
       "version_minor": 0
      },
      "text/plain": [
       "  0%|          | 0/10 [00:00<?, ?it/s]"
      ]
     },
     "metadata": {},
     "output_type": "display_data"
    },
    {
     "data": {
      "application/vnd.jupyter.widget-view+json": {
       "model_id": "6d74d9f3be3b491eb7661e7828d94af7",
       "version_major": 2,
       "version_minor": 0
      },
      "text/plain": [
       "  0%|          | 0/10 [00:00<?, ?it/s]"
      ]
     },
     "metadata": {},
     "output_type": "display_data"
    },
    {
     "name": "stdout",
     "output_type": "stream",
     "text": [
      "--------------------------------------------------\n",
      "Average time: 570.71 seconds\n",
      "Found features: [243, 239, 237, 254, 251]\n",
      "Found 244.4 of 450 informative features\n",
      "0.4 of 244.8 outputted powershap features are noise features\n",
      "====================================================================================================\n",
      "5000: \n",
      "20: \n",
      "[10.52  9.55  8.5  12.78  9.23]s - [11.38 13.05 12.34 10.93 13.63]s - [28.58 29.18 40.91 34.34 28.85]s - [59.07 55.66 41.43 48.52 70.42]s - [89.58 82.32 77.96 72.24 80.08]s | [1, 1, 1, 1, 1] ([0, 0, 0, 0, 0]) / 1 | [2, 2, 2, 2, 2] ([0, 0, 0, 0, 0]) / 2 | [6, 6, 6, 6, 6] ([0, 0, 0, 0, 0]) / 6 | [10, 10, 10, 10, 10] ([0, 0, 0, 0, 0]) / 10 | [18, 18, 18, 18, 18] ([0, 0, 0, 0, 0]) / 18 | \n",
      "100: \n",
      "[19.56 16.49 17.97 17.12 54.21]s - [59.15 50.65 44.92 42.14 64.94]s - [100.98  86.17  95.23  83.01  86.94]s - [107.73 112.12 219.48 100.38 110.9 ]s - [187.78 190.99 212.34 127.26 132.46]s | [3, 3, 3, 3, 3] ([0, 0, 0, 0, 0]) / 3 | [10, 10, 10, 10, 10] ([0, 0, 0, 0, 0]) / 10 | [33, 33, 33, 33, 33] ([0, 0, 0, 0, 0]) / 33 | [50, 50, 50, 50, 50] ([0, 0, 1, 0, 0]) / 50 | [89, 89, 90, 90, 90] ([0, 0, 0, 0, 0]) / 90 | \n",
      "250: \n",
      "[54.41 38.   41.36 34.89 49.24]s - [104.44  92.89  85.33  95.66 184.64]s - [313.25 294.28 328.11 208.77 237.93]s - [361.33 388.75 331.69 377.94 382.38]s - [427.78 433.31 438.66 447.37 448.02]s | [7, 7, 7, 7, 7] ([0, 0, 0, 0, 0]) / 7 | [25, 25, 25, 25, 25] ([0, 0, 0, 0, 1]) / 25 | [82, 82, 82, 82, 82] ([0, 0, 1, 1, 1]) / 82 | [124, 125, 125, 124, 124] ([0, 2, 0, 2, 0]) / 125 | [197, 212, 200, 202, 193] ([0, 0, 1, 0, 0]) / 225 | \n",
      "500: \n",
      "[264.34 205.12  92.72  84.79  90.27]s - [135.14 156.   381.76 311.85 129.56]s - [500.63 461.94 481.   486.   511.02]s - [545.6  509.   556.38 540.04 537.14]s - [585.92 559.77 573.85 568.47 565.53]s | [15, 15, 15, 15, 15] ([4, 1, 0, 0, 0]) / 15 | [50, 50, 50, 50, 50] ([0, 0, 1, 1, 0]) / 50 | [154, 153, 164, 152, 160] ([2, 0, 1, 1, 3]) / 165 | [198, 207, 203, 193, 206] ([0, 1, 0, 2, 3]) / 250 | [242, 239, 236, 254, 251] ([1, 0, 1, 0, 0]) / 450 | \n",
      "====================================================================================================\n",
      "Amount of samples = 10000\n",
      "Total used features = 20\n",
      "Informative features: 1 (3%)\n",
      "\n",
      "Seed 0\n"
     ]
    },
    {
     "data": {
      "application/vnd.jupyter.widget-view+json": {
       "model_id": "18e003b46e9e45ea8edcdfe5657cc3bd",
       "version_major": 2,
       "version_minor": 0
      },
      "text/plain": [
       "  0%|          | 0/20 [00:00<?, ?it/s]"
      ]
     },
     "metadata": {},
     "output_type": "display_data"
    },
    {
     "name": "stdout",
     "output_type": "stream",
     "text": [
      "--------------------------------------------------\n",
      "Seed 1\n"
     ]
    },
    {
     "data": {
      "application/vnd.jupyter.widget-view+json": {
       "model_id": "a606a35b79b74c288d9a65a87f11f9c1",
       "version_major": 2,
       "version_minor": 0
      },
      "text/plain": [
       "  0%|          | 0/20 [00:00<?, ?it/s]"
      ]
     },
     "metadata": {},
     "output_type": "display_data"
    },
    {
     "name": "stdout",
     "output_type": "stream",
     "text": [
      "--------------------------------------------------\n",
      "Seed 2\n"
     ]
    },
    {
     "data": {
      "application/vnd.jupyter.widget-view+json": {
       "model_id": "7ffd191a31114f0d8d32be085341b074",
       "version_major": 2,
       "version_minor": 0
      },
      "text/plain": [
       "  0%|          | 0/20 [00:00<?, ?it/s]"
      ]
     },
     "metadata": {},
     "output_type": "display_data"
    },
    {
     "name": "stdout",
     "output_type": "stream",
     "text": [
      "--------------------------------------------------\n",
      "Seed 3\n"
     ]
    },
    {
     "data": {
      "application/vnd.jupyter.widget-view+json": {
       "model_id": "2ecc1e7d00ae40fb82a5dbf254ed87f6",
       "version_major": 2,
       "version_minor": 0
      },
      "text/plain": [
       "  0%|          | 0/20 [00:00<?, ?it/s]"
      ]
     },
     "metadata": {},
     "output_type": "display_data"
    },
    {
     "name": "stdout",
     "output_type": "stream",
     "text": [
      "--------------------------------------------------\n",
      "Seed 4\n"
     ]
    },
    {
     "data": {
      "application/vnd.jupyter.widget-view+json": {
       "model_id": "c6ad1956b74044dd9c8b830a1672f9a3",
       "version_major": 2,
       "version_minor": 0
      },
      "text/plain": [
       "  0%|          | 0/20 [00:00<?, ?it/s]"
      ]
     },
     "metadata": {},
     "output_type": "display_data"
    },
    {
     "name": "stdout",
     "output_type": "stream",
     "text": [
      "--------------------------------------------------\n",
      "Average time: 18.6 seconds\n",
      "Found features: [1, 1, 1, 1, 1]\n",
      "Found 1.0 of 1 informative features\n",
      "0.0 of 1.0 outputted powershap features are noise features\n",
      "====================================================================================================\n",
      "Amount of samples = 10000\n",
      "Total used features = 20\n",
      "Informative features: 2 (10%)\n",
      "\n",
      "Seed 0\n"
     ]
    },
    {
     "data": {
      "application/vnd.jupyter.widget-view+json": {
       "model_id": "ad028d0e58f14c81bff5f6d866170b51",
       "version_major": 2,
       "version_minor": 0
      },
      "text/plain": [
       "  0%|          | 0/20 [00:00<?, ?it/s]"
      ]
     },
     "metadata": {},
     "output_type": "display_data"
    },
    {
     "name": "stdout",
     "output_type": "stream",
     "text": [
      "--------------------------------------------------\n",
      "Seed 1\n"
     ]
    },
    {
     "data": {
      "application/vnd.jupyter.widget-view+json": {
       "model_id": "59f0086b72ce4cd78d5ca26c108567a3",
       "version_major": 2,
       "version_minor": 0
      },
      "text/plain": [
       "  0%|          | 0/20 [00:00<?, ?it/s]"
      ]
     },
     "metadata": {},
     "output_type": "display_data"
    },
    {
     "name": "stdout",
     "output_type": "stream",
     "text": [
      "--------------------------------------------------\n",
      "Seed 2\n"
     ]
    },
    {
     "data": {
      "application/vnd.jupyter.widget-view+json": {
       "model_id": "869e0ed7ec474a568e457122c90094d4",
       "version_major": 2,
       "version_minor": 0
      },
      "text/plain": [
       "  0%|          | 0/20 [00:00<?, ?it/s]"
      ]
     },
     "metadata": {},
     "output_type": "display_data"
    },
    {
     "name": "stdout",
     "output_type": "stream",
     "text": [
      "--------------------------------------------------\n",
      "Seed 3\n"
     ]
    },
    {
     "data": {
      "application/vnd.jupyter.widget-view+json": {
       "model_id": "c7071e68e6e44f7abd5db7f8513d6bdb",
       "version_major": 2,
       "version_minor": 0
      },
      "text/plain": [
       "  0%|          | 0/20 [00:00<?, ?it/s]"
      ]
     },
     "metadata": {},
     "output_type": "display_data"
    },
    {
     "name": "stdout",
     "output_type": "stream",
     "text": [
      "--------------------------------------------------\n",
      "Seed 4\n"
     ]
    },
    {
     "data": {
      "application/vnd.jupyter.widget-view+json": {
       "model_id": "fbd0e1af153c4beebc55fb4f4f873105",
       "version_major": 2,
       "version_minor": 0
      },
      "text/plain": [
       "  0%|          | 0/20 [00:00<?, ?it/s]"
      ]
     },
     "metadata": {},
     "output_type": "display_data"
    },
    {
     "name": "stdout",
     "output_type": "stream",
     "text": [
      "--------------------------------------------------\n",
      "Average time: 23.17 seconds\n",
      "Found features: [2, 2, 2, 2, 2]\n",
      "Found 2.0 of 2 informative features\n",
      "0.0 of 2.0 outputted powershap features are noise features\n",
      "====================================================================================================\n",
      "Amount of samples = 10000\n",
      "Total used features = 20\n",
      "Informative features: 6 (33%)\n",
      "\n",
      "Seed 0\n"
     ]
    },
    {
     "data": {
      "application/vnd.jupyter.widget-view+json": {
       "model_id": "2072e1b764cf4fe3b585801b6c75e876",
       "version_major": 2,
       "version_minor": 0
      },
      "text/plain": [
       "  0%|          | 0/20 [00:00<?, ?it/s]"
      ]
     },
     "metadata": {},
     "output_type": "display_data"
    },
    {
     "name": "stdout",
     "output_type": "stream",
     "text": [
      "--------------------------------------------------\n",
      "Seed 1\n"
     ]
    },
    {
     "data": {
      "application/vnd.jupyter.widget-view+json": {
       "model_id": "edeec707181a4804a0c34364097d2557",
       "version_major": 2,
       "version_minor": 0
      },
      "text/plain": [
       "  0%|          | 0/20 [00:00<?, ?it/s]"
      ]
     },
     "metadata": {},
     "output_type": "display_data"
    },
    {
     "name": "stdout",
     "output_type": "stream",
     "text": [
      "--------------------------------------------------\n",
      "Seed 2\n"
     ]
    },
    {
     "data": {
      "application/vnd.jupyter.widget-view+json": {
       "model_id": "08e76b3b10a84dd2872a0b6492897ce7",
       "version_major": 2,
       "version_minor": 0
      },
      "text/plain": [
       "  0%|          | 0/20 [00:00<?, ?it/s]"
      ]
     },
     "metadata": {},
     "output_type": "display_data"
    },
    {
     "name": "stdout",
     "output_type": "stream",
     "text": [
      "--------------------------------------------------\n",
      "Seed 3\n"
     ]
    },
    {
     "data": {
      "application/vnd.jupyter.widget-view+json": {
       "model_id": "0f706b5f366d4d27be32bca41f3eb042",
       "version_major": 2,
       "version_minor": 0
      },
      "text/plain": [
       "  0%|          | 0/20 [00:00<?, ?it/s]"
      ]
     },
     "metadata": {},
     "output_type": "display_data"
    },
    {
     "name": "stdout",
     "output_type": "stream",
     "text": [
      "--------------------------------------------------\n",
      "Seed 4\n"
     ]
    },
    {
     "data": {
      "application/vnd.jupyter.widget-view+json": {
       "model_id": "459564f67e104bab8737af84816efca8",
       "version_major": 2,
       "version_minor": 0
      },
      "text/plain": [
       "  0%|          | 0/20 [00:00<?, ?it/s]"
      ]
     },
     "metadata": {},
     "output_type": "display_data"
    },
    {
     "name": "stdout",
     "output_type": "stream",
     "text": [
      "--------------------------------------------------\n",
      "Average time: 77.65 seconds\n",
      "Found features: [6, 6, 6, 6, 6]\n",
      "Found 6.0 of 6 informative features\n",
      "0.0 of 6.0 outputted powershap features are noise features\n",
      "====================================================================================================\n",
      "Amount of samples = 10000\n",
      "Total used features = 20\n",
      "Informative features: 10 (50%)\n",
      "\n",
      "Seed 0\n"
     ]
    },
    {
     "data": {
      "application/vnd.jupyter.widget-view+json": {
       "model_id": "425fe45b2cc74b07a2e6b1fa1368b842",
       "version_major": 2,
       "version_minor": 0
      },
      "text/plain": [
       "  0%|          | 0/20 [00:00<?, ?it/s]"
      ]
     },
     "metadata": {},
     "output_type": "display_data"
    },
    {
     "name": "stderr",
     "output_type": "stream",
     "text": [
      " 98%|===================| 1963/2000 [00:12<00:00]        "
     ]
    },
    {
     "name": "stdout",
     "output_type": "stream",
     "text": [
      "--------------------------------------------------\n",
      "Seed 1\n"
     ]
    },
    {
     "data": {
      "application/vnd.jupyter.widget-view+json": {
       "model_id": "34d7b28cef39407384f4e7220c5736c8",
       "version_major": 2,
       "version_minor": 0
      },
      "text/plain": [
       "  0%|          | 0/20 [00:00<?, ?it/s]"
      ]
     },
     "metadata": {},
     "output_type": "display_data"
    },
    {
     "name": "stdout",
     "output_type": "stream",
     "text": [
      "--------------------------------------------------\n",
      "Seed 2\n"
     ]
    },
    {
     "data": {
      "application/vnd.jupyter.widget-view+json": {
       "model_id": "c0109bd24eeb4766b26fa2e064245833",
       "version_major": 2,
       "version_minor": 0
      },
      "text/plain": [
       "  0%|          | 0/20 [00:00<?, ?it/s]"
      ]
     },
     "metadata": {},
     "output_type": "display_data"
    },
    {
     "name": "stdout",
     "output_type": "stream",
     "text": [
      "--------------------------------------------------\n",
      "Seed 3\n"
     ]
    },
    {
     "data": {
      "application/vnd.jupyter.widget-view+json": {
       "model_id": "9b00e9cb721141109c9cf5dc5adfb025",
       "version_major": 2,
       "version_minor": 0
      },
      "text/plain": [
       "  0%|          | 0/20 [00:00<?, ?it/s]"
      ]
     },
     "metadata": {},
     "output_type": "display_data"
    },
    {
     "name": "stdout",
     "output_type": "stream",
     "text": [
      "--------------------------------------------------\n",
      "Seed 4\n"
     ]
    },
    {
     "data": {
      "application/vnd.jupyter.widget-view+json": {
       "model_id": "1b29aa304f3d4cd6a7156a3a1f70826e",
       "version_major": 2,
       "version_minor": 0
      },
      "text/plain": [
       "  0%|          | 0/20 [00:00<?, ?it/s]"
      ]
     },
     "metadata": {},
     "output_type": "display_data"
    },
    {
     "name": "stdout",
     "output_type": "stream",
     "text": [
      "--------------------------------------------------\n",
      "Average time: 128.09 seconds\n",
      "Found features: [10, 10, 10, 10, 10]\n",
      "Found 10.0 of 10 informative features\n",
      "0.0 of 10.0 outputted powershap features are noise features\n",
      "====================================================================================================\n",
      "Amount of samples = 10000\n",
      "Total used features = 20\n",
      "Informative features: 18 (90%)\n",
      "\n",
      "Seed 0\n"
     ]
    },
    {
     "data": {
      "application/vnd.jupyter.widget-view+json": {
       "model_id": "110251a67b094a8da4cf78ff72e0c057",
       "version_major": 2,
       "version_minor": 0
      },
      "text/plain": [
       "  0%|          | 0/20 [00:00<?, ?it/s]"
      ]
     },
     "metadata": {},
     "output_type": "display_data"
    },
    {
     "name": "stderr",
     "output_type": "stream",
     "text": [
      " 93%|=================== | 1854/2000 [00:11<00:00]       "
     ]
    },
    {
     "name": "stdout",
     "output_type": "stream",
     "text": [
      "--------------------------------------------------\n",
      "Seed 1\n"
     ]
    },
    {
     "data": {
      "application/vnd.jupyter.widget-view+json": {
       "model_id": "3c0ca6b395064009bdaabefae458675c",
       "version_major": 2,
       "version_minor": 0
      },
      "text/plain": [
       "  0%|          | 0/20 [00:00<?, ?it/s]"
      ]
     },
     "metadata": {},
     "output_type": "display_data"
    },
    {
     "name": "stderr",
     "output_type": "stream",
     "text": [
      " 96%|=================== | 1914/2000 [00:14<00:00]       "
     ]
    },
    {
     "name": "stdout",
     "output_type": "stream",
     "text": [
      "--------------------------------------------------\n",
      "Seed 2\n"
     ]
    },
    {
     "data": {
      "application/vnd.jupyter.widget-view+json": {
       "model_id": "6d3f3c5293464f439397948a1a256245",
       "version_major": 2,
       "version_minor": 0
      },
      "text/plain": [
       "  0%|          | 0/20 [00:00<?, ?it/s]"
      ]
     },
     "metadata": {},
     "output_type": "display_data"
    },
    {
     "name": "stderr",
     "output_type": "stream",
     "text": [
      " 97%|=================== | 1933/2000 [00:11<00:00]       "
     ]
    },
    {
     "name": "stdout",
     "output_type": "stream",
     "text": [
      "--------------------------------------------------\n",
      "Seed 3\n"
     ]
    },
    {
     "data": {
      "application/vnd.jupyter.widget-view+json": {
       "model_id": "0abf5869f4fe48099f5ebfa5d6a08aab",
       "version_major": 2,
       "version_minor": 0
      },
      "text/plain": [
       "  0%|          | 0/20 [00:00<?, ?it/s]"
      ]
     },
     "metadata": {},
     "output_type": "display_data"
    },
    {
     "name": "stderr",
     "output_type": "stream",
     "text": [
      " 97%|=================== | 1938/2000 [00:12<00:00]       "
     ]
    },
    {
     "name": "stdout",
     "output_type": "stream",
     "text": [
      "--------------------------------------------------\n",
      "Seed 4\n"
     ]
    },
    {
     "data": {
      "application/vnd.jupyter.widget-view+json": {
       "model_id": "d4acbcaf905448bda645bcc3dea6c928",
       "version_major": 2,
       "version_minor": 0
      },
      "text/plain": [
       "  0%|          | 0/20 [00:00<?, ?it/s]"
      ]
     },
     "metadata": {},
     "output_type": "display_data"
    },
    {
     "name": "stderr",
     "output_type": "stream",
     "text": [
      " 97%|=================== | 1933/2000 [00:12<00:00]       "
     ]
    },
    {
     "name": "stdout",
     "output_type": "stream",
     "text": [
      "--------------------------------------------------\n",
      "Average time: 190.21 seconds\n",
      "Found features: [18, 18, 18, 18, 18]\n",
      "Found 18.0 of 18 informative features\n",
      "0.0 of 18.0 outputted powershap features are noise features\n",
      "====================================================================================================\n",
      "5000: \n",
      "20: \n",
      "[10.52  9.55  8.5  12.78  9.23]s - [11.38 13.05 12.34 10.93 13.63]s - [28.58 29.18 40.91 34.34 28.85]s - [59.07 55.66 41.43 48.52 70.42]s - [89.58 82.32 77.96 72.24 80.08]s | [1, 1, 1, 1, 1] ([0, 0, 0, 0, 0]) / 1 | [2, 2, 2, 2, 2] ([0, 0, 0, 0, 0]) / 2 | [6, 6, 6, 6, 6] ([0, 0, 0, 0, 0]) / 6 | [10, 10, 10, 10, 10] ([0, 0, 0, 0, 0]) / 10 | [18, 18, 18, 18, 18] ([0, 0, 0, 0, 0]) / 18 | \n",
      "100: \n",
      "[19.56 16.49 17.97 17.12 54.21]s - [59.15 50.65 44.92 42.14 64.94]s - [100.98  86.17  95.23  83.01  86.94]s - [107.73 112.12 219.48 100.38 110.9 ]s - [187.78 190.99 212.34 127.26 132.46]s | [3, 3, 3, 3, 3] ([0, 0, 0, 0, 0]) / 3 | [10, 10, 10, 10, 10] ([0, 0, 0, 0, 0]) / 10 | [33, 33, 33, 33, 33] ([0, 0, 0, 0, 0]) / 33 | [50, 50, 50, 50, 50] ([0, 0, 1, 0, 0]) / 50 | [89, 89, 90, 90, 90] ([0, 0, 0, 0, 0]) / 90 | \n",
      "250: \n",
      "[54.41 38.   41.36 34.89 49.24]s - [104.44  92.89  85.33  95.66 184.64]s - [313.25 294.28 328.11 208.77 237.93]s - [361.33 388.75 331.69 377.94 382.38]s - [427.78 433.31 438.66 447.37 448.02]s | [7, 7, 7, 7, 7] ([0, 0, 0, 0, 0]) / 7 | [25, 25, 25, 25, 25] ([0, 0, 0, 0, 1]) / 25 | [82, 82, 82, 82, 82] ([0, 0, 1, 1, 1]) / 82 | [124, 125, 125, 124, 124] ([0, 2, 0, 2, 0]) / 125 | [197, 212, 200, 202, 193] ([0, 0, 1, 0, 0]) / 225 | \n",
      "500: \n",
      "[264.34 205.12  92.72  84.79  90.27]s - [135.14 156.   381.76 311.85 129.56]s - [500.63 461.94 481.   486.   511.02]s - [545.6  509.   556.38 540.04 537.14]s - [585.92 559.77 573.85 568.47 565.53]s | [15, 15, 15, 15, 15] ([4, 1, 0, 0, 0]) / 15 | [50, 50, 50, 50, 50] ([0, 0, 1, 1, 0]) / 50 | [154, 153, 164, 152, 160] ([2, 0, 1, 1, 3]) / 165 | [198, 207, 203, 193, 206] ([0, 1, 0, 2, 3]) / 250 | [242, 239, 236, 254, 251] ([1, 0, 1, 0, 0]) / 450 | \n",
      "10000: \n",
      "20: \n",
      "[17.62 19.59 17.58 15.49 22.74]s - [24.63 24.46 23.71 21.27 21.79]s - [ 82.31  80.72 102.82  58.16  64.25]s - [179.94 126.47  97.3  101.62 135.12]s - [188.55 222.88 169.48 180.09 190.03]s | [1, 1, 1, 1, 1] ([0, 0, 0, 0, 0]) / 1 | [2, 2, 2, 2, 2] ([0, 0, 0, 0, 0]) / 2 | [6, 6, 6, 6, 6] ([0, 0, 0, 0, 0]) / 6 | [10, 10, 10, 10, 10] ([0, 0, 0, 0, 0]) / 10 | [18, 18, 18, 18, 18] ([0, 0, 0, 0, 0]) / 18 | \n",
      "====================================================================================================\n",
      "Amount of samples = 10000\n",
      "Total used features = 100\n",
      "Informative features: 3 (3%)\n",
      "\n",
      "Seed 0\n"
     ]
    },
    {
     "data": {
      "application/vnd.jupyter.widget-view+json": {
       "model_id": "4d5879937ac44195b11dff0ce7a5c7b6",
       "version_major": 2,
       "version_minor": 0
      },
      "text/plain": [
       "  0%|          | 0/20 [00:00<?, ?it/s]"
      ]
     },
     "metadata": {},
     "output_type": "display_data"
    },
    {
     "name": "stdout",
     "output_type": "stream",
     "text": [
      "--------------------------------------------------\n",
      "Seed 1\n"
     ]
    },
    {
     "data": {
      "application/vnd.jupyter.widget-view+json": {
       "model_id": "f8bf102b87b8444bb772e07873a79cd2",
       "version_major": 2,
       "version_minor": 0
      },
      "text/plain": [
       "  0%|          | 0/20 [00:00<?, ?it/s]"
      ]
     },
     "metadata": {},
     "output_type": "display_data"
    },
    {
     "name": "stdout",
     "output_type": "stream",
     "text": [
      "--------------------------------------------------\n",
      "Seed 2\n"
     ]
    },
    {
     "data": {
      "application/vnd.jupyter.widget-view+json": {
       "model_id": "8d554dac79f943c48b9c9b1925360832",
       "version_major": 2,
       "version_minor": 0
      },
      "text/plain": [
       "  0%|          | 0/20 [00:00<?, ?it/s]"
      ]
     },
     "metadata": {},
     "output_type": "display_data"
    },
    {
     "name": "stdout",
     "output_type": "stream",
     "text": [
      "--------------------------------------------------\n",
      "Seed 3\n"
     ]
    },
    {
     "data": {
      "application/vnd.jupyter.widget-view+json": {
       "model_id": "0963a621f67d4ffbaf63298fef7c04ed",
       "version_major": 2,
       "version_minor": 0
      },
      "text/plain": [
       "  0%|          | 0/20 [00:00<?, ?it/s]"
      ]
     },
     "metadata": {},
     "output_type": "display_data"
    },
    {
     "name": "stdout",
     "output_type": "stream",
     "text": [
      "--------------------------------------------------\n",
      "Seed 4\n"
     ]
    },
    {
     "data": {
      "application/vnd.jupyter.widget-view+json": {
       "model_id": "1a619dc5fe2a4e23a87f275e08c88879",
       "version_major": 2,
       "version_minor": 0
      },
      "text/plain": [
       "  0%|          | 0/20 [00:00<?, ?it/s]"
      ]
     },
     "metadata": {},
     "output_type": "display_data"
    },
    {
     "name": "stdout",
     "output_type": "stream",
     "text": [
      "--------------------------------------------------\n",
      "Average time: 44.24 seconds\n",
      "Found features: [3, 3, 3, 3, 3]\n",
      "Found 3.0 of 3 informative features\n",
      "0.0 of 3.0 outputted powershap features are noise features\n",
      "====================================================================================================\n",
      "Amount of samples = 10000\n",
      "Total used features = 100\n",
      "Informative features: 10 (10%)\n",
      "\n",
      "Seed 0\n"
     ]
    },
    {
     "data": {
      "application/vnd.jupyter.widget-view+json": {
       "model_id": "c3134bf93f5b4598b9c738c6b4b08481",
       "version_major": 2,
       "version_minor": 0
      },
      "text/plain": [
       "  0%|          | 0/20 [00:00<?, ?it/s]"
      ]
     },
     "metadata": {},
     "output_type": "display_data"
    },
    {
     "name": "stderr",
     "output_type": "stream",
     "text": [
      " 99%|===================| 1975/2000 [00:13<00:00]        "
     ]
    },
    {
     "name": "stdout",
     "output_type": "stream",
     "text": [
      "--------------------------------------------------\n",
      "Seed 1\n"
     ]
    },
    {
     "data": {
      "application/vnd.jupyter.widget-view+json": {
       "model_id": "114a9403846148c7a9b4f67cc482e1e0",
       "version_major": 2,
       "version_minor": 0
      },
      "text/plain": [
       "  0%|          | 0/20 [00:00<?, ?it/s]"
      ]
     },
     "metadata": {},
     "output_type": "display_data"
    },
    {
     "name": "stdout",
     "output_type": "stream",
     "text": [
      "--------------------------------------------------\n",
      "Seed 2\n"
     ]
    },
    {
     "data": {
      "application/vnd.jupyter.widget-view+json": {
       "model_id": "8565854fb0a547948334e365a805bcc8",
       "version_major": 2,
       "version_minor": 0
      },
      "text/plain": [
       "  0%|          | 0/20 [00:00<?, ?it/s]"
      ]
     },
     "metadata": {},
     "output_type": "display_data"
    },
    {
     "name": "stdout",
     "output_type": "stream",
     "text": [
      "--------------------------------------------------\n",
      "Seed 3\n"
     ]
    },
    {
     "data": {
      "application/vnd.jupyter.widget-view+json": {
       "model_id": "555ba1f71a6b4f7693b95d146904e508",
       "version_major": 2,
       "version_minor": 0
      },
      "text/plain": [
       "  0%|          | 0/20 [00:00<?, ?it/s]"
      ]
     },
     "metadata": {},
     "output_type": "display_data"
    },
    {
     "name": "stdout",
     "output_type": "stream",
     "text": [
      "--------------------------------------------------\n",
      "Seed 4\n"
     ]
    },
    {
     "data": {
      "application/vnd.jupyter.widget-view+json": {
       "model_id": "df62f715d0d84193b7a8c570aba8a3a5",
       "version_major": 2,
       "version_minor": 0
      },
      "text/plain": [
       "  0%|          | 0/20 [00:00<?, ?it/s]"
      ]
     },
     "metadata": {},
     "output_type": "display_data"
    },
    {
     "name": "stdout",
     "output_type": "stream",
     "text": [
      "--------------------------------------------------\n",
      "Average time: 131.75 seconds\n",
      "Found features: [10, 10, 10, 10, 10]\n",
      "Found 10.0 of 10 informative features\n",
      "0.0 of 10.0 outputted powershap features are noise features\n",
      "====================================================================================================\n",
      "Amount of samples = 10000\n",
      "Total used features = 100\n",
      "Informative features: 33 (33%)\n",
      "\n",
      "Seed 0\n"
     ]
    },
    {
     "data": {
      "application/vnd.jupyter.widget-view+json": {
       "model_id": "23cf6b7a7e8d4396acac1eea267f3bb5",
       "version_major": 2,
       "version_minor": 0
      },
      "text/plain": [
       "  0%|          | 0/20 [00:00<?, ?it/s]"
      ]
     },
     "metadata": {},
     "output_type": "display_data"
    },
    {
     "name": "stderr",
     "output_type": "stream",
     "text": [
      " 99%|===================| 1976/2000 [00:15<00:00]        "
     ]
    },
    {
     "name": "stdout",
     "output_type": "stream",
     "text": [
      "--------------------------------------------------\n",
      "Seed 1\n"
     ]
    },
    {
     "data": {
      "application/vnd.jupyter.widget-view+json": {
       "model_id": "f34137f8352c40ffae3f2133906fa21e",
       "version_major": 2,
       "version_minor": 0
      },
      "text/plain": [
       "  0%|          | 0/20 [00:00<?, ?it/s]"
      ]
     },
     "metadata": {},
     "output_type": "display_data"
    },
    {
     "name": "stderr",
     "output_type": "stream",
     "text": [
      " 95%|=================== | 1900/2000 [00:11<00:00]       "
     ]
    },
    {
     "name": "stdout",
     "output_type": "stream",
     "text": [
      "--------------------------------------------------\n",
      "Seed 2\n"
     ]
    },
    {
     "data": {
      "application/vnd.jupyter.widget-view+json": {
       "model_id": "61031c48b58c4157b8a05b08c8d13777",
       "version_major": 2,
       "version_minor": 0
      },
      "text/plain": [
       "  0%|          | 0/20 [00:00<?, ?it/s]"
      ]
     },
     "metadata": {},
     "output_type": "display_data"
    },
    {
     "name": "stderr",
     "output_type": "stream",
     "text": [
      " 96%|=================== | 1929/2000 [00:14<00:00]       "
     ]
    },
    {
     "name": "stdout",
     "output_type": "stream",
     "text": [
      "--------------------------------------------------\n",
      "Seed 3\n"
     ]
    },
    {
     "data": {
      "application/vnd.jupyter.widget-view+json": {
       "model_id": "9d976f0b9bdc4b1fab85d94356d61d79",
       "version_major": 2,
       "version_minor": 0
      },
      "text/plain": [
       "  0%|          | 0/20 [00:00<?, ?it/s]"
      ]
     },
     "metadata": {},
     "output_type": "display_data"
    },
    {
     "name": "stderr",
     "output_type": "stream",
     "text": [
      " 97%|=================== | 1949/2000 [00:13<00:00]       "
     ]
    },
    {
     "name": "stdout",
     "output_type": "stream",
     "text": [
      "--------------------------------------------------\n",
      "Seed 4\n"
     ]
    },
    {
     "data": {
      "application/vnd.jupyter.widget-view+json": {
       "model_id": "0d8daafe4ee64ee0bdf8c36fce13496d",
       "version_major": 2,
       "version_minor": 0
      },
      "text/plain": [
       "  0%|          | 0/20 [00:00<?, ?it/s]"
      ]
     },
     "metadata": {},
     "output_type": "display_data"
    },
    {
     "name": "stderr",
     "output_type": "stream",
     "text": [
      " 95%|=================== | 1906/2000 [00:11<00:00]       "
     ]
    },
    {
     "name": "stdout",
     "output_type": "stream",
     "text": [
      "--------------------------------------------------\n",
      "Average time: 262.3 seconds\n",
      "Found features: [33, 33, 33, 33, 33]\n",
      "Found 33.0 of 33 informative features\n",
      "0.0 of 33.0 outputted powershap features are noise features\n",
      "====================================================================================================\n",
      "Amount of samples = 10000\n",
      "Total used features = 100\n",
      "Informative features: 50 (50%)\n",
      "\n",
      "Seed 0\n"
     ]
    },
    {
     "data": {
      "application/vnd.jupyter.widget-view+json": {
       "model_id": "622abea617f34fc5b8ce1fba671fc428",
       "version_major": 2,
       "version_minor": 0
      },
      "text/plain": [
       "  0%|          | 0/20 [00:00<?, ?it/s]"
      ]
     },
     "metadata": {},
     "output_type": "display_data"
    },
    {
     "name": "stderr",
     "output_type": "stream",
     "text": [
      " 98%|===================| 1963/2000 [00:11<00:00]        "
     ]
    },
    {
     "name": "stdout",
     "output_type": "stream",
     "text": [
      "--------------------------------------------------\n",
      "Seed 1\n"
     ]
    },
    {
     "data": {
      "application/vnd.jupyter.widget-view+json": {
       "model_id": "189fe9fa22a84f3f9b4d629d0d34636a",
       "version_major": 2,
       "version_minor": 0
      },
      "text/plain": [
       "  0%|          | 0/20 [00:00<?, ?it/s]"
      ]
     },
     "metadata": {},
     "output_type": "display_data"
    },
    {
     "name": "stderr",
     "output_type": "stream",
     "text": [
      " 99%|===================| 1970/2000 [00:11<00:00]        "
     ]
    },
    {
     "name": "stdout",
     "output_type": "stream",
     "text": [
      "--------------------------------------------------\n",
      "Seed 2\n"
     ]
    },
    {
     "data": {
      "application/vnd.jupyter.widget-view+json": {
       "model_id": "df5b440d2b254ada99801af0ee0ed3ad",
       "version_major": 2,
       "version_minor": 0
      },
      "text/plain": [
       "  0%|          | 0/20 [00:00<?, ?it/s]"
      ]
     },
     "metadata": {},
     "output_type": "display_data"
    },
    {
     "name": "stderr",
     "output_type": "stream",
     "text": [
      " 99%|===================| 1972/2000 [00:15<00:00]        "
     ]
    },
    {
     "name": "stdout",
     "output_type": "stream",
     "text": [
      "--------------------------------------------------\n",
      "Seed 3\n"
     ]
    },
    {
     "data": {
      "application/vnd.jupyter.widget-view+json": {
       "model_id": "db580c2bc9634509beb90be53266ef70",
       "version_major": 2,
       "version_minor": 0
      },
      "text/plain": [
       "  0%|          | 0/20 [00:00<?, ?it/s]"
      ]
     },
     "metadata": {},
     "output_type": "display_data"
    },
    {
     "name": "stderr",
     "output_type": "stream",
     "text": [
      " 98%|===================| 1952/2000 [00:12<00:00]        "
     ]
    },
    {
     "name": "stdout",
     "output_type": "stream",
     "text": [
      "--------------------------------------------------\n",
      "Seed 4\n"
     ]
    },
    {
     "data": {
      "application/vnd.jupyter.widget-view+json": {
       "model_id": "c811e867c9bf439a856c3e79f97fdcca",
       "version_major": 2,
       "version_minor": 0
      },
      "text/plain": [
       "  0%|          | 0/20 [00:00<?, ?it/s]"
      ]
     },
     "metadata": {},
     "output_type": "display_data"
    },
    {
     "name": "stderr",
     "output_type": "stream",
     "text": [
      " 93%|=================== | 1856/2000 [00:12<00:00]       "
     ]
    },
    {
     "name": "stdout",
     "output_type": "stream",
     "text": [
      "--------------------------------------------------\n",
      "Average time: 306.27 seconds\n",
      "Found features: [50, 50, 50, 50, 50]\n",
      "Found 50.0 of 50 informative features\n",
      "0.0 of 50.0 outputted powershap features are noise features\n",
      "====================================================================================================\n",
      "Amount of samples = 10000\n",
      "Total used features = 100\n",
      "Informative features: 90 (90%)\n",
      "\n",
      "Seed 0\n"
     ]
    },
    {
     "data": {
      "application/vnd.jupyter.widget-view+json": {
       "model_id": "5b3da79ee3394af6843f17a290162280",
       "version_major": 2,
       "version_minor": 0
      },
      "text/plain": [
       "  0%|          | 0/20 [00:00<?, ?it/s]"
      ]
     },
     "metadata": {},
     "output_type": "display_data"
    },
    {
     "name": "stderr",
     "output_type": "stream",
     "text": [
      " 98%|===================| 1958/2000 [00:15<00:00]        "
     ]
    },
    {
     "name": "stdout",
     "output_type": "stream",
     "text": [
      "--------------------------------------------------\n",
      "Seed 1\n"
     ]
    },
    {
     "data": {
      "application/vnd.jupyter.widget-view+json": {
       "model_id": "fda03a24e5304b6792c7e17cbfe70274",
       "version_major": 2,
       "version_minor": 0
      },
      "text/plain": [
       "  0%|          | 0/20 [00:00<?, ?it/s]"
      ]
     },
     "metadata": {},
     "output_type": "display_data"
    },
    {
     "name": "stderr",
     "output_type": "stream",
     "text": [
      " 99%|===================| 1980/2000 [00:16<00:00]        "
     ]
    },
    {
     "name": "stdout",
     "output_type": "stream",
     "text": [
      "--------------------------------------------------\n",
      "Seed 2\n"
     ]
    },
    {
     "data": {
      "application/vnd.jupyter.widget-view+json": {
       "model_id": "743effc7818f41d79a5c652db546c06e",
       "version_major": 2,
       "version_minor": 0
      },
      "text/plain": [
       "  0%|          | 0/20 [00:00<?, ?it/s]"
      ]
     },
     "metadata": {},
     "output_type": "display_data"
    },
    {
     "name": "stderr",
     "output_type": "stream",
     "text": [
      "100%|===================| 1996/2000 [00:17<00:00]        "
     ]
    },
    {
     "name": "stdout",
     "output_type": "stream",
     "text": [
      "--------------------------------------------------\n",
      "Seed 3\n"
     ]
    },
    {
     "data": {
      "application/vnd.jupyter.widget-view+json": {
       "model_id": "caf3acdcfed644b288520129a5a2a885",
       "version_major": 2,
       "version_minor": 0
      },
      "text/plain": [
       "  0%|          | 0/20 [00:00<?, ?it/s]"
      ]
     },
     "metadata": {},
     "output_type": "display_data"
    },
    {
     "name": "stderr",
     "output_type": "stream",
     "text": [
      " 99%|===================| 1984/2000 [00:16<00:00]        "
     ]
    },
    {
     "name": "stdout",
     "output_type": "stream",
     "text": [
      "--------------------------------------------------\n",
      "Seed 4\n"
     ]
    },
    {
     "data": {
      "application/vnd.jupyter.widget-view+json": {
       "model_id": "0f3db1f7964444a091538cbb90570cdb",
       "version_major": 2,
       "version_minor": 0
      },
      "text/plain": [
       "  0%|          | 0/20 [00:00<?, ?it/s]"
      ]
     },
     "metadata": {},
     "output_type": "display_data"
    },
    {
     "name": "stderr",
     "output_type": "stream",
     "text": [
      " 96%|=================== | 1921/2000 [00:16<00:00]       "
     ]
    },
    {
     "name": "stdout",
     "output_type": "stream",
     "text": [
      "--------------------------------------------------\n",
      "Average time: 353.94 seconds\n",
      "Found features: [90, 90, 90, 90, 90]\n",
      "Found 90.0 of 90 informative features\n",
      "0.0 of 90.0 outputted powershap features are noise features\n",
      "====================================================================================================\n",
      "5000: \n",
      "20: \n",
      "[10.52  9.55  8.5  12.78  9.23]s - [11.38 13.05 12.34 10.93 13.63]s - [28.58 29.18 40.91 34.34 28.85]s - [59.07 55.66 41.43 48.52 70.42]s - [89.58 82.32 77.96 72.24 80.08]s | [1, 1, 1, 1, 1] ([0, 0, 0, 0, 0]) / 1 | [2, 2, 2, 2, 2] ([0, 0, 0, 0, 0]) / 2 | [6, 6, 6, 6, 6] ([0, 0, 0, 0, 0]) / 6 | [10, 10, 10, 10, 10] ([0, 0, 0, 0, 0]) / 10 | [18, 18, 18, 18, 18] ([0, 0, 0, 0, 0]) / 18 | \n",
      "100: \n",
      "[19.56 16.49 17.97 17.12 54.21]s - [59.15 50.65 44.92 42.14 64.94]s - [100.98  86.17  95.23  83.01  86.94]s - [107.73 112.12 219.48 100.38 110.9 ]s - [187.78 190.99 212.34 127.26 132.46]s | [3, 3, 3, 3, 3] ([0, 0, 0, 0, 0]) / 3 | [10, 10, 10, 10, 10] ([0, 0, 0, 0, 0]) / 10 | [33, 33, 33, 33, 33] ([0, 0, 0, 0, 0]) / 33 | [50, 50, 50, 50, 50] ([0, 0, 1, 0, 0]) / 50 | [89, 89, 90, 90, 90] ([0, 0, 0, 0, 0]) / 90 | \n",
      "250: \n",
      "[54.41 38.   41.36 34.89 49.24]s - [104.44  92.89  85.33  95.66 184.64]s - [313.25 294.28 328.11 208.77 237.93]s - [361.33 388.75 331.69 377.94 382.38]s - [427.78 433.31 438.66 447.37 448.02]s | [7, 7, 7, 7, 7] ([0, 0, 0, 0, 0]) / 7 | [25, 25, 25, 25, 25] ([0, 0, 0, 0, 1]) / 25 | [82, 82, 82, 82, 82] ([0, 0, 1, 1, 1]) / 82 | [124, 125, 125, 124, 124] ([0, 2, 0, 2, 0]) / 125 | [197, 212, 200, 202, 193] ([0, 0, 1, 0, 0]) / 225 | \n",
      "500: \n",
      "[264.34 205.12  92.72  84.79  90.27]s - [135.14 156.   381.76 311.85 129.56]s - [500.63 461.94 481.   486.   511.02]s - [545.6  509.   556.38 540.04 537.14]s - [585.92 559.77 573.85 568.47 565.53]s | [15, 15, 15, 15, 15] ([4, 1, 0, 0, 0]) / 15 | [50, 50, 50, 50, 50] ([0, 0, 1, 1, 0]) / 50 | [154, 153, 164, 152, 160] ([2, 0, 1, 1, 3]) / 165 | [198, 207, 203, 193, 206] ([0, 1, 0, 2, 3]) / 250 | [242, 239, 236, 254, 251] ([1, 0, 1, 0, 0]) / 450 | \n",
      "10000: \n",
      "20: \n",
      "[17.62 19.59 17.58 15.49 22.74]s - [24.63 24.46 23.71 21.27 21.79]s - [ 82.31  80.72 102.82  58.16  64.25]s - [179.94 126.47  97.3  101.62 135.12]s - [188.55 222.88 169.48 180.09 190.03]s | [1, 1, 1, 1, 1] ([0, 0, 0, 0, 0]) / 1 | [2, 2, 2, 2, 2] ([0, 0, 0, 0, 0]) / 2 | [6, 6, 6, 6, 6] ([0, 0, 0, 0, 0]) / 6 | [10, 10, 10, 10, 10] ([0, 0, 0, 0, 0]) / 10 | [18, 18, 18, 18, 18] ([0, 0, 0, 0, 0]) / 18 | \n",
      "100: \n",
      "[53.41 35.52 48.76 38.99 44.54]s - [176.19 118.13 108.26  98.85 157.34]s - [252.35 251.23 291.93 274.8  241.16]s - [277.71 328.94 331.03 300.29 293.35]s - [347.51 345.82 350.85 365.06 360.46]s | [3, 3, 3, 3, 3] ([0, 0, 0, 0, 0]) / 3 | [10, 10, 10, 10, 10] ([0, 0, 0, 0, 0]) / 10 | [33, 33, 33, 33, 33] ([0, 0, 0, 0, 0]) / 33 | [50, 50, 50, 50, 50] ([0, 0, 0, 0, 0]) / 50 | [90, 90, 90, 90, 90] ([0, 0, 0, 0, 0]) / 90 | \n",
      "====================================================================================================\n",
      "Amount of samples = 10000\n",
      "Total used features = 250\n",
      "Informative features: 7 (3%)\n",
      "\n",
      "Seed 0\n"
     ]
    },
    {
     "data": {
      "application/vnd.jupyter.widget-view+json": {
       "model_id": "a29a69afb8ca4b5ca2e9bc05095ece68",
       "version_major": 2,
       "version_minor": 0
      },
      "text/plain": [
       "  0%|          | 0/20 [00:00<?, ?it/s]"
      ]
     },
     "metadata": {},
     "output_type": "display_data"
    },
    {
     "name": "stdout",
     "output_type": "stream",
     "text": [
      "--------------------------------------------------\n",
      "Seed 1\n"
     ]
    },
    {
     "data": {
      "application/vnd.jupyter.widget-view+json": {
       "model_id": "988065486abd4bf4b18510601f262f64",
       "version_major": 2,
       "version_minor": 0
      },
      "text/plain": [
       "  0%|          | 0/20 [00:00<?, ?it/s]"
      ]
     },
     "metadata": {},
     "output_type": "display_data"
    },
    {
     "name": "stdout",
     "output_type": "stream",
     "text": [
      "--------------------------------------------------\n",
      "Seed 2\n"
     ]
    },
    {
     "data": {
      "application/vnd.jupyter.widget-view+json": {
       "model_id": "b45b4ed1ae0b4171804f8bdfa7376b30",
       "version_major": 2,
       "version_minor": 0
      },
      "text/plain": [
       "  0%|          | 0/20 [00:00<?, ?it/s]"
      ]
     },
     "metadata": {},
     "output_type": "display_data"
    },
    {
     "name": "stdout",
     "output_type": "stream",
     "text": [
      "--------------------------------------------------\n",
      "Seed 3\n"
     ]
    },
    {
     "data": {
      "application/vnd.jupyter.widget-view+json": {
       "model_id": "2e7f35e9163b410fb663ad1ef0ccff3a",
       "version_major": 2,
       "version_minor": 0
      },
      "text/plain": [
       "  0%|          | 0/20 [00:00<?, ?it/s]"
      ]
     },
     "metadata": {},
     "output_type": "display_data"
    },
    {
     "name": "stdout",
     "output_type": "stream",
     "text": [
      "--------------------------------------------------\n",
      "Seed 4\n"
     ]
    },
    {
     "data": {
      "application/vnd.jupyter.widget-view+json": {
       "model_id": "80c5cc03116942f1878818dadda85566",
       "version_major": 2,
       "version_minor": 0
      },
      "text/plain": [
       "  0%|          | 0/20 [00:00<?, ?it/s]"
      ]
     },
     "metadata": {},
     "output_type": "display_data"
    },
    {
     "name": "stdout",
     "output_type": "stream",
     "text": [
      "--------------------------------------------------\n",
      "Average time: 106.55 seconds\n",
      "Found features: [7, 7, 7, 7, 7]\n",
      "Found 7.0 of 7 informative features\n",
      "0.0 of 7.0 outputted powershap features are noise features\n",
      "====================================================================================================\n",
      "Amount of samples = 10000\n",
      "Total used features = 250\n",
      "Informative features: 25 (10%)\n",
      "\n",
      "Seed 0\n"
     ]
    },
    {
     "data": {
      "application/vnd.jupyter.widget-view+json": {
       "model_id": "ba5425458242409fbf10b73c964a7d5c",
       "version_major": 2,
       "version_minor": 0
      },
      "text/plain": [
       "  0%|          | 0/20 [00:00<?, ?it/s]"
      ]
     },
     "metadata": {},
     "output_type": "display_data"
    },
    {
     "name": "stderr",
     "output_type": "stream",
     "text": [
      " 99%|===================| 1987/2000 [00:13<00:00]        "
     ]
    },
    {
     "data": {
      "application/vnd.jupyter.widget-view+json": {
       "model_id": "82fde2949cc44a959e211d900aae74ed",
       "version_major": 2,
       "version_minor": 0
      },
      "text/plain": [
       "  0%|          | 0/10 [00:00<?, ?it/s]"
      ]
     },
     "metadata": {},
     "output_type": "display_data"
    },
    {
     "name": "stderr",
     "output_type": "stream",
     "text": [
      " 97%|=================== | 1949/2000 [00:13<00:00]       "
     ]
    },
    {
     "data": {
      "application/vnd.jupyter.widget-view+json": {
       "model_id": "22984d53ee594c709f718e3ba47a49cd",
       "version_major": 2,
       "version_minor": 0
      },
      "text/plain": [
       "  0%|          | 0/10 [00:00<?, ?it/s]"
      ]
     },
     "metadata": {},
     "output_type": "display_data"
    },
    {
     "name": "stderr",
     "output_type": "stream",
     "text": [
      " 98%|===================| 1965/2000 [00:13<00:00]        "
     ]
    },
    {
     "data": {
      "application/vnd.jupyter.widget-view+json": {
       "model_id": "7a3a9342341746ebafb9a43a621aa2b8",
       "version_major": 2,
       "version_minor": 0
      },
      "text/plain": [
       "  0%|          | 0/10 [00:00<?, ?it/s]"
      ]
     },
     "metadata": {},
     "output_type": "display_data"
    },
    {
     "name": "stdout",
     "output_type": "stream",
     "text": [
      "--------------------------------------------------\n",
      "Seed 1\n"
     ]
    },
    {
     "data": {
      "application/vnd.jupyter.widget-view+json": {
       "model_id": "5027eed4fc8f439dac4d03eba4070b6a",
       "version_major": 2,
       "version_minor": 0
      },
      "text/plain": [
       "  0%|          | 0/20 [00:00<?, ?it/s]"
      ]
     },
     "metadata": {},
     "output_type": "display_data"
    },
    {
     "name": "stderr",
     "output_type": "stream",
     "text": [
      " 93%|=================== | 1859/2000 [00:11<00:00]       "
     ]
    },
    {
     "name": "stdout",
     "output_type": "stream",
     "text": [
      "--------------------------------------------------\n",
      "Seed 2\n"
     ]
    },
    {
     "data": {
      "application/vnd.jupyter.widget-view+json": {
       "model_id": "86758844fa8a4e27bd3aefb6ea2e085c",
       "version_major": 2,
       "version_minor": 0
      },
      "text/plain": [
       "  0%|          | 0/20 [00:00<?, ?it/s]"
      ]
     },
     "metadata": {},
     "output_type": "display_data"
    },
    {
     "name": "stderr",
     "output_type": "stream",
     "text": [
      " 98%|===================| 1969/2000 [00:12<00:00]        "
     ]
    },
    {
     "name": "stdout",
     "output_type": "stream",
     "text": [
      "--------------------------------------------------\n",
      "Seed 3\n"
     ]
    },
    {
     "data": {
      "application/vnd.jupyter.widget-view+json": {
       "model_id": "6e5a6fa1deac49449cf8d4b99629bee7",
       "version_major": 2,
       "version_minor": 0
      },
      "text/plain": [
       "  0%|          | 0/20 [00:00<?, ?it/s]"
      ]
     },
     "metadata": {},
     "output_type": "display_data"
    },
    {
     "name": "stderr",
     "output_type": "stream",
     "text": [
      "100%|===================| 1997/2000 [00:11<00:00]        "
     ]
    },
    {
     "name": "stdout",
     "output_type": "stream",
     "text": [
      "--------------------------------------------------\n",
      "Seed 4\n"
     ]
    },
    {
     "data": {
      "application/vnd.jupyter.widget-view+json": {
       "model_id": "dc1b1dc5db8d4abab1c1960a17a62540",
       "version_major": 2,
       "version_minor": 0
      },
      "text/plain": [
       "  0%|          | 0/20 [00:00<?, ?it/s]"
      ]
     },
     "metadata": {},
     "output_type": "display_data"
    },
    {
     "name": "stderr",
     "output_type": "stream",
     "text": [
      " 95%|=================== | 1906/2000 [00:11<00:00]       "
     ]
    },
    {
     "name": "stdout",
     "output_type": "stream",
     "text": [
      "--------------------------------------------------\n",
      "Average time: 323.69 seconds\n",
      "Found features: [26, 25, 25, 25, 25]\n",
      "Found 25.0 of 25 informative features\n",
      "0.2 of 25.2 outputted powershap features are noise features\n",
      "====================================================================================================\n",
      "Amount of samples = 10000\n",
      "Total used features = 250\n",
      "Informative features: 82 (33%)\n",
      "\n",
      "Seed 0\n"
     ]
    },
    {
     "data": {
      "application/vnd.jupyter.widget-view+json": {
       "model_id": "461e69835541484ba6c94b0430b5023f",
       "version_major": 2,
       "version_minor": 0
      },
      "text/plain": [
       "  0%|          | 0/20 [00:00<?, ?it/s]"
      ]
     },
     "metadata": {},
     "output_type": "display_data"
    },
    {
     "name": "stderr",
     "output_type": "stream",
     "text": [
      " 94%|=================== | 1882/2000 [00:15<00:00]       "
     ]
    },
    {
     "name": "stdout",
     "output_type": "stream",
     "text": [
      "--------------------------------------------------\n",
      "Seed 1\n"
     ]
    },
    {
     "data": {
      "application/vnd.jupyter.widget-view+json": {
       "model_id": "6fe03adf74504458a2b8fe6356392697",
       "version_major": 2,
       "version_minor": 0
      },
      "text/plain": [
       "  0%|          | 0/20 [00:00<?, ?it/s]"
      ]
     },
     "metadata": {},
     "output_type": "display_data"
    },
    {
     "name": "stderr",
     "output_type": "stream",
     "text": [
      " 95%|=================== | 1897/2000 [00:14<00:00]       "
     ]
    },
    {
     "name": "stdout",
     "output_type": "stream",
     "text": [
      "--------------------------------------------------\n",
      "Seed 2\n"
     ]
    },
    {
     "data": {
      "application/vnd.jupyter.widget-view+json": {
       "model_id": "05213d7578224de88b944ce11d17163b",
       "version_major": 2,
       "version_minor": 0
      },
      "text/plain": [
       "  0%|          | 0/20 [00:00<?, ?it/s]"
      ]
     },
     "metadata": {},
     "output_type": "display_data"
    },
    {
     "name": "stderr",
     "output_type": "stream",
     "text": [
      " 95%|=================== | 1892/2000 [00:12<00:00]       "
     ]
    },
    {
     "name": "stdout",
     "output_type": "stream",
     "text": [
      "--------------------------------------------------\n",
      "Seed 3\n"
     ]
    },
    {
     "data": {
      "application/vnd.jupyter.widget-view+json": {
       "model_id": "ce8d661cf20d443dafaefaedfb881d8c",
       "version_major": 2,
       "version_minor": 0
      },
      "text/plain": [
       "  0%|          | 0/20 [00:00<?, ?it/s]"
      ]
     },
     "metadata": {},
     "output_type": "display_data"
    },
    {
     "name": "stderr",
     "output_type": "stream",
     "text": [
      " 94%|=================== | 1880/2000 [00:12<00:00]       "
     ]
    },
    {
     "data": {
      "application/vnd.jupyter.widget-view+json": {
       "model_id": "cbbc3f88b8b4418b8dc62e62ade5c2b0",
       "version_major": 2,
       "version_minor": 0
      },
      "text/plain": [
       "  0%|          | 0/10 [00:00<?, ?it/s]"
      ]
     },
     "metadata": {},
     "output_type": "display_data"
    },
    {
     "name": "stderr",
     "output_type": "stream",
     "text": [
      " 94%|=================== | 1882/2000 [00:15<00:00]       "
     ]
    },
    {
     "name": "stdout",
     "output_type": "stream",
     "text": [
      "--------------------------------------------------\n",
      "Seed 4\n"
     ]
    },
    {
     "data": {
      "application/vnd.jupyter.widget-view+json": {
       "model_id": "0ab0e819ba654e8899c7fed1497b4a07",
       "version_major": 2,
       "version_minor": 0
      },
      "text/plain": [
       "  0%|          | 0/20 [00:00<?, ?it/s]"
      ]
     },
     "metadata": {},
     "output_type": "display_data"
    },
    {
     "name": "stderr",
     "output_type": "stream",
     "text": [
      " 98%|===================| 1955/2000 [00:14<00:00]        "
     ]
    },
    {
     "name": "stdout",
     "output_type": "stream",
     "text": [
      "--------------------------------------------------\n",
      "Average time: 424.31 seconds\n",
      "Found features: [82, 82, 82, 82, 82]\n",
      "Found 82.0 of 82 informative features\n",
      "0.0 of 82.0 outputted powershap features are noise features\n",
      "====================================================================================================\n",
      "Amount of samples = 10000\n",
      "Total used features = 250\n",
      "Informative features: 125 (50%)\n",
      "\n",
      "Seed 0\n"
     ]
    },
    {
     "data": {
      "application/vnd.jupyter.widget-view+json": {
       "model_id": "e1a56d6272114b8988f83b33f7ac1dfe",
       "version_major": 2,
       "version_minor": 0
      },
      "text/plain": [
       "  0%|          | 0/20 [00:00<?, ?it/s]"
      ]
     },
     "metadata": {},
     "output_type": "display_data"
    },
    {
     "name": "stderr",
     "output_type": "stream",
     "text": [
      " 99%|===================| 1980/2000 [00:16<00:00]        "
     ]
    },
    {
     "data": {
      "application/vnd.jupyter.widget-view+json": {
       "model_id": "4fb308b6d4b440f3a5e55158446d6187",
       "version_major": 2,
       "version_minor": 0
      },
      "text/plain": [
       "  0%|          | 0/6 [00:00<?, ?it/s]"
      ]
     },
     "metadata": {},
     "output_type": "display_data"
    },
    {
     "name": "stderr",
     "output_type": "stream",
     "text": [
      " 94%|=================== | 1889/2000 [00:14<00:00]       "
     ]
    },
    {
     "name": "stdout",
     "output_type": "stream",
     "text": [
      "--------------------------------------------------\n",
      "Seed 1\n"
     ]
    },
    {
     "data": {
      "application/vnd.jupyter.widget-view+json": {
       "model_id": "24005ecb45344be69ff62f31e1dea04a",
       "version_major": 2,
       "version_minor": 0
      },
      "text/plain": [
       "  0%|          | 0/20 [00:00<?, ?it/s]"
      ]
     },
     "metadata": {},
     "output_type": "display_data"
    },
    {
     "name": "stderr",
     "output_type": "stream",
     "text": [
      "100%|===================| 1998/2000 [00:16<00:00]        "
     ]
    },
    {
     "name": "stdout",
     "output_type": "stream",
     "text": [
      "--------------------------------------------------\n",
      "Seed 2\n"
     ]
    },
    {
     "data": {
      "application/vnd.jupyter.widget-view+json": {
       "model_id": "f427a1380efa4a34be9cde16ab84e84e",
       "version_major": 2,
       "version_minor": 0
      },
      "text/plain": [
       "  0%|          | 0/20 [00:00<?, ?it/s]"
      ]
     },
     "metadata": {},
     "output_type": "display_data"
    },
    {
     "name": "stderr",
     "output_type": "stream",
     "text": [
      " 99%|===================| 1975/2000 [00:17<00:00]        "
     ]
    },
    {
     "name": "stdout",
     "output_type": "stream",
     "text": [
      "--------------------------------------------------\n",
      "Seed 3\n"
     ]
    },
    {
     "data": {
      "application/vnd.jupyter.widget-view+json": {
       "model_id": "f7d6eabfad094993a5201e1c3df3378c",
       "version_major": 2,
       "version_minor": 0
      },
      "text/plain": [
       "  0%|          | 0/20 [00:00<?, ?it/s]"
      ]
     },
     "metadata": {},
     "output_type": "display_data"
    },
    {
     "name": "stderr",
     "output_type": "stream",
     "text": [
      " 99%|===================| 1986/2000 [00:16<00:00]        "
     ]
    },
    {
     "data": {
      "application/vnd.jupyter.widget-view+json": {
       "model_id": "eefcf8a047c743948b77219539949354",
       "version_major": 2,
       "version_minor": 0
      },
      "text/plain": [
       "  0%|          | 0/7 [00:00<?, ?it/s]"
      ]
     },
     "metadata": {},
     "output_type": "display_data"
    },
    {
     "name": "stderr",
     "output_type": "stream",
     "text": [
      " 99%|===================| 1971/2000 [00:16<00:00]        "
     ]
    },
    {
     "name": "stdout",
     "output_type": "stream",
     "text": [
      "--------------------------------------------------\n",
      "Seed 4\n"
     ]
    },
    {
     "data": {
      "application/vnd.jupyter.widget-view+json": {
       "model_id": "5213fc360dcf43fabf3dd283aafd9879",
       "version_major": 2,
       "version_minor": 0
      },
      "text/plain": [
       "  0%|          | 0/20 [00:00<?, ?it/s]"
      ]
     },
     "metadata": {},
     "output_type": "display_data"
    },
    {
     "name": "stderr",
     "output_type": "stream",
     "text": [
      " 96%|=================== | 1910/2000 [00:16<00:00]       "
     ]
    },
    {
     "data": {
      "application/vnd.jupyter.widget-view+json": {
       "model_id": "6283e7f00aaf4b2fa9339176a4cf1872",
       "version_major": 2,
       "version_minor": 0
      },
      "text/plain": [
       "  0%|          | 0/2 [00:00<?, ?it/s]"
      ]
     },
     "metadata": {},
     "output_type": "display_data"
    },
    {
     "name": "stderr",
     "output_type": "stream",
     "text": [
      " 99%|===================| 1985/2000 [00:16<00:00]        "
     ]
    },
    {
     "name": "stdout",
     "output_type": "stream",
     "text": [
      "--------------------------------------------------\n",
      "Average time: 483.12 seconds\n",
      "Found features: [125, 125, 125, 125, 125]\n",
      "Found 125.0 of 125 informative features\n",
      "0.0 of 125.0 outputted powershap features are noise features\n",
      "====================================================================================================\n",
      "Amount of samples = 10000\n",
      "Total used features = 250\n",
      "Informative features: 225 (90%)\n",
      "\n",
      "Seed 0\n"
     ]
    },
    {
     "data": {
      "application/vnd.jupyter.widget-view+json": {
       "model_id": "f0830b5c90ef49908fa88ad8041d2f83",
       "version_major": 2,
       "version_minor": 0
      },
      "text/plain": [
       "  0%|          | 0/20 [00:00<?, ?it/s]"
      ]
     },
     "metadata": {},
     "output_type": "display_data"
    },
    {
     "name": "stderr",
     "output_type": "stream",
     "text": [
      "100%|===================| 1995/2000 [00:17<00:00]        "
     ]
    },
    {
     "data": {
      "application/vnd.jupyter.widget-view+json": {
       "model_id": "0f5d17c0d92448fe9a4446bbce55ef45",
       "version_major": 2,
       "version_minor": 0
      },
      "text/plain": [
       "  0%|          | 0/10 [00:00<?, ?it/s]"
      ]
     },
     "metadata": {},
     "output_type": "display_data"
    },
    {
     "name": "stderr",
     "output_type": "stream",
     "text": [
      " 98%|===================| 1963/2000 [00:17<00:00]        "
     ]
    },
    {
     "data": {
      "application/vnd.jupyter.widget-view+json": {
       "model_id": "3323a1c5678641f6ab9ef94a90ddb36c",
       "version_major": 2,
       "version_minor": 0
      },
      "text/plain": [
       "  0%|          | 0/10 [00:00<?, ?it/s]"
      ]
     },
     "metadata": {},
     "output_type": "display_data"
    },
    {
     "name": "stderr",
     "output_type": "stream",
     "text": [
      " 96%|=================== | 1929/2000 [00:17<00:00]       "
     ]
    },
    {
     "data": {
      "application/vnd.jupyter.widget-view+json": {
       "model_id": "5b9c700fb4cc444e9b93b3cbf901b3cd",
       "version_major": 2,
       "version_minor": 0
      },
      "text/plain": [
       "  0%|          | 0/10 [00:00<?, ?it/s]"
      ]
     },
     "metadata": {},
     "output_type": "display_data"
    },
    {
     "name": "stderr",
     "output_type": "stream",
     "text": [
      " 96%|=================== | 1921/2000 [00:17<00:00]       "
     ]
    },
    {
     "name": "stdout",
     "output_type": "stream",
     "text": [
      "--------------------------------------------------\n",
      "Seed 1\n"
     ]
    },
    {
     "data": {
      "application/vnd.jupyter.widget-view+json": {
       "model_id": "413c1f506ac74db5943a1c05f35fa90b",
       "version_major": 2,
       "version_minor": 0
      },
      "text/plain": [
       "  0%|          | 0/20 [00:00<?, ?it/s]"
      ]
     },
     "metadata": {},
     "output_type": "display_data"
    },
    {
     "name": "stderr",
     "output_type": "stream",
     "text": [
      " 97%|=================== | 1935/2000 [00:17<00:00]       "
     ]
    },
    {
     "data": {
      "application/vnd.jupyter.widget-view+json": {
       "model_id": "d49f8f44bec74705adbde8ec5114b354",
       "version_major": 2,
       "version_minor": 0
      },
      "text/plain": [
       "  0%|          | 0/10 [00:00<?, ?it/s]"
      ]
     },
     "metadata": {},
     "output_type": "display_data"
    },
    {
     "name": "stderr",
     "output_type": "stream",
     "text": [
      " 95%|=================== | 1903/2000 [00:17<00:00]       "
     ]
    },
    {
     "data": {
      "application/vnd.jupyter.widget-view+json": {
       "model_id": "29685acc63e94cfcb1bcb3bc3ca0e0c4",
       "version_major": 2,
       "version_minor": 0
      },
      "text/plain": [
       "  0%|          | 0/10 [00:00<?, ?it/s]"
      ]
     },
     "metadata": {},
     "output_type": "display_data"
    },
    {
     "name": "stderr",
     "output_type": "stream",
     "text": [
      " 98%|===================| 1952/2000 [00:17<00:00]        "
     ]
    },
    {
     "data": {
      "application/vnd.jupyter.widget-view+json": {
       "model_id": "e7bf04860cfc4d0ca90ef5d15d291ff2",
       "version_major": 2,
       "version_minor": 0
      },
      "text/plain": [
       "  0%|          | 0/10 [00:00<?, ?it/s]"
      ]
     },
     "metadata": {},
     "output_type": "display_data"
    },
    {
     "name": "stderr",
     "output_type": "stream",
     "text": [
      " 97%|=================== | 1931/2000 [00:17<00:00]       "
     ]
    },
    {
     "name": "stdout",
     "output_type": "stream",
     "text": [
      "--------------------------------------------------\n",
      "Seed 2\n"
     ]
    },
    {
     "data": {
      "application/vnd.jupyter.widget-view+json": {
       "model_id": "22b157e603dd446c9c6c222646a7211a",
       "version_major": 2,
       "version_minor": 0
      },
      "text/plain": [
       "  0%|          | 0/20 [00:00<?, ?it/s]"
      ]
     },
     "metadata": {},
     "output_type": "display_data"
    },
    {
     "name": "stderr",
     "output_type": "stream",
     "text": [
      " 96%|=================== | 1927/2000 [00:17<00:00]       "
     ]
    },
    {
     "data": {
      "application/vnd.jupyter.widget-view+json": {
       "model_id": "3c438927c6c648e48776ac5c1572e089",
       "version_major": 2,
       "version_minor": 0
      },
      "text/plain": [
       "  0%|          | 0/10 [00:00<?, ?it/s]"
      ]
     },
     "metadata": {},
     "output_type": "display_data"
    },
    {
     "name": "stderr",
     "output_type": "stream",
     "text": [
      " 99%|===================| 1972/2000 [00:17<00:00]        "
     ]
    },
    {
     "data": {
      "application/vnd.jupyter.widget-view+json": {
       "model_id": "2627371a89c8485dac469ed4c7e6d875",
       "version_major": 2,
       "version_minor": 0
      },
      "text/plain": [
       "  0%|          | 0/10 [00:00<?, ?it/s]"
      ]
     },
     "metadata": {},
     "output_type": "display_data"
    },
    {
     "name": "stderr",
     "output_type": "stream",
     "text": [
      " 98%|===================| 1968/2000 [00:17<00:00]        "
     ]
    },
    {
     "data": {
      "application/vnd.jupyter.widget-view+json": {
       "model_id": "3e77f011d285412aa2209b4b9e1448c6",
       "version_major": 2,
       "version_minor": 0
      },
      "text/plain": [
       "  0%|          | 0/10 [00:00<?, ?it/s]"
      ]
     },
     "metadata": {},
     "output_type": "display_data"
    },
    {
     "name": "stderr",
     "output_type": "stream",
     "text": [
      " 99%|===================| 1979/2000 [00:18<00:00]        "
     ]
    },
    {
     "name": "stdout",
     "output_type": "stream",
     "text": [
      "--------------------------------------------------\n",
      "Seed 3\n"
     ]
    },
    {
     "data": {
      "application/vnd.jupyter.widget-view+json": {
       "model_id": "4d2bb3bc232f4f449e58876d324b4370",
       "version_major": 2,
       "version_minor": 0
      },
      "text/plain": [
       "  0%|          | 0/20 [00:00<?, ?it/s]"
      ]
     },
     "metadata": {},
     "output_type": "display_data"
    },
    {
     "name": "stderr",
     "output_type": "stream",
     "text": [
      " 97%|=================== | 1949/2000 [00:17<00:00]       "
     ]
    },
    {
     "data": {
      "application/vnd.jupyter.widget-view+json": {
       "model_id": "df6f7502603947f381e01dd08ae3b991",
       "version_major": 2,
       "version_minor": 0
      },
      "text/plain": [
       "  0%|          | 0/10 [00:00<?, ?it/s]"
      ]
     },
     "metadata": {},
     "output_type": "display_data"
    },
    {
     "name": "stderr",
     "output_type": "stream",
     "text": [
      " 95%|=================== | 1903/2000 [00:17<00:00]       "
     ]
    },
    {
     "data": {
      "application/vnd.jupyter.widget-view+json": {
       "model_id": "64be1708c84e4d78aeedcf53f48f6b29",
       "version_major": 2,
       "version_minor": 0
      },
      "text/plain": [
       "  0%|          | 0/10 [00:00<?, ?it/s]"
      ]
     },
     "metadata": {},
     "output_type": "display_data"
    },
    {
     "name": "stderr",
     "output_type": "stream",
     "text": [
      " 94%|=================== | 1885/2000 [00:16<00:00]       "
     ]
    },
    {
     "data": {
      "application/vnd.jupyter.widget-view+json": {
       "model_id": "2bd8a3f252324fbba32956247d23772c",
       "version_major": 2,
       "version_minor": 0
      },
      "text/plain": [
       "  0%|          | 0/10 [00:00<?, ?it/s]"
      ]
     },
     "metadata": {},
     "output_type": "display_data"
    },
    {
     "name": "stderr",
     "output_type": "stream",
     "text": [
      " 99%|===================| 1974/2000 [00:17<00:00]        "
     ]
    },
    {
     "name": "stdout",
     "output_type": "stream",
     "text": [
      "--------------------------------------------------\n",
      "Seed 4\n"
     ]
    },
    {
     "data": {
      "application/vnd.jupyter.widget-view+json": {
       "model_id": "a2ec95695ac84861a5818d77eabf5dbc",
       "version_major": 2,
       "version_minor": 0
      },
      "text/plain": [
       "  0%|          | 0/20 [00:00<?, ?it/s]"
      ]
     },
     "metadata": {},
     "output_type": "display_data"
    },
    {
     "name": "stderr",
     "output_type": "stream",
     "text": [
      "100%|===================| 1994/2000 [00:17<00:00]        "
     ]
    },
    {
     "data": {
      "application/vnd.jupyter.widget-view+json": {
       "model_id": "e71c4518bcd54eb8a740632b01e27420",
       "version_major": 2,
       "version_minor": 0
      },
      "text/plain": [
       "  0%|          | 0/10 [00:00<?, ?it/s]"
      ]
     },
     "metadata": {},
     "output_type": "display_data"
    },
    {
     "name": "stderr",
     "output_type": "stream",
     "text": [
      " 95%|=================== | 1905/2000 [00:17<00:00]       "
     ]
    },
    {
     "data": {
      "application/vnd.jupyter.widget-view+json": {
       "model_id": "92d78a2c222b4007ac91b048277166bb",
       "version_major": 2,
       "version_minor": 0
      },
      "text/plain": [
       "  0%|          | 0/10 [00:00<?, ?it/s]"
      ]
     },
     "metadata": {},
     "output_type": "display_data"
    },
    {
     "name": "stderr",
     "output_type": "stream",
     "text": [
      "100%|===================| 1994/2000 [00:18<00:00]        "
     ]
    },
    {
     "data": {
      "application/vnd.jupyter.widget-view+json": {
       "model_id": "f1b48aef28474e9099bf674621aec072",
       "version_major": 2,
       "version_minor": 0
      },
      "text/plain": [
       "  0%|          | 0/10 [00:00<?, ?it/s]"
      ]
     },
     "metadata": {},
     "output_type": "display_data"
    },
    {
     "name": "stderr",
     "output_type": "stream",
     "text": [
      " 99%|===================| 1976/2000 [00:17<00:00]        "
     ]
    },
    {
     "name": "stdout",
     "output_type": "stream",
     "text": [
      "--------------------------------------------------\n",
      "Average time: 1158.01 seconds\n",
      "Found features: [225, 225, 225, 225, 225]\n",
      "Found 225.0 of 225 informative features\n",
      "0.0 of 225.0 outputted powershap features are noise features\n",
      "====================================================================================================\n",
      "5000: \n",
      "20: \n",
      "[10.52  9.55  8.5  12.78  9.23]s - [11.38 13.05 12.34 10.93 13.63]s - [28.58 29.18 40.91 34.34 28.85]s - [59.07 55.66 41.43 48.52 70.42]s - [89.58 82.32 77.96 72.24 80.08]s | [1, 1, 1, 1, 1] ([0, 0, 0, 0, 0]) / 1 | [2, 2, 2, 2, 2] ([0, 0, 0, 0, 0]) / 2 | [6, 6, 6, 6, 6] ([0, 0, 0, 0, 0]) / 6 | [10, 10, 10, 10, 10] ([0, 0, 0, 0, 0]) / 10 | [18, 18, 18, 18, 18] ([0, 0, 0, 0, 0]) / 18 | \n",
      "100: \n",
      "[19.56 16.49 17.97 17.12 54.21]s - [59.15 50.65 44.92 42.14 64.94]s - [100.98  86.17  95.23  83.01  86.94]s - [107.73 112.12 219.48 100.38 110.9 ]s - [187.78 190.99 212.34 127.26 132.46]s | [3, 3, 3, 3, 3] ([0, 0, 0, 0, 0]) / 3 | [10, 10, 10, 10, 10] ([0, 0, 0, 0, 0]) / 10 | [33, 33, 33, 33, 33] ([0, 0, 0, 0, 0]) / 33 | [50, 50, 50, 50, 50] ([0, 0, 1, 0, 0]) / 50 | [89, 89, 90, 90, 90] ([0, 0, 0, 0, 0]) / 90 | \n",
      "250: \n",
      "[54.41 38.   41.36 34.89 49.24]s - [104.44  92.89  85.33  95.66 184.64]s - [313.25 294.28 328.11 208.77 237.93]s - [361.33 388.75 331.69 377.94 382.38]s - [427.78 433.31 438.66 447.37 448.02]s | [7, 7, 7, 7, 7] ([0, 0, 0, 0, 0]) / 7 | [25, 25, 25, 25, 25] ([0, 0, 0, 0, 1]) / 25 | [82, 82, 82, 82, 82] ([0, 0, 1, 1, 1]) / 82 | [124, 125, 125, 124, 124] ([0, 2, 0, 2, 0]) / 125 | [197, 212, 200, 202, 193] ([0, 0, 1, 0, 0]) / 225 | \n",
      "500: \n",
      "[264.34 205.12  92.72  84.79  90.27]s - [135.14 156.   381.76 311.85 129.56]s - [500.63 461.94 481.   486.   511.02]s - [545.6  509.   556.38 540.04 537.14]s - [585.92 559.77 573.85 568.47 565.53]s | [15, 15, 15, 15, 15] ([4, 1, 0, 0, 0]) / 15 | [50, 50, 50, 50, 50] ([0, 0, 1, 1, 0]) / 50 | [154, 153, 164, 152, 160] ([2, 0, 1, 1, 3]) / 165 | [198, 207, 203, 193, 206] ([0, 1, 0, 2, 3]) / 250 | [242, 239, 236, 254, 251] ([1, 0, 1, 0, 0]) / 450 | \n",
      "10000: \n",
      "20: \n",
      "[17.62 19.59 17.58 15.49 22.74]s - [24.63 24.46 23.71 21.27 21.79]s - [ 82.31  80.72 102.82  58.16  64.25]s - [179.94 126.47  97.3  101.62 135.12]s - [188.55 222.88 169.48 180.09 190.03]s | [1, 1, 1, 1, 1] ([0, 0, 0, 0, 0]) / 1 | [2, 2, 2, 2, 2] ([0, 0, 0, 0, 0]) / 2 | [6, 6, 6, 6, 6] ([0, 0, 0, 0, 0]) / 6 | [10, 10, 10, 10, 10] ([0, 0, 0, 0, 0]) / 10 | [18, 18, 18, 18, 18] ([0, 0, 0, 0, 0]) / 18 | \n",
      "100: \n",
      "[53.41 35.52 48.76 38.99 44.54]s - [176.19 118.13 108.26  98.85 157.34]s - [252.35 251.23 291.93 274.8  241.16]s - [277.71 328.94 331.03 300.29 293.35]s - [347.51 345.82 350.85 365.06 360.46]s | [3, 3, 3, 3, 3] ([0, 0, 0, 0, 0]) / 3 | [10, 10, 10, 10, 10] ([0, 0, 0, 0, 0]) / 10 | [33, 33, 33, 33, 33] ([0, 0, 0, 0, 0]) / 33 | [50, 50, 50, 50, 50] ([0, 0, 0, 0, 0]) / 50 | [90, 90, 90, 90, 90] ([0, 0, 0, 0, 0]) / 90 | \n",
      "250: \n",
      "[133.44  98.98 114.13  74.5  111.72]s - [656.66 240.18 228.76 247.39 245.45]s - [400.43 386.76 395.85 564.18 374.34]s - [530.58 427.13 427.14 561.94 468.83]s - [1150.84 1162.85 1166.5  1162.05 1147.84]s | [7, 7, 7, 7, 7] ([0, 0, 0, 0, 0]) / 7 | [25, 25, 25, 25, 25] ([1, 0, 0, 0, 0]) / 25 | [82, 82, 82, 82, 82] ([0, 0, 0, 0, 0]) / 82 | [125, 125, 125, 125, 125] ([0, 0, 0, 0, 0]) / 125 | [225, 225, 225, 225, 225] ([0, 0, 0, 0, 0]) / 225 | \n",
      "====================================================================================================\n",
      "Amount of samples = 10000\n",
      "Total used features = 500\n",
      "Informative features: 15 (3%)\n",
      "\n",
      "Seed 0\n"
     ]
    },
    {
     "data": {
      "application/vnd.jupyter.widget-view+json": {
       "model_id": "d7dcbfc24fbd48ec9c58095b4579ec59",
       "version_major": 2,
       "version_minor": 0
      },
      "text/plain": [
       "  0%|          | 0/20 [00:00<?, ?it/s]"
      ]
     },
     "metadata": {},
     "output_type": "display_data"
    },
    {
     "name": "stderr",
     "output_type": "stream",
     "text": [
      " 93%|=================== | 1858/2000 [00:11<00:00]       "
     ]
    },
    {
     "name": "stdout",
     "output_type": "stream",
     "text": [
      "--------------------------------------------------\n",
      "Seed 1\n"
     ]
    },
    {
     "data": {
      "application/vnd.jupyter.widget-view+json": {
       "model_id": "ad8af18753ba4e338f8d7f5784ee847b",
       "version_major": 2,
       "version_minor": 0
      },
      "text/plain": [
       "  0%|          | 0/20 [00:00<?, ?it/s]"
      ]
     },
     "metadata": {},
     "output_type": "display_data"
    },
    {
     "name": "stdout",
     "output_type": "stream",
     "text": [
      "--------------------------------------------------\n",
      "Seed 2\n"
     ]
    },
    {
     "data": {
      "application/vnd.jupyter.widget-view+json": {
       "model_id": "f42268a323494d3c9a7b55f65dd69f66",
       "version_major": 2,
       "version_minor": 0
      },
      "text/plain": [
       "  0%|          | 0/20 [00:00<?, ?it/s]"
      ]
     },
     "metadata": {},
     "output_type": "display_data"
    },
    {
     "name": "stdout",
     "output_type": "stream",
     "text": [
      "--------------------------------------------------\n",
      "Seed 3\n"
     ]
    },
    {
     "data": {
      "application/vnd.jupyter.widget-view+json": {
       "model_id": "9c7fc1759b884aae9b24faa1240be4f0",
       "version_major": 2,
       "version_minor": 0
      },
      "text/plain": [
       "  0%|          | 0/20 [00:00<?, ?it/s]"
      ]
     },
     "metadata": {},
     "output_type": "display_data"
    },
    {
     "name": "stderr",
     "output_type": "stream",
     "text": [
      " 99%|===================| 1976/2000 [00:11<00:00]       "
     ]
    },
    {
     "name": "stdout",
     "output_type": "stream",
     "text": [
      "--------------------------------------------------\n",
      "Seed 4\n"
     ]
    },
    {
     "data": {
      "application/vnd.jupyter.widget-view+json": {
       "model_id": "8424ef1c651e49d3adf727794753b06b",
       "version_major": 2,
       "version_minor": 0
      },
      "text/plain": [
       "  0%|          | 0/20 [00:00<?, ?it/s]"
      ]
     },
     "metadata": {},
     "output_type": "display_data"
    },
    {
     "name": "stdout",
     "output_type": "stream",
     "text": [
      "--------------------------------------------------\n",
      "Average time: 272.35 seconds\n",
      "Found features: [15, 15, 15, 15, 15]\n",
      "Found 15.0 of 15 informative features\n",
      "0.0 of 15.0 outputted powershap features are noise features\n",
      "====================================================================================================\n",
      "Amount of samples = 10000\n",
      "Total used features = 500\n",
      "Informative features: 50 (10%)\n",
      "\n",
      "Seed 0\n"
     ]
    },
    {
     "data": {
      "application/vnd.jupyter.widget-view+json": {
       "model_id": "d5c65551e3a94a54ba2f209ed1c0a7a9",
       "version_major": 2,
       "version_minor": 0
      },
      "text/plain": [
       "  0%|          | 0/20 [00:00<?, ?it/s]"
      ]
     },
     "metadata": {},
     "output_type": "display_data"
    },
    {
     "name": "stderr",
     "output_type": "stream",
     "text": [
      " 97%|=================== | 1942/2000 [00:12<00:00]       "
     ]
    },
    {
     "data": {
      "application/vnd.jupyter.widget-view+json": {
       "model_id": "e387f6188bcb429e96b858cafcbb8fc0",
       "version_major": 2,
       "version_minor": 0
      },
      "text/plain": [
       "  0%|          | 0/10 [00:00<?, ?it/s]"
      ]
     },
     "metadata": {},
     "output_type": "display_data"
    },
    {
     "name": "stderr",
     "output_type": "stream",
     "text": [
      " 93%|=================== | 1851/2000 [00:11<00:00]       "
     ]
    },
    {
     "data": {
      "application/vnd.jupyter.widget-view+json": {
       "model_id": "3f013b60450343cda96793818eb16046",
       "version_major": 2,
       "version_minor": 0
      },
      "text/plain": [
       "  0%|          | 0/10 [00:00<?, ?it/s]"
      ]
     },
     "metadata": {},
     "output_type": "display_data"
    },
    {
     "name": "stderr",
     "output_type": "stream",
     "text": [
      " 95%|=================== | 1900/2000 [00:13<00:00]       "
     ]
    },
    {
     "data": {
      "application/vnd.jupyter.widget-view+json": {
       "model_id": "610505df29a34746b00eaf4de9378b48",
       "version_major": 2,
       "version_minor": 0
      },
      "text/plain": [
       "  0%|          | 0/10 [00:00<?, ?it/s]"
      ]
     },
     "metadata": {},
     "output_type": "display_data"
    },
    {
     "name": "stderr",
     "output_type": "stream",
     "text": [
      " 96%|=================== | 1914/2000 [00:13<00:00]       "
     ]
    },
    {
     "name": "stdout",
     "output_type": "stream",
     "text": [
      "--------------------------------------------------\n",
      "Seed 1\n"
     ]
    },
    {
     "data": {
      "application/vnd.jupyter.widget-view+json": {
       "model_id": "ee145f46ac5b44b380b64581494a236c",
       "version_major": 2,
       "version_minor": 0
      },
      "text/plain": [
       "  0%|          | 0/20 [00:00<?, ?it/s]"
      ]
     },
     "metadata": {},
     "output_type": "display_data"
    },
    {
     "name": "stderr",
     "output_type": "stream",
     "text": [
      " 96%|=================== | 1910/2000 [00:13<00:00]       "
     ]
    },
    {
     "name": "stdout",
     "output_type": "stream",
     "text": [
      "--------------------------------------------------\n",
      "Seed 2\n"
     ]
    },
    {
     "data": {
      "application/vnd.jupyter.widget-view+json": {
       "model_id": "a0016a9e388c43fc8a19ddc5e8cbb345",
       "version_major": 2,
       "version_minor": 0
      },
      "text/plain": [
       "  0%|          | 0/20 [00:00<?, ?it/s]"
      ]
     },
     "metadata": {},
     "output_type": "display_data"
    },
    {
     "name": "stderr",
     "output_type": "stream",
     "text": [
      " 94%|=================== | 1875/2000 [00:13<00:00]       "
     ]
    },
    {
     "name": "stdout",
     "output_type": "stream",
     "text": [
      "--------------------------------------------------\n",
      "Seed 3\n"
     ]
    },
    {
     "data": {
      "application/vnd.jupyter.widget-view+json": {
       "model_id": "d5656d7facf14f15a4c1605698916a08",
       "version_major": 2,
       "version_minor": 0
      },
      "text/plain": [
       "  0%|          | 0/20 [00:00<?, ?it/s]"
      ]
     },
     "metadata": {},
     "output_type": "display_data"
    },
    {
     "name": "stderr",
     "output_type": "stream",
     "text": [
      " 97%|=================== | 1941/2000 [00:12<00:00]       "
     ]
    },
    {
     "data": {
      "application/vnd.jupyter.widget-view+json": {
       "model_id": "f8e6135821754c2db95b400f311fde52",
       "version_major": 2,
       "version_minor": 0
      },
      "text/plain": [
       "  0%|          | 0/10 [00:00<?, ?it/s]"
      ]
     },
     "metadata": {},
     "output_type": "display_data"
    },
    {
     "name": "stderr",
     "output_type": "stream",
     "text": [
      " 99%|===================| 1987/2000 [00:12<00:00]        "
     ]
    },
    {
     "data": {
      "application/vnd.jupyter.widget-view+json": {
       "model_id": "97f8bc37ddd8434b830d084b12bb305b",
       "version_major": 2,
       "version_minor": 0
      },
      "text/plain": [
       "  0%|          | 0/1 [00:00<?, ?it/s]"
      ]
     },
     "metadata": {},
     "output_type": "display_data"
    },
    {
     "name": "stderr",
     "output_type": "stream",
     "text": [
      " 95%|=================== | 1901/2000 [00:15<00:00]       "
     ]
    },
    {
     "name": "stdout",
     "output_type": "stream",
     "text": [
      "--------------------------------------------------\n",
      "Seed 4\n"
     ]
    },
    {
     "data": {
      "application/vnd.jupyter.widget-view+json": {
       "model_id": "b3bf84c3c1a04615b1242431cb795eb7",
       "version_major": 2,
       "version_minor": 0
      },
      "text/plain": [
       "  0%|          | 0/20 [00:00<?, ?it/s]"
      ]
     },
     "metadata": {},
     "output_type": "display_data"
    },
    {
     "name": "stderr",
     "output_type": "stream",
     "text": [
      " 93%|=================== | 1856/2000 [00:13<00:01]       "
     ]
    },
    {
     "data": {
      "application/vnd.jupyter.widget-view+json": {
       "model_id": "e77efef99c93476492959926293599d3",
       "version_major": 2,
       "version_minor": 0
      },
      "text/plain": [
       "  0%|          | 0/10 [00:00<?, ?it/s]"
      ]
     },
     "metadata": {},
     "output_type": "display_data"
    },
    {
     "name": "stderr",
     "output_type": "stream",
     "text": [
      " 94%|=================== | 1875/2000 [00:11<00:00]       "
     ]
    },
    {
     "data": {
      "application/vnd.jupyter.widget-view+json": {
       "model_id": "e52aac8f29ec45ba92e274af5dadad7c",
       "version_major": 2,
       "version_minor": 0
      },
      "text/plain": [
       "  0%|          | 0/10 [00:00<?, ?it/s]"
      ]
     },
     "metadata": {},
     "output_type": "display_data"
    },
    {
     "name": "stderr",
     "output_type": "stream",
     "text": [
      " 95%|=================== | 1899/2000 [00:11<00:00]       "
     ]
    },
    {
     "data": {
      "application/vnd.jupyter.widget-view+json": {
       "model_id": "97de60674f164a8d95e90f98b937a6ac",
       "version_major": 2,
       "version_minor": 0
      },
      "text/plain": [
       "  0%|          | 0/7 [00:00<?, ?it/s]"
      ]
     },
     "metadata": {},
     "output_type": "display_data"
    },
    {
     "name": "stderr",
     "output_type": "stream",
     "text": [
      "100%|===================| 1993/2000 [00:14<00:00]        "
     ]
    },
    {
     "name": "stdout",
     "output_type": "stream",
     "text": [
      "--------------------------------------------------\n",
      "Average time: 689.07 seconds\n",
      "Found features: [52, 50, 51, 51, 52]\n",
      "Found 50.0 of 50 informative features\n",
      "1.2 of 51.2 outputted powershap features are noise features\n",
      "====================================================================================================\n",
      "Amount of samples = 10000\n",
      "Total used features = 500\n",
      "Informative features: 165 (33%)\n",
      "\n",
      "Seed 0\n"
     ]
    },
    {
     "data": {
      "application/vnd.jupyter.widget-view+json": {
       "model_id": "423971cae64b423aa2e3f74e9472a139",
       "version_major": 2,
       "version_minor": 0
      },
      "text/plain": [
       "  0%|          | 0/20 [00:00<?, ?it/s]"
      ]
     },
     "metadata": {},
     "output_type": "display_data"
    },
    {
     "name": "stderr",
     "output_type": "stream",
     "text": [
      " 96%|=================== | 1916/2000 [00:16<00:00]       "
     ]
    },
    {
     "data": {
      "application/vnd.jupyter.widget-view+json": {
       "model_id": "7e03d88ab34f4dc4bcf217b87e9d13d5",
       "version_major": 2,
       "version_minor": 0
      },
      "text/plain": [
       "  0%|          | 0/10 [00:00<?, ?it/s]"
      ]
     },
     "metadata": {},
     "output_type": "display_data"
    },
    {
     "name": "stderr",
     "output_type": "stream",
     "text": [
      " 96%|=================== | 1910/2000 [00:15<00:00]       "
     ]
    },
    {
     "data": {
      "application/vnd.jupyter.widget-view+json": {
       "model_id": "0c860d2ac3714d52a4426d0d4ddd3555",
       "version_major": 2,
       "version_minor": 0
      },
      "text/plain": [
       "  0%|          | 0/10 [00:00<?, ?it/s]"
      ]
     },
     "metadata": {},
     "output_type": "display_data"
    },
    {
     "name": "stderr",
     "output_type": "stream",
     "text": [
      " 94%|=================== | 1888/2000 [00:14<00:00]       "
     ]
    },
    {
     "data": {
      "application/vnd.jupyter.widget-view+json": {
       "model_id": "3e0177b37ba64078a5b9d48bf922124d",
       "version_major": 2,
       "version_minor": 0
      },
      "text/plain": [
       "  0%|          | 0/10 [00:00<?, ?it/s]"
      ]
     },
     "metadata": {},
     "output_type": "display_data"
    },
    {
     "name": "stderr",
     "output_type": "stream",
     "text": [
      " 97%|=================== | 1948/2000 [00:16<00:00]       "
     ]
    },
    {
     "name": "stdout",
     "output_type": "stream",
     "text": [
      "--------------------------------------------------\n",
      "Seed 1\n"
     ]
    },
    {
     "data": {
      "application/vnd.jupyter.widget-view+json": {
       "model_id": "923d279867ce4657aeb5e4040c4c1277",
       "version_major": 2,
       "version_minor": 0
      },
      "text/plain": [
       "  0%|          | 0/20 [00:00<?, ?it/s]"
      ]
     },
     "metadata": {},
     "output_type": "display_data"
    },
    {
     "name": "stderr",
     "output_type": "stream",
     "text": [
      " 98%|===================| 1950/2000 [00:16<00:00]        "
     ]
    },
    {
     "data": {
      "application/vnd.jupyter.widget-view+json": {
       "model_id": "7cf03335b410467e9f005c65145c34cd",
       "version_major": 2,
       "version_minor": 0
      },
      "text/plain": [
       "  0%|          | 0/10 [00:00<?, ?it/s]"
      ]
     },
     "metadata": {},
     "output_type": "display_data"
    },
    {
     "name": "stderr",
     "output_type": "stream",
     "text": [
      " 97%|=================== | 1932/2000 [00:17<00:00]       "
     ]
    },
    {
     "data": {
      "application/vnd.jupyter.widget-view+json": {
       "model_id": "d9368a3ccded4fbbaa0f791cb70bdf77",
       "version_major": 2,
       "version_minor": 0
      },
      "text/plain": [
       "  0%|          | 0/5 [00:00<?, ?it/s]"
      ]
     },
     "metadata": {},
     "output_type": "display_data"
    },
    {
     "name": "stderr",
     "output_type": "stream",
     "text": [
      " 99%|===================| 1976/2000 [00:17<00:00]        "
     ]
    },
    {
     "name": "stdout",
     "output_type": "stream",
     "text": [
      "--------------------------------------------------\n",
      "Seed 2\n"
     ]
    },
    {
     "data": {
      "application/vnd.jupyter.widget-view+json": {
       "model_id": "bbfc475bbd884983aa18d6aa24a40d42",
       "version_major": 2,
       "version_minor": 0
      },
      "text/plain": [
       "  0%|          | 0/20 [00:00<?, ?it/s]"
      ]
     },
     "metadata": {},
     "output_type": "display_data"
    },
    {
     "name": "stderr",
     "output_type": "stream",
     "text": [
      " 96%|=================== | 1913/2000 [00:14<00:00]       "
     ]
    },
    {
     "data": {
      "application/vnd.jupyter.widget-view+json": {
       "model_id": "459321b9aaf740ee8a2b39123da0ed92",
       "version_major": 2,
       "version_minor": 0
      },
      "text/plain": [
       "  0%|          | 0/10 [00:00<?, ?it/s]"
      ]
     },
     "metadata": {},
     "output_type": "display_data"
    },
    {
     "name": "stderr",
     "output_type": "stream",
     "text": [
      " 95%|=================== | 1908/2000 [00:15<00:00]       "
     ]
    },
    {
     "data": {
      "application/vnd.jupyter.widget-view+json": {
       "model_id": "fa087674a9d647a09c44b24d2032d61a",
       "version_major": 2,
       "version_minor": 0
      },
      "text/plain": [
       "  0%|          | 0/10 [00:00<?, ?it/s]"
      ]
     },
     "metadata": {},
     "output_type": "display_data"
    },
    {
     "name": "stderr",
     "output_type": "stream",
     "text": [
      " 97%|=================== | 1937/2000 [00:15<00:00]       "
     ]
    },
    {
     "data": {
      "application/vnd.jupyter.widget-view+json": {
       "model_id": "372228ac310b473ebc3c7f8c08ec1f25",
       "version_major": 2,
       "version_minor": 0
      },
      "text/plain": [
       "  0%|          | 0/4 [00:00<?, ?it/s]"
      ]
     },
     "metadata": {},
     "output_type": "display_data"
    },
    {
     "name": "stderr",
     "output_type": "stream",
     "text": [
      " 99%|===================| 1973/2000 [00:13<00:00]        "
     ]
    },
    {
     "name": "stdout",
     "output_type": "stream",
     "text": [
      "--------------------------------------------------\n",
      "Seed 3\n"
     ]
    },
    {
     "data": {
      "application/vnd.jupyter.widget-view+json": {
       "model_id": "773fcd34d8b346f6a47972ba4c988897",
       "version_major": 2,
       "version_minor": 0
      },
      "text/plain": [
       "  0%|          | 0/20 [00:00<?, ?it/s]"
      ]
     },
     "metadata": {},
     "output_type": "display_data"
    },
    {
     "name": "stderr",
     "output_type": "stream",
     "text": [
      " 97%|=================== | 1942/2000 [00:17<00:00]       "
     ]
    },
    {
     "data": {
      "application/vnd.jupyter.widget-view+json": {
       "model_id": "068cbc375bd449afb31d85937846a7bb",
       "version_major": 2,
       "version_minor": 0
      },
      "text/plain": [
       "  0%|          | 0/10 [00:00<?, ?it/s]"
      ]
     },
     "metadata": {},
     "output_type": "display_data"
    },
    {
     "name": "stderr",
     "output_type": "stream",
     "text": [
      " 95%|=================== | 1909/2000 [00:16<00:00]       "
     ]
    },
    {
     "data": {
      "application/vnd.jupyter.widget-view+json": {
       "model_id": "de81dfc298154483ac14bd7a51fa7526",
       "version_major": 2,
       "version_minor": 0
      },
      "text/plain": [
       "  0%|          | 0/10 [00:00<?, ?it/s]"
      ]
     },
     "metadata": {},
     "output_type": "display_data"
    },
    {
     "name": "stderr",
     "output_type": "stream",
     "text": [
      " 97%|=================== | 1945/2000 [00:17<00:00]       "
     ]
    },
    {
     "data": {
      "application/vnd.jupyter.widget-view+json": {
       "model_id": "569d826045f741e4af8e114bf1bd23d4",
       "version_major": 2,
       "version_minor": 0
      },
      "text/plain": [
       "  0%|          | 0/10 [00:00<?, ?it/s]"
      ]
     },
     "metadata": {},
     "output_type": "display_data"
    },
    {
     "name": "stderr",
     "output_type": "stream",
     "text": [
      " 96%|=================== | 1916/2000 [00:17<00:00]       "
     ]
    },
    {
     "name": "stdout",
     "output_type": "stream",
     "text": [
      "--------------------------------------------------\n",
      "Seed 4\n"
     ]
    },
    {
     "data": {
      "application/vnd.jupyter.widget-view+json": {
       "model_id": "ba822bf6e91241f1a62aba55993243ea",
       "version_major": 2,
       "version_minor": 0
      },
      "text/plain": [
       "  0%|          | 0/20 [00:00<?, ?it/s]"
      ]
     },
     "metadata": {},
     "output_type": "display_data"
    },
    {
     "name": "stderr",
     "output_type": "stream",
     "text": [
      " 96%|=================== | 1922/2000 [00:16<00:00]       "
     ]
    },
    {
     "data": {
      "application/vnd.jupyter.widget-view+json": {
       "model_id": "377154a3c40a4b16af5b6f9f325707e8",
       "version_major": 2,
       "version_minor": 0
      },
      "text/plain": [
       "  0%|          | 0/10 [00:00<?, ?it/s]"
      ]
     },
     "metadata": {},
     "output_type": "display_data"
    },
    {
     "name": "stderr",
     "output_type": "stream",
     "text": [
      " 94%|=================== | 1881/2000 [00:13<00:00]       "
     ]
    },
    {
     "data": {
      "application/vnd.jupyter.widget-view+json": {
       "model_id": "a6e1bb086a544a6598adb172a5796a28",
       "version_major": 2,
       "version_minor": 0
      },
      "text/plain": [
       "  0%|          | 0/10 [00:00<?, ?it/s]"
      ]
     },
     "metadata": {},
     "output_type": "display_data"
    },
    {
     "name": "stderr",
     "output_type": "stream",
     "text": [
      " 96%|=================== | 1916/2000 [00:16<00:00]       "
     ]
    },
    {
     "data": {
      "application/vnd.jupyter.widget-view+json": {
       "model_id": "5dbc26ddd6cf4158972e66c4e3b2be3b",
       "version_major": 2,
       "version_minor": 0
      },
      "text/plain": [
       "  0%|          | 0/10 [00:00<?, ?it/s]"
      ]
     },
     "metadata": {},
     "output_type": "display_data"
    },
    {
     "name": "stderr",
     "output_type": "stream",
     "text": [
      " 99%|===================| 1979/2000 [00:16<00:00]        "
     ]
    },
    {
     "name": "stdout",
     "output_type": "stream",
     "text": [
      "--------------------------------------------------\n",
      "Average time: 1256.78 seconds\n",
      "Found features: [167, 165, 165, 165, 165]\n",
      "Found 165.0 of 165 informative features\n",
      "0.4 of 165.4 outputted powershap features are noise features\n",
      "====================================================================================================\n",
      "Amount of samples = 10000\n",
      "Total used features = 500\n",
      "Informative features: 250 (50%)\n",
      "\n",
      "Seed 0\n"
     ]
    },
    {
     "data": {
      "application/vnd.jupyter.widget-view+json": {
       "model_id": "39aeef9ae5b14119aa647f42855edd7b",
       "version_major": 2,
       "version_minor": 0
      },
      "text/plain": [
       "  0%|          | 0/20 [00:00<?, ?it/s]"
      ]
     },
     "metadata": {},
     "output_type": "display_data"
    },
    {
     "name": "stderr",
     "output_type": "stream",
     "text": [
      " 95%|=================== | 1909/2000 [00:17<00:00]       "
     ]
    },
    {
     "data": {
      "application/vnd.jupyter.widget-view+json": {
       "model_id": "52251d1adc4b4214ad27c1dcab6d850d",
       "version_major": 2,
       "version_minor": 0
      },
      "text/plain": [
       "  0%|          | 0/10 [00:00<?, ?it/s]"
      ]
     },
     "metadata": {},
     "output_type": "display_data"
    },
    {
     "name": "stderr",
     "output_type": "stream",
     "text": [
      " 95%|=================== | 1900/2000 [00:17<00:00]       "
     ]
    },
    {
     "data": {
      "application/vnd.jupyter.widget-view+json": {
       "model_id": "9af5e6f8dfe143fb86663439e641ded1",
       "version_major": 2,
       "version_minor": 0
      },
      "text/plain": [
       "  0%|          | 0/10 [00:00<?, ?it/s]"
      ]
     },
     "metadata": {},
     "output_type": "display_data"
    },
    {
     "name": "stderr",
     "output_type": "stream",
     "text": [
      "100%|===================| 1996/2000 [00:18<00:00]        "
     ]
    },
    {
     "data": {
      "application/vnd.jupyter.widget-view+json": {
       "model_id": "2dd414cf79af416892e4117589281243",
       "version_major": 2,
       "version_minor": 0
      },
      "text/plain": [
       "  0%|          | 0/10 [00:00<?, ?it/s]"
      ]
     },
     "metadata": {},
     "output_type": "display_data"
    },
    {
     "name": "stderr",
     "output_type": "stream",
     "text": [
      " 97%|=================== | 1932/2000 [00:17<00:00]       "
     ]
    },
    {
     "name": "stdout",
     "output_type": "stream",
     "text": [
      "--------------------------------------------------\n",
      "Seed 1\n"
     ]
    },
    {
     "data": {
      "application/vnd.jupyter.widget-view+json": {
       "model_id": "7f1d81cea0f641cc96e4d0b7596f6530",
       "version_major": 2,
       "version_minor": 0
      },
      "text/plain": [
       "  0%|          | 0/20 [00:00<?, ?it/s]"
      ]
     },
     "metadata": {},
     "output_type": "display_data"
    },
    {
     "name": "stderr",
     "output_type": "stream",
     "text": [
      " 99%|===================| 1983/2000 [00:18<00:00]        "
     ]
    },
    {
     "data": {
      "application/vnd.jupyter.widget-view+json": {
       "model_id": "efe9616a93724609856e9e33dab89a3c",
       "version_major": 2,
       "version_minor": 0
      },
      "text/plain": [
       "  0%|          | 0/10 [00:00<?, ?it/s]"
      ]
     },
     "metadata": {},
     "output_type": "display_data"
    },
    {
     "name": "stderr",
     "output_type": "stream",
     "text": [
      "100%|===================| 1998/2000 [00:17<00:00]        "
     ]
    },
    {
     "data": {
      "application/vnd.jupyter.widget-view+json": {
       "model_id": "e58010a5dfb946c9a8cae2a26cb62305",
       "version_major": 2,
       "version_minor": 0
      },
      "text/plain": [
       "  0%|          | 0/10 [00:00<?, ?it/s]"
      ]
     },
     "metadata": {},
     "output_type": "display_data"
    },
    {
     "name": "stderr",
     "output_type": "stream",
     "text": [
      " 95%|=================== | 1900/2000 [00:17<00:00]       "
     ]
    },
    {
     "data": {
      "application/vnd.jupyter.widget-view+json": {
       "model_id": "5f1c699fe26c4081b9f41abc663d3a14",
       "version_major": 2,
       "version_minor": 0
      },
      "text/plain": [
       "  0%|          | 0/10 [00:00<?, ?it/s]"
      ]
     },
     "metadata": {},
     "output_type": "display_data"
    },
    {
     "name": "stderr",
     "output_type": "stream",
     "text": [
      " 99%|===================| 1975/2000 [00:17<00:00]        "
     ]
    },
    {
     "name": "stdout",
     "output_type": "stream",
     "text": [
      "--------------------------------------------------\n",
      "Seed 2\n"
     ]
    },
    {
     "data": {
      "application/vnd.jupyter.widget-view+json": {
       "model_id": "dae62625de1946be9f1752a1412adb7a",
       "version_major": 2,
       "version_minor": 0
      },
      "text/plain": [
       "  0%|          | 0/20 [00:00<?, ?it/s]"
      ]
     },
     "metadata": {},
     "output_type": "display_data"
    },
    {
     "name": "stderr",
     "output_type": "stream",
     "text": [
      " 98%|===================| 1968/2000 [00:17<00:00]        "
     ]
    },
    {
     "data": {
      "application/vnd.jupyter.widget-view+json": {
       "model_id": "d4dbcaf16af84ed3ab40eee59289125a",
       "version_major": 2,
       "version_minor": 0
      },
      "text/plain": [
       "  0%|          | 0/10 [00:00<?, ?it/s]"
      ]
     },
     "metadata": {},
     "output_type": "display_data"
    },
    {
     "name": "stderr",
     "output_type": "stream",
     "text": [
      " 96%|=================== | 1918/2000 [00:17<00:00]       "
     ]
    },
    {
     "data": {
      "application/vnd.jupyter.widget-view+json": {
       "model_id": "fb21108be9a8422e878b7524620b7b22",
       "version_major": 2,
       "version_minor": 0
      },
      "text/plain": [
       "  0%|          | 0/10 [00:00<?, ?it/s]"
      ]
     },
     "metadata": {},
     "output_type": "display_data"
    },
    {
     "name": "stderr",
     "output_type": "stream",
     "text": [
      " 95%|=================== | 1900/2000 [00:17<00:00]       "
     ]
    },
    {
     "data": {
      "application/vnd.jupyter.widget-view+json": {
       "model_id": "6da5fbb8d6c24ff1bf4e65f4de56ae79",
       "version_major": 2,
       "version_minor": 0
      },
      "text/plain": [
       "  0%|          | 0/10 [00:00<?, ?it/s]"
      ]
     },
     "metadata": {},
     "output_type": "display_data"
    },
    {
     "name": "stderr",
     "output_type": "stream",
     "text": [
      "100%|===================| 1990/2000 [00:18<00:00]        "
     ]
    },
    {
     "name": "stdout",
     "output_type": "stream",
     "text": [
      "--------------------------------------------------\n",
      "Seed 3\n"
     ]
    },
    {
     "data": {
      "application/vnd.jupyter.widget-view+json": {
       "model_id": "bbfc3bdace504d5cb7c79f75935aa667",
       "version_major": 2,
       "version_minor": 0
      },
      "text/plain": [
       "  0%|          | 0/20 [00:00<?, ?it/s]"
      ]
     },
     "metadata": {},
     "output_type": "display_data"
    },
    {
     "name": "stderr",
     "output_type": "stream",
     "text": [
      " 96%|=================== | 1920/2000 [00:17<00:00]       "
     ]
    },
    {
     "data": {
      "application/vnd.jupyter.widget-view+json": {
       "model_id": "329100f284eb410f95bee3d36651dcb0",
       "version_major": 2,
       "version_minor": 0
      },
      "text/plain": [
       "  0%|          | 0/10 [00:00<?, ?it/s]"
      ]
     },
     "metadata": {},
     "output_type": "display_data"
    },
    {
     "name": "stderr",
     "output_type": "stream",
     "text": [
      " 95%|=================== | 1894/2000 [00:17<00:00]       "
     ]
    },
    {
     "data": {
      "application/vnd.jupyter.widget-view+json": {
       "model_id": "d1fcf96e6a0546feb22da8c5b692060b",
       "version_major": 2,
       "version_minor": 0
      },
      "text/plain": [
       "  0%|          | 0/10 [00:00<?, ?it/s]"
      ]
     },
     "metadata": {},
     "output_type": "display_data"
    },
    {
     "name": "stderr",
     "output_type": "stream",
     "text": [
      " 98%|===================| 1953/2000 [00:18<00:00]        "
     ]
    },
    {
     "data": {
      "application/vnd.jupyter.widget-view+json": {
       "model_id": "d88a2435c66b41d19fbf9768b91dd9c3",
       "version_major": 2,
       "version_minor": 0
      },
      "text/plain": [
       "  0%|          | 0/10 [00:00<?, ?it/s]"
      ]
     },
     "metadata": {},
     "output_type": "display_data"
    },
    {
     "name": "stderr",
     "output_type": "stream",
     "text": [
      " 95%|=================== | 1905/2000 [00:17<00:00]       "
     ]
    },
    {
     "name": "stdout",
     "output_type": "stream",
     "text": [
      "--------------------------------------------------\n",
      "Seed 4\n"
     ]
    },
    {
     "data": {
      "application/vnd.jupyter.widget-view+json": {
       "model_id": "6adfae24d9454e149f0a525e4bc3a42e",
       "version_major": 2,
       "version_minor": 0
      },
      "text/plain": [
       "  0%|          | 0/20 [00:00<?, ?it/s]"
      ]
     },
     "metadata": {},
     "output_type": "display_data"
    },
    {
     "name": "stderr",
     "output_type": "stream",
     "text": [
      " 95%|=================== | 1907/2000 [00:16<00:00]       "
     ]
    },
    {
     "data": {
      "application/vnd.jupyter.widget-view+json": {
       "model_id": "e1381f2a55c642a2b05f1706ec82cd64",
       "version_major": 2,
       "version_minor": 0
      },
      "text/plain": [
       "  0%|          | 0/10 [00:00<?, ?it/s]"
      ]
     },
     "metadata": {},
     "output_type": "display_data"
    },
    {
     "name": "stderr",
     "output_type": "stream",
     "text": [
      " 97%|=================== | 1943/2000 [00:17<00:00]       "
     ]
    },
    {
     "data": {
      "application/vnd.jupyter.widget-view+json": {
       "model_id": "8f3deb33f1264782bec68921334da709",
       "version_major": 2,
       "version_minor": 0
      },
      "text/plain": [
       "  0%|          | 0/10 [00:00<?, ?it/s]"
      ]
     },
     "metadata": {},
     "output_type": "display_data"
    },
    {
     "name": "stderr",
     "output_type": "stream",
     "text": [
      " 99%|===================| 1975/2000 [00:17<00:00]        "
     ]
    },
    {
     "data": {
      "application/vnd.jupyter.widget-view+json": {
       "model_id": "7a3ed1150a9c49cf882c985ccbeb529a",
       "version_major": 2,
       "version_minor": 0
      },
      "text/plain": [
       "  0%|          | 0/10 [00:00<?, ?it/s]"
      ]
     },
     "metadata": {},
     "output_type": "display_data"
    },
    {
     "name": "stderr",
     "output_type": "stream",
     "text": [
      " 99%|===================| 1985/2000 [00:18<00:00]        "
     ]
    },
    {
     "name": "stdout",
     "output_type": "stream",
     "text": [
      "--------------------------------------------------\n",
      "Average time: 1436.5 seconds\n",
      "Found features: [248, 250, 250, 251, 250]\n",
      "Found 249.6 of 250 informative features\n",
      "0.2 of 249.8 outputted powershap features are noise features\n",
      "====================================================================================================\n",
      "Amount of samples = 10000\n",
      "Total used features = 500\n",
      "Informative features: 450 (90%)\n",
      "\n",
      "Seed 0\n"
     ]
    },
    {
     "data": {
      "application/vnd.jupyter.widget-view+json": {
       "model_id": "6166b63d580542939f5d936df23042b2",
       "version_major": 2,
       "version_minor": 0
      },
      "text/plain": [
       "  0%|          | 0/20 [00:00<?, ?it/s]"
      ]
     },
     "metadata": {},
     "output_type": "display_data"
    },
    {
     "name": "stderr",
     "output_type": "stream",
     "text": [
      "100%|===================| 1991/2000 [00:19<00:00]        "
     ]
    },
    {
     "data": {
      "application/vnd.jupyter.widget-view+json": {
       "model_id": "afda4c4ea3574595887440ed0dbab629",
       "version_major": 2,
       "version_minor": 0
      },
      "text/plain": [
       "  0%|          | 0/10 [00:00<?, ?it/s]"
      ]
     },
     "metadata": {},
     "output_type": "display_data"
    },
    {
     "name": "stderr",
     "output_type": "stream",
     "text": [
      " 97%|=================== | 1937/2000 [00:18<00:00]       "
     ]
    },
    {
     "data": {
      "application/vnd.jupyter.widget-view+json": {
       "model_id": "66fb39e1896f46899034dec8f47ed0f2",
       "version_major": 2,
       "version_minor": 0
      },
      "text/plain": [
       "  0%|          | 0/10 [00:00<?, ?it/s]"
      ]
     },
     "metadata": {},
     "output_type": "display_data"
    },
    {
     "name": "stderr",
     "output_type": "stream",
     "text": [
      "100%|===================| 1996/2000 [00:18<00:00]        "
     ]
    },
    {
     "data": {
      "application/vnd.jupyter.widget-view+json": {
       "model_id": "dd51c9e67c304f659ae035884b26b9af",
       "version_major": 2,
       "version_minor": 0
      },
      "text/plain": [
       "  0%|          | 0/10 [00:00<?, ?it/s]"
      ]
     },
     "metadata": {},
     "output_type": "display_data"
    },
    {
     "name": "stderr",
     "output_type": "stream",
     "text": [
      " 99%|===================| 1984/2000 [00:18<00:00]        "
     ]
    },
    {
     "name": "stdout",
     "output_type": "stream",
     "text": [
      "--------------------------------------------------\n",
      "Seed 1\n"
     ]
    },
    {
     "data": {
      "application/vnd.jupyter.widget-view+json": {
       "model_id": "17555e52faae4e02b8800b0493f3e8af",
       "version_major": 2,
       "version_minor": 0
      },
      "text/plain": [
       "  0%|          | 0/20 [00:00<?, ?it/s]"
      ]
     },
     "metadata": {},
     "output_type": "display_data"
    },
    {
     "name": "stderr",
     "output_type": "stream",
     "text": [
      " 95%|=================== | 1894/2000 [00:18<00:01]       "
     ]
    },
    {
     "data": {
      "application/vnd.jupyter.widget-view+json": {
       "model_id": "882b069d0cd744feac15b2c2acbed548",
       "version_major": 2,
       "version_minor": 0
      },
      "text/plain": [
       "  0%|          | 0/10 [00:00<?, ?it/s]"
      ]
     },
     "metadata": {},
     "output_type": "display_data"
    },
    {
     "name": "stderr",
     "output_type": "stream",
     "text": [
      " 99%|===================| 1989/2000 [00:19<00:00]        "
     ]
    },
    {
     "data": {
      "application/vnd.jupyter.widget-view+json": {
       "model_id": "753ff795daeb4181aff3171a79df8edd",
       "version_major": 2,
       "version_minor": 0
      },
      "text/plain": [
       "  0%|          | 0/10 [00:00<?, ?it/s]"
      ]
     },
     "metadata": {},
     "output_type": "display_data"
    },
    {
     "name": "stderr",
     "output_type": "stream",
     "text": [
      " 99%|===================| 1988/2000 [00:18<00:00]        "
     ]
    },
    {
     "data": {
      "application/vnd.jupyter.widget-view+json": {
       "model_id": "b21c846290c644039429a567c39751ec",
       "version_major": 2,
       "version_minor": 0
      },
      "text/plain": [
       "  0%|          | 0/10 [00:00<?, ?it/s]"
      ]
     },
     "metadata": {},
     "output_type": "display_data"
    },
    {
     "name": "stderr",
     "output_type": "stream",
     "text": [
      " 97%|=================== | 1931/2000 [00:18<00:00]       "
     ]
    },
    {
     "name": "stdout",
     "output_type": "stream",
     "text": [
      "--------------------------------------------------\n",
      "Seed 2\n"
     ]
    },
    {
     "data": {
      "application/vnd.jupyter.widget-view+json": {
       "model_id": "b49f34abdd394767948bb4657b239804",
       "version_major": 2,
       "version_minor": 0
      },
      "text/plain": [
       "  0%|          | 0/20 [00:00<?, ?it/s]"
      ]
     },
     "metadata": {},
     "output_type": "display_data"
    },
    {
     "name": "stderr",
     "output_type": "stream",
     "text": [
      " 99%|===================| 1980/2000 [00:19<00:00]        "
     ]
    },
    {
     "data": {
      "application/vnd.jupyter.widget-view+json": {
       "model_id": "2866e6f5993b4037844d3cf1fe491bcc",
       "version_major": 2,
       "version_minor": 0
      },
      "text/plain": [
       "  0%|          | 0/10 [00:00<?, ?it/s]"
      ]
     },
     "metadata": {},
     "output_type": "display_data"
    },
    {
     "name": "stderr",
     "output_type": "stream",
     "text": [
      " 99%|===================| 1977/2000 [00:19<00:00]        "
     ]
    },
    {
     "data": {
      "application/vnd.jupyter.widget-view+json": {
       "model_id": "2dde3474989b443984853bb5f24dbb97",
       "version_major": 2,
       "version_minor": 0
      },
      "text/plain": [
       "  0%|          | 0/10 [00:00<?, ?it/s]"
      ]
     },
     "metadata": {},
     "output_type": "display_data"
    },
    {
     "name": "stderr",
     "output_type": "stream",
     "text": [
      " 98%|===================| 1950/2000 [00:18<00:00]        "
     ]
    },
    {
     "data": {
      "application/vnd.jupyter.widget-view+json": {
       "model_id": "545284b365324437866f2ddb7c574bab",
       "version_major": 2,
       "version_minor": 0
      },
      "text/plain": [
       "  0%|          | 0/10 [00:00<?, ?it/s]"
      ]
     },
     "metadata": {},
     "output_type": "display_data"
    },
    {
     "name": "stderr",
     "output_type": "stream",
     "text": [
      " 99%|===================| 1987/2000 [00:18<00:00]        "
     ]
    },
    {
     "name": "stdout",
     "output_type": "stream",
     "text": [
      "--------------------------------------------------\n",
      "Seed 3\n"
     ]
    },
    {
     "data": {
      "application/vnd.jupyter.widget-view+json": {
       "model_id": "46968f0ed7104493ba37efdc3d59a8e9",
       "version_major": 2,
       "version_minor": 0
      },
      "text/plain": [
       "  0%|          | 0/20 [00:00<?, ?it/s]"
      ]
     },
     "metadata": {},
     "output_type": "display_data"
    },
    {
     "name": "stderr",
     "output_type": "stream",
     "text": [
      "100%|===================| 1998/2000 [00:18<00:00]        "
     ]
    },
    {
     "data": {
      "application/vnd.jupyter.widget-view+json": {
       "model_id": "2927aff0546d43e49845ceace33a7a94",
       "version_major": 2,
       "version_minor": 0
      },
      "text/plain": [
       "  0%|          | 0/10 [00:00<?, ?it/s]"
      ]
     },
     "metadata": {},
     "output_type": "display_data"
    },
    {
     "name": "stderr",
     "output_type": "stream",
     "text": [
      " 98%|===================| 1953/2000 [00:18<00:00]        "
     ]
    },
    {
     "data": {
      "application/vnd.jupyter.widget-view+json": {
       "model_id": "b0f50f3bdfc647c79347fd8c8fbf0292",
       "version_major": 2,
       "version_minor": 0
      },
      "text/plain": [
       "  0%|          | 0/10 [00:00<?, ?it/s]"
      ]
     },
     "metadata": {},
     "output_type": "display_data"
    },
    {
     "name": "stderr",
     "output_type": "stream",
     "text": [
      " 99%|===================| 1977/2000 [00:18<00:00]        "
     ]
    },
    {
     "data": {
      "application/vnd.jupyter.widget-view+json": {
       "model_id": "fde4bf590a9e4946b5182cca209e2d37",
       "version_major": 2,
       "version_minor": 0
      },
      "text/plain": [
       "  0%|          | 0/10 [00:00<?, ?it/s]"
      ]
     },
     "metadata": {},
     "output_type": "display_data"
    },
    {
     "name": "stderr",
     "output_type": "stream",
     "text": [
      "100%|===================| 1992/2000 [00:19<00:00]        "
     ]
    },
    {
     "name": "stdout",
     "output_type": "stream",
     "text": [
      "--------------------------------------------------\n",
      "Seed 4\n"
     ]
    },
    {
     "data": {
      "application/vnd.jupyter.widget-view+json": {
       "model_id": "fd37cb918abd4a5c9c937ee0124779bc",
       "version_major": 2,
       "version_minor": 0
      },
      "text/plain": [
       "  0%|          | 0/20 [00:00<?, ?it/s]"
      ]
     },
     "metadata": {},
     "output_type": "display_data"
    },
    {
     "name": "stderr",
     "output_type": "stream",
     "text": [
      " 98%|===================| 1965/2000 [00:19<00:00]        "
     ]
    },
    {
     "data": {
      "application/vnd.jupyter.widget-view+json": {
       "model_id": "dbfa1c20471b441a9c0081d9fdd2ca8c",
       "version_major": 2,
       "version_minor": 0
      },
      "text/plain": [
       "  0%|          | 0/10 [00:00<?, ?it/s]"
      ]
     },
     "metadata": {},
     "output_type": "display_data"
    },
    {
     "name": "stderr",
     "output_type": "stream",
     "text": [
      " 98%|===================| 1965/2000 [00:19<00:00]        "
     ]
    },
    {
     "data": {
      "application/vnd.jupyter.widget-view+json": {
       "model_id": "68864cc6492d4e239170114991cf47fb",
       "version_major": 2,
       "version_minor": 0
      },
      "text/plain": [
       "  0%|          | 0/10 [00:00<?, ?it/s]"
      ]
     },
     "metadata": {},
     "output_type": "display_data"
    },
    {
     "name": "stderr",
     "output_type": "stream",
     "text": [
      " 97%|=================== | 1949/2000 [00:19<00:00]       "
     ]
    },
    {
     "data": {
      "application/vnd.jupyter.widget-view+json": {
       "model_id": "ac121104b7474b099081056765baa1f0",
       "version_major": 2,
       "version_minor": 0
      },
      "text/plain": [
       "  0%|          | 0/10 [00:00<?, ?it/s]"
      ]
     },
     "metadata": {},
     "output_type": "display_data"
    },
    {
     "name": "stderr",
     "output_type": "stream",
     "text": [
      " 97%|=================== | 1949/2000 [00:19<00:00]       "
     ]
    },
    {
     "name": "stdout",
     "output_type": "stream",
     "text": [
      "--------------------------------------------------\n",
      "Average time: 1499.01 seconds\n",
      "Found features: [376, 352, 394, 368, 382]\n",
      "Found 374.4 of 450 informative features\n",
      "0.0 of 374.4 outputted powershap features are noise features\n",
      "====================================================================================================\n",
      "5000: \n",
      "20: \n",
      "[10.52  9.55  8.5  12.78  9.23]s - [11.38 13.05 12.34 10.93 13.63]s - [28.58 29.18 40.91 34.34 28.85]s - [59.07 55.66 41.43 48.52 70.42]s - [89.58 82.32 77.96 72.24 80.08]s | [1, 1, 1, 1, 1] ([0, 0, 0, 0, 0]) / 1 | [2, 2, 2, 2, 2] ([0, 0, 0, 0, 0]) / 2 | [6, 6, 6, 6, 6] ([0, 0, 0, 0, 0]) / 6 | [10, 10, 10, 10, 10] ([0, 0, 0, 0, 0]) / 10 | [18, 18, 18, 18, 18] ([0, 0, 0, 0, 0]) / 18 | \n",
      "100: \n",
      "[19.56 16.49 17.97 17.12 54.21]s - [59.15 50.65 44.92 42.14 64.94]s - [100.98  86.17  95.23  83.01  86.94]s - [107.73 112.12 219.48 100.38 110.9 ]s - [187.78 190.99 212.34 127.26 132.46]s | [3, 3, 3, 3, 3] ([0, 0, 0, 0, 0]) / 3 | [10, 10, 10, 10, 10] ([0, 0, 0, 0, 0]) / 10 | [33, 33, 33, 33, 33] ([0, 0, 0, 0, 0]) / 33 | [50, 50, 50, 50, 50] ([0, 0, 1, 0, 0]) / 50 | [89, 89, 90, 90, 90] ([0, 0, 0, 0, 0]) / 90 | \n",
      "250: \n",
      "[54.41 38.   41.36 34.89 49.24]s - [104.44  92.89  85.33  95.66 184.64]s - [313.25 294.28 328.11 208.77 237.93]s - [361.33 388.75 331.69 377.94 382.38]s - [427.78 433.31 438.66 447.37 448.02]s | [7, 7, 7, 7, 7] ([0, 0, 0, 0, 0]) / 7 | [25, 25, 25, 25, 25] ([0, 0, 0, 0, 1]) / 25 | [82, 82, 82, 82, 82] ([0, 0, 1, 1, 1]) / 82 | [124, 125, 125, 124, 124] ([0, 2, 0, 2, 0]) / 125 | [197, 212, 200, 202, 193] ([0, 0, 1, 0, 0]) / 225 | \n",
      "500: \n",
      "[264.34 205.12  92.72  84.79  90.27]s - [135.14 156.   381.76 311.85 129.56]s - [500.63 461.94 481.   486.   511.02]s - [545.6  509.   556.38 540.04 537.14]s - [585.92 559.77 573.85 568.47 565.53]s | [15, 15, 15, 15, 15] ([4, 1, 0, 0, 0]) / 15 | [50, 50, 50, 50, 50] ([0, 0, 1, 1, 0]) / 50 | [154, 153, 164, 152, 160] ([2, 0, 1, 1, 3]) / 165 | [198, 207, 203, 193, 206] ([0, 1, 0, 2, 3]) / 250 | [242, 239, 236, 254, 251] ([1, 0, 1, 0, 0]) / 450 | \n",
      "10000: \n",
      "20: \n",
      "[17.62 19.59 17.58 15.49 22.74]s - [24.63 24.46 23.71 21.27 21.79]s - [ 82.31  80.72 102.82  58.16  64.25]s - [179.94 126.47  97.3  101.62 135.12]s - [188.55 222.88 169.48 180.09 190.03]s | [1, 1, 1, 1, 1] ([0, 0, 0, 0, 0]) / 1 | [2, 2, 2, 2, 2] ([0, 0, 0, 0, 0]) / 2 | [6, 6, 6, 6, 6] ([0, 0, 0, 0, 0]) / 6 | [10, 10, 10, 10, 10] ([0, 0, 0, 0, 0]) / 10 | [18, 18, 18, 18, 18] ([0, 0, 0, 0, 0]) / 18 | \n",
      "100: \n",
      "[53.41 35.52 48.76 38.99 44.54]s - [176.19 118.13 108.26  98.85 157.34]s - [252.35 251.23 291.93 274.8  241.16]s - [277.71 328.94 331.03 300.29 293.35]s - [347.51 345.82 350.85 365.06 360.46]s | [3, 3, 3, 3, 3] ([0, 0, 0, 0, 0]) / 3 | [10, 10, 10, 10, 10] ([0, 0, 0, 0, 0]) / 10 | [33, 33, 33, 33, 33] ([0, 0, 0, 0, 0]) / 33 | [50, 50, 50, 50, 50] ([0, 0, 0, 0, 0]) / 50 | [90, 90, 90, 90, 90] ([0, 0, 0, 0, 0]) / 90 | \n",
      "250: \n",
      "[133.44  98.98 114.13  74.5  111.72]s - [656.66 240.18 228.76 247.39 245.45]s - [400.43 386.76 395.85 564.18 374.34]s - [530.58 427.13 427.14 561.94 468.83]s - [1150.84 1162.85 1166.5  1162.05 1147.84]s | [7, 7, 7, 7, 7] ([0, 0, 0, 0, 0]) / 7 | [25, 25, 25, 25, 25] ([1, 0, 0, 0, 0]) / 25 | [82, 82, 82, 82, 82] ([0, 0, 0, 0, 0]) / 82 | [125, 125, 125, 125, 125] ([0, 0, 0, 0, 0]) / 125 | [225, 225, 225, 225, 225] ([0, 0, 0, 0, 0]) / 225 | \n",
      "500: \n",
      "[336.08 257.26 248.38 260.89 259.16]s - [ 978.35  409.92  434.11  621.8  1001.17]s - [1360.69  965.61 1221.84 1378.43 1357.33]s - [1437.58 1410.43 1439.75 1457.63 1437.14]s - [1501.3  1494.25 1501.48 1489.71 1508.29]s | [15, 15, 15, 15, 15] ([0, 0, 0, 0, 0]) / 15 | [50, 50, 50, 50, 50] ([2, 0, 1, 1, 2]) / 50 | [165, 165, 165, 165, 165] ([2, 0, 0, 0, 0]) / 165 | [248, 250, 250, 250, 250] ([0, 0, 0, 1, 0]) / 250 | [376, 352, 394, 368, 382] ([0, 0, 0, 0, 0]) / 450 | \n",
      "====================================================================================================\n"
     ]
    }
   ],
   "source": [
    "for hypercube in [True]:\n",
    "    output_dict = {}\n",
    "    for n_samples in [5000, 10000]:\n",
    "        output_dict[str(n_samples)]={}\n",
    "        for n_features in [20,100,250,500]:\n",
    "            output_dict[str(n_samples)][str(n_features)]={}\n",
    "            \n",
    "            average_times = []\n",
    "            output_dict[str(n_samples)][str(n_features)][\"Average time\"]=average_times\n",
    "            for n_informative in [3,10,33,50,90]:\n",
    "                output_dict[str(n_samples)][str(n_features)][str(n_informative)+\"%\"]={}\n",
    "                print(\"Amount of samples = \"+str(n_samples))\n",
    "                print(\"Total used features = \"+str(n_features))\n",
    "                n_inform = int(n_informative/100*n_features)\n",
    "                if n_inform < 1:\n",
    "                    n_inform = 1\n",
    "                print(\"Informative features: \"+str(n_inform)+\" (\"+str(n_informative)+\"%)\")\n",
    "                print(\"\")\n",
    "                \n",
    "                found_features = []\n",
    "                found_idx_features = []\n",
    "                times = []\n",
    "                for random_seed in [0,1,2,3,4]:\n",
    "                    print(\"Seed \"+str(random_seed))\n",
    "                    \n",
    "                    if n_inform == 1:\n",
    "                        X, y = make_classification(n_samples=n_samples, n_classes=2, n_features=n_features, hypercube=hypercube, n_informative=1, n_redundant=0, n_repeated = 0,shuffle=False,random_state=random_seed, n_clusters_per_class=1)\n",
    "                    else:\n",
    "                        X, y = make_classification(n_samples=n_samples, n_classes=2, n_features=n_features, hypercube=hypercube, n_informative=n_inform, n_redundant=0, n_repeated = 0,shuffle=False,random_state=random_seed)                        \n",
    "                    \n",
    "                    X = pd.DataFrame(data=X, columns=[f\"col_{i}\" for i in range(n_features)])\n",
    "    \n",
    "                    start_time = time.time()\n",
    "\n",
    "                    selector = PowerShap(model=XGBClassifier(n_estimators=250, early_stopping_rounds=25, verbosity=0),\n",
    "                    automatic=True, method='LLpowershap')\n",
    "                    selector.fit(X, y)\n",
    "                    \n",
    "                    times.append(time.time() - start_time)\n",
    "                    \n",
    "                    processed_shaps_df = selector._processed_shaps_df\n",
    "                    print(50*\"-\")\n",
    "                    \n",
    "                    found_features.append(len(processed_shaps_df[processed_shaps_df.p_value<0.01]))\n",
    "                    found_idx_features.append(processed_shaps_df[processed_shaps_df.p_value<0.01].index.values)\n",
    "                    \n",
    "                found_informative_features = [np.sum(np.isin(X.columns.values[:n_inform],f_list)) for f_list in found_idx_features]\n",
    "                found_noise_features = [np.sum(1-np.isin(f_list,X.columns.values[:n_inform])) for f_list in found_idx_features]\n",
    "                print(\"Average time: \"+str(np.round(np.mean(times),2))+\" seconds\")\n",
    "                print(\"Found features: \"+str(found_features))\n",
    "                print(\"Found \"+str(np.mean(found_informative_features))+\" of \"+str(n_inform)+\" informative features\")\n",
    "                print(str(np.mean(found_noise_features))+\" of \"+str(np.mean(found_features))+\" outputted powershap features are noise features\")\n",
    "                \n",
    "                average_times.append(np.round(times,2))\n",
    "                \n",
    "                output_dict[str(n_samples)][str(n_features)][str(n_informative)+\"%\"][\"informative_features\"]=n_inform\n",
    "                output_dict[str(n_samples)][str(n_features)][str(n_informative)+\"%\"][\"found_informative_features\"]=found_informative_features\n",
    "                output_dict[str(n_samples)][str(n_features)][str(n_informative)+\"%\"][\"outputted_noise_features\"]=found_noise_features\n",
    "                \n",
    "                print(100*\"=\")\n",
    "                \n",
    "            output_dict[str(n_samples)][str(n_features)][\"Average time\"]=average_times\n",
    "            benchmark_dict_print(output_dict)\n",
    "            print(100*\"=\")\n",
    "        \n",
    "    if not hypercube:\n",
    "        output_dict_to_df(output_dict).to_csv(f\"../results/{sub}/make_classi_LLpowershap_output_df.csv\",index=False)\n",
    "    else:\n",
    "        output_dict_to_df(output_dict).to_csv(f\"../results/{sub}/make_classi_LLpowershap_output_df_hypercube.csv\",index=False)"
   ]
  },
  {
   "cell_type": "markdown",
   "id": "a3395b32-c9c1-4309-a180-8fd385ed027f",
   "metadata": {},
   "source": [
    "## powershap"
   ]
  },
  {
   "cell_type": "code",
   "execution_count": 14,
   "id": "cf57c036-cdfd-4067-af3c-f4848a6613d8",
   "metadata": {},
   "outputs": [
    {
     "name": "stdout",
     "output_type": "stream",
     "text": [
      "Amount of samples = 5000\n",
      "Total used features = 20\n",
      "Informative features: 1 (3%)\n",
      "\n",
      "Seed 0\n"
     ]
    },
    {
     "data": {
      "application/vnd.jupyter.widget-view+json": {
       "model_id": "576ba69395f24d70a78b0c708ee0b414",
       "version_major": 2,
       "version_minor": 0
      },
      "text/plain": [
       "  0%|          | 0/10 [00:00<?, ?it/s]"
      ]
     },
     "metadata": {},
     "output_type": "display_data"
    },
    {
     "name": "stdout",
     "output_type": "stream",
     "text": [
      "--------------------------------------------------\n",
      "Seed 1\n"
     ]
    },
    {
     "data": {
      "application/vnd.jupyter.widget-view+json": {
       "model_id": "f2af00ef19dc4f60b19431330b79481e",
       "version_major": 2,
       "version_minor": 0
      },
      "text/plain": [
       "  0%|          | 0/10 [00:00<?, ?it/s]"
      ]
     },
     "metadata": {},
     "output_type": "display_data"
    },
    {
     "name": "stdout",
     "output_type": "stream",
     "text": [
      "--------------------------------------------------\n",
      "Seed 2\n"
     ]
    },
    {
     "data": {
      "application/vnd.jupyter.widget-view+json": {
       "model_id": "11289ee878bf41288c46321b741c1ec4",
       "version_major": 2,
       "version_minor": 0
      },
      "text/plain": [
       "  0%|          | 0/10 [00:00<?, ?it/s]"
      ]
     },
     "metadata": {},
     "output_type": "display_data"
    },
    {
     "data": {
      "application/vnd.jupyter.widget-view+json": {
       "model_id": "d6ac448f9d1e497a8b94832cf24b78fb",
       "version_major": 2,
       "version_minor": 0
      },
      "text/plain": [
       "  0%|          | 0/3 [00:00<?, ?it/s]"
      ]
     },
     "metadata": {},
     "output_type": "display_data"
    },
    {
     "data": {
      "application/vnd.jupyter.widget-view+json": {
       "model_id": "a420d347fb8f46b8a59ca60a69b024b2",
       "version_major": 2,
       "version_minor": 0
      },
      "text/plain": [
       "  0%|          | 0/10 [00:00<?, ?it/s]"
      ]
     },
     "metadata": {},
     "output_type": "display_data"
    },
    {
     "name": "stdout",
     "output_type": "stream",
     "text": [
      "--------------------------------------------------\n",
      "Seed 3\n"
     ]
    },
    {
     "data": {
      "application/vnd.jupyter.widget-view+json": {
       "model_id": "8f75d17072564bbdac0ae623bd326a5f",
       "version_major": 2,
       "version_minor": 0
      },
      "text/plain": [
       "  0%|          | 0/10 [00:00<?, ?it/s]"
      ]
     },
     "metadata": {},
     "output_type": "display_data"
    },
    {
     "name": "stdout",
     "output_type": "stream",
     "text": [
      "--------------------------------------------------\n",
      "Seed 4\n"
     ]
    },
    {
     "data": {
      "application/vnd.jupyter.widget-view+json": {
       "model_id": "4d5209901d124d5daca0bdf335b5c5c5",
       "version_major": 2,
       "version_minor": 0
      },
      "text/plain": [
       "  0%|          | 0/10 [00:00<?, ?it/s]"
      ]
     },
     "metadata": {},
     "output_type": "display_data"
    },
    {
     "name": "stdout",
     "output_type": "stream",
     "text": [
      "--------------------------------------------------\n",
      "Average time: 2.88 seconds\n",
      "Found features: [1, 1, 1, 1, 1]\n",
      "Found 1.0 of 1 informative features\n",
      "0.0 of 1.0 outputted powershap features are noise features\n",
      "====================================================================================================\n",
      "Amount of samples = 5000\n",
      "Total used features = 20\n",
      "Informative features: 2 (10%)\n",
      "\n",
      "Seed 0\n"
     ]
    },
    {
     "data": {
      "application/vnd.jupyter.widget-view+json": {
       "model_id": "ee93b7823f1945aaa6d4272a69412c6c",
       "version_major": 2,
       "version_minor": 0
      },
      "text/plain": [
       "  0%|          | 0/10 [00:00<?, ?it/s]"
      ]
     },
     "metadata": {},
     "output_type": "display_data"
    },
    {
     "name": "stdout",
     "output_type": "stream",
     "text": [
      "--------------------------------------------------\n",
      "Seed 1\n"
     ]
    },
    {
     "data": {
      "application/vnd.jupyter.widget-view+json": {
       "model_id": "b9d4729b6e73401188bb55cec4c29758",
       "version_major": 2,
       "version_minor": 0
      },
      "text/plain": [
       "  0%|          | 0/10 [00:00<?, ?it/s]"
      ]
     },
     "metadata": {},
     "output_type": "display_data"
    },
    {
     "name": "stdout",
     "output_type": "stream",
     "text": [
      "--------------------------------------------------\n",
      "Seed 2\n"
     ]
    },
    {
     "data": {
      "application/vnd.jupyter.widget-view+json": {
       "model_id": "9fee06272f6a4cf699529975798fc888",
       "version_major": 2,
       "version_minor": 0
      },
      "text/plain": [
       "  0%|          | 0/10 [00:00<?, ?it/s]"
      ]
     },
     "metadata": {},
     "output_type": "display_data"
    },
    {
     "name": "stdout",
     "output_type": "stream",
     "text": [
      "--------------------------------------------------\n",
      "Seed 3\n"
     ]
    },
    {
     "data": {
      "application/vnd.jupyter.widget-view+json": {
       "model_id": "db826d053c32425cb0522c6061a817ee",
       "version_major": 2,
       "version_minor": 0
      },
      "text/plain": [
       "  0%|          | 0/10 [00:00<?, ?it/s]"
      ]
     },
     "metadata": {},
     "output_type": "display_data"
    },
    {
     "name": "stdout",
     "output_type": "stream",
     "text": [
      "--------------------------------------------------\n",
      "Seed 4\n"
     ]
    },
    {
     "data": {
      "application/vnd.jupyter.widget-view+json": {
       "model_id": "3882936d01684e59b1683289a967b759",
       "version_major": 2,
       "version_minor": 0
      },
      "text/plain": [
       "  0%|          | 0/10 [00:00<?, ?it/s]"
      ]
     },
     "metadata": {},
     "output_type": "display_data"
    },
    {
     "name": "stdout",
     "output_type": "stream",
     "text": [
      "--------------------------------------------------\n",
      "Average time: 2.64 seconds\n",
      "Found features: [3, 2, 3, 2, 2]\n",
      "Found 2.0 of 2 informative features\n",
      "0.4 of 2.4 outputted powershap features are noise features\n",
      "====================================================================================================\n",
      "Amount of samples = 5000\n",
      "Total used features = 20\n",
      "Informative features: 6 (33%)\n",
      "\n",
      "Seed 0\n"
     ]
    },
    {
     "data": {
      "application/vnd.jupyter.widget-view+json": {
       "model_id": "b4b0fa7361494035b626acb1b169bd92",
       "version_major": 2,
       "version_minor": 0
      },
      "text/plain": [
       "  0%|          | 0/10 [00:00<?, ?it/s]"
      ]
     },
     "metadata": {},
     "output_type": "display_data"
    },
    {
     "name": "stdout",
     "output_type": "stream",
     "text": [
      "--------------------------------------------------\n",
      "Seed 1\n"
     ]
    },
    {
     "data": {
      "application/vnd.jupyter.widget-view+json": {
       "model_id": "a1dd0ac0ce2c4e07a0b502fa58928f35",
       "version_major": 2,
       "version_minor": 0
      },
      "text/plain": [
       "  0%|          | 0/10 [00:00<?, ?it/s]"
      ]
     },
     "metadata": {},
     "output_type": "display_data"
    },
    {
     "name": "stdout",
     "output_type": "stream",
     "text": [
      "--------------------------------------------------\n",
      "Seed 2\n"
     ]
    },
    {
     "data": {
      "application/vnd.jupyter.widget-view+json": {
       "model_id": "5931045573d548039fae087fc3547041",
       "version_major": 2,
       "version_minor": 0
      },
      "text/plain": [
       "  0%|          | 0/10 [00:00<?, ?it/s]"
      ]
     },
     "metadata": {},
     "output_type": "display_data"
    },
    {
     "name": "stdout",
     "output_type": "stream",
     "text": [
      "--------------------------------------------------\n",
      "Seed 3\n"
     ]
    },
    {
     "data": {
      "application/vnd.jupyter.widget-view+json": {
       "model_id": "40bffd6e846345c18e9157e28d7e054d",
       "version_major": 2,
       "version_minor": 0
      },
      "text/plain": [
       "  0%|          | 0/10 [00:00<?, ?it/s]"
      ]
     },
     "metadata": {},
     "output_type": "display_data"
    },
    {
     "name": "stdout",
     "output_type": "stream",
     "text": [
      "--------------------------------------------------\n",
      "Seed 4\n"
     ]
    },
    {
     "data": {
      "application/vnd.jupyter.widget-view+json": {
       "model_id": "c8ecfd573afa4f26887a59ee5725b571",
       "version_major": 2,
       "version_minor": 0
      },
      "text/plain": [
       "  0%|          | 0/10 [00:00<?, ?it/s]"
      ]
     },
     "metadata": {},
     "output_type": "display_data"
    },
    {
     "name": "stdout",
     "output_type": "stream",
     "text": [
      "--------------------------------------------------\n",
      "Average time: 3.73 seconds\n",
      "Found features: [6, 6, 6, 6, 6]\n",
      "Found 6.0 of 6 informative features\n",
      "0.0 of 6.0 outputted powershap features are noise features\n",
      "====================================================================================================\n",
      "Amount of samples = 5000\n",
      "Total used features = 20\n",
      "Informative features: 10 (50%)\n",
      "\n",
      "Seed 0\n"
     ]
    },
    {
     "data": {
      "application/vnd.jupyter.widget-view+json": {
       "model_id": "f048be6d9b234537a9444dc617d858d1",
       "version_major": 2,
       "version_minor": 0
      },
      "text/plain": [
       "  0%|          | 0/10 [00:00<?, ?it/s]"
      ]
     },
     "metadata": {},
     "output_type": "display_data"
    },
    {
     "data": {
      "application/vnd.jupyter.widget-view+json": {
       "model_id": "396a9fc07a2947f2ae84a60da1593d1e",
       "version_major": 2,
       "version_minor": 0
      },
      "text/plain": [
       "  0%|          | 0/9 [00:00<?, ?it/s]"
      ]
     },
     "metadata": {},
     "output_type": "display_data"
    },
    {
     "name": "stdout",
     "output_type": "stream",
     "text": [
      "--------------------------------------------------\n",
      "Seed 1\n"
     ]
    },
    {
     "data": {
      "application/vnd.jupyter.widget-view+json": {
       "model_id": "f827d852fde946098ce8ada0304b8a5c",
       "version_major": 2,
       "version_minor": 0
      },
      "text/plain": [
       "  0%|          | 0/10 [00:00<?, ?it/s]"
      ]
     },
     "metadata": {},
     "output_type": "display_data"
    },
    {
     "name": "stdout",
     "output_type": "stream",
     "text": [
      "--------------------------------------------------\n",
      "Seed 2\n"
     ]
    },
    {
     "data": {
      "application/vnd.jupyter.widget-view+json": {
       "model_id": "dbeb291db90640f49817d0a93c97d6bd",
       "version_major": 2,
       "version_minor": 0
      },
      "text/plain": [
       "  0%|          | 0/10 [00:00<?, ?it/s]"
      ]
     },
     "metadata": {},
     "output_type": "display_data"
    },
    {
     "name": "stdout",
     "output_type": "stream",
     "text": [
      "--------------------------------------------------\n",
      "Seed 3\n"
     ]
    },
    {
     "data": {
      "application/vnd.jupyter.widget-view+json": {
       "model_id": "3dc2337b704a49ed95760ede52082feb",
       "version_major": 2,
       "version_minor": 0
      },
      "text/plain": [
       "  0%|          | 0/10 [00:00<?, ?it/s]"
      ]
     },
     "metadata": {},
     "output_type": "display_data"
    },
    {
     "name": "stdout",
     "output_type": "stream",
     "text": [
      "--------------------------------------------------\n",
      "Seed 4\n"
     ]
    },
    {
     "data": {
      "application/vnd.jupyter.widget-view+json": {
       "model_id": "ec91acfe6882481eacff78571e977376",
       "version_major": 2,
       "version_minor": 0
      },
      "text/plain": [
       "  0%|          | 0/10 [00:00<?, ?it/s]"
      ]
     },
     "metadata": {},
     "output_type": "display_data"
    },
    {
     "name": "stdout",
     "output_type": "stream",
     "text": [
      "--------------------------------------------------\n",
      "Average time: 5.87 seconds\n",
      "Found features: [11, 10, 10, 10, 10]\n",
      "Found 10.0 of 10 informative features\n",
      "0.2 of 10.2 outputted powershap features are noise features\n",
      "====================================================================================================\n",
      "Amount of samples = 5000\n",
      "Total used features = 20\n",
      "Informative features: 18 (90%)\n",
      "\n",
      "Seed 0\n"
     ]
    },
    {
     "data": {
      "application/vnd.jupyter.widget-view+json": {
       "model_id": "3dc5bf1872ab4dc3882bc6d012d14b10",
       "version_major": 2,
       "version_minor": 0
      },
      "text/plain": [
       "  0%|          | 0/10 [00:00<?, ?it/s]"
      ]
     },
     "metadata": {},
     "output_type": "display_data"
    },
    {
     "name": "stdout",
     "output_type": "stream",
     "text": [
      "--------------------------------------------------\n",
      "Seed 1\n"
     ]
    },
    {
     "data": {
      "application/vnd.jupyter.widget-view+json": {
       "model_id": "f20910ac950e4ce0b32cf06c67067c02",
       "version_major": 2,
       "version_minor": 0
      },
      "text/plain": [
       "  0%|          | 0/10 [00:00<?, ?it/s]"
      ]
     },
     "metadata": {},
     "output_type": "display_data"
    },
    {
     "name": "stdout",
     "output_type": "stream",
     "text": [
      "--------------------------------------------------\n",
      "Seed 2\n"
     ]
    },
    {
     "data": {
      "application/vnd.jupyter.widget-view+json": {
       "model_id": "2c2e216081584bda8c74cd24ff1507f4",
       "version_major": 2,
       "version_minor": 0
      },
      "text/plain": [
       "  0%|          | 0/10 [00:00<?, ?it/s]"
      ]
     },
     "metadata": {},
     "output_type": "display_data"
    },
    {
     "name": "stdout",
     "output_type": "stream",
     "text": [
      "--------------------------------------------------\n",
      "Seed 3\n"
     ]
    },
    {
     "data": {
      "application/vnd.jupyter.widget-view+json": {
       "model_id": "d4496b5186b64e128f2182ccb596cf5a",
       "version_major": 2,
       "version_minor": 0
      },
      "text/plain": [
       "  0%|          | 0/10 [00:00<?, ?it/s]"
      ]
     },
     "metadata": {},
     "output_type": "display_data"
    },
    {
     "name": "stdout",
     "output_type": "stream",
     "text": [
      "--------------------------------------------------\n",
      "Seed 4\n"
     ]
    },
    {
     "data": {
      "application/vnd.jupyter.widget-view+json": {
       "model_id": "1cfe94d47d624c25b59854b7f81f258e",
       "version_major": 2,
       "version_minor": 0
      },
      "text/plain": [
       "  0%|          | 0/10 [00:00<?, ?it/s]"
      ]
     },
     "metadata": {},
     "output_type": "display_data"
    },
    {
     "name": "stdout",
     "output_type": "stream",
     "text": [
      "--------------------------------------------------\n",
      "Average time: 6.49 seconds\n",
      "Found features: [18, 18, 18, 18, 18]\n",
      "Found 18.0 of 18 informative features\n",
      "0.0 of 18.0 outputted powershap features are noise features\n",
      "====================================================================================================\n",
      "5000: \n",
      "20: \n",
      "[2.5  2.26 4.88 2.23 2.54]s - [2.47 2.87 2.77 2.39 2.68]s - [3.65 3.4  4.32 3.46 3.84]s - [9.82 4.96 4.33 4.41 5.81]s - [7.22 6.33 6.15 6.06 6.68]s | [1, 1, 1, 1, 1] ([0, 0, 0, 0, 0]) / 1 | [2, 2, 2, 2, 2] ([1, 0, 1, 0, 0]) / 2 | [6, 6, 6, 6, 6] ([0, 0, 0, 0, 0]) / 6 | [10, 10, 10, 10, 10] ([1, 0, 0, 0, 0]) / 10 | [18, 18, 18, 18, 18] ([0, 0, 0, 0, 0]) / 18 | \n",
      "====================================================================================================\n",
      "Amount of samples = 5000\n",
      "Total used features = 100\n",
      "Informative features: 3 (3%)\n",
      "\n",
      "Seed 0\n"
     ]
    },
    {
     "data": {
      "application/vnd.jupyter.widget-view+json": {
       "model_id": "dcfd3498822e44c0960ece137060ebc4",
       "version_major": 2,
       "version_minor": 0
      },
      "text/plain": [
       "  0%|          | 0/10 [00:00<?, ?it/s]"
      ]
     },
     "metadata": {},
     "output_type": "display_data"
    },
    {
     "data": {
      "application/vnd.jupyter.widget-view+json": {
       "model_id": "f995511cf6ad44ba96e4dbb50f1fc7a5",
       "version_major": 2,
       "version_minor": 0
      },
      "text/plain": [
       "  0%|          | 0/10 [00:00<?, ?it/s]"
      ]
     },
     "metadata": {},
     "output_type": "display_data"
    },
    {
     "name": "stdout",
     "output_type": "stream",
     "text": [
      "--------------------------------------------------\n",
      "Seed 1\n"
     ]
    },
    {
     "data": {
      "application/vnd.jupyter.widget-view+json": {
       "model_id": "f0c8067f774f4e63bbe0db643c2544fc",
       "version_major": 2,
       "version_minor": 0
      },
      "text/plain": [
       "  0%|          | 0/10 [00:00<?, ?it/s]"
      ]
     },
     "metadata": {},
     "output_type": "display_data"
    },
    {
     "name": "stdout",
     "output_type": "stream",
     "text": [
      "--------------------------------------------------\n",
      "Seed 2\n"
     ]
    },
    {
     "data": {
      "application/vnd.jupyter.widget-view+json": {
       "model_id": "1abd5e8ed79d415a93dae8a07a6b26b0",
       "version_major": 2,
       "version_minor": 0
      },
      "text/plain": [
       "  0%|          | 0/10 [00:00<?, ?it/s]"
      ]
     },
     "metadata": {},
     "output_type": "display_data"
    },
    {
     "data": {
      "application/vnd.jupyter.widget-view+json": {
       "model_id": "3ba98779c328405ead21e1b47994b216",
       "version_major": 2,
       "version_minor": 0
      },
      "text/plain": [
       "  0%|          | 0/2 [00:00<?, ?it/s]"
      ]
     },
     "metadata": {},
     "output_type": "display_data"
    },
    {
     "name": "stdout",
     "output_type": "stream",
     "text": [
      "--------------------------------------------------\n",
      "Seed 3\n"
     ]
    },
    {
     "data": {
      "application/vnd.jupyter.widget-view+json": {
       "model_id": "5bf1ca8492e340f08af3bd9869615a06",
       "version_major": 2,
       "version_minor": 0
      },
      "text/plain": [
       "  0%|          | 0/10 [00:00<?, ?it/s]"
      ]
     },
     "metadata": {},
     "output_type": "display_data"
    },
    {
     "name": "stdout",
     "output_type": "stream",
     "text": [
      "--------------------------------------------------\n",
      "Seed 4\n"
     ]
    },
    {
     "data": {
      "application/vnd.jupyter.widget-view+json": {
       "model_id": "be244f39b59a4c77814ffe477d1c655b",
       "version_major": 2,
       "version_minor": 0
      },
      "text/plain": [
       "  0%|          | 0/10 [00:00<?, ?it/s]"
      ]
     },
     "metadata": {},
     "output_type": "display_data"
    },
    {
     "name": "stdout",
     "output_type": "stream",
     "text": [
      "--------------------------------------------------\n",
      "Average time: 6.91 seconds\n",
      "Found features: [3, 3, 4, 4, 5]\n",
      "Found 3.0 of 3 informative features\n",
      "0.8 of 3.8 outputted powershap features are noise features\n",
      "====================================================================================================\n",
      "Amount of samples = 5000\n",
      "Total used features = 100\n",
      "Informative features: 10 (10%)\n",
      "\n",
      "Seed 0\n"
     ]
    },
    {
     "data": {
      "application/vnd.jupyter.widget-view+json": {
       "model_id": "15fa91c99cb7458c9ec37d874b7f7f7b",
       "version_major": 2,
       "version_minor": 0
      },
      "text/plain": [
       "  0%|          | 0/10 [00:00<?, ?it/s]"
      ]
     },
     "metadata": {},
     "output_type": "display_data"
    },
    {
     "name": "stdout",
     "output_type": "stream",
     "text": [
      "--------------------------------------------------\n",
      "Seed 1\n"
     ]
    },
    {
     "data": {
      "application/vnd.jupyter.widget-view+json": {
       "model_id": "3fc01cbe781644cbb82de1a173a52a4d",
       "version_major": 2,
       "version_minor": 0
      },
      "text/plain": [
       "  0%|          | 0/10 [00:00<?, ?it/s]"
      ]
     },
     "metadata": {},
     "output_type": "display_data"
    },
    {
     "data": {
      "application/vnd.jupyter.widget-view+json": {
       "model_id": "6d1b851630be4034b7aad34869c6347f",
       "version_major": 2,
       "version_minor": 0
      },
      "text/plain": [
       "  0%|          | 0/4 [00:00<?, ?it/s]"
      ]
     },
     "metadata": {},
     "output_type": "display_data"
    },
    {
     "name": "stdout",
     "output_type": "stream",
     "text": [
      "--------------------------------------------------\n",
      "Seed 2\n"
     ]
    },
    {
     "data": {
      "application/vnd.jupyter.widget-view+json": {
       "model_id": "5ae54b7b5e6c443d926a05bce2220421",
       "version_major": 2,
       "version_minor": 0
      },
      "text/plain": [
       "  0%|          | 0/10 [00:00<?, ?it/s]"
      ]
     },
     "metadata": {},
     "output_type": "display_data"
    },
    {
     "data": {
      "application/vnd.jupyter.widget-view+json": {
       "model_id": "d24dfb7626994ac6a06ba3c303c1becd",
       "version_major": 2,
       "version_minor": 0
      },
      "text/plain": [
       "  0%|          | 0/3 [00:00<?, ?it/s]"
      ]
     },
     "metadata": {},
     "output_type": "display_data"
    },
    {
     "name": "stdout",
     "output_type": "stream",
     "text": [
      "--------------------------------------------------\n",
      "Seed 3\n"
     ]
    },
    {
     "data": {
      "application/vnd.jupyter.widget-view+json": {
       "model_id": "3660d64a4cc9413983051a552b8804af",
       "version_major": 2,
       "version_minor": 0
      },
      "text/plain": [
       "  0%|          | 0/10 [00:00<?, ?it/s]"
      ]
     },
     "metadata": {},
     "output_type": "display_data"
    },
    {
     "data": {
      "application/vnd.jupyter.widget-view+json": {
       "model_id": "1c7cb6fca0b84f269361a561450d1645",
       "version_major": 2,
       "version_minor": 0
      },
      "text/plain": [
       "  0%|          | 0/2 [00:00<?, ?it/s]"
      ]
     },
     "metadata": {},
     "output_type": "display_data"
    },
    {
     "data": {
      "application/vnd.jupyter.widget-view+json": {
       "model_id": "f34f1f0b4cb94f5792721a0da32bebba",
       "version_major": 2,
       "version_minor": 0
      },
      "text/plain": [
       "  0%|          | 0/1 [00:00<?, ?it/s]"
      ]
     },
     "metadata": {},
     "output_type": "display_data"
    },
    {
     "name": "stdout",
     "output_type": "stream",
     "text": [
      "--------------------------------------------------\n",
      "Seed 4\n"
     ]
    },
    {
     "data": {
      "application/vnd.jupyter.widget-view+json": {
       "model_id": "9b20b5842ab04de2b5b8089d311f23c1",
       "version_major": 2,
       "version_minor": 0
      },
      "text/plain": [
       "  0%|          | 0/10 [00:00<?, ?it/s]"
      ]
     },
     "metadata": {},
     "output_type": "display_data"
    },
    {
     "data": {
      "application/vnd.jupyter.widget-view+json": {
       "model_id": "d5c1830d7def4ba386aedb832543f5fe",
       "version_major": 2,
       "version_minor": 0
      },
      "text/plain": [
       "  0%|          | 0/4 [00:00<?, ?it/s]"
      ]
     },
     "metadata": {},
     "output_type": "display_data"
    },
    {
     "name": "stdout",
     "output_type": "stream",
     "text": [
      "--------------------------------------------------\n",
      "Average time: 11.52 seconds\n",
      "Found features: [15, 12, 12, 11, 16]\n",
      "Found 10.0 of 10 informative features\n",
      "3.2 of 13.2 outputted powershap features are noise features\n",
      "====================================================================================================\n",
      "Amount of samples = 5000\n",
      "Total used features = 100\n",
      "Informative features: 33 (33%)\n",
      "\n",
      "Seed 0\n"
     ]
    },
    {
     "data": {
      "application/vnd.jupyter.widget-view+json": {
       "model_id": "93c3cc765e9a4f949fd4fc406f9aa7c6",
       "version_major": 2,
       "version_minor": 0
      },
      "text/plain": [
       "  0%|          | 0/10 [00:00<?, ?it/s]"
      ]
     },
     "metadata": {},
     "output_type": "display_data"
    },
    {
     "name": "stdout",
     "output_type": "stream",
     "text": [
      "--------------------------------------------------\n",
      "Seed 1\n"
     ]
    },
    {
     "data": {
      "application/vnd.jupyter.widget-view+json": {
       "model_id": "3e07dd4b19a147c7b6d98bfd1acc442f",
       "version_major": 2,
       "version_minor": 0
      },
      "text/plain": [
       "  0%|          | 0/10 [00:00<?, ?it/s]"
      ]
     },
     "metadata": {},
     "output_type": "display_data"
    },
    {
     "data": {
      "application/vnd.jupyter.widget-view+json": {
       "model_id": "eefc310a242f4ef2974d1e2d1b3faddb",
       "version_major": 2,
       "version_minor": 0
      },
      "text/plain": [
       "  0%|          | 0/10 [00:00<?, ?it/s]"
      ]
     },
     "metadata": {},
     "output_type": "display_data"
    },
    {
     "name": "stdout",
     "output_type": "stream",
     "text": [
      "--------------------------------------------------\n",
      "Seed 2\n"
     ]
    },
    {
     "data": {
      "application/vnd.jupyter.widget-view+json": {
       "model_id": "b7939deff90e4f74882ebf283fca8bac",
       "version_major": 2,
       "version_minor": 0
      },
      "text/plain": [
       "  0%|          | 0/10 [00:00<?, ?it/s]"
      ]
     },
     "metadata": {},
     "output_type": "display_data"
    },
    {
     "name": "stdout",
     "output_type": "stream",
     "text": [
      "--------------------------------------------------\n",
      "Seed 3\n"
     ]
    },
    {
     "data": {
      "application/vnd.jupyter.widget-view+json": {
       "model_id": "1c2c2a4cbba943ec82eca14c84d5e24d",
       "version_major": 2,
       "version_minor": 0
      },
      "text/plain": [
       "  0%|          | 0/10 [00:00<?, ?it/s]"
      ]
     },
     "metadata": {},
     "output_type": "display_data"
    },
    {
     "data": {
      "application/vnd.jupyter.widget-view+json": {
       "model_id": "66632d9e662549ba97a12392e559f490",
       "version_major": 2,
       "version_minor": 0
      },
      "text/plain": [
       "  0%|          | 0/2 [00:00<?, ?it/s]"
      ]
     },
     "metadata": {},
     "output_type": "display_data"
    },
    {
     "name": "stdout",
     "output_type": "stream",
     "text": [
      "--------------------------------------------------\n",
      "Seed 4\n"
     ]
    },
    {
     "data": {
      "application/vnd.jupyter.widget-view+json": {
       "model_id": "174bd3b0f811423cafd8e262ff56b3e7",
       "version_major": 2,
       "version_minor": 0
      },
      "text/plain": [
       "  0%|          | 0/10 [00:00<?, ?it/s]"
      ]
     },
     "metadata": {},
     "output_type": "display_data"
    },
    {
     "data": {
      "application/vnd.jupyter.widget-view+json": {
       "model_id": "dd30078fa0e6422e9bab12b021744192",
       "version_major": 2,
       "version_minor": 0
      },
      "text/plain": [
       "  0%|          | 0/10 [00:00<?, ?it/s]"
      ]
     },
     "metadata": {},
     "output_type": "display_data"
    },
    {
     "name": "stdout",
     "output_type": "stream",
     "text": [
      "--------------------------------------------------\n",
      "Average time: 18.48 seconds\n",
      "Found features: [34, 34, 36, 36, 38]\n",
      "Found 33.0 of 33 informative features\n",
      "2.6 of 35.6 outputted powershap features are noise features\n",
      "====================================================================================================\n",
      "Amount of samples = 5000\n",
      "Total used features = 100\n",
      "Informative features: 50 (50%)\n",
      "\n",
      "Seed 0\n"
     ]
    },
    {
     "data": {
      "application/vnd.jupyter.widget-view+json": {
       "model_id": "35d24b233b72405a8b74de8be0ea7098",
       "version_major": 2,
       "version_minor": 0
      },
      "text/plain": [
       "  0%|          | 0/10 [00:00<?, ?it/s]"
      ]
     },
     "metadata": {},
     "output_type": "display_data"
    },
    {
     "name": "stdout",
     "output_type": "stream",
     "text": [
      "--------------------------------------------------\n",
      "Seed 1\n"
     ]
    },
    {
     "data": {
      "application/vnd.jupyter.widget-view+json": {
       "model_id": "d81e95394f9b4f439b99b248129fa167",
       "version_major": 2,
       "version_minor": 0
      },
      "text/plain": [
       "  0%|          | 0/10 [00:00<?, ?it/s]"
      ]
     },
     "metadata": {},
     "output_type": "display_data"
    },
    {
     "name": "stdout",
     "output_type": "stream",
     "text": [
      "--------------------------------------------------\n",
      "Seed 2\n"
     ]
    },
    {
     "data": {
      "application/vnd.jupyter.widget-view+json": {
       "model_id": "3eb1317f01fa4c4ab746b024f7399dba",
       "version_major": 2,
       "version_minor": 0
      },
      "text/plain": [
       "  0%|          | 0/10 [00:00<?, ?it/s]"
      ]
     },
     "metadata": {},
     "output_type": "display_data"
    },
    {
     "name": "stdout",
     "output_type": "stream",
     "text": [
      "--------------------------------------------------\n",
      "Seed 3\n"
     ]
    },
    {
     "data": {
      "application/vnd.jupyter.widget-view+json": {
       "model_id": "1a92166f3c484255a8a6f327c1847c2e",
       "version_major": 2,
       "version_minor": 0
      },
      "text/plain": [
       "  0%|          | 0/10 [00:00<?, ?it/s]"
      ]
     },
     "metadata": {},
     "output_type": "display_data"
    },
    {
     "data": {
      "application/vnd.jupyter.widget-view+json": {
       "model_id": "92af2a6e37f54425b82bf0ea5ccf3efc",
       "version_major": 2,
       "version_minor": 0
      },
      "text/plain": [
       "  0%|          | 0/4 [00:00<?, ?it/s]"
      ]
     },
     "metadata": {},
     "output_type": "display_data"
    },
    {
     "name": "stdout",
     "output_type": "stream",
     "text": [
      "--------------------------------------------------\n",
      "Seed 4\n"
     ]
    },
    {
     "data": {
      "application/vnd.jupyter.widget-view+json": {
       "model_id": "301d3e0ff9b541e1900edb6156cac6b7",
       "version_major": 2,
       "version_minor": 0
      },
      "text/plain": [
       "  0%|          | 0/10 [00:00<?, ?it/s]"
      ]
     },
     "metadata": {},
     "output_type": "display_data"
    },
    {
     "data": {
      "application/vnd.jupyter.widget-view+json": {
       "model_id": "555d12b7429e4c16ab03ca158d41a369",
       "version_major": 2,
       "version_minor": 0
      },
      "text/plain": [
       "  0%|          | 0/7 [00:00<?, ?it/s]"
      ]
     },
     "metadata": {},
     "output_type": "display_data"
    },
    {
     "name": "stdout",
     "output_type": "stream",
     "text": [
      "--------------------------------------------------\n",
      "Average time: 17.91 seconds\n",
      "Found features: [52, 50, 54, 50, 55]\n",
      "Found 50.0 of 50 informative features\n",
      "2.2 of 52.2 outputted powershap features are noise features\n",
      "====================================================================================================\n",
      "Amount of samples = 5000\n",
      "Total used features = 100\n",
      "Informative features: 90 (90%)\n",
      "\n",
      "Seed 0\n"
     ]
    },
    {
     "data": {
      "application/vnd.jupyter.widget-view+json": {
       "model_id": "53c87814c14b4f07b5cf9108d54c8a27",
       "version_major": 2,
       "version_minor": 0
      },
      "text/plain": [
       "  0%|          | 0/10 [00:00<?, ?it/s]"
      ]
     },
     "metadata": {},
     "output_type": "display_data"
    },
    {
     "name": "stdout",
     "output_type": "stream",
     "text": [
      "--------------------------------------------------\n",
      "Seed 1\n"
     ]
    },
    {
     "data": {
      "application/vnd.jupyter.widget-view+json": {
       "model_id": "e66cf62485234bb488d1b7ddfd47fdc9",
       "version_major": 2,
       "version_minor": 0
      },
      "text/plain": [
       "  0%|          | 0/10 [00:00<?, ?it/s]"
      ]
     },
     "metadata": {},
     "output_type": "display_data"
    },
    {
     "name": "stdout",
     "output_type": "stream",
     "text": [
      "--------------------------------------------------\n",
      "Seed 2\n"
     ]
    },
    {
     "data": {
      "application/vnd.jupyter.widget-view+json": {
       "model_id": "11679112471c4b47ab007c43b7cf3a0c",
       "version_major": 2,
       "version_minor": 0
      },
      "text/plain": [
       "  0%|          | 0/10 [00:00<?, ?it/s]"
      ]
     },
     "metadata": {},
     "output_type": "display_data"
    },
    {
     "data": {
      "application/vnd.jupyter.widget-view+json": {
       "model_id": "543e2ec4f07d49b7a074ef4f98c5a775",
       "version_major": 2,
       "version_minor": 0
      },
      "text/plain": [
       "  0%|          | 0/7 [00:00<?, ?it/s]"
      ]
     },
     "metadata": {},
     "output_type": "display_data"
    },
    {
     "name": "stdout",
     "output_type": "stream",
     "text": [
      "--------------------------------------------------\n",
      "Seed 3\n"
     ]
    },
    {
     "data": {
      "application/vnd.jupyter.widget-view+json": {
       "model_id": "6dd9ad1295964a26bfe8aa53ac6aeb24",
       "version_major": 2,
       "version_minor": 0
      },
      "text/plain": [
       "  0%|          | 0/10 [00:00<?, ?it/s]"
      ]
     },
     "metadata": {},
     "output_type": "display_data"
    },
    {
     "name": "stdout",
     "output_type": "stream",
     "text": [
      "--------------------------------------------------\n",
      "Seed 4\n"
     ]
    },
    {
     "data": {
      "application/vnd.jupyter.widget-view+json": {
       "model_id": "93778ac4c9774ae0bf49591247c6574d",
       "version_major": 2,
       "version_minor": 0
      },
      "text/plain": [
       "  0%|          | 0/10 [00:00<?, ?it/s]"
      ]
     },
     "metadata": {},
     "output_type": "display_data"
    },
    {
     "name": "stdout",
     "output_type": "stream",
     "text": [
      "--------------------------------------------------\n",
      "Average time: 19.11 seconds\n",
      "Found features: [90, 90, 91, 90, 91]\n",
      "Found 89.8 of 90 informative features\n",
      "0.6 of 90.4 outputted powershap features are noise features\n",
      "====================================================================================================\n",
      "5000: \n",
      "20: \n",
      "[2.5  2.26 4.88 2.23 2.54]s - [2.47 2.87 2.77 2.39 2.68]s - [3.65 3.4  4.32 3.46 3.84]s - [9.82 4.96 4.33 4.41 5.81]s - [7.22 6.33 6.15 6.06 6.68]s | [1, 1, 1, 1, 1] ([0, 0, 0, 0, 0]) / 1 | [2, 2, 2, 2, 2] ([1, 0, 1, 0, 0]) / 2 | [6, 6, 6, 6, 6] ([0, 0, 0, 0, 0]) / 6 | [10, 10, 10, 10, 10] ([1, 0, 0, 0, 0]) / 10 | [18, 18, 18, 18, 18] ([0, 0, 0, 0, 0]) / 18 | \n",
      "100: \n",
      "[9.93 4.65 5.89 4.83 9.23]s - [10.34 11.88  9.93  9.59 15.83]s - [14.18 24.82 12.89 13.7  26.82]s - [14.09 14.06 16.61 20.45 24.35]s - [16.76 16.11 30.02 16.49 16.15]s | [3, 3, 3, 3, 3] ([0, 0, 1, 1, 2]) / 3 | [10, 10, 10, 10, 10] ([5, 2, 2, 1, 6]) / 10 | [33, 33, 33, 33, 33] ([1, 1, 3, 3, 5]) / 33 | [50, 50, 50, 50, 50] ([2, 0, 4, 0, 5]) / 50 | [90, 89, 90, 90, 90] ([0, 1, 1, 0, 1]) / 90 | \n",
      "====================================================================================================\n",
      "Amount of samples = 5000\n",
      "Total used features = 250\n",
      "Informative features: 7 (3%)\n",
      "\n",
      "Seed 0\n"
     ]
    },
    {
     "data": {
      "application/vnd.jupyter.widget-view+json": {
       "model_id": "e4536f9557dc4af3882a09349002d7cb",
       "version_major": 2,
       "version_minor": 0
      },
      "text/plain": [
       "  0%|          | 0/10 [00:00<?, ?it/s]"
      ]
     },
     "metadata": {},
     "output_type": "display_data"
    },
    {
     "data": {
      "application/vnd.jupyter.widget-view+json": {
       "model_id": "9a12d9ad53eb4d8f9cbd9e450c2bef00",
       "version_major": 2,
       "version_minor": 0
      },
      "text/plain": [
       "  0%|          | 0/8 [00:00<?, ?it/s]"
      ]
     },
     "metadata": {},
     "output_type": "display_data"
    },
    {
     "name": "stdout",
     "output_type": "stream",
     "text": [
      "--------------------------------------------------\n",
      "Seed 1\n"
     ]
    },
    {
     "data": {
      "application/vnd.jupyter.widget-view+json": {
       "model_id": "863ab591c69549d0818fbc9198ed0853",
       "version_major": 2,
       "version_minor": 0
      },
      "text/plain": [
       "  0%|          | 0/10 [00:00<?, ?it/s]"
      ]
     },
     "metadata": {},
     "output_type": "display_data"
    },
    {
     "data": {
      "application/vnd.jupyter.widget-view+json": {
       "model_id": "f970d48e874947a2ae98e95bdec4fbfd",
       "version_major": 2,
       "version_minor": 0
      },
      "text/plain": [
       "  0%|          | 0/4 [00:00<?, ?it/s]"
      ]
     },
     "metadata": {},
     "output_type": "display_data"
    },
    {
     "data": {
      "application/vnd.jupyter.widget-view+json": {
       "model_id": "e81e2051612f481d9b7386a8d1bf2e89",
       "version_major": 2,
       "version_minor": 0
      },
      "text/plain": [
       "  0%|          | 0/3 [00:00<?, ?it/s]"
      ]
     },
     "metadata": {},
     "output_type": "display_data"
    },
    {
     "data": {
      "application/vnd.jupyter.widget-view+json": {
       "model_id": "84439e750e904571a9cfcf18c699b379",
       "version_major": 2,
       "version_minor": 0
      },
      "text/plain": [
       "  0%|          | 0/2 [00:00<?, ?it/s]"
      ]
     },
     "metadata": {},
     "output_type": "display_data"
    },
    {
     "name": "stdout",
     "output_type": "stream",
     "text": [
      "--------------------------------------------------\n",
      "Seed 2\n"
     ]
    },
    {
     "data": {
      "application/vnd.jupyter.widget-view+json": {
       "model_id": "748e3333bda24fc6873e8ee8c1a8095b",
       "version_major": 2,
       "version_minor": 0
      },
      "text/plain": [
       "  0%|          | 0/10 [00:00<?, ?it/s]"
      ]
     },
     "metadata": {},
     "output_type": "display_data"
    },
    {
     "name": "stdout",
     "output_type": "stream",
     "text": [
      "--------------------------------------------------\n",
      "Seed 3\n"
     ]
    },
    {
     "data": {
      "application/vnd.jupyter.widget-view+json": {
       "model_id": "bd3e3c633ec54e92b668b157411fc27f",
       "version_major": 2,
       "version_minor": 0
      },
      "text/plain": [
       "  0%|          | 0/10 [00:00<?, ?it/s]"
      ]
     },
     "metadata": {},
     "output_type": "display_data"
    },
    {
     "name": "stdout",
     "output_type": "stream",
     "text": [
      "--------------------------------------------------\n",
      "Seed 4\n"
     ]
    },
    {
     "data": {
      "application/vnd.jupyter.widget-view+json": {
       "model_id": "c3aa3198aee644c288139e1ded586e5f",
       "version_major": 2,
       "version_minor": 0
      },
      "text/plain": [
       "  0%|          | 0/10 [00:00<?, ?it/s]"
      ]
     },
     "metadata": {},
     "output_type": "display_data"
    },
    {
     "name": "stdout",
     "output_type": "stream",
     "text": [
      "--------------------------------------------------\n",
      "Average time: 17.04 seconds\n",
      "Found features: [10, 7, 8, 8, 12]\n",
      "Found 7.0 of 7 informative features\n",
      "2.0 of 9.0 outputted powershap features are noise features\n",
      "====================================================================================================\n",
      "Amount of samples = 5000\n",
      "Total used features = 250\n",
      "Informative features: 25 (10%)\n",
      "\n",
      "Seed 0\n"
     ]
    },
    {
     "data": {
      "application/vnd.jupyter.widget-view+json": {
       "model_id": "27ef92a0b67540fcaf4ebe7ddd69c303",
       "version_major": 2,
       "version_minor": 0
      },
      "text/plain": [
       "  0%|          | 0/10 [00:00<?, ?it/s]"
      ]
     },
     "metadata": {},
     "output_type": "display_data"
    },
    {
     "data": {
      "application/vnd.jupyter.widget-view+json": {
       "model_id": "10757bb1261645e8be1bc35a372ba724",
       "version_major": 2,
       "version_minor": 0
      },
      "text/plain": [
       "  0%|          | 0/5 [00:00<?, ?it/s]"
      ]
     },
     "metadata": {},
     "output_type": "display_data"
    },
    {
     "name": "stdout",
     "output_type": "stream",
     "text": [
      "--------------------------------------------------\n",
      "Seed 1\n"
     ]
    },
    {
     "data": {
      "application/vnd.jupyter.widget-view+json": {
       "model_id": "4297df0269ab466cb5ea57db54143662",
       "version_major": 2,
       "version_minor": 0
      },
      "text/plain": [
       "  0%|          | 0/10 [00:00<?, ?it/s]"
      ]
     },
     "metadata": {},
     "output_type": "display_data"
    },
    {
     "name": "stdout",
     "output_type": "stream",
     "text": [
      "--------------------------------------------------\n",
      "Seed 2\n"
     ]
    },
    {
     "data": {
      "application/vnd.jupyter.widget-view+json": {
       "model_id": "628e1ac1e2e34f46a3f0710df2231dd6",
       "version_major": 2,
       "version_minor": 0
      },
      "text/plain": [
       "  0%|          | 0/10 [00:00<?, ?it/s]"
      ]
     },
     "metadata": {},
     "output_type": "display_data"
    },
    {
     "name": "stdout",
     "output_type": "stream",
     "text": [
      "--------------------------------------------------\n",
      "Seed 3\n"
     ]
    },
    {
     "data": {
      "application/vnd.jupyter.widget-view+json": {
       "model_id": "dd056b977e244b84920c7135a076e764",
       "version_major": 2,
       "version_minor": 0
      },
      "text/plain": [
       "  0%|          | 0/10 [00:00<?, ?it/s]"
      ]
     },
     "metadata": {},
     "output_type": "display_data"
    },
    {
     "name": "stdout",
     "output_type": "stream",
     "text": [
      "--------------------------------------------------\n",
      "Seed 4\n"
     ]
    },
    {
     "data": {
      "application/vnd.jupyter.widget-view+json": {
       "model_id": "58925c99803f4e5f82bbb0867f5c5426",
       "version_major": 2,
       "version_minor": 0
      },
      "text/plain": [
       "  0%|          | 0/10 [00:00<?, ?it/s]"
      ]
     },
     "metadata": {},
     "output_type": "display_data"
    },
    {
     "data": {
      "application/vnd.jupyter.widget-view+json": {
       "model_id": "c2bea76519e242d18cb2ccc131d79509",
       "version_major": 2,
       "version_minor": 0
      },
      "text/plain": [
       "  0%|          | 0/3 [00:00<?, ?it/s]"
      ]
     },
     "metadata": {},
     "output_type": "display_data"
    },
    {
     "name": "stdout",
     "output_type": "stream",
     "text": [
      "--------------------------------------------------\n",
      "Average time: 24.93 seconds\n",
      "Found features: [31, 25, 30, 28, 27]\n",
      "Found 25.0 of 25 informative features\n",
      "3.2 of 28.2 outputted powershap features are noise features\n",
      "====================================================================================================\n",
      "Amount of samples = 5000\n",
      "Total used features = 250\n",
      "Informative features: 82 (33%)\n",
      "\n",
      "Seed 0\n"
     ]
    },
    {
     "data": {
      "application/vnd.jupyter.widget-view+json": {
       "model_id": "a07ced915ba3460090087c54e2df2913",
       "version_major": 2,
       "version_minor": 0
      },
      "text/plain": [
       "  0%|          | 0/10 [00:00<?, ?it/s]"
      ]
     },
     "metadata": {},
     "output_type": "display_data"
    },
    {
     "data": {
      "application/vnd.jupyter.widget-view+json": {
       "model_id": "ad829e4d7b4044d6aff49b9922086968",
       "version_major": 2,
       "version_minor": 0
      },
      "text/plain": [
       "  0%|          | 0/10 [00:00<?, ?it/s]"
      ]
     },
     "metadata": {},
     "output_type": "display_data"
    },
    {
     "name": "stdout",
     "output_type": "stream",
     "text": [
      "--------------------------------------------------\n",
      "Seed 1\n"
     ]
    },
    {
     "data": {
      "application/vnd.jupyter.widget-view+json": {
       "model_id": "8d768764702c41169faa27a9626efe9b",
       "version_major": 2,
       "version_minor": 0
      },
      "text/plain": [
       "  0%|          | 0/10 [00:00<?, ?it/s]"
      ]
     },
     "metadata": {},
     "output_type": "display_data"
    },
    {
     "data": {
      "application/vnd.jupyter.widget-view+json": {
       "model_id": "dbb0fb55656a462ca8ab1c3ce73a03fe",
       "version_major": 2,
       "version_minor": 0
      },
      "text/plain": [
       "  0%|          | 0/9 [00:00<?, ?it/s]"
      ]
     },
     "metadata": {},
     "output_type": "display_data"
    },
    {
     "name": "stdout",
     "output_type": "stream",
     "text": [
      "--------------------------------------------------\n",
      "Seed 2\n"
     ]
    },
    {
     "data": {
      "application/vnd.jupyter.widget-view+json": {
       "model_id": "6e4611bab0c0400883420467d41f6e1d",
       "version_major": 2,
       "version_minor": 0
      },
      "text/plain": [
       "  0%|          | 0/10 [00:00<?, ?it/s]"
      ]
     },
     "metadata": {},
     "output_type": "display_data"
    },
    {
     "data": {
      "application/vnd.jupyter.widget-view+json": {
       "model_id": "6fde959e380640febebcb7d8597e3b98",
       "version_major": 2,
       "version_minor": 0
      },
      "text/plain": [
       "  0%|          | 0/2 [00:00<?, ?it/s]"
      ]
     },
     "metadata": {},
     "output_type": "display_data"
    },
    {
     "name": "stdout",
     "output_type": "stream",
     "text": [
      "--------------------------------------------------\n",
      "Seed 3\n"
     ]
    },
    {
     "data": {
      "application/vnd.jupyter.widget-view+json": {
       "model_id": "ed0b52893d52468fbc9cac5441abd417",
       "version_major": 2,
       "version_minor": 0
      },
      "text/plain": [
       "  0%|          | 0/10 [00:00<?, ?it/s]"
      ]
     },
     "metadata": {},
     "output_type": "display_data"
    },
    {
     "data": {
      "application/vnd.jupyter.widget-view+json": {
       "model_id": "3b834777a738448eab550993f1e7ab68",
       "version_major": 2,
       "version_minor": 0
      },
      "text/plain": [
       "  0%|          | 0/2 [00:00<?, ?it/s]"
      ]
     },
     "metadata": {},
     "output_type": "display_data"
    },
    {
     "data": {
      "application/vnd.jupyter.widget-view+json": {
       "model_id": "05f082df805d4713a7b93202e5f9b21b",
       "version_major": 2,
       "version_minor": 0
      },
      "text/plain": [
       "  0%|          | 0/2 [00:00<?, ?it/s]"
      ]
     },
     "metadata": {},
     "output_type": "display_data"
    },
    {
     "name": "stdout",
     "output_type": "stream",
     "text": [
      "--------------------------------------------------\n",
      "Seed 4\n"
     ]
    },
    {
     "data": {
      "application/vnd.jupyter.widget-view+json": {
       "model_id": "2c6f2b10bf1a49ef9735d3f8936ba5ff",
       "version_major": 2,
       "version_minor": 0
      },
      "text/plain": [
       "  0%|          | 0/10 [00:00<?, ?it/s]"
      ]
     },
     "metadata": {},
     "output_type": "display_data"
    },
    {
     "data": {
      "application/vnd.jupyter.widget-view+json": {
       "model_id": "8fa1c6cf01704ad59e8cb457d5d19dd1",
       "version_major": 2,
       "version_minor": 0
      },
      "text/plain": [
       "  0%|          | 0/7 [00:00<?, ?it/s]"
      ]
     },
     "metadata": {},
     "output_type": "display_data"
    },
    {
     "name": "stdout",
     "output_type": "stream",
     "text": [
      "--------------------------------------------------\n",
      "Average time: 45.4 seconds\n",
      "Found features: [80, 86, 88, 88, 83]\n",
      "Found 81.4 of 82 informative features\n",
      "3.6 of 85.0 outputted powershap features are noise features\n",
      "====================================================================================================\n",
      "Amount of samples = 5000\n",
      "Total used features = 250\n",
      "Informative features: 125 (50%)\n",
      "\n",
      "Seed 0\n"
     ]
    },
    {
     "data": {
      "application/vnd.jupyter.widget-view+json": {
       "model_id": "b1d849d95baa4d47a8b39afafc854cbc",
       "version_major": 2,
       "version_minor": 0
      },
      "text/plain": [
       "  0%|          | 0/10 [00:00<?, ?it/s]"
      ]
     },
     "metadata": {},
     "output_type": "display_data"
    },
    {
     "data": {
      "application/vnd.jupyter.widget-view+json": {
       "model_id": "a60969949bc34af7882b838e2045af85",
       "version_major": 2,
       "version_minor": 0
      },
      "text/plain": [
       "  0%|          | 0/6 [00:00<?, ?it/s]"
      ]
     },
     "metadata": {},
     "output_type": "display_data"
    },
    {
     "name": "stdout",
     "output_type": "stream",
     "text": [
      "--------------------------------------------------\n",
      "Seed 1\n"
     ]
    },
    {
     "data": {
      "application/vnd.jupyter.widget-view+json": {
       "model_id": "0450ad00c5dc457ea55ae4823c2109e8",
       "version_major": 2,
       "version_minor": 0
      },
      "text/plain": [
       "  0%|          | 0/10 [00:00<?, ?it/s]"
      ]
     },
     "metadata": {},
     "output_type": "display_data"
    },
    {
     "data": {
      "application/vnd.jupyter.widget-view+json": {
       "model_id": "48a9357e03e64ef9910af1464a80fe40",
       "version_major": 2,
       "version_minor": 0
      },
      "text/plain": [
       "  0%|          | 0/6 [00:00<?, ?it/s]"
      ]
     },
     "metadata": {},
     "output_type": "display_data"
    },
    {
     "name": "stdout",
     "output_type": "stream",
     "text": [
      "--------------------------------------------------\n",
      "Seed 2\n"
     ]
    },
    {
     "data": {
      "application/vnd.jupyter.widget-view+json": {
       "model_id": "693a1dcd7cba466f923f24d36ca916e0",
       "version_major": 2,
       "version_minor": 0
      },
      "text/plain": [
       "  0%|          | 0/10 [00:00<?, ?it/s]"
      ]
     },
     "metadata": {},
     "output_type": "display_data"
    },
    {
     "name": "stdout",
     "output_type": "stream",
     "text": [
      "--------------------------------------------------\n",
      "Seed 3\n"
     ]
    },
    {
     "data": {
      "application/vnd.jupyter.widget-view+json": {
       "model_id": "916f00180b804e979dcfcb19de92694e",
       "version_major": 2,
       "version_minor": 0
      },
      "text/plain": [
       "  0%|          | 0/10 [00:00<?, ?it/s]"
      ]
     },
     "metadata": {},
     "output_type": "display_data"
    },
    {
     "data": {
      "application/vnd.jupyter.widget-view+json": {
       "model_id": "86f6417503ec47d88f56277e3423eac3",
       "version_major": 2,
       "version_minor": 0
      },
      "text/plain": [
       "  0%|          | 0/5 [00:00<?, ?it/s]"
      ]
     },
     "metadata": {},
     "output_type": "display_data"
    },
    {
     "data": {
      "application/vnd.jupyter.widget-view+json": {
       "model_id": "6f297d0d504c4c1dab5e9a413a9823b0",
       "version_major": 2,
       "version_minor": 0
      },
      "text/plain": [
       "  0%|          | 0/2 [00:00<?, ?it/s]"
      ]
     },
     "metadata": {},
     "output_type": "display_data"
    },
    {
     "name": "stdout",
     "output_type": "stream",
     "text": [
      "--------------------------------------------------\n",
      "Seed 4\n"
     ]
    },
    {
     "data": {
      "application/vnd.jupyter.widget-view+json": {
       "model_id": "b479548b9df84de1bc3a6079bedaf1ab",
       "version_major": 2,
       "version_minor": 0
      },
      "text/plain": [
       "  0%|          | 0/10 [00:00<?, ?it/s]"
      ]
     },
     "metadata": {},
     "output_type": "display_data"
    },
    {
     "data": {
      "application/vnd.jupyter.widget-view+json": {
       "model_id": "7090d0dde4ab46499831ea78900798b7",
       "version_major": 2,
       "version_minor": 0
      },
      "text/plain": [
       "  0%|          | 0/10 [00:00<?, ?it/s]"
      ]
     },
     "metadata": {},
     "output_type": "display_data"
    },
    {
     "name": "stdout",
     "output_type": "stream",
     "text": [
      "--------------------------------------------------\n",
      "Average time: 50.04 seconds\n",
      "Found features: [125, 121, 129, 127, 123]\n",
      "Found 122.4 of 125 informative features\n",
      "2.6 of 125.0 outputted powershap features are noise features\n",
      "====================================================================================================\n",
      "Amount of samples = 5000\n",
      "Total used features = 250\n",
      "Informative features: 225 (90%)\n",
      "\n",
      "Seed 0\n"
     ]
    },
    {
     "data": {
      "application/vnd.jupyter.widget-view+json": {
       "model_id": "315f34a62100417eb07b5d8bb0e3b59c",
       "version_major": 2,
       "version_minor": 0
      },
      "text/plain": [
       "  0%|          | 0/10 [00:00<?, ?it/s]"
      ]
     },
     "metadata": {},
     "output_type": "display_data"
    },
    {
     "data": {
      "application/vnd.jupyter.widget-view+json": {
       "model_id": "5bc7d1da663a445385dcd62ce1614045",
       "version_major": 2,
       "version_minor": 0
      },
      "text/plain": [
       "  0%|          | 0/8 [00:00<?, ?it/s]"
      ]
     },
     "metadata": {},
     "output_type": "display_data"
    },
    {
     "data": {
      "application/vnd.jupyter.widget-view+json": {
       "model_id": "6f258794bba34a3ea7ed86f8124a0b5d",
       "version_major": 2,
       "version_minor": 0
      },
      "text/plain": [
       "  0%|          | 0/7 [00:00<?, ?it/s]"
      ]
     },
     "metadata": {},
     "output_type": "display_data"
    },
    {
     "data": {
      "application/vnd.jupyter.widget-view+json": {
       "model_id": "f224c4a8e4ea4e299eb9a99191eb9288",
       "version_major": 2,
       "version_minor": 0
      },
      "text/plain": [
       "  0%|          | 0/1 [00:00<?, ?it/s]"
      ]
     },
     "metadata": {},
     "output_type": "display_data"
    },
    {
     "name": "stdout",
     "output_type": "stream",
     "text": [
      "--------------------------------------------------\n",
      "Seed 1\n"
     ]
    },
    {
     "data": {
      "application/vnd.jupyter.widget-view+json": {
       "model_id": "4e84177a99a841a590847d86052511e6",
       "version_major": 2,
       "version_minor": 0
      },
      "text/plain": [
       "  0%|          | 0/10 [00:00<?, ?it/s]"
      ]
     },
     "metadata": {},
     "output_type": "display_data"
    },
    {
     "data": {
      "application/vnd.jupyter.widget-view+json": {
       "model_id": "3f3331a7efaa4f0895ec1e6c661a6aa8",
       "version_major": 2,
       "version_minor": 0
      },
      "text/plain": [
       "  0%|          | 0/4 [00:00<?, ?it/s]"
      ]
     },
     "metadata": {},
     "output_type": "display_data"
    },
    {
     "name": "stdout",
     "output_type": "stream",
     "text": [
      "--------------------------------------------------\n",
      "Seed 2\n"
     ]
    },
    {
     "data": {
      "application/vnd.jupyter.widget-view+json": {
       "model_id": "bdf907b99cf74396aee90e83094df8a3",
       "version_major": 2,
       "version_minor": 0
      },
      "text/plain": [
       "  0%|          | 0/10 [00:00<?, ?it/s]"
      ]
     },
     "metadata": {},
     "output_type": "display_data"
    },
    {
     "data": {
      "application/vnd.jupyter.widget-view+json": {
       "model_id": "30c9d15f7b2340ebb42768d54b009bb1",
       "version_major": 2,
       "version_minor": 0
      },
      "text/plain": [
       "  0%|          | 0/3 [00:00<?, ?it/s]"
      ]
     },
     "metadata": {},
     "output_type": "display_data"
    },
    {
     "name": "stdout",
     "output_type": "stream",
     "text": [
      "--------------------------------------------------\n",
      "Seed 3\n"
     ]
    },
    {
     "data": {
      "application/vnd.jupyter.widget-view+json": {
       "model_id": "0f6030e76fdb4fa09b8ab79c7fa9af8d",
       "version_major": 2,
       "version_minor": 0
      },
      "text/plain": [
       "  0%|          | 0/10 [00:00<?, ?it/s]"
      ]
     },
     "metadata": {},
     "output_type": "display_data"
    },
    {
     "data": {
      "application/vnd.jupyter.widget-view+json": {
       "model_id": "bb9f760a70fe4eedb3ab3fec30fb307a",
       "version_major": 2,
       "version_minor": 0
      },
      "text/plain": [
       "  0%|          | 0/10 [00:00<?, ?it/s]"
      ]
     },
     "metadata": {},
     "output_type": "display_data"
    },
    {
     "name": "stdout",
     "output_type": "stream",
     "text": [
      "--------------------------------------------------\n",
      "Seed 4\n"
     ]
    },
    {
     "data": {
      "application/vnd.jupyter.widget-view+json": {
       "model_id": "83556f4b713342e2b4302391c0f201f9",
       "version_major": 2,
       "version_minor": 0
      },
      "text/plain": [
       "  0%|          | 0/10 [00:00<?, ?it/s]"
      ]
     },
     "metadata": {},
     "output_type": "display_data"
    },
    {
     "data": {
      "application/vnd.jupyter.widget-view+json": {
       "model_id": "05500bc766244fec930d164f5c320856",
       "version_major": 2,
       "version_minor": 0
      },
      "text/plain": [
       "  0%|          | 0/5 [00:00<?, ?it/s]"
      ]
     },
     "metadata": {},
     "output_type": "display_data"
    },
    {
     "data": {
      "application/vnd.jupyter.widget-view+json": {
       "model_id": "2b16379b0d2b4244a272bc1aa3f6ebc6",
       "version_major": 2,
       "version_minor": 0
      },
      "text/plain": [
       "  0%|          | 0/2 [00:00<?, ?it/s]"
      ]
     },
     "metadata": {},
     "output_type": "display_data"
    },
    {
     "name": "stdout",
     "output_type": "stream",
     "text": [
      "--------------------------------------------------\n",
      "Average time: 62.87 seconds\n",
      "Found features: [174, 223, 222, 197, 196]\n",
      "Found 201.6 of 225 informative features\n",
      "0.8 of 202.4 outputted powershap features are noise features\n",
      "====================================================================================================\n",
      "5000: \n",
      "20: \n",
      "[2.5  2.26 4.88 2.23 2.54]s - [2.47 2.87 2.77 2.39 2.68]s - [3.65 3.4  4.32 3.46 3.84]s - [9.82 4.96 4.33 4.41 5.81]s - [7.22 6.33 6.15 6.06 6.68]s | [1, 1, 1, 1, 1] ([0, 0, 0, 0, 0]) / 1 | [2, 2, 2, 2, 2] ([1, 0, 1, 0, 0]) / 2 | [6, 6, 6, 6, 6] ([0, 0, 0, 0, 0]) / 6 | [10, 10, 10, 10, 10] ([1, 0, 0, 0, 0]) / 10 | [18, 18, 18, 18, 18] ([0, 0, 0, 0, 0]) / 18 | \n",
      "100: \n",
      "[9.93 4.65 5.89 4.83 9.23]s - [10.34 11.88  9.93  9.59 15.83]s - [14.18 24.82 12.89 13.7  26.82]s - [14.09 14.06 16.61 20.45 24.35]s - [16.76 16.11 30.02 16.49 16.15]s | [3, 3, 3, 3, 3] ([0, 0, 1, 1, 2]) / 3 | [10, 10, 10, 10, 10] ([5, 2, 2, 1, 6]) / 10 | [33, 33, 33, 33, 33] ([1, 1, 3, 3, 5]) / 33 | [50, 50, 50, 50, 50] ([2, 0, 4, 0, 5]) / 50 | [90, 89, 90, 90, 90] ([0, 1, 1, 0, 1]) / 90 | \n",
      "250: \n",
      "[26.29 20.9  12.17 10.54 15.29]s - [33.03 19.93 21.16 21.86 28.7 ]s - [55.75 54.   33.28 41.87 42.11]s - [47.08 51.04 32.46 54.65 64.99]s - [87.72 48.9  44.64 72.52 60.6 ]s | [7, 7, 7, 7, 7] ([3, 0, 1, 1, 5]) / 7 | [25, 25, 25, 25, 25] ([6, 0, 5, 3, 2]) / 25 | [80, 82, 82, 82, 81] ([0, 4, 6, 6, 2]) / 82 | [123, 120, 125, 123, 121] ([2, 1, 4, 4, 2]) / 125 | [174, 221, 220, 197, 196] ([0, 2, 2, 0, 0]) / 225 | \n",
      "====================================================================================================\n",
      "Amount of samples = 5000\n",
      "Total used features = 500\n",
      "Informative features: 15 (3%)\n",
      "\n",
      "Seed 0\n"
     ]
    },
    {
     "data": {
      "application/vnd.jupyter.widget-view+json": {
       "model_id": "ec3140c3d97d4051a2d2250d73a46274",
       "version_major": 2,
       "version_minor": 0
      },
      "text/plain": [
       "  0%|          | 0/10 [00:00<?, ?it/s]"
      ]
     },
     "metadata": {},
     "output_type": "display_data"
    },
    {
     "data": {
      "application/vnd.jupyter.widget-view+json": {
       "model_id": "8065cad8ef7546fabec381eaa405dc7f",
       "version_major": 2,
       "version_minor": 0
      },
      "text/plain": [
       "  0%|          | 0/4 [00:00<?, ?it/s]"
      ]
     },
     "metadata": {},
     "output_type": "display_data"
    },
    {
     "data": {
      "application/vnd.jupyter.widget-view+json": {
       "model_id": "ec59561c871640198290b85fee3c523b",
       "version_major": 2,
       "version_minor": 0
      },
      "text/plain": [
       "  0%|          | 0/2 [00:00<?, ?it/s]"
      ]
     },
     "metadata": {},
     "output_type": "display_data"
    },
    {
     "name": "stdout",
     "output_type": "stream",
     "text": [
      "--------------------------------------------------\n",
      "Seed 1\n"
     ]
    },
    {
     "data": {
      "application/vnd.jupyter.widget-view+json": {
       "model_id": "5d89bbad875f4b21ba6dadbd41b2681d",
       "version_major": 2,
       "version_minor": 0
      },
      "text/plain": [
       "  0%|          | 0/10 [00:00<?, ?it/s]"
      ]
     },
     "metadata": {},
     "output_type": "display_data"
    },
    {
     "data": {
      "application/vnd.jupyter.widget-view+json": {
       "model_id": "13fbf3f2c9db4fea85737694e7cb369f",
       "version_major": 2,
       "version_minor": 0
      },
      "text/plain": [
       "  0%|          | 0/8 [00:00<?, ?it/s]"
      ]
     },
     "metadata": {},
     "output_type": "display_data"
    },
    {
     "name": "stdout",
     "output_type": "stream",
     "text": [
      "--------------------------------------------------\n",
      "Seed 2\n"
     ]
    },
    {
     "data": {
      "application/vnd.jupyter.widget-view+json": {
       "model_id": "d2c99f4966fc4478988b8b4aa225f839",
       "version_major": 2,
       "version_minor": 0
      },
      "text/plain": [
       "  0%|          | 0/10 [00:00<?, ?it/s]"
      ]
     },
     "metadata": {},
     "output_type": "display_data"
    },
    {
     "data": {
      "application/vnd.jupyter.widget-view+json": {
       "model_id": "7b4ff5019db84481b15a8b04b57a4e64",
       "version_major": 2,
       "version_minor": 0
      },
      "text/plain": [
       "  0%|          | 0/7 [00:00<?, ?it/s]"
      ]
     },
     "metadata": {},
     "output_type": "display_data"
    },
    {
     "name": "stdout",
     "output_type": "stream",
     "text": [
      "--------------------------------------------------\n",
      "Seed 3\n"
     ]
    },
    {
     "data": {
      "application/vnd.jupyter.widget-view+json": {
       "model_id": "12910ba69ee349a6905202b2cfcb16ed",
       "version_major": 2,
       "version_minor": 0
      },
      "text/plain": [
       "  0%|          | 0/10 [00:00<?, ?it/s]"
      ]
     },
     "metadata": {},
     "output_type": "display_data"
    },
    {
     "name": "stdout",
     "output_type": "stream",
     "text": [
      "--------------------------------------------------\n",
      "Seed 4\n"
     ]
    },
    {
     "data": {
      "application/vnd.jupyter.widget-view+json": {
       "model_id": "593224c1c5a444bda81a5c93ab5a93a2",
       "version_major": 2,
       "version_minor": 0
      },
      "text/plain": [
       "  0%|          | 0/10 [00:00<?, ?it/s]"
      ]
     },
     "metadata": {},
     "output_type": "display_data"
    },
    {
     "data": {
      "application/vnd.jupyter.widget-view+json": {
       "model_id": "9792f27fec0442b998d37cb218bbe741",
       "version_major": 2,
       "version_minor": 0
      },
      "text/plain": [
       "  0%|          | 0/6 [00:00<?, ?it/s]"
      ]
     },
     "metadata": {},
     "output_type": "display_data"
    },
    {
     "name": "stdout",
     "output_type": "stream",
     "text": [
      "--------------------------------------------------\n",
      "Average time: 49.09 seconds\n",
      "Found features: [31, 18, 25, 18, 19]\n",
      "Found 15.0 of 15 informative features\n",
      "7.2 of 22.2 outputted powershap features are noise features\n",
      "====================================================================================================\n",
      "Amount of samples = 5000\n",
      "Total used features = 500\n",
      "Informative features: 50 (10%)\n",
      "\n",
      "Seed 0\n"
     ]
    },
    {
     "data": {
      "application/vnd.jupyter.widget-view+json": {
       "model_id": "792c922b498a43a5bdd2cee02575d3b7",
       "version_major": 2,
       "version_minor": 0
      },
      "text/plain": [
       "  0%|          | 0/10 [00:00<?, ?it/s]"
      ]
     },
     "metadata": {},
     "output_type": "display_data"
    },
    {
     "data": {
      "application/vnd.jupyter.widget-view+json": {
       "model_id": "fb0846d4b17e419c8f11eedf015b639e",
       "version_major": 2,
       "version_minor": 0
      },
      "text/plain": [
       "  0%|          | 0/4 [00:00<?, ?it/s]"
      ]
     },
     "metadata": {},
     "output_type": "display_data"
    },
    {
     "name": "stdout",
     "output_type": "stream",
     "text": [
      "--------------------------------------------------\n",
      "Seed 1\n"
     ]
    },
    {
     "data": {
      "application/vnd.jupyter.widget-view+json": {
       "model_id": "4c684224493c41b9b09f9db0816c2db8",
       "version_major": 2,
       "version_minor": 0
      },
      "text/plain": [
       "  0%|          | 0/10 [00:00<?, ?it/s]"
      ]
     },
     "metadata": {},
     "output_type": "display_data"
    },
    {
     "data": {
      "application/vnd.jupyter.widget-view+json": {
       "model_id": "b7baebb1489e4210adcf9fe1489294f6",
       "version_major": 2,
       "version_minor": 0
      },
      "text/plain": [
       "  0%|          | 0/10 [00:00<?, ?it/s]"
      ]
     },
     "metadata": {},
     "output_type": "display_data"
    },
    {
     "name": "stdout",
     "output_type": "stream",
     "text": [
      "--------------------------------------------------\n",
      "Seed 2\n"
     ]
    },
    {
     "data": {
      "application/vnd.jupyter.widget-view+json": {
       "model_id": "9e52fa4b751f4454b0516bc9fff78632",
       "version_major": 2,
       "version_minor": 0
      },
      "text/plain": [
       "  0%|          | 0/10 [00:00<?, ?it/s]"
      ]
     },
     "metadata": {},
     "output_type": "display_data"
    },
    {
     "data": {
      "application/vnd.jupyter.widget-view+json": {
       "model_id": "ac2f391c15d64077831b24ffa3a0db3b",
       "version_major": 2,
       "version_minor": 0
      },
      "text/plain": [
       "  0%|          | 0/10 [00:00<?, ?it/s]"
      ]
     },
     "metadata": {},
     "output_type": "display_data"
    },
    {
     "name": "stdout",
     "output_type": "stream",
     "text": [
      "--------------------------------------------------\n",
      "Seed 3\n"
     ]
    },
    {
     "data": {
      "application/vnd.jupyter.widget-view+json": {
       "model_id": "a7adbbfb6f67435fafc7e0107fb5916a",
       "version_major": 2,
       "version_minor": 0
      },
      "text/plain": [
       "  0%|          | 0/10 [00:00<?, ?it/s]"
      ]
     },
     "metadata": {},
     "output_type": "display_data"
    },
    {
     "data": {
      "application/vnd.jupyter.widget-view+json": {
       "model_id": "effc006a459b4a2eaeaa924dfe1dd780",
       "version_major": 2,
       "version_minor": 0
      },
      "text/plain": [
       "  0%|          | 0/6 [00:00<?, ?it/s]"
      ]
     },
     "metadata": {},
     "output_type": "display_data"
    },
    {
     "data": {
      "application/vnd.jupyter.widget-view+json": {
       "model_id": "a53139b4596b4772bd79a582397c77cf",
       "version_major": 2,
       "version_minor": 0
      },
      "text/plain": [
       "  0%|          | 0/1 [00:00<?, ?it/s]"
      ]
     },
     "metadata": {},
     "output_type": "display_data"
    },
    {
     "name": "stdout",
     "output_type": "stream",
     "text": [
      "--------------------------------------------------\n",
      "Seed 4\n"
     ]
    },
    {
     "data": {
      "application/vnd.jupyter.widget-view+json": {
       "model_id": "85b67cf5ef414238a789c1216421fe1a",
       "version_major": 2,
       "version_minor": 0
      },
      "text/plain": [
       "  0%|          | 0/10 [00:00<?, ?it/s]"
      ]
     },
     "metadata": {},
     "output_type": "display_data"
    },
    {
     "data": {
      "application/vnd.jupyter.widget-view+json": {
       "model_id": "f34d9b1bae63473a9b2a25bb45404983",
       "version_major": 2,
       "version_minor": 0
      },
      "text/plain": [
       "  0%|          | 0/4 [00:00<?, ?it/s]"
      ]
     },
     "metadata": {},
     "output_type": "display_data"
    },
    {
     "name": "stdout",
     "output_type": "stream",
     "text": [
      "--------------------------------------------------\n",
      "Average time: 75.27 seconds\n",
      "Found features: [51, 52, 56, 59, 52]\n",
      "Found 50.0 of 50 informative features\n",
      "4.0 of 54.0 outputted powershap features are noise features\n",
      "====================================================================================================\n",
      "Amount of samples = 5000\n",
      "Total used features = 500\n",
      "Informative features: 165 (33%)\n",
      "\n",
      "Seed 0\n"
     ]
    },
    {
     "data": {
      "application/vnd.jupyter.widget-view+json": {
       "model_id": "b1f10a98d9674fa2a30846ca442783b9",
       "version_major": 2,
       "version_minor": 0
      },
      "text/plain": [
       "  0%|          | 0/10 [00:00<?, ?it/s]"
      ]
     },
     "metadata": {},
     "output_type": "display_data"
    },
    {
     "data": {
      "application/vnd.jupyter.widget-view+json": {
       "model_id": "14afff531fd64c7e86ca126b099138e0",
       "version_major": 2,
       "version_minor": 0
      },
      "text/plain": [
       "  0%|          | 0/4 [00:00<?, ?it/s]"
      ]
     },
     "metadata": {},
     "output_type": "display_data"
    },
    {
     "data": {
      "application/vnd.jupyter.widget-view+json": {
       "model_id": "37ff11e2cc434a4c99b03e9ccd96f549",
       "version_major": 2,
       "version_minor": 0
      },
      "text/plain": [
       "  0%|          | 0/2 [00:00<?, ?it/s]"
      ]
     },
     "metadata": {},
     "output_type": "display_data"
    },
    {
     "name": "stdout",
     "output_type": "stream",
     "text": [
      "--------------------------------------------------\n",
      "Seed 1\n"
     ]
    },
    {
     "data": {
      "application/vnd.jupyter.widget-view+json": {
       "model_id": "0b2d16e1e4c84f8b8a5944e39c81509f",
       "version_major": 2,
       "version_minor": 0
      },
      "text/plain": [
       "  0%|          | 0/10 [00:00<?, ?it/s]"
      ]
     },
     "metadata": {},
     "output_type": "display_data"
    },
    {
     "data": {
      "application/vnd.jupyter.widget-view+json": {
       "model_id": "1fed968a1ffe4da5beb9a46414ced9b6",
       "version_major": 2,
       "version_minor": 0
      },
      "text/plain": [
       "  0%|          | 0/9 [00:00<?, ?it/s]"
      ]
     },
     "metadata": {},
     "output_type": "display_data"
    },
    {
     "name": "stdout",
     "output_type": "stream",
     "text": [
      "--------------------------------------------------\n",
      "Seed 2\n"
     ]
    },
    {
     "data": {
      "application/vnd.jupyter.widget-view+json": {
       "model_id": "1853265e59da4fee8e7f9945cd4ea098",
       "version_major": 2,
       "version_minor": 0
      },
      "text/plain": [
       "  0%|          | 0/10 [00:00<?, ?it/s]"
      ]
     },
     "metadata": {},
     "output_type": "display_data"
    },
    {
     "data": {
      "application/vnd.jupyter.widget-view+json": {
       "model_id": "5ba7edff24434291ac6126ee4cbebbda",
       "version_major": 2,
       "version_minor": 0
      },
      "text/plain": [
       "  0%|          | 0/5 [00:00<?, ?it/s]"
      ]
     },
     "metadata": {},
     "output_type": "display_data"
    },
    {
     "name": "stdout",
     "output_type": "stream",
     "text": [
      "--------------------------------------------------\n",
      "Seed 3\n"
     ]
    },
    {
     "data": {
      "application/vnd.jupyter.widget-view+json": {
       "model_id": "c574fb76caa14106be5f5dfb53f694dd",
       "version_major": 2,
       "version_minor": 0
      },
      "text/plain": [
       "  0%|          | 0/10 [00:00<?, ?it/s]"
      ]
     },
     "metadata": {},
     "output_type": "display_data"
    },
    {
     "data": {
      "application/vnd.jupyter.widget-view+json": {
       "model_id": "9b476b67117b469c8fde569d3d0699c1",
       "version_major": 2,
       "version_minor": 0
      },
      "text/plain": [
       "  0%|          | 0/10 [00:00<?, ?it/s]"
      ]
     },
     "metadata": {},
     "output_type": "display_data"
    },
    {
     "name": "stdout",
     "output_type": "stream",
     "text": [
      "--------------------------------------------------\n",
      "Seed 4\n"
     ]
    },
    {
     "data": {
      "application/vnd.jupyter.widget-view+json": {
       "model_id": "b8296d9abcfd4cf2b98e54b44acdb29c",
       "version_major": 2,
       "version_minor": 0
      },
      "text/plain": [
       "  0%|          | 0/10 [00:00<?, ?it/s]"
      ]
     },
     "metadata": {},
     "output_type": "display_data"
    },
    {
     "data": {
      "application/vnd.jupyter.widget-view+json": {
       "model_id": "50890d0354ef413d922fbbaaa304f53b",
       "version_major": 2,
       "version_minor": 0
      },
      "text/plain": [
       "  0%|          | 0/10 [00:00<?, ?it/s]"
      ]
     },
     "metadata": {},
     "output_type": "display_data"
    },
    {
     "data": {
      "application/vnd.jupyter.widget-view+json": {
       "model_id": "68083d14edc847d2ac66f2204787a321",
       "version_major": 2,
       "version_minor": 0
      },
      "text/plain": [
       "  0%|          | 0/1 [00:00<?, ?it/s]"
      ]
     },
     "metadata": {},
     "output_type": "display_data"
    },
    {
     "name": "stdout",
     "output_type": "stream",
     "text": [
      "--------------------------------------------------\n",
      "Average time: 108.06 seconds\n",
      "Found features: [163, 162, 164, 159, 141]\n",
      "Found 153.8 of 165 informative features\n",
      "4.0 of 157.8 outputted powershap features are noise features\n",
      "====================================================================================================\n",
      "Amount of samples = 5000\n",
      "Total used features = 500\n",
      "Informative features: 250 (50%)\n",
      "\n",
      "Seed 0\n"
     ]
    },
    {
     "data": {
      "application/vnd.jupyter.widget-view+json": {
       "model_id": "d3c196ddf710481ebddec8abe02fce5f",
       "version_major": 2,
       "version_minor": 0
      },
      "text/plain": [
       "  0%|          | 0/10 [00:00<?, ?it/s]"
      ]
     },
     "metadata": {},
     "output_type": "display_data"
    },
    {
     "data": {
      "application/vnd.jupyter.widget-view+json": {
       "model_id": "c66cb31a4a674e1e932c7c6fe236ff65",
       "version_major": 2,
       "version_minor": 0
      },
      "text/plain": [
       "  0%|          | 0/10 [00:00<?, ?it/s]"
      ]
     },
     "metadata": {},
     "output_type": "display_data"
    },
    {
     "name": "stdout",
     "output_type": "stream",
     "text": [
      "--------------------------------------------------\n",
      "Seed 1\n"
     ]
    },
    {
     "data": {
      "application/vnd.jupyter.widget-view+json": {
       "model_id": "692e91e9e23f40ceb571c7c4b743ab74",
       "version_major": 2,
       "version_minor": 0
      },
      "text/plain": [
       "  0%|          | 0/10 [00:00<?, ?it/s]"
      ]
     },
     "metadata": {},
     "output_type": "display_data"
    },
    {
     "data": {
      "application/vnd.jupyter.widget-view+json": {
       "model_id": "17e432ad0301432ca8ca03eb93509b6c",
       "version_major": 2,
       "version_minor": 0
      },
      "text/plain": [
       "  0%|          | 0/3 [00:00<?, ?it/s]"
      ]
     },
     "metadata": {},
     "output_type": "display_data"
    },
    {
     "name": "stdout",
     "output_type": "stream",
     "text": [
      "--------------------------------------------------\n",
      "Seed 2\n"
     ]
    },
    {
     "data": {
      "application/vnd.jupyter.widget-view+json": {
       "model_id": "3f5b80f88e2846acb9b88bff9aa2e533",
       "version_major": 2,
       "version_minor": 0
      },
      "text/plain": [
       "  0%|          | 0/10 [00:00<?, ?it/s]"
      ]
     },
     "metadata": {},
     "output_type": "display_data"
    },
    {
     "data": {
      "application/vnd.jupyter.widget-view+json": {
       "model_id": "656d66ec8c6e4c3ca3986878f0cf742f",
       "version_major": 2,
       "version_minor": 0
      },
      "text/plain": [
       "  0%|          | 0/10 [00:00<?, ?it/s]"
      ]
     },
     "metadata": {},
     "output_type": "display_data"
    },
    {
     "name": "stdout",
     "output_type": "stream",
     "text": [
      "--------------------------------------------------\n",
      "Seed 3\n"
     ]
    },
    {
     "data": {
      "application/vnd.jupyter.widget-view+json": {
       "model_id": "d6d49b28b17d45b5ba418a100601589c",
       "version_major": 2,
       "version_minor": 0
      },
      "text/plain": [
       "  0%|          | 0/10 [00:00<?, ?it/s]"
      ]
     },
     "metadata": {},
     "output_type": "display_data"
    },
    {
     "data": {
      "application/vnd.jupyter.widget-view+json": {
       "model_id": "4f6e1874a8de4b85b3b063749310233d",
       "version_major": 2,
       "version_minor": 0
      },
      "text/plain": [
       "  0%|          | 0/10 [00:00<?, ?it/s]"
      ]
     },
     "metadata": {},
     "output_type": "display_data"
    },
    {
     "data": {
      "application/vnd.jupyter.widget-view+json": {
       "model_id": "e7ff52c4870847caab172083900c00de",
       "version_major": 2,
       "version_minor": 0
      },
      "text/plain": [
       "  0%|          | 0/2 [00:00<?, ?it/s]"
      ]
     },
     "metadata": {},
     "output_type": "display_data"
    },
    {
     "name": "stdout",
     "output_type": "stream",
     "text": [
      "--------------------------------------------------\n",
      "Seed 4\n"
     ]
    },
    {
     "data": {
      "application/vnd.jupyter.widget-view+json": {
       "model_id": "f31d21392f9142cf8d69383679e0edad",
       "version_major": 2,
       "version_minor": 0
      },
      "text/plain": [
       "  0%|          | 0/10 [00:00<?, ?it/s]"
      ]
     },
     "metadata": {},
     "output_type": "display_data"
    },
    {
     "data": {
      "application/vnd.jupyter.widget-view+json": {
       "model_id": "b7ffe960e0a342f585c0601867c09905",
       "version_major": 2,
       "version_minor": 0
      },
      "text/plain": [
       "  0%|          | 0/8 [00:00<?, ?it/s]"
      ]
     },
     "metadata": {},
     "output_type": "display_data"
    },
    {
     "data": {
      "application/vnd.jupyter.widget-view+json": {
       "model_id": "844288fc5e0b454c94679e432dba8736",
       "version_major": 2,
       "version_minor": 0
      },
      "text/plain": [
       "  0%|          | 0/2 [00:00<?, ?it/s]"
      ]
     },
     "metadata": {},
     "output_type": "display_data"
    },
    {
     "name": "stdout",
     "output_type": "stream",
     "text": [
      "--------------------------------------------------\n",
      "Average time: 118.93 seconds\n",
      "Found features: [212, 246, 228, 188, 216]\n",
      "Found 214.0 of 250 informative features\n",
      "4.0 of 218.0 outputted powershap features are noise features\n",
      "====================================================================================================\n",
      "Amount of samples = 5000\n",
      "Total used features = 500\n",
      "Informative features: 450 (90%)\n",
      "\n",
      "Seed 0\n"
     ]
    },
    {
     "data": {
      "application/vnd.jupyter.widget-view+json": {
       "model_id": "b0cbcb6e679d459a8e859845cdbe34d0",
       "version_major": 2,
       "version_minor": 0
      },
      "text/plain": [
       "  0%|          | 0/10 [00:00<?, ?it/s]"
      ]
     },
     "metadata": {},
     "output_type": "display_data"
    },
    {
     "data": {
      "application/vnd.jupyter.widget-view+json": {
       "model_id": "c998ea773a474110872a991634cf9947",
       "version_major": 2,
       "version_minor": 0
      },
      "text/plain": [
       "  0%|          | 0/10 [00:00<?, ?it/s]"
      ]
     },
     "metadata": {},
     "output_type": "display_data"
    },
    {
     "name": "stdout",
     "output_type": "stream",
     "text": [
      "--------------------------------------------------\n",
      "Seed 1\n"
     ]
    },
    {
     "data": {
      "application/vnd.jupyter.widget-view+json": {
       "model_id": "1cd811e1d3814caaa4b97fc5fbfcf017",
       "version_major": 2,
       "version_minor": 0
      },
      "text/plain": [
       "  0%|          | 0/10 [00:00<?, ?it/s]"
      ]
     },
     "metadata": {},
     "output_type": "display_data"
    },
    {
     "data": {
      "application/vnd.jupyter.widget-view+json": {
       "model_id": "cbdcaaf19aec484e92e5bb9ea59e9f88",
       "version_major": 2,
       "version_minor": 0
      },
      "text/plain": [
       "  0%|          | 0/10 [00:00<?, ?it/s]"
      ]
     },
     "metadata": {},
     "output_type": "display_data"
    },
    {
     "name": "stdout",
     "output_type": "stream",
     "text": [
      "--------------------------------------------------\n",
      "Seed 2\n"
     ]
    },
    {
     "data": {
      "application/vnd.jupyter.widget-view+json": {
       "model_id": "e82a4f59337043f59fccccddffae4e94",
       "version_major": 2,
       "version_minor": 0
      },
      "text/plain": [
       "  0%|          | 0/10 [00:00<?, ?it/s]"
      ]
     },
     "metadata": {},
     "output_type": "display_data"
    },
    {
     "data": {
      "application/vnd.jupyter.widget-view+json": {
       "model_id": "e32d74fe203342f8846326885f83a251",
       "version_major": 2,
       "version_minor": 0
      },
      "text/plain": [
       "  0%|          | 0/10 [00:00<?, ?it/s]"
      ]
     },
     "metadata": {},
     "output_type": "display_data"
    },
    {
     "name": "stdout",
     "output_type": "stream",
     "text": [
      "--------------------------------------------------\n",
      "Seed 3\n"
     ]
    },
    {
     "data": {
      "application/vnd.jupyter.widget-view+json": {
       "model_id": "a2c467cb5fbe4a9a8321467fc42395dd",
       "version_major": 2,
       "version_minor": 0
      },
      "text/plain": [
       "  0%|          | 0/10 [00:00<?, ?it/s]"
      ]
     },
     "metadata": {},
     "output_type": "display_data"
    },
    {
     "data": {
      "application/vnd.jupyter.widget-view+json": {
       "model_id": "d0438cc0b1c14badbbedcf73eea3270b",
       "version_major": 2,
       "version_minor": 0
      },
      "text/plain": [
       "  0%|          | 0/10 [00:00<?, ?it/s]"
      ]
     },
     "metadata": {},
     "output_type": "display_data"
    },
    {
     "name": "stdout",
     "output_type": "stream",
     "text": [
      "--------------------------------------------------\n",
      "Seed 4\n"
     ]
    },
    {
     "data": {
      "application/vnd.jupyter.widget-view+json": {
       "model_id": "a4508c8a91474bdd9f722dd7ea279b45",
       "version_major": 2,
       "version_minor": 0
      },
      "text/plain": [
       "  0%|          | 0/10 [00:00<?, ?it/s]"
      ]
     },
     "metadata": {},
     "output_type": "display_data"
    },
    {
     "data": {
      "application/vnd.jupyter.widget-view+json": {
       "model_id": "c85754614e984987bc667f3ea4a03a9d",
       "version_major": 2,
       "version_minor": 0
      },
      "text/plain": [
       "  0%|          | 0/10 [00:00<?, ?it/s]"
      ]
     },
     "metadata": {},
     "output_type": "display_data"
    },
    {
     "name": "stdout",
     "output_type": "stream",
     "text": [
      "--------------------------------------------------\n",
      "Average time: 129.88 seconds\n",
      "Found features: [263, 242, 263, 269, 267]\n",
      "Found 260.4 of 450 informative features\n",
      "0.4 of 260.8 outputted powershap features are noise features\n",
      "====================================================================================================\n",
      "5000: \n",
      "20: \n",
      "[2.5  2.26 4.88 2.23 2.54]s - [2.47 2.87 2.77 2.39 2.68]s - [3.65 3.4  4.32 3.46 3.84]s - [9.82 4.96 4.33 4.41 5.81]s - [7.22 6.33 6.15 6.06 6.68]s | [1, 1, 1, 1, 1] ([0, 0, 0, 0, 0]) / 1 | [2, 2, 2, 2, 2] ([1, 0, 1, 0, 0]) / 2 | [6, 6, 6, 6, 6] ([0, 0, 0, 0, 0]) / 6 | [10, 10, 10, 10, 10] ([1, 0, 0, 0, 0]) / 10 | [18, 18, 18, 18, 18] ([0, 0, 0, 0, 0]) / 18 | \n",
      "100: \n",
      "[9.93 4.65 5.89 4.83 9.23]s - [10.34 11.88  9.93  9.59 15.83]s - [14.18 24.82 12.89 13.7  26.82]s - [14.09 14.06 16.61 20.45 24.35]s - [16.76 16.11 30.02 16.49 16.15]s | [3, 3, 3, 3, 3] ([0, 0, 1, 1, 2]) / 3 | [10, 10, 10, 10, 10] ([5, 2, 2, 1, 6]) / 10 | [33, 33, 33, 33, 33] ([1, 1, 3, 3, 5]) / 33 | [50, 50, 50, 50, 50] ([2, 0, 4, 0, 5]) / 50 | [90, 89, 90, 90, 90] ([0, 1, 1, 0, 1]) / 90 | \n",
      "250: \n",
      "[26.29 20.9  12.17 10.54 15.29]s - [33.03 19.93 21.16 21.86 28.7 ]s - [55.75 54.   33.28 41.87 42.11]s - [47.08 51.04 32.46 54.65 64.99]s - [87.72 48.9  44.64 72.52 60.6 ]s | [7, 7, 7, 7, 7] ([3, 0, 1, 1, 5]) / 7 | [25, 25, 25, 25, 25] ([6, 0, 5, 3, 2]) / 25 | [80, 82, 82, 82, 81] ([0, 4, 6, 6, 2]) / 82 | [123, 120, 125, 123, 121] ([2, 1, 4, 4, 2]) / 125 | [174, 221, 220, 197, 196] ([0, 2, 2, 0, 0]) / 225 | \n",
      "500: \n",
      "[59.8  50.39 53.28 30.68 51.3 ]s - [57.45 90.56 95.82 76.04 56.48]s - [ 94.81 110.    87.63 119.3  128.58]s - [122.09  81.43 126.89 142.03 122.21]s - [130.32 130.16 128.67 131.04 129.23]s | [15, 15, 15, 15, 15] ([16, 3, 10, 3, 4]) / 15 | [50, 50, 50, 50, 50] ([1, 2, 6, 9, 2]) / 50 | [159, 158, 158, 157, 137] ([4, 4, 6, 2, 4]) / 165 | [210, 234, 226, 186, 214] ([2, 12, 2, 2, 2]) / 250 | [262, 242, 262, 269, 267] ([1, 0, 1, 0, 0]) / 450 | \n",
      "====================================================================================================\n",
      "Amount of samples = 10000\n",
      "Total used features = 20\n",
      "Informative features: 1 (3%)\n",
      "\n",
      "Seed 0\n"
     ]
    },
    {
     "data": {
      "application/vnd.jupyter.widget-view+json": {
       "model_id": "660591f79d2045c88f7b76950fe466e8",
       "version_major": 2,
       "version_minor": 0
      },
      "text/plain": [
       "  0%|          | 0/10 [00:00<?, ?it/s]"
      ]
     },
     "metadata": {},
     "output_type": "display_data"
    },
    {
     "name": "stdout",
     "output_type": "stream",
     "text": [
      "--------------------------------------------------\n",
      "Seed 1\n"
     ]
    },
    {
     "data": {
      "application/vnd.jupyter.widget-view+json": {
       "model_id": "597b998be5ff40b2997db08a4333a39f",
       "version_major": 2,
       "version_minor": 0
      },
      "text/plain": [
       "  0%|          | 0/10 [00:00<?, ?it/s]"
      ]
     },
     "metadata": {},
     "output_type": "display_data"
    },
    {
     "name": "stdout",
     "output_type": "stream",
     "text": [
      "--------------------------------------------------\n",
      "Seed 2\n"
     ]
    },
    {
     "data": {
      "application/vnd.jupyter.widget-view+json": {
       "model_id": "e093254dd15e4ae39006b9e87c91ef3f",
       "version_major": 2,
       "version_minor": 0
      },
      "text/plain": [
       "  0%|          | 0/10 [00:00<?, ?it/s]"
      ]
     },
     "metadata": {},
     "output_type": "display_data"
    },
    {
     "name": "stdout",
     "output_type": "stream",
     "text": [
      "--------------------------------------------------\n",
      "Seed 3\n"
     ]
    },
    {
     "data": {
      "application/vnd.jupyter.widget-view+json": {
       "model_id": "10520da3ee414f1abfd4e7a1c965f230",
       "version_major": 2,
       "version_minor": 0
      },
      "text/plain": [
       "  0%|          | 0/10 [00:00<?, ?it/s]"
      ]
     },
     "metadata": {},
     "output_type": "display_data"
    },
    {
     "name": "stdout",
     "output_type": "stream",
     "text": [
      "--------------------------------------------------\n",
      "Seed 4\n"
     ]
    },
    {
     "data": {
      "application/vnd.jupyter.widget-view+json": {
       "model_id": "86a10a77d5104b9a80e11bf3bbb1ebbd",
       "version_major": 2,
       "version_minor": 0
      },
      "text/plain": [
       "  0%|          | 0/10 [00:00<?, ?it/s]"
      ]
     },
     "metadata": {},
     "output_type": "display_data"
    },
    {
     "name": "stdout",
     "output_type": "stream",
     "text": [
      "--------------------------------------------------\n",
      "Average time: 3.53 seconds\n",
      "Found features: [1, 1, 1, 1, 1]\n",
      "Found 1.0 of 1 informative features\n",
      "0.0 of 1.0 outputted powershap features are noise features\n",
      "====================================================================================================\n",
      "Amount of samples = 10000\n",
      "Total used features = 20\n",
      "Informative features: 2 (10%)\n",
      "\n",
      "Seed 0\n"
     ]
    },
    {
     "data": {
      "application/vnd.jupyter.widget-view+json": {
       "model_id": "017f685a793a4b6982f57a4c6865bb11",
       "version_major": 2,
       "version_minor": 0
      },
      "text/plain": [
       "  0%|          | 0/10 [00:00<?, ?it/s]"
      ]
     },
     "metadata": {},
     "output_type": "display_data"
    },
    {
     "name": "stdout",
     "output_type": "stream",
     "text": [
      "--------------------------------------------------\n",
      "Seed 1\n"
     ]
    },
    {
     "data": {
      "application/vnd.jupyter.widget-view+json": {
       "model_id": "08c7db4c259b413eb052d6d8bb9c17fa",
       "version_major": 2,
       "version_minor": 0
      },
      "text/plain": [
       "  0%|          | 0/10 [00:00<?, ?it/s]"
      ]
     },
     "metadata": {},
     "output_type": "display_data"
    },
    {
     "name": "stdout",
     "output_type": "stream",
     "text": [
      "--------------------------------------------------\n",
      "Seed 2\n"
     ]
    },
    {
     "data": {
      "application/vnd.jupyter.widget-view+json": {
       "model_id": "337c717301fb41d2b40c7762ea74090d",
       "version_major": 2,
       "version_minor": 0
      },
      "text/plain": [
       "  0%|          | 0/10 [00:00<?, ?it/s]"
      ]
     },
     "metadata": {},
     "output_type": "display_data"
    },
    {
     "name": "stdout",
     "output_type": "stream",
     "text": [
      "--------------------------------------------------\n",
      "Seed 3\n"
     ]
    },
    {
     "data": {
      "application/vnd.jupyter.widget-view+json": {
       "model_id": "7409ab4a028d410a9f662445e28ccb03",
       "version_major": 2,
       "version_minor": 0
      },
      "text/plain": [
       "  0%|          | 0/10 [00:00<?, ?it/s]"
      ]
     },
     "metadata": {},
     "output_type": "display_data"
    },
    {
     "data": {
      "application/vnd.jupyter.widget-view+json": {
       "model_id": "8c121e97041146e39d051f6885644c3c",
       "version_major": 2,
       "version_minor": 0
      },
      "text/plain": [
       "  0%|          | 0/8 [00:00<?, ?it/s]"
      ]
     },
     "metadata": {},
     "output_type": "display_data"
    },
    {
     "name": "stdout",
     "output_type": "stream",
     "text": [
      "--------------------------------------------------\n",
      "Seed 4\n"
     ]
    },
    {
     "data": {
      "application/vnd.jupyter.widget-view+json": {
       "model_id": "fbdb6fae9e4e47b28f0d67dbc1472402",
       "version_major": 2,
       "version_minor": 0
      },
      "text/plain": [
       "  0%|          | 0/10 [00:00<?, ?it/s]"
      ]
     },
     "metadata": {},
     "output_type": "display_data"
    },
    {
     "name": "stdout",
     "output_type": "stream",
     "text": [
      "--------------------------------------------------\n",
      "Average time: 4.56 seconds\n",
      "Found features: [2, 2, 2, 3, 2]\n",
      "Found 2.0 of 2 informative features\n",
      "0.2 of 2.2 outputted powershap features are noise features\n",
      "====================================================================================================\n",
      "Amount of samples = 10000\n",
      "Total used features = 20\n",
      "Informative features: 6 (33%)\n",
      "\n",
      "Seed 0\n"
     ]
    },
    {
     "data": {
      "application/vnd.jupyter.widget-view+json": {
       "model_id": "a6c536f8238d421593fa15b60dfcb545",
       "version_major": 2,
       "version_minor": 0
      },
      "text/plain": [
       "  0%|          | 0/10 [00:00<?, ?it/s]"
      ]
     },
     "metadata": {},
     "output_type": "display_data"
    },
    {
     "name": "stdout",
     "output_type": "stream",
     "text": [
      "--------------------------------------------------\n",
      "Seed 1\n"
     ]
    },
    {
     "data": {
      "application/vnd.jupyter.widget-view+json": {
       "model_id": "1eb1575f984742fca3a375b6f897944a",
       "version_major": 2,
       "version_minor": 0
      },
      "text/plain": [
       "  0%|          | 0/10 [00:00<?, ?it/s]"
      ]
     },
     "metadata": {},
     "output_type": "display_data"
    },
    {
     "name": "stdout",
     "output_type": "stream",
     "text": [
      "--------------------------------------------------\n",
      "Seed 2\n"
     ]
    },
    {
     "data": {
      "application/vnd.jupyter.widget-view+json": {
       "model_id": "ccb8de4ac25b4666aa79d53dd8cb02ab",
       "version_major": 2,
       "version_minor": 0
      },
      "text/plain": [
       "  0%|          | 0/10 [00:00<?, ?it/s]"
      ]
     },
     "metadata": {},
     "output_type": "display_data"
    },
    {
     "data": {
      "application/vnd.jupyter.widget-view+json": {
       "model_id": "ef28fa281f0f473f8514507e2eb865cd",
       "version_major": 2,
       "version_minor": 0
      },
      "text/plain": [
       "  0%|          | 0/6 [00:00<?, ?it/s]"
      ]
     },
     "metadata": {},
     "output_type": "display_data"
    },
    {
     "name": "stdout",
     "output_type": "stream",
     "text": [
      "--------------------------------------------------\n",
      "Seed 3\n"
     ]
    },
    {
     "data": {
      "application/vnd.jupyter.widget-view+json": {
       "model_id": "b3543434834646259d5dfd5a4c789746",
       "version_major": 2,
       "version_minor": 0
      },
      "text/plain": [
       "  0%|          | 0/10 [00:00<?, ?it/s]"
      ]
     },
     "metadata": {},
     "output_type": "display_data"
    },
    {
     "name": "stdout",
     "output_type": "stream",
     "text": [
      "--------------------------------------------------\n",
      "Seed 4\n"
     ]
    },
    {
     "data": {
      "application/vnd.jupyter.widget-view+json": {
       "model_id": "9f9d5e359f1d40be9db7b85dfc461390",
       "version_major": 2,
       "version_minor": 0
      },
      "text/plain": [
       "  0%|          | 0/10 [00:00<?, ?it/s]"
      ]
     },
     "metadata": {},
     "output_type": "display_data"
    },
    {
     "name": "stdout",
     "output_type": "stream",
     "text": [
      "--------------------------------------------------\n",
      "Average time: 7.55 seconds\n",
      "Found features: [6, 6, 6, 7, 6]\n",
      "Found 6.0 of 6 informative features\n",
      "0.2 of 6.2 outputted powershap features are noise features\n",
      "====================================================================================================\n",
      "Amount of samples = 10000\n",
      "Total used features = 20\n",
      "Informative features: 10 (50%)\n",
      "\n",
      "Seed 0\n"
     ]
    },
    {
     "data": {
      "application/vnd.jupyter.widget-view+json": {
       "model_id": "5d2486776ad74bc7955861689a9b3272",
       "version_major": 2,
       "version_minor": 0
      },
      "text/plain": [
       "  0%|          | 0/10 [00:00<?, ?it/s]"
      ]
     },
     "metadata": {},
     "output_type": "display_data"
    },
    {
     "data": {
      "application/vnd.jupyter.widget-view+json": {
       "model_id": "de589258c8dc4631885a1e842bf19630",
       "version_major": 2,
       "version_minor": 0
      },
      "text/plain": [
       "  0%|          | 0/3 [00:00<?, ?it/s]"
      ]
     },
     "metadata": {},
     "output_type": "display_data"
    },
    {
     "name": "stdout",
     "output_type": "stream",
     "text": [
      "--------------------------------------------------\n",
      "Seed 1\n"
     ]
    },
    {
     "data": {
      "application/vnd.jupyter.widget-view+json": {
       "model_id": "34df0c31840b4f18bbaa48f70778c103",
       "version_major": 2,
       "version_minor": 0
      },
      "text/plain": [
       "  0%|          | 0/10 [00:00<?, ?it/s]"
      ]
     },
     "metadata": {},
     "output_type": "display_data"
    },
    {
     "name": "stdout",
     "output_type": "stream",
     "text": [
      "--------------------------------------------------\n",
      "Seed 2\n"
     ]
    },
    {
     "data": {
      "application/vnd.jupyter.widget-view+json": {
       "model_id": "e82e2bcefee046e1aacb2aa9b1884eb4",
       "version_major": 2,
       "version_minor": 0
      },
      "text/plain": [
       "  0%|          | 0/10 [00:00<?, ?it/s]"
      ]
     },
     "metadata": {},
     "output_type": "display_data"
    },
    {
     "name": "stdout",
     "output_type": "stream",
     "text": [
      "--------------------------------------------------\n",
      "Seed 3\n"
     ]
    },
    {
     "data": {
      "application/vnd.jupyter.widget-view+json": {
       "model_id": "70d5097fee6a4683bb8a88dcfc8a3db1",
       "version_major": 2,
       "version_minor": 0
      },
      "text/plain": [
       "  0%|          | 0/10 [00:00<?, ?it/s]"
      ]
     },
     "metadata": {},
     "output_type": "display_data"
    },
    {
     "name": "stdout",
     "output_type": "stream",
     "text": [
      "--------------------------------------------------\n",
      "Seed 4\n"
     ]
    },
    {
     "data": {
      "application/vnd.jupyter.widget-view+json": {
       "model_id": "f16b86c0778e48eda15d4b84f5099e92",
       "version_major": 2,
       "version_minor": 0
      },
      "text/plain": [
       "  0%|          | 0/10 [00:00<?, ?it/s]"
      ]
     },
     "metadata": {},
     "output_type": "display_data"
    },
    {
     "name": "stdout",
     "output_type": "stream",
     "text": [
      "--------------------------------------------------\n",
      "Average time: 9.14 seconds\n",
      "Found features: [10, 10, 10, 11, 10]\n",
      "Found 10.0 of 10 informative features\n",
      "0.2 of 10.2 outputted powershap features are noise features\n",
      "====================================================================================================\n",
      "Amount of samples = 10000\n",
      "Total used features = 20\n",
      "Informative features: 18 (90%)\n",
      "\n",
      "Seed 0\n"
     ]
    },
    {
     "data": {
      "application/vnd.jupyter.widget-view+json": {
       "model_id": "3671eb6738024e10ac469c6701ed5515",
       "version_major": 2,
       "version_minor": 0
      },
      "text/plain": [
       "  0%|          | 0/10 [00:00<?, ?it/s]"
      ]
     },
     "metadata": {},
     "output_type": "display_data"
    },
    {
     "name": "stdout",
     "output_type": "stream",
     "text": [
      "--------------------------------------------------\n",
      "Seed 1\n"
     ]
    },
    {
     "data": {
      "application/vnd.jupyter.widget-view+json": {
       "model_id": "f44031670f4445948af5ed6ae8319591",
       "version_major": 2,
       "version_minor": 0
      },
      "text/plain": [
       "  0%|          | 0/10 [00:00<?, ?it/s]"
      ]
     },
     "metadata": {},
     "output_type": "display_data"
    },
    {
     "name": "stdout",
     "output_type": "stream",
     "text": [
      "--------------------------------------------------\n",
      "Seed 2\n"
     ]
    },
    {
     "data": {
      "application/vnd.jupyter.widget-view+json": {
       "model_id": "8975ff1a27b344bf82ad477d5a06eeb3",
       "version_major": 2,
       "version_minor": 0
      },
      "text/plain": [
       "  0%|          | 0/10 [00:00<?, ?it/s]"
      ]
     },
     "metadata": {},
     "output_type": "display_data"
    },
    {
     "name": "stdout",
     "output_type": "stream",
     "text": [
      "--------------------------------------------------\n",
      "Seed 3\n"
     ]
    },
    {
     "data": {
      "application/vnd.jupyter.widget-view+json": {
       "model_id": "4ef030eab8b14b868a4e9e0389ac5fe0",
       "version_major": 2,
       "version_minor": 0
      },
      "text/plain": [
       "  0%|          | 0/10 [00:00<?, ?it/s]"
      ]
     },
     "metadata": {},
     "output_type": "display_data"
    },
    {
     "name": "stdout",
     "output_type": "stream",
     "text": [
      "--------------------------------------------------\n",
      "Seed 4\n"
     ]
    },
    {
     "data": {
      "application/vnd.jupyter.widget-view+json": {
       "model_id": "b74e0422015a4f4caa192764f08c0b9b",
       "version_major": 2,
       "version_minor": 0
      },
      "text/plain": [
       "  0%|          | 0/10 [00:00<?, ?it/s]"
      ]
     },
     "metadata": {},
     "output_type": "display_data"
    },
    {
     "name": "stdout",
     "output_type": "stream",
     "text": [
      "--------------------------------------------------\n",
      "Average time: 11.81 seconds\n",
      "Found features: [18, 19, 18, 18, 19]\n",
      "Found 18.0 of 18 informative features\n",
      "0.4 of 18.4 outputted powershap features are noise features\n",
      "====================================================================================================\n",
      "5000: \n",
      "20: \n",
      "[2.5  2.26 4.88 2.23 2.54]s - [2.47 2.87 2.77 2.39 2.68]s - [3.65 3.4  4.32 3.46 3.84]s - [9.82 4.96 4.33 4.41 5.81]s - [7.22 6.33 6.15 6.06 6.68]s | [1, 1, 1, 1, 1] ([0, 0, 0, 0, 0]) / 1 | [2, 2, 2, 2, 2] ([1, 0, 1, 0, 0]) / 2 | [6, 6, 6, 6, 6] ([0, 0, 0, 0, 0]) / 6 | [10, 10, 10, 10, 10] ([1, 0, 0, 0, 0]) / 10 | [18, 18, 18, 18, 18] ([0, 0, 0, 0, 0]) / 18 | \n",
      "100: \n",
      "[9.93 4.65 5.89 4.83 9.23]s - [10.34 11.88  9.93  9.59 15.83]s - [14.18 24.82 12.89 13.7  26.82]s - [14.09 14.06 16.61 20.45 24.35]s - [16.76 16.11 30.02 16.49 16.15]s | [3, 3, 3, 3, 3] ([0, 0, 1, 1, 2]) / 3 | [10, 10, 10, 10, 10] ([5, 2, 2, 1, 6]) / 10 | [33, 33, 33, 33, 33] ([1, 1, 3, 3, 5]) / 33 | [50, 50, 50, 50, 50] ([2, 0, 4, 0, 5]) / 50 | [90, 89, 90, 90, 90] ([0, 1, 1, 0, 1]) / 90 | \n",
      "250: \n",
      "[26.29 20.9  12.17 10.54 15.29]s - [33.03 19.93 21.16 21.86 28.7 ]s - [55.75 54.   33.28 41.87 42.11]s - [47.08 51.04 32.46 54.65 64.99]s - [87.72 48.9  44.64 72.52 60.6 ]s | [7, 7, 7, 7, 7] ([3, 0, 1, 1, 5]) / 7 | [25, 25, 25, 25, 25] ([6, 0, 5, 3, 2]) / 25 | [80, 82, 82, 82, 81] ([0, 4, 6, 6, 2]) / 82 | [123, 120, 125, 123, 121] ([2, 1, 4, 4, 2]) / 125 | [174, 221, 220, 197, 196] ([0, 2, 2, 0, 0]) / 225 | \n",
      "500: \n",
      "[59.8  50.39 53.28 30.68 51.3 ]s - [57.45 90.56 95.82 76.04 56.48]s - [ 94.81 110.    87.63 119.3  128.58]s - [122.09  81.43 126.89 142.03 122.21]s - [130.32 130.16 128.67 131.04 129.23]s | [15, 15, 15, 15, 15] ([16, 3, 10, 3, 4]) / 15 | [50, 50, 50, 50, 50] ([1, 2, 6, 9, 2]) / 50 | [159, 158, 158, 157, 137] ([4, 4, 6, 2, 4]) / 165 | [210, 234, 226, 186, 214] ([2, 12, 2, 2, 2]) / 250 | [262, 242, 262, 269, 267] ([1, 0, 1, 0, 0]) / 450 | \n",
      "10000: \n",
      "20: \n",
      "[3.54 3.89 3.77 3.13 3.31]s - [3.84 3.81 4.01 7.32 3.81]s - [ 7.33  7.13 11.95  5.61  5.71]s - [13.51  8.84  7.39  7.14  8.84]s - [11.17 12.25 10.79 11.8  13.02]s | [1, 1, 1, 1, 1] ([0, 0, 0, 0, 0]) / 1 | [2, 2, 2, 2, 2] ([0, 0, 0, 1, 0]) / 2 | [6, 6, 6, 6, 6] ([0, 0, 0, 1, 0]) / 6 | [10, 10, 10, 10, 10] ([0, 0, 0, 1, 0]) / 10 | [18, 18, 18, 18, 18] ([0, 1, 0, 0, 1]) / 18 | \n",
      "====================================================================================================\n",
      "Amount of samples = 10000\n",
      "Total used features = 100\n",
      "Informative features: 3 (3%)\n",
      "\n",
      "Seed 0\n"
     ]
    },
    {
     "data": {
      "application/vnd.jupyter.widget-view+json": {
       "model_id": "0f080e9472104b73a3a37dd0a19e65ec",
       "version_major": 2,
       "version_minor": 0
      },
      "text/plain": [
       "  0%|          | 0/10 [00:00<?, ?it/s]"
      ]
     },
     "metadata": {},
     "output_type": "display_data"
    },
    {
     "data": {
      "application/vnd.jupyter.widget-view+json": {
       "model_id": "cd9674a690344b47839d7d5d007987d7",
       "version_major": 2,
       "version_minor": 0
      },
      "text/plain": [
       "  0%|          | 0/6 [00:00<?, ?it/s]"
      ]
     },
     "metadata": {},
     "output_type": "display_data"
    },
    {
     "name": "stdout",
     "output_type": "stream",
     "text": [
      "--------------------------------------------------\n",
      "Seed 1\n"
     ]
    },
    {
     "data": {
      "application/vnd.jupyter.widget-view+json": {
       "model_id": "b00b66f73bf34b63bf8ac07f487ac7ec",
       "version_major": 2,
       "version_minor": 0
      },
      "text/plain": [
       "  0%|          | 0/10 [00:00<?, ?it/s]"
      ]
     },
     "metadata": {},
     "output_type": "display_data"
    },
    {
     "data": {
      "application/vnd.jupyter.widget-view+json": {
       "model_id": "0bb73a0c8b904d01990ba62753c2ea2e",
       "version_major": 2,
       "version_minor": 0
      },
      "text/plain": [
       "  0%|          | 0/10 [00:00<?, ?it/s]"
      ]
     },
     "metadata": {},
     "output_type": "display_data"
    },
    {
     "name": "stdout",
     "output_type": "stream",
     "text": [
      "--------------------------------------------------\n",
      "Seed 2\n"
     ]
    },
    {
     "data": {
      "application/vnd.jupyter.widget-view+json": {
       "model_id": "89951b55b8a148c0868f189696617511",
       "version_major": 2,
       "version_minor": 0
      },
      "text/plain": [
       "  0%|          | 0/10 [00:00<?, ?it/s]"
      ]
     },
     "metadata": {},
     "output_type": "display_data"
    },
    {
     "data": {
      "application/vnd.jupyter.widget-view+json": {
       "model_id": "2cbe390dbdde415788fb918be4107d34",
       "version_major": 2,
       "version_minor": 0
      },
      "text/plain": [
       "  0%|          | 0/8 [00:00<?, ?it/s]"
      ]
     },
     "metadata": {},
     "output_type": "display_data"
    },
    {
     "name": "stdout",
     "output_type": "stream",
     "text": [
      "--------------------------------------------------\n",
      "Seed 3\n"
     ]
    },
    {
     "data": {
      "application/vnd.jupyter.widget-view+json": {
       "model_id": "ae1f2b3c8aa94a0799720740ec6bfc8e",
       "version_major": 2,
       "version_minor": 0
      },
      "text/plain": [
       "  0%|          | 0/10 [00:00<?, ?it/s]"
      ]
     },
     "metadata": {},
     "output_type": "display_data"
    },
    {
     "name": "stdout",
     "output_type": "stream",
     "text": [
      "--------------------------------------------------\n",
      "Seed 4\n"
     ]
    },
    {
     "data": {
      "application/vnd.jupyter.widget-view+json": {
       "model_id": "dc948b1e290b483aae1c7a2d6412cc99",
       "version_major": 2,
       "version_minor": 0
      },
      "text/plain": [
       "  0%|          | 0/10 [00:00<?, ?it/s]"
      ]
     },
     "metadata": {},
     "output_type": "display_data"
    },
    {
     "name": "stdout",
     "output_type": "stream",
     "text": [
      "--------------------------------------------------\n",
      "Average time: 14.3 seconds\n",
      "Found features: [4, 3, 3, 3, 3]\n",
      "Found 3.0 of 3 informative features\n",
      "0.2 of 3.2 outputted powershap features are noise features\n",
      "====================================================================================================\n",
      "Amount of samples = 10000\n",
      "Total used features = 100\n",
      "Informative features: 10 (10%)\n",
      "\n",
      "Seed 0\n"
     ]
    },
    {
     "data": {
      "application/vnd.jupyter.widget-view+json": {
       "model_id": "170f160426074079afeeeafdfa280f27",
       "version_major": 2,
       "version_minor": 0
      },
      "text/plain": [
       "  0%|          | 0/10 [00:00<?, ?it/s]"
      ]
     },
     "metadata": {},
     "output_type": "display_data"
    },
    {
     "name": "stdout",
     "output_type": "stream",
     "text": [
      "--------------------------------------------------\n",
      "Seed 1\n"
     ]
    },
    {
     "data": {
      "application/vnd.jupyter.widget-view+json": {
       "model_id": "04365070d8844b46a7ac29acfe4c0e73",
       "version_major": 2,
       "version_minor": 0
      },
      "text/plain": [
       "  0%|          | 0/10 [00:00<?, ?it/s]"
      ]
     },
     "metadata": {},
     "output_type": "display_data"
    },
    {
     "name": "stdout",
     "output_type": "stream",
     "text": [
      "--------------------------------------------------\n",
      "Seed 2\n"
     ]
    },
    {
     "data": {
      "application/vnd.jupyter.widget-view+json": {
       "model_id": "1a2360393b4e48a39dd491e847f77932",
       "version_major": 2,
       "version_minor": 0
      },
      "text/plain": [
       "  0%|          | 0/10 [00:00<?, ?it/s]"
      ]
     },
     "metadata": {},
     "output_type": "display_data"
    },
    {
     "name": "stdout",
     "output_type": "stream",
     "text": [
      "--------------------------------------------------\n",
      "Seed 3\n"
     ]
    },
    {
     "data": {
      "application/vnd.jupyter.widget-view+json": {
       "model_id": "7f9aba72c2654cbca9120dd25e85f264",
       "version_major": 2,
       "version_minor": 0
      },
      "text/plain": [
       "  0%|          | 0/10 [00:00<?, ?it/s]"
      ]
     },
     "metadata": {},
     "output_type": "display_data"
    },
    {
     "data": {
      "application/vnd.jupyter.widget-view+json": {
       "model_id": "ed5d774912074483b217b8c04ade7351",
       "version_major": 2,
       "version_minor": 0
      },
      "text/plain": [
       "  0%|          | 0/6 [00:00<?, ?it/s]"
      ]
     },
     "metadata": {},
     "output_type": "display_data"
    },
    {
     "name": "stdout",
     "output_type": "stream",
     "text": [
      "--------------------------------------------------\n",
      "Seed 4\n"
     ]
    },
    {
     "data": {
      "application/vnd.jupyter.widget-view+json": {
       "model_id": "7868e16125094ac48e8628d02332fb28",
       "version_major": 2,
       "version_minor": 0
      },
      "text/plain": [
       "  0%|          | 0/10 [00:00<?, ?it/s]"
      ]
     },
     "metadata": {},
     "output_type": "display_data"
    },
    {
     "data": {
      "application/vnd.jupyter.widget-view+json": {
       "model_id": "bdf0a4e437d44544ba878b6e0e73ee24",
       "version_major": 2,
       "version_minor": 0
      },
      "text/plain": [
       "  0%|          | 0/5 [00:00<?, ?it/s]"
      ]
     },
     "metadata": {},
     "output_type": "display_data"
    },
    {
     "name": "stdout",
     "output_type": "stream",
     "text": [
      "--------------------------------------------------\n",
      "Average time: 22.69 seconds\n",
      "Found features: [12, 12, 12, 10, 14]\n",
      "Found 10.0 of 10 informative features\n",
      "2.0 of 12.0 outputted powershap features are noise features\n",
      "====================================================================================================\n",
      "Amount of samples = 10000\n",
      "Total used features = 100\n",
      "Informative features: 33 (33%)\n",
      "\n",
      "Seed 0\n"
     ]
    },
    {
     "data": {
      "application/vnd.jupyter.widget-view+json": {
       "model_id": "4f7b60b3eb8a485ab2abbefc6c53ebc2",
       "version_major": 2,
       "version_minor": 0
      },
      "text/plain": [
       "  0%|          | 0/10 [00:00<?, ?it/s]"
      ]
     },
     "metadata": {},
     "output_type": "display_data"
    },
    {
     "name": "stdout",
     "output_type": "stream",
     "text": [
      "--------------------------------------------------\n",
      "Seed 1\n"
     ]
    },
    {
     "data": {
      "application/vnd.jupyter.widget-view+json": {
       "model_id": "1b9f197ae3c04b67be3bc547d6d91186",
       "version_major": 2,
       "version_minor": 0
      },
      "text/plain": [
       "  0%|          | 0/10 [00:00<?, ?it/s]"
      ]
     },
     "metadata": {},
     "output_type": "display_data"
    },
    {
     "data": {
      "application/vnd.jupyter.widget-view+json": {
       "model_id": "be9afdd202294f788bfb3908690e343c",
       "version_major": 2,
       "version_minor": 0
      },
      "text/plain": [
       "  0%|          | 0/9 [00:00<?, ?it/s]"
      ]
     },
     "metadata": {},
     "output_type": "display_data"
    },
    {
     "name": "stdout",
     "output_type": "stream",
     "text": [
      "--------------------------------------------------\n",
      "Seed 2\n"
     ]
    },
    {
     "data": {
      "application/vnd.jupyter.widget-view+json": {
       "model_id": "6bd8d66c700b4555953a47d6f73ff832",
       "version_major": 2,
       "version_minor": 0
      },
      "text/plain": [
       "  0%|          | 0/10 [00:00<?, ?it/s]"
      ]
     },
     "metadata": {},
     "output_type": "display_data"
    },
    {
     "name": "stdout",
     "output_type": "stream",
     "text": [
      "--------------------------------------------------\n",
      "Seed 3\n"
     ]
    },
    {
     "data": {
      "application/vnd.jupyter.widget-view+json": {
       "model_id": "f3633ab94aa746ff9a41c41d4363aba6",
       "version_major": 2,
       "version_minor": 0
      },
      "text/plain": [
       "  0%|          | 0/10 [00:00<?, ?it/s]"
      ]
     },
     "metadata": {},
     "output_type": "display_data"
    },
    {
     "name": "stdout",
     "output_type": "stream",
     "text": [
      "--------------------------------------------------\n",
      "Seed 4\n"
     ]
    },
    {
     "data": {
      "application/vnd.jupyter.widget-view+json": {
       "model_id": "e390e9acfb2149ba93b98b01eba15733",
       "version_major": 2,
       "version_minor": 0
      },
      "text/plain": [
       "  0%|          | 0/10 [00:00<?, ?it/s]"
      ]
     },
     "metadata": {},
     "output_type": "display_data"
    },
    {
     "data": {
      "application/vnd.jupyter.widget-view+json": {
       "model_id": "2d218f2d7b474bae90e861b887c73a08",
       "version_major": 2,
       "version_minor": 0
      },
      "text/plain": [
       "  0%|          | 0/1 [00:00<?, ?it/s]"
      ]
     },
     "metadata": {},
     "output_type": "display_data"
    },
    {
     "data": {
      "application/vnd.jupyter.widget-view+json": {
       "model_id": "8b48a53368f3454183f8e6f61f2281f3",
       "version_major": 2,
       "version_minor": 0
      },
      "text/plain": [
       "  0%|          | 0/4 [00:00<?, ?it/s]"
      ]
     },
     "metadata": {},
     "output_type": "display_data"
    },
    {
     "name": "stdout",
     "output_type": "stream",
     "text": [
      "--------------------------------------------------\n",
      "Average time: 41.63 seconds\n",
      "Found features: [33, 34, 34, 34, 35]\n",
      "Found 33.0 of 33 informative features\n",
      "1.0 of 34.0 outputted powershap features are noise features\n",
      "====================================================================================================\n",
      "Amount of samples = 10000\n",
      "Total used features = 100\n",
      "Informative features: 50 (50%)\n",
      "\n",
      "Seed 0\n"
     ]
    },
    {
     "data": {
      "application/vnd.jupyter.widget-view+json": {
       "model_id": "7820c27250b9440ca1a1062d1ba84134",
       "version_major": 2,
       "version_minor": 0
      },
      "text/plain": [
       "  0%|          | 0/10 [00:00<?, ?it/s]"
      ]
     },
     "metadata": {},
     "output_type": "display_data"
    },
    {
     "name": "stdout",
     "output_type": "stream",
     "text": [
      "--------------------------------------------------\n",
      "Seed 1\n"
     ]
    },
    {
     "data": {
      "application/vnd.jupyter.widget-view+json": {
       "model_id": "1efefa8538ff4180be07c8ca48fd7922",
       "version_major": 2,
       "version_minor": 0
      },
      "text/plain": [
       "  0%|          | 0/10 [00:00<?, ?it/s]"
      ]
     },
     "metadata": {},
     "output_type": "display_data"
    },
    {
     "data": {
      "application/vnd.jupyter.widget-view+json": {
       "model_id": "f01940fce46642b987c75d86180ee91b",
       "version_major": 2,
       "version_minor": 0
      },
      "text/plain": [
       "  0%|          | 0/2 [00:00<?, ?it/s]"
      ]
     },
     "metadata": {},
     "output_type": "display_data"
    },
    {
     "name": "stdout",
     "output_type": "stream",
     "text": [
      "--------------------------------------------------\n",
      "Seed 2\n"
     ]
    },
    {
     "data": {
      "application/vnd.jupyter.widget-view+json": {
       "model_id": "669094bea16b451eb28a5d1e0d93500f",
       "version_major": 2,
       "version_minor": 0
      },
      "text/plain": [
       "  0%|          | 0/10 [00:00<?, ?it/s]"
      ]
     },
     "metadata": {},
     "output_type": "display_data"
    },
    {
     "data": {
      "application/vnd.jupyter.widget-view+json": {
       "model_id": "d3b82a01f41d49a09f2f787eef946957",
       "version_major": 2,
       "version_minor": 0
      },
      "text/plain": [
       "  0%|          | 0/4 [00:00<?, ?it/s]"
      ]
     },
     "metadata": {},
     "output_type": "display_data"
    },
    {
     "name": "stdout",
     "output_type": "stream",
     "text": [
      "--------------------------------------------------\n",
      "Seed 3\n"
     ]
    },
    {
     "data": {
      "application/vnd.jupyter.widget-view+json": {
       "model_id": "477043ec5e294c8b9826e61feda970d3",
       "version_major": 2,
       "version_minor": 0
      },
      "text/plain": [
       "  0%|          | 0/10 [00:00<?, ?it/s]"
      ]
     },
     "metadata": {},
     "output_type": "display_data"
    },
    {
     "name": "stdout",
     "output_type": "stream",
     "text": [
      "--------------------------------------------------\n",
      "Seed 4\n"
     ]
    },
    {
     "data": {
      "application/vnd.jupyter.widget-view+json": {
       "model_id": "062fe4cc5bdf44b5b13f9714e451e59e",
       "version_major": 2,
       "version_minor": 0
      },
      "text/plain": [
       "  0%|          | 0/10 [00:00<?, ?it/s]"
      ]
     },
     "metadata": {},
     "output_type": "display_data"
    },
    {
     "name": "stdout",
     "output_type": "stream",
     "text": [
      "--------------------------------------------------\n",
      "Average time: 38.89 seconds\n",
      "Found features: [52, 51, 52, 51, 50]\n",
      "Found 50.0 of 50 informative features\n",
      "1.2 of 51.2 outputted powershap features are noise features\n",
      "====================================================================================================\n",
      "Amount of samples = 10000\n",
      "Total used features = 100\n",
      "Informative features: 90 (90%)\n",
      "\n",
      "Seed 0\n"
     ]
    },
    {
     "data": {
      "application/vnd.jupyter.widget-view+json": {
       "model_id": "a2d2b16631e8410588da7611e22c7a3c",
       "version_major": 2,
       "version_minor": 0
      },
      "text/plain": [
       "  0%|          | 0/10 [00:00<?, ?it/s]"
      ]
     },
     "metadata": {},
     "output_type": "display_data"
    },
    {
     "name": "stdout",
     "output_type": "stream",
     "text": [
      "--------------------------------------------------\n",
      "Seed 1\n"
     ]
    },
    {
     "data": {
      "application/vnd.jupyter.widget-view+json": {
       "model_id": "165350e321df4bc5939d8a7ab9abac42",
       "version_major": 2,
       "version_minor": 0
      },
      "text/plain": [
       "  0%|          | 0/10 [00:00<?, ?it/s]"
      ]
     },
     "metadata": {},
     "output_type": "display_data"
    },
    {
     "name": "stdout",
     "output_type": "stream",
     "text": [
      "--------------------------------------------------\n",
      "Seed 2\n"
     ]
    },
    {
     "data": {
      "application/vnd.jupyter.widget-view+json": {
       "model_id": "ae1b6a2fc7e0424d8cfe3cae9fb93842",
       "version_major": 2,
       "version_minor": 0
      },
      "text/plain": [
       "  0%|          | 0/10 [00:00<?, ?it/s]"
      ]
     },
     "metadata": {},
     "output_type": "display_data"
    },
    {
     "name": "stdout",
     "output_type": "stream",
     "text": [
      "--------------------------------------------------\n",
      "Seed 3\n"
     ]
    },
    {
     "data": {
      "application/vnd.jupyter.widget-view+json": {
       "model_id": "450872262a39457dbf536bc473ef805d",
       "version_major": 2,
       "version_minor": 0
      },
      "text/plain": [
       "  0%|          | 0/10 [00:00<?, ?it/s]"
      ]
     },
     "metadata": {},
     "output_type": "display_data"
    },
    {
     "name": "stdout",
     "output_type": "stream",
     "text": [
      "--------------------------------------------------\n",
      "Seed 4\n"
     ]
    },
    {
     "data": {
      "application/vnd.jupyter.widget-view+json": {
       "model_id": "b456abdb678944a3929c97e97a0b9270",
       "version_major": 2,
       "version_minor": 0
      },
      "text/plain": [
       "  0%|          | 0/10 [00:00<?, ?it/s]"
      ]
     },
     "metadata": {},
     "output_type": "display_data"
    },
    {
     "name": "stdout",
     "output_type": "stream",
     "text": [
      "--------------------------------------------------\n",
      "Average time: 37.1 seconds\n",
      "Found features: [90, 90, 90, 90, 90]\n",
      "Found 90.0 of 90 informative features\n",
      "0.0 of 90.0 outputted powershap features are noise features\n",
      "====================================================================================================\n",
      "5000: \n",
      "20: \n",
      "[2.5  2.26 4.88 2.23 2.54]s - [2.47 2.87 2.77 2.39 2.68]s - [3.65 3.4  4.32 3.46 3.84]s - [9.82 4.96 4.33 4.41 5.81]s - [7.22 6.33 6.15 6.06 6.68]s | [1, 1, 1, 1, 1] ([0, 0, 0, 0, 0]) / 1 | [2, 2, 2, 2, 2] ([1, 0, 1, 0, 0]) / 2 | [6, 6, 6, 6, 6] ([0, 0, 0, 0, 0]) / 6 | [10, 10, 10, 10, 10] ([1, 0, 0, 0, 0]) / 10 | [18, 18, 18, 18, 18] ([0, 0, 0, 0, 0]) / 18 | \n",
      "100: \n",
      "[9.93 4.65 5.89 4.83 9.23]s - [10.34 11.88  9.93  9.59 15.83]s - [14.18 24.82 12.89 13.7  26.82]s - [14.09 14.06 16.61 20.45 24.35]s - [16.76 16.11 30.02 16.49 16.15]s | [3, 3, 3, 3, 3] ([0, 0, 1, 1, 2]) / 3 | [10, 10, 10, 10, 10] ([5, 2, 2, 1, 6]) / 10 | [33, 33, 33, 33, 33] ([1, 1, 3, 3, 5]) / 33 | [50, 50, 50, 50, 50] ([2, 0, 4, 0, 5]) / 50 | [90, 89, 90, 90, 90] ([0, 1, 1, 0, 1]) / 90 | \n",
      "250: \n",
      "[26.29 20.9  12.17 10.54 15.29]s - [33.03 19.93 21.16 21.86 28.7 ]s - [55.75 54.   33.28 41.87 42.11]s - [47.08 51.04 32.46 54.65 64.99]s - [87.72 48.9  44.64 72.52 60.6 ]s | [7, 7, 7, 7, 7] ([3, 0, 1, 1, 5]) / 7 | [25, 25, 25, 25, 25] ([6, 0, 5, 3, 2]) / 25 | [80, 82, 82, 82, 81] ([0, 4, 6, 6, 2]) / 82 | [123, 120, 125, 123, 121] ([2, 1, 4, 4, 2]) / 125 | [174, 221, 220, 197, 196] ([0, 2, 2, 0, 0]) / 225 | \n",
      "500: \n",
      "[59.8  50.39 53.28 30.68 51.3 ]s - [57.45 90.56 95.82 76.04 56.48]s - [ 94.81 110.    87.63 119.3  128.58]s - [122.09  81.43 126.89 142.03 122.21]s - [130.32 130.16 128.67 131.04 129.23]s | [15, 15, 15, 15, 15] ([16, 3, 10, 3, 4]) / 15 | [50, 50, 50, 50, 50] ([1, 2, 6, 9, 2]) / 50 | [159, 158, 158, 157, 137] ([4, 4, 6, 2, 4]) / 165 | [210, 234, 226, 186, 214] ([2, 12, 2, 2, 2]) / 250 | [262, 242, 262, 269, 267] ([1, 0, 1, 0, 0]) / 450 | \n",
      "10000: \n",
      "20: \n",
      "[3.54 3.89 3.77 3.13 3.31]s - [3.84 3.81 4.01 7.32 3.81]s - [ 7.33  7.13 11.95  5.61  5.71]s - [13.51  8.84  7.39  7.14  8.84]s - [11.17 12.25 10.79 11.8  13.02]s | [1, 1, 1, 1, 1] ([0, 0, 0, 0, 0]) / 1 | [2, 2, 2, 2, 2] ([0, 0, 0, 1, 0]) / 2 | [6, 6, 6, 6, 6] ([0, 0, 0, 1, 0]) / 6 | [10, 10, 10, 10, 10] ([0, 0, 0, 1, 0]) / 10 | [18, 18, 18, 18, 18] ([0, 1, 0, 0, 1]) / 18 | \n",
      "100: \n",
      "[15.68 17.53 18.63  8.55 11.09]s - [24.92 18.72 16.46 23.66 29.68]s - [31.83 63.3  33.82 33.46 45.76]s - [34.71 43.01 50.21 33.39 33.14]s - [36.15 36.94 37.77 37.2  37.46]s | [3, 3, 3, 3, 3] ([1, 0, 0, 0, 0]) / 3 | [10, 10, 10, 10, 10] ([2, 2, 2, 0, 4]) / 10 | [33, 33, 33, 33, 33] ([0, 1, 1, 1, 2]) / 33 | [50, 50, 50, 50, 50] ([2, 1, 2, 1, 0]) / 50 | [90, 90, 90, 90, 90] ([0, 0, 0, 0, 0]) / 90 | \n",
      "====================================================================================================\n",
      "Amount of samples = 10000\n",
      "Total used features = 250\n",
      "Informative features: 7 (3%)\n",
      "\n",
      "Seed 0\n"
     ]
    },
    {
     "data": {
      "application/vnd.jupyter.widget-view+json": {
       "model_id": "343aa5f5a6d349adb0c013502e62303f",
       "version_major": 2,
       "version_minor": 0
      },
      "text/plain": [
       "  0%|          | 0/10 [00:00<?, ?it/s]"
      ]
     },
     "metadata": {},
     "output_type": "display_data"
    },
    {
     "data": {
      "application/vnd.jupyter.widget-view+json": {
       "model_id": "0f534201b06b455fae89ab6988627f81",
       "version_major": 2,
       "version_minor": 0
      },
      "text/plain": [
       "  0%|          | 0/6 [00:00<?, ?it/s]"
      ]
     },
     "metadata": {},
     "output_type": "display_data"
    },
    {
     "name": "stdout",
     "output_type": "stream",
     "text": [
      "--------------------------------------------------\n",
      "Seed 1\n"
     ]
    },
    {
     "data": {
      "application/vnd.jupyter.widget-view+json": {
       "model_id": "b02ec063a7c34a99bbaba4dee665bbf8",
       "version_major": 2,
       "version_minor": 0
      },
      "text/plain": [
       "  0%|          | 0/10 [00:00<?, ?it/s]"
      ]
     },
     "metadata": {},
     "output_type": "display_data"
    },
    {
     "data": {
      "application/vnd.jupyter.widget-view+json": {
       "model_id": "17dfbd492019427398b335bb66fa0c17",
       "version_major": 2,
       "version_minor": 0
      },
      "text/plain": [
       "  0%|          | 0/7 [00:00<?, ?it/s]"
      ]
     },
     "metadata": {},
     "output_type": "display_data"
    },
    {
     "name": "stdout",
     "output_type": "stream",
     "text": [
      "--------------------------------------------------\n",
      "Seed 2\n"
     ]
    },
    {
     "data": {
      "application/vnd.jupyter.widget-view+json": {
       "model_id": "df28dd8853fc48a99bdccb0c038d20d4",
       "version_major": 2,
       "version_minor": 0
      },
      "text/plain": [
       "  0%|          | 0/10 [00:00<?, ?it/s]"
      ]
     },
     "metadata": {},
     "output_type": "display_data"
    },
    {
     "name": "stdout",
     "output_type": "stream",
     "text": [
      "--------------------------------------------------\n",
      "Seed 3\n"
     ]
    },
    {
     "data": {
      "application/vnd.jupyter.widget-view+json": {
       "model_id": "4fbe2aed4ff141868783735823e7e9d9",
       "version_major": 2,
       "version_minor": 0
      },
      "text/plain": [
       "  0%|          | 0/10 [00:00<?, ?it/s]"
      ]
     },
     "metadata": {},
     "output_type": "display_data"
    },
    {
     "data": {
      "application/vnd.jupyter.widget-view+json": {
       "model_id": "5e60c3cc38704e91a380b822628d0102",
       "version_major": 2,
       "version_minor": 0
      },
      "text/plain": [
       "  0%|          | 0/3 [00:00<?, ?it/s]"
      ]
     },
     "metadata": {},
     "output_type": "display_data"
    },
    {
     "name": "stdout",
     "output_type": "stream",
     "text": [
      "--------------------------------------------------\n",
      "Seed 4\n"
     ]
    },
    {
     "data": {
      "application/vnd.jupyter.widget-view+json": {
       "model_id": "4eb2715af944472dbb93a27368e93303",
       "version_major": 2,
       "version_minor": 0
      },
      "text/plain": [
       "  0%|          | 0/10 [00:00<?, ?it/s]"
      ]
     },
     "metadata": {},
     "output_type": "display_data"
    },
    {
     "data": {
      "application/vnd.jupyter.widget-view+json": {
       "model_id": "2e1cf0f4ae6146ecaca84f4f5fb35cd1",
       "version_major": 2,
       "version_minor": 0
      },
      "text/plain": [
       "  0%|          | 0/3 [00:00<?, ?it/s]"
      ]
     },
     "metadata": {},
     "output_type": "display_data"
    },
    {
     "name": "stdout",
     "output_type": "stream",
     "text": [
      "--------------------------------------------------\n",
      "Average time: 40.12 seconds\n",
      "Found features: [12, 8, 8, 10, 9]\n",
      "Found 7.0 of 7 informative features\n",
      "2.4 of 9.4 outputted powershap features are noise features\n",
      "====================================================================================================\n",
      "Amount of samples = 10000\n",
      "Total used features = 250\n",
      "Informative features: 25 (10%)\n",
      "\n",
      "Seed 0\n"
     ]
    },
    {
     "data": {
      "application/vnd.jupyter.widget-view+json": {
       "model_id": "b4ce1e93bc8e451b9e2f4babf13ca7d7",
       "version_major": 2,
       "version_minor": 0
      },
      "text/plain": [
       "  0%|          | 0/10 [00:00<?, ?it/s]"
      ]
     },
     "metadata": {},
     "output_type": "display_data"
    },
    {
     "data": {
      "application/vnd.jupyter.widget-view+json": {
       "model_id": "ccad531ebb504cc9897f1ed92e83a492",
       "version_major": 2,
       "version_minor": 0
      },
      "text/plain": [
       "  0%|          | 0/10 [00:00<?, ?it/s]"
      ]
     },
     "metadata": {},
     "output_type": "display_data"
    },
    {
     "name": "stdout",
     "output_type": "stream",
     "text": [
      "--------------------------------------------------\n",
      "Seed 1\n"
     ]
    },
    {
     "data": {
      "application/vnd.jupyter.widget-view+json": {
       "model_id": "c2c262e27d8d43eeb493c6c797a33365",
       "version_major": 2,
       "version_minor": 0
      },
      "text/plain": [
       "  0%|          | 0/10 [00:00<?, ?it/s]"
      ]
     },
     "metadata": {},
     "output_type": "display_data"
    },
    {
     "data": {
      "application/vnd.jupyter.widget-view+json": {
       "model_id": "30c0cb37acfc4ed5ac34d103088cdb28",
       "version_major": 2,
       "version_minor": 0
      },
      "text/plain": [
       "  0%|          | 0/5 [00:00<?, ?it/s]"
      ]
     },
     "metadata": {},
     "output_type": "display_data"
    },
    {
     "name": "stdout",
     "output_type": "stream",
     "text": [
      "--------------------------------------------------\n",
      "Seed 2\n"
     ]
    },
    {
     "data": {
      "application/vnd.jupyter.widget-view+json": {
       "model_id": "69f8fa96b7d54b43bbe8cf3adb7e83ca",
       "version_major": 2,
       "version_minor": 0
      },
      "text/plain": [
       "  0%|          | 0/10 [00:00<?, ?it/s]"
      ]
     },
     "metadata": {},
     "output_type": "display_data"
    },
    {
     "data": {
      "application/vnd.jupyter.widget-view+json": {
       "model_id": "b3fb24cb00b8417a8039818013cccc15",
       "version_major": 2,
       "version_minor": 0
      },
      "text/plain": [
       "  0%|          | 0/8 [00:00<?, ?it/s]"
      ]
     },
     "metadata": {},
     "output_type": "display_data"
    },
    {
     "name": "stdout",
     "output_type": "stream",
     "text": [
      "--------------------------------------------------\n",
      "Seed 3\n"
     ]
    },
    {
     "data": {
      "application/vnd.jupyter.widget-view+json": {
       "model_id": "7c4b239878d047f68db17b5750b4a02a",
       "version_major": 2,
       "version_minor": 0
      },
      "text/plain": [
       "  0%|          | 0/10 [00:00<?, ?it/s]"
      ]
     },
     "metadata": {},
     "output_type": "display_data"
    },
    {
     "data": {
      "application/vnd.jupyter.widget-view+json": {
       "model_id": "678e80c95e6b4dc990817312964f631e",
       "version_major": 2,
       "version_minor": 0
      },
      "text/plain": [
       "  0%|          | 0/1 [00:00<?, ?it/s]"
      ]
     },
     "metadata": {},
     "output_type": "display_data"
    },
    {
     "name": "stdout",
     "output_type": "stream",
     "text": [
      "--------------------------------------------------\n",
      "Seed 4\n"
     ]
    },
    {
     "data": {
      "application/vnd.jupyter.widget-view+json": {
       "model_id": "933f69da0e6a471aba883a5399846112",
       "version_major": 2,
       "version_minor": 0
      },
      "text/plain": [
       "  0%|          | 0/10 [00:00<?, ?it/s]"
      ]
     },
     "metadata": {},
     "output_type": "display_data"
    },
    {
     "data": {
      "application/vnd.jupyter.widget-view+json": {
       "model_id": "cbfe2ac3fb6940f8aba3fc8501e917c5",
       "version_major": 2,
       "version_minor": 0
      },
      "text/plain": [
       "  0%|          | 0/4 [00:00<?, ?it/s]"
      ]
     },
     "metadata": {},
     "output_type": "display_data"
    },
    {
     "name": "stdout",
     "output_type": "stream",
     "text": [
      "--------------------------------------------------\n",
      "Average time: 82.85 seconds\n",
      "Found features: [30, 34, 30, 27, 25]\n",
      "Found 25.0 of 25 informative features\n",
      "4.2 of 29.2 outputted powershap features are noise features\n",
      "====================================================================================================\n",
      "Amount of samples = 10000\n",
      "Total used features = 250\n",
      "Informative features: 82 (33%)\n",
      "\n",
      "Seed 0\n"
     ]
    },
    {
     "data": {
      "application/vnd.jupyter.widget-view+json": {
       "model_id": "7f9dfbc632ed4e3a96d7b4c376089043",
       "version_major": 2,
       "version_minor": 0
      },
      "text/plain": [
       "  0%|          | 0/10 [00:00<?, ?it/s]"
      ]
     },
     "metadata": {},
     "output_type": "display_data"
    },
    {
     "data": {
      "application/vnd.jupyter.widget-view+json": {
       "model_id": "c4a1242ce10243cbb473a5dc44259081",
       "version_major": 2,
       "version_minor": 0
      },
      "text/plain": [
       "  0%|          | 0/7 [00:00<?, ?it/s]"
      ]
     },
     "metadata": {},
     "output_type": "display_data"
    },
    {
     "name": "stdout",
     "output_type": "stream",
     "text": [
      "--------------------------------------------------\n",
      "Seed 1\n"
     ]
    },
    {
     "data": {
      "application/vnd.jupyter.widget-view+json": {
       "model_id": "5a803578629f42b19238c4916a45198a",
       "version_major": 2,
       "version_minor": 0
      },
      "text/plain": [
       "  0%|          | 0/10 [00:00<?, ?it/s]"
      ]
     },
     "metadata": {},
     "output_type": "display_data"
    },
    {
     "name": "stderr",
     "output_type": "stream",
     "text": [
      "\n",
      "Failed to converge on a solution.\n",
      "\n"
     ]
    },
    {
     "name": "stdout",
     "output_type": "stream",
     "text": [
      "--------------------------------------------------\n",
      "Seed 2\n"
     ]
    },
    {
     "data": {
      "application/vnd.jupyter.widget-view+json": {
       "model_id": "54d11a92d0b64a28a80b087a960c4182",
       "version_major": 2,
       "version_minor": 0
      },
      "text/plain": [
       "  0%|          | 0/10 [00:00<?, ?it/s]"
      ]
     },
     "metadata": {},
     "output_type": "display_data"
    },
    {
     "data": {
      "application/vnd.jupyter.widget-view+json": {
       "model_id": "817f3cb5345d415fb3906c571159e25a",
       "version_major": 2,
       "version_minor": 0
      },
      "text/plain": [
       "  0%|          | 0/2 [00:00<?, ?it/s]"
      ]
     },
     "metadata": {},
     "output_type": "display_data"
    },
    {
     "data": {
      "application/vnd.jupyter.widget-view+json": {
       "model_id": "1d380d0b700648d0a0ebe0bac34e1a5b",
       "version_major": 2,
       "version_minor": 0
      },
      "text/plain": [
       "  0%|          | 0/2 [00:00<?, ?it/s]"
      ]
     },
     "metadata": {},
     "output_type": "display_data"
    },
    {
     "name": "stdout",
     "output_type": "stream",
     "text": [
      "--------------------------------------------------\n",
      "Seed 3\n"
     ]
    },
    {
     "data": {
      "application/vnd.jupyter.widget-view+json": {
       "model_id": "698b7579d2784b4b9000fa6bd66c7416",
       "version_major": 2,
       "version_minor": 0
      },
      "text/plain": [
       "  0%|          | 0/10 [00:00<?, ?it/s]"
      ]
     },
     "metadata": {},
     "output_type": "display_data"
    },
    {
     "data": {
      "application/vnd.jupyter.widget-view+json": {
       "model_id": "95c2836398fb42ac8164e5486e6555ee",
       "version_major": 2,
       "version_minor": 0
      },
      "text/plain": [
       "  0%|          | 0/3 [00:00<?, ?it/s]"
      ]
     },
     "metadata": {},
     "output_type": "display_data"
    },
    {
     "name": "stdout",
     "output_type": "stream",
     "text": [
      "--------------------------------------------------\n",
      "Seed 4\n"
     ]
    },
    {
     "data": {
      "application/vnd.jupyter.widget-view+json": {
       "model_id": "0a046dfcb56a42b2b1ad6eae6e9489b8",
       "version_major": 2,
       "version_minor": 0
      },
      "text/plain": [
       "  0%|          | 0/10 [00:00<?, ?it/s]"
      ]
     },
     "metadata": {},
     "output_type": "display_data"
    },
    {
     "name": "stdout",
     "output_type": "stream",
     "text": [
      "--------------------------------------------------\n",
      "Average time: 95.57 seconds\n",
      "Found features: [87, 85, 88, 87, 85]\n",
      "Found 82.0 of 82 informative features\n",
      "4.4 of 86.4 outputted powershap features are noise features\n",
      "====================================================================================================\n",
      "Amount of samples = 10000\n",
      "Total used features = 250\n",
      "Informative features: 125 (50%)\n",
      "\n",
      "Seed 0\n"
     ]
    },
    {
     "data": {
      "application/vnd.jupyter.widget-view+json": {
       "model_id": "84c04c65ff8840a0a429482bbc29b751",
       "version_major": 2,
       "version_minor": 0
      },
      "text/plain": [
       "  0%|          | 0/10 [00:00<?, ?it/s]"
      ]
     },
     "metadata": {},
     "output_type": "display_data"
    },
    {
     "data": {
      "application/vnd.jupyter.widget-view+json": {
       "model_id": "f2a51ffced354ae29a0ca86eec697881",
       "version_major": 2,
       "version_minor": 0
      },
      "text/plain": [
       "  0%|          | 0/3 [00:00<?, ?it/s]"
      ]
     },
     "metadata": {},
     "output_type": "display_data"
    },
    {
     "name": "stdout",
     "output_type": "stream",
     "text": [
      "--------------------------------------------------\n",
      "Seed 1\n"
     ]
    },
    {
     "data": {
      "application/vnd.jupyter.widget-view+json": {
       "model_id": "b26e4380447f4f3e9557c3b1eae17a16",
       "version_major": 2,
       "version_minor": 0
      },
      "text/plain": [
       "  0%|          | 0/10 [00:00<?, ?it/s]"
      ]
     },
     "metadata": {},
     "output_type": "display_data"
    },
    {
     "data": {
      "application/vnd.jupyter.widget-view+json": {
       "model_id": "18deb9a5e80f4ecfaa935d01dd689e12",
       "version_major": 2,
       "version_minor": 0
      },
      "text/plain": [
       "  0%|          | 0/6 [00:00<?, ?it/s]"
      ]
     },
     "metadata": {},
     "output_type": "display_data"
    },
    {
     "name": "stdout",
     "output_type": "stream",
     "text": [
      "--------------------------------------------------\n",
      "Seed 2\n"
     ]
    },
    {
     "data": {
      "application/vnd.jupyter.widget-view+json": {
       "model_id": "aff2840270414ccb9597491832d0e641",
       "version_major": 2,
       "version_minor": 0
      },
      "text/plain": [
       "  0%|          | 0/10 [00:00<?, ?it/s]"
      ]
     },
     "metadata": {},
     "output_type": "display_data"
    },
    {
     "name": "stderr",
     "output_type": "stream",
     "text": [
      "\n",
      "Failed to converge on a solution.\n",
      "\n"
     ]
    },
    {
     "data": {
      "application/vnd.jupyter.widget-view+json": {
       "model_id": "79ac292df7654f3ca1a04cbc5bb467b9",
       "version_major": 2,
       "version_minor": 0
      },
      "text/plain": [
       "  0%|          | 0/3 [00:00<?, ?it/s]"
      ]
     },
     "metadata": {},
     "output_type": "display_data"
    },
    {
     "name": "stdout",
     "output_type": "stream",
     "text": [
      "--------------------------------------------------\n",
      "Seed 3\n"
     ]
    },
    {
     "data": {
      "application/vnd.jupyter.widget-view+json": {
       "model_id": "72ed928fd0dc4ba68455c6317307a097",
       "version_major": 2,
       "version_minor": 0
      },
      "text/plain": [
       "  0%|          | 0/10 [00:00<?, ?it/s]"
      ]
     },
     "metadata": {},
     "output_type": "display_data"
    },
    {
     "data": {
      "application/vnd.jupyter.widget-view+json": {
       "model_id": "c3cd382727604cbbbb87f5f429853cba",
       "version_major": 2,
       "version_minor": 0
      },
      "text/plain": [
       "  0%|          | 0/1 [00:00<?, ?it/s]"
      ]
     },
     "metadata": {},
     "output_type": "display_data"
    },
    {
     "name": "stdout",
     "output_type": "stream",
     "text": [
      "--------------------------------------------------\n",
      "Seed 4\n"
     ]
    },
    {
     "data": {
      "application/vnd.jupyter.widget-view+json": {
       "model_id": "d1e0e742ce7c482f8f1d00d87a49b8e7",
       "version_major": 2,
       "version_minor": 0
      },
      "text/plain": [
       "  0%|          | 0/10 [00:00<?, ?it/s]"
      ]
     },
     "metadata": {},
     "output_type": "display_data"
    },
    {
     "name": "stdout",
     "output_type": "stream",
     "text": [
      "--------------------------------------------------\n",
      "Average time: 96.95 seconds\n",
      "Found features: [127, 125, 125, 125, 126]\n",
      "Found 125.0 of 125 informative features\n",
      "0.6 of 125.6 outputted powershap features are noise features\n",
      "====================================================================================================\n",
      "Amount of samples = 10000\n",
      "Total used features = 250\n",
      "Informative features: 225 (90%)\n",
      "\n",
      "Seed 0\n"
     ]
    },
    {
     "data": {
      "application/vnd.jupyter.widget-view+json": {
       "model_id": "d1e4fbcc5dd24b7e80298e17c3193228",
       "version_major": 2,
       "version_minor": 0
      },
      "text/plain": [
       "  0%|          | 0/10 [00:00<?, ?it/s]"
      ]
     },
     "metadata": {},
     "output_type": "display_data"
    },
    {
     "data": {
      "application/vnd.jupyter.widget-view+json": {
       "model_id": "c6e980570cf7402f8c7ac1db1d9edf7b",
       "version_major": 2,
       "version_minor": 0
      },
      "text/plain": [
       "  0%|          | 0/2 [00:00<?, ?it/s]"
      ]
     },
     "metadata": {},
     "output_type": "display_data"
    },
    {
     "name": "stdout",
     "output_type": "stream",
     "text": [
      "--------------------------------------------------\n",
      "Seed 1\n"
     ]
    },
    {
     "data": {
      "application/vnd.jupyter.widget-view+json": {
       "model_id": "e581e8d91ad5442098f721049b9e8acb",
       "version_major": 2,
       "version_minor": 0
      },
      "text/plain": [
       "  0%|          | 0/10 [00:00<?, ?it/s]"
      ]
     },
     "metadata": {},
     "output_type": "display_data"
    },
    {
     "name": "stdout",
     "output_type": "stream",
     "text": [
      "--------------------------------------------------\n",
      "Seed 2\n"
     ]
    },
    {
     "data": {
      "application/vnd.jupyter.widget-view+json": {
       "model_id": "bdc3b46c32de407686c5a8a7539a64c0",
       "version_major": 2,
       "version_minor": 0
      },
      "text/plain": [
       "  0%|          | 0/10 [00:00<?, ?it/s]"
      ]
     },
     "metadata": {},
     "output_type": "display_data"
    },
    {
     "name": "stdout",
     "output_type": "stream",
     "text": [
      "--------------------------------------------------\n",
      "Seed 3\n"
     ]
    },
    {
     "data": {
      "application/vnd.jupyter.widget-view+json": {
       "model_id": "d30280318059464c8eda6783eb916617",
       "version_major": 2,
       "version_minor": 0
      },
      "text/plain": [
       "  0%|          | 0/10 [00:00<?, ?it/s]"
      ]
     },
     "metadata": {},
     "output_type": "display_data"
    },
    {
     "name": "stdout",
     "output_type": "stream",
     "text": [
      "--------------------------------------------------\n",
      "Seed 4\n"
     ]
    },
    {
     "data": {
      "application/vnd.jupyter.widget-view+json": {
       "model_id": "af80924dba5241ecbb9e5b1482df1671",
       "version_major": 2,
       "version_minor": 0
      },
      "text/plain": [
       "  0%|          | 0/10 [00:00<?, ?it/s]"
      ]
     },
     "metadata": {},
     "output_type": "display_data"
    },
    {
     "name": "stdout",
     "output_type": "stream",
     "text": [
      "--------------------------------------------------\n",
      "Average time: 83.35 seconds\n",
      "Found features: [225, 225, 226, 225, 225]\n",
      "Found 225.0 of 225 informative features\n",
      "0.2 of 225.2 outputted powershap features are noise features\n",
      "====================================================================================================\n",
      "5000: \n",
      "20: \n",
      "[2.5  2.26 4.88 2.23 2.54]s - [2.47 2.87 2.77 2.39 2.68]s - [3.65 3.4  4.32 3.46 3.84]s - [9.82 4.96 4.33 4.41 5.81]s - [7.22 6.33 6.15 6.06 6.68]s | [1, 1, 1, 1, 1] ([0, 0, 0, 0, 0]) / 1 | [2, 2, 2, 2, 2] ([1, 0, 1, 0, 0]) / 2 | [6, 6, 6, 6, 6] ([0, 0, 0, 0, 0]) / 6 | [10, 10, 10, 10, 10] ([1, 0, 0, 0, 0]) / 10 | [18, 18, 18, 18, 18] ([0, 0, 0, 0, 0]) / 18 | \n",
      "100: \n",
      "[9.93 4.65 5.89 4.83 9.23]s - [10.34 11.88  9.93  9.59 15.83]s - [14.18 24.82 12.89 13.7  26.82]s - [14.09 14.06 16.61 20.45 24.35]s - [16.76 16.11 30.02 16.49 16.15]s | [3, 3, 3, 3, 3] ([0, 0, 1, 1, 2]) / 3 | [10, 10, 10, 10, 10] ([5, 2, 2, 1, 6]) / 10 | [33, 33, 33, 33, 33] ([1, 1, 3, 3, 5]) / 33 | [50, 50, 50, 50, 50] ([2, 0, 4, 0, 5]) / 50 | [90, 89, 90, 90, 90] ([0, 1, 1, 0, 1]) / 90 | \n",
      "250: \n",
      "[26.29 20.9  12.17 10.54 15.29]s - [33.03 19.93 21.16 21.86 28.7 ]s - [55.75 54.   33.28 41.87 42.11]s - [47.08 51.04 32.46 54.65 64.99]s - [87.72 48.9  44.64 72.52 60.6 ]s | [7, 7, 7, 7, 7] ([3, 0, 1, 1, 5]) / 7 | [25, 25, 25, 25, 25] ([6, 0, 5, 3, 2]) / 25 | [80, 82, 82, 82, 81] ([0, 4, 6, 6, 2]) / 82 | [123, 120, 125, 123, 121] ([2, 1, 4, 4, 2]) / 125 | [174, 221, 220, 197, 196] ([0, 2, 2, 0, 0]) / 225 | \n",
      "500: \n",
      "[59.8  50.39 53.28 30.68 51.3 ]s - [57.45 90.56 95.82 76.04 56.48]s - [ 94.81 110.    87.63 119.3  128.58]s - [122.09  81.43 126.89 142.03 122.21]s - [130.32 130.16 128.67 131.04 129.23]s | [15, 15, 15, 15, 15] ([16, 3, 10, 3, 4]) / 15 | [50, 50, 50, 50, 50] ([1, 2, 6, 9, 2]) / 50 | [159, 158, 158, 157, 137] ([4, 4, 6, 2, 4]) / 165 | [210, 234, 226, 186, 214] ([2, 12, 2, 2, 2]) / 250 | [262, 242, 262, 269, 267] ([1, 0, 1, 0, 0]) / 450 | \n",
      "10000: \n",
      "20: \n",
      "[3.54 3.89 3.77 3.13 3.31]s - [3.84 3.81 4.01 7.32 3.81]s - [ 7.33  7.13 11.95  5.61  5.71]s - [13.51  8.84  7.39  7.14  8.84]s - [11.17 12.25 10.79 11.8  13.02]s | [1, 1, 1, 1, 1] ([0, 0, 0, 0, 0]) / 1 | [2, 2, 2, 2, 2] ([0, 0, 0, 1, 0]) / 2 | [6, 6, 6, 6, 6] ([0, 0, 0, 1, 0]) / 6 | [10, 10, 10, 10, 10] ([0, 0, 0, 1, 0]) / 10 | [18, 18, 18, 18, 18] ([0, 1, 0, 0, 1]) / 18 | \n",
      "100: \n",
      "[15.68 17.53 18.63  8.55 11.09]s - [24.92 18.72 16.46 23.66 29.68]s - [31.83 63.3  33.82 33.46 45.76]s - [34.71 43.01 50.21 33.39 33.14]s - [36.15 36.94 37.77 37.2  37.46]s | [3, 3, 3, 3, 3] ([1, 0, 0, 0, 0]) / 3 | [10, 10, 10, 10, 10] ([2, 2, 2, 0, 4]) / 10 | [33, 33, 33, 33, 33] ([0, 1, 1, 1, 2]) / 33 | [50, 50, 50, 50, 50] ([2, 1, 2, 1, 0]) / 50 | [90, 90, 90, 90, 90] ([0, 0, 0, 0, 0]) / 90 | \n",
      "250: \n",
      "[56.58 45.61 28.74 27.96 41.73]s - [120.92  80.87  82.13  55.42  74.9 ]s - [122.05  76.02 106.7  100.62  72.44]s - [ 98.62 124.42 100.01  85.34  76.37]s - [97.02 78.67 79.66 81.19 80.19]s | [7, 7, 7, 7, 7] ([5, 1, 1, 3, 2]) / 7 | [25, 25, 25, 25, 25] ([5, 9, 5, 2, 0]) / 25 | [82, 82, 82, 82, 82] ([5, 3, 6, 5, 3]) / 82 | [125, 125, 125, 125, 125] ([2, 0, 0, 0, 1]) / 125 | [225, 225, 225, 225, 225] ([0, 0, 1, 0, 0]) / 225 | \n",
      "====================================================================================================\n",
      "Amount of samples = 10000\n",
      "Total used features = 500\n",
      "Informative features: 15 (3%)\n",
      "\n",
      "Seed 0\n"
     ]
    },
    {
     "data": {
      "application/vnd.jupyter.widget-view+json": {
       "model_id": "df40c6b1d44e42c986db1c669d001d20",
       "version_major": 2,
       "version_minor": 0
      },
      "text/plain": [
       "  0%|          | 0/10 [00:00<?, ?it/s]"
      ]
     },
     "metadata": {},
     "output_type": "display_data"
    },
    {
     "data": {
      "application/vnd.jupyter.widget-view+json": {
       "model_id": "77f06e68c3e74874b77b7aeab1581e8e",
       "version_major": 2,
       "version_minor": 0
      },
      "text/plain": [
       "  0%|          | 0/4 [00:00<?, ?it/s]"
      ]
     },
     "metadata": {},
     "output_type": "display_data"
    },
    {
     "data": {
      "application/vnd.jupyter.widget-view+json": {
       "model_id": "ade53abb95df414aac521a88f7289d97",
       "version_major": 2,
       "version_minor": 0
      },
      "text/plain": [
       "  0%|          | 0/10 [00:00<?, ?it/s]"
      ]
     },
     "metadata": {},
     "output_type": "display_data"
    },
    {
     "name": "stdout",
     "output_type": "stream",
     "text": [
      "--------------------------------------------------\n",
      "Seed 1\n"
     ]
    },
    {
     "data": {
      "application/vnd.jupyter.widget-view+json": {
       "model_id": "2963891278ab472e998701136ae8554c",
       "version_major": 2,
       "version_minor": 0
      },
      "text/plain": [
       "  0%|          | 0/10 [00:00<?, ?it/s]"
      ]
     },
     "metadata": {},
     "output_type": "display_data"
    },
    {
     "data": {
      "application/vnd.jupyter.widget-view+json": {
       "model_id": "c10046a3b72c44f997b9f946ae605998",
       "version_major": 2,
       "version_minor": 0
      },
      "text/plain": [
       "  0%|          | 0/8 [00:00<?, ?it/s]"
      ]
     },
     "metadata": {},
     "output_type": "display_data"
    },
    {
     "name": "stdout",
     "output_type": "stream",
     "text": [
      "--------------------------------------------------\n",
      "Seed 2\n"
     ]
    },
    {
     "data": {
      "application/vnd.jupyter.widget-view+json": {
       "model_id": "5b2ae36862a24e6bab610c5d1b5663f9",
       "version_major": 2,
       "version_minor": 0
      },
      "text/plain": [
       "  0%|          | 0/10 [00:00<?, ?it/s]"
      ]
     },
     "metadata": {},
     "output_type": "display_data"
    },
    {
     "data": {
      "application/vnd.jupyter.widget-view+json": {
       "model_id": "cb9731b204054b61b855d4a8954974f6",
       "version_major": 2,
       "version_minor": 0
      },
      "text/plain": [
       "  0%|          | 0/10 [00:00<?, ?it/s]"
      ]
     },
     "metadata": {},
     "output_type": "display_data"
    },
    {
     "name": "stdout",
     "output_type": "stream",
     "text": [
      "--------------------------------------------------\n",
      "Seed 3\n"
     ]
    },
    {
     "data": {
      "application/vnd.jupyter.widget-view+json": {
       "model_id": "f5fd7450c6f642b5831d28ef7b040f0d",
       "version_major": 2,
       "version_minor": 0
      },
      "text/plain": [
       "  0%|          | 0/10 [00:00<?, ?it/s]"
      ]
     },
     "metadata": {},
     "output_type": "display_data"
    },
    {
     "data": {
      "application/vnd.jupyter.widget-view+json": {
       "model_id": "a72764732c064c4d9017ec36436fccf9",
       "version_major": 2,
       "version_minor": 0
      },
      "text/plain": [
       "  0%|          | 0/5 [00:00<?, ?it/s]"
      ]
     },
     "metadata": {},
     "output_type": "display_data"
    },
    {
     "name": "stdout",
     "output_type": "stream",
     "text": [
      "--------------------------------------------------\n",
      "Seed 4\n"
     ]
    },
    {
     "data": {
      "application/vnd.jupyter.widget-view+json": {
       "model_id": "a5fff8f4991545a4b85b2d82dfb192af",
       "version_major": 2,
       "version_minor": 0
      },
      "text/plain": [
       "  0%|          | 0/10 [00:00<?, ?it/s]"
      ]
     },
     "metadata": {},
     "output_type": "display_data"
    },
    {
     "name": "stdout",
     "output_type": "stream",
     "text": [
      "--------------------------------------------------\n",
      "Average time: 151.69 seconds\n",
      "Found features: [17, 18, 18, 25, 16]\n",
      "Found 15.0 of 15 informative features\n",
      "3.8 of 18.8 outputted powershap features are noise features\n",
      "====================================================================================================\n",
      "Amount of samples = 10000\n",
      "Total used features = 500\n",
      "Informative features: 50 (10%)\n",
      "\n",
      "Seed 0\n"
     ]
    },
    {
     "data": {
      "application/vnd.jupyter.widget-view+json": {
       "model_id": "9d87cb4d4fbc4afaa8bf01208af4bdaa",
       "version_major": 2,
       "version_minor": 0
      },
      "text/plain": [
       "  0%|          | 0/10 [00:00<?, ?it/s]"
      ]
     },
     "metadata": {},
     "output_type": "display_data"
    },
    {
     "data": {
      "application/vnd.jupyter.widget-view+json": {
       "model_id": "04375f1b55e1481e8ebcda2d9e7eb0b9",
       "version_major": 2,
       "version_minor": 0
      },
      "text/plain": [
       "  0%|          | 0/10 [00:00<?, ?it/s]"
      ]
     },
     "metadata": {},
     "output_type": "display_data"
    },
    {
     "name": "stdout",
     "output_type": "stream",
     "text": [
      "--------------------------------------------------\n",
      "Seed 1\n"
     ]
    },
    {
     "data": {
      "application/vnd.jupyter.widget-view+json": {
       "model_id": "994c657364eb4d079ab2b92561a3a932",
       "version_major": 2,
       "version_minor": 0
      },
      "text/plain": [
       "  0%|          | 0/10 [00:00<?, ?it/s]"
      ]
     },
     "metadata": {},
     "output_type": "display_data"
    },
    {
     "data": {
      "application/vnd.jupyter.widget-view+json": {
       "model_id": "5946a2d6dfc648d28823d5acf05f9042",
       "version_major": 2,
       "version_minor": 0
      },
      "text/plain": [
       "  0%|          | 0/10 [00:00<?, ?it/s]"
      ]
     },
     "metadata": {},
     "output_type": "display_data"
    },
    {
     "name": "stdout",
     "output_type": "stream",
     "text": [
      "--------------------------------------------------\n",
      "Seed 2\n"
     ]
    },
    {
     "data": {
      "application/vnd.jupyter.widget-view+json": {
       "model_id": "c4cef16fc6ed4c339db446da1ed4bb84",
       "version_major": 2,
       "version_minor": 0
      },
      "text/plain": [
       "  0%|          | 0/10 [00:00<?, ?it/s]"
      ]
     },
     "metadata": {},
     "output_type": "display_data"
    },
    {
     "data": {
      "application/vnd.jupyter.widget-view+json": {
       "model_id": "cb72ca447eed4217b7828ce03bb1564f",
       "version_major": 2,
       "version_minor": 0
      },
      "text/plain": [
       "  0%|          | 0/10 [00:00<?, ?it/s]"
      ]
     },
     "metadata": {},
     "output_type": "display_data"
    },
    {
     "name": "stdout",
     "output_type": "stream",
     "text": [
      "--------------------------------------------------\n",
      "Seed 3\n"
     ]
    },
    {
     "data": {
      "application/vnd.jupyter.widget-view+json": {
       "model_id": "b7e0ec4f81e140dead272eed3f445e4f",
       "version_major": 2,
       "version_minor": 0
      },
      "text/plain": [
       "  0%|          | 0/10 [00:00<?, ?it/s]"
      ]
     },
     "metadata": {},
     "output_type": "display_data"
    },
    {
     "data": {
      "application/vnd.jupyter.widget-view+json": {
       "model_id": "e1f21e5e64a7474c991977aece0ea5ed",
       "version_major": 2,
       "version_minor": 0
      },
      "text/plain": [
       "  0%|          | 0/10 [00:00<?, ?it/s]"
      ]
     },
     "metadata": {},
     "output_type": "display_data"
    },
    {
     "name": "stdout",
     "output_type": "stream",
     "text": [
      "--------------------------------------------------\n",
      "Seed 4\n"
     ]
    },
    {
     "data": {
      "application/vnd.jupyter.widget-view+json": {
       "model_id": "85bdef7adada4b859c5619324aeff42f",
       "version_major": 2,
       "version_minor": 0
      },
      "text/plain": [
       "  0%|          | 0/10 [00:00<?, ?it/s]"
      ]
     },
     "metadata": {},
     "output_type": "display_data"
    },
    {
     "data": {
      "application/vnd.jupyter.widget-view+json": {
       "model_id": "53407cbeb2194fdea6088c821cc74236",
       "version_major": 2,
       "version_minor": 0
      },
      "text/plain": [
       "  0%|          | 0/3 [00:00<?, ?it/s]"
      ]
     },
     "metadata": {},
     "output_type": "display_data"
    },
    {
     "name": "stdout",
     "output_type": "stream",
     "text": [
      "--------------------------------------------------\n",
      "Average time: 234.13 seconds\n",
      "Found features: [54, 59, 53, 55, 54]\n",
      "Found 50.0 of 50 informative features\n",
      "5.0 of 55.0 outputted powershap features are noise features\n",
      "====================================================================================================\n",
      "Amount of samples = 10000\n",
      "Total used features = 500\n",
      "Informative features: 165 (33%)\n",
      "\n",
      "Seed 0\n"
     ]
    },
    {
     "data": {
      "application/vnd.jupyter.widget-view+json": {
       "model_id": "7135a9d1680846e3941d4a155f42e36a",
       "version_major": 2,
       "version_minor": 0
      },
      "text/plain": [
       "  0%|          | 0/10 [00:00<?, ?it/s]"
      ]
     },
     "metadata": {},
     "output_type": "display_data"
    },
    {
     "data": {
      "application/vnd.jupyter.widget-view+json": {
       "model_id": "c93be5ff24d14f1f8563ba4dd188a38b",
       "version_major": 2,
       "version_minor": 0
      },
      "text/plain": [
       "  0%|          | 0/1 [00:00<?, ?it/s]"
      ]
     },
     "metadata": {},
     "output_type": "display_data"
    },
    {
     "name": "stdout",
     "output_type": "stream",
     "text": [
      "--------------------------------------------------\n",
      "Seed 1\n"
     ]
    },
    {
     "data": {
      "application/vnd.jupyter.widget-view+json": {
       "model_id": "8fdb6055fe92497b836ca5926f6b0fb9",
       "version_major": 2,
       "version_minor": 0
      },
      "text/plain": [
       "  0%|          | 0/10 [00:00<?, ?it/s]"
      ]
     },
     "metadata": {},
     "output_type": "display_data"
    },
    {
     "data": {
      "application/vnd.jupyter.widget-view+json": {
       "model_id": "7f97b9daf97a469b839b73152d7352a6",
       "version_major": 2,
       "version_minor": 0
      },
      "text/plain": [
       "  0%|          | 0/4 [00:00<?, ?it/s]"
      ]
     },
     "metadata": {},
     "output_type": "display_data"
    },
    {
     "data": {
      "application/vnd.jupyter.widget-view+json": {
       "model_id": "d5bbb9d94d08432e93bbe5b1cebf8407",
       "version_major": 2,
       "version_minor": 0
      },
      "text/plain": [
       "  0%|          | 0/10 [00:00<?, ?it/s]"
      ]
     },
     "metadata": {},
     "output_type": "display_data"
    },
    {
     "data": {
      "application/vnd.jupyter.widget-view+json": {
       "model_id": "cce03d9164ba4d07ae810c1d85acfca9",
       "version_major": 2,
       "version_minor": 0
      },
      "text/plain": [
       "  0%|          | 0/10 [00:00<?, ?it/s]"
      ]
     },
     "metadata": {},
     "output_type": "display_data"
    },
    {
     "name": "stdout",
     "output_type": "stream",
     "text": [
      "--------------------------------------------------\n",
      "Seed 2\n"
     ]
    },
    {
     "data": {
      "application/vnd.jupyter.widget-view+json": {
       "model_id": "0f083a55cc4c41aea6631fdd509a1910",
       "version_major": 2,
       "version_minor": 0
      },
      "text/plain": [
       "  0%|          | 0/10 [00:00<?, ?it/s]"
      ]
     },
     "metadata": {},
     "output_type": "display_data"
    },
    {
     "data": {
      "application/vnd.jupyter.widget-view+json": {
       "model_id": "f119c08580a24c96a348e60a87c45f3a",
       "version_major": 2,
       "version_minor": 0
      },
      "text/plain": [
       "  0%|          | 0/4 [00:00<?, ?it/s]"
      ]
     },
     "metadata": {},
     "output_type": "display_data"
    },
    {
     "data": {
      "application/vnd.jupyter.widget-view+json": {
       "model_id": "e67af9343f0f488d8cf6a35305ca6fab",
       "version_major": 2,
       "version_minor": 0
      },
      "text/plain": [
       "  0%|          | 0/2 [00:00<?, ?it/s]"
      ]
     },
     "metadata": {},
     "output_type": "display_data"
    },
    {
     "name": "stdout",
     "output_type": "stream",
     "text": [
      "--------------------------------------------------\n",
      "Seed 3\n"
     ]
    },
    {
     "data": {
      "application/vnd.jupyter.widget-view+json": {
       "model_id": "b9b5adbbadd5471e84d97f436ccc6308",
       "version_major": 2,
       "version_minor": 0
      },
      "text/plain": [
       "  0%|          | 0/10 [00:00<?, ?it/s]"
      ]
     },
     "metadata": {},
     "output_type": "display_data"
    },
    {
     "data": {
      "application/vnd.jupyter.widget-view+json": {
       "model_id": "de9e9b1d05344d6da7a050030fe09693",
       "version_major": 2,
       "version_minor": 0
      },
      "text/plain": [
       "  0%|          | 0/4 [00:00<?, ?it/s]"
      ]
     },
     "metadata": {},
     "output_type": "display_data"
    },
    {
     "data": {
      "application/vnd.jupyter.widget-view+json": {
       "model_id": "a32a0890fc904372a0fcb3fbc9518e6a",
       "version_major": 2,
       "version_minor": 0
      },
      "text/plain": [
       "  0%|          | 0/3 [00:00<?, ?it/s]"
      ]
     },
     "metadata": {},
     "output_type": "display_data"
    },
    {
     "name": "stdout",
     "output_type": "stream",
     "text": [
      "--------------------------------------------------\n",
      "Seed 4\n"
     ]
    },
    {
     "data": {
      "application/vnd.jupyter.widget-view+json": {
       "model_id": "8c292641a15c49d5b4e9047bb2eb5faf",
       "version_major": 2,
       "version_minor": 0
      },
      "text/plain": [
       "  0%|          | 0/10 [00:00<?, ?it/s]"
      ]
     },
     "metadata": {},
     "output_type": "display_data"
    },
    {
     "data": {
      "application/vnd.jupyter.widget-view+json": {
       "model_id": "3c57b7c0c61443d89ed2c2d6a6f91077",
       "version_major": 2,
       "version_minor": 0
      },
      "text/plain": [
       "  0%|          | 0/5 [00:00<?, ?it/s]"
      ]
     },
     "metadata": {},
     "output_type": "display_data"
    },
    {
     "name": "stdout",
     "output_type": "stream",
     "text": [
      "--------------------------------------------------\n",
      "Average time: 273.48 seconds\n",
      "Found features: [171, 165, 170, 165, 166]\n",
      "Found 164.8 of 165 informative features\n",
      "2.6 of 167.4 outputted powershap features are noise features\n",
      "====================================================================================================\n",
      "Amount of samples = 10000\n",
      "Total used features = 500\n",
      "Informative features: 250 (50%)\n",
      "\n",
      "Seed 0\n"
     ]
    },
    {
     "data": {
      "application/vnd.jupyter.widget-view+json": {
       "model_id": "4e78c75ba5fc4b7fab84b22608ea7777",
       "version_major": 2,
       "version_minor": 0
      },
      "text/plain": [
       "  0%|          | 0/10 [00:00<?, ?it/s]"
      ]
     },
     "metadata": {},
     "output_type": "display_data"
    },
    {
     "data": {
      "application/vnd.jupyter.widget-view+json": {
       "model_id": "c69df2e15307475cb2d0d54003985794",
       "version_major": 2,
       "version_minor": 0
      },
      "text/plain": [
       "  0%|          | 0/2 [00:00<?, ?it/s]"
      ]
     },
     "metadata": {},
     "output_type": "display_data"
    },
    {
     "data": {
      "application/vnd.jupyter.widget-view+json": {
       "model_id": "bba62c59ccb94ff9965d760d89be9124",
       "version_major": 2,
       "version_minor": 0
      },
      "text/plain": [
       "  0%|          | 0/5 [00:00<?, ?it/s]"
      ]
     },
     "metadata": {},
     "output_type": "display_data"
    },
    {
     "name": "stdout",
     "output_type": "stream",
     "text": [
      "--------------------------------------------------\n",
      "Seed 1\n"
     ]
    },
    {
     "data": {
      "application/vnd.jupyter.widget-view+json": {
       "model_id": "c653a196eb1b49288f707d74b5c00893",
       "version_major": 2,
       "version_minor": 0
      },
      "text/plain": [
       "  0%|          | 0/10 [00:00<?, ?it/s]"
      ]
     },
     "metadata": {},
     "output_type": "display_data"
    },
    {
     "data": {
      "application/vnd.jupyter.widget-view+json": {
       "model_id": "c2acc19808ef48389166bdd7312bfa57",
       "version_major": 2,
       "version_minor": 0
      },
      "text/plain": [
       "  0%|          | 0/10 [00:00<?, ?it/s]"
      ]
     },
     "metadata": {},
     "output_type": "display_data"
    },
    {
     "name": "stdout",
     "output_type": "stream",
     "text": [
      "--------------------------------------------------\n",
      "Seed 2\n"
     ]
    },
    {
     "data": {
      "application/vnd.jupyter.widget-view+json": {
       "model_id": "badf0b27084f410c9f795951572eaf3f",
       "version_major": 2,
       "version_minor": 0
      },
      "text/plain": [
       "  0%|          | 0/10 [00:00<?, ?it/s]"
      ]
     },
     "metadata": {},
     "output_type": "display_data"
    },
    {
     "data": {
      "application/vnd.jupyter.widget-view+json": {
       "model_id": "3d6514a1a4e34b74b61eadfff9e5177a",
       "version_major": 2,
       "version_minor": 0
      },
      "text/plain": [
       "  0%|          | 0/9 [00:00<?, ?it/s]"
      ]
     },
     "metadata": {},
     "output_type": "display_data"
    },
    {
     "name": "stdout",
     "output_type": "stream",
     "text": [
      "--------------------------------------------------\n",
      "Seed 3\n"
     ]
    },
    {
     "data": {
      "application/vnd.jupyter.widget-view+json": {
       "model_id": "57ce517dfbe04fd6a9b3afaef9f63638",
       "version_major": 2,
       "version_minor": 0
      },
      "text/plain": [
       "  0%|          | 0/10 [00:00<?, ?it/s]"
      ]
     },
     "metadata": {},
     "output_type": "display_data"
    },
    {
     "data": {
      "application/vnd.jupyter.widget-view+json": {
       "model_id": "bbf07426a29b48ceba8734c785e905d1",
       "version_major": 2,
       "version_minor": 0
      },
      "text/plain": [
       "  0%|          | 0/10 [00:00<?, ?it/s]"
      ]
     },
     "metadata": {},
     "output_type": "display_data"
    },
    {
     "name": "stdout",
     "output_type": "stream",
     "text": [
      "--------------------------------------------------\n",
      "Seed 4\n"
     ]
    },
    {
     "data": {
      "application/vnd.jupyter.widget-view+json": {
       "model_id": "c2a9c22ae6974f93b836450773080921",
       "version_major": 2,
       "version_minor": 0
      },
      "text/plain": [
       "  0%|          | 0/10 [00:00<?, ?it/s]"
      ]
     },
     "metadata": {},
     "output_type": "display_data"
    },
    {
     "data": {
      "application/vnd.jupyter.widget-view+json": {
       "model_id": "5a4acb93c2f846edb784b2ec4ab59518",
       "version_major": 2,
       "version_minor": 0
      },
      "text/plain": [
       "  0%|          | 0/3 [00:00<?, ?it/s]"
      ]
     },
     "metadata": {},
     "output_type": "display_data"
    },
    {
     "name": "stdout",
     "output_type": "stream",
     "text": [
      "--------------------------------------------------\n",
      "Average time: 265.86 seconds\n",
      "Found features: [248, 252, 249, 246, 252]\n",
      "Found 248.0 of 250 informative features\n",
      "1.4 of 249.4 outputted powershap features are noise features\n",
      "====================================================================================================\n",
      "Amount of samples = 10000\n",
      "Total used features = 500\n",
      "Informative features: 450 (90%)\n",
      "\n",
      "Seed 0\n"
     ]
    },
    {
     "data": {
      "application/vnd.jupyter.widget-view+json": {
       "model_id": "0285a0a2a9e74efab00143d23bb2f6fd",
       "version_major": 2,
       "version_minor": 0
      },
      "text/plain": [
       "  0%|          | 0/10 [00:00<?, ?it/s]"
      ]
     },
     "metadata": {},
     "output_type": "display_data"
    },
    {
     "data": {
      "application/vnd.jupyter.widget-view+json": {
       "model_id": "c9ab5a9321d441c6b452fd8275312388",
       "version_major": 2,
       "version_minor": 0
      },
      "text/plain": [
       "  0%|          | 0/3 [00:00<?, ?it/s]"
      ]
     },
     "metadata": {},
     "output_type": "display_data"
    },
    {
     "data": {
      "application/vnd.jupyter.widget-view+json": {
       "model_id": "ca24f7537d984a73a0f9b8eefc4b7a46",
       "version_major": 2,
       "version_minor": 0
      },
      "text/plain": [
       "  0%|          | 0/5 [00:00<?, ?it/s]"
      ]
     },
     "metadata": {},
     "output_type": "display_data"
    },
    {
     "name": "stdout",
     "output_type": "stream",
     "text": [
      "--------------------------------------------------\n",
      "Seed 1\n"
     ]
    },
    {
     "data": {
      "application/vnd.jupyter.widget-view+json": {
       "model_id": "64c842c4cd9040a5a351d9dc35ea81ee",
       "version_major": 2,
       "version_minor": 0
      },
      "text/plain": [
       "  0%|          | 0/10 [00:00<?, ?it/s]"
      ]
     },
     "metadata": {},
     "output_type": "display_data"
    },
    {
     "data": {
      "application/vnd.jupyter.widget-view+json": {
       "model_id": "13a1452da6d44bcab3446b31845ab5e3",
       "version_major": 2,
       "version_minor": 0
      },
      "text/plain": [
       "  0%|          | 0/6 [00:00<?, ?it/s]"
      ]
     },
     "metadata": {},
     "output_type": "display_data"
    },
    {
     "name": "stdout",
     "output_type": "stream",
     "text": [
      "--------------------------------------------------\n",
      "Seed 2\n"
     ]
    },
    {
     "data": {
      "application/vnd.jupyter.widget-view+json": {
       "model_id": "4d48cb2665b24b019650a9f2be252140",
       "version_major": 2,
       "version_minor": 0
      },
      "text/plain": [
       "  0%|          | 0/10 [00:00<?, ?it/s]"
      ]
     },
     "metadata": {},
     "output_type": "display_data"
    },
    {
     "data": {
      "application/vnd.jupyter.widget-view+json": {
       "model_id": "83a9cfbdd1d54bf1b73b02470e7fe33a",
       "version_major": 2,
       "version_minor": 0
      },
      "text/plain": [
       "  0%|          | 0/2 [00:00<?, ?it/s]"
      ]
     },
     "metadata": {},
     "output_type": "display_data"
    },
    {
     "data": {
      "application/vnd.jupyter.widget-view+json": {
       "model_id": "3b885187e2a04316b51eeb7923df080f",
       "version_major": 2,
       "version_minor": 0
      },
      "text/plain": [
       "  0%|          | 0/7 [00:00<?, ?it/s]"
      ]
     },
     "metadata": {},
     "output_type": "display_data"
    },
    {
     "name": "stdout",
     "output_type": "stream",
     "text": [
      "--------------------------------------------------\n",
      "Seed 3\n"
     ]
    },
    {
     "data": {
      "application/vnd.jupyter.widget-view+json": {
       "model_id": "d2199b6c9b5b4bcda9f16cf1b2e257a4",
       "version_major": 2,
       "version_minor": 0
      },
      "text/plain": [
       "  0%|          | 0/10 [00:00<?, ?it/s]"
      ]
     },
     "metadata": {},
     "output_type": "display_data"
    },
    {
     "data": {
      "application/vnd.jupyter.widget-view+json": {
       "model_id": "6ada9b6cf94a4db28089043b8a767508",
       "version_major": 2,
       "version_minor": 0
      },
      "text/plain": [
       "  0%|          | 0/2 [00:00<?, ?it/s]"
      ]
     },
     "metadata": {},
     "output_type": "display_data"
    },
    {
     "data": {
      "application/vnd.jupyter.widget-view+json": {
       "model_id": "2aa19e8a68d04efbbd2445aea7de55bd",
       "version_major": 2,
       "version_minor": 0
      },
      "text/plain": [
       "  0%|          | 0/2 [00:00<?, ?it/s]"
      ]
     },
     "metadata": {},
     "output_type": "display_data"
    },
    {
     "data": {
      "application/vnd.jupyter.widget-view+json": {
       "model_id": "0ecc9e9b07334068be58c18412752d15",
       "version_major": 2,
       "version_minor": 0
      },
      "text/plain": [
       "  0%|          | 0/6 [00:00<?, ?it/s]"
      ]
     },
     "metadata": {},
     "output_type": "display_data"
    },
    {
     "name": "stdout",
     "output_type": "stream",
     "text": [
      "--------------------------------------------------\n",
      "Seed 4\n"
     ]
    },
    {
     "data": {
      "application/vnd.jupyter.widget-view+json": {
       "model_id": "56cb312de11b4baa9ece9c38fe2b6a25",
       "version_major": 2,
       "version_minor": 0
      },
      "text/plain": [
       "  0%|          | 0/10 [00:00<?, ?it/s]"
      ]
     },
     "metadata": {},
     "output_type": "display_data"
    },
    {
     "data": {
      "application/vnd.jupyter.widget-view+json": {
       "model_id": "e3a2ea4b38044ef18a41a60e1c39417d",
       "version_major": 2,
       "version_minor": 0
      },
      "text/plain": [
       "  0%|          | 0/2 [00:00<?, ?it/s]"
      ]
     },
     "metadata": {},
     "output_type": "display_data"
    },
    {
     "data": {
      "application/vnd.jupyter.widget-view+json": {
       "model_id": "0725ccbb39794f58a97280914fcdd798",
       "version_major": 2,
       "version_minor": 0
      },
      "text/plain": [
       "  0%|          | 0/10 [00:00<?, ?it/s]"
      ]
     },
     "metadata": {},
     "output_type": "display_data"
    },
    {
     "name": "stdout",
     "output_type": "stream",
     "text": [
      "--------------------------------------------------\n",
      "Average time: 294.54 seconds\n",
      "Found features: [392, 402, 392, 408, 374]\n",
      "Found 393.6 of 450 informative features\n",
      "0.0 of 393.6 outputted powershap features are noise features\n",
      "====================================================================================================\n",
      "5000: \n",
      "20: \n",
      "[2.5  2.26 4.88 2.23 2.54]s - [2.47 2.87 2.77 2.39 2.68]s - [3.65 3.4  4.32 3.46 3.84]s - [9.82 4.96 4.33 4.41 5.81]s - [7.22 6.33 6.15 6.06 6.68]s | [1, 1, 1, 1, 1] ([0, 0, 0, 0, 0]) / 1 | [2, 2, 2, 2, 2] ([1, 0, 1, 0, 0]) / 2 | [6, 6, 6, 6, 6] ([0, 0, 0, 0, 0]) / 6 | [10, 10, 10, 10, 10] ([1, 0, 0, 0, 0]) / 10 | [18, 18, 18, 18, 18] ([0, 0, 0, 0, 0]) / 18 | \n",
      "100: \n",
      "[9.93 4.65 5.89 4.83 9.23]s - [10.34 11.88  9.93  9.59 15.83]s - [14.18 24.82 12.89 13.7  26.82]s - [14.09 14.06 16.61 20.45 24.35]s - [16.76 16.11 30.02 16.49 16.15]s | [3, 3, 3, 3, 3] ([0, 0, 1, 1, 2]) / 3 | [10, 10, 10, 10, 10] ([5, 2, 2, 1, 6]) / 10 | [33, 33, 33, 33, 33] ([1, 1, 3, 3, 5]) / 33 | [50, 50, 50, 50, 50] ([2, 0, 4, 0, 5]) / 50 | [90, 89, 90, 90, 90] ([0, 1, 1, 0, 1]) / 90 | \n",
      "250: \n",
      "[26.29 20.9  12.17 10.54 15.29]s - [33.03 19.93 21.16 21.86 28.7 ]s - [55.75 54.   33.28 41.87 42.11]s - [47.08 51.04 32.46 54.65 64.99]s - [87.72 48.9  44.64 72.52 60.6 ]s | [7, 7, 7, 7, 7] ([3, 0, 1, 1, 5]) / 7 | [25, 25, 25, 25, 25] ([6, 0, 5, 3, 2]) / 25 | [80, 82, 82, 82, 81] ([0, 4, 6, 6, 2]) / 82 | [123, 120, 125, 123, 121] ([2, 1, 4, 4, 2]) / 125 | [174, 221, 220, 197, 196] ([0, 2, 2, 0, 0]) / 225 | \n",
      "500: \n",
      "[59.8  50.39 53.28 30.68 51.3 ]s - [57.45 90.56 95.82 76.04 56.48]s - [ 94.81 110.    87.63 119.3  128.58]s - [122.09  81.43 126.89 142.03 122.21]s - [130.32 130.16 128.67 131.04 129.23]s | [15, 15, 15, 15, 15] ([16, 3, 10, 3, 4]) / 15 | [50, 50, 50, 50, 50] ([1, 2, 6, 9, 2]) / 50 | [159, 158, 158, 157, 137] ([4, 4, 6, 2, 4]) / 165 | [210, 234, 226, 186, 214] ([2, 12, 2, 2, 2]) / 250 | [262, 242, 262, 269, 267] ([1, 0, 1, 0, 0]) / 450 | \n",
      "10000: \n",
      "20: \n",
      "[3.54 3.89 3.77 3.13 3.31]s - [3.84 3.81 4.01 7.32 3.81]s - [ 7.33  7.13 11.95  5.61  5.71]s - [13.51  8.84  7.39  7.14  8.84]s - [11.17 12.25 10.79 11.8  13.02]s | [1, 1, 1, 1, 1] ([0, 0, 0, 0, 0]) / 1 | [2, 2, 2, 2, 2] ([0, 0, 0, 1, 0]) / 2 | [6, 6, 6, 6, 6] ([0, 0, 0, 1, 0]) / 6 | [10, 10, 10, 10, 10] ([0, 0, 0, 1, 0]) / 10 | [18, 18, 18, 18, 18] ([0, 1, 0, 0, 1]) / 18 | \n",
      "100: \n",
      "[15.68 17.53 18.63  8.55 11.09]s - [24.92 18.72 16.46 23.66 29.68]s - [31.83 63.3  33.82 33.46 45.76]s - [34.71 43.01 50.21 33.39 33.14]s - [36.15 36.94 37.77 37.2  37.46]s | [3, 3, 3, 3, 3] ([1, 0, 0, 0, 0]) / 3 | [10, 10, 10, 10, 10] ([2, 2, 2, 0, 4]) / 10 | [33, 33, 33, 33, 33] ([0, 1, 1, 1, 2]) / 33 | [50, 50, 50, 50, 50] ([2, 1, 2, 1, 0]) / 50 | [90, 90, 90, 90, 90] ([0, 0, 0, 0, 0]) / 90 | \n",
      "250: \n",
      "[56.58 45.61 28.74 27.96 41.73]s - [120.92  80.87  82.13  55.42  74.9 ]s - [122.05  76.02 106.7  100.62  72.44]s - [ 98.62 124.42 100.01  85.34  76.37]s - [97.02 78.67 79.66 81.19 80.19]s | [7, 7, 7, 7, 7] ([5, 1, 1, 3, 2]) / 7 | [25, 25, 25, 25, 25] ([5, 9, 5, 2, 0]) / 25 | [82, 82, 82, 82, 82] ([5, 3, 6, 5, 3]) / 82 | [125, 125, 125, 125, 125] ([2, 0, 0, 0, 1]) / 125 | [225, 225, 225, 225, 225] ([0, 0, 1, 0, 0]) / 225 | \n",
      "500: \n",
      "[253.95 141.84 168.38 117.35  76.95]s - [245.93 264.55 258.18 237.96 164.06]s - [159.6  498.12 241.35 244.45 223.87]s - [255.76 292.61 279.2  306.13 195.62]s - [280.49 247.86 291.77 311.04 341.56]s | [15, 15, 15, 15, 15] ([2, 3, 3, 10, 1]) / 15 | [50, 50, 50, 50, 50] ([4, 9, 3, 5, 4]) / 50 | [165, 165, 165, 165, 164] ([6, 0, 5, 0, 2]) / 165 | [247, 250, 248, 245, 250] ([1, 2, 1, 1, 2]) / 250 | [392, 402, 392, 408, 374] ([0, 0, 0, 0, 0]) / 450 | \n",
      "====================================================================================================\n"
     ]
    }
   ],
   "source": [
    "for hypercube in [True]:\n",
    "    output_dict = {}\n",
    "    for n_samples in [5000, 10000]:\n",
    "        output_dict[str(n_samples)]={}\n",
    "        for n_features in [20,100,250,500]:\n",
    "            output_dict[str(n_samples)][str(n_features)]={}\n",
    "            \n",
    "            average_times = []\n",
    "            output_dict[str(n_samples)][str(n_features)][\"Average time\"]=average_times\n",
    "            for n_informative in [3,10,33,50,90]:\n",
    "                output_dict[str(n_samples)][str(n_features)][str(n_informative)+\"%\"]={}\n",
    "                print(\"Amount of samples = \"+str(n_samples))\n",
    "                print(\"Total used features = \"+str(n_features))\n",
    "                n_inform = int(n_informative/100*n_features)\n",
    "                if n_inform < 1:\n",
    "                    n_inform = 1\n",
    "                print(\"Informative features: \"+str(n_inform)+\" (\"+str(n_informative)+\"%)\")\n",
    "                print(\"\")\n",
    "                \n",
    "                found_features = []\n",
    "                found_idx_features = []\n",
    "                times = []\n",
    "                for random_seed in [0,1,2,3,4]:\n",
    "                    \n",
    "                    print(\"Seed \"+str(random_seed))\n",
    "                    \n",
    "                    if n_inform == 1:\n",
    "                        X, y = make_classification(n_samples=n_samples, n_classes=2, n_features=n_features, hypercube=hypercube, n_informative=1, n_redundant=0, n_repeated = 0,shuffle=False,random_state=random_seed, n_clusters_per_class=1)\n",
    "                    else:\n",
    "                        X, y = make_classification(n_samples=n_samples, n_classes=2, n_features=n_features, hypercube=hypercube, n_informative=n_inform, n_redundant=0, n_repeated = 0,shuffle=False,random_state=random_seed)                        \n",
    "                    \n",
    "                    X = pd.DataFrame(data=X, columns=[f\"col_{i}\" for i in range(n_features)])\n",
    "    \n",
    "                    start_time = time.time()\n",
    "\n",
    "                    selector = PowerShap(model = XGBClassifier(n_estimators=250, early_stopping_rounds=25, verbosity=0),\n",
    "                                         automatic=True, method='powershap')\n",
    "                    selector.fit(X, y)\n",
    "                    \n",
    "                    times.append(time.time() - start_time)\n",
    "                    \n",
    "                    processed_shaps_df = selector._processed_shaps_df\n",
    "                    print(50*\"-\")\n",
    "                    \n",
    "                    found_features.append(len(processed_shaps_df[processed_shaps_df.p_value<0.01]))\n",
    "                    found_idx_features.append(processed_shaps_df[processed_shaps_df.p_value<0.01].index.values)\n",
    "                    \n",
    "                found_informative_features = [np.sum(np.isin(X.columns.values[:n_inform],f_list)) for f_list in found_idx_features]\n",
    "                found_noise_features = [np.sum(1-np.isin(f_list,X.columns.values[:n_inform])) for f_list in found_idx_features]\n",
    "                print(\"Average time: \"+str(np.round(np.mean(times),2))+\" seconds\")\n",
    "                print(\"Found features: \"+str(found_features))#len(processed_shaps_df[processed_shaps_df.p_value<0.01])))\n",
    "                print(\"Found \"+str(np.mean(found_informative_features))+\" of \"+str(n_inform)+\" informative features\")\n",
    "                print(str(np.mean(found_noise_features))+\" of \"+str(np.mean(found_features))+\" outputted powershap features are noise features\")\n",
    "                \n",
    "                average_times.append(np.round(times,2))\n",
    "                \n",
    "                output_dict[str(n_samples)][str(n_features)][str(n_informative)+\"%\"][\"informative_features\"]=n_inform\n",
    "                output_dict[str(n_samples)][str(n_features)][str(n_informative)+\"%\"][\"found_informative_features\"]=found_informative_features\n",
    "                output_dict[str(n_samples)][str(n_features)][str(n_informative)+\"%\"][\"outputted_noise_features\"]=found_noise_features\n",
    "                \n",
    "                print(100*\"=\")\n",
    "                \n",
    "            output_dict[str(n_samples)][str(n_features)][\"Average time\"]=average_times\n",
    "            benchmark_dict_print(output_dict)\n",
    "            print(100*\"=\")\n",
    "        \n",
    "    if not hypercube:\n",
    "        output_dict_to_df(output_dict).to_csv(f\"../results/{sub}/make_classi_powershap_output_df.csv\",index=False)\n",
    "    else:\n",
    "        output_dict_to_df(output_dict).to_csv(f\"../results/{sub}/make_classi_powershap_output_df_hypercube.csv\",index=False)"
   ]
  },
  {
   "cell_type": "markdown",
   "id": "f956958f-8776-47b6-bb39-2b7b60b75d57",
   "metadata": {},
   "source": [
    "## BorutaShap"
   ]
  },
  {
   "cell_type": "code",
   "execution_count": 15,
   "id": "a49536a7-44db-473e-b31f-05f21fe6a353",
   "metadata": {},
   "outputs": [
    {
     "name": "stdout",
     "output_type": "stream",
     "text": [
      "Amount of samples = 5000\n",
      "Total used features = 20\n",
      "Informative features: 1 (3%)\n",
      "\n",
      "Seed 0\n"
     ]
    },
    {
     "data": {
      "application/vnd.jupyter.widget-view+json": {
       "model_id": "f3b27f2699fb4990a12e8ddab454b323",
       "version_major": 2,
       "version_minor": 0
      },
      "text/plain": [
       "  0%|          | 0/20 [00:00<?, ?it/s]"
      ]
     },
     "metadata": {},
     "output_type": "display_data"
    },
    {
     "name": "stdout",
     "output_type": "stream",
     "text": [
      "--------------------------------------------------\n",
      "Seed 1\n"
     ]
    },
    {
     "data": {
      "application/vnd.jupyter.widget-view+json": {
       "model_id": "438d07d363e84332bd31e9761f2ba4b5",
       "version_major": 2,
       "version_minor": 0
      },
      "text/plain": [
       "  0%|          | 0/20 [00:00<?, ?it/s]"
      ]
     },
     "metadata": {},
     "output_type": "display_data"
    },
    {
     "name": "stdout",
     "output_type": "stream",
     "text": [
      "--------------------------------------------------\n",
      "Seed 2\n"
     ]
    },
    {
     "data": {
      "application/vnd.jupyter.widget-view+json": {
       "model_id": "17679395d01f4b0caca96b46c245e0b2",
       "version_major": 2,
       "version_minor": 0
      },
      "text/plain": [
       "  0%|          | 0/20 [00:00<?, ?it/s]"
      ]
     },
     "metadata": {},
     "output_type": "display_data"
    },
    {
     "name": "stdout",
     "output_type": "stream",
     "text": [
      "--------------------------------------------------\n",
      "Seed 3\n"
     ]
    },
    {
     "data": {
      "application/vnd.jupyter.widget-view+json": {
       "model_id": "5dcfc0513f044a6cba1b0573be5ca6be",
       "version_major": 2,
       "version_minor": 0
      },
      "text/plain": [
       "  0%|          | 0/20 [00:00<?, ?it/s]"
      ]
     },
     "metadata": {},
     "output_type": "display_data"
    },
    {
     "name": "stdout",
     "output_type": "stream",
     "text": [
      "--------------------------------------------------\n",
      "Seed 4\n"
     ]
    },
    {
     "data": {
      "application/vnd.jupyter.widget-view+json": {
       "model_id": "9389426b19fb459db2c474a1f11f5693",
       "version_major": 2,
       "version_minor": 0
      },
      "text/plain": [
       "  0%|          | 0/20 [00:00<?, ?it/s]"
      ]
     },
     "metadata": {},
     "output_type": "display_data"
    },
    {
     "name": "stdout",
     "output_type": "stream",
     "text": [
      "--------------------------------------------------\n",
      "Average time: 9.67 seconds\n",
      "Found features: [1, 1, 1, 1, 1]\n",
      "Found 1.0 of 1 informative features\n",
      "0.0 of 1.0 outputted powershap features are noise features\n",
      "====================================================================================================\n",
      "Amount of samples = 5000\n",
      "Total used features = 20\n",
      "Informative features: 2 (10%)\n",
      "\n",
      "Seed 0\n"
     ]
    },
    {
     "data": {
      "application/vnd.jupyter.widget-view+json": {
       "model_id": "e63d591c07ac4529aa5b6788d4ba7305",
       "version_major": 2,
       "version_minor": 0
      },
      "text/plain": [
       "  0%|          | 0/20 [00:00<?, ?it/s]"
      ]
     },
     "metadata": {},
     "output_type": "display_data"
    },
    {
     "name": "stdout",
     "output_type": "stream",
     "text": [
      "--------------------------------------------------\n",
      "Seed 1\n"
     ]
    },
    {
     "data": {
      "application/vnd.jupyter.widget-view+json": {
       "model_id": "a90e601415b949fda0aaca738ea0d5a9",
       "version_major": 2,
       "version_minor": 0
      },
      "text/plain": [
       "  0%|          | 0/20 [00:00<?, ?it/s]"
      ]
     },
     "metadata": {},
     "output_type": "display_data"
    },
    {
     "name": "stdout",
     "output_type": "stream",
     "text": [
      "--------------------------------------------------\n",
      "Seed 2\n"
     ]
    },
    {
     "data": {
      "application/vnd.jupyter.widget-view+json": {
       "model_id": "0931169750bc4f37a7ecd4dab683cd5c",
       "version_major": 2,
       "version_minor": 0
      },
      "text/plain": [
       "  0%|          | 0/20 [00:00<?, ?it/s]"
      ]
     },
     "metadata": {},
     "output_type": "display_data"
    },
    {
     "name": "stdout",
     "output_type": "stream",
     "text": [
      "--------------------------------------------------\n",
      "Seed 3\n"
     ]
    },
    {
     "data": {
      "application/vnd.jupyter.widget-view+json": {
       "model_id": "1f1aa85b72d44ca78204f4e96900aa35",
       "version_major": 2,
       "version_minor": 0
      },
      "text/plain": [
       "  0%|          | 0/20 [00:00<?, ?it/s]"
      ]
     },
     "metadata": {},
     "output_type": "display_data"
    },
    {
     "name": "stdout",
     "output_type": "stream",
     "text": [
      "--------------------------------------------------\n",
      "Seed 4\n"
     ]
    },
    {
     "data": {
      "application/vnd.jupyter.widget-view+json": {
       "model_id": "2419b6a634dc4023980d803df177b8e4",
       "version_major": 2,
       "version_minor": 0
      },
      "text/plain": [
       "  0%|          | 0/20 [00:00<?, ?it/s]"
      ]
     },
     "metadata": {},
     "output_type": "display_data"
    },
    {
     "name": "stdout",
     "output_type": "stream",
     "text": [
      "--------------------------------------------------\n",
      "Average time: 14.51 seconds\n",
      "Found features: [3, 3, 2, 3, 2]\n",
      "Found 2.0 of 2 informative features\n",
      "0.6 of 2.6 outputted powershap features are noise features\n",
      "====================================================================================================\n",
      "Amount of samples = 5000\n",
      "Total used features = 20\n",
      "Informative features: 6 (33%)\n",
      "\n",
      "Seed 0\n"
     ]
    },
    {
     "data": {
      "application/vnd.jupyter.widget-view+json": {
       "model_id": "a196e3eb38984937b3301d851c763eab",
       "version_major": 2,
       "version_minor": 0
      },
      "text/plain": [
       "  0%|          | 0/20 [00:00<?, ?it/s]"
      ]
     },
     "metadata": {},
     "output_type": "display_data"
    },
    {
     "name": "stdout",
     "output_type": "stream",
     "text": [
      "--------------------------------------------------\n",
      "Seed 1\n"
     ]
    },
    {
     "data": {
      "application/vnd.jupyter.widget-view+json": {
       "model_id": "19078e783ce54b22b0dee1db46087066",
       "version_major": 2,
       "version_minor": 0
      },
      "text/plain": [
       "  0%|          | 0/20 [00:00<?, ?it/s]"
      ]
     },
     "metadata": {},
     "output_type": "display_data"
    },
    {
     "name": "stdout",
     "output_type": "stream",
     "text": [
      "--------------------------------------------------\n",
      "Seed 2\n"
     ]
    },
    {
     "data": {
      "application/vnd.jupyter.widget-view+json": {
       "model_id": "51a708f3e4d849c7884980a117ff35ed",
       "version_major": 2,
       "version_minor": 0
      },
      "text/plain": [
       "  0%|          | 0/20 [00:00<?, ?it/s]"
      ]
     },
     "metadata": {},
     "output_type": "display_data"
    },
    {
     "name": "stdout",
     "output_type": "stream",
     "text": [
      "--------------------------------------------------\n",
      "Seed 3\n"
     ]
    },
    {
     "data": {
      "application/vnd.jupyter.widget-view+json": {
       "model_id": "2a64f50638194a2088bc64c58289f8f3",
       "version_major": 2,
       "version_minor": 0
      },
      "text/plain": [
       "  0%|          | 0/20 [00:00<?, ?it/s]"
      ]
     },
     "metadata": {},
     "output_type": "display_data"
    },
    {
     "name": "stdout",
     "output_type": "stream",
     "text": [
      "--------------------------------------------------\n",
      "Seed 4\n"
     ]
    },
    {
     "data": {
      "application/vnd.jupyter.widget-view+json": {
       "model_id": "5604ccd6a7254105bac4e795201251a0",
       "version_major": 2,
       "version_minor": 0
      },
      "text/plain": [
       "  0%|          | 0/20 [00:00<?, ?it/s]"
      ]
     },
     "metadata": {},
     "output_type": "display_data"
    },
    {
     "name": "stdout",
     "output_type": "stream",
     "text": [
      "--------------------------------------------------\n",
      "Average time: 17.42 seconds\n",
      "Found features: [6, 7, 6, 6, 6]\n",
      "Found 6.0 of 6 informative features\n",
      "0.2 of 6.2 outputted powershap features are noise features\n",
      "====================================================================================================\n",
      "Amount of samples = 5000\n",
      "Total used features = 20\n",
      "Informative features: 10 (50%)\n",
      "\n",
      "Seed 0\n"
     ]
    },
    {
     "data": {
      "application/vnd.jupyter.widget-view+json": {
       "model_id": "219369e18cce41878f63e7ed62d68007",
       "version_major": 2,
       "version_minor": 0
      },
      "text/plain": [
       "  0%|          | 0/20 [00:00<?, ?it/s]"
      ]
     },
     "metadata": {},
     "output_type": "display_data"
    },
    {
     "name": "stdout",
     "output_type": "stream",
     "text": [
      "--------------------------------------------------\n",
      "Seed 1\n"
     ]
    },
    {
     "data": {
      "application/vnd.jupyter.widget-view+json": {
       "model_id": "3f077a0dd1bc44a692215e965ec1652d",
       "version_major": 2,
       "version_minor": 0
      },
      "text/plain": [
       "  0%|          | 0/20 [00:00<?, ?it/s]"
      ]
     },
     "metadata": {},
     "output_type": "display_data"
    },
    {
     "name": "stdout",
     "output_type": "stream",
     "text": [
      "--------------------------------------------------\n",
      "Seed 2\n"
     ]
    },
    {
     "data": {
      "application/vnd.jupyter.widget-view+json": {
       "model_id": "de6815c9ec694da387c26513cbdc5979",
       "version_major": 2,
       "version_minor": 0
      },
      "text/plain": [
       "  0%|          | 0/20 [00:00<?, ?it/s]"
      ]
     },
     "metadata": {},
     "output_type": "display_data"
    },
    {
     "name": "stdout",
     "output_type": "stream",
     "text": [
      "--------------------------------------------------\n",
      "Seed 3\n"
     ]
    },
    {
     "data": {
      "application/vnd.jupyter.widget-view+json": {
       "model_id": "9b5668da137747d9b951c53a4fa00ccb",
       "version_major": 2,
       "version_minor": 0
      },
      "text/plain": [
       "  0%|          | 0/20 [00:00<?, ?it/s]"
      ]
     },
     "metadata": {},
     "output_type": "display_data"
    },
    {
     "name": "stdout",
     "output_type": "stream",
     "text": [
      "--------------------------------------------------\n",
      "Seed 4\n"
     ]
    },
    {
     "data": {
      "application/vnd.jupyter.widget-view+json": {
       "model_id": "d06ce34bab5e4ad78e5bab874c902d92",
       "version_major": 2,
       "version_minor": 0
      },
      "text/plain": [
       "  0%|          | 0/20 [00:00<?, ?it/s]"
      ]
     },
     "metadata": {},
     "output_type": "display_data"
    },
    {
     "name": "stdout",
     "output_type": "stream",
     "text": [
      "--------------------------------------------------\n",
      "Average time: 18.41 seconds\n",
      "Found features: [10, 10, 10, 10, 10]\n",
      "Found 10.0 of 10 informative features\n",
      "0.0 of 10.0 outputted powershap features are noise features\n",
      "====================================================================================================\n",
      "Amount of samples = 5000\n",
      "Total used features = 20\n",
      "Informative features: 18 (90%)\n",
      "\n",
      "Seed 0\n"
     ]
    },
    {
     "data": {
      "application/vnd.jupyter.widget-view+json": {
       "model_id": "3472b10908bf4e29a1e48df5fb62d303",
       "version_major": 2,
       "version_minor": 0
      },
      "text/plain": [
       "  0%|          | 0/20 [00:00<?, ?it/s]"
      ]
     },
     "metadata": {},
     "output_type": "display_data"
    },
    {
     "name": "stdout",
     "output_type": "stream",
     "text": [
      "--------------------------------------------------\n",
      "Seed 1\n"
     ]
    },
    {
     "data": {
      "application/vnd.jupyter.widget-view+json": {
       "model_id": "6b5d2f9fbe694cbe8e6594214f7f60f2",
       "version_major": 2,
       "version_minor": 0
      },
      "text/plain": [
       "  0%|          | 0/20 [00:00<?, ?it/s]"
      ]
     },
     "metadata": {},
     "output_type": "display_data"
    },
    {
     "name": "stdout",
     "output_type": "stream",
     "text": [
      "--------------------------------------------------\n",
      "Seed 2\n"
     ]
    },
    {
     "data": {
      "application/vnd.jupyter.widget-view+json": {
       "model_id": "8a6243335f3146ca938dc1c9ca3a5436",
       "version_major": 2,
       "version_minor": 0
      },
      "text/plain": [
       "  0%|          | 0/20 [00:00<?, ?it/s]"
      ]
     },
     "metadata": {},
     "output_type": "display_data"
    },
    {
     "name": "stdout",
     "output_type": "stream",
     "text": [
      "--------------------------------------------------\n",
      "Seed 3\n"
     ]
    },
    {
     "data": {
      "application/vnd.jupyter.widget-view+json": {
       "model_id": "44f6d79844d54ac387f0c7b5f3dea795",
       "version_major": 2,
       "version_minor": 0
      },
      "text/plain": [
       "  0%|          | 0/20 [00:00<?, ?it/s]"
      ]
     },
     "metadata": {},
     "output_type": "display_data"
    },
    {
     "name": "stdout",
     "output_type": "stream",
     "text": [
      "--------------------------------------------------\n",
      "Seed 4\n"
     ]
    },
    {
     "data": {
      "application/vnd.jupyter.widget-view+json": {
       "model_id": "986cfa51111a47ef8bbcdab4d7db74ae",
       "version_major": 2,
       "version_minor": 0
      },
      "text/plain": [
       "  0%|          | 0/20 [00:00<?, ?it/s]"
      ]
     },
     "metadata": {},
     "output_type": "display_data"
    },
    {
     "name": "stdout",
     "output_type": "stream",
     "text": [
      "--------------------------------------------------\n",
      "Average time: 20.48 seconds\n",
      "Found features: [18, 18, 17, 18, 18]\n",
      "Found 17.8 of 18 informative features\n",
      "0.0 of 17.8 outputted powershap features are noise features\n",
      "====================================================================================================\n",
      "Amount of samples = 5000\n",
      "Total used features = 100\n",
      "Informative features: 3 (3%)\n",
      "\n",
      "Seed 0\n"
     ]
    },
    {
     "data": {
      "application/vnd.jupyter.widget-view+json": {
       "model_id": "c8367c788e9841fba244c49cf924779a",
       "version_major": 2,
       "version_minor": 0
      },
      "text/plain": [
       "  0%|          | 0/20 [00:00<?, ?it/s]"
      ]
     },
     "metadata": {},
     "output_type": "display_data"
    },
    {
     "name": "stdout",
     "output_type": "stream",
     "text": [
      "--------------------------------------------------\n",
      "Seed 1\n"
     ]
    },
    {
     "data": {
      "application/vnd.jupyter.widget-view+json": {
       "model_id": "ce9d608c8e7f4ef59788cc0188835cb0",
       "version_major": 2,
       "version_minor": 0
      },
      "text/plain": [
       "  0%|          | 0/20 [00:00<?, ?it/s]"
      ]
     },
     "metadata": {},
     "output_type": "display_data"
    },
    {
     "name": "stdout",
     "output_type": "stream",
     "text": [
      "--------------------------------------------------\n",
      "Seed 2\n"
     ]
    },
    {
     "data": {
      "application/vnd.jupyter.widget-view+json": {
       "model_id": "a9500a70ee8a458d830d871d49b9feeb",
       "version_major": 2,
       "version_minor": 0
      },
      "text/plain": [
       "  0%|          | 0/20 [00:00<?, ?it/s]"
      ]
     },
     "metadata": {},
     "output_type": "display_data"
    },
    {
     "name": "stdout",
     "output_type": "stream",
     "text": [
      "--------------------------------------------------\n",
      "Seed 3\n"
     ]
    },
    {
     "data": {
      "application/vnd.jupyter.widget-view+json": {
       "model_id": "e97c2e685d2a49618172a41737a3dfb0",
       "version_major": 2,
       "version_minor": 0
      },
      "text/plain": [
       "  0%|          | 0/20 [00:00<?, ?it/s]"
      ]
     },
     "metadata": {},
     "output_type": "display_data"
    },
    {
     "name": "stdout",
     "output_type": "stream",
     "text": [
      "--------------------------------------------------\n",
      "Seed 4\n"
     ]
    },
    {
     "data": {
      "application/vnd.jupyter.widget-view+json": {
       "model_id": "545206d1e68e49d2a726f5ed15cf6b19",
       "version_major": 2,
       "version_minor": 0
      },
      "text/plain": [
       "  0%|          | 0/20 [00:00<?, ?it/s]"
      ]
     },
     "metadata": {},
     "output_type": "display_data"
    },
    {
     "name": "stdout",
     "output_type": "stream",
     "text": [
      "--------------------------------------------------\n",
      "Average time: 32.54 seconds\n",
      "Found features: [3, 3, 3, 3, 4]\n",
      "Found 3.0 of 3 informative features\n",
      "0.2 of 3.2 outputted powershap features are noise features\n",
      "====================================================================================================\n",
      "Amount of samples = 5000\n",
      "Total used features = 100\n",
      "Informative features: 10 (10%)\n",
      "\n",
      "Seed 0\n"
     ]
    },
    {
     "data": {
      "application/vnd.jupyter.widget-view+json": {
       "model_id": "d9e476e3acca455d98863d45722b2ae8",
       "version_major": 2,
       "version_minor": 0
      },
      "text/plain": [
       "  0%|          | 0/20 [00:00<?, ?it/s]"
      ]
     },
     "metadata": {},
     "output_type": "display_data"
    },
    {
     "name": "stdout",
     "output_type": "stream",
     "text": [
      "--------------------------------------------------\n",
      "Seed 1\n"
     ]
    },
    {
     "data": {
      "application/vnd.jupyter.widget-view+json": {
       "model_id": "2b29fbcee6984a259d1c905c501a9f9a",
       "version_major": 2,
       "version_minor": 0
      },
      "text/plain": [
       "  0%|          | 0/20 [00:00<?, ?it/s]"
      ]
     },
     "metadata": {},
     "output_type": "display_data"
    },
    {
     "name": "stdout",
     "output_type": "stream",
     "text": [
      "--------------------------------------------------\n",
      "Seed 2\n"
     ]
    },
    {
     "data": {
      "application/vnd.jupyter.widget-view+json": {
       "model_id": "ccbb716bf1d545a19e2a79ec4907daec",
       "version_major": 2,
       "version_minor": 0
      },
      "text/plain": [
       "  0%|          | 0/20 [00:00<?, ?it/s]"
      ]
     },
     "metadata": {},
     "output_type": "display_data"
    },
    {
     "name": "stdout",
     "output_type": "stream",
     "text": [
      "--------------------------------------------------\n",
      "Seed 3\n"
     ]
    },
    {
     "data": {
      "application/vnd.jupyter.widget-view+json": {
       "model_id": "8b339da6d97c4d78a2fea03336eaa084",
       "version_major": 2,
       "version_minor": 0
      },
      "text/plain": [
       "  0%|          | 0/20 [00:00<?, ?it/s]"
      ]
     },
     "metadata": {},
     "output_type": "display_data"
    },
    {
     "name": "stdout",
     "output_type": "stream",
     "text": [
      "--------------------------------------------------\n",
      "Seed 4\n"
     ]
    },
    {
     "data": {
      "application/vnd.jupyter.widget-view+json": {
       "model_id": "da8a4c1c245646bbb0645c0039533c44",
       "version_major": 2,
       "version_minor": 0
      },
      "text/plain": [
       "  0%|          | 0/20 [00:00<?, ?it/s]"
      ]
     },
     "metadata": {},
     "output_type": "display_data"
    },
    {
     "name": "stdout",
     "output_type": "stream",
     "text": [
      "--------------------------------------------------\n",
      "Average time: 35.71 seconds\n",
      "Found features: [11, 10, 10, 10, 10]\n",
      "Found 10.0 of 10 informative features\n",
      "0.2 of 10.2 outputted powershap features are noise features\n",
      "====================================================================================================\n",
      "Amount of samples = 5000\n",
      "Total used features = 100\n",
      "Informative features: 33 (33%)\n",
      "\n",
      "Seed 0\n"
     ]
    },
    {
     "data": {
      "application/vnd.jupyter.widget-view+json": {
       "model_id": "bb62baf6a1bf4362bcb3065b781c0be1",
       "version_major": 2,
       "version_minor": 0
      },
      "text/plain": [
       "  0%|          | 0/20 [00:00<?, ?it/s]"
      ]
     },
     "metadata": {},
     "output_type": "display_data"
    },
    {
     "name": "stdout",
     "output_type": "stream",
     "text": [
      "--------------------------------------------------\n",
      "Seed 1\n"
     ]
    },
    {
     "data": {
      "application/vnd.jupyter.widget-view+json": {
       "model_id": "0e25a490934c47319c45dba17d1f11b4",
       "version_major": 2,
       "version_minor": 0
      },
      "text/plain": [
       "  0%|          | 0/20 [00:00<?, ?it/s]"
      ]
     },
     "metadata": {},
     "output_type": "display_data"
    },
    {
     "name": "stdout",
     "output_type": "stream",
     "text": [
      "--------------------------------------------------\n",
      "Seed 2\n"
     ]
    },
    {
     "data": {
      "application/vnd.jupyter.widget-view+json": {
       "model_id": "c45472d041b14a648de78aac2dd28f87",
       "version_major": 2,
       "version_minor": 0
      },
      "text/plain": [
       "  0%|          | 0/20 [00:00<?, ?it/s]"
      ]
     },
     "metadata": {},
     "output_type": "display_data"
    },
    {
     "name": "stdout",
     "output_type": "stream",
     "text": [
      "--------------------------------------------------\n",
      "Seed 3\n"
     ]
    },
    {
     "data": {
      "application/vnd.jupyter.widget-view+json": {
       "model_id": "8f93edf765f947fcbef908ee61d37d03",
       "version_major": 2,
       "version_minor": 0
      },
      "text/plain": [
       "  0%|          | 0/20 [00:00<?, ?it/s]"
      ]
     },
     "metadata": {},
     "output_type": "display_data"
    },
    {
     "name": "stdout",
     "output_type": "stream",
     "text": [
      "--------------------------------------------------\n",
      "Seed 4\n"
     ]
    },
    {
     "data": {
      "application/vnd.jupyter.widget-view+json": {
       "model_id": "22dff22405ea4ee7bcac6f4283145ff0",
       "version_major": 2,
       "version_minor": 0
      },
      "text/plain": [
       "  0%|          | 0/20 [00:00<?, ?it/s]"
      ]
     },
     "metadata": {},
     "output_type": "display_data"
    },
    {
     "name": "stdout",
     "output_type": "stream",
     "text": [
      "--------------------------------------------------\n",
      "Average time: 42.43 seconds\n",
      "Found features: [31, 34, 29, 29, 32]\n",
      "Found 30.8 of 33 informative features\n",
      "0.2 of 31.0 outputted powershap features are noise features\n",
      "====================================================================================================\n",
      "Amount of samples = 5000\n",
      "Total used features = 100\n",
      "Informative features: 50 (50%)\n",
      "\n",
      "Seed 0\n"
     ]
    },
    {
     "data": {
      "application/vnd.jupyter.widget-view+json": {
       "model_id": "6b6dee4e0a4343008df04e32d363684b",
       "version_major": 2,
       "version_minor": 0
      },
      "text/plain": [
       "  0%|          | 0/20 [00:00<?, ?it/s]"
      ]
     },
     "metadata": {},
     "output_type": "display_data"
    },
    {
     "name": "stdout",
     "output_type": "stream",
     "text": [
      "--------------------------------------------------\n",
      "Seed 1\n"
     ]
    },
    {
     "data": {
      "application/vnd.jupyter.widget-view+json": {
       "model_id": "cb050da65ca04cb98a183fe87acb25ec",
       "version_major": 2,
       "version_minor": 0
      },
      "text/plain": [
       "  0%|          | 0/20 [00:00<?, ?it/s]"
      ]
     },
     "metadata": {},
     "output_type": "display_data"
    },
    {
     "name": "stdout",
     "output_type": "stream",
     "text": [
      "--------------------------------------------------\n",
      "Seed 2\n"
     ]
    },
    {
     "data": {
      "application/vnd.jupyter.widget-view+json": {
       "model_id": "8c239c7b4b1848b8bdbf233841c78a78",
       "version_major": 2,
       "version_minor": 0
      },
      "text/plain": [
       "  0%|          | 0/20 [00:00<?, ?it/s]"
      ]
     },
     "metadata": {},
     "output_type": "display_data"
    },
    {
     "name": "stdout",
     "output_type": "stream",
     "text": [
      "--------------------------------------------------\n",
      "Seed 3\n"
     ]
    },
    {
     "data": {
      "application/vnd.jupyter.widget-view+json": {
       "model_id": "de64d209960848549ec037bf1851f75b",
       "version_major": 2,
       "version_minor": 0
      },
      "text/plain": [
       "  0%|          | 0/20 [00:00<?, ?it/s]"
      ]
     },
     "metadata": {},
     "output_type": "display_data"
    },
    {
     "name": "stdout",
     "output_type": "stream",
     "text": [
      "--------------------------------------------------\n",
      "Seed 4\n"
     ]
    },
    {
     "data": {
      "application/vnd.jupyter.widget-view+json": {
       "model_id": "daf1d09c81a14d778f883a938200ba37",
       "version_major": 2,
       "version_minor": 0
      },
      "text/plain": [
       "  0%|          | 0/20 [00:00<?, ?it/s]"
      ]
     },
     "metadata": {},
     "output_type": "display_data"
    },
    {
     "name": "stdout",
     "output_type": "stream",
     "text": [
      "--------------------------------------------------\n",
      "Average time: 46.02 seconds\n",
      "Found features: [35, 38, 34, 42, 36]\n",
      "Found 36.8 of 50 informative features\n",
      "0.2 of 37.0 outputted powershap features are noise features\n",
      "====================================================================================================\n",
      "Amount of samples = 5000\n",
      "Total used features = 100\n",
      "Informative features: 90 (90%)\n",
      "\n",
      "Seed 0\n"
     ]
    },
    {
     "data": {
      "application/vnd.jupyter.widget-view+json": {
       "model_id": "560dab2dd7f945cc9d05c2fbeb02b58d",
       "version_major": 2,
       "version_minor": 0
      },
      "text/plain": [
       "  0%|          | 0/20 [00:00<?, ?it/s]"
      ]
     },
     "metadata": {},
     "output_type": "display_data"
    },
    {
     "name": "stdout",
     "output_type": "stream",
     "text": [
      "--------------------------------------------------\n",
      "Seed 1\n"
     ]
    },
    {
     "data": {
      "application/vnd.jupyter.widget-view+json": {
       "model_id": "b6853ec769694ce795351c846ccc605b",
       "version_major": 2,
       "version_minor": 0
      },
      "text/plain": [
       "  0%|          | 0/20 [00:00<?, ?it/s]"
      ]
     },
     "metadata": {},
     "output_type": "display_data"
    },
    {
     "name": "stdout",
     "output_type": "stream",
     "text": [
      "--------------------------------------------------\n",
      "Seed 2\n"
     ]
    },
    {
     "data": {
      "application/vnd.jupyter.widget-view+json": {
       "model_id": "664191d3edcb41c293fca69e945a5fff",
       "version_major": 2,
       "version_minor": 0
      },
      "text/plain": [
       "  0%|          | 0/20 [00:00<?, ?it/s]"
      ]
     },
     "metadata": {},
     "output_type": "display_data"
    },
    {
     "name": "stdout",
     "output_type": "stream",
     "text": [
      "--------------------------------------------------\n",
      "Seed 3\n"
     ]
    },
    {
     "data": {
      "application/vnd.jupyter.widget-view+json": {
       "model_id": "db389ebaa4b64e0480d660ba644e02b1",
       "version_major": 2,
       "version_minor": 0
      },
      "text/plain": [
       "  0%|          | 0/20 [00:00<?, ?it/s]"
      ]
     },
     "metadata": {},
     "output_type": "display_data"
    },
    {
     "name": "stdout",
     "output_type": "stream",
     "text": [
      "--------------------------------------------------\n",
      "Seed 4\n"
     ]
    },
    {
     "data": {
      "application/vnd.jupyter.widget-view+json": {
       "model_id": "1285751c39d2467c80b3b8245218b800",
       "version_major": 2,
       "version_minor": 0
      },
      "text/plain": [
       "  0%|          | 0/20 [00:00<?, ?it/s]"
      ]
     },
     "metadata": {},
     "output_type": "display_data"
    },
    {
     "name": "stdout",
     "output_type": "stream",
     "text": [
      "--------------------------------------------------\n",
      "Average time: 52.09 seconds\n",
      "Found features: [67, 63, 55, 59, 63]\n",
      "Found 61.4 of 90 informative features\n",
      "0.0 of 61.4 outputted powershap features are noise features\n",
      "====================================================================================================\n",
      "Amount of samples = 5000\n",
      "Total used features = 250\n",
      "Informative features: 7 (3%)\n",
      "\n",
      "Seed 0\n"
     ]
    },
    {
     "data": {
      "application/vnd.jupyter.widget-view+json": {
       "model_id": "15a92549b5a54fb29735d988ca6bcad7",
       "version_major": 2,
       "version_minor": 0
      },
      "text/plain": [
       "  0%|          | 0/20 [00:00<?, ?it/s]"
      ]
     },
     "metadata": {},
     "output_type": "display_data"
    },
    {
     "name": "stdout",
     "output_type": "stream",
     "text": [
      "--------------------------------------------------\n",
      "Seed 1\n"
     ]
    },
    {
     "data": {
      "application/vnd.jupyter.widget-view+json": {
       "model_id": "e69394e409e342f3980a2f1e7695f865",
       "version_major": 2,
       "version_minor": 0
      },
      "text/plain": [
       "  0%|          | 0/20 [00:00<?, ?it/s]"
      ]
     },
     "metadata": {},
     "output_type": "display_data"
    },
    {
     "name": "stdout",
     "output_type": "stream",
     "text": [
      "--------------------------------------------------\n",
      "Seed 2\n"
     ]
    },
    {
     "data": {
      "application/vnd.jupyter.widget-view+json": {
       "model_id": "b70cf2b1aab142c6889aba25387b9e3c",
       "version_major": 2,
       "version_minor": 0
      },
      "text/plain": [
       "  0%|          | 0/20 [00:00<?, ?it/s]"
      ]
     },
     "metadata": {},
     "output_type": "display_data"
    },
    {
     "name": "stdout",
     "output_type": "stream",
     "text": [
      "--------------------------------------------------\n",
      "Seed 3\n"
     ]
    },
    {
     "data": {
      "application/vnd.jupyter.widget-view+json": {
       "model_id": "e55b387a792b40b2b6b91c44191b3792",
       "version_major": 2,
       "version_minor": 0
      },
      "text/plain": [
       "  0%|          | 0/20 [00:00<?, ?it/s]"
      ]
     },
     "metadata": {},
     "output_type": "display_data"
    },
    {
     "name": "stdout",
     "output_type": "stream",
     "text": [
      "--------------------------------------------------\n",
      "Seed 4\n"
     ]
    },
    {
     "data": {
      "application/vnd.jupyter.widget-view+json": {
       "model_id": "dad97290e2df44dea053ee8a34d0768c",
       "version_major": 2,
       "version_minor": 0
      },
      "text/plain": [
       "  0%|          | 0/20 [00:00<?, ?it/s]"
      ]
     },
     "metadata": {},
     "output_type": "display_data"
    },
    {
     "name": "stdout",
     "output_type": "stream",
     "text": [
      "--------------------------------------------------\n",
      "Average time: 76.96 seconds\n",
      "Found features: [7, 7, 7, 8, 7]\n",
      "Found 7.0 of 7 informative features\n",
      "0.2 of 7.2 outputted powershap features are noise features\n",
      "====================================================================================================\n",
      "Amount of samples = 5000\n",
      "Total used features = 250\n",
      "Informative features: 25 (10%)\n",
      "\n",
      "Seed 0\n"
     ]
    },
    {
     "data": {
      "application/vnd.jupyter.widget-view+json": {
       "model_id": "fa38651f14f8437782efd8aa414e291a",
       "version_major": 2,
       "version_minor": 0
      },
      "text/plain": [
       "  0%|          | 0/20 [00:00<?, ?it/s]"
      ]
     },
     "metadata": {},
     "output_type": "display_data"
    },
    {
     "name": "stdout",
     "output_type": "stream",
     "text": [
      "--------------------------------------------------\n",
      "Seed 1\n"
     ]
    },
    {
     "data": {
      "application/vnd.jupyter.widget-view+json": {
       "model_id": "a31f89c9e4534864836ab5db8a2fefd7",
       "version_major": 2,
       "version_minor": 0
      },
      "text/plain": [
       "  0%|          | 0/20 [00:00<?, ?it/s]"
      ]
     },
     "metadata": {},
     "output_type": "display_data"
    },
    {
     "name": "stdout",
     "output_type": "stream",
     "text": [
      "--------------------------------------------------\n",
      "Seed 2\n"
     ]
    },
    {
     "data": {
      "application/vnd.jupyter.widget-view+json": {
       "model_id": "4812e109b8f74a2c98d4732514d10bd3",
       "version_major": 2,
       "version_minor": 0
      },
      "text/plain": [
       "  0%|          | 0/20 [00:00<?, ?it/s]"
      ]
     },
     "metadata": {},
     "output_type": "display_data"
    },
    {
     "name": "stdout",
     "output_type": "stream",
     "text": [
      "--------------------------------------------------\n",
      "Seed 3\n"
     ]
    },
    {
     "data": {
      "application/vnd.jupyter.widget-view+json": {
       "model_id": "2140df8892244cb9a15d0431deeaf3a2",
       "version_major": 2,
       "version_minor": 0
      },
      "text/plain": [
       "  0%|          | 0/20 [00:00<?, ?it/s]"
      ]
     },
     "metadata": {},
     "output_type": "display_data"
    },
    {
     "name": "stdout",
     "output_type": "stream",
     "text": [
      "--------------------------------------------------\n",
      "Seed 4\n"
     ]
    },
    {
     "data": {
      "application/vnd.jupyter.widget-view+json": {
       "model_id": "7ed8dc7e2c684689ad3f091d071f1dab",
       "version_major": 2,
       "version_minor": 0
      },
      "text/plain": [
       "  0%|          | 0/20 [00:00<?, ?it/s]"
      ]
     },
     "metadata": {},
     "output_type": "display_data"
    },
    {
     "name": "stdout",
     "output_type": "stream",
     "text": [
      "--------------------------------------------------\n",
      "Average time: 81.4 seconds\n",
      "Found features: [23, 24, 21, 23, 23]\n",
      "Found 22.8 of 25 informative features\n",
      "0.0 of 22.8 outputted powershap features are noise features\n",
      "====================================================================================================\n",
      "Amount of samples = 5000\n",
      "Total used features = 250\n",
      "Informative features: 82 (33%)\n",
      "\n",
      "Seed 0\n"
     ]
    },
    {
     "data": {
      "application/vnd.jupyter.widget-view+json": {
       "model_id": "6ff4b57810b744bab9d9382d1a516bf9",
       "version_major": 2,
       "version_minor": 0
      },
      "text/plain": [
       "  0%|          | 0/20 [00:00<?, ?it/s]"
      ]
     },
     "metadata": {},
     "output_type": "display_data"
    },
    {
     "name": "stdout",
     "output_type": "stream",
     "text": [
      "--------------------------------------------------\n",
      "Seed 1\n"
     ]
    },
    {
     "data": {
      "application/vnd.jupyter.widget-view+json": {
       "model_id": "c9069daaf1614e678029672656d66e68",
       "version_major": 2,
       "version_minor": 0
      },
      "text/plain": [
       "  0%|          | 0/20 [00:00<?, ?it/s]"
      ]
     },
     "metadata": {},
     "output_type": "display_data"
    },
    {
     "name": "stdout",
     "output_type": "stream",
     "text": [
      "--------------------------------------------------\n",
      "Seed 2\n"
     ]
    },
    {
     "data": {
      "application/vnd.jupyter.widget-view+json": {
       "model_id": "1bbccefadfc149cc866a28c90b6103fc",
       "version_major": 2,
       "version_minor": 0
      },
      "text/plain": [
       "  0%|          | 0/20 [00:00<?, ?it/s]"
      ]
     },
     "metadata": {},
     "output_type": "display_data"
    },
    {
     "name": "stdout",
     "output_type": "stream",
     "text": [
      "--------------------------------------------------\n",
      "Seed 3\n"
     ]
    },
    {
     "data": {
      "application/vnd.jupyter.widget-view+json": {
       "model_id": "5a7a4f2822d741bf9c0681d283b9c642",
       "version_major": 2,
       "version_minor": 0
      },
      "text/plain": [
       "  0%|          | 0/20 [00:00<?, ?it/s]"
      ]
     },
     "metadata": {},
     "output_type": "display_data"
    },
    {
     "name": "stdout",
     "output_type": "stream",
     "text": [
      "--------------------------------------------------\n",
      "Seed 4\n"
     ]
    },
    {
     "data": {
      "application/vnd.jupyter.widget-view+json": {
       "model_id": "b577760067b84ece94d1978128604ee2",
       "version_major": 2,
       "version_minor": 0
      },
      "text/plain": [
       "  0%|          | 0/20 [00:00<?, ?it/s]"
      ]
     },
     "metadata": {},
     "output_type": "display_data"
    },
    {
     "name": "stdout",
     "output_type": "stream",
     "text": [
      "--------------------------------------------------\n",
      "Average time: 89.79 seconds\n",
      "Found features: [50, 51, 47, 56, 51]\n",
      "Found 51.0 of 82 informative features\n",
      "0.0 of 51.0 outputted powershap features are noise features\n",
      "====================================================================================================\n",
      "Amount of samples = 5000\n",
      "Total used features = 250\n",
      "Informative features: 125 (50%)\n",
      "\n",
      "Seed 0\n"
     ]
    },
    {
     "data": {
      "application/vnd.jupyter.widget-view+json": {
       "model_id": "11f63d7cadc5459fbf8368d1ee82a229",
       "version_major": 2,
       "version_minor": 0
      },
      "text/plain": [
       "  0%|          | 0/20 [00:00<?, ?it/s]"
      ]
     },
     "metadata": {},
     "output_type": "display_data"
    },
    {
     "name": "stdout",
     "output_type": "stream",
     "text": [
      "--------------------------------------------------\n",
      "Seed 1\n"
     ]
    },
    {
     "data": {
      "application/vnd.jupyter.widget-view+json": {
       "model_id": "5575342dd8384cbc82285abd7b528fcf",
       "version_major": 2,
       "version_minor": 0
      },
      "text/plain": [
       "  0%|          | 0/20 [00:00<?, ?it/s]"
      ]
     },
     "metadata": {},
     "output_type": "display_data"
    },
    {
     "name": "stdout",
     "output_type": "stream",
     "text": [
      "--------------------------------------------------\n",
      "Seed 2\n"
     ]
    },
    {
     "data": {
      "application/vnd.jupyter.widget-view+json": {
       "model_id": "2b502a49a1aa4d3998aa2db36ee01665",
       "version_major": 2,
       "version_minor": 0
      },
      "text/plain": [
       "  0%|          | 0/20 [00:00<?, ?it/s]"
      ]
     },
     "metadata": {},
     "output_type": "display_data"
    },
    {
     "name": "stdout",
     "output_type": "stream",
     "text": [
      "--------------------------------------------------\n",
      "Seed 3\n"
     ]
    },
    {
     "data": {
      "application/vnd.jupyter.widget-view+json": {
       "model_id": "71a87ba049e14453b96a2b127d8fbc73",
       "version_major": 2,
       "version_minor": 0
      },
      "text/plain": [
       "  0%|          | 0/20 [00:00<?, ?it/s]"
      ]
     },
     "metadata": {},
     "output_type": "display_data"
    },
    {
     "name": "stdout",
     "output_type": "stream",
     "text": [
      "--------------------------------------------------\n",
      "Seed 4\n"
     ]
    },
    {
     "data": {
      "application/vnd.jupyter.widget-view+json": {
       "model_id": "6d201ada4fed4092acb924f2f6e704ee",
       "version_major": 2,
       "version_minor": 0
      },
      "text/plain": [
       "  0%|          | 0/20 [00:00<?, ?it/s]"
      ]
     },
     "metadata": {},
     "output_type": "display_data"
    },
    {
     "name": "stdout",
     "output_type": "stream",
     "text": [
      "--------------------------------------------------\n",
      "Average time: 96.43 seconds\n",
      "Found features: [73, 66, 68, 71, 72]\n",
      "Found 70.0 of 125 informative features\n",
      "0.0 of 70.0 outputted powershap features are noise features\n",
      "====================================================================================================\n",
      "Amount of samples = 5000\n",
      "Total used features = 250\n",
      "Informative features: 225 (90%)\n",
      "\n",
      "Seed 0\n"
     ]
    },
    {
     "data": {
      "application/vnd.jupyter.widget-view+json": {
       "model_id": "8ac6954712404410834865ebf9609d2a",
       "version_major": 2,
       "version_minor": 0
      },
      "text/plain": [
       "  0%|          | 0/20 [00:00<?, ?it/s]"
      ]
     },
     "metadata": {},
     "output_type": "display_data"
    },
    {
     "name": "stdout",
     "output_type": "stream",
     "text": [
      "--------------------------------------------------\n",
      "Seed 1\n"
     ]
    },
    {
     "data": {
      "application/vnd.jupyter.widget-view+json": {
       "model_id": "48d2f3347788479a8b75174f1be13adc",
       "version_major": 2,
       "version_minor": 0
      },
      "text/plain": [
       "  0%|          | 0/20 [00:00<?, ?it/s]"
      ]
     },
     "metadata": {},
     "output_type": "display_data"
    },
    {
     "name": "stdout",
     "output_type": "stream",
     "text": [
      "--------------------------------------------------\n",
      "Seed 2\n"
     ]
    },
    {
     "data": {
      "application/vnd.jupyter.widget-view+json": {
       "model_id": "c4d74bb9b5a84f46a5755f42633fcbf6",
       "version_major": 2,
       "version_minor": 0
      },
      "text/plain": [
       "  0%|          | 0/20 [00:00<?, ?it/s]"
      ]
     },
     "metadata": {},
     "output_type": "display_data"
    },
    {
     "name": "stdout",
     "output_type": "stream",
     "text": [
      "--------------------------------------------------\n",
      "Seed 3\n"
     ]
    },
    {
     "data": {
      "application/vnd.jupyter.widget-view+json": {
       "model_id": "2651901226f4470ab89f400382e5548e",
       "version_major": 2,
       "version_minor": 0
      },
      "text/plain": [
       "  0%|          | 0/20 [00:00<?, ?it/s]"
      ]
     },
     "metadata": {},
     "output_type": "display_data"
    },
    {
     "name": "stdout",
     "output_type": "stream",
     "text": [
      "--------------------------------------------------\n",
      "Seed 4\n"
     ]
    },
    {
     "data": {
      "application/vnd.jupyter.widget-view+json": {
       "model_id": "b56eb17487a14874ab9f0b1847023a8a",
       "version_major": 2,
       "version_minor": 0
      },
      "text/plain": [
       "  0%|          | 0/20 [00:00<?, ?it/s]"
      ]
     },
     "metadata": {},
     "output_type": "display_data"
    },
    {
     "name": "stdout",
     "output_type": "stream",
     "text": [
      "--------------------------------------------------\n",
      "Average time: 106.25 seconds\n",
      "Found features: [82, 81, 82, 58, 94]\n",
      "Found 79.4 of 225 informative features\n",
      "0.0 of 79.4 outputted powershap features are noise features\n",
      "====================================================================================================\n",
      "Amount of samples = 5000\n",
      "Total used features = 500\n",
      "Informative features: 15 (3%)\n",
      "\n",
      "Seed 0\n"
     ]
    },
    {
     "data": {
      "application/vnd.jupyter.widget-view+json": {
       "model_id": "a7c5559c883740aca7b69489f099e496",
       "version_major": 2,
       "version_minor": 0
      },
      "text/plain": [
       "  0%|          | 0/20 [00:00<?, ?it/s]"
      ]
     },
     "metadata": {},
     "output_type": "display_data"
    },
    {
     "name": "stdout",
     "output_type": "stream",
     "text": [
      "--------------------------------------------------\n",
      "Seed 1\n"
     ]
    },
    {
     "data": {
      "application/vnd.jupyter.widget-view+json": {
       "model_id": "df99abf33b3e47b484b81bfebf483d80",
       "version_major": 2,
       "version_minor": 0
      },
      "text/plain": [
       "  0%|          | 0/20 [00:00<?, ?it/s]"
      ]
     },
     "metadata": {},
     "output_type": "display_data"
    },
    {
     "name": "stdout",
     "output_type": "stream",
     "text": [
      "--------------------------------------------------\n",
      "Seed 2\n"
     ]
    },
    {
     "data": {
      "application/vnd.jupyter.widget-view+json": {
       "model_id": "d4bb7e0854e24ffcb09f9cd152e0840f",
       "version_major": 2,
       "version_minor": 0
      },
      "text/plain": [
       "  0%|          | 0/20 [00:00<?, ?it/s]"
      ]
     },
     "metadata": {},
     "output_type": "display_data"
    },
    {
     "name": "stdout",
     "output_type": "stream",
     "text": [
      "--------------------------------------------------\n",
      "Seed 3\n"
     ]
    },
    {
     "data": {
      "application/vnd.jupyter.widget-view+json": {
       "model_id": "3fd67fa9a89d417297f9ec709afb3c2d",
       "version_major": 2,
       "version_minor": 0
      },
      "text/plain": [
       "  0%|          | 0/20 [00:00<?, ?it/s]"
      ]
     },
     "metadata": {},
     "output_type": "display_data"
    },
    {
     "name": "stdout",
     "output_type": "stream",
     "text": [
      "--------------------------------------------------\n",
      "Seed 4\n"
     ]
    },
    {
     "data": {
      "application/vnd.jupyter.widget-view+json": {
       "model_id": "956535dc67414a39bd0017638dce4d38",
       "version_major": 2,
       "version_minor": 0
      },
      "text/plain": [
       "  0%|          | 0/20 [00:00<?, ?it/s]"
      ]
     },
     "metadata": {},
     "output_type": "display_data"
    },
    {
     "name": "stdout",
     "output_type": "stream",
     "text": [
      "--------------------------------------------------\n",
      "Average time: 147.2 seconds\n",
      "Found features: [14, 15, 14, 15, 15]\n",
      "Found 14.6 of 15 informative features\n",
      "0.0 of 14.6 outputted powershap features are noise features\n",
      "====================================================================================================\n",
      "Amount of samples = 5000\n",
      "Total used features = 500\n",
      "Informative features: 50 (10%)\n",
      "\n",
      "Seed 0\n"
     ]
    },
    {
     "data": {
      "application/vnd.jupyter.widget-view+json": {
       "model_id": "0eac9de0f1244fa3a2e3e43b04a5e140",
       "version_major": 2,
       "version_minor": 0
      },
      "text/plain": [
       "  0%|          | 0/20 [00:00<?, ?it/s]"
      ]
     },
     "metadata": {},
     "output_type": "display_data"
    },
    {
     "name": "stdout",
     "output_type": "stream",
     "text": [
      "--------------------------------------------------\n",
      "Seed 1\n"
     ]
    },
    {
     "data": {
      "application/vnd.jupyter.widget-view+json": {
       "model_id": "8b90ed7c751a4c1e9e1844d5308d4ccb",
       "version_major": 2,
       "version_minor": 0
      },
      "text/plain": [
       "  0%|          | 0/20 [00:00<?, ?it/s]"
      ]
     },
     "metadata": {},
     "output_type": "display_data"
    },
    {
     "name": "stdout",
     "output_type": "stream",
     "text": [
      "--------------------------------------------------\n",
      "Seed 2\n"
     ]
    },
    {
     "data": {
      "application/vnd.jupyter.widget-view+json": {
       "model_id": "07da821f0ca74ff0b9c7059f67b840fe",
       "version_major": 2,
       "version_minor": 0
      },
      "text/plain": [
       "  0%|          | 0/20 [00:00<?, ?it/s]"
      ]
     },
     "metadata": {},
     "output_type": "display_data"
    },
    {
     "name": "stdout",
     "output_type": "stream",
     "text": [
      "--------------------------------------------------\n",
      "Seed 3\n"
     ]
    },
    {
     "data": {
      "application/vnd.jupyter.widget-view+json": {
       "model_id": "d737a5e303a44fe4973361cec77b8b5a",
       "version_major": 2,
       "version_minor": 0
      },
      "text/plain": [
       "  0%|          | 0/20 [00:00<?, ?it/s]"
      ]
     },
     "metadata": {},
     "output_type": "display_data"
    },
    {
     "name": "stdout",
     "output_type": "stream",
     "text": [
      "--------------------------------------------------\n",
      "Seed 4\n"
     ]
    },
    {
     "data": {
      "application/vnd.jupyter.widget-view+json": {
       "model_id": "423f4c351c374a3daabfa43a45bf8b40",
       "version_major": 2,
       "version_minor": 0
      },
      "text/plain": [
       "  0%|          | 0/20 [00:00<?, ?it/s]"
      ]
     },
     "metadata": {},
     "output_type": "display_data"
    },
    {
     "name": "stdout",
     "output_type": "stream",
     "text": [
      "--------------------------------------------------\n",
      "Average time: 159.31 seconds\n",
      "Found features: [30, 36, 29, 37, 36]\n",
      "Found 33.6 of 50 informative features\n",
      "0.0 of 33.6 outputted powershap features are noise features\n",
      "====================================================================================================\n",
      "Amount of samples = 5000\n",
      "Total used features = 500\n",
      "Informative features: 165 (33%)\n",
      "\n",
      "Seed 0\n"
     ]
    },
    {
     "data": {
      "application/vnd.jupyter.widget-view+json": {
       "model_id": "8aaebd67c9e048cfb872676b0ab92d6c",
       "version_major": 2,
       "version_minor": 0
      },
      "text/plain": [
       "  0%|          | 0/20 [00:00<?, ?it/s]"
      ]
     },
     "metadata": {},
     "output_type": "display_data"
    },
    {
     "name": "stdout",
     "output_type": "stream",
     "text": [
      "--------------------------------------------------\n",
      "Seed 1\n"
     ]
    },
    {
     "data": {
      "application/vnd.jupyter.widget-view+json": {
       "model_id": "a0058140a35c429ab4932b29f9edf207",
       "version_major": 2,
       "version_minor": 0
      },
      "text/plain": [
       "  0%|          | 0/20 [00:00<?, ?it/s]"
      ]
     },
     "metadata": {},
     "output_type": "display_data"
    },
    {
     "name": "stdout",
     "output_type": "stream",
     "text": [
      "--------------------------------------------------\n",
      "Seed 2\n"
     ]
    },
    {
     "data": {
      "application/vnd.jupyter.widget-view+json": {
       "model_id": "b8c30317100d40b19da7f6eed96de220",
       "version_major": 2,
       "version_minor": 0
      },
      "text/plain": [
       "  0%|          | 0/20 [00:00<?, ?it/s]"
      ]
     },
     "metadata": {},
     "output_type": "display_data"
    },
    {
     "name": "stdout",
     "output_type": "stream",
     "text": [
      "--------------------------------------------------\n",
      "Seed 3\n"
     ]
    },
    {
     "data": {
      "application/vnd.jupyter.widget-view+json": {
       "model_id": "a04573d06ef84443983a41cf990a0a4b",
       "version_major": 2,
       "version_minor": 0
      },
      "text/plain": [
       "  0%|          | 0/20 [00:00<?, ?it/s]"
      ]
     },
     "metadata": {},
     "output_type": "display_data"
    },
    {
     "name": "stdout",
     "output_type": "stream",
     "text": [
      "--------------------------------------------------\n",
      "Seed 4\n"
     ]
    },
    {
     "data": {
      "application/vnd.jupyter.widget-view+json": {
       "model_id": "1a6edd08e0324087ad965e0c68cfa901",
       "version_major": 2,
       "version_minor": 0
      },
      "text/plain": [
       "  0%|          | 0/20 [00:00<?, ?it/s]"
      ]
     },
     "metadata": {},
     "output_type": "display_data"
    },
    {
     "name": "stdout",
     "output_type": "stream",
     "text": [
      "--------------------------------------------------\n",
      "Average time: 177.22 seconds\n",
      "Found features: [75, 78, 56, 65, 60]\n",
      "Found 66.6 of 165 informative features\n",
      "0.2 of 66.8 outputted powershap features are noise features\n",
      "====================================================================================================\n",
      "Amount of samples = 5000\n",
      "Total used features = 500\n",
      "Informative features: 250 (50%)\n",
      "\n",
      "Seed 0\n"
     ]
    },
    {
     "data": {
      "application/vnd.jupyter.widget-view+json": {
       "model_id": "9937333507534a6fafbaa192a32763e9",
       "version_major": 2,
       "version_minor": 0
      },
      "text/plain": [
       "  0%|          | 0/20 [00:00<?, ?it/s]"
      ]
     },
     "metadata": {},
     "output_type": "display_data"
    },
    {
     "name": "stdout",
     "output_type": "stream",
     "text": [
      "--------------------------------------------------\n",
      "Seed 1\n"
     ]
    },
    {
     "data": {
      "application/vnd.jupyter.widget-view+json": {
       "model_id": "de5795760a5b49438da7352e3bd977f4",
       "version_major": 2,
       "version_minor": 0
      },
      "text/plain": [
       "  0%|          | 0/20 [00:00<?, ?it/s]"
      ]
     },
     "metadata": {},
     "output_type": "display_data"
    },
    {
     "name": "stdout",
     "output_type": "stream",
     "text": [
      "--------------------------------------------------\n",
      "Seed 2\n"
     ]
    },
    {
     "data": {
      "application/vnd.jupyter.widget-view+json": {
       "model_id": "fce1a0a2284c4124807d1f5559219a34",
       "version_major": 2,
       "version_minor": 0
      },
      "text/plain": [
       "  0%|          | 0/20 [00:00<?, ?it/s]"
      ]
     },
     "metadata": {},
     "output_type": "display_data"
    },
    {
     "name": "stdout",
     "output_type": "stream",
     "text": [
      "--------------------------------------------------\n",
      "Seed 3\n"
     ]
    },
    {
     "data": {
      "application/vnd.jupyter.widget-view+json": {
       "model_id": "cd725bc708494d45bef0daa46e085c05",
       "version_major": 2,
       "version_minor": 0
      },
      "text/plain": [
       "  0%|          | 0/20 [00:00<?, ?it/s]"
      ]
     },
     "metadata": {},
     "output_type": "display_data"
    },
    {
     "name": "stdout",
     "output_type": "stream",
     "text": [
      "--------------------------------------------------\n",
      "Seed 4\n"
     ]
    },
    {
     "data": {
      "application/vnd.jupyter.widget-view+json": {
       "model_id": "3eb7de1c9a484a88a8e41f09c251df27",
       "version_major": 2,
       "version_minor": 0
      },
      "text/plain": [
       "  0%|          | 0/20 [00:00<?, ?it/s]"
      ]
     },
     "metadata": {},
     "output_type": "display_data"
    },
    {
     "name": "stdout",
     "output_type": "stream",
     "text": [
      "--------------------------------------------------\n",
      "Average time: 180.92 seconds\n",
      "Found features: [75, 67, 60, 66, 64]\n",
      "Found 66.4 of 250 informative features\n",
      "0.0 of 66.4 outputted powershap features are noise features\n",
      "====================================================================================================\n",
      "Amount of samples = 5000\n",
      "Total used features = 500\n",
      "Informative features: 450 (90%)\n",
      "\n",
      "Seed 0\n"
     ]
    },
    {
     "data": {
      "application/vnd.jupyter.widget-view+json": {
       "model_id": "d272305d3f4449b69f8c10fbbec2b447",
       "version_major": 2,
       "version_minor": 0
      },
      "text/plain": [
       "  0%|          | 0/20 [00:00<?, ?it/s]"
      ]
     },
     "metadata": {},
     "output_type": "display_data"
    },
    {
     "name": "stdout",
     "output_type": "stream",
     "text": [
      "--------------------------------------------------\n",
      "Seed 1\n"
     ]
    },
    {
     "data": {
      "application/vnd.jupyter.widget-view+json": {
       "model_id": "c6016066a35e41fbaf2ef19b09321234",
       "version_major": 2,
       "version_minor": 0
      },
      "text/plain": [
       "  0%|          | 0/20 [00:00<?, ?it/s]"
      ]
     },
     "metadata": {},
     "output_type": "display_data"
    },
    {
     "name": "stdout",
     "output_type": "stream",
     "text": [
      "--------------------------------------------------\n",
      "Seed 2\n"
     ]
    },
    {
     "data": {
      "application/vnd.jupyter.widget-view+json": {
       "model_id": "d692560d06db4529807b8e3a07f8e815",
       "version_major": 2,
       "version_minor": 0
      },
      "text/plain": [
       "  0%|          | 0/20 [00:00<?, ?it/s]"
      ]
     },
     "metadata": {},
     "output_type": "display_data"
    },
    {
     "name": "stdout",
     "output_type": "stream",
     "text": [
      "--------------------------------------------------\n",
      "Seed 3\n"
     ]
    },
    {
     "data": {
      "application/vnd.jupyter.widget-view+json": {
       "model_id": "85d5e162fdd54d649224d198834b8c13",
       "version_major": 2,
       "version_minor": 0
      },
      "text/plain": [
       "  0%|          | 0/20 [00:00<?, ?it/s]"
      ]
     },
     "metadata": {},
     "output_type": "display_data"
    },
    {
     "name": "stdout",
     "output_type": "stream",
     "text": [
      "--------------------------------------------------\n",
      "Seed 4\n"
     ]
    },
    {
     "data": {
      "application/vnd.jupyter.widget-view+json": {
       "model_id": "e3ddffe7a3f342a88b4c03ff77ec611b",
       "version_major": 2,
       "version_minor": 0
      },
      "text/plain": [
       "  0%|          | 0/20 [00:00<?, ?it/s]"
      ]
     },
     "metadata": {},
     "output_type": "display_data"
    },
    {
     "name": "stdout",
     "output_type": "stream",
     "text": [
      "--------------------------------------------------\n",
      "Average time: 188.98 seconds\n",
      "Found features: [46, 66, 53, 65, 85]\n",
      "Found 63.0 of 450 informative features\n",
      "0.0 of 63.0 outputted powershap features are noise features\n",
      "====================================================================================================\n",
      "Amount of samples = 10000\n",
      "Total used features = 20\n",
      "Informative features: 1 (3%)\n",
      "\n",
      "Seed 0\n"
     ]
    },
    {
     "data": {
      "application/vnd.jupyter.widget-view+json": {
       "model_id": "598087d2cbf541a08a4588bedea68823",
       "version_major": 2,
       "version_minor": 0
      },
      "text/plain": [
       "  0%|          | 0/20 [00:00<?, ?it/s]"
      ]
     },
     "metadata": {},
     "output_type": "display_data"
    },
    {
     "name": "stdout",
     "output_type": "stream",
     "text": [
      "--------------------------------------------------\n",
      "Seed 1\n"
     ]
    },
    {
     "data": {
      "application/vnd.jupyter.widget-view+json": {
       "model_id": "6a7747ad37eb4544b7010ea218417d5d",
       "version_major": 2,
       "version_minor": 0
      },
      "text/plain": [
       "  0%|          | 0/20 [00:00<?, ?it/s]"
      ]
     },
     "metadata": {},
     "output_type": "display_data"
    },
    {
     "name": "stdout",
     "output_type": "stream",
     "text": [
      "--------------------------------------------------\n",
      "Seed 2\n"
     ]
    },
    {
     "data": {
      "application/vnd.jupyter.widget-view+json": {
       "model_id": "7ddc5ca633954da3b798011451353db1",
       "version_major": 2,
       "version_minor": 0
      },
      "text/plain": [
       "  0%|          | 0/20 [00:00<?, ?it/s]"
      ]
     },
     "metadata": {},
     "output_type": "display_data"
    },
    {
     "name": "stdout",
     "output_type": "stream",
     "text": [
      "--------------------------------------------------\n",
      "Seed 3\n"
     ]
    },
    {
     "data": {
      "application/vnd.jupyter.widget-view+json": {
       "model_id": "7f3593cccb844261a70cd8d2833585ef",
       "version_major": 2,
       "version_minor": 0
      },
      "text/plain": [
       "  0%|          | 0/20 [00:00<?, ?it/s]"
      ]
     },
     "metadata": {},
     "output_type": "display_data"
    },
    {
     "name": "stdout",
     "output_type": "stream",
     "text": [
      "--------------------------------------------------\n",
      "Seed 4\n"
     ]
    },
    {
     "data": {
      "application/vnd.jupyter.widget-view+json": {
       "model_id": "6ae93fd55bfa45fcb77769648ca3d62e",
       "version_major": 2,
       "version_minor": 0
      },
      "text/plain": [
       "  0%|          | 0/20 [00:00<?, ?it/s]"
      ]
     },
     "metadata": {},
     "output_type": "display_data"
    },
    {
     "name": "stdout",
     "output_type": "stream",
     "text": [
      "--------------------------------------------------\n",
      "Average time: 23.09 seconds\n",
      "Found features: [1, 1, 1, 1, 1]\n",
      "Found 1.0 of 1 informative features\n",
      "0.0 of 1.0 outputted powershap features are noise features\n",
      "====================================================================================================\n",
      "Amount of samples = 10000\n",
      "Total used features = 20\n",
      "Informative features: 2 (10%)\n",
      "\n",
      "Seed 0\n"
     ]
    },
    {
     "data": {
      "application/vnd.jupyter.widget-view+json": {
       "model_id": "1ef2ae5de9da4100a835de8a88491376",
       "version_major": 2,
       "version_minor": 0
      },
      "text/plain": [
       "  0%|          | 0/20 [00:00<?, ?it/s]"
      ]
     },
     "metadata": {},
     "output_type": "display_data"
    },
    {
     "name": "stdout",
     "output_type": "stream",
     "text": [
      "--------------------------------------------------\n",
      "Seed 1\n"
     ]
    },
    {
     "data": {
      "application/vnd.jupyter.widget-view+json": {
       "model_id": "1a6f4a05a10240e8a5a94790c1010826",
       "version_major": 2,
       "version_minor": 0
      },
      "text/plain": [
       "  0%|          | 0/20 [00:00<?, ?it/s]"
      ]
     },
     "metadata": {},
     "output_type": "display_data"
    },
    {
     "name": "stdout",
     "output_type": "stream",
     "text": [
      "--------------------------------------------------\n",
      "Seed 2\n"
     ]
    },
    {
     "data": {
      "application/vnd.jupyter.widget-view+json": {
       "model_id": "60f76d3e75d54a08b827388da8d9fcbe",
       "version_major": 2,
       "version_minor": 0
      },
      "text/plain": [
       "  0%|          | 0/20 [00:00<?, ?it/s]"
      ]
     },
     "metadata": {},
     "output_type": "display_data"
    },
    {
     "name": "stdout",
     "output_type": "stream",
     "text": [
      "--------------------------------------------------\n",
      "Seed 3\n"
     ]
    },
    {
     "data": {
      "application/vnd.jupyter.widget-view+json": {
       "model_id": "945588c6886544f39195f1c0467a9690",
       "version_major": 2,
       "version_minor": 0
      },
      "text/plain": [
       "  0%|          | 0/20 [00:00<?, ?it/s]"
      ]
     },
     "metadata": {},
     "output_type": "display_data"
    },
    {
     "name": "stdout",
     "output_type": "stream",
     "text": [
      "--------------------------------------------------\n",
      "Seed 4\n"
     ]
    },
    {
     "data": {
      "application/vnd.jupyter.widget-view+json": {
       "model_id": "da59761d0e714fd79c8e3511206d8db7",
       "version_major": 2,
       "version_minor": 0
      },
      "text/plain": [
       "  0%|          | 0/20 [00:00<?, ?it/s]"
      ]
     },
     "metadata": {},
     "output_type": "display_data"
    },
    {
     "name": "stdout",
     "output_type": "stream",
     "text": [
      "--------------------------------------------------\n",
      "Average time: 34.72 seconds\n",
      "Found features: [2, 2, 2, 2, 2]\n",
      "Found 2.0 of 2 informative features\n",
      "0.0 of 2.0 outputted powershap features are noise features\n",
      "====================================================================================================\n",
      "Amount of samples = 10000\n",
      "Total used features = 20\n",
      "Informative features: 6 (33%)\n",
      "\n",
      "Seed 0\n"
     ]
    },
    {
     "data": {
      "application/vnd.jupyter.widget-view+json": {
       "model_id": "7d7281fd81c74eb59e3b346bde5fe992",
       "version_major": 2,
       "version_minor": 0
      },
      "text/plain": [
       "  0%|          | 0/20 [00:00<?, ?it/s]"
      ]
     },
     "metadata": {},
     "output_type": "display_data"
    },
    {
     "name": "stdout",
     "output_type": "stream",
     "text": [
      "--------------------------------------------------\n",
      "Seed 1\n"
     ]
    },
    {
     "data": {
      "application/vnd.jupyter.widget-view+json": {
       "model_id": "a521a84a03ac4e4b8df60178d3a895ee",
       "version_major": 2,
       "version_minor": 0
      },
      "text/plain": [
       "  0%|          | 0/20 [00:00<?, ?it/s]"
      ]
     },
     "metadata": {},
     "output_type": "display_data"
    },
    {
     "name": "stdout",
     "output_type": "stream",
     "text": [
      "--------------------------------------------------\n",
      "Seed 2\n"
     ]
    },
    {
     "data": {
      "application/vnd.jupyter.widget-view+json": {
       "model_id": "e28b1c2a2a9643ad94ab8ca69e7a7450",
       "version_major": 2,
       "version_minor": 0
      },
      "text/plain": [
       "  0%|          | 0/20 [00:00<?, ?it/s]"
      ]
     },
     "metadata": {},
     "output_type": "display_data"
    },
    {
     "name": "stdout",
     "output_type": "stream",
     "text": [
      "--------------------------------------------------\n",
      "Seed 3\n"
     ]
    },
    {
     "data": {
      "application/vnd.jupyter.widget-view+json": {
       "model_id": "29a77f3581c640ababbeca46b1b33b31",
       "version_major": 2,
       "version_minor": 0
      },
      "text/plain": [
       "  0%|          | 0/20 [00:00<?, ?it/s]"
      ]
     },
     "metadata": {},
     "output_type": "display_data"
    },
    {
     "name": "stdout",
     "output_type": "stream",
     "text": [
      "--------------------------------------------------\n",
      "Seed 4\n"
     ]
    },
    {
     "data": {
      "application/vnd.jupyter.widget-view+json": {
       "model_id": "d55d921654f348309e422628ef535ee4",
       "version_major": 2,
       "version_minor": 0
      },
      "text/plain": [
       "  0%|          | 0/20 [00:00<?, ?it/s]"
      ]
     },
     "metadata": {},
     "output_type": "display_data"
    },
    {
     "name": "stdout",
     "output_type": "stream",
     "text": [
      "--------------------------------------------------\n",
      "Average time: 39.51 seconds\n",
      "Found features: [6, 6, 6, 6, 6]\n",
      "Found 6.0 of 6 informative features\n",
      "0.0 of 6.0 outputted powershap features are noise features\n",
      "====================================================================================================\n",
      "Amount of samples = 10000\n",
      "Total used features = 20\n",
      "Informative features: 10 (50%)\n",
      "\n",
      "Seed 0\n"
     ]
    },
    {
     "data": {
      "application/vnd.jupyter.widget-view+json": {
       "model_id": "a633d424533a40e487093352c6fa2668",
       "version_major": 2,
       "version_minor": 0
      },
      "text/plain": [
       "  0%|          | 0/20 [00:00<?, ?it/s]"
      ]
     },
     "metadata": {},
     "output_type": "display_data"
    },
    {
     "name": "stdout",
     "output_type": "stream",
     "text": [
      "--------------------------------------------------\n",
      "Seed 1\n"
     ]
    },
    {
     "data": {
      "application/vnd.jupyter.widget-view+json": {
       "model_id": "5e78c35c34ba4b7a830db10bdf239ed4",
       "version_major": 2,
       "version_minor": 0
      },
      "text/plain": [
       "  0%|          | 0/20 [00:00<?, ?it/s]"
      ]
     },
     "metadata": {},
     "output_type": "display_data"
    },
    {
     "name": "stdout",
     "output_type": "stream",
     "text": [
      "--------------------------------------------------\n",
      "Seed 2\n"
     ]
    },
    {
     "data": {
      "application/vnd.jupyter.widget-view+json": {
       "model_id": "f4e7dc4ff0774edb9a79aa2cdc99a676",
       "version_major": 2,
       "version_minor": 0
      },
      "text/plain": [
       "  0%|          | 0/20 [00:00<?, ?it/s]"
      ]
     },
     "metadata": {},
     "output_type": "display_data"
    },
    {
     "name": "stdout",
     "output_type": "stream",
     "text": [
      "--------------------------------------------------\n",
      "Seed 3\n"
     ]
    },
    {
     "data": {
      "application/vnd.jupyter.widget-view+json": {
       "model_id": "eefc0a5884bd4b87b5c90412d24b0953",
       "version_major": 2,
       "version_minor": 0
      },
      "text/plain": [
       "  0%|          | 0/20 [00:00<?, ?it/s]"
      ]
     },
     "metadata": {},
     "output_type": "display_data"
    },
    {
     "name": "stdout",
     "output_type": "stream",
     "text": [
      "--------------------------------------------------\n",
      "Seed 4\n"
     ]
    },
    {
     "data": {
      "application/vnd.jupyter.widget-view+json": {
       "model_id": "8051d05670954c1993f56477919e2d3c",
       "version_major": 2,
       "version_minor": 0
      },
      "text/plain": [
       "  0%|          | 0/20 [00:00<?, ?it/s]"
      ]
     },
     "metadata": {},
     "output_type": "display_data"
    },
    {
     "name": "stdout",
     "output_type": "stream",
     "text": [
      "--------------------------------------------------\n",
      "Average time: 41.55 seconds\n",
      "Found features: [10, 11, 10, 10, 10]\n",
      "Found 10.0 of 10 informative features\n",
      "0.2 of 10.2 outputted powershap features are noise features\n",
      "====================================================================================================\n",
      "Amount of samples = 10000\n",
      "Total used features = 20\n",
      "Informative features: 18 (90%)\n",
      "\n",
      "Seed 0\n"
     ]
    },
    {
     "data": {
      "application/vnd.jupyter.widget-view+json": {
       "model_id": "e95b2c2cb5ef4103b3d16cde86f5d8cb",
       "version_major": 2,
       "version_minor": 0
      },
      "text/plain": [
       "  0%|          | 0/20 [00:00<?, ?it/s]"
      ]
     },
     "metadata": {},
     "output_type": "display_data"
    },
    {
     "name": "stdout",
     "output_type": "stream",
     "text": [
      "--------------------------------------------------\n",
      "Seed 1\n"
     ]
    },
    {
     "data": {
      "application/vnd.jupyter.widget-view+json": {
       "model_id": "825fa40854fd41329610bf776e434589",
       "version_major": 2,
       "version_minor": 0
      },
      "text/plain": [
       "  0%|          | 0/20 [00:00<?, ?it/s]"
      ]
     },
     "metadata": {},
     "output_type": "display_data"
    },
    {
     "name": "stdout",
     "output_type": "stream",
     "text": [
      "--------------------------------------------------\n",
      "Seed 2\n"
     ]
    },
    {
     "data": {
      "application/vnd.jupyter.widget-view+json": {
       "model_id": "0f115031a1034f66a5f9d109fc189b38",
       "version_major": 2,
       "version_minor": 0
      },
      "text/plain": [
       "  0%|          | 0/20 [00:00<?, ?it/s]"
      ]
     },
     "metadata": {},
     "output_type": "display_data"
    },
    {
     "name": "stdout",
     "output_type": "stream",
     "text": [
      "--------------------------------------------------\n",
      "Seed 3\n"
     ]
    },
    {
     "data": {
      "application/vnd.jupyter.widget-view+json": {
       "model_id": "897a327144894b838c6d4752fd8d895c",
       "version_major": 2,
       "version_minor": 0
      },
      "text/plain": [
       "  0%|          | 0/20 [00:00<?, ?it/s]"
      ]
     },
     "metadata": {},
     "output_type": "display_data"
    },
    {
     "name": "stdout",
     "output_type": "stream",
     "text": [
      "--------------------------------------------------\n",
      "Seed 4\n"
     ]
    },
    {
     "data": {
      "application/vnd.jupyter.widget-view+json": {
       "model_id": "937e5c6236674bdea5d529b3be0cbd96",
       "version_major": 2,
       "version_minor": 0
      },
      "text/plain": [
       "  0%|          | 0/20 [00:00<?, ?it/s]"
      ]
     },
     "metadata": {},
     "output_type": "display_data"
    },
    {
     "name": "stdout",
     "output_type": "stream",
     "text": [
      "--------------------------------------------------\n",
      "Average time: 45.64 seconds\n",
      "Found features: [18, 18, 18, 18, 19]\n",
      "Found 18.0 of 18 informative features\n",
      "0.2 of 18.2 outputted powershap features are noise features\n",
      "====================================================================================================\n",
      "Amount of samples = 10000\n",
      "Total used features = 100\n",
      "Informative features: 3 (3%)\n",
      "\n",
      "Seed 0\n"
     ]
    },
    {
     "data": {
      "application/vnd.jupyter.widget-view+json": {
       "model_id": "bfc3e95f3be0424f8e562e49afa43509",
       "version_major": 2,
       "version_minor": 0
      },
      "text/plain": [
       "  0%|          | 0/20 [00:00<?, ?it/s]"
      ]
     },
     "metadata": {},
     "output_type": "display_data"
    },
    {
     "name": "stdout",
     "output_type": "stream",
     "text": [
      "--------------------------------------------------\n",
      "Seed 1\n"
     ]
    },
    {
     "data": {
      "application/vnd.jupyter.widget-view+json": {
       "model_id": "279ddf206c2841be951591b37a920f55",
       "version_major": 2,
       "version_minor": 0
      },
      "text/plain": [
       "  0%|          | 0/20 [00:00<?, ?it/s]"
      ]
     },
     "metadata": {},
     "output_type": "display_data"
    },
    {
     "name": "stdout",
     "output_type": "stream",
     "text": [
      "--------------------------------------------------\n",
      "Seed 2\n"
     ]
    },
    {
     "data": {
      "application/vnd.jupyter.widget-view+json": {
       "model_id": "e33f7e189b994dbe9b5dce6aef7df09c",
       "version_major": 2,
       "version_minor": 0
      },
      "text/plain": [
       "  0%|          | 0/20 [00:00<?, ?it/s]"
      ]
     },
     "metadata": {},
     "output_type": "display_data"
    },
    {
     "name": "stdout",
     "output_type": "stream",
     "text": [
      "--------------------------------------------------\n",
      "Seed 3\n"
     ]
    },
    {
     "data": {
      "application/vnd.jupyter.widget-view+json": {
       "model_id": "53794c9b363a44bc994dddddb6b520bb",
       "version_major": 2,
       "version_minor": 0
      },
      "text/plain": [
       "  0%|          | 0/20 [00:00<?, ?it/s]"
      ]
     },
     "metadata": {},
     "output_type": "display_data"
    },
    {
     "name": "stdout",
     "output_type": "stream",
     "text": [
      "--------------------------------------------------\n",
      "Seed 4\n"
     ]
    },
    {
     "data": {
      "application/vnd.jupyter.widget-view+json": {
       "model_id": "73a6cdade2f548d5b187ec319a07e2ba",
       "version_major": 2,
       "version_minor": 0
      },
      "text/plain": [
       "  0%|          | 0/20 [00:00<?, ?it/s]"
      ]
     },
     "metadata": {},
     "output_type": "display_data"
    },
    {
     "name": "stdout",
     "output_type": "stream",
     "text": [
      "--------------------------------------------------\n",
      "Average time: 73.6 seconds\n",
      "Found features: [3, 3, 3, 3, 3]\n",
      "Found 3.0 of 3 informative features\n",
      "0.0 of 3.0 outputted powershap features are noise features\n",
      "====================================================================================================\n",
      "Amount of samples = 10000\n",
      "Total used features = 100\n",
      "Informative features: 10 (10%)\n",
      "\n",
      "Seed 0\n"
     ]
    },
    {
     "data": {
      "application/vnd.jupyter.widget-view+json": {
       "model_id": "fc5d8888dd0140a5ad776e0626945761",
       "version_major": 2,
       "version_minor": 0
      },
      "text/plain": [
       "  0%|          | 0/20 [00:00<?, ?it/s]"
      ]
     },
     "metadata": {},
     "output_type": "display_data"
    },
    {
     "name": "stdout",
     "output_type": "stream",
     "text": [
      "--------------------------------------------------\n",
      "Seed 1\n"
     ]
    },
    {
     "data": {
      "application/vnd.jupyter.widget-view+json": {
       "model_id": "fa48ae6335d24b66b4f2d1ed8e61edd5",
       "version_major": 2,
       "version_minor": 0
      },
      "text/plain": [
       "  0%|          | 0/20 [00:00<?, ?it/s]"
      ]
     },
     "metadata": {},
     "output_type": "display_data"
    },
    {
     "name": "stdout",
     "output_type": "stream",
     "text": [
      "--------------------------------------------------\n",
      "Seed 2\n"
     ]
    },
    {
     "data": {
      "application/vnd.jupyter.widget-view+json": {
       "model_id": "4ad1b8e44ad34e04bd7806e5ec5a4ee2",
       "version_major": 2,
       "version_minor": 0
      },
      "text/plain": [
       "  0%|          | 0/20 [00:00<?, ?it/s]"
      ]
     },
     "metadata": {},
     "output_type": "display_data"
    },
    {
     "name": "stdout",
     "output_type": "stream",
     "text": [
      "--------------------------------------------------\n",
      "Seed 3\n"
     ]
    },
    {
     "data": {
      "application/vnd.jupyter.widget-view+json": {
       "model_id": "e97ff83c3ba74ac293f7944b88794019",
       "version_major": 2,
       "version_minor": 0
      },
      "text/plain": [
       "  0%|          | 0/20 [00:00<?, ?it/s]"
      ]
     },
     "metadata": {},
     "output_type": "display_data"
    },
    {
     "name": "stdout",
     "output_type": "stream",
     "text": [
      "--------------------------------------------------\n",
      "Seed 4\n"
     ]
    },
    {
     "data": {
      "application/vnd.jupyter.widget-view+json": {
       "model_id": "7d51c41450994cea818e73167ae24a4c",
       "version_major": 2,
       "version_minor": 0
      },
      "text/plain": [
       "  0%|          | 0/20 [00:00<?, ?it/s]"
      ]
     },
     "metadata": {},
     "output_type": "display_data"
    },
    {
     "name": "stdout",
     "output_type": "stream",
     "text": [
      "--------------------------------------------------\n",
      "Average time: 81.48 seconds\n",
      "Found features: [10, 10, 10, 10, 10]\n",
      "Found 10.0 of 10 informative features\n",
      "0.0 of 10.0 outputted powershap features are noise features\n",
      "====================================================================================================\n",
      "Amount of samples = 10000\n",
      "Total used features = 100\n",
      "Informative features: 33 (33%)\n",
      "\n",
      "Seed 0\n"
     ]
    },
    {
     "data": {
      "application/vnd.jupyter.widget-view+json": {
       "model_id": "667e59237f394d52a5ec8ea8083d23a8",
       "version_major": 2,
       "version_minor": 0
      },
      "text/plain": [
       "  0%|          | 0/20 [00:00<?, ?it/s]"
      ]
     },
     "metadata": {},
     "output_type": "display_data"
    },
    {
     "name": "stdout",
     "output_type": "stream",
     "text": [
      "--------------------------------------------------\n",
      "Seed 1\n"
     ]
    },
    {
     "data": {
      "application/vnd.jupyter.widget-view+json": {
       "model_id": "3ebc5620f3f34652835157f024cad2e8",
       "version_major": 2,
       "version_minor": 0
      },
      "text/plain": [
       "  0%|          | 0/20 [00:00<?, ?it/s]"
      ]
     },
     "metadata": {},
     "output_type": "display_data"
    },
    {
     "name": "stdout",
     "output_type": "stream",
     "text": [
      "--------------------------------------------------\n",
      "Seed 2\n"
     ]
    },
    {
     "data": {
      "application/vnd.jupyter.widget-view+json": {
       "model_id": "cbb3576de10a457581f7d5a09ffb1458",
       "version_major": 2,
       "version_minor": 0
      },
      "text/plain": [
       "  0%|          | 0/20 [00:00<?, ?it/s]"
      ]
     },
     "metadata": {},
     "output_type": "display_data"
    },
    {
     "name": "stdout",
     "output_type": "stream",
     "text": [
      "--------------------------------------------------\n",
      "Seed 3\n"
     ]
    },
    {
     "data": {
      "application/vnd.jupyter.widget-view+json": {
       "model_id": "934867f8be2f47ab83e1dae9ad5477c3",
       "version_major": 2,
       "version_minor": 0
      },
      "text/plain": [
       "  0%|          | 0/20 [00:00<?, ?it/s]"
      ]
     },
     "metadata": {},
     "output_type": "display_data"
    },
    {
     "name": "stdout",
     "output_type": "stream",
     "text": [
      "--------------------------------------------------\n",
      "Seed 4\n"
     ]
    },
    {
     "data": {
      "application/vnd.jupyter.widget-view+json": {
       "model_id": "a3882ee488f849bd8452ba642baf7cf9",
       "version_major": 2,
       "version_minor": 0
      },
      "text/plain": [
       "  0%|          | 0/20 [00:00<?, ?it/s]"
      ]
     },
     "metadata": {},
     "output_type": "display_data"
    },
    {
     "name": "stdout",
     "output_type": "stream",
     "text": [
      "--------------------------------------------------\n",
      "Average time: 98.95 seconds\n",
      "Found features: [33, 33, 34, 32, 34]\n",
      "Found 32.8 of 33 informative features\n",
      "0.4 of 33.2 outputted powershap features are noise features\n",
      "====================================================================================================\n",
      "Amount of samples = 10000\n",
      "Total used features = 100\n",
      "Informative features: 50 (50%)\n",
      "\n",
      "Seed 0\n"
     ]
    },
    {
     "data": {
      "application/vnd.jupyter.widget-view+json": {
       "model_id": "2318fe53826d4049b019a2c833564143",
       "version_major": 2,
       "version_minor": 0
      },
      "text/plain": [
       "  0%|          | 0/20 [00:00<?, ?it/s]"
      ]
     },
     "metadata": {},
     "output_type": "display_data"
    },
    {
     "name": "stdout",
     "output_type": "stream",
     "text": [
      "--------------------------------------------------\n",
      "Seed 1\n"
     ]
    },
    {
     "data": {
      "application/vnd.jupyter.widget-view+json": {
       "model_id": "f1b5a767b6b748ebbd08b598d40c25e1",
       "version_major": 2,
       "version_minor": 0
      },
      "text/plain": [
       "  0%|          | 0/20 [00:00<?, ?it/s]"
      ]
     },
     "metadata": {},
     "output_type": "display_data"
    },
    {
     "name": "stdout",
     "output_type": "stream",
     "text": [
      "--------------------------------------------------\n",
      "Seed 2\n"
     ]
    },
    {
     "data": {
      "application/vnd.jupyter.widget-view+json": {
       "model_id": "c120dd46f2144f11af9780b02dfdf624",
       "version_major": 2,
       "version_minor": 0
      },
      "text/plain": [
       "  0%|          | 0/20 [00:00<?, ?it/s]"
      ]
     },
     "metadata": {},
     "output_type": "display_data"
    },
    {
     "name": "stdout",
     "output_type": "stream",
     "text": [
      "--------------------------------------------------\n",
      "Seed 3\n"
     ]
    },
    {
     "data": {
      "application/vnd.jupyter.widget-view+json": {
       "model_id": "31e755a8ae444ca7b0a702da48dce033",
       "version_major": 2,
       "version_minor": 0
      },
      "text/plain": [
       "  0%|          | 0/20 [00:00<?, ?it/s]"
      ]
     },
     "metadata": {},
     "output_type": "display_data"
    },
    {
     "name": "stdout",
     "output_type": "stream",
     "text": [
      "--------------------------------------------------\n",
      "Seed 4\n"
     ]
    },
    {
     "data": {
      "application/vnd.jupyter.widget-view+json": {
       "model_id": "ec3d0081a8744132bc42a96d5574eeae",
       "version_major": 2,
       "version_minor": 0
      },
      "text/plain": [
       "  0%|          | 0/20 [00:00<?, ?it/s]"
      ]
     },
     "metadata": {},
     "output_type": "display_data"
    },
    {
     "name": "stdout",
     "output_type": "stream",
     "text": [
      "--------------------------------------------------\n",
      "Average time: 106.51 seconds\n",
      "Found features: [47, 50, 47, 46, 50]\n",
      "Found 48.0 of 50 informative features\n",
      "0.0 of 48.0 outputted powershap features are noise features\n",
      "====================================================================================================\n",
      "Amount of samples = 10000\n",
      "Total used features = 100\n",
      "Informative features: 90 (90%)\n",
      "\n",
      "Seed 0\n"
     ]
    },
    {
     "data": {
      "application/vnd.jupyter.widget-view+json": {
       "model_id": "f2506bcb6cef4bde89c97575c65a549c",
       "version_major": 2,
       "version_minor": 0
      },
      "text/plain": [
       "  0%|          | 0/20 [00:00<?, ?it/s]"
      ]
     },
     "metadata": {},
     "output_type": "display_data"
    },
    {
     "name": "stdout",
     "output_type": "stream",
     "text": [
      "--------------------------------------------------\n",
      "Seed 1\n"
     ]
    },
    {
     "data": {
      "application/vnd.jupyter.widget-view+json": {
       "model_id": "958ec0f0973c402698bafce8596bec2e",
       "version_major": 2,
       "version_minor": 0
      },
      "text/plain": [
       "  0%|          | 0/20 [00:00<?, ?it/s]"
      ]
     },
     "metadata": {},
     "output_type": "display_data"
    },
    {
     "name": "stdout",
     "output_type": "stream",
     "text": [
      "--------------------------------------------------\n",
      "Seed 2\n"
     ]
    },
    {
     "data": {
      "application/vnd.jupyter.widget-view+json": {
       "model_id": "1fefb101b92648dd920a519daa202abd",
       "version_major": 2,
       "version_minor": 0
      },
      "text/plain": [
       "  0%|          | 0/20 [00:00<?, ?it/s]"
      ]
     },
     "metadata": {},
     "output_type": "display_data"
    },
    {
     "name": "stdout",
     "output_type": "stream",
     "text": [
      "--------------------------------------------------\n",
      "Seed 3\n"
     ]
    },
    {
     "data": {
      "application/vnd.jupyter.widget-view+json": {
       "model_id": "c5615ae41deb4de8baafea10993bf74d",
       "version_major": 2,
       "version_minor": 0
      },
      "text/plain": [
       "  0%|          | 0/20 [00:00<?, ?it/s]"
      ]
     },
     "metadata": {},
     "output_type": "display_data"
    },
    {
     "name": "stdout",
     "output_type": "stream",
     "text": [
      "--------------------------------------------------\n",
      "Seed 4\n"
     ]
    },
    {
     "data": {
      "application/vnd.jupyter.widget-view+json": {
       "model_id": "37bbf3617f8b44e09dd10d523f815c73",
       "version_major": 2,
       "version_minor": 0
      },
      "text/plain": [
       "  0%|          | 0/20 [00:00<?, ?it/s]"
      ]
     },
     "metadata": {},
     "output_type": "display_data"
    },
    {
     "name": "stdout",
     "output_type": "stream",
     "text": [
      "--------------------------------------------------\n",
      "Average time: 124.88 seconds\n",
      "Found features: [79, 79, 70, 78, 78]\n",
      "Found 76.8 of 90 informative features\n",
      "0.0 of 76.8 outputted powershap features are noise features\n",
      "====================================================================================================\n",
      "Amount of samples = 10000\n",
      "Total used features = 250\n",
      "Informative features: 7 (3%)\n",
      "\n",
      "Seed 0\n"
     ]
    },
    {
     "data": {
      "application/vnd.jupyter.widget-view+json": {
       "model_id": "f47794a514054df3963f6b6c84c528de",
       "version_major": 2,
       "version_minor": 0
      },
      "text/plain": [
       "  0%|          | 0/20 [00:00<?, ?it/s]"
      ]
     },
     "metadata": {},
     "output_type": "display_data"
    },
    {
     "name": "stdout",
     "output_type": "stream",
     "text": [
      "--------------------------------------------------\n",
      "Seed 1\n"
     ]
    },
    {
     "data": {
      "application/vnd.jupyter.widget-view+json": {
       "model_id": "f9e5ab5a5e8f41b3b3f0c4bd43f2c1c5",
       "version_major": 2,
       "version_minor": 0
      },
      "text/plain": [
       "  0%|          | 0/20 [00:00<?, ?it/s]"
      ]
     },
     "metadata": {},
     "output_type": "display_data"
    },
    {
     "name": "stdout",
     "output_type": "stream",
     "text": [
      "--------------------------------------------------\n",
      "Seed 2\n"
     ]
    },
    {
     "data": {
      "application/vnd.jupyter.widget-view+json": {
       "model_id": "5125f78bd96b472ea285184c3fa375ef",
       "version_major": 2,
       "version_minor": 0
      },
      "text/plain": [
       "  0%|          | 0/20 [00:00<?, ?it/s]"
      ]
     },
     "metadata": {},
     "output_type": "display_data"
    },
    {
     "name": "stdout",
     "output_type": "stream",
     "text": [
      "--------------------------------------------------\n",
      "Seed 3\n"
     ]
    },
    {
     "data": {
      "application/vnd.jupyter.widget-view+json": {
       "model_id": "3e2258150f434e60b6a89f881dc2a60f",
       "version_major": 2,
       "version_minor": 0
      },
      "text/plain": [
       "  0%|          | 0/20 [00:00<?, ?it/s]"
      ]
     },
     "metadata": {},
     "output_type": "display_data"
    },
    {
     "name": "stdout",
     "output_type": "stream",
     "text": [
      "--------------------------------------------------\n",
      "Seed 4\n"
     ]
    },
    {
     "data": {
      "application/vnd.jupyter.widget-view+json": {
       "model_id": "bed910c544c54a298da356e8ba08fd6f",
       "version_major": 2,
       "version_minor": 0
      },
      "text/plain": [
       "  0%|          | 0/20 [00:00<?, ?it/s]"
      ]
     },
     "metadata": {},
     "output_type": "display_data"
    },
    {
     "name": "stdout",
     "output_type": "stream",
     "text": [
      "--------------------------------------------------\n",
      "Average time: 172.32 seconds\n",
      "Found features: [7, 7, 7, 7, 8]\n",
      "Found 7.0 of 7 informative features\n",
      "0.2 of 7.2 outputted powershap features are noise features\n",
      "====================================================================================================\n",
      "Amount of samples = 10000\n",
      "Total used features = 250\n",
      "Informative features: 25 (10%)\n",
      "\n",
      "Seed 0\n"
     ]
    },
    {
     "data": {
      "application/vnd.jupyter.widget-view+json": {
       "model_id": "a1d0404c1981424b813a0458094795cc",
       "version_major": 2,
       "version_minor": 0
      },
      "text/plain": [
       "  0%|          | 0/20 [00:00<?, ?it/s]"
      ]
     },
     "metadata": {},
     "output_type": "display_data"
    },
    {
     "name": "stdout",
     "output_type": "stream",
     "text": [
      "--------------------------------------------------\n",
      "Seed 1\n"
     ]
    },
    {
     "data": {
      "application/vnd.jupyter.widget-view+json": {
       "model_id": "61e1ed01decb468b9a4c3bb668a1c731",
       "version_major": 2,
       "version_minor": 0
      },
      "text/plain": [
       "  0%|          | 0/20 [00:00<?, ?it/s]"
      ]
     },
     "metadata": {},
     "output_type": "display_data"
    },
    {
     "name": "stdout",
     "output_type": "stream",
     "text": [
      "--------------------------------------------------\n",
      "Seed 2\n"
     ]
    },
    {
     "data": {
      "application/vnd.jupyter.widget-view+json": {
       "model_id": "12745637f63a48b2b52e119c723a74be",
       "version_major": 2,
       "version_minor": 0
      },
      "text/plain": [
       "  0%|          | 0/20 [00:00<?, ?it/s]"
      ]
     },
     "metadata": {},
     "output_type": "display_data"
    },
    {
     "name": "stdout",
     "output_type": "stream",
     "text": [
      "--------------------------------------------------\n",
      "Seed 3\n"
     ]
    },
    {
     "data": {
      "application/vnd.jupyter.widget-view+json": {
       "model_id": "a35138b8bf6740c8a1a53d2d889ac06a",
       "version_major": 2,
       "version_minor": 0
      },
      "text/plain": [
       "  0%|          | 0/20 [00:00<?, ?it/s]"
      ]
     },
     "metadata": {},
     "output_type": "display_data"
    },
    {
     "name": "stdout",
     "output_type": "stream",
     "text": [
      "--------------------------------------------------\n",
      "Seed 4\n"
     ]
    },
    {
     "data": {
      "application/vnd.jupyter.widget-view+json": {
       "model_id": "55c6c1e7256345a7998d32d3c524d543",
       "version_major": 2,
       "version_minor": 0
      },
      "text/plain": [
       "  0%|          | 0/20 [00:00<?, ?it/s]"
      ]
     },
     "metadata": {},
     "output_type": "display_data"
    },
    {
     "name": "stdout",
     "output_type": "stream",
     "text": [
      "--------------------------------------------------\n",
      "Average time: 189.52 seconds\n",
      "Found features: [24, 25, 26, 26, 25]\n",
      "Found 24.8 of 25 informative features\n",
      "0.4 of 25.2 outputted powershap features are noise features\n",
      "====================================================================================================\n",
      "Amount of samples = 10000\n",
      "Total used features = 250\n",
      "Informative features: 82 (33%)\n",
      "\n",
      "Seed 0\n"
     ]
    },
    {
     "data": {
      "application/vnd.jupyter.widget-view+json": {
       "model_id": "627abca2695f4a069a29aa00dab19407",
       "version_major": 2,
       "version_minor": 0
      },
      "text/plain": [
       "  0%|          | 0/20 [00:00<?, ?it/s]"
      ]
     },
     "metadata": {},
     "output_type": "display_data"
    },
    {
     "name": "stdout",
     "output_type": "stream",
     "text": [
      "--------------------------------------------------\n",
      "Seed 1\n"
     ]
    },
    {
     "data": {
      "application/vnd.jupyter.widget-view+json": {
       "model_id": "2bee3b52ac8947e88d890ba483b386f4",
       "version_major": 2,
       "version_minor": 0
      },
      "text/plain": [
       "  0%|          | 0/20 [00:00<?, ?it/s]"
      ]
     },
     "metadata": {},
     "output_type": "display_data"
    },
    {
     "name": "stdout",
     "output_type": "stream",
     "text": [
      "--------------------------------------------------\n",
      "Seed 2\n"
     ]
    },
    {
     "data": {
      "application/vnd.jupyter.widget-view+json": {
       "model_id": "3675d935522a4d5a839bb4961017c09c",
       "version_major": 2,
       "version_minor": 0
      },
      "text/plain": [
       "  0%|          | 0/20 [00:00<?, ?it/s]"
      ]
     },
     "metadata": {},
     "output_type": "display_data"
    },
    {
     "name": "stdout",
     "output_type": "stream",
     "text": [
      "--------------------------------------------------\n",
      "Seed 3\n"
     ]
    },
    {
     "data": {
      "application/vnd.jupyter.widget-view+json": {
       "model_id": "8c3d0b34bae74ae69e4eee73a1a97dc3",
       "version_major": 2,
       "version_minor": 0
      },
      "text/plain": [
       "  0%|          | 0/20 [00:00<?, ?it/s]"
      ]
     },
     "metadata": {},
     "output_type": "display_data"
    },
    {
     "name": "stdout",
     "output_type": "stream",
     "text": [
      "--------------------------------------------------\n",
      "Seed 4\n"
     ]
    },
    {
     "data": {
      "application/vnd.jupyter.widget-view+json": {
       "model_id": "ff579aabdcca498791b3066052302697",
       "version_major": 2,
       "version_minor": 0
      },
      "text/plain": [
       "  0%|          | 0/20 [00:00<?, ?it/s]"
      ]
     },
     "metadata": {},
     "output_type": "display_data"
    },
    {
     "name": "stdout",
     "output_type": "stream",
     "text": [
      "--------------------------------------------------\n",
      "Average time: 218.82 seconds\n",
      "Found features: [70, 71, 71, 65, 69]\n",
      "Found 69.2 of 82 informative features\n",
      "0.0 of 69.2 outputted powershap features are noise features\n",
      "====================================================================================================\n",
      "Amount of samples = 10000\n",
      "Total used features = 250\n",
      "Informative features: 125 (50%)\n",
      "\n",
      "Seed 0\n"
     ]
    },
    {
     "data": {
      "application/vnd.jupyter.widget-view+json": {
       "model_id": "d276659d2ade4192a52874034455f4e9",
       "version_major": 2,
       "version_minor": 0
      },
      "text/plain": [
       "  0%|          | 0/20 [00:00<?, ?it/s]"
      ]
     },
     "metadata": {},
     "output_type": "display_data"
    },
    {
     "name": "stdout",
     "output_type": "stream",
     "text": [
      "--------------------------------------------------\n",
      "Seed 1\n"
     ]
    },
    {
     "data": {
      "application/vnd.jupyter.widget-view+json": {
       "model_id": "1d871a1a596441d9aa6a53edaedf3213",
       "version_major": 2,
       "version_minor": 0
      },
      "text/plain": [
       "  0%|          | 0/20 [00:00<?, ?it/s]"
      ]
     },
     "metadata": {},
     "output_type": "display_data"
    },
    {
     "name": "stdout",
     "output_type": "stream",
     "text": [
      "--------------------------------------------------\n",
      "Seed 2\n"
     ]
    },
    {
     "data": {
      "application/vnd.jupyter.widget-view+json": {
       "model_id": "fcea6ff9b80e4b7eabac9bf59ebb30aa",
       "version_major": 2,
       "version_minor": 0
      },
      "text/plain": [
       "  0%|          | 0/20 [00:00<?, ?it/s]"
      ]
     },
     "metadata": {},
     "output_type": "display_data"
    },
    {
     "name": "stdout",
     "output_type": "stream",
     "text": [
      "--------------------------------------------------\n",
      "Seed 3\n"
     ]
    },
    {
     "data": {
      "application/vnd.jupyter.widget-view+json": {
       "model_id": "707b2d30fda342ec8b0f4c7e937712b0",
       "version_major": 2,
       "version_minor": 0
      },
      "text/plain": [
       "  0%|          | 0/20 [00:00<?, ?it/s]"
      ]
     },
     "metadata": {},
     "output_type": "display_data"
    },
    {
     "name": "stdout",
     "output_type": "stream",
     "text": [
      "--------------------------------------------------\n",
      "Seed 4\n"
     ]
    },
    {
     "data": {
      "application/vnd.jupyter.widget-view+json": {
       "model_id": "a9871adba57848258e8c6a242525bbff",
       "version_major": 2,
       "version_minor": 0
      },
      "text/plain": [
       "  0%|          | 0/20 [00:00<?, ?it/s]"
      ]
     },
     "metadata": {},
     "output_type": "display_data"
    },
    {
     "name": "stdout",
     "output_type": "stream",
     "text": [
      "--------------------------------------------------\n",
      "Average time: 230.64 seconds\n",
      "Found features: [97, 94, 104, 90, 90]\n",
      "Found 95.0 of 125 informative features\n",
      "0.0 of 95.0 outputted powershap features are noise features\n",
      "====================================================================================================\n",
      "Amount of samples = 10000\n",
      "Total used features = 250\n",
      "Informative features: 225 (90%)\n",
      "\n",
      "Seed 0\n"
     ]
    },
    {
     "data": {
      "application/vnd.jupyter.widget-view+json": {
       "model_id": "f68c60f39e474a1e9aa4cb719508f23d",
       "version_major": 2,
       "version_minor": 0
      },
      "text/plain": [
       "  0%|          | 0/20 [00:00<?, ?it/s]"
      ]
     },
     "metadata": {},
     "output_type": "display_data"
    },
    {
     "name": "stdout",
     "output_type": "stream",
     "text": [
      "--------------------------------------------------\n",
      "Seed 1\n"
     ]
    },
    {
     "data": {
      "application/vnd.jupyter.widget-view+json": {
       "model_id": "4aacf4c8741c4951b1f47a75003ddbda",
       "version_major": 2,
       "version_minor": 0
      },
      "text/plain": [
       "  0%|          | 0/20 [00:00<?, ?it/s]"
      ]
     },
     "metadata": {},
     "output_type": "display_data"
    },
    {
     "name": "stdout",
     "output_type": "stream",
     "text": [
      "--------------------------------------------------\n",
      "Seed 2\n"
     ]
    },
    {
     "data": {
      "application/vnd.jupyter.widget-view+json": {
       "model_id": "b323189b178d4d069ea3b96224d3e75c",
       "version_major": 2,
       "version_minor": 0
      },
      "text/plain": [
       "  0%|          | 0/20 [00:00<?, ?it/s]"
      ]
     },
     "metadata": {},
     "output_type": "display_data"
    },
    {
     "name": "stdout",
     "output_type": "stream",
     "text": [
      "--------------------------------------------------\n",
      "Seed 3\n"
     ]
    },
    {
     "data": {
      "application/vnd.jupyter.widget-view+json": {
       "model_id": "4f6654e99fb94400a0c62782452a3064",
       "version_major": 2,
       "version_minor": 0
      },
      "text/plain": [
       "  0%|          | 0/20 [00:00<?, ?it/s]"
      ]
     },
     "metadata": {},
     "output_type": "display_data"
    },
    {
     "name": "stdout",
     "output_type": "stream",
     "text": [
      "--------------------------------------------------\n",
      "Seed 4\n"
     ]
    },
    {
     "data": {
      "application/vnd.jupyter.widget-view+json": {
       "model_id": "3016492e96fe4a758b1960f3aa281f0a",
       "version_major": 2,
       "version_minor": 0
      },
      "text/plain": [
       "  0%|          | 0/20 [00:00<?, ?it/s]"
      ]
     },
     "metadata": {},
     "output_type": "display_data"
    },
    {
     "name": "stdout",
     "output_type": "stream",
     "text": [
      "--------------------------------------------------\n",
      "Average time: 272.18 seconds\n",
      "Found features: [132, 135, 136, 134, 134]\n",
      "Found 134.2 of 225 informative features\n",
      "0.0 of 134.2 outputted powershap features are noise features\n",
      "====================================================================================================\n",
      "Amount of samples = 10000\n",
      "Total used features = 500\n",
      "Informative features: 15 (3%)\n",
      "\n",
      "Seed 0\n"
     ]
    },
    {
     "data": {
      "application/vnd.jupyter.widget-view+json": {
       "model_id": "1441097d7dcc49b8ba29e484e7652e3b",
       "version_major": 2,
       "version_minor": 0
      },
      "text/plain": [
       "  0%|          | 0/20 [00:00<?, ?it/s]"
      ]
     },
     "metadata": {},
     "output_type": "display_data"
    },
    {
     "name": "stdout",
     "output_type": "stream",
     "text": [
      "--------------------------------------------------\n",
      "Seed 1\n"
     ]
    },
    {
     "data": {
      "application/vnd.jupyter.widget-view+json": {
       "model_id": "612cb20418d14d8c912b2909c602d678",
       "version_major": 2,
       "version_minor": 0
      },
      "text/plain": [
       "  0%|          | 0/20 [00:00<?, ?it/s]"
      ]
     },
     "metadata": {},
     "output_type": "display_data"
    },
    {
     "name": "stdout",
     "output_type": "stream",
     "text": [
      "--------------------------------------------------\n",
      "Seed 2\n"
     ]
    },
    {
     "data": {
      "application/vnd.jupyter.widget-view+json": {
       "model_id": "fbe67e9544714f508dd50299ca9eddcd",
       "version_major": 2,
       "version_minor": 0
      },
      "text/plain": [
       "  0%|          | 0/20 [00:00<?, ?it/s]"
      ]
     },
     "metadata": {},
     "output_type": "display_data"
    },
    {
     "name": "stdout",
     "output_type": "stream",
     "text": [
      "--------------------------------------------------\n",
      "Seed 3\n"
     ]
    },
    {
     "data": {
      "application/vnd.jupyter.widget-view+json": {
       "model_id": "2f771e10268e475d8b10500656c72a70",
       "version_major": 2,
       "version_minor": 0
      },
      "text/plain": [
       "  0%|          | 0/20 [00:00<?, ?it/s]"
      ]
     },
     "metadata": {},
     "output_type": "display_data"
    },
    {
     "name": "stdout",
     "output_type": "stream",
     "text": [
      "--------------------------------------------------\n",
      "Seed 4\n"
     ]
    },
    {
     "data": {
      "application/vnd.jupyter.widget-view+json": {
       "model_id": "5ef1e22647684f11af91b425f4401488",
       "version_major": 2,
       "version_minor": 0
      },
      "text/plain": [
       "  0%|          | 0/20 [00:00<?, ?it/s]"
      ]
     },
     "metadata": {},
     "output_type": "display_data"
    },
    {
     "name": "stdout",
     "output_type": "stream",
     "text": [
      "--------------------------------------------------\n",
      "Average time: 340.52 seconds\n",
      "Found features: [15, 15, 14, 15, 15]\n",
      "Found 14.8 of 15 informative features\n",
      "0.0 of 14.8 outputted powershap features are noise features\n",
      "====================================================================================================\n",
      "Amount of samples = 10000\n",
      "Total used features = 500\n",
      "Informative features: 50 (10%)\n",
      "\n",
      "Seed 0\n"
     ]
    },
    {
     "data": {
      "application/vnd.jupyter.widget-view+json": {
       "model_id": "8e696ca24cd84bad953f8eb9f07a5595",
       "version_major": 2,
       "version_minor": 0
      },
      "text/plain": [
       "  0%|          | 0/20 [00:00<?, ?it/s]"
      ]
     },
     "metadata": {},
     "output_type": "display_data"
    },
    {
     "name": "stdout",
     "output_type": "stream",
     "text": [
      "--------------------------------------------------\n",
      "Seed 1\n"
     ]
    },
    {
     "data": {
      "application/vnd.jupyter.widget-view+json": {
       "model_id": "d5e267dff8f84ef49d5ab9ffbf27f17e",
       "version_major": 2,
       "version_minor": 0
      },
      "text/plain": [
       "  0%|          | 0/20 [00:00<?, ?it/s]"
      ]
     },
     "metadata": {},
     "output_type": "display_data"
    },
    {
     "name": "stdout",
     "output_type": "stream",
     "text": [
      "--------------------------------------------------\n",
      "Seed 2\n"
     ]
    },
    {
     "data": {
      "application/vnd.jupyter.widget-view+json": {
       "model_id": "672bacbb1e97415ab9ccfa12cbb39da0",
       "version_major": 2,
       "version_minor": 0
      },
      "text/plain": [
       "  0%|          | 0/20 [00:00<?, ?it/s]"
      ]
     },
     "metadata": {},
     "output_type": "display_data"
    },
    {
     "name": "stdout",
     "output_type": "stream",
     "text": [
      "--------------------------------------------------\n",
      "Seed 3\n"
     ]
    },
    {
     "data": {
      "application/vnd.jupyter.widget-view+json": {
       "model_id": "0994e971dba84fa4895b91f32dd90142",
       "version_major": 2,
       "version_minor": 0
      },
      "text/plain": [
       "  0%|          | 0/20 [00:00<?, ?it/s]"
      ]
     },
     "metadata": {},
     "output_type": "display_data"
    },
    {
     "name": "stdout",
     "output_type": "stream",
     "text": [
      "--------------------------------------------------\n",
      "Seed 4\n"
     ]
    },
    {
     "data": {
      "application/vnd.jupyter.widget-view+json": {
       "model_id": "a6d6d0c1843447fb82f4cb3872de0db3",
       "version_major": 2,
       "version_minor": 0
      },
      "text/plain": [
       "  0%|          | 0/20 [00:00<?, ?it/s]"
      ]
     },
     "metadata": {},
     "output_type": "display_data"
    },
    {
     "name": "stdout",
     "output_type": "stream",
     "text": [
      "--------------------------------------------------\n",
      "Average time: 371.68 seconds\n",
      "Found features: [45, 49, 46, 47, 48]\n",
      "Found 46.8 of 50 informative features\n",
      "0.2 of 47.0 outputted powershap features are noise features\n",
      "====================================================================================================\n",
      "Amount of samples = 10000\n",
      "Total used features = 500\n",
      "Informative features: 165 (33%)\n",
      "\n",
      "Seed 0\n"
     ]
    },
    {
     "data": {
      "application/vnd.jupyter.widget-view+json": {
       "model_id": "6870b62278834fc19fb9f141e0406c7a",
       "version_major": 2,
       "version_minor": 0
      },
      "text/plain": [
       "  0%|          | 0/20 [00:00<?, ?it/s]"
      ]
     },
     "metadata": {},
     "output_type": "display_data"
    },
    {
     "name": "stdout",
     "output_type": "stream",
     "text": [
      "--------------------------------------------------\n",
      "Seed 1\n"
     ]
    },
    {
     "data": {
      "application/vnd.jupyter.widget-view+json": {
       "model_id": "9ceac64f6b2a456388dcf97b6d956770",
       "version_major": 2,
       "version_minor": 0
      },
      "text/plain": [
       "  0%|          | 0/20 [00:00<?, ?it/s]"
      ]
     },
     "metadata": {},
     "output_type": "display_data"
    },
    {
     "name": "stdout",
     "output_type": "stream",
     "text": [
      "--------------------------------------------------\n",
      "Seed 2\n"
     ]
    },
    {
     "data": {
      "application/vnd.jupyter.widget-view+json": {
       "model_id": "a6b0a27e397c4f76a2365740b22d05a4",
       "version_major": 2,
       "version_minor": 0
      },
      "text/plain": [
       "  0%|          | 0/20 [00:00<?, ?it/s]"
      ]
     },
     "metadata": {},
     "output_type": "display_data"
    },
    {
     "name": "stdout",
     "output_type": "stream",
     "text": [
      "--------------------------------------------------\n",
      "Seed 3\n"
     ]
    },
    {
     "data": {
      "application/vnd.jupyter.widget-view+json": {
       "model_id": "2360514baebd4c1586722cd53544829c",
       "version_major": 2,
       "version_minor": 0
      },
      "text/plain": [
       "  0%|          | 0/20 [00:00<?, ?it/s]"
      ]
     },
     "metadata": {},
     "output_type": "display_data"
    },
    {
     "name": "stdout",
     "output_type": "stream",
     "text": [
      "--------------------------------------------------\n",
      "Seed 4\n"
     ]
    },
    {
     "data": {
      "application/vnd.jupyter.widget-view+json": {
       "model_id": "4404acc82e9a48b9bd7d8a7aca1449ab",
       "version_major": 2,
       "version_minor": 0
      },
      "text/plain": [
       "  0%|          | 0/20 [00:00<?, ?it/s]"
      ]
     },
     "metadata": {},
     "output_type": "display_data"
    },
    {
     "name": "stdout",
     "output_type": "stream",
     "text": [
      "--------------------------------------------------\n",
      "Average time: 419.05 seconds\n",
      "Found features: [113, 107, 101, 113, 87]\n",
      "Found 104.0 of 165 informative features\n",
      "0.2 of 104.2 outputted powershap features are noise features\n",
      "====================================================================================================\n",
      "Amount of samples = 10000\n",
      "Total used features = 500\n",
      "Informative features: 250 (50%)\n",
      "\n",
      "Seed 0\n"
     ]
    },
    {
     "data": {
      "application/vnd.jupyter.widget-view+json": {
       "model_id": "2aacee66d4f248c5a9afce55103932d6",
       "version_major": 2,
       "version_minor": 0
      },
      "text/plain": [
       "  0%|          | 0/20 [00:00<?, ?it/s]"
      ]
     },
     "metadata": {},
     "output_type": "display_data"
    },
    {
     "name": "stdout",
     "output_type": "stream",
     "text": [
      "--------------------------------------------------\n",
      "Seed 1\n"
     ]
    },
    {
     "data": {
      "application/vnd.jupyter.widget-view+json": {
       "model_id": "d6341a7dd2864282b2c4fda95ded9210",
       "version_major": 2,
       "version_minor": 0
      },
      "text/plain": [
       "  0%|          | 0/20 [00:00<?, ?it/s]"
      ]
     },
     "metadata": {},
     "output_type": "display_data"
    },
    {
     "name": "stdout",
     "output_type": "stream",
     "text": [
      "--------------------------------------------------\n",
      "Seed 2\n"
     ]
    },
    {
     "data": {
      "application/vnd.jupyter.widget-view+json": {
       "model_id": "68d44b3f2dfd4700b769445f7ba46b80",
       "version_major": 2,
       "version_minor": 0
      },
      "text/plain": [
       "  0%|          | 0/20 [00:00<?, ?it/s]"
      ]
     },
     "metadata": {},
     "output_type": "display_data"
    },
    {
     "name": "stdout",
     "output_type": "stream",
     "text": [
      "--------------------------------------------------\n",
      "Seed 3\n"
     ]
    },
    {
     "data": {
      "application/vnd.jupyter.widget-view+json": {
       "model_id": "912c39d756af468ba05280d8162753d0",
       "version_major": 2,
       "version_minor": 0
      },
      "text/plain": [
       "  0%|          | 0/20 [00:00<?, ?it/s]"
      ]
     },
     "metadata": {},
     "output_type": "display_data"
    },
    {
     "name": "stdout",
     "output_type": "stream",
     "text": [
      "--------------------------------------------------\n",
      "Seed 4\n"
     ]
    },
    {
     "data": {
      "application/vnd.jupyter.widget-view+json": {
       "model_id": "ee6c373b79d748de888d5a52fb78bb72",
       "version_major": 2,
       "version_minor": 0
      },
      "text/plain": [
       "  0%|          | 0/20 [00:00<?, ?it/s]"
      ]
     },
     "metadata": {},
     "output_type": "display_data"
    },
    {
     "name": "stdout",
     "output_type": "stream",
     "text": [
      "--------------------------------------------------\n",
      "Average time: 443.09 seconds\n",
      "Found features: [148, 142, 147, 129, 132]\n",
      "Found 139.6 of 250 informative features\n",
      "0.0 of 139.6 outputted powershap features are noise features\n",
      "====================================================================================================\n",
      "Amount of samples = 10000\n",
      "Total used features = 500\n",
      "Informative features: 450 (90%)\n",
      "\n",
      "Seed 0\n"
     ]
    },
    {
     "data": {
      "application/vnd.jupyter.widget-view+json": {
       "model_id": "c583fba6b17f42eb8991656c251c13ca",
       "version_major": 2,
       "version_minor": 0
      },
      "text/plain": [
       "  0%|          | 0/20 [00:00<?, ?it/s]"
      ]
     },
     "metadata": {},
     "output_type": "display_data"
    },
    {
     "name": "stdout",
     "output_type": "stream",
     "text": [
      "--------------------------------------------------\n",
      "Seed 1\n"
     ]
    },
    {
     "data": {
      "application/vnd.jupyter.widget-view+json": {
       "model_id": "e9dd9f3aeedb4145a07655fe15deb3fb",
       "version_major": 2,
       "version_minor": 0
      },
      "text/plain": [
       "  0%|          | 0/20 [00:00<?, ?it/s]"
      ]
     },
     "metadata": {},
     "output_type": "display_data"
    },
    {
     "name": "stdout",
     "output_type": "stream",
     "text": [
      "--------------------------------------------------\n",
      "Seed 2\n"
     ]
    },
    {
     "data": {
      "application/vnd.jupyter.widget-view+json": {
       "model_id": "98bb2ef48f6a46e9a2dc679ff51efcda",
       "version_major": 2,
       "version_minor": 0
      },
      "text/plain": [
       "  0%|          | 0/20 [00:00<?, ?it/s]"
      ]
     },
     "metadata": {},
     "output_type": "display_data"
    },
    {
     "name": "stdout",
     "output_type": "stream",
     "text": [
      "--------------------------------------------------\n",
      "Seed 3\n"
     ]
    },
    {
     "data": {
      "application/vnd.jupyter.widget-view+json": {
       "model_id": "5441f2396d8c448b858ffb88a66156b5",
       "version_major": 2,
       "version_minor": 0
      },
      "text/plain": [
       "  0%|          | 0/20 [00:00<?, ?it/s]"
      ]
     },
     "metadata": {},
     "output_type": "display_data"
    },
    {
     "name": "stdout",
     "output_type": "stream",
     "text": [
      "--------------------------------------------------\n",
      "Seed 4\n"
     ]
    },
    {
     "data": {
      "application/vnd.jupyter.widget-view+json": {
       "model_id": "45b32e2bfc1b46c4a592bc6e6f329c35",
       "version_major": 2,
       "version_minor": 0
      },
      "text/plain": [
       "  0%|          | 0/20 [00:00<?, ?it/s]"
      ]
     },
     "metadata": {},
     "output_type": "display_data"
    },
    {
     "name": "stdout",
     "output_type": "stream",
     "text": [
      "--------------------------------------------------\n",
      "Average time: 479.38 seconds\n",
      "Found features: [117, 144, 156, 137, 123]\n",
      "Found 135.4 of 450 informative features\n",
      "0.0 of 135.4 outputted powershap features are noise features\n",
      "====================================================================================================\n"
     ]
    }
   ],
   "source": [
    "from BorutaShap import BorutaShap\n",
    "\n",
    "for hypercube in [True]:\n",
    "    output_dict = {}\n",
    "    for n_samples in [5000, 10000]:\n",
    "        output_dict[str(n_samples)]={}\n",
    "        for n_features in [20,100,250,500]:\n",
    "            output_dict[str(n_samples)][str(n_features)]={}\n",
    "            \n",
    "            average_times = []\n",
    "            output_dict[str(n_samples)][str(n_features)][\"Average time\"]=average_times\n",
    "            for n_informative in [3,10,33,50,90]:\n",
    "                output_dict[str(n_samples)][str(n_features)][str(n_informative)+\"%\"]={}\n",
    "                print(\"Amount of samples = \"+str(n_samples))\n",
    "                print(\"Total used features = \"+str(n_features))\n",
    "                n_inform = int(n_informative/100*n_features)\n",
    "                if n_inform < 1:\n",
    "                    n_inform = 1\n",
    "                print(\"Informative features: \"+str(n_inform)+\" (\"+str(n_informative)+\"%)\")\n",
    "                print(\"\")\n",
    "                \n",
    "                found_features = []\n",
    "                found_idx_features = []\n",
    "                times = []\n",
    "                for random_seed in [0,1,2,3,4]:\n",
    "                    print(\"Seed \"+str(random_seed))\n",
    "                    \n",
    "                    if n_inform == 1:\n",
    "                        X, y = make_classification(n_samples=n_samples, n_classes=2, n_features=n_features, hypercube=hypercube, n_informative=1, n_redundant=0, n_repeated = 0,shuffle=False,random_state=random_seed, n_clusters_per_class=1)\n",
    "                    else:\n",
    "                        X, y = make_classification(n_samples=n_samples, n_classes=2, n_features=n_features, hypercube=hypercube, n_informative=n_inform, n_redundant=0, n_repeated = 0,shuffle=False,random_state=random_seed)                        \n",
    "                    \n",
    "                    X = pd.DataFrame(data=X, columns=[f\"col_{i}\" for i in range(n_features)])\n",
    "    \n",
    "                    start_time = time.time()\n",
    "\n",
    "                    selector = BorutaShap(model =XGBClassifier(n_estimators=250, verbosity=0),\n",
    "                                          importance_measure='shap',classification=True)\n",
    "                    \n",
    "                    selector.fit(X=X, y=y, verbose=False)\n",
    "                    subset = selector.Subset()\n",
    "                    \n",
    "                    times.append(time.time() - start_time)\n",
    "                    print(50*\"-\")\n",
    "                    \n",
    "                    found_features.append(len(subset.columns))\n",
    "                    found_idx_features.append(subset.columns)\n",
    "                    \n",
    "                found_informative_features = [np.sum(np.isin(X.columns.values[:n_inform],f_list)) for f_list in found_idx_features]\n",
    "                found_noise_features = [np.sum(1-np.isin(f_list,X.columns.values[:n_inform])) for f_list in found_idx_features]\n",
    "                print(\"Average time: \"+str(np.round(np.mean(times),2))+\" seconds\")\n",
    "                print(\"Found features: \"+str(found_features))#len(processed_shaps_df[processed_shaps_df.p_value<0.01])))\n",
    "                print(\"Found \"+str(np.mean(found_informative_features))+\" of \"+str(n_inform)+\" informative features\")\n",
    "                print(str(np.mean(found_noise_features))+\" of \"+str(np.mean(found_features))+\" outputted powershap features are noise features\")\n",
    "                \n",
    "                average_times.append(np.round(times,2))\n",
    "                \n",
    "                output_dict[str(n_samples)][str(n_features)][str(n_informative)+\"%\"][\"informative_features\"]=n_inform\n",
    "                output_dict[str(n_samples)][str(n_features)][str(n_informative)+\"%\"][\"found_informative_features\"]=found_informative_features\n",
    "                output_dict[str(n_samples)][str(n_features)][str(n_informative)+\"%\"][\"outputted_noise_features\"]=found_noise_features\n",
    "                \n",
    "                print(100*\"=\")\n",
    "        \n",
    "    if not hypercube:\n",
    "        output_dict_to_df(output_dict).to_csv(f\"../results/{sub}/make_classi_borutashap_output_df.csv\",index=False)\n",
    "    else:\n",
    "        output_dict_to_df(output_dict).to_csv(f\"../results/{sub}/make_classi_borutashap_output_df_hypercube.csv\",index=False)"
   ]
  },
  {
   "cell_type": "markdown",
   "id": "5e505343-4d29-48ef-ba9b-cf19deb5f149",
   "metadata": {},
   "source": [
    "## Shapicant"
   ]
  },
  {
   "cell_type": "code",
   "execution_count": 16,
   "id": "67a9e74d-a000-44ee-b363-a15139fc58a9",
   "metadata": {},
   "outputs": [
    {
     "name": "stdout",
     "output_type": "stream",
     "text": [
      "Amount of samples = 5000\n",
      "Total used features = 20\n",
      "Informative features: 1 (3%)\n",
      "\n",
      "Seed 0\n"
     ]
    },
    {
     "name": "stderr",
     "output_type": "stream",
     "text": [
      "Computing null SHAP values: 100%|████████████████████████████████████████████████████| 100/100 [01:32<00:00,  1.08it/s]\n"
     ]
    },
    {
     "name": "stdout",
     "output_type": "stream",
     "text": [
      "--------------------------------------------------\n",
      "Seed 1\n"
     ]
    },
    {
     "name": "stderr",
     "output_type": "stream",
     "text": [
      "Computing null SHAP values: 100%|████████████████████████████████████████████████████| 100/100 [01:31<00:00,  1.09it/s]\n"
     ]
    },
    {
     "name": "stdout",
     "output_type": "stream",
     "text": [
      "--------------------------------------------------\n",
      "Seed 2\n"
     ]
    },
    {
     "name": "stderr",
     "output_type": "stream",
     "text": [
      "Computing null SHAP values: 100%|████████████████████████████████████████████████████| 100/100 [01:32<00:00,  1.09it/s]\n"
     ]
    },
    {
     "name": "stdout",
     "output_type": "stream",
     "text": [
      "--------------------------------------------------\n",
      "Seed 3\n"
     ]
    },
    {
     "name": "stderr",
     "output_type": "stream",
     "text": [
      "Computing null SHAP values: 100%|████████████████████████████████████████████████████| 100/100 [01:31<00:00,  1.09it/s]\n"
     ]
    },
    {
     "name": "stdout",
     "output_type": "stream",
     "text": [
      "--------------------------------------------------\n",
      "Seed 4\n"
     ]
    },
    {
     "name": "stderr",
     "output_type": "stream",
     "text": [
      "Computing null SHAP values: 100%|████████████████████████████████████████████████████| 100/100 [01:32<00:00,  1.08it/s]\n"
     ]
    },
    {
     "name": "stdout",
     "output_type": "stream",
     "text": [
      "--------------------------------------------------\n",
      "Average time: 92.13 seconds\n",
      "Found features: [4, 7, 5, 5, 1]\n",
      "Found 1.0 of 1 informative features\n",
      "3.4 of 4.4 outputted powershap features are noise features\n",
      "====================================================================================================\n",
      "Amount of samples = 5000\n",
      "Total used features = 20\n",
      "Informative features: 2 (10%)\n",
      "\n",
      "Seed 0\n"
     ]
    },
    {
     "name": "stderr",
     "output_type": "stream",
     "text": [
      "Computing null SHAP values: 100%|████████████████████████████████████████████████████| 100/100 [01:31<00:00,  1.09it/s]\n"
     ]
    },
    {
     "name": "stdout",
     "output_type": "stream",
     "text": [
      "--------------------------------------------------\n",
      "Seed 1\n"
     ]
    },
    {
     "name": "stderr",
     "output_type": "stream",
     "text": [
      "Computing null SHAP values: 100%|████████████████████████████████████████████████████| 100/100 [01:32<00:00,  1.08it/s]\n"
     ]
    },
    {
     "name": "stdout",
     "output_type": "stream",
     "text": [
      "--------------------------------------------------\n",
      "Seed 2\n"
     ]
    },
    {
     "name": "stderr",
     "output_type": "stream",
     "text": [
      "Computing null SHAP values: 100%|████████████████████████████████████████████████████| 100/100 [01:31<00:00,  1.09it/s]\n"
     ]
    },
    {
     "name": "stdout",
     "output_type": "stream",
     "text": [
      "--------------------------------------------------\n",
      "Seed 3\n"
     ]
    },
    {
     "name": "stderr",
     "output_type": "stream",
     "text": [
      "Computing null SHAP values: 100%|████████████████████████████████████████████████████| 100/100 [01:33<00:00,  1.07it/s]\n"
     ]
    },
    {
     "name": "stdout",
     "output_type": "stream",
     "text": [
      "--------------------------------------------------\n",
      "Seed 4\n"
     ]
    },
    {
     "name": "stderr",
     "output_type": "stream",
     "text": [
      "Computing null SHAP values: 100%|████████████████████████████████████████████████████| 100/100 [01:32<00:00,  1.08it/s]\n"
     ]
    },
    {
     "name": "stdout",
     "output_type": "stream",
     "text": [
      "--------------------------------------------------\n",
      "Average time: 92.39 seconds\n",
      "Found features: [5, 3, 4, 4, 4]\n",
      "Found 2.0 of 2 informative features\n",
      "2.0 of 4.0 outputted powershap features are noise features\n",
      "====================================================================================================\n",
      "Amount of samples = 5000\n",
      "Total used features = 20\n",
      "Informative features: 6 (33%)\n",
      "\n",
      "Seed 0\n"
     ]
    },
    {
     "name": "stderr",
     "output_type": "stream",
     "text": [
      "Computing null SHAP values: 100%|████████████████████████████████████████████████████| 100/100 [01:32<00:00,  1.09it/s]\n"
     ]
    },
    {
     "name": "stdout",
     "output_type": "stream",
     "text": [
      "--------------------------------------------------\n",
      "Seed 1\n"
     ]
    },
    {
     "name": "stderr",
     "output_type": "stream",
     "text": [
      "Computing null SHAP values: 100%|████████████████████████████████████████████████████| 100/100 [01:32<00:00,  1.08it/s]\n"
     ]
    },
    {
     "name": "stdout",
     "output_type": "stream",
     "text": [
      "--------------------------------------------------\n",
      "Seed 2\n"
     ]
    },
    {
     "name": "stderr",
     "output_type": "stream",
     "text": [
      "Computing null SHAP values: 100%|████████████████████████████████████████████████████| 100/100 [01:32<00:00,  1.09it/s]\n"
     ]
    },
    {
     "name": "stdout",
     "output_type": "stream",
     "text": [
      "--------------------------------------------------\n",
      "Seed 3\n"
     ]
    },
    {
     "name": "stderr",
     "output_type": "stream",
     "text": [
      "Computing null SHAP values: 100%|████████████████████████████████████████████████████| 100/100 [01:32<00:00,  1.08it/s]\n"
     ]
    },
    {
     "name": "stdout",
     "output_type": "stream",
     "text": [
      "--------------------------------------------------\n",
      "Seed 4\n"
     ]
    },
    {
     "name": "stderr",
     "output_type": "stream",
     "text": [
      "Computing null SHAP values: 100%|████████████████████████████████████████████████████| 100/100 [01:32<00:00,  1.09it/s]\n"
     ]
    },
    {
     "name": "stdout",
     "output_type": "stream",
     "text": [
      "--------------------------------------------------\n",
      "Average time: 92.22 seconds\n",
      "Found features: [6, 6, 7, 6, 6]\n",
      "Found 6.0 of 6 informative features\n",
      "0.2 of 6.2 outputted powershap features are noise features\n",
      "====================================================================================================\n",
      "Amount of samples = 5000\n",
      "Total used features = 20\n",
      "Informative features: 10 (50%)\n",
      "\n",
      "Seed 0\n"
     ]
    },
    {
     "name": "stderr",
     "output_type": "stream",
     "text": [
      "Computing null SHAP values: 100%|████████████████████████████████████████████████████| 100/100 [01:32<00:00,  1.08it/s]\n"
     ]
    },
    {
     "name": "stdout",
     "output_type": "stream",
     "text": [
      "--------------------------------------------------\n",
      "Seed 1\n"
     ]
    },
    {
     "name": "stderr",
     "output_type": "stream",
     "text": [
      "Computing null SHAP values: 100%|████████████████████████████████████████████████████| 100/100 [01:32<00:00,  1.08it/s]\n"
     ]
    },
    {
     "name": "stdout",
     "output_type": "stream",
     "text": [
      "--------------------------------------------------\n",
      "Seed 2\n"
     ]
    },
    {
     "name": "stderr",
     "output_type": "stream",
     "text": [
      "Computing null SHAP values: 100%|████████████████████████████████████████████████████| 100/100 [01:33<00:00,  1.07it/s]\n"
     ]
    },
    {
     "name": "stdout",
     "output_type": "stream",
     "text": [
      "--------------------------------------------------\n",
      "Seed 3\n"
     ]
    },
    {
     "name": "stderr",
     "output_type": "stream",
     "text": [
      "Computing null SHAP values: 100%|████████████████████████████████████████████████████| 100/100 [01:32<00:00,  1.08it/s]\n"
     ]
    },
    {
     "name": "stdout",
     "output_type": "stream",
     "text": [
      "--------------------------------------------------\n",
      "Seed 4\n"
     ]
    },
    {
     "name": "stderr",
     "output_type": "stream",
     "text": [
      "Computing null SHAP values: 100%|████████████████████████████████████████████████████| 100/100 [01:32<00:00,  1.08it/s]\n"
     ]
    },
    {
     "name": "stdout",
     "output_type": "stream",
     "text": [
      "--------------------------------------------------\n",
      "Average time: 92.52 seconds\n",
      "Found features: [10, 10, 10, 10, 10]\n",
      "Found 10.0 of 10 informative features\n",
      "0.0 of 10.0 outputted powershap features are noise features\n",
      "====================================================================================================\n",
      "Amount of samples = 5000\n",
      "Total used features = 20\n",
      "Informative features: 18 (90%)\n",
      "\n",
      "Seed 0\n"
     ]
    },
    {
     "name": "stderr",
     "output_type": "stream",
     "text": [
      "Computing null SHAP values: 100%|████████████████████████████████████████████████████| 100/100 [01:32<00:00,  1.08it/s]\n"
     ]
    },
    {
     "name": "stdout",
     "output_type": "stream",
     "text": [
      "--------------------------------------------------\n",
      "Seed 1\n"
     ]
    },
    {
     "name": "stderr",
     "output_type": "stream",
     "text": [
      "Computing null SHAP values: 100%|████████████████████████████████████████████████████| 100/100 [01:32<00:00,  1.08it/s]\n"
     ]
    },
    {
     "name": "stdout",
     "output_type": "stream",
     "text": [
      "--------------------------------------------------\n",
      "Seed 2\n"
     ]
    },
    {
     "name": "stderr",
     "output_type": "stream",
     "text": [
      "Computing null SHAP values: 100%|████████████████████████████████████████████████████| 100/100 [01:32<00:00,  1.08it/s]\n"
     ]
    },
    {
     "name": "stdout",
     "output_type": "stream",
     "text": [
      "--------------------------------------------------\n",
      "Seed 3\n"
     ]
    },
    {
     "name": "stderr",
     "output_type": "stream",
     "text": [
      "Computing null SHAP values: 100%|████████████████████████████████████████████████████| 100/100 [01:32<00:00,  1.09it/s]\n"
     ]
    },
    {
     "name": "stdout",
     "output_type": "stream",
     "text": [
      "--------------------------------------------------\n",
      "Seed 4\n"
     ]
    },
    {
     "name": "stderr",
     "output_type": "stream",
     "text": [
      "Computing null SHAP values: 100%|████████████████████████████████████████████████████| 100/100 [01:32<00:00,  1.08it/s]\n"
     ]
    },
    {
     "name": "stdout",
     "output_type": "stream",
     "text": [
      "--------------------------------------------------\n",
      "Average time: 92.52 seconds\n",
      "Found features: [18, 18, 17, 17, 18]\n",
      "Found 17.6 of 18 informative features\n",
      "0.0 of 17.6 outputted powershap features are noise features\n",
      "====================================================================================================\n",
      "5000: \n",
      "20: \n",
      "[92.57 91.78 92.13 91.79 92.38]s - [91.58 92.72 91.71 93.15 92.79]s - [92.11 92.2  92.08 92.53 92.16]s - [92.33 92.18 93.04 92.56 92.48]s - [92.6  92.6  92.69 92.07 92.64]s | [1, 1, 1, 1, 1] ([3, 6, 4, 4, 0]) / 1 | [2, 2, 2, 2, 2] ([3, 1, 2, 2, 2]) / 2 | [6, 6, 6, 6, 6] ([0, 0, 1, 0, 0]) / 6 | [10, 10, 10, 10, 10] ([0, 0, 0, 0, 0]) / 10 | [18, 18, 17, 17, 18] ([0, 0, 0, 0, 0]) / 18 | \n",
      "====================================================================================================\n",
      "Amount of samples = 5000\n",
      "Total used features = 100\n",
      "Informative features: 3 (3%)\n",
      "\n",
      "Seed 0\n"
     ]
    },
    {
     "name": "stderr",
     "output_type": "stream",
     "text": [
      "Computing null SHAP values: 100%|████████████████████████████████████████████████████| 100/100 [03:42<00:00,  2.22s/it]\n"
     ]
    },
    {
     "name": "stdout",
     "output_type": "stream",
     "text": [
      "--------------------------------------------------\n",
      "Seed 1\n"
     ]
    },
    {
     "name": "stderr",
     "output_type": "stream",
     "text": [
      "Computing null SHAP values: 100%|████████████████████████████████████████████████████| 100/100 [03:46<00:00,  2.26s/it]\n"
     ]
    },
    {
     "name": "stdout",
     "output_type": "stream",
     "text": [
      "--------------------------------------------------\n",
      "Seed 2\n"
     ]
    },
    {
     "name": "stderr",
     "output_type": "stream",
     "text": [
      "Computing null SHAP values: 100%|████████████████████████████████████████████████████| 100/100 [03:41<00:00,  2.22s/it]\n"
     ]
    },
    {
     "name": "stdout",
     "output_type": "stream",
     "text": [
      "--------------------------------------------------\n",
      "Seed 3\n"
     ]
    },
    {
     "name": "stderr",
     "output_type": "stream",
     "text": [
      "Computing null SHAP values: 100%|████████████████████████████████████████████████████| 100/100 [03:44<00:00,  2.24s/it]\n"
     ]
    },
    {
     "name": "stdout",
     "output_type": "stream",
     "text": [
      "--------------------------------------------------\n",
      "Seed 4\n"
     ]
    },
    {
     "name": "stderr",
     "output_type": "stream",
     "text": [
      "Computing null SHAP values: 100%|████████████████████████████████████████████████████| 100/100 [03:43<00:00,  2.23s/it]\n"
     ]
    },
    {
     "name": "stdout",
     "output_type": "stream",
     "text": [
      "--------------------------------------------------\n",
      "Average time: 223.57 seconds\n",
      "Found features: [6, 7, 8, 7, 6]\n",
      "Found 3.0 of 3 informative features\n",
      "3.8 of 6.8 outputted powershap features are noise features\n",
      "====================================================================================================\n",
      "Amount of samples = 5000\n",
      "Total used features = 100\n",
      "Informative features: 10 (10%)\n",
      "\n",
      "Seed 0\n"
     ]
    },
    {
     "name": "stderr",
     "output_type": "stream",
     "text": [
      "Computing null SHAP values: 100%|████████████████████████████████████████████████████| 100/100 [03:43<00:00,  2.24s/it]\n"
     ]
    },
    {
     "name": "stdout",
     "output_type": "stream",
     "text": [
      "--------------------------------------------------\n",
      "Seed 1\n"
     ]
    },
    {
     "name": "stderr",
     "output_type": "stream",
     "text": [
      "Computing null SHAP values: 100%|████████████████████████████████████████████████████| 100/100 [03:42<00:00,  2.23s/it]\n"
     ]
    },
    {
     "name": "stdout",
     "output_type": "stream",
     "text": [
      "--------------------------------------------------\n",
      "Seed 2\n"
     ]
    },
    {
     "name": "stderr",
     "output_type": "stream",
     "text": [
      "Computing null SHAP values: 100%|████████████████████████████████████████████████████| 100/100 [03:44<00:00,  2.24s/it]\n"
     ]
    },
    {
     "name": "stdout",
     "output_type": "stream",
     "text": [
      "--------------------------------------------------\n",
      "Seed 3\n"
     ]
    },
    {
     "name": "stderr",
     "output_type": "stream",
     "text": [
      "Computing null SHAP values: 100%|████████████████████████████████████████████████████| 100/100 [03:43<00:00,  2.23s/it]\n"
     ]
    },
    {
     "name": "stdout",
     "output_type": "stream",
     "text": [
      "--------------------------------------------------\n",
      "Seed 4\n"
     ]
    },
    {
     "name": "stderr",
     "output_type": "stream",
     "text": [
      "Computing null SHAP values: 100%|████████████████████████████████████████████████████| 100/100 [03:43<00:00,  2.23s/it]\n"
     ]
    },
    {
     "name": "stdout",
     "output_type": "stream",
     "text": [
      "--------------------------------------------------\n",
      "Average time: 223.41 seconds\n",
      "Found features: [10, 10, 10, 10, 10]\n",
      "Found 10.0 of 10 informative features\n",
      "0.0 of 10.0 outputted powershap features are noise features\n",
      "====================================================================================================\n",
      "Amount of samples = 5000\n",
      "Total used features = 100\n",
      "Informative features: 33 (33%)\n",
      "\n",
      "Seed 0\n"
     ]
    },
    {
     "name": "stderr",
     "output_type": "stream",
     "text": [
      "Computing null SHAP values: 100%|████████████████████████████████████████████████████| 100/100 [03:42<00:00,  2.23s/it]\n"
     ]
    },
    {
     "name": "stdout",
     "output_type": "stream",
     "text": [
      "--------------------------------------------------\n",
      "Seed 1\n"
     ]
    },
    {
     "name": "stderr",
     "output_type": "stream",
     "text": [
      "Computing null SHAP values: 100%|████████████████████████████████████████████████████| 100/100 [03:43<00:00,  2.23s/it]\n"
     ]
    },
    {
     "name": "stdout",
     "output_type": "stream",
     "text": [
      "--------------------------------------------------\n",
      "Seed 2\n"
     ]
    },
    {
     "name": "stderr",
     "output_type": "stream",
     "text": [
      "Computing null SHAP values: 100%|████████████████████████████████████████████████████| 100/100 [03:42<00:00,  2.22s/it]\n"
     ]
    },
    {
     "name": "stdout",
     "output_type": "stream",
     "text": [
      "--------------------------------------------------\n",
      "Seed 3\n"
     ]
    },
    {
     "name": "stderr",
     "output_type": "stream",
     "text": [
      "Computing null SHAP values: 100%|████████████████████████████████████████████████████| 100/100 [03:43<00:00,  2.24s/it]\n"
     ]
    },
    {
     "name": "stdout",
     "output_type": "stream",
     "text": [
      "--------------------------------------------------\n",
      "Seed 4\n"
     ]
    },
    {
     "name": "stderr",
     "output_type": "stream",
     "text": [
      "Computing null SHAP values: 100%|████████████████████████████████████████████████████| 100/100 [03:42<00:00,  2.23s/it]\n"
     ]
    },
    {
     "name": "stdout",
     "output_type": "stream",
     "text": [
      "--------------------------------------------------\n",
      "Average time: 223.05 seconds\n",
      "Found features: [30, 31, 29, 28, 30]\n",
      "Found 29.6 of 33 informative features\n",
      "0.0 of 29.6 outputted powershap features are noise features\n",
      "====================================================================================================\n",
      "Amount of samples = 5000\n",
      "Total used features = 100\n",
      "Informative features: 50 (50%)\n",
      "\n",
      "Seed 0\n"
     ]
    },
    {
     "name": "stderr",
     "output_type": "stream",
     "text": [
      "Computing null SHAP values: 100%|████████████████████████████████████████████████████| 100/100 [03:42<00:00,  2.23s/it]\n"
     ]
    },
    {
     "name": "stdout",
     "output_type": "stream",
     "text": [
      "--------------------------------------------------\n",
      "Seed 1\n"
     ]
    },
    {
     "name": "stderr",
     "output_type": "stream",
     "text": [
      "Computing null SHAP values: 100%|████████████████████████████████████████████████████| 100/100 [03:42<00:00,  2.23s/it]\n"
     ]
    },
    {
     "name": "stdout",
     "output_type": "stream",
     "text": [
      "--------------------------------------------------\n",
      "Seed 2\n"
     ]
    },
    {
     "name": "stderr",
     "output_type": "stream",
     "text": [
      "Computing null SHAP values: 100%|████████████████████████████████████████████████████| 100/100 [03:44<00:00,  2.24s/it]\n"
     ]
    },
    {
     "name": "stdout",
     "output_type": "stream",
     "text": [
      "--------------------------------------------------\n",
      "Seed 3\n"
     ]
    },
    {
     "name": "stderr",
     "output_type": "stream",
     "text": [
      "Computing null SHAP values: 100%|████████████████████████████████████████████████████| 100/100 [03:42<00:00,  2.23s/it]\n"
     ]
    },
    {
     "name": "stdout",
     "output_type": "stream",
     "text": [
      "--------------------------------------------------\n",
      "Seed 4\n"
     ]
    },
    {
     "name": "stderr",
     "output_type": "stream",
     "text": [
      "Computing null SHAP values: 100%|████████████████████████████████████████████████████| 100/100 [03:42<00:00,  2.23s/it]\n"
     ]
    },
    {
     "name": "stdout",
     "output_type": "stream",
     "text": [
      "--------------------------------------------------\n",
      "Average time: 223.1 seconds\n",
      "Found features: [35, 37, 34, 37, 32]\n",
      "Found 34.8 of 50 informative features\n",
      "0.2 of 35.0 outputted powershap features are noise features\n",
      "====================================================================================================\n",
      "Amount of samples = 5000\n",
      "Total used features = 100\n",
      "Informative features: 90 (90%)\n",
      "\n",
      "Seed 0\n"
     ]
    },
    {
     "name": "stderr",
     "output_type": "stream",
     "text": [
      "Computing null SHAP values: 100%|████████████████████████████████████████████████████| 100/100 [03:43<00:00,  2.24s/it]\n"
     ]
    },
    {
     "name": "stdout",
     "output_type": "stream",
     "text": [
      "--------------------------------------------------\n",
      "Seed 1\n"
     ]
    },
    {
     "name": "stderr",
     "output_type": "stream",
     "text": [
      "Computing null SHAP values: 100%|████████████████████████████████████████████████████| 100/100 [03:43<00:00,  2.23s/it]\n"
     ]
    },
    {
     "name": "stdout",
     "output_type": "stream",
     "text": [
      "--------------------------------------------------\n",
      "Seed 2\n"
     ]
    },
    {
     "name": "stderr",
     "output_type": "stream",
     "text": [
      "Computing null SHAP values: 100%|████████████████████████████████████████████████████| 100/100 [03:43<00:00,  2.23s/it]\n"
     ]
    },
    {
     "name": "stdout",
     "output_type": "stream",
     "text": [
      "--------------------------------------------------\n",
      "Seed 3\n"
     ]
    },
    {
     "name": "stderr",
     "output_type": "stream",
     "text": [
      "Computing null SHAP values: 100%|████████████████████████████████████████████████████| 100/100 [03:42<00:00,  2.23s/it]\n"
     ]
    },
    {
     "name": "stdout",
     "output_type": "stream",
     "text": [
      "--------------------------------------------------\n",
      "Seed 4\n"
     ]
    },
    {
     "name": "stderr",
     "output_type": "stream",
     "text": [
      "Computing null SHAP values: 100%|████████████████████████████████████████████████████| 100/100 [03:42<00:00,  2.23s/it]\n"
     ]
    },
    {
     "name": "stdout",
     "output_type": "stream",
     "text": [
      "--------------------------------------------------\n",
      "Average time: 223.2 seconds\n",
      "Found features: [49, 50, 40, 52, 48]\n",
      "Found 47.8 of 90 informative features\n",
      "0.0 of 47.8 outputted powershap features are noise features\n",
      "====================================================================================================\n",
      "5000: \n",
      "20: \n",
      "[92.57 91.78 92.13 91.79 92.38]s - [91.58 92.72 91.71 93.15 92.79]s - [92.11 92.2  92.08 92.53 92.16]s - [92.33 92.18 93.04 92.56 92.48]s - [92.6  92.6  92.69 92.07 92.64]s | [1, 1, 1, 1, 1] ([3, 6, 4, 4, 0]) / 1 | [2, 2, 2, 2, 2] ([3, 1, 2, 2, 2]) / 2 | [6, 6, 6, 6, 6] ([0, 0, 1, 0, 0]) / 6 | [10, 10, 10, 10, 10] ([0, 0, 0, 0, 0]) / 10 | [18, 18, 17, 17, 18] ([0, 0, 0, 0, 0]) / 18 | \n",
      "100: \n",
      "[222.23 226.16 221.94 224.44 223.1 ]s - [223.56 222.74 224.17 223.16 223.4 ]s - [222.89 223.48 222.49 223.72 222.66]s - [222.85 222.94 224.15 222.78 222.79]s - [223.8  223.14 223.37 222.97 222.7 ]s | [3, 3, 3, 3, 3] ([3, 4, 5, 4, 3]) / 3 | [10, 10, 10, 10, 10] ([0, 0, 0, 0, 0]) / 10 | [30, 31, 29, 28, 30] ([0, 0, 0, 0, 0]) / 33 | [35, 37, 33, 37, 32] ([0, 0, 1, 0, 0]) / 50 | [49, 50, 40, 52, 48] ([0, 0, 0, 0, 0]) / 90 | \n",
      "====================================================================================================\n",
      "Amount of samples = 5000\n",
      "Total used features = 250\n",
      "Informative features: 7 (3%)\n",
      "\n",
      "Seed 0\n"
     ]
    },
    {
     "name": "stderr",
     "output_type": "stream",
     "text": [
      "Computing null SHAP values: 100%|████████████████████████████████████████████████████| 100/100 [07:31<00:00,  4.51s/it]\n"
     ]
    },
    {
     "name": "stdout",
     "output_type": "stream",
     "text": [
      "--------------------------------------------------\n",
      "Seed 1\n"
     ]
    },
    {
     "name": "stderr",
     "output_type": "stream",
     "text": [
      "Computing null SHAP values: 100%|████████████████████████████████████████████████████| 100/100 [07:32<00:00,  4.52s/it]\n"
     ]
    },
    {
     "name": "stdout",
     "output_type": "stream",
     "text": [
      "--------------------------------------------------\n",
      "Seed 2\n"
     ]
    },
    {
     "name": "stderr",
     "output_type": "stream",
     "text": [
      "Computing null SHAP values: 100%|████████████████████████████████████████████████████| 100/100 [07:34<00:00,  4.55s/it]\n"
     ]
    },
    {
     "name": "stdout",
     "output_type": "stream",
     "text": [
      "--------------------------------------------------\n",
      "Seed 3\n"
     ]
    },
    {
     "name": "stderr",
     "output_type": "stream",
     "text": [
      "Computing null SHAP values: 100%|████████████████████████████████████████████████████| 100/100 [07:33<00:00,  4.54s/it]\n"
     ]
    },
    {
     "name": "stdout",
     "output_type": "stream",
     "text": [
      "--------------------------------------------------\n",
      "Seed 4\n"
     ]
    },
    {
     "name": "stderr",
     "output_type": "stream",
     "text": [
      "Computing null SHAP values: 100%|████████████████████████████████████████████████████| 100/100 [07:32<00:00,  4.53s/it]\n"
     ]
    },
    {
     "name": "stdout",
     "output_type": "stream",
     "text": [
      "--------------------------------------------------\n",
      "Average time: 453.01 seconds\n",
      "Found features: [8, 12, 11, 10, 9]\n",
      "Found 7.0 of 7 informative features\n",
      "3.0 of 10.0 outputted powershap features are noise features\n",
      "====================================================================================================\n",
      "Amount of samples = 5000\n",
      "Total used features = 250\n",
      "Informative features: 25 (10%)\n",
      "\n",
      "Seed 0\n"
     ]
    },
    {
     "name": "stderr",
     "output_type": "stream",
     "text": [
      "Computing null SHAP values: 100%|████████████████████████████████████████████████████| 100/100 [07:32<00:00,  4.53s/it]\n"
     ]
    },
    {
     "name": "stdout",
     "output_type": "stream",
     "text": [
      "--------------------------------------------------\n",
      "Seed 1\n"
     ]
    },
    {
     "name": "stderr",
     "output_type": "stream",
     "text": [
      "Computing null SHAP values: 100%|████████████████████████████████████████████████████| 100/100 [07:34<00:00,  4.54s/it]\n"
     ]
    },
    {
     "name": "stdout",
     "output_type": "stream",
     "text": [
      "--------------------------------------------------\n",
      "Seed 2\n"
     ]
    },
    {
     "name": "stderr",
     "output_type": "stream",
     "text": [
      "Computing null SHAP values: 100%|████████████████████████████████████████████████████| 100/100 [07:31<00:00,  4.52s/it]\n"
     ]
    },
    {
     "name": "stdout",
     "output_type": "stream",
     "text": [
      "--------------------------------------------------\n",
      "Seed 3\n"
     ]
    },
    {
     "name": "stderr",
     "output_type": "stream",
     "text": [
      "Computing null SHAP values: 100%|████████████████████████████████████████████████████| 100/100 [07:32<00:00,  4.53s/it]\n"
     ]
    },
    {
     "name": "stdout",
     "output_type": "stream",
     "text": [
      "--------------------------------------------------\n",
      "Seed 4\n"
     ]
    },
    {
     "name": "stderr",
     "output_type": "stream",
     "text": [
      "Computing null SHAP values: 100%|████████████████████████████████████████████████████| 100/100 [07:31<00:00,  4.52s/it]\n"
     ]
    },
    {
     "name": "stdout",
     "output_type": "stream",
     "text": [
      "--------------------------------------------------\n",
      "Average time: 452.61 seconds\n",
      "Found features: [25, 25, 22, 21, 23]\n",
      "Found 23.2 of 25 informative features\n",
      "0.0 of 23.2 outputted powershap features are noise features\n",
      "====================================================================================================\n",
      "Amount of samples = 5000\n",
      "Total used features = 250\n",
      "Informative features: 82 (33%)\n",
      "\n",
      "Seed 0\n"
     ]
    },
    {
     "name": "stderr",
     "output_type": "stream",
     "text": [
      "Computing null SHAP values: 100%|████████████████████████████████████████████████████| 100/100 [07:33<00:00,  4.53s/it]\n"
     ]
    },
    {
     "name": "stdout",
     "output_type": "stream",
     "text": [
      "--------------------------------------------------\n",
      "Seed 1\n"
     ]
    },
    {
     "name": "stderr",
     "output_type": "stream",
     "text": [
      "Computing null SHAP values: 100%|████████████████████████████████████████████████████| 100/100 [07:32<00:00,  4.52s/it]\n"
     ]
    },
    {
     "name": "stdout",
     "output_type": "stream",
     "text": [
      "--------------------------------------------------\n",
      "Seed 2\n"
     ]
    },
    {
     "name": "stderr",
     "output_type": "stream",
     "text": [
      "Computing null SHAP values: 100%|████████████████████████████████████████████████████| 100/100 [07:33<00:00,  4.54s/it]\n"
     ]
    },
    {
     "name": "stdout",
     "output_type": "stream",
     "text": [
      "--------------------------------------------------\n",
      "Seed 3\n"
     ]
    },
    {
     "name": "stderr",
     "output_type": "stream",
     "text": [
      "Computing null SHAP values: 100%|████████████████████████████████████████████████████| 100/100 [07:36<00:00,  4.57s/it]\n"
     ]
    },
    {
     "name": "stdout",
     "output_type": "stream",
     "text": [
      "--------------------------------------------------\n",
      "Seed 4\n"
     ]
    },
    {
     "name": "stderr",
     "output_type": "stream",
     "text": [
      "Computing null SHAP values: 100%|████████████████████████████████████████████████████| 100/100 [07:33<00:00,  4.53s/it]\n"
     ]
    },
    {
     "name": "stdout",
     "output_type": "stream",
     "text": [
      "--------------------------------------------------\n",
      "Average time: 453.75 seconds\n",
      "Found features: [51, 45, 50, 55, 50]\n",
      "Found 50.2 of 82 informative features\n",
      "0.0 of 50.2 outputted powershap features are noise features\n",
      "====================================================================================================\n",
      "Amount of samples = 5000\n",
      "Total used features = 250\n",
      "Informative features: 125 (50%)\n",
      "\n",
      "Seed 0\n"
     ]
    },
    {
     "name": "stderr",
     "output_type": "stream",
     "text": [
      "Computing null SHAP values: 100%|████████████████████████████████████████████████████| 100/100 [07:31<00:00,  4.51s/it]\n"
     ]
    },
    {
     "name": "stdout",
     "output_type": "stream",
     "text": [
      "--------------------------------------------------\n",
      "Seed 1\n"
     ]
    },
    {
     "name": "stderr",
     "output_type": "stream",
     "text": [
      "Computing null SHAP values: 100%|████████████████████████████████████████████████████| 100/100 [07:33<00:00,  4.53s/it]\n"
     ]
    },
    {
     "name": "stdout",
     "output_type": "stream",
     "text": [
      "--------------------------------------------------\n",
      "Seed 2\n"
     ]
    },
    {
     "name": "stderr",
     "output_type": "stream",
     "text": [
      "Computing null SHAP values: 100%|████████████████████████████████████████████████████| 100/100 [07:33<00:00,  4.54s/it]\n"
     ]
    },
    {
     "name": "stdout",
     "output_type": "stream",
     "text": [
      "--------------------------------------------------\n",
      "Seed 3\n"
     ]
    },
    {
     "name": "stderr",
     "output_type": "stream",
     "text": [
      "Computing null SHAP values: 100%|████████████████████████████████████████████████████| 100/100 [07:34<00:00,  4.55s/it]\n"
     ]
    },
    {
     "name": "stdout",
     "output_type": "stream",
     "text": [
      "--------------------------------------------------\n",
      "Seed 4\n"
     ]
    },
    {
     "name": "stderr",
     "output_type": "stream",
     "text": [
      "Computing null SHAP values: 100%|████████████████████████████████████████████████████| 100/100 [07:32<00:00,  4.52s/it]\n"
     ]
    },
    {
     "name": "stdout",
     "output_type": "stream",
     "text": [
      "--------------------------------------------------\n",
      "Average time: 453.09 seconds\n",
      "Found features: [66, 58, 64, 73, 64]\n",
      "Found 65.0 of 125 informative features\n",
      "0.0 of 65.0 outputted powershap features are noise features\n",
      "====================================================================================================\n",
      "Amount of samples = 5000\n",
      "Total used features = 250\n",
      "Informative features: 225 (90%)\n",
      "\n",
      "Seed 0\n"
     ]
    },
    {
     "name": "stderr",
     "output_type": "stream",
     "text": [
      "Computing null SHAP values: 100%|████████████████████████████████████████████████████| 100/100 [07:34<00:00,  4.54s/it]\n"
     ]
    },
    {
     "name": "stdout",
     "output_type": "stream",
     "text": [
      "--------------------------------------------------\n",
      "Seed 1\n"
     ]
    },
    {
     "name": "stderr",
     "output_type": "stream",
     "text": [
      "Computing null SHAP values: 100%|████████████████████████████████████████████████████| 100/100 [07:34<00:00,  4.55s/it]\n"
     ]
    },
    {
     "name": "stdout",
     "output_type": "stream",
     "text": [
      "--------------------------------------------------\n",
      "Seed 2\n"
     ]
    },
    {
     "name": "stderr",
     "output_type": "stream",
     "text": [
      "Computing null SHAP values: 100%|████████████████████████████████████████████████████| 100/100 [07:33<00:00,  4.54s/it]\n"
     ]
    },
    {
     "name": "stdout",
     "output_type": "stream",
     "text": [
      "--------------------------------------------------\n",
      "Seed 3\n"
     ]
    },
    {
     "name": "stderr",
     "output_type": "stream",
     "text": [
      "Computing null SHAP values: 100%|████████████████████████████████████████████████████| 100/100 [07:32<00:00,  4.53s/it]\n"
     ]
    },
    {
     "name": "stdout",
     "output_type": "stream",
     "text": [
      "--------------------------------------------------\n",
      "Seed 4\n"
     ]
    },
    {
     "name": "stderr",
     "output_type": "stream",
     "text": [
      "Computing null SHAP values: 100%|████████████████████████████████████████████████████| 100/100 [07:52<00:00,  4.72s/it]\n"
     ]
    },
    {
     "name": "stdout",
     "output_type": "stream",
     "text": [
      "--------------------------------------------------\n",
      "Average time: 457.43 seconds\n",
      "Found features: [76, 67, 69, 55, 71]\n",
      "Found 67.4 of 225 informative features\n",
      "0.2 of 67.6 outputted powershap features are noise features\n",
      "====================================================================================================\n",
      "5000: \n",
      "20: \n",
      "[92.57 91.78 92.13 91.79 92.38]s - [91.58 92.72 91.71 93.15 92.79]s - [92.11 92.2  92.08 92.53 92.16]s - [92.33 92.18 93.04 92.56 92.48]s - [92.6  92.6  92.69 92.07 92.64]s | [1, 1, 1, 1, 1] ([3, 6, 4, 4, 0]) / 1 | [2, 2, 2, 2, 2] ([3, 1, 2, 2, 2]) / 2 | [6, 6, 6, 6, 6] ([0, 0, 1, 0, 0]) / 6 | [10, 10, 10, 10, 10] ([0, 0, 0, 0, 0]) / 10 | [18, 18, 17, 17, 18] ([0, 0, 0, 0, 0]) / 18 | \n",
      "100: \n",
      "[222.23 226.16 221.94 224.44 223.1 ]s - [223.56 222.74 224.17 223.16 223.4 ]s - [222.89 223.48 222.49 223.72 222.66]s - [222.85 222.94 224.15 222.78 222.79]s - [223.8  223.14 223.37 222.97 222.7 ]s | [3, 3, 3, 3, 3] ([3, 4, 5, 4, 3]) / 3 | [10, 10, 10, 10, 10] ([0, 0, 0, 0, 0]) / 10 | [30, 31, 29, 28, 30] ([0, 0, 0, 0, 0]) / 33 | [35, 37, 33, 37, 32] ([0, 0, 1, 0, 0]) / 50 | [49, 50, 40, 52, 48] ([0, 0, 0, 0, 0]) / 90 | \n",
      "250: \n",
      "[451.48 452.15 454.67 453.8  452.95]s - [452.55 454.42 451.63 452.62 451.83]s - [453.2  452.09 453.65 456.65 453.17]s - [451.03 453.37 453.84 454.99 452.23]s - [454.01 454.59 453.78 452.74 472.02]s | [7, 7, 7, 7, 7] ([1, 5, 4, 3, 2]) / 7 | [25, 25, 22, 21, 23] ([0, 0, 0, 0, 0]) / 25 | [51, 45, 50, 55, 50] ([0, 0, 0, 0, 0]) / 82 | [66, 58, 64, 73, 64] ([0, 0, 0, 0, 0]) / 125 | [76, 67, 68, 55, 71] ([0, 0, 1, 0, 0]) / 225 | \n",
      "====================================================================================================\n",
      "Amount of samples = 5000\n",
      "Total used features = 500\n",
      "Informative features: 15 (3%)\n",
      "\n",
      "Seed 0\n"
     ]
    },
    {
     "name": "stderr",
     "output_type": "stream",
     "text": [
      "Computing null SHAP values: 100%|████████████████████████████████████████████████████| 100/100 [13:42<00:00,  8.22s/it]\n"
     ]
    },
    {
     "name": "stdout",
     "output_type": "stream",
     "text": [
      "--------------------------------------------------\n",
      "Seed 1\n"
     ]
    },
    {
     "name": "stderr",
     "output_type": "stream",
     "text": [
      "Computing null SHAP values: 100%|████████████████████████████████████████████████████| 100/100 [13:41<00:00,  8.21s/it]\n"
     ]
    },
    {
     "name": "stdout",
     "output_type": "stream",
     "text": [
      "--------------------------------------------------\n",
      "Seed 2\n"
     ]
    },
    {
     "name": "stderr",
     "output_type": "stream",
     "text": [
      "Computing null SHAP values: 100%|████████████████████████████████████████████████████| 100/100 [13:40<00:00,  8.20s/it]\n"
     ]
    },
    {
     "name": "stdout",
     "output_type": "stream",
     "text": [
      "--------------------------------------------------\n",
      "Seed 3\n"
     ]
    },
    {
     "name": "stderr",
     "output_type": "stream",
     "text": [
      "Computing null SHAP values: 100%|████████████████████████████████████████████████████| 100/100 [13:42<00:00,  8.22s/it]\n"
     ]
    },
    {
     "name": "stdout",
     "output_type": "stream",
     "text": [
      "--------------------------------------------------\n",
      "Seed 4\n"
     ]
    },
    {
     "name": "stderr",
     "output_type": "stream",
     "text": [
      "Computing null SHAP values: 100%|████████████████████████████████████████████████████| 100/100 [13:40<00:00,  8.21s/it]\n"
     ]
    },
    {
     "name": "stdout",
     "output_type": "stream",
     "text": [
      "--------------------------------------------------\n",
      "Average time: 821.44 seconds\n",
      "Found features: [21, 19, 17, 17, 20]\n",
      "Found 15.0 of 15 informative features\n",
      "3.8 of 18.8 outputted powershap features are noise features\n",
      "====================================================================================================\n",
      "Amount of samples = 5000\n",
      "Total used features = 500\n",
      "Informative features: 50 (10%)\n",
      "\n",
      "Seed 0\n"
     ]
    },
    {
     "name": "stderr",
     "output_type": "stream",
     "text": [
      "Computing null SHAP values: 100%|████████████████████████████████████████████████████| 100/100 [13:41<00:00,  8.22s/it]\n"
     ]
    },
    {
     "name": "stdout",
     "output_type": "stream",
     "text": [
      "--------------------------------------------------\n",
      "Seed 1\n"
     ]
    },
    {
     "name": "stderr",
     "output_type": "stream",
     "text": [
      "Computing null SHAP values: 100%|████████████████████████████████████████████████████| 100/100 [13:46<00:00,  8.27s/it]\n"
     ]
    },
    {
     "name": "stdout",
     "output_type": "stream",
     "text": [
      "--------------------------------------------------\n",
      "Seed 2\n"
     ]
    },
    {
     "name": "stderr",
     "output_type": "stream",
     "text": [
      "Computing null SHAP values: 100%|████████████████████████████████████████████████████| 100/100 [13:41<00:00,  8.22s/it]\n"
     ]
    },
    {
     "name": "stdout",
     "output_type": "stream",
     "text": [
      "--------------------------------------------------\n",
      "Seed 3\n"
     ]
    },
    {
     "name": "stderr",
     "output_type": "stream",
     "text": [
      "Computing null SHAP values: 100%|████████████████████████████████████████████████████| 100/100 [13:41<00:00,  8.21s/it]\n"
     ]
    },
    {
     "name": "stdout",
     "output_type": "stream",
     "text": [
      "--------------------------------------------------\n",
      "Seed 4\n"
     ]
    },
    {
     "name": "stderr",
     "output_type": "stream",
     "text": [
      "Computing null SHAP values: 100%|████████████████████████████████████████████████████| 100/100 [13:41<00:00,  8.22s/it]\n"
     ]
    },
    {
     "name": "stdout",
     "output_type": "stream",
     "text": [
      "--------------------------------------------------\n",
      "Average time: 822.6 seconds\n",
      "Found features: [37, 44, 44, 44, 46]\n",
      "Found 42.2 of 50 informative features\n",
      "0.8 of 43.0 outputted powershap features are noise features\n",
      "====================================================================================================\n",
      "Amount of samples = 5000\n",
      "Total used features = 500\n",
      "Informative features: 165 (33%)\n",
      "\n",
      "Seed 0\n"
     ]
    },
    {
     "name": "stderr",
     "output_type": "stream",
     "text": [
      "Computing null SHAP values: 100%|████████████████████████████████████████████████████| 100/100 [13:41<00:00,  8.22s/it]\n"
     ]
    },
    {
     "name": "stdout",
     "output_type": "stream",
     "text": [
      "--------------------------------------------------\n",
      "Seed 1\n"
     ]
    },
    {
     "name": "stderr",
     "output_type": "stream",
     "text": [
      "Computing null SHAP values: 100%|████████████████████████████████████████████████████| 100/100 [13:45<00:00,  8.26s/it]\n"
     ]
    },
    {
     "name": "stdout",
     "output_type": "stream",
     "text": [
      "--------------------------------------------------\n",
      "Seed 2\n"
     ]
    },
    {
     "name": "stderr",
     "output_type": "stream",
     "text": [
      "Computing null SHAP values: 100%|████████████████████████████████████████████████████| 100/100 [13:45<00:00,  8.26s/it]\n"
     ]
    },
    {
     "name": "stdout",
     "output_type": "stream",
     "text": [
      "--------------------------------------------------\n",
      "Seed 3\n"
     ]
    },
    {
     "name": "stderr",
     "output_type": "stream",
     "text": [
      "Computing null SHAP values: 100%|████████████████████████████████████████████████████| 100/100 [13:42<00:00,  8.23s/it]\n"
     ]
    },
    {
     "name": "stdout",
     "output_type": "stream",
     "text": [
      "--------------------------------------------------\n",
      "Seed 4\n"
     ]
    },
    {
     "name": "stderr",
     "output_type": "stream",
     "text": [
      "Computing null SHAP values: 100%|████████████████████████████████████████████████████| 100/100 [13:45<00:00,  8.26s/it]\n"
     ]
    },
    {
     "name": "stdout",
     "output_type": "stream",
     "text": [
      "--------------------------------------------------\n",
      "Average time: 824.33 seconds\n",
      "Found features: [79, 81, 72, 84, 82]\n",
      "Found 79.2 of 165 informative features\n",
      "0.4 of 79.6 outputted powershap features are noise features\n",
      "====================================================================================================\n",
      "Amount of samples = 5000\n",
      "Total used features = 500\n",
      "Informative features: 250 (50%)\n",
      "\n",
      "Seed 0\n"
     ]
    },
    {
     "name": "stderr",
     "output_type": "stream",
     "text": [
      "Computing null SHAP values: 100%|████████████████████████████████████████████████████| 100/100 [13:43<00:00,  8.24s/it]\n"
     ]
    },
    {
     "name": "stdout",
     "output_type": "stream",
     "text": [
      "--------------------------------------------------\n",
      "Seed 1\n"
     ]
    },
    {
     "name": "stderr",
     "output_type": "stream",
     "text": [
      "Computing null SHAP values: 100%|████████████████████████████████████████████████████| 100/100 [13:41<00:00,  8.22s/it]\n"
     ]
    },
    {
     "name": "stdout",
     "output_type": "stream",
     "text": [
      "--------------------------------------------------\n",
      "Seed 2\n"
     ]
    },
    {
     "name": "stderr",
     "output_type": "stream",
     "text": [
      "Computing null SHAP values: 100%|████████████████████████████████████████████████████| 100/100 [13:46<00:00,  8.26s/it]\n"
     ]
    },
    {
     "name": "stdout",
     "output_type": "stream",
     "text": [
      "--------------------------------------------------\n",
      "Seed 3\n"
     ]
    },
    {
     "name": "stderr",
     "output_type": "stream",
     "text": [
      "Computing null SHAP values: 100%|████████████████████████████████████████████████████| 100/100 [13:42<00:00,  8.22s/it]\n"
     ]
    },
    {
     "name": "stdout",
     "output_type": "stream",
     "text": [
      "--------------------------------------------------\n",
      "Seed 4\n"
     ]
    },
    {
     "name": "stderr",
     "output_type": "stream",
     "text": [
      "Computing null SHAP values: 100%|████████████████████████████████████████████████████| 100/100 [13:42<00:00,  8.23s/it]\n"
     ]
    },
    {
     "name": "stdout",
     "output_type": "stream",
     "text": [
      "--------------------------------------------------\n",
      "Average time: 823.3 seconds\n",
      "Found features: [87, 86, 82, 82, 89]\n",
      "Found 85.0 of 250 informative features\n",
      "0.2 of 85.2 outputted powershap features are noise features\n",
      "====================================================================================================\n",
      "Amount of samples = 5000\n",
      "Total used features = 500\n",
      "Informative features: 450 (90%)\n",
      "\n",
      "Seed 0\n"
     ]
    },
    {
     "name": "stderr",
     "output_type": "stream",
     "text": [
      "Computing null SHAP values: 100%|████████████████████████████████████████████████████| 100/100 [13:43<00:00,  8.23s/it]\n"
     ]
    },
    {
     "name": "stdout",
     "output_type": "stream",
     "text": [
      "--------------------------------------------------\n",
      "Seed 1\n"
     ]
    },
    {
     "name": "stderr",
     "output_type": "stream",
     "text": [
      "Computing null SHAP values: 100%|████████████████████████████████████████████████████| 100/100 [13:44<00:00,  8.25s/it]\n"
     ]
    },
    {
     "name": "stdout",
     "output_type": "stream",
     "text": [
      "--------------------------------------------------\n",
      "Seed 2\n"
     ]
    },
    {
     "name": "stderr",
     "output_type": "stream",
     "text": [
      "Computing null SHAP values: 100%|████████████████████████████████████████████████████| 100/100 [13:42<00:00,  8.22s/it]\n"
     ]
    },
    {
     "name": "stdout",
     "output_type": "stream",
     "text": [
      "--------------------------------------------------\n",
      "Seed 3\n"
     ]
    },
    {
     "name": "stderr",
     "output_type": "stream",
     "text": [
      "Computing null SHAP values: 100%|████████████████████████████████████████████████████| 100/100 [13:45<00:00,  8.26s/it]\n"
     ]
    },
    {
     "name": "stdout",
     "output_type": "stream",
     "text": [
      "--------------------------------------------------\n",
      "Seed 4\n"
     ]
    },
    {
     "name": "stderr",
     "output_type": "stream",
     "text": [
      "Computing null SHAP values: 100%|████████████████████████████████████████████████████| 100/100 [13:46<00:00,  8.26s/it]\n"
     ]
    },
    {
     "name": "stdout",
     "output_type": "stream",
     "text": [
      "--------------------------------------------------\n",
      "Average time: 824.35 seconds\n",
      "Found features: [76, 80, 81, 85, 82]\n",
      "Found 80.8 of 450 informative features\n",
      "0.0 of 80.8 outputted powershap features are noise features\n",
      "====================================================================================================\n",
      "5000: \n",
      "20: \n",
      "[92.57 91.78 92.13 91.79 92.38]s - [91.58 92.72 91.71 93.15 92.79]s - [92.11 92.2  92.08 92.53 92.16]s - [92.33 92.18 93.04 92.56 92.48]s - [92.6  92.6  92.69 92.07 92.64]s | [1, 1, 1, 1, 1] ([3, 6, 4, 4, 0]) / 1 | [2, 2, 2, 2, 2] ([3, 1, 2, 2, 2]) / 2 | [6, 6, 6, 6, 6] ([0, 0, 1, 0, 0]) / 6 | [10, 10, 10, 10, 10] ([0, 0, 0, 0, 0]) / 10 | [18, 18, 17, 17, 18] ([0, 0, 0, 0, 0]) / 18 | \n",
      "100: \n",
      "[222.23 226.16 221.94 224.44 223.1 ]s - [223.56 222.74 224.17 223.16 223.4 ]s - [222.89 223.48 222.49 223.72 222.66]s - [222.85 222.94 224.15 222.78 222.79]s - [223.8  223.14 223.37 222.97 222.7 ]s | [3, 3, 3, 3, 3] ([3, 4, 5, 4, 3]) / 3 | [10, 10, 10, 10, 10] ([0, 0, 0, 0, 0]) / 10 | [30, 31, 29, 28, 30] ([0, 0, 0, 0, 0]) / 33 | [35, 37, 33, 37, 32] ([0, 0, 1, 0, 0]) / 50 | [49, 50, 40, 52, 48] ([0, 0, 0, 0, 0]) / 90 | \n",
      "250: \n",
      "[451.48 452.15 454.67 453.8  452.95]s - [452.55 454.42 451.63 452.62 451.83]s - [453.2  452.09 453.65 456.65 453.17]s - [451.03 453.37 453.84 454.99 452.23]s - [454.01 454.59 453.78 452.74 472.02]s | [7, 7, 7, 7, 7] ([1, 5, 4, 3, 2]) / 7 | [25, 25, 22, 21, 23] ([0, 0, 0, 0, 0]) / 25 | [51, 45, 50, 55, 50] ([0, 0, 0, 0, 0]) / 82 | [66, 58, 64, 73, 64] ([0, 0, 0, 0, 0]) / 125 | [76, 67, 68, 55, 71] ([0, 0, 1, 0, 0]) / 225 | \n",
      "500: \n",
      "[822.14 821.43 820.4  822.44 820.79]s - [821.52 826.61 821.91 821.34 821.64]s - [821.77 825.58 825.59 822.72 825.98]s - [823.81 821.74 826.1  822.2  822.65]s - [823.1  824.53 822.29 825.74 826.09]s | [15, 15, 15, 15, 15] ([6, 4, 2, 2, 5]) / 15 | [37, 44, 43, 43, 44] ([0, 0, 1, 1, 2]) / 50 | [79, 81, 72, 82, 82] ([0, 0, 0, 2, 0]) / 165 | [87, 86, 82, 82, 88] ([0, 0, 0, 0, 1]) / 250 | [76, 80, 81, 85, 82] ([0, 0, 0, 0, 0]) / 450 | \n",
      "====================================================================================================\n",
      "Amount of samples = 10000\n",
      "Total used features = 20\n",
      "Informative features: 1 (3%)\n",
      "\n",
      "Seed 0\n"
     ]
    },
    {
     "name": "stderr",
     "output_type": "stream",
     "text": [
      "Computing null SHAP values: 100%|████████████████████████████████████████████████████| 100/100 [02:40<00:00,  1.60s/it]\n"
     ]
    },
    {
     "name": "stdout",
     "output_type": "stream",
     "text": [
      "--------------------------------------------------\n",
      "Seed 1\n"
     ]
    },
    {
     "name": "stderr",
     "output_type": "stream",
     "text": [
      "Computing null SHAP values: 100%|████████████████████████████████████████████████████| 100/100 [02:40<00:00,  1.60s/it]\n"
     ]
    },
    {
     "name": "stdout",
     "output_type": "stream",
     "text": [
      "--------------------------------------------------\n",
      "Seed 2\n"
     ]
    },
    {
     "name": "stderr",
     "output_type": "stream",
     "text": [
      "Computing null SHAP values: 100%|████████████████████████████████████████████████████| 100/100 [02:40<00:00,  1.61s/it]\n"
     ]
    },
    {
     "name": "stdout",
     "output_type": "stream",
     "text": [
      "--------------------------------------------------\n",
      "Seed 3\n"
     ]
    },
    {
     "name": "stderr",
     "output_type": "stream",
     "text": [
      "Computing null SHAP values: 100%|████████████████████████████████████████████████████| 100/100 [02:40<00:00,  1.60s/it]\n"
     ]
    },
    {
     "name": "stdout",
     "output_type": "stream",
     "text": [
      "--------------------------------------------------\n",
      "Seed 4\n"
     ]
    },
    {
     "name": "stderr",
     "output_type": "stream",
     "text": [
      "Computing null SHAP values: 100%|████████████████████████████████████████████████████| 100/100 [02:39<00:00,  1.60s/it]\n"
     ]
    },
    {
     "name": "stdout",
     "output_type": "stream",
     "text": [
      "--------------------------------------------------\n",
      "Average time: 160.23 seconds\n",
      "Found features: [8, 15, 17, 13, 12]\n",
      "Found 1.0 of 1 informative features\n",
      "12.0 of 13.0 outputted powershap features are noise features\n",
      "====================================================================================================\n",
      "Amount of samples = 10000\n",
      "Total used features = 20\n",
      "Informative features: 2 (10%)\n",
      "\n",
      "Seed 0\n"
     ]
    },
    {
     "name": "stderr",
     "output_type": "stream",
     "text": [
      "Computing null SHAP values: 100%|████████████████████████████████████████████████████| 100/100 [02:40<00:00,  1.61s/it]\n"
     ]
    },
    {
     "name": "stdout",
     "output_type": "stream",
     "text": [
      "--------------------------------------------------\n",
      "Seed 1\n"
     ]
    },
    {
     "name": "stderr",
     "output_type": "stream",
     "text": [
      "Computing null SHAP values: 100%|████████████████████████████████████████████████████| 100/100 [02:41<00:00,  1.61s/it]\n"
     ]
    },
    {
     "name": "stdout",
     "output_type": "stream",
     "text": [
      "--------------------------------------------------\n",
      "Seed 2\n"
     ]
    },
    {
     "name": "stderr",
     "output_type": "stream",
     "text": [
      "Computing null SHAP values: 100%|████████████████████████████████████████████████████| 100/100 [02:39<00:00,  1.60s/it]\n"
     ]
    },
    {
     "name": "stdout",
     "output_type": "stream",
     "text": [
      "--------------------------------------------------\n",
      "Seed 3\n"
     ]
    },
    {
     "name": "stderr",
     "output_type": "stream",
     "text": [
      "Computing null SHAP values: 100%|████████████████████████████████████████████████████| 100/100 [02:42<00:00,  1.63s/it]\n"
     ]
    },
    {
     "name": "stdout",
     "output_type": "stream",
     "text": [
      "--------------------------------------------------\n",
      "Seed 4\n"
     ]
    },
    {
     "name": "stderr",
     "output_type": "stream",
     "text": [
      "Computing null SHAP values: 100%|████████████████████████████████████████████████████| 100/100 [02:41<00:00,  1.61s/it]\n"
     ]
    },
    {
     "name": "stdout",
     "output_type": "stream",
     "text": [
      "--------------------------------------------------\n",
      "Average time: 161.09 seconds\n",
      "Found features: [10, 7, 18, 15, 18]\n",
      "Found 2.0 of 2 informative features\n",
      "11.6 of 13.6 outputted powershap features are noise features\n",
      "====================================================================================================\n",
      "Amount of samples = 10000\n",
      "Total used features = 20\n",
      "Informative features: 6 (33%)\n",
      "\n",
      "Seed 0\n"
     ]
    },
    {
     "name": "stderr",
     "output_type": "stream",
     "text": [
      "Computing null SHAP values: 100%|████████████████████████████████████████████████████| 100/100 [02:40<00:00,  1.61s/it]\n"
     ]
    },
    {
     "name": "stdout",
     "output_type": "stream",
     "text": [
      "--------------------------------------------------\n",
      "Seed 1\n"
     ]
    },
    {
     "name": "stderr",
     "output_type": "stream",
     "text": [
      "Computing null SHAP values: 100%|████████████████████████████████████████████████████| 100/100 [02:41<00:00,  1.61s/it]\n"
     ]
    },
    {
     "name": "stdout",
     "output_type": "stream",
     "text": [
      "--------------------------------------------------\n",
      "Seed 2\n"
     ]
    },
    {
     "name": "stderr",
     "output_type": "stream",
     "text": [
      "Computing null SHAP values: 100%|████████████████████████████████████████████████████| 100/100 [02:40<00:00,  1.61s/it]\n"
     ]
    },
    {
     "name": "stdout",
     "output_type": "stream",
     "text": [
      "--------------------------------------------------\n",
      "Seed 3\n"
     ]
    },
    {
     "name": "stderr",
     "output_type": "stream",
     "text": [
      "Computing null SHAP values: 100%|████████████████████████████████████████████████████| 100/100 [02:40<00:00,  1.60s/it]\n"
     ]
    },
    {
     "name": "stdout",
     "output_type": "stream",
     "text": [
      "--------------------------------------------------\n",
      "Seed 4\n"
     ]
    },
    {
     "name": "stderr",
     "output_type": "stream",
     "text": [
      "Computing null SHAP values: 100%|████████████████████████████████████████████████████| 100/100 [02:42<00:00,  1.62s/it]\n"
     ]
    },
    {
     "name": "stdout",
     "output_type": "stream",
     "text": [
      "--------------------------------------------------\n",
      "Average time: 160.98 seconds\n",
      "Found features: [13, 11, 8, 10, 10]\n",
      "Found 6.0 of 6 informative features\n",
      "4.4 of 10.4 outputted powershap features are noise features\n",
      "====================================================================================================\n",
      "Amount of samples = 10000\n",
      "Total used features = 20\n",
      "Informative features: 10 (50%)\n",
      "\n",
      "Seed 0\n"
     ]
    },
    {
     "name": "stderr",
     "output_type": "stream",
     "text": [
      "Computing null SHAP values: 100%|████████████████████████████████████████████████████| 100/100 [02:43<00:00,  1.63s/it]\n"
     ]
    },
    {
     "name": "stdout",
     "output_type": "stream",
     "text": [
      "--------------------------------------------------\n",
      "Seed 1\n"
     ]
    },
    {
     "name": "stderr",
     "output_type": "stream",
     "text": [
      "Computing null SHAP values: 100%|████████████████████████████████████████████████████| 100/100 [02:41<00:00,  1.61s/it]\n"
     ]
    },
    {
     "name": "stdout",
     "output_type": "stream",
     "text": [
      "--------------------------------------------------\n",
      "Seed 2\n"
     ]
    },
    {
     "name": "stderr",
     "output_type": "stream",
     "text": [
      "Computing null SHAP values: 100%|████████████████████████████████████████████████████| 100/100 [02:40<00:00,  1.60s/it]\n"
     ]
    },
    {
     "name": "stdout",
     "output_type": "stream",
     "text": [
      "--------------------------------------------------\n",
      "Seed 3\n"
     ]
    },
    {
     "name": "stderr",
     "output_type": "stream",
     "text": [
      "Computing null SHAP values: 100%|████████████████████████████████████████████████████| 100/100 [02:40<00:00,  1.61s/it]\n"
     ]
    },
    {
     "name": "stdout",
     "output_type": "stream",
     "text": [
      "--------------------------------------------------\n",
      "Seed 4\n"
     ]
    },
    {
     "name": "stderr",
     "output_type": "stream",
     "text": [
      "Computing null SHAP values: 100%|████████████████████████████████████████████████████| 100/100 [02:41<00:00,  1.62s/it]\n"
     ]
    },
    {
     "name": "stdout",
     "output_type": "stream",
     "text": [
      "--------------------------------------------------\n",
      "Average time: 161.43 seconds\n",
      "Found features: [11, 11, 12, 11, 10]\n",
      "Found 10.0 of 10 informative features\n",
      "1.0 of 11.0 outputted powershap features are noise features\n",
      "====================================================================================================\n",
      "Amount of samples = 10000\n",
      "Total used features = 20\n",
      "Informative features: 18 (90%)\n",
      "\n",
      "Seed 0\n"
     ]
    },
    {
     "name": "stderr",
     "output_type": "stream",
     "text": [
      "Computing null SHAP values: 100%|████████████████████████████████████████████████████| 100/100 [02:42<00:00,  1.62s/it]\n"
     ]
    },
    {
     "name": "stdout",
     "output_type": "stream",
     "text": [
      "--------------------------------------------------\n",
      "Seed 1\n"
     ]
    },
    {
     "name": "stderr",
     "output_type": "stream",
     "text": [
      "Computing null SHAP values: 100%|████████████████████████████████████████████████████| 100/100 [02:42<00:00,  1.62s/it]\n"
     ]
    },
    {
     "name": "stdout",
     "output_type": "stream",
     "text": [
      "--------------------------------------------------\n",
      "Seed 2\n"
     ]
    },
    {
     "name": "stderr",
     "output_type": "stream",
     "text": [
      "Computing null SHAP values: 100%|████████████████████████████████████████████████████| 100/100 [02:41<00:00,  1.62s/it]\n"
     ]
    },
    {
     "name": "stdout",
     "output_type": "stream",
     "text": [
      "--------------------------------------------------\n",
      "Seed 3\n"
     ]
    },
    {
     "name": "stderr",
     "output_type": "stream",
     "text": [
      "Computing null SHAP values: 100%|████████████████████████████████████████████████████| 100/100 [02:41<00:00,  1.61s/it]\n"
     ]
    },
    {
     "name": "stdout",
     "output_type": "stream",
     "text": [
      "--------------------------------------------------\n",
      "Seed 4\n"
     ]
    },
    {
     "name": "stderr",
     "output_type": "stream",
     "text": [
      "Computing null SHAP values: 100%|████████████████████████████████████████████████████| 100/100 [02:41<00:00,  1.62s/it]\n"
     ]
    },
    {
     "name": "stdout",
     "output_type": "stream",
     "text": [
      "--------------------------------------------------\n",
      "Average time: 161.87 seconds\n",
      "Found features: [18, 18, 18, 18, 19]\n",
      "Found 18.0 of 18 informative features\n",
      "0.2 of 18.2 outputted powershap features are noise features\n",
      "====================================================================================================\n",
      "5000: \n",
      "20: \n",
      "[92.57 91.78 92.13 91.79 92.38]s - [91.58 92.72 91.71 93.15 92.79]s - [92.11 92.2  92.08 92.53 92.16]s - [92.33 92.18 93.04 92.56 92.48]s - [92.6  92.6  92.69 92.07 92.64]s | [1, 1, 1, 1, 1] ([3, 6, 4, 4, 0]) / 1 | [2, 2, 2, 2, 2] ([3, 1, 2, 2, 2]) / 2 | [6, 6, 6, 6, 6] ([0, 0, 1, 0, 0]) / 6 | [10, 10, 10, 10, 10] ([0, 0, 0, 0, 0]) / 10 | [18, 18, 17, 17, 18] ([0, 0, 0, 0, 0]) / 18 | \n",
      "100: \n",
      "[222.23 226.16 221.94 224.44 223.1 ]s - [223.56 222.74 224.17 223.16 223.4 ]s - [222.89 223.48 222.49 223.72 222.66]s - [222.85 222.94 224.15 222.78 222.79]s - [223.8  223.14 223.37 222.97 222.7 ]s | [3, 3, 3, 3, 3] ([3, 4, 5, 4, 3]) / 3 | [10, 10, 10, 10, 10] ([0, 0, 0, 0, 0]) / 10 | [30, 31, 29, 28, 30] ([0, 0, 0, 0, 0]) / 33 | [35, 37, 33, 37, 32] ([0, 0, 1, 0, 0]) / 50 | [49, 50, 40, 52, 48] ([0, 0, 0, 0, 0]) / 90 | \n",
      "250: \n",
      "[451.48 452.15 454.67 453.8  452.95]s - [452.55 454.42 451.63 452.62 451.83]s - [453.2  452.09 453.65 456.65 453.17]s - [451.03 453.37 453.84 454.99 452.23]s - [454.01 454.59 453.78 452.74 472.02]s | [7, 7, 7, 7, 7] ([1, 5, 4, 3, 2]) / 7 | [25, 25, 22, 21, 23] ([0, 0, 0, 0, 0]) / 25 | [51, 45, 50, 55, 50] ([0, 0, 0, 0, 0]) / 82 | [66, 58, 64, 73, 64] ([0, 0, 0, 0, 0]) / 125 | [76, 67, 68, 55, 71] ([0, 0, 1, 0, 0]) / 225 | \n",
      "500: \n",
      "[822.14 821.43 820.4  822.44 820.79]s - [821.52 826.61 821.91 821.34 821.64]s - [821.77 825.58 825.59 822.72 825.98]s - [823.81 821.74 826.1  822.2  822.65]s - [823.1  824.53 822.29 825.74 826.09]s | [15, 15, 15, 15, 15] ([6, 4, 2, 2, 5]) / 15 | [37, 44, 43, 43, 44] ([0, 0, 1, 1, 2]) / 50 | [79, 81, 72, 82, 82] ([0, 0, 0, 2, 0]) / 165 | [87, 86, 82, 82, 88] ([0, 0, 0, 0, 1]) / 250 | [76, 80, 81, 85, 82] ([0, 0, 0, 0, 0]) / 450 | \n",
      "10000: \n",
      "20: \n",
      "[160.26 160.21 160.77 160.03 159.85]s - [160.79 161.08 159.82 162.72 161.01]s - [160.51 161.16 160.77 160.08 162.37]s - [163.32 161.19 160.45 160.62 161.56]s - [162.14 162.23 161.82 161.48 161.66]s | [1, 1, 1, 1, 1] ([7, 14, 16, 12, 11]) / 1 | [2, 2, 2, 2, 2] ([8, 5, 16, 13, 16]) / 2 | [6, 6, 6, 6, 6] ([7, 5, 2, 4, 4]) / 6 | [10, 10, 10, 10, 10] ([1, 1, 2, 1, 0]) / 10 | [18, 18, 18, 18, 18] ([0, 0, 0, 0, 1]) / 18 | \n",
      "====================================================================================================\n",
      "Amount of samples = 10000\n",
      "Total used features = 100\n",
      "Informative features: 3 (3%)\n",
      "\n",
      "Seed 0\n"
     ]
    },
    {
     "name": "stderr",
     "output_type": "stream",
     "text": [
      "Computing null SHAP values: 100%|████████████████████████████████████████████████████| 100/100 [07:17<00:00,  4.38s/it]\n"
     ]
    },
    {
     "name": "stdout",
     "output_type": "stream",
     "text": [
      "--------------------------------------------------\n",
      "Seed 1\n"
     ]
    },
    {
     "name": "stderr",
     "output_type": "stream",
     "text": [
      "Computing null SHAP values: 100%|████████████████████████████████████████████████████| 100/100 [07:15<00:00,  4.35s/it]\n"
     ]
    },
    {
     "name": "stdout",
     "output_type": "stream",
     "text": [
      "--------------------------------------------------\n",
      "Seed 2\n"
     ]
    },
    {
     "name": "stderr",
     "output_type": "stream",
     "text": [
      "Computing null SHAP values: 100%|████████████████████████████████████████████████████| 100/100 [07:16<00:00,  4.37s/it]\n"
     ]
    },
    {
     "name": "stdout",
     "output_type": "stream",
     "text": [
      "--------------------------------------------------\n",
      "Seed 3\n"
     ]
    },
    {
     "name": "stderr",
     "output_type": "stream",
     "text": [
      "Computing null SHAP values: 100%|████████████████████████████████████████████████████| 100/100 [07:17<00:00,  4.38s/it]\n"
     ]
    },
    {
     "name": "stdout",
     "output_type": "stream",
     "text": [
      "--------------------------------------------------\n",
      "Seed 4\n"
     ]
    },
    {
     "name": "stderr",
     "output_type": "stream",
     "text": [
      "Computing null SHAP values: 100%|████████████████████████████████████████████████████| 100/100 [07:19<00:00,  4.39s/it]\n"
     ]
    },
    {
     "name": "stdout",
     "output_type": "stream",
     "text": [
      "--------------------------------------------------\n",
      "Average time: 437.29 seconds\n",
      "Found features: [13, 10, 20, 11, 17]\n",
      "Found 3.0 of 3 informative features\n",
      "11.2 of 14.2 outputted powershap features are noise features\n",
      "====================================================================================================\n",
      "Amount of samples = 10000\n",
      "Total used features = 100\n",
      "Informative features: 10 (10%)\n",
      "\n",
      "Seed 0\n"
     ]
    },
    {
     "name": "stderr",
     "output_type": "stream",
     "text": [
      "Computing null SHAP values: 100%|████████████████████████████████████████████████████| 100/100 [07:15<00:00,  4.35s/it]\n"
     ]
    },
    {
     "name": "stdout",
     "output_type": "stream",
     "text": [
      "--------------------------------------------------\n",
      "Seed 1\n"
     ]
    },
    {
     "name": "stderr",
     "output_type": "stream",
     "text": [
      "Computing null SHAP values: 100%|████████████████████████████████████████████████████| 100/100 [07:19<00:00,  4.39s/it]\n"
     ]
    },
    {
     "name": "stdout",
     "output_type": "stream",
     "text": [
      "--------------------------------------------------\n",
      "Seed 2\n"
     ]
    },
    {
     "name": "stderr",
     "output_type": "stream",
     "text": [
      "Computing null SHAP values: 100%|████████████████████████████████████████████████████| 100/100 [07:15<00:00,  4.36s/it]\n"
     ]
    },
    {
     "name": "stdout",
     "output_type": "stream",
     "text": [
      "--------------------------------------------------\n",
      "Seed 3\n"
     ]
    },
    {
     "name": "stderr",
     "output_type": "stream",
     "text": [
      "Computing null SHAP values: 100%|████████████████████████████████████████████████████| 100/100 [07:16<00:00,  4.37s/it]\n"
     ]
    },
    {
     "name": "stdout",
     "output_type": "stream",
     "text": [
      "--------------------------------------------------\n",
      "Seed 4\n"
     ]
    },
    {
     "name": "stderr",
     "output_type": "stream",
     "text": [
      "Computing null SHAP values: 100%|████████████████████████████████████████████████████| 100/100 [07:20<00:00,  4.40s/it]\n"
     ]
    },
    {
     "name": "stdout",
     "output_type": "stream",
     "text": [
      "--------------------------------------------------\n",
      "Average time: 437.46 seconds\n",
      "Found features: [11, 14, 13, 15, 13]\n",
      "Found 10.0 of 10 informative features\n",
      "3.2 of 13.2 outputted powershap features are noise features\n",
      "====================================================================================================\n",
      "Amount of samples = 10000\n",
      "Total used features = 100\n",
      "Informative features: 33 (33%)\n",
      "\n",
      "Seed 0\n"
     ]
    },
    {
     "name": "stderr",
     "output_type": "stream",
     "text": [
      "Computing null SHAP values: 100%|████████████████████████████████████████████████████| 100/100 [07:17<00:00,  4.37s/it]\n"
     ]
    },
    {
     "name": "stdout",
     "output_type": "stream",
     "text": [
      "--------------------------------------------------\n",
      "Seed 1\n"
     ]
    },
    {
     "name": "stderr",
     "output_type": "stream",
     "text": [
      "Computing null SHAP values: 100%|████████████████████████████████████████████████████| 100/100 [07:18<00:00,  4.39s/it]\n"
     ]
    },
    {
     "name": "stdout",
     "output_type": "stream",
     "text": [
      "--------------------------------------------------\n",
      "Seed 2\n"
     ]
    },
    {
     "name": "stderr",
     "output_type": "stream",
     "text": [
      "Computing null SHAP values: 100%|████████████████████████████████████████████████████| 100/100 [07:17<00:00,  4.38s/it]\n"
     ]
    },
    {
     "name": "stdout",
     "output_type": "stream",
     "text": [
      "--------------------------------------------------\n",
      "Seed 3\n"
     ]
    },
    {
     "name": "stderr",
     "output_type": "stream",
     "text": [
      "Computing null SHAP values: 100%|████████████████████████████████████████████████████| 100/100 [07:17<00:00,  4.37s/it]\n"
     ]
    },
    {
     "name": "stdout",
     "output_type": "stream",
     "text": [
      "--------------------------------------------------\n",
      "Seed 4\n"
     ]
    },
    {
     "name": "stderr",
     "output_type": "stream",
     "text": [
      "Computing null SHAP values: 100%|████████████████████████████████████████████████████| 100/100 [07:16<00:00,  4.37s/it]\n"
     ]
    },
    {
     "name": "stdout",
     "output_type": "stream",
     "text": [
      "--------------------------------------------------\n",
      "Average time: 437.49 seconds\n",
      "Found features: [33, 33, 34, 32, 33]\n",
      "Found 32.8 of 33 informative features\n",
      "0.2 of 33.0 outputted powershap features are noise features\n",
      "====================================================================================================\n",
      "Amount of samples = 10000\n",
      "Total used features = 100\n",
      "Informative features: 50 (50%)\n",
      "\n",
      "Seed 0\n"
     ]
    },
    {
     "name": "stderr",
     "output_type": "stream",
     "text": [
      "Computing null SHAP values: 100%|████████████████████████████████████████████████████| 100/100 [07:17<00:00,  4.37s/it]\n"
     ]
    },
    {
     "name": "stdout",
     "output_type": "stream",
     "text": [
      "--------------------------------------------------\n",
      "Seed 1\n"
     ]
    },
    {
     "name": "stderr",
     "output_type": "stream",
     "text": [
      "Computing null SHAP values: 100%|████████████████████████████████████████████████████| 100/100 [07:16<00:00,  4.37s/it]\n"
     ]
    },
    {
     "name": "stdout",
     "output_type": "stream",
     "text": [
      "--------------------------------------------------\n",
      "Seed 2\n"
     ]
    },
    {
     "name": "stderr",
     "output_type": "stream",
     "text": [
      "Computing null SHAP values: 100%|████████████████████████████████████████████████████| 100/100 [07:17<00:00,  4.38s/it]\n"
     ]
    },
    {
     "name": "stdout",
     "output_type": "stream",
     "text": [
      "--------------------------------------------------\n",
      "Seed 3\n"
     ]
    },
    {
     "name": "stderr",
     "output_type": "stream",
     "text": [
      "Computing null SHAP values: 100%|████████████████████████████████████████████████████| 100/100 [07:17<00:00,  4.38s/it]\n"
     ]
    },
    {
     "name": "stdout",
     "output_type": "stream",
     "text": [
      "--------------------------------------------------\n",
      "Seed 4\n"
     ]
    },
    {
     "name": "stderr",
     "output_type": "stream",
     "text": [
      "Computing null SHAP values: 100%|████████████████████████████████████████████████████| 100/100 [07:19<00:00,  4.40s/it]\n"
     ]
    },
    {
     "name": "stdout",
     "output_type": "stream",
     "text": [
      "--------------------------------------------------\n",
      "Average time: 437.87 seconds\n",
      "Found features: [46, 50, 49, 45, 48]\n",
      "Found 47.6 of 50 informative features\n",
      "0.0 of 47.6 outputted powershap features are noise features\n",
      "====================================================================================================\n",
      "Amount of samples = 10000\n",
      "Total used features = 100\n",
      "Informative features: 90 (90%)\n",
      "\n",
      "Seed 0\n"
     ]
    },
    {
     "name": "stderr",
     "output_type": "stream",
     "text": [
      "Computing null SHAP values: 100%|████████████████████████████████████████████████████| 100/100 [07:17<00:00,  4.38s/it]\n"
     ]
    },
    {
     "name": "stdout",
     "output_type": "stream",
     "text": [
      "--------------------------------------------------\n",
      "Seed 1\n"
     ]
    },
    {
     "name": "stderr",
     "output_type": "stream",
     "text": [
      "Computing null SHAP values: 100%|████████████████████████████████████████████████████| 100/100 [07:20<00:00,  4.40s/it]\n"
     ]
    },
    {
     "name": "stdout",
     "output_type": "stream",
     "text": [
      "--------------------------------------------------\n",
      "Seed 2\n"
     ]
    },
    {
     "name": "stderr",
     "output_type": "stream",
     "text": [
      "Computing null SHAP values: 100%|████████████████████████████████████████████████████| 100/100 [07:17<00:00,  4.38s/it]\n"
     ]
    },
    {
     "name": "stdout",
     "output_type": "stream",
     "text": [
      "--------------------------------------------------\n",
      "Seed 3\n"
     ]
    },
    {
     "name": "stderr",
     "output_type": "stream",
     "text": [
      "Computing null SHAP values: 100%|████████████████████████████████████████████████████| 100/100 [07:17<00:00,  4.38s/it]\n"
     ]
    },
    {
     "name": "stdout",
     "output_type": "stream",
     "text": [
      "--------------------------------------------------\n",
      "Seed 4\n"
     ]
    },
    {
     "name": "stderr",
     "output_type": "stream",
     "text": [
      "Computing null SHAP values: 100%|████████████████████████████████████████████████████| 100/100 [07:17<00:00,  4.38s/it]\n"
     ]
    },
    {
     "name": "stdout",
     "output_type": "stream",
     "text": [
      "--------------------------------------------------\n",
      "Average time: 438.12 seconds\n",
      "Found features: [68, 70, 67, 69, 73]\n",
      "Found 69.4 of 90 informative features\n",
      "0.0 of 69.4 outputted powershap features are noise features\n",
      "====================================================================================================\n",
      "5000: \n",
      "20: \n",
      "[92.57 91.78 92.13 91.79 92.38]s - [91.58 92.72 91.71 93.15 92.79]s - [92.11 92.2  92.08 92.53 92.16]s - [92.33 92.18 93.04 92.56 92.48]s - [92.6  92.6  92.69 92.07 92.64]s | [1, 1, 1, 1, 1] ([3, 6, 4, 4, 0]) / 1 | [2, 2, 2, 2, 2] ([3, 1, 2, 2, 2]) / 2 | [6, 6, 6, 6, 6] ([0, 0, 1, 0, 0]) / 6 | [10, 10, 10, 10, 10] ([0, 0, 0, 0, 0]) / 10 | [18, 18, 17, 17, 18] ([0, 0, 0, 0, 0]) / 18 | \n",
      "100: \n",
      "[222.23 226.16 221.94 224.44 223.1 ]s - [223.56 222.74 224.17 223.16 223.4 ]s - [222.89 223.48 222.49 223.72 222.66]s - [222.85 222.94 224.15 222.78 222.79]s - [223.8  223.14 223.37 222.97 222.7 ]s | [3, 3, 3, 3, 3] ([3, 4, 5, 4, 3]) / 3 | [10, 10, 10, 10, 10] ([0, 0, 0, 0, 0]) / 10 | [30, 31, 29, 28, 30] ([0, 0, 0, 0, 0]) / 33 | [35, 37, 33, 37, 32] ([0, 0, 1, 0, 0]) / 50 | [49, 50, 40, 52, 48] ([0, 0, 0, 0, 0]) / 90 | \n",
      "250: \n",
      "[451.48 452.15 454.67 453.8  452.95]s - [452.55 454.42 451.63 452.62 451.83]s - [453.2  452.09 453.65 456.65 453.17]s - [451.03 453.37 453.84 454.99 452.23]s - [454.01 454.59 453.78 452.74 472.02]s | [7, 7, 7, 7, 7] ([1, 5, 4, 3, 2]) / 7 | [25, 25, 22, 21, 23] ([0, 0, 0, 0, 0]) / 25 | [51, 45, 50, 55, 50] ([0, 0, 0, 0, 0]) / 82 | [66, 58, 64, 73, 64] ([0, 0, 0, 0, 0]) / 125 | [76, 67, 68, 55, 71] ([0, 0, 1, 0, 0]) / 225 | \n",
      "500: \n",
      "[822.14 821.43 820.4  822.44 820.79]s - [821.52 826.61 821.91 821.34 821.64]s - [821.77 825.58 825.59 822.72 825.98]s - [823.81 821.74 826.1  822.2  822.65]s - [823.1  824.53 822.29 825.74 826.09]s | [15, 15, 15, 15, 15] ([6, 4, 2, 2, 5]) / 15 | [37, 44, 43, 43, 44] ([0, 0, 1, 1, 2]) / 50 | [79, 81, 72, 82, 82] ([0, 0, 0, 2, 0]) / 165 | [87, 86, 82, 82, 88] ([0, 0, 0, 0, 1]) / 250 | [76, 80, 81, 85, 82] ([0, 0, 0, 0, 0]) / 450 | \n",
      "10000: \n",
      "20: \n",
      "[160.26 160.21 160.77 160.03 159.85]s - [160.79 161.08 159.82 162.72 161.01]s - [160.51 161.16 160.77 160.08 162.37]s - [163.32 161.19 160.45 160.62 161.56]s - [162.14 162.23 161.82 161.48 161.66]s | [1, 1, 1, 1, 1] ([7, 14, 16, 12, 11]) / 1 | [2, 2, 2, 2, 2] ([8, 5, 16, 13, 16]) / 2 | [6, 6, 6, 6, 6] ([7, 5, 2, 4, 4]) / 6 | [10, 10, 10, 10, 10] ([1, 1, 2, 1, 0]) / 10 | [18, 18, 18, 18, 18] ([0, 0, 0, 0, 1]) / 18 | \n",
      "100: \n",
      "[437.87 435.12 436.57 437.77 439.12]s - [435.4  439.37 435.52 436.62 440.36]s - [437.06 438.71 437.63 437.23 436.81]s - [437.3  436.89 437.68 437.8  439.69]s - [437.51 440.17 437.56 437.63 437.75]s | [3, 3, 3, 3, 3] ([10, 7, 17, 8, 14]) / 3 | [10, 10, 10, 10, 10] ([1, 4, 3, 5, 3]) / 10 | [33, 33, 33, 32, 33] ([0, 0, 1, 0, 0]) / 33 | [46, 50, 49, 45, 48] ([0, 0, 0, 0, 0]) / 50 | [68, 70, 67, 69, 73] ([0, 0, 0, 0, 0]) / 90 | \n",
      "====================================================================================================\n",
      "Amount of samples = 10000\n",
      "Total used features = 250\n",
      "Informative features: 7 (3%)\n",
      "\n",
      "Seed 0\n"
     ]
    },
    {
     "name": "stderr",
     "output_type": "stream",
     "text": [
      "Computing null SHAP values: 100%|████████████████████████████████████████████████████| 100/100 [15:37<00:00,  9.38s/it]\n"
     ]
    },
    {
     "name": "stdout",
     "output_type": "stream",
     "text": [
      "--------------------------------------------------\n",
      "Seed 1\n"
     ]
    },
    {
     "name": "stderr",
     "output_type": "stream",
     "text": [
      "Computing null SHAP values: 100%|████████████████████████████████████████████████████| 100/100 [15:42<00:00,  9.42s/it]\n"
     ]
    },
    {
     "name": "stdout",
     "output_type": "stream",
     "text": [
      "--------------------------------------------------\n",
      "Seed 2\n"
     ]
    },
    {
     "name": "stderr",
     "output_type": "stream",
     "text": [
      "Computing null SHAP values: 100%|████████████████████████████████████████████████████| 100/100 [15:36<00:00,  9.36s/it]\n"
     ]
    },
    {
     "name": "stdout",
     "output_type": "stream",
     "text": [
      "--------------------------------------------------\n",
      "Seed 3\n"
     ]
    },
    {
     "name": "stderr",
     "output_type": "stream",
     "text": [
      "Computing null SHAP values: 100%|████████████████████████████████████████████████████| 100/100 [15:36<00:00,  9.37s/it]\n"
     ]
    },
    {
     "name": "stdout",
     "output_type": "stream",
     "text": [
      "--------------------------------------------------\n",
      "Seed 4\n"
     ]
    },
    {
     "name": "stderr",
     "output_type": "stream",
     "text": [
      "Computing null SHAP values: 100%|████████████████████████████████████████████████████| 100/100 [15:41<00:00,  9.41s/it]\n"
     ]
    },
    {
     "name": "stdout",
     "output_type": "stream",
     "text": [
      "--------------------------------------------------\n",
      "Average time: 938.91 seconds\n",
      "Found features: [12, 13, 14, 20, 24]\n",
      "Found 7.0 of 7 informative features\n",
      "9.6 of 16.6 outputted powershap features are noise features\n",
      "====================================================================================================\n",
      "Amount of samples = 10000\n",
      "Total used features = 250\n",
      "Informative features: 25 (10%)\n",
      "\n",
      "Seed 0\n"
     ]
    },
    {
     "name": "stderr",
     "output_type": "stream",
     "text": [
      "Computing null SHAP values: 100%|████████████████████████████████████████████████████| 100/100 [15:38<00:00,  9.38s/it]\n"
     ]
    },
    {
     "name": "stdout",
     "output_type": "stream",
     "text": [
      "--------------------------------------------------\n",
      "Seed 1\n"
     ]
    },
    {
     "name": "stderr",
     "output_type": "stream",
     "text": [
      "Computing null SHAP values: 100%|████████████████████████████████████████████████████| 100/100 [15:38<00:00,  9.39s/it]\n"
     ]
    },
    {
     "name": "stdout",
     "output_type": "stream",
     "text": [
      "--------------------------------------------------\n",
      "Seed 2\n"
     ]
    },
    {
     "name": "stderr",
     "output_type": "stream",
     "text": [
      "Computing null SHAP values: 100%|████████████████████████████████████████████████████| 100/100 [15:42<00:00,  9.42s/it]\n"
     ]
    },
    {
     "name": "stdout",
     "output_type": "stream",
     "text": [
      "--------------------------------------------------\n",
      "Seed 3\n"
     ]
    },
    {
     "name": "stderr",
     "output_type": "stream",
     "text": [
      "Computing null SHAP values: 100%|████████████████████████████████████████████████████| 100/100 [15:36<00:00,  9.37s/it]\n"
     ]
    },
    {
     "name": "stdout",
     "output_type": "stream",
     "text": [
      "--------------------------------------------------\n",
      "Seed 4\n"
     ]
    },
    {
     "name": "stderr",
     "output_type": "stream",
     "text": [
      "Computing null SHAP values: 100%|████████████████████████████████████████████████████| 100/100 [15:39<00:00,  9.39s/it]\n"
     ]
    },
    {
     "name": "stdout",
     "output_type": "stream",
     "text": [
      "--------------------------------------------------\n",
      "Average time: 939.14 seconds\n",
      "Found features: [30, 29, 27, 27, 28]\n",
      "Found 25.0 of 25 informative features\n",
      "3.2 of 28.2 outputted powershap features are noise features\n",
      "====================================================================================================\n",
      "Amount of samples = 10000\n",
      "Total used features = 250\n",
      "Informative features: 82 (33%)\n",
      "\n",
      "Seed 0\n"
     ]
    },
    {
     "name": "stderr",
     "output_type": "stream",
     "text": [
      "Computing null SHAP values: 100%|████████████████████████████████████████████████████| 100/100 [15:36<00:00,  9.36s/it]\n"
     ]
    },
    {
     "name": "stdout",
     "output_type": "stream",
     "text": [
      "--------------------------------------------------\n",
      "Seed 1\n"
     ]
    },
    {
     "name": "stderr",
     "output_type": "stream",
     "text": [
      "Computing null SHAP values: 100%|████████████████████████████████████████████████████| 100/100 [15:36<00:00,  9.37s/it]\n"
     ]
    },
    {
     "name": "stdout",
     "output_type": "stream",
     "text": [
      "--------------------------------------------------\n",
      "Seed 2\n"
     ]
    },
    {
     "name": "stderr",
     "output_type": "stream",
     "text": [
      "Computing null SHAP values: 100%|████████████████████████████████████████████████████| 100/100 [15:40<00:00,  9.41s/it]\n"
     ]
    },
    {
     "name": "stdout",
     "output_type": "stream",
     "text": [
      "--------------------------------------------------\n",
      "Seed 3\n"
     ]
    },
    {
     "name": "stderr",
     "output_type": "stream",
     "text": [
      "Computing null SHAP values: 100%|████████████████████████████████████████████████████| 100/100 [15:37<00:00,  9.37s/it]\n"
     ]
    },
    {
     "name": "stdout",
     "output_type": "stream",
     "text": [
      "--------------------------------------------------\n",
      "Seed 4\n"
     ]
    },
    {
     "name": "stderr",
     "output_type": "stream",
     "text": [
      "Computing null SHAP values: 100%|████████████████████████████████████████████████████| 100/100 [15:38<00:00,  9.38s/it]\n"
     ]
    },
    {
     "name": "stdout",
     "output_type": "stream",
     "text": [
      "--------------------------------------------------\n",
      "Average time: 937.89 seconds\n",
      "Found features: [69, 68, 74, 75, 73]\n",
      "Found 71.6 of 82 informative features\n",
      "0.2 of 71.8 outputted powershap features are noise features\n",
      "====================================================================================================\n",
      "Amount of samples = 10000\n",
      "Total used features = 250\n",
      "Informative features: 125 (50%)\n",
      "\n",
      "Seed 0\n"
     ]
    },
    {
     "name": "stderr",
     "output_type": "stream",
     "text": [
      "Computing null SHAP values: 100%|████████████████████████████████████████████████████| 100/100 [15:36<00:00,  9.37s/it]\n"
     ]
    },
    {
     "name": "stdout",
     "output_type": "stream",
     "text": [
      "--------------------------------------------------\n",
      "Seed 1\n"
     ]
    },
    {
     "name": "stderr",
     "output_type": "stream",
     "text": [
      "Computing null SHAP values: 100%|████████████████████████████████████████████████████| 100/100 [15:36<00:00,  9.37s/it]\n"
     ]
    },
    {
     "name": "stdout",
     "output_type": "stream",
     "text": [
      "--------------------------------------------------\n",
      "Seed 2\n"
     ]
    },
    {
     "name": "stderr",
     "output_type": "stream",
     "text": [
      "Computing null SHAP values: 100%|████████████████████████████████████████████████████| 100/100 [15:40<00:00,  9.40s/it]\n"
     ]
    },
    {
     "name": "stdout",
     "output_type": "stream",
     "text": [
      "--------------------------------------------------\n",
      "Seed 3\n"
     ]
    },
    {
     "name": "stderr",
     "output_type": "stream",
     "text": [
      "Computing null SHAP values: 100%|████████████████████████████████████████████████████| 100/100 [15:37<00:00,  9.37s/it]\n"
     ]
    },
    {
     "name": "stdout",
     "output_type": "stream",
     "text": [
      "--------------------------------------------------\n",
      "Seed 4\n"
     ]
    },
    {
     "name": "stderr",
     "output_type": "stream",
     "text": [
      "Computing null SHAP values: 100%|████████████████████████████████████████████████████| 100/100 [15:53<00:00,  9.54s/it]\n"
     ]
    },
    {
     "name": "stdout",
     "output_type": "stream",
     "text": [
      "--------------------------------------------------\n",
      "Average time: 940.93 seconds\n",
      "Found features: [97, 86, 92, 88, 90]\n",
      "Found 90.6 of 125 informative features\n",
      "0.0 of 90.6 outputted powershap features are noise features\n",
      "====================================================================================================\n",
      "Amount of samples = 10000\n",
      "Total used features = 250\n",
      "Informative features: 225 (90%)\n",
      "\n",
      "Seed 0\n"
     ]
    },
    {
     "name": "stderr",
     "output_type": "stream",
     "text": [
      "Computing null SHAP values: 100%|████████████████████████████████████████████████████| 100/100 [15:37<00:00,  9.37s/it]\n"
     ]
    },
    {
     "name": "stdout",
     "output_type": "stream",
     "text": [
      "--------------------------------------------------\n",
      "Seed 1\n"
     ]
    },
    {
     "name": "stderr",
     "output_type": "stream",
     "text": [
      "Computing null SHAP values: 100%|████████████████████████████████████████████████████| 100/100 [15:39<00:00,  9.40s/it]\n"
     ]
    },
    {
     "name": "stdout",
     "output_type": "stream",
     "text": [
      "--------------------------------------------------\n",
      "Seed 2\n"
     ]
    },
    {
     "name": "stderr",
     "output_type": "stream",
     "text": [
      "Computing null SHAP values: 100%|████████████████████████████████████████████████████| 100/100 [15:36<00:00,  9.37s/it]\n"
     ]
    },
    {
     "name": "stdout",
     "output_type": "stream",
     "text": [
      "--------------------------------------------------\n",
      "Seed 3\n"
     ]
    },
    {
     "name": "stderr",
     "output_type": "stream",
     "text": [
      "Computing null SHAP values: 100%|████████████████████████████████████████████████████| 100/100 [15:41<00:00,  9.41s/it]\n"
     ]
    },
    {
     "name": "stdout",
     "output_type": "stream",
     "text": [
      "--------------------------------------------------\n",
      "Seed 4\n"
     ]
    },
    {
     "name": "stderr",
     "output_type": "stream",
     "text": [
      "Computing null SHAP values: 100%|████████████████████████████████████████████████████| 100/100 [15:37<00:00,  9.37s/it]\n"
     ]
    },
    {
     "name": "stdout",
     "output_type": "stream",
     "text": [
      "--------------------------------------------------\n",
      "Average time: 938.47 seconds\n",
      "Found features: [121, 122, 126, 116, 122]\n",
      "Found 121.4 of 225 informative features\n",
      "0.0 of 121.4 outputted powershap features are noise features\n",
      "====================================================================================================\n",
      "5000: \n",
      "20: \n",
      "[92.57 91.78 92.13 91.79 92.38]s - [91.58 92.72 91.71 93.15 92.79]s - [92.11 92.2  92.08 92.53 92.16]s - [92.33 92.18 93.04 92.56 92.48]s - [92.6  92.6  92.69 92.07 92.64]s | [1, 1, 1, 1, 1] ([3, 6, 4, 4, 0]) / 1 | [2, 2, 2, 2, 2] ([3, 1, 2, 2, 2]) / 2 | [6, 6, 6, 6, 6] ([0, 0, 1, 0, 0]) / 6 | [10, 10, 10, 10, 10] ([0, 0, 0, 0, 0]) / 10 | [18, 18, 17, 17, 18] ([0, 0, 0, 0, 0]) / 18 | \n",
      "100: \n",
      "[222.23 226.16 221.94 224.44 223.1 ]s - [223.56 222.74 224.17 223.16 223.4 ]s - [222.89 223.48 222.49 223.72 222.66]s - [222.85 222.94 224.15 222.78 222.79]s - [223.8  223.14 223.37 222.97 222.7 ]s | [3, 3, 3, 3, 3] ([3, 4, 5, 4, 3]) / 3 | [10, 10, 10, 10, 10] ([0, 0, 0, 0, 0]) / 10 | [30, 31, 29, 28, 30] ([0, 0, 0, 0, 0]) / 33 | [35, 37, 33, 37, 32] ([0, 0, 1, 0, 0]) / 50 | [49, 50, 40, 52, 48] ([0, 0, 0, 0, 0]) / 90 | \n",
      "250: \n",
      "[451.48 452.15 454.67 453.8  452.95]s - [452.55 454.42 451.63 452.62 451.83]s - [453.2  452.09 453.65 456.65 453.17]s - [451.03 453.37 453.84 454.99 452.23]s - [454.01 454.59 453.78 452.74 472.02]s | [7, 7, 7, 7, 7] ([1, 5, 4, 3, 2]) / 7 | [25, 25, 22, 21, 23] ([0, 0, 0, 0, 0]) / 25 | [51, 45, 50, 55, 50] ([0, 0, 0, 0, 0]) / 82 | [66, 58, 64, 73, 64] ([0, 0, 0, 0, 0]) / 125 | [76, 67, 68, 55, 71] ([0, 0, 1, 0, 0]) / 225 | \n",
      "500: \n",
      "[822.14 821.43 820.4  822.44 820.79]s - [821.52 826.61 821.91 821.34 821.64]s - [821.77 825.58 825.59 822.72 825.98]s - [823.81 821.74 826.1  822.2  822.65]s - [823.1  824.53 822.29 825.74 826.09]s | [15, 15, 15, 15, 15] ([6, 4, 2, 2, 5]) / 15 | [37, 44, 43, 43, 44] ([0, 0, 1, 1, 2]) / 50 | [79, 81, 72, 82, 82] ([0, 0, 0, 2, 0]) / 165 | [87, 86, 82, 82, 88] ([0, 0, 0, 0, 1]) / 250 | [76, 80, 81, 85, 82] ([0, 0, 0, 0, 0]) / 450 | \n",
      "10000: \n",
      "20: \n",
      "[160.26 160.21 160.77 160.03 159.85]s - [160.79 161.08 159.82 162.72 161.01]s - [160.51 161.16 160.77 160.08 162.37]s - [163.32 161.19 160.45 160.62 161.56]s - [162.14 162.23 161.82 161.48 161.66]s | [1, 1, 1, 1, 1] ([7, 14, 16, 12, 11]) / 1 | [2, 2, 2, 2, 2] ([8, 5, 16, 13, 16]) / 2 | [6, 6, 6, 6, 6] ([7, 5, 2, 4, 4]) / 6 | [10, 10, 10, 10, 10] ([1, 1, 2, 1, 0]) / 10 | [18, 18, 18, 18, 18] ([0, 0, 0, 0, 1]) / 18 | \n",
      "100: \n",
      "[437.87 435.12 436.57 437.77 439.12]s - [435.4  439.37 435.52 436.62 440.36]s - [437.06 438.71 437.63 437.23 436.81]s - [437.3  436.89 437.68 437.8  439.69]s - [437.51 440.17 437.56 437.63 437.75]s | [3, 3, 3, 3, 3] ([10, 7, 17, 8, 14]) / 3 | [10, 10, 10, 10, 10] ([1, 4, 3, 5, 3]) / 10 | [33, 33, 33, 32, 33] ([0, 0, 1, 0, 0]) / 33 | [46, 50, 49, 45, 48] ([0, 0, 0, 0, 0]) / 50 | [68, 70, 67, 69, 73] ([0, 0, 0, 0, 0]) / 90 | \n",
      "250: \n",
      "[937.98 942.02 936.3  936.74 941.5 ]s - [938.35 938.71 942.35 936.79 939.49]s - [936.26 936.66 940.74 937.42 938.37]s - [936.89 936.91 940.07 937.11 953.67]s - [937.17 939.7  936.93 941.33 937.22]s | [7, 7, 7, 7, 7] ([5, 6, 7, 13, 17]) / 7 | [25, 25, 25, 25, 25] ([5, 4, 2, 2, 3]) / 25 | [69, 68, 73, 75, 73] ([0, 0, 1, 0, 0]) / 82 | [97, 86, 92, 88, 90] ([0, 0, 0, 0, 0]) / 125 | [121, 122, 126, 116, 122] ([0, 0, 0, 0, 0]) / 225 | \n",
      "====================================================================================================\n",
      "Amount of samples = 10000\n",
      "Total used features = 500\n",
      "Informative features: 15 (3%)\n",
      "\n",
      "Seed 0\n"
     ]
    },
    {
     "name": "stderr",
     "output_type": "stream",
     "text": [
      "Computing null SHAP values: 100%|████████████████████████████████████████████████████| 100/100 [29:49<00:00, 17.89s/it]\n"
     ]
    },
    {
     "name": "stdout",
     "output_type": "stream",
     "text": [
      "--------------------------------------------------\n",
      "Seed 1\n"
     ]
    },
    {
     "name": "stderr",
     "output_type": "stream",
     "text": [
      "Computing null SHAP values: 100%|████████████████████████████████████████████████████| 100/100 [29:49<00:00, 17.89s/it]\n"
     ]
    },
    {
     "name": "stdout",
     "output_type": "stream",
     "text": [
      "--------------------------------------------------\n",
      "Seed 2\n"
     ]
    },
    {
     "name": "stderr",
     "output_type": "stream",
     "text": [
      "Computing null SHAP values: 100%|████████████████████████████████████████████████████| 100/100 [29:42<00:00, 17.82s/it]\n"
     ]
    },
    {
     "name": "stdout",
     "output_type": "stream",
     "text": [
      "--------------------------------------------------\n",
      "Seed 3\n"
     ]
    },
    {
     "name": "stderr",
     "output_type": "stream",
     "text": [
      "Computing null SHAP values: 100%|████████████████████████████████████████████████████| 100/100 [29:47<00:00, 17.88s/it]\n"
     ]
    },
    {
     "name": "stdout",
     "output_type": "stream",
     "text": [
      "--------------------------------------------------\n",
      "Seed 4\n"
     ]
    },
    {
     "name": "stderr",
     "output_type": "stream",
     "text": [
      "Computing null SHAP values: 100%|████████████████████████████████████████████████████| 100/100 [29:45<00:00, 17.85s/it]\n"
     ]
    },
    {
     "name": "stdout",
     "output_type": "stream",
     "text": [
      "--------------------------------------------------\n",
      "Average time: 1786.8 seconds\n",
      "Found features: [22, 26, 24, 23, 24]\n",
      "Found 15.0 of 15 informative features\n",
      "8.8 of 23.8 outputted powershap features are noise features\n",
      "====================================================================================================\n",
      "Amount of samples = 10000\n",
      "Total used features = 500\n",
      "Informative features: 50 (10%)\n",
      "\n",
      "Seed 0\n"
     ]
    },
    {
     "name": "stderr",
     "output_type": "stream",
     "text": [
      "Computing null SHAP values: 100%|████████████████████████████████████████████████████| 100/100 [29:51<00:00, 17.91s/it]\n"
     ]
    },
    {
     "name": "stdout",
     "output_type": "stream",
     "text": [
      "--------------------------------------------------\n",
      "Seed 1\n"
     ]
    },
    {
     "name": "stderr",
     "output_type": "stream",
     "text": [
      "Computing null SHAP values: 100%|████████████████████████████████████████████████████| 100/100 [29:41<00:00, 17.82s/it]\n"
     ]
    },
    {
     "name": "stdout",
     "output_type": "stream",
     "text": [
      "--------------------------------------------------\n",
      "Seed 2\n"
     ]
    },
    {
     "name": "stderr",
     "output_type": "stream",
     "text": [
      "Computing null SHAP values: 100%|████████████████████████████████████████████████████| 100/100 [29:42<00:00, 17.83s/it]\n"
     ]
    },
    {
     "name": "stdout",
     "output_type": "stream",
     "text": [
      "--------------------------------------------------\n",
      "Seed 3\n"
     ]
    },
    {
     "name": "stderr",
     "output_type": "stream",
     "text": [
      "Computing null SHAP values: 100%|████████████████████████████████████████████████████| 100/100 [29:47<00:00, 17.87s/it]\n"
     ]
    },
    {
     "name": "stdout",
     "output_type": "stream",
     "text": [
      "--------------------------------------------------\n",
      "Seed 4\n"
     ]
    },
    {
     "name": "stderr",
     "output_type": "stream",
     "text": [
      "Computing null SHAP values: 100%|████████████████████████████████████████████████████| 100/100 [29:53<00:00, 17.93s/it]\n"
     ]
    },
    {
     "name": "stdout",
     "output_type": "stream",
     "text": [
      "--------------------------------------------------\n",
      "Average time: 1787.39 seconds\n",
      "Found features: [50, 54, 51, 53, 52]\n",
      "Found 49.2 of 50 informative features\n",
      "2.8 of 52.0 outputted powershap features are noise features\n",
      "====================================================================================================\n",
      "Amount of samples = 10000\n",
      "Total used features = 500\n",
      "Informative features: 165 (33%)\n",
      "\n",
      "Seed 0\n"
     ]
    },
    {
     "name": "stderr",
     "output_type": "stream",
     "text": [
      "Computing null SHAP values: 100%|████████████████████████████████████████████████████| 100/100 [29:47<00:00, 17.87s/it]\n"
     ]
    },
    {
     "name": "stdout",
     "output_type": "stream",
     "text": [
      "--------------------------------------------------\n",
      "Seed 1\n"
     ]
    },
    {
     "name": "stderr",
     "output_type": "stream",
     "text": [
      "Computing null SHAP values: 100%|████████████████████████████████████████████████████| 100/100 [29:41<00:00, 17.82s/it]\n"
     ]
    },
    {
     "name": "stdout",
     "output_type": "stream",
     "text": [
      "--------------------------------------------------\n",
      "Seed 2\n"
     ]
    },
    {
     "name": "stderr",
     "output_type": "stream",
     "text": [
      "Computing null SHAP values: 100%|████████████████████████████████████████████████████| 100/100 [29:47<00:00, 17.88s/it]\n"
     ]
    },
    {
     "name": "stdout",
     "output_type": "stream",
     "text": [
      "--------------------------------------------------\n",
      "Seed 3\n"
     ]
    },
    {
     "name": "stderr",
     "output_type": "stream",
     "text": [
      "Computing null SHAP values: 100%|████████████████████████████████████████████████████| 100/100 [29:55<00:00, 17.95s/it]\n"
     ]
    },
    {
     "name": "stdout",
     "output_type": "stream",
     "text": [
      "--------------------------------------------------\n",
      "Seed 4\n"
     ]
    },
    {
     "name": "stderr",
     "output_type": "stream",
     "text": [
      "Computing null SHAP values: 100%|████████████████████████████████████████████████████| 100/100 [29:55<00:00, 17.95s/it]\n"
     ]
    },
    {
     "name": "stdout",
     "output_type": "stream",
     "text": [
      "--------------------------------------------------\n",
      "Average time: 1789.47 seconds\n",
      "Found features: [118, 110, 115, 111, 104]\n",
      "Found 111.4 of 165 informative features\n",
      "0.2 of 111.6 outputted powershap features are noise features\n",
      "====================================================================================================\n",
      "Amount of samples = 10000\n",
      "Total used features = 500\n",
      "Informative features: 250 (50%)\n",
      "\n",
      "Seed 0\n"
     ]
    },
    {
     "name": "stderr",
     "output_type": "stream",
     "text": [
      "Computing null SHAP values: 100%|████████████████████████████████████████████████████| 100/100 [29:44<00:00, 17.85s/it]\n"
     ]
    },
    {
     "name": "stdout",
     "output_type": "stream",
     "text": [
      "--------------------------------------------------\n",
      "Seed 1\n"
     ]
    },
    {
     "name": "stderr",
     "output_type": "stream",
     "text": [
      "Computing null SHAP values: 100%|████████████████████████████████████████████████████| 100/100 [29:48<00:00, 17.89s/it]\n"
     ]
    },
    {
     "name": "stdout",
     "output_type": "stream",
     "text": [
      "--------------------------------------------------\n",
      "Seed 2\n"
     ]
    },
    {
     "name": "stderr",
     "output_type": "stream",
     "text": [
      "Computing null SHAP values: 100%|████████████████████████████████████████████████████| 100/100 [29:53<00:00, 17.93s/it]\n"
     ]
    },
    {
     "name": "stdout",
     "output_type": "stream",
     "text": [
      "--------------------------------------------------\n",
      "Seed 3\n"
     ]
    },
    {
     "name": "stderr",
     "output_type": "stream",
     "text": [
      "Computing null SHAP values: 100%|████████████████████████████████████████████████████| 100/100 [29:45<00:00, 17.85s/it]\n"
     ]
    },
    {
     "name": "stdout",
     "output_type": "stream",
     "text": [
      "--------------------------------------------------\n",
      "Seed 4\n"
     ]
    },
    {
     "name": "stderr",
     "output_type": "stream",
     "text": [
      "Computing null SHAP values: 100%|████████████████████████████████████████████████████| 100/100 [29:42<00:00, 17.82s/it]\n"
     ]
    },
    {
     "name": "stdout",
     "output_type": "stream",
     "text": [
      "--------------------------------------------------\n",
      "Average time: 1786.86 seconds\n",
      "Found features: [139, 136, 138, 141, 132]\n",
      "Found 137.2 of 250 informative features\n",
      "0.0 of 137.2 outputted powershap features are noise features\n",
      "====================================================================================================\n",
      "Amount of samples = 10000\n",
      "Total used features = 500\n",
      "Informative features: 450 (90%)\n",
      "\n",
      "Seed 0\n"
     ]
    },
    {
     "name": "stderr",
     "output_type": "stream",
     "text": [
      "Computing null SHAP values: 100%|████████████████████████████████████████████████████| 100/100 [29:56<00:00, 17.96s/it]\n"
     ]
    },
    {
     "name": "stdout",
     "output_type": "stream",
     "text": [
      "--------------------------------------------------\n",
      "Seed 1\n"
     ]
    },
    {
     "name": "stderr",
     "output_type": "stream",
     "text": [
      "Computing null SHAP values: 100%|████████████████████████████████████████████████████| 100/100 [29:52<00:00, 17.93s/it]\n"
     ]
    },
    {
     "name": "stdout",
     "output_type": "stream",
     "text": [
      "--------------------------------------------------\n",
      "Seed 2\n"
     ]
    },
    {
     "name": "stderr",
     "output_type": "stream",
     "text": [
      "Computing null SHAP values: 100%|████████████████████████████████████████████████████| 100/100 [29:47<00:00, 17.88s/it]\n"
     ]
    },
    {
     "name": "stdout",
     "output_type": "stream",
     "text": [
      "--------------------------------------------------\n",
      "Seed 3\n"
     ]
    },
    {
     "name": "stderr",
     "output_type": "stream",
     "text": [
      "Computing null SHAP values: 100%|████████████████████████████████████████████████████| 100/100 [29:47<00:00, 17.87s/it]\n"
     ]
    },
    {
     "name": "stdout",
     "output_type": "stream",
     "text": [
      "--------------------------------------------------\n",
      "Seed 4\n"
     ]
    },
    {
     "name": "stderr",
     "output_type": "stream",
     "text": [
      "Computing null SHAP values: 100%|████████████████████████████████████████████████████| 100/100 [29:50<00:00, 17.90s/it]"
     ]
    },
    {
     "name": "stdout",
     "output_type": "stream",
     "text": [
      "--------------------------------------------------\n",
      "Average time: 1790.81 seconds\n",
      "Found features: [154, 158, 143, 144, 144]\n",
      "Found 148.6 of 450 informative features\n",
      "0.0 of 148.6 outputted powershap features are noise features\n",
      "====================================================================================================\n",
      "5000: \n",
      "20: \n",
      "[92.57 91.78 92.13 91.79 92.38]s - [91.58 92.72 91.71 93.15 92.79]s - [92.11 92.2  92.08 92.53 92.16]s - [92.33 92.18 93.04 92.56 92.48]s - [92.6  92.6  92.69 92.07 92.64]s | [1, 1, 1, 1, 1] ([3, 6, 4, 4, 0]) / 1 | [2, 2, 2, 2, 2] ([3, 1, 2, 2, 2]) / 2 | [6, 6, 6, 6, 6] ([0, 0, 1, 0, 0]) / 6 | [10, 10, 10, 10, 10] ([0, 0, 0, 0, 0]) / 10 | [18, 18, 17, 17, 18] ([0, 0, 0, 0, 0]) / 18 | \n",
      "100: \n",
      "[222.23 226.16 221.94 224.44 223.1 ]s - [223.56 222.74 224.17 223.16 223.4 ]s - [222.89 223.48 222.49 223.72 222.66]s - [222.85 222.94 224.15 222.78 222.79]s - [223.8  223.14 223.37 222.97 222.7 ]s | [3, 3, 3, 3, 3] ([3, 4, 5, 4, 3]) / 3 | [10, 10, 10, 10, 10] ([0, 0, 0, 0, 0]) / 10 | [30, 31, 29, 28, 30] ([0, 0, 0, 0, 0]) / 33 | [35, 37, 33, 37, 32] ([0, 0, 1, 0, 0]) / 50 | [49, 50, 40, 52, 48] ([0, 0, 0, 0, 0]) / 90 | \n",
      "250: \n",
      "[451.48 452.15 454.67 453.8  452.95]s - [452.55 454.42 451.63 452.62 451.83]s - [453.2  452.09 453.65 456.65 453.17]s - [451.03 453.37 453.84 454.99 452.23]s - [454.01 454.59 453.78 452.74 472.02]s | [7, 7, 7, 7, 7] ([1, 5, 4, 3, 2]) / 7 | [25, 25, 22, 21, 23] ([0, 0, 0, 0, 0]) / 25 | [51, 45, 50, 55, 50] ([0, 0, 0, 0, 0]) / 82 | [66, 58, 64, 73, 64] ([0, 0, 0, 0, 0]) / 125 | [76, 67, 68, 55, 71] ([0, 0, 1, 0, 0]) / 225 | \n",
      "500: \n",
      "[822.14 821.43 820.4  822.44 820.79]s - [821.52 826.61 821.91 821.34 821.64]s - [821.77 825.58 825.59 822.72 825.98]s - [823.81 821.74 826.1  822.2  822.65]s - [823.1  824.53 822.29 825.74 826.09]s | [15, 15, 15, 15, 15] ([6, 4, 2, 2, 5]) / 15 | [37, 44, 43, 43, 44] ([0, 0, 1, 1, 2]) / 50 | [79, 81, 72, 82, 82] ([0, 0, 0, 2, 0]) / 165 | [87, 86, 82, 82, 88] ([0, 0, 0, 0, 1]) / 250 | [76, 80, 81, 85, 82] ([0, 0, 0, 0, 0]) / 450 | \n",
      "10000: \n",
      "20: \n",
      "[160.26 160.21 160.77 160.03 159.85]s - [160.79 161.08 159.82 162.72 161.01]s - [160.51 161.16 160.77 160.08 162.37]s - [163.32 161.19 160.45 160.62 161.56]s - [162.14 162.23 161.82 161.48 161.66]s | [1, 1, 1, 1, 1] ([7, 14, 16, 12, 11]) / 1 | [2, 2, 2, 2, 2] ([8, 5, 16, 13, 16]) / 2 | [6, 6, 6, 6, 6] ([7, 5, 2, 4, 4]) / 6 | [10, 10, 10, 10, 10] ([1, 1, 2, 1, 0]) / 10 | [18, 18, 18, 18, 18] ([0, 0, 0, 0, 1]) / 18 | \n",
      "100: \n",
      "[437.87 435.12 436.57 437.77 439.12]s - [435.4  439.37 435.52 436.62 440.36]s - [437.06 438.71 437.63 437.23 436.81]s - [437.3  436.89 437.68 437.8  439.69]s - [437.51 440.17 437.56 437.63 437.75]s | [3, 3, 3, 3, 3] ([10, 7, 17, 8, 14]) / 3 | [10, 10, 10, 10, 10] ([1, 4, 3, 5, 3]) / 10 | [33, 33, 33, 32, 33] ([0, 0, 1, 0, 0]) / 33 | [46, 50, 49, 45, 48] ([0, 0, 0, 0, 0]) / 50 | [68, 70, 67, 69, 73] ([0, 0, 0, 0, 0]) / 90 | \n",
      "250: \n",
      "[937.98 942.02 936.3  936.74 941.5 ]s - [938.35 938.71 942.35 936.79 939.49]s - [936.26 936.66 940.74 937.42 938.37]s - [936.89 936.91 940.07 937.11 953.67]s - [937.17 939.7  936.93 941.33 937.22]s | [7, 7, 7, 7, 7] ([5, 6, 7, 13, 17]) / 7 | [25, 25, 25, 25, 25] ([5, 4, 2, 2, 3]) / 25 | [69, 68, 73, 75, 73] ([0, 0, 1, 0, 0]) / 82 | [97, 86, 92, 88, 90] ([0, 0, 0, 0, 0]) / 125 | [121, 122, 126, 116, 122] ([0, 0, 0, 0, 0]) / 225 | \n",
      "500: \n",
      "[1789.43 1789.39 1782.3  1787.62 1785.27]s - [1791.5  1781.98 1782.91 1787.48 1793.09]s - [1787.46 1781.85 1787.77 1795.24 1795.01]s - [1784.76 1788.84 1793.03 1785.24 1782.45]s - [1796.26 1792.81 1787.58 1787.27 1790.11]s | [15, 15, 15, 15, 15] ([7, 11, 9, 8, 9]) / 15 | [47, 50, 49, 50, 50] ([3, 4, 2, 3, 2]) / 50 | [117, 110, 115, 111, 104] ([1, 0, 0, 0, 0]) / 165 | [139, 136, 138, 141, 132] ([0, 0, 0, 0, 0]) / 250 | [154, 158, 143, 144, 144] ([0, 0, 0, 0, 0]) / 450 | \n",
      "====================================================================================================\n"
     ]
    },
    {
     "name": "stderr",
     "output_type": "stream",
     "text": [
      "\n"
     ]
    }
   ],
   "source": [
    "import shapicant\n",
    "\n",
    "for hypercube in [True]:\n",
    "    output_dict = {}\n",
    "    for n_samples in [5000, 10000]:\n",
    "        output_dict[str(n_samples)]={}\n",
    "        for n_features in [20,100,250,500]:\n",
    "            output_dict[str(n_samples)][str(n_features)]={}\n",
    "            \n",
    "            average_times = []\n",
    "            output_dict[str(n_samples)][str(n_features)][\"Average time\"]=average_times\n",
    "            for n_informative in [3,10,33,50,90]:\n",
    "                output_dict[str(n_samples)][str(n_features)][str(n_informative)+\"%\"]={}\n",
    "                print(\"Amount of samples = \"+str(n_samples))\n",
    "                print(\"Total used features = \"+str(n_features))\n",
    "                n_inform = int(n_informative/100*n_features)\n",
    "                if n_inform < 1:\n",
    "                    n_inform = 1\n",
    "                print(\"Informative features: \"+str(n_inform)+\" (\"+str(n_informative)+\"%)\")\n",
    "                print(\"\")\n",
    "                \n",
    "                found_features = []\n",
    "                found_idx_features = []\n",
    "                times = []\n",
    "                for random_seed in [0,1,2,3,4]:\n",
    "                    print(\"Seed \"+str(random_seed))\n",
    "                    \n",
    "                    if n_inform == 1:\n",
    "                        X, y = make_classification(n_samples=n_samples, n_classes=2, n_features=n_features, hypercube=hypercube, n_informative=1, n_redundant=0, n_repeated = 0,shuffle=False,random_state=random_seed, n_clusters_per_class=1)\n",
    "                    else:\n",
    "                        X, y = make_classification(n_samples=n_samples, n_classes=2, n_features=n_features, hypercube=hypercube, n_informative=n_inform, n_redundant=0, n_repeated = 0,shuffle=False,random_state=random_seed)                        \n",
    "                    \n",
    "                    X = pd.DataFrame(data=X, columns=[f\"col_{i}\" for i in range(n_features)])\n",
    "                    \n",
    "                    X[\"class\"]=y\n",
    "                    X = X.reset_index()\n",
    "\n",
    "                    explainer_type = shap.TreeExplainer\n",
    "                    # if classification is False it is a Regression problem\n",
    "                    model = XGBClassifier(n_estimators=250, verbosity=0)\n",
    "                    selector = shapicant.PandasSelector(model, explainer_type, random_state=42)\n",
    "    \n",
    "                    train_idx,val_idx = train_test_split(X[\"index\"].values,test_size=0.2,random_state = 0)\n",
    "    \n",
    "                    X_train = X[X[\"index\"].isin(train_idx)].copy(deep=True)[list(X.columns.values[1:-1])]\n",
    "                    X_val = X[X[\"index\"].isin(val_idx)].copy(deep=True)[list(X.columns.values[1:-1])]\n",
    "                    Y_train =  X[X[\"index\"].isin(train_idx)][\"class\"]                    \n",
    "    \n",
    "                    start_time = time.time()\n",
    "                    \n",
    "                    selector.fit(X_train, Y_train, X_validation=X_val)\n",
    "    \n",
    "                    subset = selector.get_features()\n",
    "                    p_values = selector.p_values_\n",
    "    \n",
    "                    np.array(subset)\n",
    "    \n",
    "                    times.append(time.time() - start_time)\n",
    "                    print(50*\"-\")\n",
    "                    \n",
    "                    found_features.append(len(subset))\n",
    "                    found_idx_features.append(subset)\n",
    "\n",
    "                    X.drop(columns=['index'], inplace=True)\n",
    "                    \n",
    "                found_informative_features = [np.sum(np.isin(X.columns.values[:n_inform],f_list)) for f_list in found_idx_features]\n",
    "                found_noise_features = [np.sum(1-np.isin(f_list,X.columns.values[:n_inform])) for f_list in found_idx_features]\n",
    "                print(\"Average time: \"+str(np.round(np.mean(times),2))+\" seconds\")\n",
    "                print(\"Found features: \"+str(found_features))#len(processed_shaps_df[processed_shaps_df.p_value<0.01])))\n",
    "                print(\"Found \"+str(np.mean(found_informative_features))+\" of \"+str(n_inform)+\" informative features\")\n",
    "                print(str(np.mean(found_noise_features))+\" of \"+str(np.mean(found_features))+\" outputted powershap features are noise features\")\n",
    "                \n",
    "                average_times.append(np.round(times,2))\n",
    "                \n",
    "                output_dict[str(n_samples)][str(n_features)][str(n_informative)+\"%\"][\"informative_features\"]=n_inform\n",
    "                output_dict[str(n_samples)][str(n_features)][str(n_informative)+\"%\"][\"found_informative_features\"]=found_informative_features\n",
    "                output_dict[str(n_samples)][str(n_features)][str(n_informative)+\"%\"][\"outputted_noise_features\"]=found_noise_features\n",
    "                \n",
    "                print(100*\"=\")\n",
    "                \n",
    "            output_dict[str(n_samples)][str(n_features)][\"Average time\"]=average_times\n",
    "            benchmark_dict_print(output_dict)\n",
    "            print(100*\"=\")\n",
    "        \n",
    "    if not hypercube:\n",
    "        output_dict_to_df(output_dict).to_csv(f\"../results/{sub}/make_classi_shapicant_output_df.csv\", index=False)\n",
    "    else:\n",
    "        output_dict_to_df(output_dict).to_csv(f\"../results/{sub}/make_classi_shapicant_output_df_hypercube.csv\", index=False)"
   ]
  },
  {
   "cell_type": "markdown",
   "id": "ccd5d96c-9978-4db1-9c3d-de0cc9d3b528",
   "metadata": {},
   "source": [
    "## Chi-squared"
   ]
  },
  {
   "cell_type": "code",
   "execution_count": 17,
   "id": "fad7599e-5666-4201-a881-24c5853e142c",
   "metadata": {},
   "outputs": [
    {
     "name": "stdout",
     "output_type": "stream",
     "text": [
      "Amount of samples = 5000\n",
      "Total used features = 20\n",
      "Informative features: 1 (3%)\n",
      "\n",
      "Seed 0\n",
      "--------------------------------------------------\n",
      "Seed 1\n",
      "--------------------------------------------------\n",
      "Seed 2\n",
      "--------------------------------------------------\n",
      "Seed 3\n",
      "--------------------------------------------------\n",
      "Seed 4\n",
      "--------------------------------------------------\n",
      "Average time: 0.0 seconds\n",
      "Found features: [1, 1, 1, 1, 1]\n",
      "Found 1.0 of 1 informative features\n",
      "0.0 of 1.0 outputted powershap features are noise features\n",
      "====================================================================================================\n",
      "Amount of samples = 5000\n",
      "Total used features = 20\n",
      "Informative features: 2 (10%)\n",
      "\n",
      "Seed 0\n",
      "--------------------------------------------------\n",
      "Seed 1\n",
      "--------------------------------------------------\n",
      "Seed 2\n",
      "--------------------------------------------------\n",
      "Seed 3\n",
      "--------------------------------------------------\n",
      "Seed 4\n",
      "--------------------------------------------------\n",
      "Average time: 0.0 seconds\n",
      "Found features: [1, 1, 1, 1, 1]\n",
      "Found 1.0 of 2 informative features\n",
      "0.0 of 1.0 outputted powershap features are noise features\n",
      "====================================================================================================\n",
      "Amount of samples = 5000\n",
      "Total used features = 20\n",
      "Informative features: 6 (33%)\n",
      "\n",
      "Seed 0\n",
      "--------------------------------------------------\n",
      "Seed 1\n",
      "--------------------------------------------------\n",
      "Seed 2\n",
      "--------------------------------------------------\n",
      "Seed 3\n",
      "--------------------------------------------------\n",
      "Seed 4\n",
      "--------------------------------------------------\n",
      "Average time: 0.0 seconds\n",
      "Found features: [4, 3, 4, 6, 3]\n",
      "Found 4.0 of 6 informative features\n",
      "0.0 of 4.0 outputted powershap features are noise features\n",
      "====================================================================================================\n",
      "Amount of samples = 5000\n",
      "Total used features = 20\n",
      "Informative features: 10 (50%)\n",
      "\n",
      "Seed 0\n",
      "--------------------------------------------------\n",
      "Seed 1\n",
      "--------------------------------------------------\n",
      "Seed 2\n",
      "--------------------------------------------------\n",
      "Seed 3\n",
      "--------------------------------------------------\n",
      "Seed 4\n",
      "--------------------------------------------------\n",
      "Average time: 0.0 seconds\n",
      "Found features: [5, 6, 5, 6, 7]\n",
      "Found 5.8 of 10 informative features\n",
      "0.0 of 5.8 outputted powershap features are noise features\n",
      "====================================================================================================\n",
      "Amount of samples = 5000\n",
      "Total used features = 20\n",
      "Informative features: 18 (90%)\n",
      "\n",
      "Seed 0\n",
      "--------------------------------------------------\n",
      "Seed 1\n",
      "--------------------------------------------------\n",
      "Seed 2\n",
      "--------------------------------------------------\n",
      "Seed 3\n",
      "--------------------------------------------------\n",
      "Seed 4\n",
      "--------------------------------------------------\n",
      "Average time: 0.0 seconds\n",
      "Found features: [9, 11, 10, 12, 12]\n",
      "Found 10.8 of 18 informative features\n",
      "0.0 of 10.8 outputted powershap features are noise features\n",
      "====================================================================================================\n",
      "5000: \n",
      "20: \n",
      "[0. 0. 0. 0. 0.]s - [0. 0. 0. 0. 0.]s - [0. 0. 0. 0. 0.]s - [0. 0. 0. 0. 0.]s - [0. 0. 0. 0. 0.]s | [1, 1, 1, 1, 1] ([0, 0, 0, 0, 0]) / 1 | [1, 1, 1, 1, 1] ([0, 0, 0, 0, 0]) / 2 | [4, 3, 4, 6, 3] ([0, 0, 0, 0, 0]) / 6 | [5, 6, 5, 6, 7] ([0, 0, 0, 0, 0]) / 10 | [9, 11, 10, 12, 12] ([0, 0, 0, 0, 0]) / 18 | \n",
      "====================================================================================================\n",
      "Amount of samples = 5000\n",
      "Total used features = 100\n",
      "Informative features: 3 (3%)\n",
      "\n",
      "Seed 0\n",
      "--------------------------------------------------\n",
      "Seed 1\n",
      "--------------------------------------------------\n",
      "Seed 2\n",
      "--------------------------------------------------\n",
      "Seed 3\n",
      "--------------------------------------------------\n",
      "Seed 4\n",
      "--------------------------------------------------\n",
      "Average time: 0.01 seconds\n",
      "Found features: [1, 2, 2, 1, 0]\n",
      "Found 1.2 of 3 informative features\n",
      "0.0 of 1.2 outputted powershap features are noise features\n",
      "====================================================================================================\n",
      "Amount of samples = 5000\n",
      "Total used features = 100\n",
      "Informative features: 10 (10%)\n",
      "\n",
      "Seed 0\n",
      "--------------------------------------------------\n",
      "Seed 1\n",
      "--------------------------------------------------\n",
      "Seed 2\n",
      "--------------------------------------------------\n",
      "Seed 3\n",
      "--------------------------------------------------\n",
      "Seed 4\n",
      "--------------------------------------------------\n",
      "Average time: 0.01 seconds\n",
      "Found features: [5, 6, 5, 6, 7]\n",
      "Found 5.8 of 10 informative features\n",
      "0.0 of 5.8 outputted powershap features are noise features\n",
      "====================================================================================================\n",
      "Amount of samples = 5000\n",
      "Total used features = 100\n",
      "Informative features: 33 (33%)\n",
      "\n",
      "Seed 0\n",
      "--------------------------------------------------\n",
      "Seed 1\n",
      "--------------------------------------------------\n",
      "Seed 2\n",
      "--------------------------------------------------\n",
      "Seed 3\n",
      "--------------------------------------------------\n",
      "Seed 4\n",
      "--------------------------------------------------\n",
      "Average time: 0.01 seconds\n",
      "Found features: [19, 22, 23, 19, 21]\n",
      "Found 20.8 of 33 informative features\n",
      "0.0 of 20.8 outputted powershap features are noise features\n",
      "====================================================================================================\n",
      "Amount of samples = 5000\n",
      "Total used features = 100\n",
      "Informative features: 50 (50%)\n",
      "\n",
      "Seed 0\n",
      "--------------------------------------------------\n",
      "Seed 1\n",
      "--------------------------------------------------\n",
      "Seed 2\n",
      "--------------------------------------------------\n",
      "Seed 3\n",
      "--------------------------------------------------\n",
      "Seed 4\n",
      "--------------------------------------------------\n",
      "Average time: 0.01 seconds\n",
      "Found features: [28, 28, 24, 32, 28]\n",
      "Found 28.0 of 50 informative features\n",
      "0.0 of 28.0 outputted powershap features are noise features\n",
      "====================================================================================================\n",
      "Amount of samples = 5000\n",
      "Total used features = 100\n",
      "Informative features: 90 (90%)\n",
      "\n",
      "Seed 0\n",
      "--------------------------------------------------\n",
      "Seed 1\n",
      "--------------------------------------------------\n",
      "Seed 2\n",
      "--------------------------------------------------\n",
      "Seed 3\n",
      "--------------------------------------------------\n",
      "Seed 4\n",
      "--------------------------------------------------\n",
      "Average time: 0.01 seconds\n",
      "Found features: [64, 65, 49, 60, 65]\n",
      "Found 60.6 of 90 informative features\n",
      "0.0 of 60.6 outputted powershap features are noise features\n",
      "====================================================================================================\n",
      "5000: \n",
      "20: \n",
      "[0. 0. 0. 0. 0.]s - [0. 0. 0. 0. 0.]s - [0. 0. 0. 0. 0.]s - [0. 0. 0. 0. 0.]s - [0. 0. 0. 0. 0.]s | [1, 1, 1, 1, 1] ([0, 0, 0, 0, 0]) / 1 | [1, 1, 1, 1, 1] ([0, 0, 0, 0, 0]) / 2 | [4, 3, 4, 6, 3] ([0, 0, 0, 0, 0]) / 6 | [5, 6, 5, 6, 7] ([0, 0, 0, 0, 0]) / 10 | [9, 11, 10, 12, 12] ([0, 0, 0, 0, 0]) / 18 | \n",
      "100: \n",
      "[0.01 0.01 0.01 0.01 0.01]s - [0.01 0.01 0.01 0.01 0.01]s - [0.01 0.01 0.01 0.01 0.01]s - [0.01 0.01 0.01 0.01 0.01]s - [0.01 0.01 0.01 0.01 0.01]s | [1, 2, 2, 1, 0] ([0, 0, 0, 0, 0]) / 3 | [5, 6, 5, 6, 7] ([0, 0, 0, 0, 0]) / 10 | [19, 22, 23, 19, 21] ([0, 0, 0, 0, 0]) / 33 | [28, 28, 24, 32, 28] ([0, 0, 0, 0, 0]) / 50 | [64, 65, 49, 60, 65] ([0, 0, 0, 0, 0]) / 90 | \n",
      "====================================================================================================\n",
      "Amount of samples = 5000\n",
      "Total used features = 250\n",
      "Informative features: 7 (3%)\n",
      "\n",
      "Seed 0\n",
      "--------------------------------------------------\n",
      "Seed 1\n",
      "--------------------------------------------------\n",
      "Seed 2\n",
      "--------------------------------------------------\n",
      "Seed 3\n",
      "--------------------------------------------------\n",
      "Seed 4\n",
      "--------------------------------------------------\n",
      "Average time: 0.01 seconds\n",
      "Found features: [4, 5, 7, 5, 5]\n",
      "Found 5.2 of 7 informative features\n",
      "0.0 of 5.2 outputted powershap features are noise features\n",
      "====================================================================================================\n",
      "Amount of samples = 5000\n",
      "Total used features = 250\n",
      "Informative features: 25 (10%)\n",
      "\n",
      "Seed 0\n",
      "--------------------------------------------------\n",
      "Seed 1\n",
      "--------------------------------------------------\n",
      "Seed 2\n",
      "--------------------------------------------------\n",
      "Seed 3\n",
      "--------------------------------------------------\n",
      "Seed 4\n",
      "--------------------------------------------------\n",
      "Average time: 0.01 seconds\n",
      "Found features: [13, 16, 14, 16, 14]\n",
      "Found 14.6 of 25 informative features\n",
      "0.0 of 14.6 outputted powershap features are noise features\n",
      "====================================================================================================\n",
      "Amount of samples = 5000\n",
      "Total used features = 250\n",
      "Informative features: 82 (33%)\n",
      "\n",
      "Seed 0\n",
      "--------------------------------------------------\n",
      "Seed 1\n",
      "--------------------------------------------------\n",
      "Seed 2\n",
      "--------------------------------------------------\n",
      "Seed 3\n",
      "--------------------------------------------------\n",
      "Seed 4\n",
      "--------------------------------------------------\n",
      "Average time: 0.01 seconds\n",
      "Found features: [53, 51, 50, 50, 58]\n",
      "Found 52.4 of 82 informative features\n",
      "0.0 of 52.4 outputted powershap features are noise features\n",
      "====================================================================================================\n",
      "Amount of samples = 5000\n",
      "Total used features = 250\n",
      "Informative features: 125 (50%)\n",
      "\n",
      "Seed 0\n",
      "--------------------------------------------------\n",
      "Seed 1\n",
      "--------------------------------------------------\n",
      "Seed 2\n",
      "--------------------------------------------------\n",
      "Seed 3\n",
      "--------------------------------------------------\n",
      "Seed 4\n",
      "--------------------------------------------------\n",
      "Average time: 0.02 seconds\n",
      "Found features: [91, 76, 81, 84, 79]\n",
      "Found 82.2 of 125 informative features\n",
      "0.0 of 82.2 outputted powershap features are noise features\n",
      "====================================================================================================\n",
      "Amount of samples = 5000\n",
      "Total used features = 250\n",
      "Informative features: 225 (90%)\n",
      "\n",
      "Seed 0\n",
      "--------------------------------------------------\n",
      "Seed 1\n",
      "--------------------------------------------------\n",
      "Seed 2\n",
      "--------------------------------------------------\n",
      "Seed 3\n",
      "--------------------------------------------------\n",
      "Seed 4\n",
      "--------------------------------------------------\n",
      "Average time: 0.01 seconds\n",
      "Found features: [154, 154, 142, 137, 145]\n",
      "Found 146.4 of 225 informative features\n",
      "0.0 of 146.4 outputted powershap features are noise features\n",
      "====================================================================================================\n",
      "5000: \n",
      "20: \n",
      "[0. 0. 0. 0. 0.]s - [0. 0. 0. 0. 0.]s - [0. 0. 0. 0. 0.]s - [0. 0. 0. 0. 0.]s - [0. 0. 0. 0. 0.]s | [1, 1, 1, 1, 1] ([0, 0, 0, 0, 0]) / 1 | [1, 1, 1, 1, 1] ([0, 0, 0, 0, 0]) / 2 | [4, 3, 4, 6, 3] ([0, 0, 0, 0, 0]) / 6 | [5, 6, 5, 6, 7] ([0, 0, 0, 0, 0]) / 10 | [9, 11, 10, 12, 12] ([0, 0, 0, 0, 0]) / 18 | \n",
      "100: \n",
      "[0.01 0.01 0.01 0.01 0.01]s - [0.01 0.01 0.01 0.01 0.01]s - [0.01 0.01 0.01 0.01 0.01]s - [0.01 0.01 0.01 0.01 0.01]s - [0.01 0.01 0.01 0.01 0.01]s | [1, 2, 2, 1, 0] ([0, 0, 0, 0, 0]) / 3 | [5, 6, 5, 6, 7] ([0, 0, 0, 0, 0]) / 10 | [19, 22, 23, 19, 21] ([0, 0, 0, 0, 0]) / 33 | [28, 28, 24, 32, 28] ([0, 0, 0, 0, 0]) / 50 | [64, 65, 49, 60, 65] ([0, 0, 0, 0, 0]) / 90 | \n",
      "250: \n",
      "[0.01 0.01 0.01 0.01 0.01]s - [0.01 0.01 0.01 0.01 0.01]s - [0.01 0.01 0.01 0.01 0.01]s - [0.01 0.01 0.01 0.01 0.02]s - [0.01 0.01 0.01 0.01 0.01]s | [4, 5, 7, 5, 5] ([0, 0, 0, 0, 0]) / 7 | [13, 16, 14, 16, 14] ([0, 0, 0, 0, 0]) / 25 | [53, 51, 50, 50, 58] ([0, 0, 0, 0, 0]) / 82 | [91, 76, 81, 84, 79] ([0, 0, 0, 0, 0]) / 125 | [154, 154, 142, 137, 145] ([0, 0, 0, 0, 0]) / 225 | \n",
      "====================================================================================================\n",
      "Amount of samples = 5000\n",
      "Total used features = 500\n",
      "Informative features: 15 (3%)\n",
      "\n",
      "Seed 0\n",
      "--------------------------------------------------\n",
      "Seed 1\n",
      "--------------------------------------------------\n",
      "Seed 2\n",
      "--------------------------------------------------\n",
      "Seed 3\n",
      "--------------------------------------------------\n",
      "Seed 4\n",
      "--------------------------------------------------\n",
      "Average time: 0.03 seconds\n",
      "Found features: [7, 10, 8, 9, 10]\n",
      "Found 8.8 of 15 informative features\n",
      "0.0 of 8.8 outputted powershap features are noise features\n",
      "====================================================================================================\n",
      "Amount of samples = 5000\n",
      "Total used features = 500\n",
      "Informative features: 50 (10%)\n",
      "\n",
      "Seed 0\n",
      "--------------------------------------------------\n",
      "Seed 1\n",
      "--------------------------------------------------\n",
      "Seed 2\n",
      "--------------------------------------------------\n",
      "Seed 3\n",
      "--------------------------------------------------\n",
      "Seed 4\n",
      "--------------------------------------------------\n",
      "Average time: 0.03 seconds\n",
      "Found features: [28, 28, 24, 32, 28]\n",
      "Found 28.0 of 50 informative features\n",
      "0.0 of 28.0 outputted powershap features are noise features\n",
      "====================================================================================================\n",
      "Amount of samples = 5000\n",
      "Total used features = 500\n",
      "Informative features: 165 (33%)\n",
      "\n",
      "Seed 0\n",
      "--------------------------------------------------\n",
      "Seed 1\n",
      "--------------------------------------------------\n",
      "Seed 2\n",
      "--------------------------------------------------\n",
      "Seed 3\n",
      "--------------------------------------------------\n",
      "Seed 4\n",
      "--------------------------------------------------\n",
      "Average time: 0.03 seconds\n",
      "Found features: [103, 104, 105, 113, 105]\n",
      "Found 106.0 of 165 informative features\n",
      "0.0 of 106.0 outputted powershap features are noise features\n",
      "====================================================================================================\n",
      "Amount of samples = 5000\n",
      "Total used features = 500\n",
      "Informative features: 250 (50%)\n",
      "\n",
      "Seed 0\n",
      "--------------------------------------------------\n",
      "Seed 1\n",
      "--------------------------------------------------\n",
      "Seed 2\n",
      "--------------------------------------------------\n",
      "Seed 3\n",
      "--------------------------------------------------\n",
      "Seed 4\n",
      "--------------------------------------------------\n",
      "Average time: 0.03 seconds\n",
      "Found features: [171, 172, 163, 161, 159]\n",
      "Found 165.2 of 250 informative features\n",
      "0.0 of 165.2 outputted powershap features are noise features\n",
      "====================================================================================================\n",
      "Amount of samples = 5000\n",
      "Total used features = 500\n",
      "Informative features: 450 (90%)\n",
      "\n",
      "Seed 0\n",
      "--------------------------------------------------\n",
      "Seed 1\n",
      "--------------------------------------------------\n",
      "Seed 2\n",
      "--------------------------------------------------\n",
      "Seed 3\n",
      "--------------------------------------------------\n",
      "Seed 4\n",
      "--------------------------------------------------\n",
      "Average time: 0.03 seconds\n",
      "Found features: [284, 296, 298, 282, 279]\n",
      "Found 287.8 of 450 informative features\n",
      "0.0 of 287.8 outputted powershap features are noise features\n",
      "====================================================================================================\n",
      "5000: \n",
      "20: \n",
      "[0. 0. 0. 0. 0.]s - [0. 0. 0. 0. 0.]s - [0. 0. 0. 0. 0.]s - [0. 0. 0. 0. 0.]s - [0. 0. 0. 0. 0.]s | [1, 1, 1, 1, 1] ([0, 0, 0, 0, 0]) / 1 | [1, 1, 1, 1, 1] ([0, 0, 0, 0, 0]) / 2 | [4, 3, 4, 6, 3] ([0, 0, 0, 0, 0]) / 6 | [5, 6, 5, 6, 7] ([0, 0, 0, 0, 0]) / 10 | [9, 11, 10, 12, 12] ([0, 0, 0, 0, 0]) / 18 | \n",
      "100: \n",
      "[0.01 0.01 0.01 0.01 0.01]s - [0.01 0.01 0.01 0.01 0.01]s - [0.01 0.01 0.01 0.01 0.01]s - [0.01 0.01 0.01 0.01 0.01]s - [0.01 0.01 0.01 0.01 0.01]s | [1, 2, 2, 1, 0] ([0, 0, 0, 0, 0]) / 3 | [5, 6, 5, 6, 7] ([0, 0, 0, 0, 0]) / 10 | [19, 22, 23, 19, 21] ([0, 0, 0, 0, 0]) / 33 | [28, 28, 24, 32, 28] ([0, 0, 0, 0, 0]) / 50 | [64, 65, 49, 60, 65] ([0, 0, 0, 0, 0]) / 90 | \n",
      "250: \n",
      "[0.01 0.01 0.01 0.01 0.01]s - [0.01 0.01 0.01 0.01 0.01]s - [0.01 0.01 0.01 0.01 0.01]s - [0.01 0.01 0.01 0.01 0.02]s - [0.01 0.01 0.01 0.01 0.01]s | [4, 5, 7, 5, 5] ([0, 0, 0, 0, 0]) / 7 | [13, 16, 14, 16, 14] ([0, 0, 0, 0, 0]) / 25 | [53, 51, 50, 50, 58] ([0, 0, 0, 0, 0]) / 82 | [91, 76, 81, 84, 79] ([0, 0, 0, 0, 0]) / 125 | [154, 154, 142, 137, 145] ([0, 0, 0, 0, 0]) / 225 | \n",
      "500: \n",
      "[0.03 0.03 0.03 0.03 0.03]s - [0.03 0.03 0.03 0.03 0.03]s - [0.03 0.03 0.03 0.03 0.03]s - [0.03 0.03 0.03 0.03 0.03]s - [0.03 0.03 0.03 0.03 0.03]s | [7, 10, 8, 9, 10] ([0, 0, 0, 0, 0]) / 15 | [28, 28, 24, 32, 28] ([0, 0, 0, 0, 0]) / 50 | [103, 104, 105, 113, 105] ([0, 0, 0, 0, 0]) / 165 | [171, 172, 163, 161, 159] ([0, 0, 0, 0, 0]) / 250 | [284, 296, 298, 282, 279] ([0, 0, 0, 0, 0]) / 450 | \n",
      "====================================================================================================\n",
      "Amount of samples = 10000\n",
      "Total used features = 20\n",
      "Informative features: 1 (3%)\n",
      "\n",
      "Seed 0\n",
      "--------------------------------------------------\n",
      "Seed 1\n",
      "--------------------------------------------------\n",
      "Seed 2\n",
      "--------------------------------------------------\n",
      "Seed 3\n",
      "--------------------------------------------------\n",
      "Seed 4\n",
      "--------------------------------------------------\n",
      "Average time: 0.0 seconds\n",
      "Found features: [1, 1, 1, 1, 1]\n",
      "Found 1.0 of 1 informative features\n",
      "0.0 of 1.0 outputted powershap features are noise features\n",
      "====================================================================================================\n",
      "Amount of samples = 10000\n",
      "Total used features = 20\n",
      "Informative features: 2 (10%)\n",
      "\n",
      "Seed 0\n",
      "--------------------------------------------------\n",
      "Seed 1\n",
      "--------------------------------------------------\n",
      "Seed 2\n",
      "--------------------------------------------------\n",
      "Seed 3\n",
      "--------------------------------------------------\n",
      "Seed 4\n",
      "--------------------------------------------------\n",
      "Average time: 0.0 seconds\n",
      "Found features: [1, 1, 1, 1, 1]\n",
      "Found 1.0 of 2 informative features\n",
      "0.0 of 1.0 outputted powershap features are noise features\n",
      "====================================================================================================\n",
      "Amount of samples = 10000\n",
      "Total used features = 20\n",
      "Informative features: 6 (33%)\n",
      "\n",
      "Seed 0\n",
      "--------------------------------------------------\n",
      "Seed 1\n",
      "--------------------------------------------------\n",
      "Seed 2\n",
      "--------------------------------------------------\n",
      "Seed 3\n",
      "--------------------------------------------------\n",
      "Seed 4\n",
      "--------------------------------------------------\n",
      "Average time: 0.0 seconds\n",
      "Found features: [4, 3, 4, 6, 3]\n",
      "Found 4.0 of 6 informative features\n",
      "0.0 of 4.0 outputted powershap features are noise features\n",
      "====================================================================================================\n",
      "Amount of samples = 10000\n",
      "Total used features = 20\n",
      "Informative features: 10 (50%)\n",
      "\n",
      "Seed 0\n",
      "--------------------------------------------------\n",
      "Seed 1\n",
      "--------------------------------------------------\n",
      "Seed 2\n",
      "--------------------------------------------------\n",
      "Seed 3\n",
      "--------------------------------------------------\n",
      "Seed 4\n",
      "--------------------------------------------------\n",
      "Average time: 0.0 seconds\n",
      "Found features: [5, 6, 5, 6, 7]\n",
      "Found 5.8 of 10 informative features\n",
      "0.0 of 5.8 outputted powershap features are noise features\n",
      "====================================================================================================\n",
      "Amount of samples = 10000\n",
      "Total used features = 20\n",
      "Informative features: 18 (90%)\n",
      "\n",
      "Seed 0\n",
      "--------------------------------------------------\n",
      "Seed 1\n",
      "--------------------------------------------------\n",
      "Seed 2\n",
      "--------------------------------------------------\n",
      "Seed 3\n",
      "--------------------------------------------------\n",
      "Seed 4\n",
      "--------------------------------------------------\n",
      "Average time: 0.0 seconds\n",
      "Found features: [9, 11, 10, 12, 12]\n",
      "Found 10.8 of 18 informative features\n",
      "0.0 of 10.8 outputted powershap features are noise features\n",
      "====================================================================================================\n",
      "5000: \n",
      "20: \n",
      "[0. 0. 0. 0. 0.]s - [0. 0. 0. 0. 0.]s - [0. 0. 0. 0. 0.]s - [0. 0. 0. 0. 0.]s - [0. 0. 0. 0. 0.]s | [1, 1, 1, 1, 1] ([0, 0, 0, 0, 0]) / 1 | [1, 1, 1, 1, 1] ([0, 0, 0, 0, 0]) / 2 | [4, 3, 4, 6, 3] ([0, 0, 0, 0, 0]) / 6 | [5, 6, 5, 6, 7] ([0, 0, 0, 0, 0]) / 10 | [9, 11, 10, 12, 12] ([0, 0, 0, 0, 0]) / 18 | \n",
      "100: \n",
      "[0.01 0.01 0.01 0.01 0.01]s - [0.01 0.01 0.01 0.01 0.01]s - [0.01 0.01 0.01 0.01 0.01]s - [0.01 0.01 0.01 0.01 0.01]s - [0.01 0.01 0.01 0.01 0.01]s | [1, 2, 2, 1, 0] ([0, 0, 0, 0, 0]) / 3 | [5, 6, 5, 6, 7] ([0, 0, 0, 0, 0]) / 10 | [19, 22, 23, 19, 21] ([0, 0, 0, 0, 0]) / 33 | [28, 28, 24, 32, 28] ([0, 0, 0, 0, 0]) / 50 | [64, 65, 49, 60, 65] ([0, 0, 0, 0, 0]) / 90 | \n",
      "250: \n",
      "[0.01 0.01 0.01 0.01 0.01]s - [0.01 0.01 0.01 0.01 0.01]s - [0.01 0.01 0.01 0.01 0.01]s - [0.01 0.01 0.01 0.01 0.02]s - [0.01 0.01 0.01 0.01 0.01]s | [4, 5, 7, 5, 5] ([0, 0, 0, 0, 0]) / 7 | [13, 16, 14, 16, 14] ([0, 0, 0, 0, 0]) / 25 | [53, 51, 50, 50, 58] ([0, 0, 0, 0, 0]) / 82 | [91, 76, 81, 84, 79] ([0, 0, 0, 0, 0]) / 125 | [154, 154, 142, 137, 145] ([0, 0, 0, 0, 0]) / 225 | \n",
      "500: \n",
      "[0.03 0.03 0.03 0.03 0.03]s - [0.03 0.03 0.03 0.03 0.03]s - [0.03 0.03 0.03 0.03 0.03]s - [0.03 0.03 0.03 0.03 0.03]s - [0.03 0.03 0.03 0.03 0.03]s | [7, 10, 8, 9, 10] ([0, 0, 0, 0, 0]) / 15 | [28, 28, 24, 32, 28] ([0, 0, 0, 0, 0]) / 50 | [103, 104, 105, 113, 105] ([0, 0, 0, 0, 0]) / 165 | [171, 172, 163, 161, 159] ([0, 0, 0, 0, 0]) / 250 | [284, 296, 298, 282, 279] ([0, 0, 0, 0, 0]) / 450 | \n",
      "10000: \n",
      "20: \n",
      "[0.   0.01 0.   0.   0.  ]s - [0.   0.   0.   0.   0.01]s - [0.   0.   0.01 0.01 0.  ]s - [0. 0. 0. 0. 0.]s - [0. 0. 0. 0. 0.]s | [1, 1, 1, 1, 1] ([0, 0, 0, 0, 0]) / 1 | [1, 1, 1, 1, 1] ([0, 0, 0, 0, 0]) / 2 | [4, 3, 4, 6, 3] ([0, 0, 0, 0, 0]) / 6 | [5, 6, 5, 6, 7] ([0, 0, 0, 0, 0]) / 10 | [9, 11, 10, 12, 12] ([0, 0, 0, 0, 0]) / 18 | \n",
      "====================================================================================================\n",
      "Amount of samples = 10000\n",
      "Total used features = 100\n",
      "Informative features: 3 (3%)\n",
      "\n",
      "Seed 0\n",
      "--------------------------------------------------\n",
      "Seed 1\n",
      "--------------------------------------------------\n",
      "Seed 2\n",
      "--------------------------------------------------\n",
      "Seed 3\n",
      "--------------------------------------------------\n",
      "Seed 4\n",
      "--------------------------------------------------\n",
      "Average time: 0.01 seconds\n",
      "Found features: [1, 2, 2, 1, 0]\n",
      "Found 1.2 of 3 informative features\n",
      "0.0 of 1.2 outputted powershap features are noise features\n",
      "====================================================================================================\n",
      "Amount of samples = 10000\n",
      "Total used features = 100\n",
      "Informative features: 10 (10%)\n",
      "\n",
      "Seed 0\n",
      "--------------------------------------------------\n",
      "Seed 1\n",
      "--------------------------------------------------\n",
      "Seed 2\n",
      "--------------------------------------------------\n",
      "Seed 3\n",
      "--------------------------------------------------\n",
      "Seed 4\n",
      "--------------------------------------------------\n",
      "Average time: 0.01 seconds\n",
      "Found features: [5, 6, 5, 6, 7]\n",
      "Found 5.8 of 10 informative features\n",
      "0.0 of 5.8 outputted powershap features are noise features\n",
      "====================================================================================================\n",
      "Amount of samples = 10000\n",
      "Total used features = 100\n",
      "Informative features: 33 (33%)\n",
      "\n",
      "Seed 0\n",
      "--------------------------------------------------\n",
      "Seed 1\n",
      "--------------------------------------------------\n",
      "Seed 2\n",
      "--------------------------------------------------\n",
      "Seed 3\n",
      "--------------------------------------------------\n",
      "Seed 4\n",
      "--------------------------------------------------\n",
      "Average time: 0.01 seconds\n",
      "Found features: [19, 22, 23, 19, 21]\n",
      "Found 20.8 of 33 informative features\n",
      "0.0 of 20.8 outputted powershap features are noise features\n",
      "====================================================================================================\n",
      "Amount of samples = 10000\n",
      "Total used features = 100\n",
      "Informative features: 50 (50%)\n",
      "\n",
      "Seed 0\n",
      "--------------------------------------------------\n",
      "Seed 1\n",
      "--------------------------------------------------\n",
      "Seed 2\n",
      "--------------------------------------------------\n",
      "Seed 3\n",
      "--------------------------------------------------\n",
      "Seed 4\n",
      "--------------------------------------------------\n",
      "Average time: 0.01 seconds\n",
      "Found features: [28, 28, 24, 30, 28]\n",
      "Found 27.6 of 50 informative features\n",
      "0.0 of 27.6 outputted powershap features are noise features\n",
      "====================================================================================================\n",
      "Amount of samples = 10000\n",
      "Total used features = 100\n",
      "Informative features: 90 (90%)\n",
      "\n",
      "Seed 0\n",
      "--------------------------------------------------\n",
      "Seed 1\n",
      "--------------------------------------------------\n",
      "Seed 2\n",
      "--------------------------------------------------\n",
      "Seed 3\n",
      "--------------------------------------------------\n",
      "Seed 4\n",
      "--------------------------------------------------\n",
      "Average time: 0.01 seconds\n",
      "Found features: [62, 65, 49, 62, 65]\n",
      "Found 60.6 of 90 informative features\n",
      "0.0 of 60.6 outputted powershap features are noise features\n",
      "====================================================================================================\n",
      "5000: \n",
      "20: \n",
      "[0. 0. 0. 0. 0.]s - [0. 0. 0. 0. 0.]s - [0. 0. 0. 0. 0.]s - [0. 0. 0. 0. 0.]s - [0. 0. 0. 0. 0.]s | [1, 1, 1, 1, 1] ([0, 0, 0, 0, 0]) / 1 | [1, 1, 1, 1, 1] ([0, 0, 0, 0, 0]) / 2 | [4, 3, 4, 6, 3] ([0, 0, 0, 0, 0]) / 6 | [5, 6, 5, 6, 7] ([0, 0, 0, 0, 0]) / 10 | [9, 11, 10, 12, 12] ([0, 0, 0, 0, 0]) / 18 | \n",
      "100: \n",
      "[0.01 0.01 0.01 0.01 0.01]s - [0.01 0.01 0.01 0.01 0.01]s - [0.01 0.01 0.01 0.01 0.01]s - [0.01 0.01 0.01 0.01 0.01]s - [0.01 0.01 0.01 0.01 0.01]s | [1, 2, 2, 1, 0] ([0, 0, 0, 0, 0]) / 3 | [5, 6, 5, 6, 7] ([0, 0, 0, 0, 0]) / 10 | [19, 22, 23, 19, 21] ([0, 0, 0, 0, 0]) / 33 | [28, 28, 24, 32, 28] ([0, 0, 0, 0, 0]) / 50 | [64, 65, 49, 60, 65] ([0, 0, 0, 0, 0]) / 90 | \n",
      "250: \n",
      "[0.01 0.01 0.01 0.01 0.01]s - [0.01 0.01 0.01 0.01 0.01]s - [0.01 0.01 0.01 0.01 0.01]s - [0.01 0.01 0.01 0.01 0.02]s - [0.01 0.01 0.01 0.01 0.01]s | [4, 5, 7, 5, 5] ([0, 0, 0, 0, 0]) / 7 | [13, 16, 14, 16, 14] ([0, 0, 0, 0, 0]) / 25 | [53, 51, 50, 50, 58] ([0, 0, 0, 0, 0]) / 82 | [91, 76, 81, 84, 79] ([0, 0, 0, 0, 0]) / 125 | [154, 154, 142, 137, 145] ([0, 0, 0, 0, 0]) / 225 | \n",
      "500: \n",
      "[0.03 0.03 0.03 0.03 0.03]s - [0.03 0.03 0.03 0.03 0.03]s - [0.03 0.03 0.03 0.03 0.03]s - [0.03 0.03 0.03 0.03 0.03]s - [0.03 0.03 0.03 0.03 0.03]s | [7, 10, 8, 9, 10] ([0, 0, 0, 0, 0]) / 15 | [28, 28, 24, 32, 28] ([0, 0, 0, 0, 0]) / 50 | [103, 104, 105, 113, 105] ([0, 0, 0, 0, 0]) / 165 | [171, 172, 163, 161, 159] ([0, 0, 0, 0, 0]) / 250 | [284, 296, 298, 282, 279] ([0, 0, 0, 0, 0]) / 450 | \n",
      "10000: \n",
      "20: \n",
      "[0.   0.01 0.   0.   0.  ]s - [0.   0.   0.   0.   0.01]s - [0.   0.   0.01 0.01 0.  ]s - [0. 0. 0. 0. 0.]s - [0. 0. 0. 0. 0.]s | [1, 1, 1, 1, 1] ([0, 0, 0, 0, 0]) / 1 | [1, 1, 1, 1, 1] ([0, 0, 0, 0, 0]) / 2 | [4, 3, 4, 6, 3] ([0, 0, 0, 0, 0]) / 6 | [5, 6, 5, 6, 7] ([0, 0, 0, 0, 0]) / 10 | [9, 11, 10, 12, 12] ([0, 0, 0, 0, 0]) / 18 | \n",
      "100: \n",
      "[0.01 0.01 0.01 0.01 0.01]s - [0.01 0.01 0.01 0.01 0.01]s - [0.01 0.01 0.01 0.01 0.01]s - [0.01 0.01 0.01 0.01 0.02]s - [0.01 0.01 0.01 0.01 0.01]s | [1, 2, 2, 1, 0] ([0, 0, 0, 0, 0]) / 3 | [5, 6, 5, 6, 7] ([0, 0, 0, 0, 0]) / 10 | [19, 22, 23, 19, 21] ([0, 0, 0, 0, 0]) / 33 | [28, 28, 24, 30, 28] ([0, 0, 0, 0, 0]) / 50 | [62, 65, 49, 62, 65] ([0, 0, 0, 0, 0]) / 90 | \n",
      "====================================================================================================\n",
      "Amount of samples = 10000\n",
      "Total used features = 250\n",
      "Informative features: 7 (3%)\n",
      "\n",
      "Seed 0\n",
      "--------------------------------------------------\n",
      "Seed 1\n",
      "--------------------------------------------------\n",
      "Seed 2\n",
      "--------------------------------------------------\n",
      "Seed 3\n",
      "--------------------------------------------------\n",
      "Seed 4\n",
      "--------------------------------------------------\n",
      "Average time: 0.02 seconds\n",
      "Found features: [4, 5, 7, 5, 5]\n",
      "Found 5.2 of 7 informative features\n",
      "0.0 of 5.2 outputted powershap features are noise features\n",
      "====================================================================================================\n",
      "Amount of samples = 10000\n",
      "Total used features = 250\n",
      "Informative features: 25 (10%)\n",
      "\n",
      "Seed 0\n",
      "--------------------------------------------------\n",
      "Seed 1\n",
      "--------------------------------------------------\n",
      "Seed 2\n",
      "--------------------------------------------------\n",
      "Seed 3\n",
      "--------------------------------------------------\n",
      "Seed 4\n",
      "--------------------------------------------------\n",
      "Average time: 0.03 seconds\n",
      "Found features: [14, 16, 14, 16, 14]\n",
      "Found 14.8 of 25 informative features\n",
      "0.0 of 14.8 outputted powershap features are noise features\n",
      "====================================================================================================\n",
      "Amount of samples = 10000\n",
      "Total used features = 250\n",
      "Informative features: 82 (33%)\n",
      "\n",
      "Seed 0\n",
      "--------------------------------------------------\n",
      "Seed 1\n",
      "--------------------------------------------------\n",
      "Seed 2\n",
      "--------------------------------------------------\n",
      "Seed 3\n",
      "--------------------------------------------------\n",
      "Seed 4\n",
      "--------------------------------------------------\n",
      "Average time: 0.03 seconds\n",
      "Found features: [53, 51, 50, 50, 58]\n",
      "Found 52.4 of 82 informative features\n",
      "0.0 of 52.4 outputted powershap features are noise features\n",
      "====================================================================================================\n",
      "Amount of samples = 10000\n",
      "Total used features = 250\n",
      "Informative features: 125 (50%)\n",
      "\n",
      "Seed 0\n",
      "--------------------------------------------------\n",
      "Seed 1\n",
      "--------------------------------------------------\n",
      "Seed 2\n",
      "--------------------------------------------------\n",
      "Seed 3\n",
      "--------------------------------------------------\n",
      "Seed 4\n",
      "--------------------------------------------------\n",
      "Average time: 0.02 seconds\n",
      "Found features: [91, 77, 84, 84, 79]\n",
      "Found 83.0 of 125 informative features\n",
      "0.0 of 83.0 outputted powershap features are noise features\n",
      "====================================================================================================\n",
      "Amount of samples = 10000\n",
      "Total used features = 250\n",
      "Informative features: 225 (90%)\n",
      "\n",
      "Seed 0\n",
      "--------------------------------------------------\n",
      "Seed 1\n",
      "--------------------------------------------------\n",
      "Seed 2\n",
      "--------------------------------------------------\n",
      "Seed 3\n",
      "--------------------------------------------------\n",
      "Seed 4\n",
      "--------------------------------------------------\n",
      "Average time: 0.03 seconds\n",
      "Found features: [157, 157, 147, 137, 148]\n",
      "Found 149.2 of 225 informative features\n",
      "0.0 of 149.2 outputted powershap features are noise features\n",
      "====================================================================================================\n",
      "5000: \n",
      "20: \n",
      "[0. 0. 0. 0. 0.]s - [0. 0. 0. 0. 0.]s - [0. 0. 0. 0. 0.]s - [0. 0. 0. 0. 0.]s - [0. 0. 0. 0. 0.]s | [1, 1, 1, 1, 1] ([0, 0, 0, 0, 0]) / 1 | [1, 1, 1, 1, 1] ([0, 0, 0, 0, 0]) / 2 | [4, 3, 4, 6, 3] ([0, 0, 0, 0, 0]) / 6 | [5, 6, 5, 6, 7] ([0, 0, 0, 0, 0]) / 10 | [9, 11, 10, 12, 12] ([0, 0, 0, 0, 0]) / 18 | \n",
      "100: \n",
      "[0.01 0.01 0.01 0.01 0.01]s - [0.01 0.01 0.01 0.01 0.01]s - [0.01 0.01 0.01 0.01 0.01]s - [0.01 0.01 0.01 0.01 0.01]s - [0.01 0.01 0.01 0.01 0.01]s | [1, 2, 2, 1, 0] ([0, 0, 0, 0, 0]) / 3 | [5, 6, 5, 6, 7] ([0, 0, 0, 0, 0]) / 10 | [19, 22, 23, 19, 21] ([0, 0, 0, 0, 0]) / 33 | [28, 28, 24, 32, 28] ([0, 0, 0, 0, 0]) / 50 | [64, 65, 49, 60, 65] ([0, 0, 0, 0, 0]) / 90 | \n",
      "250: \n",
      "[0.01 0.01 0.01 0.01 0.01]s - [0.01 0.01 0.01 0.01 0.01]s - [0.01 0.01 0.01 0.01 0.01]s - [0.01 0.01 0.01 0.01 0.02]s - [0.01 0.01 0.01 0.01 0.01]s | [4, 5, 7, 5, 5] ([0, 0, 0, 0, 0]) / 7 | [13, 16, 14, 16, 14] ([0, 0, 0, 0, 0]) / 25 | [53, 51, 50, 50, 58] ([0, 0, 0, 0, 0]) / 82 | [91, 76, 81, 84, 79] ([0, 0, 0, 0, 0]) / 125 | [154, 154, 142, 137, 145] ([0, 0, 0, 0, 0]) / 225 | \n",
      "500: \n",
      "[0.03 0.03 0.03 0.03 0.03]s - [0.03 0.03 0.03 0.03 0.03]s - [0.03 0.03 0.03 0.03 0.03]s - [0.03 0.03 0.03 0.03 0.03]s - [0.03 0.03 0.03 0.03 0.03]s | [7, 10, 8, 9, 10] ([0, 0, 0, 0, 0]) / 15 | [28, 28, 24, 32, 28] ([0, 0, 0, 0, 0]) / 50 | [103, 104, 105, 113, 105] ([0, 0, 0, 0, 0]) / 165 | [171, 172, 163, 161, 159] ([0, 0, 0, 0, 0]) / 250 | [284, 296, 298, 282, 279] ([0, 0, 0, 0, 0]) / 450 | \n",
      "10000: \n",
      "20: \n",
      "[0.   0.01 0.   0.   0.  ]s - [0.   0.   0.   0.   0.01]s - [0.   0.   0.01 0.01 0.  ]s - [0. 0. 0. 0. 0.]s - [0. 0. 0. 0. 0.]s | [1, 1, 1, 1, 1] ([0, 0, 0, 0, 0]) / 1 | [1, 1, 1, 1, 1] ([0, 0, 0, 0, 0]) / 2 | [4, 3, 4, 6, 3] ([0, 0, 0, 0, 0]) / 6 | [5, 6, 5, 6, 7] ([0, 0, 0, 0, 0]) / 10 | [9, 11, 10, 12, 12] ([0, 0, 0, 0, 0]) / 18 | \n",
      "100: \n",
      "[0.01 0.01 0.01 0.01 0.01]s - [0.01 0.01 0.01 0.01 0.01]s - [0.01 0.01 0.01 0.01 0.01]s - [0.01 0.01 0.01 0.01 0.02]s - [0.01 0.01 0.01 0.01 0.01]s | [1, 2, 2, 1, 0] ([0, 0, 0, 0, 0]) / 3 | [5, 6, 5, 6, 7] ([0, 0, 0, 0, 0]) / 10 | [19, 22, 23, 19, 21] ([0, 0, 0, 0, 0]) / 33 | [28, 28, 24, 30, 28] ([0, 0, 0, 0, 0]) / 50 | [62, 65, 49, 62, 65] ([0, 0, 0, 0, 0]) / 90 | \n",
      "250: \n",
      "[0.02 0.03 0.02 0.03 0.02]s - [0.03 0.03 0.03 0.02 0.02]s - [0.03 0.03 0.03 0.03 0.02]s - [0.02 0.02 0.02 0.03 0.02]s - [0.02 0.03 0.03 0.02 0.02]s | [4, 5, 7, 5, 5] ([0, 0, 0, 0, 0]) / 7 | [14, 16, 14, 16, 14] ([0, 0, 0, 0, 0]) / 25 | [53, 51, 50, 50, 58] ([0, 0, 0, 0, 0]) / 82 | [91, 77, 84, 84, 79] ([0, 0, 0, 0, 0]) / 125 | [157, 157, 147, 137, 148] ([0, 0, 0, 0, 0]) / 225 | \n",
      "====================================================================================================\n",
      "Amount of samples = 10000\n",
      "Total used features = 500\n",
      "Informative features: 15 (3%)\n",
      "\n",
      "Seed 0\n",
      "--------------------------------------------------\n",
      "Seed 1\n",
      "--------------------------------------------------\n",
      "Seed 2\n",
      "--------------------------------------------------\n",
      "Seed 3\n",
      "--------------------------------------------------\n",
      "Seed 4\n",
      "--------------------------------------------------\n",
      "Average time: 0.05 seconds\n",
      "Found features: [7, 10, 8, 9, 10]\n",
      "Found 8.8 of 15 informative features\n",
      "0.0 of 8.8 outputted powershap features are noise features\n",
      "====================================================================================================\n",
      "Amount of samples = 10000\n",
      "Total used features = 500\n",
      "Informative features: 50 (10%)\n",
      "\n",
      "Seed 0\n",
      "--------------------------------------------------\n",
      "Seed 1\n",
      "--------------------------------------------------\n",
      "Seed 2\n",
      "--------------------------------------------------\n",
      "Seed 3\n",
      "--------------------------------------------------\n",
      "Seed 4\n",
      "--------------------------------------------------\n",
      "Average time: 0.06 seconds\n",
      "Found features: [28, 28, 24, 31, 28]\n",
      "Found 27.8 of 50 informative features\n",
      "0.0 of 27.8 outputted powershap features are noise features\n",
      "====================================================================================================\n",
      "Amount of samples = 10000\n",
      "Total used features = 500\n",
      "Informative features: 165 (33%)\n",
      "\n",
      "Seed 0\n",
      "--------------------------------------------------\n",
      "Seed 1\n",
      "--------------------------------------------------\n",
      "Seed 2\n",
      "--------------------------------------------------\n",
      "Seed 3\n",
      "--------------------------------------------------\n",
      "Seed 4\n",
      "--------------------------------------------------\n",
      "Average time: 0.05 seconds\n",
      "Found features: [103, 104, 106, 114, 100]\n",
      "Found 105.4 of 165 informative features\n",
      "0.0 of 105.4 outputted powershap features are noise features\n",
      "====================================================================================================\n",
      "Amount of samples = 10000\n",
      "Total used features = 500\n",
      "Informative features: 250 (50%)\n",
      "\n",
      "Seed 0\n",
      "--------------------------------------------------\n",
      "Seed 1\n",
      "--------------------------------------------------\n",
      "Seed 2\n",
      "--------------------------------------------------\n",
      "Seed 3\n",
      "--------------------------------------------------\n",
      "Seed 4\n",
      "--------------------------------------------------\n",
      "Average time: 0.06 seconds\n",
      "Found features: [179, 170, 172, 161, 159]\n",
      "Found 168.2 of 250 informative features\n",
      "0.0 of 168.2 outputted powershap features are noise features\n",
      "====================================================================================================\n",
      "Amount of samples = 10000\n",
      "Total used features = 500\n",
      "Informative features: 450 (90%)\n",
      "\n",
      "Seed 0\n",
      "--------------------------------------------------\n",
      "Seed 1\n",
      "--------------------------------------------------\n",
      "Seed 2\n",
      "--------------------------------------------------\n",
      "Seed 3\n",
      "--------------------------------------------------\n",
      "Seed 4\n",
      "--------------------------------------------------\n",
      "Average time: 0.06 seconds\n",
      "Found features: [311, 319, 313, 306, 280]\n",
      "Found 305.8 of 450 informative features\n",
      "0.0 of 305.8 outputted powershap features are noise features\n",
      "====================================================================================================\n",
      "5000: \n",
      "20: \n",
      "[0. 0. 0. 0. 0.]s - [0. 0. 0. 0. 0.]s - [0. 0. 0. 0. 0.]s - [0. 0. 0. 0. 0.]s - [0. 0. 0. 0. 0.]s | [1, 1, 1, 1, 1] ([0, 0, 0, 0, 0]) / 1 | [1, 1, 1, 1, 1] ([0, 0, 0, 0, 0]) / 2 | [4, 3, 4, 6, 3] ([0, 0, 0, 0, 0]) / 6 | [5, 6, 5, 6, 7] ([0, 0, 0, 0, 0]) / 10 | [9, 11, 10, 12, 12] ([0, 0, 0, 0, 0]) / 18 | \n",
      "100: \n",
      "[0.01 0.01 0.01 0.01 0.01]s - [0.01 0.01 0.01 0.01 0.01]s - [0.01 0.01 0.01 0.01 0.01]s - [0.01 0.01 0.01 0.01 0.01]s - [0.01 0.01 0.01 0.01 0.01]s | [1, 2, 2, 1, 0] ([0, 0, 0, 0, 0]) / 3 | [5, 6, 5, 6, 7] ([0, 0, 0, 0, 0]) / 10 | [19, 22, 23, 19, 21] ([0, 0, 0, 0, 0]) / 33 | [28, 28, 24, 32, 28] ([0, 0, 0, 0, 0]) / 50 | [64, 65, 49, 60, 65] ([0, 0, 0, 0, 0]) / 90 | \n",
      "250: \n",
      "[0.01 0.01 0.01 0.01 0.01]s - [0.01 0.01 0.01 0.01 0.01]s - [0.01 0.01 0.01 0.01 0.01]s - [0.01 0.01 0.01 0.01 0.02]s - [0.01 0.01 0.01 0.01 0.01]s | [4, 5, 7, 5, 5] ([0, 0, 0, 0, 0]) / 7 | [13, 16, 14, 16, 14] ([0, 0, 0, 0, 0]) / 25 | [53, 51, 50, 50, 58] ([0, 0, 0, 0, 0]) / 82 | [91, 76, 81, 84, 79] ([0, 0, 0, 0, 0]) / 125 | [154, 154, 142, 137, 145] ([0, 0, 0, 0, 0]) / 225 | \n",
      "500: \n",
      "[0.03 0.03 0.03 0.03 0.03]s - [0.03 0.03 0.03 0.03 0.03]s - [0.03 0.03 0.03 0.03 0.03]s - [0.03 0.03 0.03 0.03 0.03]s - [0.03 0.03 0.03 0.03 0.03]s | [7, 10, 8, 9, 10] ([0, 0, 0, 0, 0]) / 15 | [28, 28, 24, 32, 28] ([0, 0, 0, 0, 0]) / 50 | [103, 104, 105, 113, 105] ([0, 0, 0, 0, 0]) / 165 | [171, 172, 163, 161, 159] ([0, 0, 0, 0, 0]) / 250 | [284, 296, 298, 282, 279] ([0, 0, 0, 0, 0]) / 450 | \n",
      "10000: \n",
      "20: \n",
      "[0.   0.01 0.   0.   0.  ]s - [0.   0.   0.   0.   0.01]s - [0.   0.   0.01 0.01 0.  ]s - [0. 0. 0. 0. 0.]s - [0. 0. 0. 0. 0.]s | [1, 1, 1, 1, 1] ([0, 0, 0, 0, 0]) / 1 | [1, 1, 1, 1, 1] ([0, 0, 0, 0, 0]) / 2 | [4, 3, 4, 6, 3] ([0, 0, 0, 0, 0]) / 6 | [5, 6, 5, 6, 7] ([0, 0, 0, 0, 0]) / 10 | [9, 11, 10, 12, 12] ([0, 0, 0, 0, 0]) / 18 | \n",
      "100: \n",
      "[0.01 0.01 0.01 0.01 0.01]s - [0.01 0.01 0.01 0.01 0.01]s - [0.01 0.01 0.01 0.01 0.01]s - [0.01 0.01 0.01 0.01 0.02]s - [0.01 0.01 0.01 0.01 0.01]s | [1, 2, 2, 1, 0] ([0, 0, 0, 0, 0]) / 3 | [5, 6, 5, 6, 7] ([0, 0, 0, 0, 0]) / 10 | [19, 22, 23, 19, 21] ([0, 0, 0, 0, 0]) / 33 | [28, 28, 24, 30, 28] ([0, 0, 0, 0, 0]) / 50 | [62, 65, 49, 62, 65] ([0, 0, 0, 0, 0]) / 90 | \n",
      "250: \n",
      "[0.02 0.03 0.02 0.03 0.02]s - [0.03 0.03 0.03 0.02 0.02]s - [0.03 0.03 0.03 0.03 0.02]s - [0.02 0.02 0.02 0.03 0.02]s - [0.02 0.03 0.03 0.02 0.02]s | [4, 5, 7, 5, 5] ([0, 0, 0, 0, 0]) / 7 | [14, 16, 14, 16, 14] ([0, 0, 0, 0, 0]) / 25 | [53, 51, 50, 50, 58] ([0, 0, 0, 0, 0]) / 82 | [91, 77, 84, 84, 79] ([0, 0, 0, 0, 0]) / 125 | [157, 157, 147, 137, 148] ([0, 0, 0, 0, 0]) / 225 | \n",
      "500: \n",
      "[0.05 0.06 0.06 0.05 0.05]s - [0.06 0.05 0.05 0.06 0.06]s - [0.06 0.05 0.05 0.05 0.06]s - [0.06 0.05 0.06 0.06 0.06]s - [0.07 0.06 0.06 0.06 0.06]s | [7, 10, 8, 9, 10] ([0, 0, 0, 0, 0]) / 15 | [28, 28, 24, 31, 28] ([0, 0, 0, 0, 0]) / 50 | [103, 104, 106, 114, 100] ([0, 0, 0, 0, 0]) / 165 | [179, 170, 172, 161, 159] ([0, 0, 0, 0, 0]) / 250 | [311, 319, 313, 306, 280] ([0, 0, 0, 0, 0]) / 450 | \n",
      "====================================================================================================\n"
     ]
    }
   ],
   "source": [
    "from sklearn.feature_selection import chi2\n",
    "\n",
    "for hypercube in [True]:\n",
    "    output_dict = {}\n",
    "    for n_samples in [5000, 10000]:\n",
    "        output_dict[str(n_samples)]={}\n",
    "        for n_features in [20,100,250,500]:\n",
    "            output_dict[str(n_samples)][str(n_features)]={}\n",
    "            \n",
    "            average_times = []\n",
    "            output_dict[str(n_samples)][str(n_features)][\"Average time\"]=average_times\n",
    "            for n_informative in [3,10,33,50,90]:\n",
    "                output_dict[str(n_samples)][str(n_features)][str(n_informative)+\"%\"]={}\n",
    "                print(\"Amount of samples = \"+str(n_samples))\n",
    "                print(\"Total used features = \"+str(n_features))\n",
    "                n_inform = int(n_informative/100*n_features)\n",
    "                if n_inform < 1:\n",
    "                    n_inform = 1\n",
    "                print(\"Informative features: \"+str(n_inform)+\" (\"+str(n_informative)+\"%)\")\n",
    "                print(\"\")\n",
    "                \n",
    "                found_features = []\n",
    "                found_idx_features = []\n",
    "                times = []\n",
    "                for random_seed in [0,1,2,3,4]:\n",
    "                    print(\"Seed \"+str(random_seed))\n",
    "                    \n",
    "                    if n_inform == 1:\n",
    "                        X, y = make_classification(n_samples=n_samples, n_classes=2, n_features=n_features, hypercube=hypercube, n_informative=1, n_redundant=0, n_repeated = 0,shuffle=False,random_state=random_seed, n_clusters_per_class=1)\n",
    "                    else:\n",
    "                        X, y = make_classification(n_samples=n_samples, n_classes=2, n_features=n_features, hypercube=hypercube, n_informative=n_inform, n_redundant=0, n_repeated = 0,shuffle=False,random_state=random_seed)                        \n",
    "                    \n",
    "                    X = pd.DataFrame(data=X, columns=[f\"col_{i}\" for i in range(n_features)])\n",
    "    \n",
    "                    start_time = time.time()\n",
    "\n",
    "                    X = X+np.abs(X.min())\n",
    "                    selected_features = list(X.columns.values[np.where(chi2(X,y)[1]<0.01)[0]])\n",
    "                    \n",
    "                    times.append(time.time() - start_time)\n",
    "\n",
    "                    print(50*\"-\")\n",
    "                    \n",
    "                    found_features.append(len(selected_features))\n",
    "                    found_idx_features.append(selected_features)\n",
    "                    \n",
    "                found_informative_features = [np.sum(np.isin(X.columns.values[:n_inform],f_list)) for f_list in found_idx_features]\n",
    "                found_noise_features = [np.sum(1-np.isin(f_list,X.columns.values[:n_inform])) for f_list in found_idx_features]\n",
    "                print(\"Average time: \"+str(np.round(np.mean(times),2))+\" seconds\")\n",
    "                print(\"Found features: \"+str(found_features))#len(processed_shaps_df[processed_shaps_df.p_value<0.01])))\n",
    "                print(\"Found \"+str(np.mean(found_informative_features))+\" of \"+str(n_inform)+\" informative features\")\n",
    "                print(str(np.mean(found_noise_features))+\" of \"+str(np.mean(found_features))+\" outputted powershap features are noise features\")\n",
    "                \n",
    "                average_times.append(np.round(times,2))\n",
    "                \n",
    "                output_dict[str(n_samples)][str(n_features)][str(n_informative)+\"%\"][\"informative_features\"]=n_inform\n",
    "                output_dict[str(n_samples)][str(n_features)][str(n_informative)+\"%\"][\"found_informative_features\"]=found_informative_features\n",
    "                output_dict[str(n_samples)][str(n_features)][str(n_informative)+\"%\"][\"outputted_noise_features\"]=found_noise_features\n",
    "                \n",
    "                print(100*\"=\")\n",
    "                \n",
    "            output_dict[str(n_samples)][str(n_features)][\"Average time\"]=average_times\n",
    "            benchmark_dict_print(output_dict)\n",
    "            print(100*\"=\")\n",
    "        \n",
    "    if not hypercube:\n",
    "        output_dict_to_df(output_dict).to_csv(f\"../results/{sub}/make_classi_chi_squared_output_df.csv\",index=False)\n",
    "    else:\n",
    "        output_dict_to_df(output_dict).to_csv(f\"../results/{sub}/make_classi_chi_squared_output_df_hypercube.csv\",index=False)"
   ]
  },
  {
   "cell_type": "markdown",
   "id": "acd65b92-9f90-429e-86c5-95d916786905",
   "metadata": {},
   "source": [
    "# F Test"
   ]
  },
  {
   "cell_type": "code",
   "execution_count": 18,
   "id": "a09eceb6-e84a-48a3-8282-d5a4e8e1fb9c",
   "metadata": {},
   "outputs": [
    {
     "name": "stdout",
     "output_type": "stream",
     "text": [
      "Amount of samples = 5000\n",
      "Total used features = 20\n",
      "Informative features: 1 (3%)\n",
      "\n",
      "Seed 0\n",
      "--------------------------------------------------\n",
      "Seed 1\n",
      "--------------------------------------------------\n",
      "Seed 2\n",
      "--------------------------------------------------\n",
      "Seed 3\n",
      "--------------------------------------------------\n",
      "Seed 4\n",
      "--------------------------------------------------\n",
      "Average time: 0.0 seconds\n",
      "Found features: [1, 2, 1, 1, 3]\n",
      "Found 1.0 of 1 informative features\n",
      "0.6 of 1.6 outputted powershap features are noise features\n",
      "====================================================================================================\n",
      "Amount of samples = 5000\n",
      "Total used features = 20\n",
      "Informative features: 2 (10%)\n",
      "\n",
      "Seed 0\n",
      "--------------------------------------------------\n",
      "Seed 1\n",
      "--------------------------------------------------\n",
      "Seed 2\n",
      "--------------------------------------------------\n",
      "Seed 3\n",
      "--------------------------------------------------\n",
      "Seed 4\n",
      "--------------------------------------------------\n",
      "Average time: 0.0 seconds\n",
      "Found features: [1, 2, 1, 1, 1]\n",
      "Found 1.0 of 2 informative features\n",
      "0.2 of 1.2 outputted powershap features are noise features\n",
      "====================================================================================================\n",
      "Amount of samples = 5000\n",
      "Total used features = 20\n",
      "Informative features: 6 (33%)\n",
      "\n",
      "Seed 0\n",
      "--------------------------------------------------\n",
      "Seed 1\n",
      "--------------------------------------------------\n",
      "Seed 2\n",
      "--------------------------------------------------\n",
      "Seed 3\n",
      "--------------------------------------------------\n",
      "Seed 4\n",
      "--------------------------------------------------\n",
      "Average time: 0.0 seconds\n",
      "Found features: [4, 3, 4, 6, 3]\n",
      "Found 4.0 of 6 informative features\n",
      "0.0 of 4.0 outputted powershap features are noise features\n",
      "====================================================================================================\n",
      "Amount of samples = 5000\n",
      "Total used features = 20\n",
      "Informative features: 10 (50%)\n",
      "\n",
      "Seed 0\n",
      "--------------------------------------------------\n",
      "Seed 1\n",
      "--------------------------------------------------\n",
      "Seed 2\n",
      "--------------------------------------------------\n",
      "Seed 3\n",
      "--------------------------------------------------\n",
      "Seed 4\n",
      "--------------------------------------------------\n",
      "Average time: 0.0 seconds\n",
      "Found features: [5, 6, 5, 6, 7]\n",
      "Found 5.8 of 10 informative features\n",
      "0.0 of 5.8 outputted powershap features are noise features\n",
      "====================================================================================================\n",
      "Amount of samples = 5000\n",
      "Total used features = 20\n",
      "Informative features: 18 (90%)\n",
      "\n",
      "Seed 0\n",
      "--------------------------------------------------\n",
      "Seed 1\n",
      "--------------------------------------------------\n",
      "Seed 2\n",
      "--------------------------------------------------\n",
      "Seed 3\n",
      "--------------------------------------------------\n",
      "Seed 4\n",
      "--------------------------------------------------\n",
      "Average time: 0.0 seconds\n",
      "Found features: [9, 11, 10, 12, 12]\n",
      "Found 10.8 of 18 informative features\n",
      "0.0 of 10.8 outputted powershap features are noise features\n",
      "====================================================================================================\n",
      "5000: \n",
      "20: \n",
      "[0. 0. 0. 0. 0.]s - [0. 0. 0. 0. 0.]s - [0. 0. 0. 0. 0.]s - [0. 0. 0. 0. 0.]s - [0. 0. 0. 0. 0.]s | [1, 1, 1, 1, 1] ([0, 1, 0, 0, 2]) / 1 | [1, 1, 1, 1, 1] ([0, 1, 0, 0, 0]) / 2 | [4, 3, 4, 6, 3] ([0, 0, 0, 0, 0]) / 6 | [5, 6, 5, 6, 7] ([0, 0, 0, 0, 0]) / 10 | [9, 11, 10, 12, 12] ([0, 0, 0, 0, 0]) / 18 | \n",
      "====================================================================================================\n",
      "Amount of samples = 5000\n",
      "Total used features = 100\n",
      "Informative features: 3 (3%)\n",
      "\n",
      "Seed 0\n",
      "--------------------------------------------------\n",
      "Seed 1\n",
      "--------------------------------------------------\n",
      "Seed 2\n",
      "--------------------------------------------------\n",
      "Seed 3\n",
      "--------------------------------------------------\n",
      "Seed 4\n",
      "--------------------------------------------------\n",
      "Average time: 0.01 seconds\n",
      "Found features: [2, 3, 3, 2, 2]\n",
      "Found 1.2 of 3 informative features\n",
      "1.2 of 2.4 outputted powershap features are noise features\n",
      "====================================================================================================\n",
      "Amount of samples = 5000\n",
      "Total used features = 100\n",
      "Informative features: 10 (10%)\n",
      "\n",
      "Seed 0\n",
      "--------------------------------------------------\n",
      "Seed 1\n",
      "--------------------------------------------------\n",
      "Seed 2\n",
      "--------------------------------------------------\n",
      "Seed 3\n",
      "--------------------------------------------------\n",
      "Seed 4\n",
      "--------------------------------------------------\n",
      "Average time: 0.01 seconds\n",
      "Found features: [6, 6, 5, 7, 8]\n",
      "Found 5.8 of 10 informative features\n",
      "0.6 of 6.4 outputted powershap features are noise features\n",
      "====================================================================================================\n",
      "Amount of samples = 5000\n",
      "Total used features = 100\n",
      "Informative features: 33 (33%)\n",
      "\n",
      "Seed 0\n",
      "--------------------------------------------------\n",
      "Seed 1\n",
      "--------------------------------------------------\n",
      "Seed 2\n",
      "--------------------------------------------------\n",
      "Seed 3\n",
      "--------------------------------------------------\n",
      "Seed 4\n",
      "--------------------------------------------------\n",
      "Average time: 0.01 seconds\n",
      "Found features: [20, 24, 24, 19, 22]\n",
      "Found 20.8 of 33 informative features\n",
      "1.0 of 21.8 outputted powershap features are noise features\n",
      "====================================================================================================\n",
      "Amount of samples = 5000\n",
      "Total used features = 100\n",
      "Informative features: 50 (50%)\n",
      "\n",
      "Seed 0\n",
      "--------------------------------------------------\n",
      "Seed 1\n",
      "--------------------------------------------------\n",
      "Seed 2\n",
      "--------------------------------------------------\n",
      "Seed 3\n",
      "--------------------------------------------------\n",
      "Seed 4\n",
      "--------------------------------------------------\n",
      "Average time: 0.01 seconds\n",
      "Found features: [28, 28, 25, 32, 29]\n",
      "Found 28.0 of 50 informative features\n",
      "0.4 of 28.4 outputted powershap features are noise features\n",
      "====================================================================================================\n",
      "Amount of samples = 5000\n",
      "Total used features = 100\n",
      "Informative features: 90 (90%)\n",
      "\n",
      "Seed 0\n",
      "--------------------------------------------------\n",
      "Seed 1\n",
      "--------------------------------------------------\n",
      "Seed 2\n",
      "--------------------------------------------------\n",
      "Seed 3\n",
      "--------------------------------------------------\n",
      "Seed 4\n",
      "--------------------------------------------------\n",
      "Average time: 0.01 seconds\n",
      "Found features: [63, 65, 49, 60, 65]\n",
      "Found 60.4 of 90 informative features\n",
      "0.0 of 60.4 outputted powershap features are noise features\n",
      "====================================================================================================\n",
      "5000: \n",
      "20: \n",
      "[0. 0. 0. 0. 0.]s - [0. 0. 0. 0. 0.]s - [0. 0. 0. 0. 0.]s - [0. 0. 0. 0. 0.]s - [0. 0. 0. 0. 0.]s | [1, 1, 1, 1, 1] ([0, 1, 0, 0, 2]) / 1 | [1, 1, 1, 1, 1] ([0, 1, 0, 0, 0]) / 2 | [4, 3, 4, 6, 3] ([0, 0, 0, 0, 0]) / 6 | [5, 6, 5, 6, 7] ([0, 0, 0, 0, 0]) / 10 | [9, 11, 10, 12, 12] ([0, 0, 0, 0, 0]) / 18 | \n",
      "100: \n",
      "[0.01 0.01 0.01 0.01 0.01]s - [0.01 0.01 0.01 0.01 0.01]s - [0.01 0.01 0.01 0.01 0.01]s - [0.01 0.01 0.01 0.01 0.01]s - [0.01 0.01 0.01 0.01 0.01]s | [1, 2, 2, 1, 0] ([1, 1, 1, 1, 2]) / 3 | [5, 6, 5, 6, 7] ([1, 0, 0, 1, 1]) / 10 | [19, 22, 23, 19, 21] ([1, 2, 1, 0, 1]) / 33 | [28, 28, 24, 32, 28] ([0, 0, 1, 0, 1]) / 50 | [63, 65, 49, 60, 65] ([0, 0, 0, 0, 0]) / 90 | \n",
      "====================================================================================================\n",
      "Amount of samples = 5000\n",
      "Total used features = 250\n",
      "Informative features: 7 (3%)\n",
      "\n",
      "Seed 0\n",
      "--------------------------------------------------\n",
      "Seed 1\n",
      "--------------------------------------------------\n",
      "Seed 2\n",
      "--------------------------------------------------\n",
      "Seed 3\n",
      "--------------------------------------------------\n",
      "Seed 4\n",
      "--------------------------------------------------\n",
      "Average time: 0.01 seconds\n",
      "Found features: [6, 10, 10, 7, 6]\n",
      "Found 5.2 of 7 informative features\n",
      "2.6 of 7.8 outputted powershap features are noise features\n",
      "====================================================================================================\n",
      "Amount of samples = 5000\n",
      "Total used features = 250\n",
      "Informative features: 25 (10%)\n",
      "\n",
      "Seed 0\n",
      "--------------------------------------------------\n",
      "Seed 1\n",
      "--------------------------------------------------\n",
      "Seed 2\n",
      "--------------------------------------------------\n",
      "Seed 3\n",
      "--------------------------------------------------\n",
      "Seed 4\n",
      "--------------------------------------------------\n",
      "Average time: 0.01 seconds\n",
      "Found features: [14, 17, 15, 16, 17]\n",
      "Found 14.8 of 25 informative features\n",
      "1.0 of 15.8 outputted powershap features are noise features\n",
      "====================================================================================================\n",
      "Amount of samples = 5000\n",
      "Total used features = 250\n",
      "Informative features: 82 (33%)\n",
      "\n",
      "Seed 0\n",
      "--------------------------------------------------\n",
      "Seed 1\n",
      "--------------------------------------------------\n",
      "Seed 2\n",
      "--------------------------------------------------\n",
      "Seed 3\n",
      "--------------------------------------------------\n",
      "Seed 4\n",
      "--------------------------------------------------\n",
      "Average time: 0.01 seconds\n",
      "Found features: [53, 51, 51, 52, 60]\n",
      "Found 51.6 of 82 informative features\n",
      "1.8 of 53.4 outputted powershap features are noise features\n",
      "====================================================================================================\n",
      "Amount of samples = 5000\n",
      "Total used features = 250\n",
      "Informative features: 125 (50%)\n",
      "\n",
      "Seed 0\n",
      "--------------------------------------------------\n",
      "Seed 1\n",
      "--------------------------------------------------\n",
      "Seed 2\n",
      "--------------------------------------------------\n",
      "Seed 3\n",
      "--------------------------------------------------\n",
      "Seed 4\n",
      "--------------------------------------------------\n",
      "Average time: 0.01 seconds\n",
      "Found features: [91, 75, 81, 85, 78]\n",
      "Found 81.0 of 125 informative features\n",
      "1.0 of 82.0 outputted powershap features are noise features\n",
      "====================================================================================================\n",
      "Amount of samples = 5000\n",
      "Total used features = 250\n",
      "Informative features: 225 (90%)\n",
      "\n",
      "Seed 0\n",
      "--------------------------------------------------\n",
      "Seed 1\n",
      "--------------------------------------------------\n",
      "Seed 2\n",
      "--------------------------------------------------\n",
      "Seed 3\n",
      "--------------------------------------------------\n",
      "Seed 4\n",
      "--------------------------------------------------\n",
      "Average time: 0.01 seconds\n",
      "Found features: [143, 145, 128, 121, 133]\n",
      "Found 133.4 of 225 informative features\n",
      "0.6 of 134.0 outputted powershap features are noise features\n",
      "====================================================================================================\n",
      "5000: \n",
      "20: \n",
      "[0. 0. 0. 0. 0.]s - [0. 0. 0. 0. 0.]s - [0. 0. 0. 0. 0.]s - [0. 0. 0. 0. 0.]s - [0. 0. 0. 0. 0.]s | [1, 1, 1, 1, 1] ([0, 1, 0, 0, 2]) / 1 | [1, 1, 1, 1, 1] ([0, 1, 0, 0, 0]) / 2 | [4, 3, 4, 6, 3] ([0, 0, 0, 0, 0]) / 6 | [5, 6, 5, 6, 7] ([0, 0, 0, 0, 0]) / 10 | [9, 11, 10, 12, 12] ([0, 0, 0, 0, 0]) / 18 | \n",
      "100: \n",
      "[0.01 0.01 0.01 0.01 0.01]s - [0.01 0.01 0.01 0.01 0.01]s - [0.01 0.01 0.01 0.01 0.01]s - [0.01 0.01 0.01 0.01 0.01]s - [0.01 0.01 0.01 0.01 0.01]s | [1, 2, 2, 1, 0] ([1, 1, 1, 1, 2]) / 3 | [5, 6, 5, 6, 7] ([1, 0, 0, 1, 1]) / 10 | [19, 22, 23, 19, 21] ([1, 2, 1, 0, 1]) / 33 | [28, 28, 24, 32, 28] ([0, 0, 1, 0, 1]) / 50 | [63, 65, 49, 60, 65] ([0, 0, 0, 0, 0]) / 90 | \n",
      "250: \n",
      "[0.01 0.01 0.01 0.01 0.01]s - [0.02 0.01 0.02 0.01 0.01]s - [0.01 0.01 0.01 0.01 0.01]s - [0.01 0.01 0.01 0.02 0.01]s - [0.01 0.01 0.02 0.01 0.01]s | [4, 5, 7, 5, 5] ([2, 5, 3, 2, 1]) / 7 | [13, 16, 14, 16, 15] ([1, 1, 1, 0, 2]) / 25 | [52, 50, 49, 50, 57] ([1, 1, 2, 2, 3]) / 82 | [91, 74, 80, 83, 77] ([0, 1, 1, 2, 1]) / 125 | [143, 144, 127, 120, 133] ([0, 1, 1, 1, 0]) / 225 | \n",
      "====================================================================================================\n",
      "Amount of samples = 5000\n",
      "Total used features = 500\n",
      "Informative features: 15 (3%)\n",
      "\n",
      "Seed 0\n",
      "--------------------------------------------------\n",
      "Seed 1\n",
      "--------------------------------------------------\n",
      "Seed 2\n",
      "--------------------------------------------------\n",
      "Seed 3\n",
      "--------------------------------------------------\n",
      "Seed 4\n",
      "--------------------------------------------------\n",
      "Average time: 0.03 seconds\n",
      "Found features: [15, 13, 11, 12, 18]\n",
      "Found 8.8 of 15 informative features\n",
      "5.0 of 13.8 outputted powershap features are noise features\n",
      "====================================================================================================\n",
      "Amount of samples = 5000\n",
      "Total used features = 500\n",
      "Informative features: 50 (10%)\n",
      "\n",
      "Seed 0\n",
      "--------------------------------------------------\n",
      "Seed 1\n",
      "--------------------------------------------------\n",
      "Seed 2\n",
      "--------------------------------------------------\n",
      "Seed 3\n",
      "--------------------------------------------------\n",
      "Seed 4\n",
      "--------------------------------------------------\n",
      "Average time: 0.03 seconds\n",
      "Found features: [29, 32, 28, 34, 29]\n",
      "Found 27.6 of 50 informative features\n",
      "2.8 of 30.4 outputted powershap features are noise features\n",
      "====================================================================================================\n",
      "Amount of samples = 5000\n",
      "Total used features = 500\n",
      "Informative features: 165 (33%)\n",
      "\n",
      "Seed 0\n",
      "--------------------------------------------------\n",
      "Seed 1\n",
      "--------------------------------------------------\n",
      "Seed 2\n",
      "--------------------------------------------------\n",
      "Seed 3\n",
      "--------------------------------------------------\n",
      "Seed 4\n",
      "--------------------------------------------------\n",
      "Average time: 0.03 seconds\n",
      "Found features: [103, 108, 100, 110, 97]\n",
      "Found 100.4 of 165 informative features\n",
      "3.2 of 103.6 outputted powershap features are noise features\n",
      "====================================================================================================\n",
      "Amount of samples = 5000\n",
      "Total used features = 500\n",
      "Informative features: 250 (50%)\n",
      "\n",
      "Seed 0\n",
      "--------------------------------------------------\n",
      "Seed 1\n",
      "--------------------------------------------------\n",
      "Seed 2\n",
      "--------------------------------------------------\n",
      "Seed 3\n",
      "--------------------------------------------------\n",
      "Seed 4\n",
      "--------------------------------------------------\n",
      "Average time: 0.03 seconds\n",
      "Found features: [160, 157, 153, 137, 140]\n",
      "Found 147.4 of 250 informative features\n",
      "2.0 of 149.4 outputted powershap features are noise features\n",
      "====================================================================================================\n",
      "Amount of samples = 5000\n",
      "Total used features = 500\n",
      "Informative features: 450 (90%)\n",
      "\n",
      "Seed 0\n",
      "--------------------------------------------------\n",
      "Seed 1\n",
      "--------------------------------------------------\n",
      "Seed 2\n",
      "--------------------------------------------------\n",
      "Seed 3\n",
      "--------------------------------------------------\n",
      "Seed 4\n",
      "--------------------------------------------------\n",
      "Average time: 0.03 seconds\n",
      "Found features: [201, 204, 201, 202, 194]\n",
      "Found 199.6 of 450 informative features\n",
      "0.8 of 200.4 outputted powershap features are noise features\n",
      "====================================================================================================\n",
      "5000: \n",
      "20: \n",
      "[0. 0. 0. 0. 0.]s - [0. 0. 0. 0. 0.]s - [0. 0. 0. 0. 0.]s - [0. 0. 0. 0. 0.]s - [0. 0. 0. 0. 0.]s | [1, 1, 1, 1, 1] ([0, 1, 0, 0, 2]) / 1 | [1, 1, 1, 1, 1] ([0, 1, 0, 0, 0]) / 2 | [4, 3, 4, 6, 3] ([0, 0, 0, 0, 0]) / 6 | [5, 6, 5, 6, 7] ([0, 0, 0, 0, 0]) / 10 | [9, 11, 10, 12, 12] ([0, 0, 0, 0, 0]) / 18 | \n",
      "100: \n",
      "[0.01 0.01 0.01 0.01 0.01]s - [0.01 0.01 0.01 0.01 0.01]s - [0.01 0.01 0.01 0.01 0.01]s - [0.01 0.01 0.01 0.01 0.01]s - [0.01 0.01 0.01 0.01 0.01]s | [1, 2, 2, 1, 0] ([1, 1, 1, 1, 2]) / 3 | [5, 6, 5, 6, 7] ([1, 0, 0, 1, 1]) / 10 | [19, 22, 23, 19, 21] ([1, 2, 1, 0, 1]) / 33 | [28, 28, 24, 32, 28] ([0, 0, 1, 0, 1]) / 50 | [63, 65, 49, 60, 65] ([0, 0, 0, 0, 0]) / 90 | \n",
      "250: \n",
      "[0.01 0.01 0.01 0.01 0.01]s - [0.02 0.01 0.02 0.01 0.01]s - [0.01 0.01 0.01 0.01 0.01]s - [0.01 0.01 0.01 0.02 0.01]s - [0.01 0.01 0.02 0.01 0.01]s | [4, 5, 7, 5, 5] ([2, 5, 3, 2, 1]) / 7 | [13, 16, 14, 16, 15] ([1, 1, 1, 0, 2]) / 25 | [52, 50, 49, 50, 57] ([1, 1, 2, 2, 3]) / 82 | [91, 74, 80, 83, 77] ([0, 1, 1, 2, 1]) / 125 | [143, 144, 127, 120, 133] ([0, 1, 1, 1, 0]) / 225 | \n",
      "500: \n",
      "[0.03 0.03 0.03 0.03 0.03]s - [0.03 0.03 0.03 0.02 0.02]s - [0.02 0.03 0.03 0.02 0.03]s - [0.03 0.03 0.03 0.03 0.03]s - [0.03 0.03 0.03 0.03 0.05]s | [7, 10, 8, 9, 10] ([8, 3, 3, 3, 8]) / 15 | [28, 28, 24, 30, 28] ([1, 4, 4, 4, 1]) / 50 | [101, 103, 96, 106, 96] ([2, 5, 4, 4, 1]) / 165 | [156, 156, 152, 134, 139] ([4, 1, 1, 3, 1]) / 250 | [199, 203, 201, 202, 193] ([2, 1, 0, 0, 1]) / 450 | \n",
      "====================================================================================================\n",
      "Amount of samples = 10000\n",
      "Total used features = 20\n",
      "Informative features: 1 (3%)\n",
      "\n",
      "Seed 0\n",
      "--------------------------------------------------\n",
      "Seed 1\n",
      "--------------------------------------------------\n",
      "Seed 2\n",
      "--------------------------------------------------\n",
      "Seed 3\n",
      "--------------------------------------------------\n",
      "Seed 4\n",
      "--------------------------------------------------\n",
      "Average time: 0.0 seconds\n",
      "Found features: [1, 1, 1, 1, 1]\n",
      "Found 1.0 of 1 informative features\n",
      "0.0 of 1.0 outputted powershap features are noise features\n",
      "====================================================================================================\n",
      "Amount of samples = 10000\n",
      "Total used features = 20\n",
      "Informative features: 2 (10%)\n",
      "\n",
      "Seed 0\n",
      "--------------------------------------------------\n",
      "Seed 1\n",
      "--------------------------------------------------\n",
      "Seed 2\n",
      "--------------------------------------------------\n",
      "Seed 3\n",
      "--------------------------------------------------\n",
      "Seed 4\n",
      "--------------------------------------------------\n",
      "Average time: 0.0 seconds\n",
      "Found features: [1, 1, 1, 1, 1]\n",
      "Found 1.0 of 2 informative features\n",
      "0.0 of 1.0 outputted powershap features are noise features\n",
      "====================================================================================================\n",
      "Amount of samples = 10000\n",
      "Total used features = 20\n",
      "Informative features: 6 (33%)\n",
      "\n",
      "Seed 0\n",
      "--------------------------------------------------\n",
      "Seed 1\n",
      "--------------------------------------------------\n",
      "Seed 2\n",
      "--------------------------------------------------\n",
      "Seed 3\n",
      "--------------------------------------------------\n",
      "Seed 4\n",
      "--------------------------------------------------\n",
      "Average time: 0.0 seconds\n",
      "Found features: [4, 3, 4, 6, 3]\n",
      "Found 4.0 of 6 informative features\n",
      "0.0 of 4.0 outputted powershap features are noise features\n",
      "====================================================================================================\n",
      "Amount of samples = 10000\n",
      "Total used features = 20\n",
      "Informative features: 10 (50%)\n",
      "\n",
      "Seed 0\n",
      "--------------------------------------------------\n",
      "Seed 1\n",
      "--------------------------------------------------\n",
      "Seed 2\n",
      "--------------------------------------------------\n",
      "Seed 3\n",
      "--------------------------------------------------\n",
      "Seed 4\n",
      "--------------------------------------------------\n",
      "Average time: 0.0 seconds\n",
      "Found features: [5, 6, 5, 6, 7]\n",
      "Found 5.8 of 10 informative features\n",
      "0.0 of 5.8 outputted powershap features are noise features\n",
      "====================================================================================================\n",
      "Amount of samples = 10000\n",
      "Total used features = 20\n",
      "Informative features: 18 (90%)\n",
      "\n",
      "Seed 0\n",
      "--------------------------------------------------\n",
      "Seed 1\n",
      "--------------------------------------------------\n",
      "Seed 2\n",
      "--------------------------------------------------\n",
      "Seed 3\n",
      "--------------------------------------------------\n",
      "Seed 4\n",
      "--------------------------------------------------\n",
      "Average time: 0.0 seconds\n",
      "Found features: [9, 11, 10, 12, 12]\n",
      "Found 10.8 of 18 informative features\n",
      "0.0 of 10.8 outputted powershap features are noise features\n",
      "====================================================================================================\n",
      "5000: \n",
      "20: \n",
      "[0. 0. 0. 0. 0.]s - [0. 0. 0. 0. 0.]s - [0. 0. 0. 0. 0.]s - [0. 0. 0. 0. 0.]s - [0. 0. 0. 0. 0.]s | [1, 1, 1, 1, 1] ([0, 1, 0, 0, 2]) / 1 | [1, 1, 1, 1, 1] ([0, 1, 0, 0, 0]) / 2 | [4, 3, 4, 6, 3] ([0, 0, 0, 0, 0]) / 6 | [5, 6, 5, 6, 7] ([0, 0, 0, 0, 0]) / 10 | [9, 11, 10, 12, 12] ([0, 0, 0, 0, 0]) / 18 | \n",
      "100: \n",
      "[0.01 0.01 0.01 0.01 0.01]s - [0.01 0.01 0.01 0.01 0.01]s - [0.01 0.01 0.01 0.01 0.01]s - [0.01 0.01 0.01 0.01 0.01]s - [0.01 0.01 0.01 0.01 0.01]s | [1, 2, 2, 1, 0] ([1, 1, 1, 1, 2]) / 3 | [5, 6, 5, 6, 7] ([1, 0, 0, 1, 1]) / 10 | [19, 22, 23, 19, 21] ([1, 2, 1, 0, 1]) / 33 | [28, 28, 24, 32, 28] ([0, 0, 1, 0, 1]) / 50 | [63, 65, 49, 60, 65] ([0, 0, 0, 0, 0]) / 90 | \n",
      "250: \n",
      "[0.01 0.01 0.01 0.01 0.01]s - [0.02 0.01 0.02 0.01 0.01]s - [0.01 0.01 0.01 0.01 0.01]s - [0.01 0.01 0.01 0.02 0.01]s - [0.01 0.01 0.02 0.01 0.01]s | [4, 5, 7, 5, 5] ([2, 5, 3, 2, 1]) / 7 | [13, 16, 14, 16, 15] ([1, 1, 1, 0, 2]) / 25 | [52, 50, 49, 50, 57] ([1, 1, 2, 2, 3]) / 82 | [91, 74, 80, 83, 77] ([0, 1, 1, 2, 1]) / 125 | [143, 144, 127, 120, 133] ([0, 1, 1, 1, 0]) / 225 | \n",
      "500: \n",
      "[0.03 0.03 0.03 0.03 0.03]s - [0.03 0.03 0.03 0.02 0.02]s - [0.02 0.03 0.03 0.02 0.03]s - [0.03 0.03 0.03 0.03 0.03]s - [0.03 0.03 0.03 0.03 0.05]s | [7, 10, 8, 9, 10] ([8, 3, 3, 3, 8]) / 15 | [28, 28, 24, 30, 28] ([1, 4, 4, 4, 1]) / 50 | [101, 103, 96, 106, 96] ([2, 5, 4, 4, 1]) / 165 | [156, 156, 152, 134, 139] ([4, 1, 1, 3, 1]) / 250 | [199, 203, 201, 202, 193] ([2, 1, 0, 0, 1]) / 450 | \n",
      "10000: \n",
      "20: \n",
      "[0. 0. 0. 0. 0.]s - [0. 0. 0. 0. 0.]s - [0. 0. 0. 0. 0.]s - [0. 0. 0. 0. 0.]s - [0. 0. 0. 0. 0.]s | [1, 1, 1, 1, 1] ([0, 0, 0, 0, 0]) / 1 | [1, 1, 1, 1, 1] ([0, 0, 0, 0, 0]) / 2 | [4, 3, 4, 6, 3] ([0, 0, 0, 0, 0]) / 6 | [5, 6, 5, 6, 7] ([0, 0, 0, 0, 0]) / 10 | [9, 11, 10, 12, 12] ([0, 0, 0, 0, 0]) / 18 | \n",
      "====================================================================================================\n",
      "Amount of samples = 10000\n",
      "Total used features = 100\n",
      "Informative features: 3 (3%)\n",
      "\n",
      "Seed 0\n",
      "--------------------------------------------------\n",
      "Seed 1\n",
      "--------------------------------------------------\n",
      "Seed 2\n",
      "--------------------------------------------------\n",
      "Seed 3\n",
      "--------------------------------------------------\n",
      "Seed 4\n",
      "--------------------------------------------------\n",
      "Average time: 0.01 seconds\n",
      "Found features: [2, 3, 2, 2, 1]\n",
      "Found 1.2 of 3 informative features\n",
      "0.8 of 2.0 outputted powershap features are noise features\n",
      "====================================================================================================\n",
      "Amount of samples = 10000\n",
      "Total used features = 100\n",
      "Informative features: 10 (10%)\n",
      "\n",
      "Seed 0\n",
      "--------------------------------------------------\n",
      "Seed 1\n",
      "--------------------------------------------------\n",
      "Seed 2\n",
      "--------------------------------------------------\n",
      "Seed 3\n",
      "--------------------------------------------------\n",
      "Seed 4\n",
      "--------------------------------------------------\n",
      "Average time: 0.01 seconds\n",
      "Found features: [5, 6, 8, 7, 8]\n",
      "Found 5.8 of 10 informative features\n",
      "1.0 of 6.8 outputted powershap features are noise features\n",
      "====================================================================================================\n",
      "Amount of samples = 10000\n",
      "Total used features = 100\n",
      "Informative features: 33 (33%)\n",
      "\n",
      "Seed 0\n",
      "--------------------------------------------------\n",
      "Seed 1\n",
      "--------------------------------------------------\n",
      "Seed 2\n",
      "--------------------------------------------------\n",
      "Seed 3\n",
      "--------------------------------------------------\n",
      "Seed 4\n",
      "--------------------------------------------------\n",
      "Average time: 0.01 seconds\n",
      "Found features: [20, 23, 23, 19, 22]\n",
      "Found 20.8 of 33 informative features\n",
      "0.6 of 21.4 outputted powershap features are noise features\n",
      "====================================================================================================\n",
      "Amount of samples = 10000\n",
      "Total used features = 100\n",
      "Informative features: 50 (50%)\n",
      "\n",
      "Seed 0\n",
      "--------------------------------------------------\n",
      "Seed 1\n",
      "--------------------------------------------------\n",
      "Seed 2\n",
      "--------------------------------------------------\n",
      "Seed 3\n",
      "--------------------------------------------------\n",
      "Seed 4\n",
      "--------------------------------------------------\n",
      "Average time: 0.01 seconds\n",
      "Found features: [28, 29, 25, 31, 29]\n",
      "Found 27.6 of 50 informative features\n",
      "0.8 of 28.4 outputted powershap features are noise features\n",
      "====================================================================================================\n",
      "Amount of samples = 10000\n",
      "Total used features = 100\n",
      "Informative features: 90 (90%)\n",
      "\n",
      "Seed 0\n",
      "--------------------------------------------------\n",
      "Seed 1\n",
      "--------------------------------------------------\n",
      "Seed 2\n",
      "--------------------------------------------------\n",
      "Seed 3\n",
      "--------------------------------------------------\n",
      "Seed 4\n",
      "--------------------------------------------------\n",
      "Average time: 0.01 seconds\n",
      "Found features: [62, 65, 49, 60, 65]\n",
      "Found 60.2 of 90 informative features\n",
      "0.0 of 60.2 outputted powershap features are noise features\n",
      "====================================================================================================\n",
      "5000: \n",
      "20: \n",
      "[0. 0. 0. 0. 0.]s - [0. 0. 0. 0. 0.]s - [0. 0. 0. 0. 0.]s - [0. 0. 0. 0. 0.]s - [0. 0. 0. 0. 0.]s | [1, 1, 1, 1, 1] ([0, 1, 0, 0, 2]) / 1 | [1, 1, 1, 1, 1] ([0, 1, 0, 0, 0]) / 2 | [4, 3, 4, 6, 3] ([0, 0, 0, 0, 0]) / 6 | [5, 6, 5, 6, 7] ([0, 0, 0, 0, 0]) / 10 | [9, 11, 10, 12, 12] ([0, 0, 0, 0, 0]) / 18 | \n",
      "100: \n",
      "[0.01 0.01 0.01 0.01 0.01]s - [0.01 0.01 0.01 0.01 0.01]s - [0.01 0.01 0.01 0.01 0.01]s - [0.01 0.01 0.01 0.01 0.01]s - [0.01 0.01 0.01 0.01 0.01]s | [1, 2, 2, 1, 0] ([1, 1, 1, 1, 2]) / 3 | [5, 6, 5, 6, 7] ([1, 0, 0, 1, 1]) / 10 | [19, 22, 23, 19, 21] ([1, 2, 1, 0, 1]) / 33 | [28, 28, 24, 32, 28] ([0, 0, 1, 0, 1]) / 50 | [63, 65, 49, 60, 65] ([0, 0, 0, 0, 0]) / 90 | \n",
      "250: \n",
      "[0.01 0.01 0.01 0.01 0.01]s - [0.02 0.01 0.02 0.01 0.01]s - [0.01 0.01 0.01 0.01 0.01]s - [0.01 0.01 0.01 0.02 0.01]s - [0.01 0.01 0.02 0.01 0.01]s | [4, 5, 7, 5, 5] ([2, 5, 3, 2, 1]) / 7 | [13, 16, 14, 16, 15] ([1, 1, 1, 0, 2]) / 25 | [52, 50, 49, 50, 57] ([1, 1, 2, 2, 3]) / 82 | [91, 74, 80, 83, 77] ([0, 1, 1, 2, 1]) / 125 | [143, 144, 127, 120, 133] ([0, 1, 1, 1, 0]) / 225 | \n",
      "500: \n",
      "[0.03 0.03 0.03 0.03 0.03]s - [0.03 0.03 0.03 0.02 0.02]s - [0.02 0.03 0.03 0.02 0.03]s - [0.03 0.03 0.03 0.03 0.03]s - [0.03 0.03 0.03 0.03 0.05]s | [7, 10, 8, 9, 10] ([8, 3, 3, 3, 8]) / 15 | [28, 28, 24, 30, 28] ([1, 4, 4, 4, 1]) / 50 | [101, 103, 96, 106, 96] ([2, 5, 4, 4, 1]) / 165 | [156, 156, 152, 134, 139] ([4, 1, 1, 3, 1]) / 250 | [199, 203, 201, 202, 193] ([2, 1, 0, 0, 1]) / 450 | \n",
      "10000: \n",
      "20: \n",
      "[0. 0. 0. 0. 0.]s - [0. 0. 0. 0. 0.]s - [0. 0. 0. 0. 0.]s - [0. 0. 0. 0. 0.]s - [0. 0. 0. 0. 0.]s | [1, 1, 1, 1, 1] ([0, 0, 0, 0, 0]) / 1 | [1, 1, 1, 1, 1] ([0, 0, 0, 0, 0]) / 2 | [4, 3, 4, 6, 3] ([0, 0, 0, 0, 0]) / 6 | [5, 6, 5, 6, 7] ([0, 0, 0, 0, 0]) / 10 | [9, 11, 10, 12, 12] ([0, 0, 0, 0, 0]) / 18 | \n",
      "100: \n",
      "[0.01 0.01 0.01 0.01 0.01]s - [0.01 0.01 0.01 0.01 0.01]s - [0.01 0.01 0.01 0.01 0.01]s - [0.01 0.01 0.01 0.01 0.01]s - [0.01 0.01 0.01 0.01 0.01]s | [1, 2, 2, 1, 0] ([1, 1, 0, 1, 1]) / 3 | [5, 6, 5, 6, 7] ([0, 0, 3, 1, 1]) / 10 | [19, 22, 23, 19, 21] ([1, 1, 0, 0, 1]) / 33 | [28, 28, 24, 30, 28] ([0, 1, 1, 1, 1]) / 50 | [62, 65, 49, 60, 65] ([0, 0, 0, 0, 0]) / 90 | \n",
      "====================================================================================================\n",
      "Amount of samples = 10000\n",
      "Total used features = 250\n",
      "Informative features: 7 (3%)\n",
      "\n",
      "Seed 0\n",
      "--------------------------------------------------\n",
      "Seed 1\n",
      "--------------------------------------------------\n",
      "Seed 2\n",
      "--------------------------------------------------\n",
      "Seed 3\n",
      "--------------------------------------------------\n",
      "Seed 4\n",
      "--------------------------------------------------\n",
      "Average time: 0.03 seconds\n",
      "Found features: [6, 9, 8, 10, 6]\n",
      "Found 5.2 of 7 informative features\n",
      "2.6 of 7.8 outputted powershap features are noise features\n",
      "====================================================================================================\n",
      "Amount of samples = 10000\n",
      "Total used features = 250\n",
      "Informative features: 25 (10%)\n",
      "\n",
      "Seed 0\n",
      "--------------------------------------------------\n",
      "Seed 1\n",
      "--------------------------------------------------\n",
      "Seed 2\n",
      "--------------------------------------------------\n",
      "Seed 3\n",
      "--------------------------------------------------\n",
      "Seed 4\n",
      "--------------------------------------------------\n",
      "Average time: 0.03 seconds\n",
      "Found features: [18, 17, 15, 20, 14]\n",
      "Found 14.8 of 25 informative features\n",
      "2.0 of 16.8 outputted powershap features are noise features\n",
      "====================================================================================================\n",
      "Amount of samples = 10000\n",
      "Total used features = 250\n",
      "Informative features: 82 (33%)\n",
      "\n",
      "Seed 0\n",
      "--------------------------------------------------\n",
      "Seed 1\n",
      "--------------------------------------------------\n",
      "Seed 2\n",
      "--------------------------------------------------\n",
      "Seed 3\n",
      "--------------------------------------------------\n",
      "Seed 4\n",
      "--------------------------------------------------\n",
      "Average time: 0.03 seconds\n",
      "Found features: [53, 51, 55, 51, 61]\n",
      "Found 51.8 of 82 informative features\n",
      "2.4 of 54.2 outputted powershap features are noise features\n",
      "====================================================================================================\n",
      "Amount of samples = 10000\n",
      "Total used features = 250\n",
      "Informative features: 125 (50%)\n",
      "\n",
      "Seed 0\n",
      "--------------------------------------------------\n",
      "Seed 1\n",
      "--------------------------------------------------\n",
      "Seed 2\n",
      "--------------------------------------------------\n",
      "Seed 3\n",
      "--------------------------------------------------\n",
      "Seed 4\n",
      "--------------------------------------------------\n",
      "Average time: 0.03 seconds\n",
      "Found features: [92, 78, 82, 81, 79]\n",
      "Found 80.6 of 125 informative features\n",
      "1.8 of 82.4 outputted powershap features are noise features\n",
      "====================================================================================================\n",
      "Amount of samples = 10000\n",
      "Total used features = 250\n",
      "Informative features: 225 (90%)\n",
      "\n",
      "Seed 0\n",
      "--------------------------------------------------\n",
      "Seed 1\n",
      "--------------------------------------------------\n",
      "Seed 2\n",
      "--------------------------------------------------\n",
      "Seed 3\n",
      "--------------------------------------------------\n",
      "Seed 4\n",
      "--------------------------------------------------\n",
      "Average time: 0.02 seconds\n",
      "Found features: [151, 149, 138, 131, 142]\n",
      "Found 142.2 of 225 informative features\n",
      "0.0 of 142.2 outputted powershap features are noise features\n",
      "====================================================================================================\n",
      "5000: \n",
      "20: \n",
      "[0. 0. 0. 0. 0.]s - [0. 0. 0. 0. 0.]s - [0. 0. 0. 0. 0.]s - [0. 0. 0. 0. 0.]s - [0. 0. 0. 0. 0.]s | [1, 1, 1, 1, 1] ([0, 1, 0, 0, 2]) / 1 | [1, 1, 1, 1, 1] ([0, 1, 0, 0, 0]) / 2 | [4, 3, 4, 6, 3] ([0, 0, 0, 0, 0]) / 6 | [5, 6, 5, 6, 7] ([0, 0, 0, 0, 0]) / 10 | [9, 11, 10, 12, 12] ([0, 0, 0, 0, 0]) / 18 | \n",
      "100: \n",
      "[0.01 0.01 0.01 0.01 0.01]s - [0.01 0.01 0.01 0.01 0.01]s - [0.01 0.01 0.01 0.01 0.01]s - [0.01 0.01 0.01 0.01 0.01]s - [0.01 0.01 0.01 0.01 0.01]s | [1, 2, 2, 1, 0] ([1, 1, 1, 1, 2]) / 3 | [5, 6, 5, 6, 7] ([1, 0, 0, 1, 1]) / 10 | [19, 22, 23, 19, 21] ([1, 2, 1, 0, 1]) / 33 | [28, 28, 24, 32, 28] ([0, 0, 1, 0, 1]) / 50 | [63, 65, 49, 60, 65] ([0, 0, 0, 0, 0]) / 90 | \n",
      "250: \n",
      "[0.01 0.01 0.01 0.01 0.01]s - [0.02 0.01 0.02 0.01 0.01]s - [0.01 0.01 0.01 0.01 0.01]s - [0.01 0.01 0.01 0.02 0.01]s - [0.01 0.01 0.02 0.01 0.01]s | [4, 5, 7, 5, 5] ([2, 5, 3, 2, 1]) / 7 | [13, 16, 14, 16, 15] ([1, 1, 1, 0, 2]) / 25 | [52, 50, 49, 50, 57] ([1, 1, 2, 2, 3]) / 82 | [91, 74, 80, 83, 77] ([0, 1, 1, 2, 1]) / 125 | [143, 144, 127, 120, 133] ([0, 1, 1, 1, 0]) / 225 | \n",
      "500: \n",
      "[0.03 0.03 0.03 0.03 0.03]s - [0.03 0.03 0.03 0.02 0.02]s - [0.02 0.03 0.03 0.02 0.03]s - [0.03 0.03 0.03 0.03 0.03]s - [0.03 0.03 0.03 0.03 0.05]s | [7, 10, 8, 9, 10] ([8, 3, 3, 3, 8]) / 15 | [28, 28, 24, 30, 28] ([1, 4, 4, 4, 1]) / 50 | [101, 103, 96, 106, 96] ([2, 5, 4, 4, 1]) / 165 | [156, 156, 152, 134, 139] ([4, 1, 1, 3, 1]) / 250 | [199, 203, 201, 202, 193] ([2, 1, 0, 0, 1]) / 450 | \n",
      "10000: \n",
      "20: \n",
      "[0. 0. 0. 0. 0.]s - [0. 0. 0. 0. 0.]s - [0. 0. 0. 0. 0.]s - [0. 0. 0. 0. 0.]s - [0. 0. 0. 0. 0.]s | [1, 1, 1, 1, 1] ([0, 0, 0, 0, 0]) / 1 | [1, 1, 1, 1, 1] ([0, 0, 0, 0, 0]) / 2 | [4, 3, 4, 6, 3] ([0, 0, 0, 0, 0]) / 6 | [5, 6, 5, 6, 7] ([0, 0, 0, 0, 0]) / 10 | [9, 11, 10, 12, 12] ([0, 0, 0, 0, 0]) / 18 | \n",
      "100: \n",
      "[0.01 0.01 0.01 0.01 0.01]s - [0.01 0.01 0.01 0.01 0.01]s - [0.01 0.01 0.01 0.01 0.01]s - [0.01 0.01 0.01 0.01 0.01]s - [0.01 0.01 0.01 0.01 0.01]s | [1, 2, 2, 1, 0] ([1, 1, 0, 1, 1]) / 3 | [5, 6, 5, 6, 7] ([0, 0, 3, 1, 1]) / 10 | [19, 22, 23, 19, 21] ([1, 1, 0, 0, 1]) / 33 | [28, 28, 24, 30, 28] ([0, 1, 1, 1, 1]) / 50 | [62, 65, 49, 60, 65] ([0, 0, 0, 0, 0]) / 90 | \n",
      "250: \n",
      "[0.02 0.02 0.03 0.03 0.03]s - [0.03 0.03 0.03 0.03 0.03]s - [0.03 0.02 0.03 0.02 0.03]s - [0.03 0.03 0.03 0.03 0.02]s - [0.02 0.03 0.02 0.03 0.02]s | [4, 5, 7, 5, 5] ([2, 4, 1, 5, 1]) / 7 | [14, 16, 14, 16, 14] ([4, 1, 1, 4, 0]) / 25 | [52, 51, 49, 50, 57] ([1, 0, 6, 1, 4]) / 82 | [90, 74, 80, 81, 78] ([2, 4, 2, 0, 1]) / 125 | [151, 149, 138, 131, 142] ([0, 0, 0, 0, 0]) / 225 | \n",
      "====================================================================================================\n",
      "Amount of samples = 10000\n",
      "Total used features = 500\n",
      "Informative features: 15 (3%)\n",
      "\n",
      "Seed 0\n",
      "--------------------------------------------------\n",
      "Seed 1\n",
      "--------------------------------------------------\n",
      "Seed 2\n",
      "--------------------------------------------------\n",
      "Seed 3\n",
      "--------------------------------------------------\n",
      "Seed 4\n",
      "--------------------------------------------------\n",
      "Average time: 0.05 seconds\n",
      "Found features: [13, 14, 11, 10, 18]\n",
      "Found 9.2 of 15 informative features\n",
      "4.0 of 13.2 outputted powershap features are noise features\n",
      "====================================================================================================\n",
      "Amount of samples = 10000\n",
      "Total used features = 500\n",
      "Informative features: 50 (10%)\n",
      "\n",
      "Seed 0\n",
      "--------------------------------------------------\n",
      "Seed 1\n",
      "--------------------------------------------------\n",
      "Seed 2\n",
      "--------------------------------------------------\n",
      "Seed 3\n",
      "--------------------------------------------------\n",
      "Seed 4\n",
      "--------------------------------------------------\n",
      "Average time: 0.06 seconds\n",
      "Found features: [34, 31, 27, 37, 33]\n",
      "Found 27.8 of 50 informative features\n",
      "4.6 of 32.4 outputted powershap features are noise features\n",
      "====================================================================================================\n",
      "Amount of samples = 10000\n",
      "Total used features = 500\n",
      "Informative features: 165 (33%)\n",
      "\n",
      "Seed 0\n",
      "--------------------------------------------------\n",
      "Seed 1\n",
      "--------------------------------------------------\n",
      "Seed 2\n",
      "--------------------------------------------------\n",
      "Seed 3\n",
      "--------------------------------------------------\n",
      "Seed 4\n",
      "--------------------------------------------------\n",
      "Average time: 0.05 seconds\n",
      "Found features: [105, 106, 102, 114, 106]\n",
      "Found 102.8 of 165 informative features\n",
      "3.8 of 106.6 outputted powershap features are noise features\n",
      "====================================================================================================\n",
      "Amount of samples = 10000\n",
      "Total used features = 500\n",
      "Informative features: 250 (50%)\n",
      "\n",
      "Seed 0\n",
      "--------------------------------------------------\n",
      "Seed 1\n",
      "--------------------------------------------------\n",
      "Seed 2\n",
      "--------------------------------------------------\n",
      "Seed 3\n",
      "--------------------------------------------------\n",
      "Seed 4\n",
      "--------------------------------------------------\n",
      "Average time: 0.05 seconds\n",
      "Found features: [172, 165, 166, 157, 155]\n",
      "Found 160.4 of 250 informative features\n",
      "2.6 of 163.0 outputted powershap features are noise features\n",
      "====================================================================================================\n",
      "Amount of samples = 10000\n",
      "Total used features = 500\n",
      "Informative features: 450 (90%)\n",
      "\n",
      "Seed 0\n",
      "--------------------------------------------------\n",
      "Seed 1\n",
      "--------------------------------------------------\n",
      "Seed 2\n",
      "--------------------------------------------------\n",
      "Seed 3\n",
      "--------------------------------------------------\n",
      "Seed 4\n",
      "--------------------------------------------------\n",
      "Average time: 0.05 seconds\n",
      "Found features: [274, 275, 272, 261, 242]\n",
      "Found 264.2 of 450 informative features\n",
      "0.6 of 264.8 outputted powershap features are noise features\n",
      "====================================================================================================\n",
      "5000: \n",
      "20: \n",
      "[0. 0. 0. 0. 0.]s - [0. 0. 0. 0. 0.]s - [0. 0. 0. 0. 0.]s - [0. 0. 0. 0. 0.]s - [0. 0. 0. 0. 0.]s | [1, 1, 1, 1, 1] ([0, 1, 0, 0, 2]) / 1 | [1, 1, 1, 1, 1] ([0, 1, 0, 0, 0]) / 2 | [4, 3, 4, 6, 3] ([0, 0, 0, 0, 0]) / 6 | [5, 6, 5, 6, 7] ([0, 0, 0, 0, 0]) / 10 | [9, 11, 10, 12, 12] ([0, 0, 0, 0, 0]) / 18 | \n",
      "100: \n",
      "[0.01 0.01 0.01 0.01 0.01]s - [0.01 0.01 0.01 0.01 0.01]s - [0.01 0.01 0.01 0.01 0.01]s - [0.01 0.01 0.01 0.01 0.01]s - [0.01 0.01 0.01 0.01 0.01]s | [1, 2, 2, 1, 0] ([1, 1, 1, 1, 2]) / 3 | [5, 6, 5, 6, 7] ([1, 0, 0, 1, 1]) / 10 | [19, 22, 23, 19, 21] ([1, 2, 1, 0, 1]) / 33 | [28, 28, 24, 32, 28] ([0, 0, 1, 0, 1]) / 50 | [63, 65, 49, 60, 65] ([0, 0, 0, 0, 0]) / 90 | \n",
      "250: \n",
      "[0.01 0.01 0.01 0.01 0.01]s - [0.02 0.01 0.02 0.01 0.01]s - [0.01 0.01 0.01 0.01 0.01]s - [0.01 0.01 0.01 0.02 0.01]s - [0.01 0.01 0.02 0.01 0.01]s | [4, 5, 7, 5, 5] ([2, 5, 3, 2, 1]) / 7 | [13, 16, 14, 16, 15] ([1, 1, 1, 0, 2]) / 25 | [52, 50, 49, 50, 57] ([1, 1, 2, 2, 3]) / 82 | [91, 74, 80, 83, 77] ([0, 1, 1, 2, 1]) / 125 | [143, 144, 127, 120, 133] ([0, 1, 1, 1, 0]) / 225 | \n",
      "500: \n",
      "[0.03 0.03 0.03 0.03 0.03]s - [0.03 0.03 0.03 0.02 0.02]s - [0.02 0.03 0.03 0.02 0.03]s - [0.03 0.03 0.03 0.03 0.03]s - [0.03 0.03 0.03 0.03 0.05]s | [7, 10, 8, 9, 10] ([8, 3, 3, 3, 8]) / 15 | [28, 28, 24, 30, 28] ([1, 4, 4, 4, 1]) / 50 | [101, 103, 96, 106, 96] ([2, 5, 4, 4, 1]) / 165 | [156, 156, 152, 134, 139] ([4, 1, 1, 3, 1]) / 250 | [199, 203, 201, 202, 193] ([2, 1, 0, 0, 1]) / 450 | \n",
      "10000: \n",
      "20: \n",
      "[0. 0. 0. 0. 0.]s - [0. 0. 0. 0. 0.]s - [0. 0. 0. 0. 0.]s - [0. 0. 0. 0. 0.]s - [0. 0. 0. 0. 0.]s | [1, 1, 1, 1, 1] ([0, 0, 0, 0, 0]) / 1 | [1, 1, 1, 1, 1] ([0, 0, 0, 0, 0]) / 2 | [4, 3, 4, 6, 3] ([0, 0, 0, 0, 0]) / 6 | [5, 6, 5, 6, 7] ([0, 0, 0, 0, 0]) / 10 | [9, 11, 10, 12, 12] ([0, 0, 0, 0, 0]) / 18 | \n",
      "100: \n",
      "[0.01 0.01 0.01 0.01 0.01]s - [0.01 0.01 0.01 0.01 0.01]s - [0.01 0.01 0.01 0.01 0.01]s - [0.01 0.01 0.01 0.01 0.01]s - [0.01 0.01 0.01 0.01 0.01]s | [1, 2, 2, 1, 0] ([1, 1, 0, 1, 1]) / 3 | [5, 6, 5, 6, 7] ([0, 0, 3, 1, 1]) / 10 | [19, 22, 23, 19, 21] ([1, 1, 0, 0, 1]) / 33 | [28, 28, 24, 30, 28] ([0, 1, 1, 1, 1]) / 50 | [62, 65, 49, 60, 65] ([0, 0, 0, 0, 0]) / 90 | \n",
      "250: \n",
      "[0.02 0.02 0.03 0.03 0.03]s - [0.03 0.03 0.03 0.03 0.03]s - [0.03 0.02 0.03 0.02 0.03]s - [0.03 0.03 0.03 0.03 0.02]s - [0.02 0.03 0.02 0.03 0.02]s | [4, 5, 7, 5, 5] ([2, 4, 1, 5, 1]) / 7 | [14, 16, 14, 16, 14] ([4, 1, 1, 4, 0]) / 25 | [52, 51, 49, 50, 57] ([1, 0, 6, 1, 4]) / 82 | [90, 74, 80, 81, 78] ([2, 4, 2, 0, 1]) / 125 | [151, 149, 138, 131, 142] ([0, 0, 0, 0, 0]) / 225 | \n",
      "500: \n",
      "[0.06 0.05 0.05 0.05 0.05]s - [0.08 0.05 0.05 0.05 0.05]s - [0.05 0.05 0.05 0.05 0.05]s - [0.06 0.05 0.05 0.05 0.05]s - [0.05 0.06 0.05 0.05 0.05]s | [9, 10, 8, 9, 10] ([4, 4, 3, 1, 8]) / 15 | [28, 28, 24, 31, 28] ([6, 3, 3, 6, 5]) / 50 | [101, 104, 100, 111, 98] ([4, 2, 2, 3, 8]) / 165 | [169, 164, 163, 154, 152] ([3, 1, 3, 3, 3]) / 250 | [272, 275, 272, 260, 242] ([2, 0, 0, 1, 0]) / 450 | \n",
      "====================================================================================================\n"
     ]
    }
   ],
   "source": [
    "from sklearn.feature_selection import f_classif\n",
    "\n",
    "for hypercube in [True]:\n",
    "    output_dict = {}\n",
    "    for n_samples in [5000, 10000]:\n",
    "        output_dict[str(n_samples)]={}\n",
    "        for n_features in [20,100,250,500]:\n",
    "            output_dict[str(n_samples)][str(n_features)]={}\n",
    "            \n",
    "            average_times = []\n",
    "            output_dict[str(n_samples)][str(n_features)][\"Average time\"]=average_times\n",
    "            for n_informative in [3,10,33,50,90]:\n",
    "                output_dict[str(n_samples)][str(n_features)][str(n_informative)+\"%\"]={}\n",
    "                print(\"Amount of samples = \"+str(n_samples))\n",
    "                print(\"Total used features = \"+str(n_features))\n",
    "                n_inform = int(n_informative/100*n_features)\n",
    "                if n_inform < 1:\n",
    "                    n_inform = 1\n",
    "                print(\"Informative features: \"+str(n_inform)+\" (\"+str(n_informative)+\"%)\")\n",
    "                print(\"\")\n",
    "                \n",
    "                found_features = []\n",
    "                found_idx_features = []\n",
    "                times = []\n",
    "                for random_seed in [0,1,2,3,4]:\n",
    "                    print(\"Seed \"+str(random_seed))\n",
    "                    \n",
    "                    if n_inform == 1:\n",
    "                        X, y = make_classification(n_samples=n_samples, n_classes=2, n_features=n_features, hypercube=hypercube, n_informative=1, n_redundant=0, n_repeated = 0,shuffle=False,random_state=random_seed, n_clusters_per_class=1)\n",
    "                    else:\n",
    "                        X, y = make_classification(n_samples=n_samples, n_classes=2, n_features=n_features, hypercube=hypercube, n_informative=n_inform, n_redundant=0, n_repeated = 0,shuffle=False,random_state=random_seed)                        \n",
    "                    \n",
    "                    X = pd.DataFrame(data=X, columns=[f\"col_{i}\" for i in range(n_features)])\n",
    "                    \n",
    "                    start_time = time.time()\n",
    "\n",
    "                    selected_features = list(X.columns.values[np.where(f_classif(X,y)[1]<0.01)[0]])\n",
    "                    \n",
    "                    times.append(time.time() - start_time)\n",
    "                    \n",
    "                    print(50*\"-\")\n",
    "                    \n",
    "                    found_features.append(len(selected_features))\n",
    "                    found_idx_features.append(selected_features)\n",
    "                    \n",
    "                found_informative_features = [np.sum(np.isin(X.columns.values[:n_inform],f_list)) for f_list in found_idx_features]\n",
    "                found_noise_features = [np.sum(1-np.isin(f_list,X.columns.values[:n_inform])) for f_list in found_idx_features]\n",
    "                print(\"Average time: \"+str(np.round(np.mean(times),2))+\" seconds\")\n",
    "                print(\"Found features: \"+str(found_features))#len(processed_shaps_df[processed_shaps_df.p_value<0.01])))\n",
    "                print(\"Found \"+str(np.mean(found_informative_features))+\" of \"+str(n_inform)+\" informative features\")\n",
    "                print(str(np.mean(found_noise_features))+\" of \"+str(np.mean(found_features))+\" outputted powershap features are noise features\")\n",
    "                \n",
    "                average_times.append(np.round(times,2))\n",
    "                \n",
    "                output_dict[str(n_samples)][str(n_features)][str(n_informative)+\"%\"][\"informative_features\"]=n_inform\n",
    "                output_dict[str(n_samples)][str(n_features)][str(n_informative)+\"%\"][\"found_informative_features\"]=found_informative_features\n",
    "                output_dict[str(n_samples)][str(n_features)][str(n_informative)+\"%\"][\"outputted_noise_features\"]=found_noise_features\n",
    "                \n",
    "                print(100*\"=\")\n",
    "                \n",
    "            output_dict[str(n_samples)][str(n_features)][\"Average time\"]=average_times\n",
    "            benchmark_dict_print(output_dict)\n",
    "            print(100*\"=\")\n",
    "        \n",
    "    if not hypercube:\n",
    "        output_dict_to_df(output_dict).to_csv(f\"../results/{sub}/make_classi_f_test_output_df.csv\",index=False)\n",
    "    else:\n",
    "        output_dict_to_df(output_dict).to_csv(f\"../results/{sub}/make_classi_f_test_output_df_hypercube.csv\",index=False)"
   ]
  },
  {
   "cell_type": "code",
   "execution_count": null,
   "id": "b7213c6c-3196-479e-9157-69e1c059e8be",
   "metadata": {},
   "outputs": [],
   "source": []
  }
 ],
 "metadata": {
  "kernelspec": {
   "display_name": "Python 3 (ipykernel)",
   "language": "python",
   "name": "python3"
  },
  "language_info": {
   "codemirror_mode": {
    "name": "ipython",
    "version": 3
   },
   "file_extension": ".py",
   "mimetype": "text/x-python",
   "name": "python",
   "nbconvert_exporter": "python",
   "pygments_lexer": "ipython3",
   "version": "3.10.13"
  }
 },
 "nbformat": 4,
 "nbformat_minor": 5
}
